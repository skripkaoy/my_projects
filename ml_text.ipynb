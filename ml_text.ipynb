{
 "cells": [
  {
   "cell_type": "markdown",
   "metadata": {
    "toc": true
   },
   "source": [
    "<h1>Содержание<span class=\"tocSkip\"></span></h1>\n",
    "<div class=\"toc\"><ul class=\"toc-item\"><li><span><a href=\"#Подготовка-данных\" data-toc-modified-id=\"Подготовка-данных-1\"><span class=\"toc-item-num\">1&nbsp;&nbsp;</span>Подготовка данных</a></span><ul class=\"toc-item\"><li><span><a href=\"#Загрузка-библиотек\" data-toc-modified-id=\"Загрузка-библиотек-1.1\"><span class=\"toc-item-num\">1.1&nbsp;&nbsp;</span>Загрузка библиотек</a></span></li><li><span><a href=\"#Функции\" data-toc-modified-id=\"Функции-1.2\"><span class=\"toc-item-num\">1.2&nbsp;&nbsp;</span>Функции</a></span></li><li><span><a href=\"#Обзор-данных\" data-toc-modified-id=\"Обзор-данных-1.3\"><span class=\"toc-item-num\">1.3&nbsp;&nbsp;</span>Обзор данных</a></span><ul class=\"toc-item\"><li><span><a href=\"#Загрузка-данных\" data-toc-modified-id=\"Загрузка-данных-1.3.1\"><span class=\"toc-item-num\">1.3.1&nbsp;&nbsp;</span>Загрузка данных</a></span></li><li><span><a href=\"#Предварительный-анализ-данных\" data-toc-modified-id=\"Предварительный-анализ-данных-1.3.2\"><span class=\"toc-item-num\">1.3.2&nbsp;&nbsp;</span>Предварительный анализ данных</a></span></li></ul></li></ul></li><li><span><a href=\"#Обучение\" data-toc-modified-id=\"Обучение-2\"><span class=\"toc-item-num\">2&nbsp;&nbsp;</span>Обучение</a></span><ul class=\"toc-item\"><li><span><a href=\"#Очистка-и-лемматизация\" data-toc-modified-id=\"Очистка-и-лемматизация-2.1\"><span class=\"toc-item-num\">2.1&nbsp;&nbsp;</span>Очистка и лемматизация</a></span></li><li><span><a href=\"#Деление-на-выборки\" data-toc-modified-id=\"Деление-на-выборки-2.2\"><span class=\"toc-item-num\">2.2&nbsp;&nbsp;</span>Деление на выборки</a></span></li><li><span><a href=\"#Обучение-моделей\" data-toc-modified-id=\"Обучение-моделей-2.3\"><span class=\"toc-item-num\">2.3&nbsp;&nbsp;</span>Обучение моделей</a></span><ul class=\"toc-item\"><li><span><a href=\"#LogisticRegression\" data-toc-modified-id=\"LogisticRegression-2.3.1\"><span class=\"toc-item-num\">2.3.1&nbsp;&nbsp;</span>LogisticRegression</a></span></li><li><span><a href=\"#DecisionTreeClassifier\" data-toc-modified-id=\"DecisionTreeClassifier-2.3.2\"><span class=\"toc-item-num\">2.3.2&nbsp;&nbsp;</span>DecisionTreeClassifier</a></span></li><li><span><a href=\"#RandomForestClassifier\" data-toc-modified-id=\"RandomForestClassifier-2.3.3\"><span class=\"toc-item-num\">2.3.3&nbsp;&nbsp;</span>RandomForestClassifier</a></span></li><li><span><a href=\"#LightGBM\" data-toc-modified-id=\"LightGBM-2.3.4\"><span class=\"toc-item-num\">2.3.4&nbsp;&nbsp;</span>LightGBM</a></span></li></ul></li><li><span><a href=\"#Выбор-модели\" data-toc-modified-id=\"Выбор-модели-2.4\"><span class=\"toc-item-num\">2.4&nbsp;&nbsp;</span>Выбор модели</a></span></li></ul></li><li><span><a href=\"#Тестирование-модели\" data-toc-modified-id=\"Тестирование-модели-3\"><span class=\"toc-item-num\">3&nbsp;&nbsp;</span>Тестирование модели</a></span></li><li><span><a href=\"#Выводы\" data-toc-modified-id=\"Выводы-4\"><span class=\"toc-item-num\">4&nbsp;&nbsp;</span>Выводы</a></span></li><li><span><a href=\"#Чек-лист-проверки\" data-toc-modified-id=\"Чек-лист-проверки-5\"><span class=\"toc-item-num\">5&nbsp;&nbsp;</span>Чек-лист проверки</a></span></li></ul></div>"
   ]
  },
  {
   "cell_type": "markdown",
   "metadata": {},
   "source": [
    "# Проект для «Викишоп»"
   ]
  },
  {
   "cell_type": "markdown",
   "metadata": {},
   "source": [
    "**Цель исследования** — на основе набора данных с разметкой о токсичности правок интернет-магазина «Викишоп» необходимо создать модель, классифицирующую комментарии на позитивные и негативные. Это необходимо для нового сервиса интернет-магазина: теперь пользователи могут редактировать и дополнять описания товаров, как в вики-сообществах. То есть клиенты предлагают свои правки и комментируют изменения других. Магазину нужен инструмент, который будет искать токсичные комментарии и отправлять их на модерацию. \n",
    "\n",
    "**Ход исследования**\n",
    "\n",
    "Исследование пройдёт в пять этапов:\n",
    " 1. Обзор данных.\n",
    " 2. Анализ данных.\n",
    " 3. Подготовка данных.\n",
    " 4. Построение и обучение моделей.\n",
    " 5. Тестирование.\n",
    "\n",
    "**Описание данных:**\n",
    "\n",
    "Набор данных находится в файле `/datasets/toxic_comments.csv`\n",
    "\n",
    "- **Признаки**\n",
    "\n",
    "`text` — текст комментария\n",
    "\n",
    "- **Целевой признак**\n",
    "\n",
    "`toxic` — токсичность комментария\n",
    "\n",
    "**Требования:**\n",
    "\n",
    "Значение метрики качества *F1* должно быть не меньше 0.75. "
   ]
  },
  {
   "cell_type": "markdown",
   "metadata": {},
   "source": [
    "## Подготовка данных"
   ]
  },
  {
   "cell_type": "markdown",
   "metadata": {},
   "source": [
    "### Загрузка библиотек"
   ]
  },
  {
   "cell_type": "code",
   "execution_count": 1,
   "metadata": {},
   "outputs": [
    {
     "name": "stdout",
     "output_type": "stream",
     "text": [
      "Requirement already satisfied: imbalanced-learn in /opt/conda/lib/python3.9/site-packages (0.11.0)\n",
      "Requirement already satisfied: numpy>=1.17.3 in /opt/conda/lib/python3.9/site-packages (from imbalanced-learn) (1.21.1)\n",
      "Requirement already satisfied: joblib>=1.1.1 in /opt/conda/lib/python3.9/site-packages (from imbalanced-learn) (1.3.2)\n",
      "Requirement already satisfied: scikit-learn>=1.0.2 in /opt/conda/lib/python3.9/site-packages (from imbalanced-learn) (1.3.2)\n",
      "Requirement already satisfied: threadpoolctl>=2.0.0 in /opt/conda/lib/python3.9/site-packages (from imbalanced-learn) (3.1.0)\n",
      "Requirement already satisfied: scipy>=1.5.0 in /opt/conda/lib/python3.9/site-packages (from imbalanced-learn) (1.9.1)\n"
     ]
    }
   ],
   "source": [
    "!pip install -U imbalanced-learn"
   ]
  },
  {
   "cell_type": "code",
   "execution_count": 2,
   "metadata": {},
   "outputs": [],
   "source": [
    "import pandas as pd\n",
    "import numpy as np\n",
    "import matplotlib\n",
    "import matplotlib.pyplot as plt\n",
    "import seaborn as sns\n",
    "import statistics\n",
    "import os\n",
    "import re\n",
    "import nltk\n",
    "import spacy\n",
    "from matplotlib import rcParams, rcParamsDefault\n",
    "from sklearn.model_selection import train_test_split, GridSearchCV\n",
    "from sklearn.feature_extraction.text import TfidfVectorizer\n",
    "from sklearn.linear_model import LogisticRegression\n",
    "from sklearn.tree import DecisionTreeClassifier\n",
    "from sklearn.ensemble import RandomForestClassifier\n",
    "from sklearn.metrics import roc_auc_score, f1_score, precision_score, recall_score, roc_curve, precision_recall_curve\n",
    "from sklearn.utils import shuffle\n",
    "from lightgbm import LGBMClassifier\n",
    "from imblearn.pipeline import Pipeline\n",
    "from imblearn.under_sampling import RandomUnderSampler\n",
    "from nltk.corpus import stopwords as nltk_stopwords\n",
    "\n",
    "rcParams['figure.figsize'] = 10,6"
   ]
  },
  {
   "cell_type": "code",
   "execution_count": 3,
   "metadata": {},
   "outputs": [],
   "source": [
    "pd.options.mode.chained_assignment = None # убираем предупреждение SettingWithCopy"
   ]
  },
  {
   "cell_type": "code",
   "execution_count": 4,
   "metadata": {},
   "outputs": [],
   "source": [
    "MY_RANDOM_STATE = np.random.seed(12345)"
   ]
  },
  {
   "cell_type": "markdown",
   "metadata": {},
   "source": [
    "### Функции"
   ]
  },
  {
   "cell_type": "markdown",
   "metadata": {},
   "source": [
    "Функция для балансировки классов методом Downsample."
   ]
  },
  {
   "cell_type": "code",
   "execution_count": 6,
   "metadata": {},
   "outputs": [],
   "source": [
    "# функция, которая сбалансирует выборку техникой downsampling\n",
    "def downsample(features, target, fraction):\n",
    "    '''\n",
    "    Функция принимает признаки и целевой признак, а так же значение для параметра frac и возвращает уменьшенную выборку\n",
    "    со сбалансированными классами методом Downsample \n",
    "    features - признаки\n",
    "    target - цлевой признак\n",
    "    fraction - значение для параметра frac\n",
    "    Return:\n",
    "    features_downsampled - признаки со сбалансированными классами\n",
    "    target_downsampled - целевой признак со сбалансированным классом\n",
    "    '''\n",
    "    features_zeros = features[target == 0] # выделим признаки отрицательного класса\n",
    "    features_ones = features[target == 1] # выделим признаки положительного класса\n",
    "    target_zeros = target[target == 0] # выделим целевой признак отрицательного класса\n",
    "    target_ones = target[target == 1] # выделим целевой признак положительного класса\n",
    "    # уменьшим отрицательный класс и объединим с положительным\n",
    "    features_downsampled = pd.concat(\n",
    "        [features_zeros.sample(frac=fraction, random_state=MY_RANDOM_STATE)] + [features_ones])\n",
    "    target_downsampled = pd.concat(\n",
    "        [target_zeros.sample(frac=fraction, random_state=MY_RANDOM_STATE)] + [target_ones])    \n",
    "    features_downsampled, target_downsampled = shuffle(\n",
    "        features_downsampled, target_downsampled, random_state=MY_RANDOM_STATE) # перемешаем данные \n",
    "    return features_downsampled, target_downsampled"
   ]
  },
  {
   "cell_type": "markdown",
   "metadata": {},
   "source": [
    "<font color='blue'><b>Комментарий ревьюера : </b></font> ✔️\\\n",
    "<font color='green'> 👍</font>"
   ]
  },
  {
   "cell_type": "markdown",
   "metadata": {},
   "source": [
    "Функция для очистки данных-текста."
   ]
  },
  {
   "cell_type": "code",
   "execution_count": 7,
   "metadata": {},
   "outputs": [],
   "source": [
    "def clear_text(text):\n",
    "    '''\n",
    "    Функция принимает датафрейм для очистки и возвращает датафрейм с очищенными данными-текстами\n",
    "    data - датафрейм\n",
    "    Return:\n",
    "    text - датафрейм с очищенными данными\n",
    "    '''\n",
    "    # заменяем все символ, кроме указанных в паттерне на пробелы\n",
    "    text = re.sub(r'[^A-Za-z\\' ]', ' ', text.lower())\n",
    "    # удаляем лишние пробелы - делим текст по пробелам, а затем опять объединяем через один пробел\n",
    "    text = text.split()\n",
    "    return \" \".join(text)"
   ]
  },
  {
   "cell_type": "markdown",
   "metadata": {},
   "source": [
    "Функция для лемматизации."
   ]
  },
  {
   "cell_type": "code",
   "execution_count": 8,
   "metadata": {},
   "outputs": [],
   "source": [
    "def lemmatize(text):\n",
    "    '''\n",
    "    Функция принимает текст для лемматизации и возвращает лемматизированный текст\n",
    "    text - текст для лемматизации\n",
    "    '''\n",
    "    # лемматизируем слова переданного текста и снорва их объединим\n",
    "    return \" \".join([token.lemma_ for token in nlp(text)])"
   ]
  },
  {
   "cell_type": "markdown",
   "metadata": {},
   "source": [
    "Функция для обучения моделей и подбора гиперпараметров."
   ]
  },
  {
   "cell_type": "code",
   "execution_count": 9,
   "metadata": {},
   "outputs": [],
   "source": [
    "def training(model, params, features_train, target_train):\n",
    "    '''\n",
    "    Функция принимает модель, гиперпараметры для поиска наилучших, признаки обучающей выборки, \n",
    "    целевой признак обучающей выборки, производит подбор наилучших гиперпараметров кросс-валидацией с помощью\n",
    "    GridSearchCV, обучает модель и возвращает обученную модель\n",
    "    model - модель\n",
    "    params - гиперпараметры для поиска наилучших\n",
    "    features_train - признаки обучающей выборки\n",
    "    target_train - целевой признак обучающей выборки\n",
    "    Return:\n",
    "    grid - обученная модель\n",
    "    '''\n",
    "    # создаем экземпляр GridSearchCV\n",
    "    grid = GridSearchCV(estimator=model,\n",
    "                          param_grid=params,\n",
    "                          scoring='f1',\n",
    "                          cv=3,\n",
    "                          verbose=3)\n",
    "    # запускаем обучение\n",
    "    grid.fit(features_train, target_train)\n",
    "    # выводим на экран наилучшие гиперпараметры и метрику F1\n",
    "    print('Лучший результат:', grid.best_score_)\n",
    "    print('Лучшие параметры:', grid.best_params_)\n",
    "    return grid"
   ]
  },
  {
   "cell_type": "markdown",
   "metadata": {},
   "source": [
    "Функция, которая подбирает оптимальный порог для модели и строит PR-кривую и ROC-кривую. Так же функция сохраняет лучшие метрики F1 в список для дальнейшей сводной таблицы."
   ]
  },
  {
   "cell_type": "code",
   "execution_count": 10,
   "metadata": {},
   "outputs": [],
   "source": [
    "def ml_threshold(model, data_list, score_list, threshold_list = None):\n",
    "    '''\n",
    "    Функция принимает в параметры модель, датасеты, и подбирает оптимальный порог, выводит лучшие метрики метрики, \n",
    "    и PR-кривую, ROC-кривую.\n",
    "    model - модель;\n",
    "    data_list - список, содержащий датасеты [features_valid, target_valid];\n",
    "    score_list - список, куда будут сохранены оценки (f1);\n",
    "    threshold_list - список, сохраняющий лучшее значение порога.\n",
    "    \n",
    "    '''\n",
    "    predictions = model.predict_proba(data_list[0])# найдем вероятности классов\n",
    "    probabilities_one_valid = predictions[:, 1] # вероятность положительного класса\n",
    "    best_score = 0\n",
    "    best_threshold = 0\n",
    "    \n",
    "    # цикл на перебор порога и вывод результатов на экран\n",
    "    print('Статистика модели')\n",
    "    for threshold in np.arange(0, 0.9, 0.02):\n",
    "        predicted_valid = probabilities_one_valid > threshold # находим вероятности больше порога\n",
    "        # вычисляем метрики\n",
    "        precision = precision_score(data_list[1], predicted_valid)\n",
    "        recall = recall_score(data_list[1], predicted_valid)\n",
    "        result = f1_score(data_list[1], predicted_valid)\n",
    "        print('Порог = {:.2f} | F1-мера = {:.3f}'.format(\n",
    "             threshold, result))\n",
    "        if best_score < result:\n",
    "            best_score = result\n",
    "            best_threshold = threshold\n",
    "    \n",
    "    roc_auc = roc_auc_score(data_list[1], predictions[:, 1])\n",
    "    # вывод оценок\n",
    "    print()\n",
    "    print('Лучшие оценки модели')\n",
    "    print(f'F1: {best_score:.4}')\n",
    "    print(f'AUC-ROC: {roc_auc:.4}') \n",
    "    print('Лучшее значение порога:', round(best_threshold, 2)) \n",
    "    print('_' * 40)\n",
    "    print()\n",
    "    print()\n",
    "    \n",
    "    # дополнение списка оценок\n",
    "    score_list.append(round(best_score, 4))\n",
    "    \n",
    "    if threshold_list is not None:\n",
    "        threshold_list.append(round(best_threshold, 4))\n",
    "        \n",
    "    # построим PR-кривую\n",
    "    precision, recall, thresholds = precision_recall_curve(\n",
    "        data_list[1], predictions[:, 1]\n",
    "    )    \n",
    "    plt.figure(figsize=(10, 10))\n",
    "    plt.step(recall, precision, where='post')\n",
    "    plt.xlabel('Recall')\n",
    "    plt.ylabel('Precision')\n",
    "    plt.ylim([0.0, 1.05])\n",
    "    plt.xlim([0.0, 1.0])\n",
    "    plt.title('PR-кривая')\n",
    "     \n",
    "    # построим ROC-кривую\n",
    "    fpr, tpr, thresholds = roc_curve(data_list[1], predictions[:, 1])\n",
    "    plt.figure(figsize=(10, 10))\n",
    "    plt.plot(fpr, tpr, linestyle='-')\n",
    "    plt.plot([0, 1], [0, 1], linestyle='--')\n",
    "    plt.xlim([0.0, 1.0])\n",
    "    plt.ylim([0.0, 1.0])\n",
    "    plt.xlabel('False Positive Rate')\n",
    "    plt.ylabel('True Positive Rate')\n",
    "    plt.title('ROC-кривая')\n",
    "   \n",
    "    plt.show()"
   ]
  },
  {
   "cell_type": "markdown",
   "metadata": {},
   "source": [
    "### Обзор данных"
   ]
  },
  {
   "cell_type": "markdown",
   "metadata": {},
   "source": [
    "#### Загрузка данных"
   ]
  },
  {
   "cell_type": "markdown",
   "metadata": {},
   "source": [
    "Считаем данные из csv-файла `/datasets/toxic_comments.csv` в датафрейм и сохраним в переменную `data`."
   ]
  },
  {
   "cell_type": "code",
   "execution_count": 11,
   "metadata": {},
   "outputs": [],
   "source": [
    "# чтение файла с данными и сохранение в data\n",
    "pth1 = '/datasets/toxic_comments.csv'\n",
    "pth2 = 'https://code.s3.yandex.net/datasets/toxic_comments.csv'\n",
    "\n",
    "if os.path.exists(pth1):\n",
    "    data = pd.read_csv(pth1, index_col=[0], parse_dates=[0])\n",
    "elif os.path.exists(pth2):\n",
    "    data = pd.read_csv(pth2, index_col=[0], parse_dates=[0])\n",
    "else:\n",
    "    print('Something is wrong')"
   ]
  },
  {
   "cell_type": "markdown",
   "metadata": {},
   "source": [
    "#### Предварительный анализ данных"
   ]
  },
  {
   "cell_type": "markdown",
   "metadata": {},
   "source": [
    "Проверим размерность датасета."
   ]
  },
  {
   "cell_type": "code",
   "execution_count": 12,
   "metadata": {},
   "outputs": [
    {
     "data": {
      "text/plain": [
       "(159292, 2)"
      ]
     },
     "execution_count": 12,
     "metadata": {},
     "output_type": "execute_result"
    }
   ],
   "source": [
    "# посмотрим на размер датасета\n",
    "data.shape"
   ]
  },
  {
   "cell_type": "markdown",
   "metadata": {},
   "source": [
    "Выведем случайные 10 строчек на экран."
   ]
  },
  {
   "cell_type": "code",
   "execution_count": 13,
   "metadata": {},
   "outputs": [
    {
     "data": {
      "text/html": [
       "<div>\n",
       "<style scoped>\n",
       "    .dataframe tbody tr th:only-of-type {\n",
       "        vertical-align: middle;\n",
       "    }\n",
       "\n",
       "    .dataframe tbody tr th {\n",
       "        vertical-align: top;\n",
       "    }\n",
       "\n",
       "    .dataframe thead th {\n",
       "        text-align: right;\n",
       "    }\n",
       "</style>\n",
       "<table border=\"1\" class=\"dataframe\">\n",
       "  <thead>\n",
       "    <tr style=\"text-align: right;\">\n",
       "      <th></th>\n",
       "      <th>text</th>\n",
       "      <th>toxic</th>\n",
       "    </tr>\n",
       "  </thead>\n",
       "  <tbody>\n",
       "    <tr>\n",
       "      <th>109583</th>\n",
       "      <td>Expert Categorizers  \\n\\nWhy is there no menti...</td>\n",
       "      <td>0</td>\n",
       "    </tr>\n",
       "    <tr>\n",
       "      <th>105077</th>\n",
       "      <td>\"\\n\\n Noise \\n\\nfart*  talk. \"</td>\n",
       "      <td>1</td>\n",
       "    </tr>\n",
       "    <tr>\n",
       "      <th>82244</th>\n",
       "      <td>An indefinite block is appropriate, even for a...</td>\n",
       "      <td>0</td>\n",
       "    </tr>\n",
       "    <tr>\n",
       "      <th>18740</th>\n",
       "      <td>I don't understand why we have a screenshot of...</td>\n",
       "      <td>0</td>\n",
       "    </tr>\n",
       "    <tr>\n",
       "      <th>128310</th>\n",
       "      <td>Hello! Some of the people, places or things yo...</td>\n",
       "      <td>0</td>\n",
       "    </tr>\n",
       "    <tr>\n",
       "      <th>108406</th>\n",
       "      <td>\"::::::::::::::If you read carefully, my comme...</td>\n",
       "      <td>1</td>\n",
       "    </tr>\n",
       "    <tr>\n",
       "      <th>25283</th>\n",
       "      <td>\"\\nDid you make it at WP:AE? ofShalott \"</td>\n",
       "      <td>0</td>\n",
       "    </tr>\n",
       "    <tr>\n",
       "      <th>32695</th>\n",
       "      <td>know as much as he thinks.</td>\n",
       "      <td>0</td>\n",
       "    </tr>\n",
       "    <tr>\n",
       "      <th>31936</th>\n",
       "      <td>Thank you for your comment and willingness to ...</td>\n",
       "      <td>0</td>\n",
       "    </tr>\n",
       "    <tr>\n",
       "      <th>20244</th>\n",
       "      <td>UPDATE 3-12-06\\n\\nHEY YALL IM GOING TO BE GONE...</td>\n",
       "      <td>0</td>\n",
       "    </tr>\n",
       "  </tbody>\n",
       "</table>\n",
       "</div>"
      ],
      "text/plain": [
       "                                                     text  toxic\n",
       "109583  Expert Categorizers  \\n\\nWhy is there no menti...      0\n",
       "105077                     \"\\n\\n Noise \\n\\nfart*  talk. \"      1\n",
       "82244   An indefinite block is appropriate, even for a...      0\n",
       "18740   I don't understand why we have a screenshot of...      0\n",
       "128310  Hello! Some of the people, places or things yo...      0\n",
       "108406  \"::::::::::::::If you read carefully, my comme...      1\n",
       "25283            \"\\nDid you make it at WP:AE? ofShalott \"      0\n",
       "32695                          know as much as he thinks.      0\n",
       "31936   Thank you for your comment and willingness to ...      0\n",
       "20244   UPDATE 3-12-06\\n\\nHEY YALL IM GOING TO BE GONE...      0"
      ]
     },
     "execution_count": 13,
     "metadata": {},
     "output_type": "execute_result"
    }
   ],
   "source": [
    "# получение случайных 10 строк таблицы data\n",
    "data.sample(n=10)"
   ]
  },
  {
   "cell_type": "markdown",
   "metadata": {},
   "source": [
    "Видим, что данные данные в столбце `text` требуют очистки, а целевой признак `toxic` необходимо проверить на баланс классов.\n",
    "\n",
    "Выведем основную информацию о датафрейме."
   ]
  },
  {
   "cell_type": "code",
   "execution_count": 14,
   "metadata": {},
   "outputs": [
    {
     "name": "stdout",
     "output_type": "stream",
     "text": [
      "<class 'pandas.core.frame.DataFrame'>\n",
      "Int64Index: 159292 entries, 0 to 159450\n",
      "Data columns (total 2 columns):\n",
      " #   Column  Non-Null Count   Dtype \n",
      "---  ------  --------------   ----- \n",
      " 0   text    159292 non-null  object\n",
      " 1   toxic   159292 non-null  int64 \n",
      "dtypes: int64(1), object(1)\n",
      "memory usage: 3.6+ MB\n"
     ]
    }
   ],
   "source": [
    "# получение общей информации о данных в таблице data\n",
    "data.info()"
   ]
  },
  {
   "cell_type": "markdown",
   "metadata": {},
   "source": [
    "Посмотрим распределение целевого признака."
   ]
  },
  {
   "cell_type": "code",
   "execution_count": 16,
   "metadata": {},
   "outputs": [
    {
     "data": {
      "text/plain": [
       "0    0.898388\n",
       "1    0.101612\n",
       "Name: toxic, dtype: float64"
      ]
     },
     "execution_count": 16,
     "metadata": {},
     "output_type": "execute_result"
    }
   ],
   "source": [
    "# распределение целевого признака\n",
    "pd.Series(data['toxic']).value_counts(normalize=True)"
   ]
  },
  {
   "cell_type": "markdown",
   "metadata": {},
   "source": [
    "Построим график."
   ]
  },
  {
   "cell_type": "code",
   "execution_count": 17,
   "metadata": {},
   "outputs": [
    {
     "data": {
      "image/png": "[encoded data removed]",
      "text/plain": [
       "<Figure size 432x288 with 1 Axes>"
      ]
     },
     "metadata": {
      "needs_background": "light"
     },
     "output_type": "display_data"
    }
   ],
   "source": [
    "# Bar plot для целевого признака\n",
    "plt.figure(figsize=(6, 4))\n",
    "sns.countplot(x=pd.Series(data['toxic']))\n",
    "plt.xlabel('Целевой признак')\n",
    "plt.ylabel('Количество')\n",
    "plt.title('Распределение целевого признака')\n",
    "plt.show()"
   ]
  },
  {
   "cell_type": "markdown",
   "metadata": {},
   "source": [
    "Мы обнаружили серьёзный дисбаланс при исследовании данных."
   ]
  },
  {
   "cell_type": "markdown",
   "metadata": {},
   "source": [
    "Проверка данных на пропуски."
   ]
  },
  {
   "cell_type": "code",
   "execution_count": 18,
   "metadata": {},
   "outputs": [
    {
     "data": {
      "text/plain": [
       "text     0\n",
       "toxic    0\n",
       "dtype: int64"
      ]
     },
     "execution_count": 18,
     "metadata": {},
     "output_type": "execute_result"
    }
   ],
   "source": [
    "# суммарное количество пропусков в датафрейме data\n",
    "data.isnull().sum()"
   ]
  },
  {
   "cell_type": "markdown",
   "metadata": {},
   "source": [
    " Пропусков в датафрейме нет. Посмотрим на количество полных дубликатов.\n"
   ]
  },
  {
   "cell_type": "code",
   "execution_count": 19,
   "metadata": {},
   "outputs": [
    {
     "data": {
      "text/plain": [
       "0"
      ]
     },
     "execution_count": 19,
     "metadata": {},
     "output_type": "execute_result"
    }
   ],
   "source": [
    "# проверим данные на дубликаты\n",
    "data.duplicated().sum()"
   ]
  },
  {
   "cell_type": "markdown",
   "metadata": {},
   "source": [
    "Дубликатов так же нет."
   ]
  },
  {
   "cell_type": "markdown",
   "metadata": {},
   "source": [
    "**Выводы:** \n",
    "1. Датафрейм содержит 159292 объекта без пропусков и 2 признака. Признак `text` содержит исходные тексты твитов, является не целевым и будет использован в обучении и предсказании. Признак `toxic` содержит данные по классификации текстов и явялется целевым.\n",
    "2. Признак `toxic` содержит только 0 и 1, но, при этом, имеет тип данных `int64`, его можно оптимизировать до `uint8`.\n",
    "3. Наблюдается дисбаланс классов - в признаке `toxic` содержится только 10% единиц, все остальное - нули.\n",
    "4. Дубликатов, отрицательных значений, пропусков не обнаружено."
   ]
  },
  {
   "cell_type": "markdown",
   "metadata": {},
   "source": [
    "## Обучение"
   ]
  },
  {
   "cell_type": "markdown",
   "metadata": {},
   "source": [
    "### Очистка и лемматизация"
   ]
  },
  {
   "cell_type": "markdown",
   "metadata": {},
   "source": [
    "Теперь необходимо очистить текст от постороних символов и провести лемматизацию слов (написанные для этого функции в разделе Функции):\n",
    "\n",
    "1. Очистку будем производить с помощью библиотеки regular expression (re): оставим прописные и строчные буквы английского алфавита (A-Z, a-z), а так же апостроф и пробел, остальное удалим.\n",
    "2. Лемматизацию будем проводить с помощью библиотеки `spaCy` - эта библиотека работает с предварительно созданными моделями, которые необходимо сначала установить. Мы используем модель `en_core_web_sm` для английского языка. Загрузим эту библиотеку (при загрузке отключим некоторые компоненты, так как нам необходим только лемматизатор)."
   ]
  },
  {
   "cell_type": "code",
   "execution_count": 20,
   "metadata": {},
   "outputs": [],
   "source": [
    "# загрузим модель en_core_web_sm\n",
    "nlp = spacy.load(\"en_core_web_sm\", disable=[\"parser\", \"ner\"])"
   ]
  },
  {
   "cell_type": "markdown",
   "metadata": {},
   "source": [
    "Перед очисткой текста и лемматизацией слов проверим наши функции - выведем исходный и обработанный текст (посмотрим на 10 строку)."
   ]
  },
  {
   "cell_type": "code",
   "execution_count": 21,
   "metadata": {},
   "outputs": [
    {
     "name": "stdout",
     "output_type": "stream",
     "text": [
      "Исходный текст: \"\n",
      "Fair use rationale for Image:Wonju.jpg\n",
      "\n",
      "Thanks for uploading Image:Wonju.jpg. I notice the image page specifies that the image is being used under fair use but there is no explanation or rationale as to why its use in Wikipedia articles constitutes fair use. In addition to the boilerplate fair use template, you must also write out on the image description page a specific explanation or rationale for why using this image in each article is consistent with fair use.\n",
      "\n",
      "Please go to the image description page and edit it to include a fair use rationale.\n",
      "\n",
      "If you have uploaded other fair use media, consider checking that you have specified the fair use rationale on those pages too. You can find a list of 'image' pages you have edited by clicking on the \"\"my contributions\"\" link (it is located at the very top of any Wikipedia page when you are logged in), and then selecting \"\"Image\"\" from the dropdown box. Note that any fair use images uploaded after 4 May, 2006, and lacking such an explanation will be deleted one week after they have been uploaded, as described on criteria for speedy deletion. If you have any questions please ask them at the Media copyright questions page. Thank you. (talk • contribs • ) \n",
      "Unspecified source for Image:Wonju.jpg\n",
      "\n",
      "Thanks for uploading Image:Wonju.jpg. I noticed that the file's description page currently doesn't specify who created the content, so the copyright status is unclear. If you did not create this file yourself, then you will need to specify the owner of the copyright. If you obtained it from a website, then a link to the website from which it was taken, together with a restatement of that website's terms of use of its content, is usually sufficient information. However, if the copyright holder is different from the website's publisher, then their copyright should also be acknowledged.\n",
      "\n",
      "As well as adding the source, please add a proper copyright licensing tag if the file doesn't have one already. If you created/took the picture, audio, or video then the  tag can be used to release it under the GFDL. If you believe the media meets the criteria at Wikipedia:Fair use, use a tag such as  or one of the other tags listed at Wikipedia:Image copyright tags#Fair use. See Wikipedia:Image copyright tags for the full list of copyright tags that you can use.\n",
      "\n",
      "If you have uploaded other files, consider checking that you have specified their source and tagged them, too. You can find a list of files you have uploaded by following [ this link]. Unsourced and untagged images may be deleted one week after they have been tagged, as described on criteria for speedy deletion. If the image is copyrighted under a non-free license (per Wikipedia:Fair use) then the image will be deleted 48 hours after . If you have any questions please ask them at the Media copyright questions page. Thank you. (talk • contribs • ) \"\n",
      "\n",
      "Очищенный и лемматизированный текст: fair use rationale for image wonju jpg thank for upload image wonju jpg I notice the image page specify that the image be be use under fair use but there be no explanation or rationale as to why its use in wikipedia article constitute fair use in addition to the boilerplate fair use template you must also write out on the image description page a specific explanation or rationale for why use this image in each article be consistent with fair use please go to the image description page and edit it to include a fair use rationale if you have upload other fair use medium consider check that you have specify the fair use rationale on those page too you can find a list of ' image ' page you have edit by click on the my contribution link it be locate at the very top of any wikipedia page when you be log in and then select image from the dropdown box note that any fair use image upload after may and lack such an explanation will be delete one week after they have be upload as describe on criterion for speedy deletion if you have any question please ask they at the medium copyright question page thank you talk contrib unspecified source for image wonju jpg thank for upload image wonju jpg I notice that the file 's description page currently do not specify who create the content so the copyright status be unclear if you do not create this file yourself then you will need to specify the owner of the copyright if you obtain it from a website then a link to the website from which it be take together with a restatement of that website 's term of use of its content be usually sufficient information however if the copyright holder be different from the website 's publisher then their copyright should also be acknowledge as well as add the source please add a proper copyright licensing tag if the file do not have one already if you create take the picture audio or video then the tag can be use to release it under the gfdl if you believe the medium meet the criterion at wikipedia fair use use a tag such as or one of the other tag list at wikipedia image copyright tag fair use see wikipedia image copyright tag for the full list of copyright tag that you can use if you have upload other file consider check that you have specify their source and tag they too you can find a list of file you have upload by follow this link unsourced and untagged image may be delete one week after they have be tag as describe on criterion for speedy deletion if the image be copyright under a non free license per wikipedia fair use then the image will be delete hour after if you have any question please ask they at the medium copyright question page thank you talk contrib\n"
     ]
    }
   ],
   "source": [
    "# выведем одну строку исходного текста\n",
    "print(\n",
    "    \"Исходный текст:\",\n",
    "    data[\"text\"].reset_index(drop=True)[10],\n",
    ")\n",
    "# выведем один очищенный и лемматизированный текст\n",
    "print(\n",
    "    \"\\nОчищенный и лемматизированный текст:\",\n",
    "    lemmatize(\n",
    "        clear_text(data[\"text\"].reset_index(drop=True)[10])\n",
    "    ),\n",
    ")"
   ]
  },
  {
   "cell_type": "markdown",
   "metadata": {},
   "source": [
    "Функции работают корректно. Теперь проведем очистку и лемматизацию текста."
   ]
  },
  {
   "cell_type": "code",
   "execution_count": 22,
   "metadata": {},
   "outputs": [
    {
     "name": "stdout",
     "output_type": "stream",
     "text": [
      "CPU times: user 15min 18s, sys: 1.57 s, total: 15min 20s\n",
      "Wall time: 15min 20s\n"
     ]
    }
   ],
   "source": [
    "%%time\n",
    "data[\"text_lemmatize\"] = data['text'].apply(lambda x: lemmatize(clear_text(x))).values"
   ]
  },
  {
   "cell_type": "markdown",
   "metadata": {},
   "source": [
    "Проверим наличие дубликатов."
   ]
  },
  {
   "cell_type": "code",
   "execution_count": 23,
   "metadata": {},
   "outputs": [
    {
     "data": {
      "text/plain": [
       "1303"
      ]
     },
     "execution_count": 23,
     "metadata": {},
     "output_type": "execute_result"
    }
   ],
   "source": [
    "# проверим данные на дубликаты\n",
    "data[\"text_lemmatize\"].duplicated().sum()"
   ]
  },
  {
   "cell_type": "markdown",
   "metadata": {},
   "source": [
    "Удалим дубликаты."
   ]
  },
  {
   "cell_type": "code",
   "execution_count": 24,
   "metadata": {},
   "outputs": [],
   "source": [
    "#удаление строк-дубликатов\n",
    "data = data.drop_duplicates(['text_lemmatize'])"
   ]
  },
  {
   "cell_type": "code",
   "execution_count": 25,
   "metadata": {},
   "outputs": [
    {
     "data": {
      "text/html": [
       "<div>\n",
       "<style scoped>\n",
       "    .dataframe tbody tr th:only-of-type {\n",
       "        vertical-align: middle;\n",
       "    }\n",
       "\n",
       "    .dataframe tbody tr th {\n",
       "        vertical-align: top;\n",
       "    }\n",
       "\n",
       "    .dataframe thead th {\n",
       "        text-align: right;\n",
       "    }\n",
       "</style>\n",
       "<table border=\"1\" class=\"dataframe\">\n",
       "  <thead>\n",
       "    <tr style=\"text-align: right;\">\n",
       "      <th></th>\n",
       "      <th>text</th>\n",
       "      <th>toxic</th>\n",
       "      <th>text_lemmatize</th>\n",
       "    </tr>\n",
       "  </thead>\n",
       "  <tbody>\n",
       "    <tr>\n",
       "      <th>0</th>\n",
       "      <td>Explanation\\nWhy the edits made under my usern...</td>\n",
       "      <td>0</td>\n",
       "      <td>explanation why the edit make under my usernam...</td>\n",
       "    </tr>\n",
       "    <tr>\n",
       "      <th>1</th>\n",
       "      <td>D'aww! He matches this background colour I'm s...</td>\n",
       "      <td>0</td>\n",
       "      <td>d'aww he match this background colour I be see...</td>\n",
       "    </tr>\n",
       "    <tr>\n",
       "      <th>2</th>\n",
       "      <td>Hey man, I'm really not trying to edit war. It...</td>\n",
       "      <td>0</td>\n",
       "      <td>hey man I be really not try to edit war it be ...</td>\n",
       "    </tr>\n",
       "    <tr>\n",
       "      <th>3</th>\n",
       "      <td>\"\\nMore\\nI can't make any real suggestions on ...</td>\n",
       "      <td>0</td>\n",
       "      <td>more I can not make any real suggestion on imp...</td>\n",
       "    </tr>\n",
       "    <tr>\n",
       "      <th>4</th>\n",
       "      <td>You, sir, are my hero. Any chance you remember...</td>\n",
       "      <td>0</td>\n",
       "      <td>you sir be my hero any chance you remember wha...</td>\n",
       "    </tr>\n",
       "  </tbody>\n",
       "</table>\n",
       "</div>"
      ],
      "text/plain": [
       "                                                text  toxic  \\\n",
       "0  Explanation\\nWhy the edits made under my usern...      0   \n",
       "1  D'aww! He matches this background colour I'm s...      0   \n",
       "2  Hey man, I'm really not trying to edit war. It...      0   \n",
       "3  \"\\nMore\\nI can't make any real suggestions on ...      0   \n",
       "4  You, sir, are my hero. Any chance you remember...      0   \n",
       "\n",
       "                                      text_lemmatize  \n",
       "0  explanation why the edit make under my usernam...  \n",
       "1  d'aww he match this background colour I be see...  \n",
       "2  hey man I be really not try to edit war it be ...  \n",
       "3  more I can not make any real suggestion on imp...  \n",
       "4  you sir be my hero any chance you remember wha...  "
      ]
     },
     "execution_count": 25,
     "metadata": {},
     "output_type": "execute_result"
    }
   ],
   "source": [
    "data.head()"
   ]
  },
  {
   "cell_type": "markdown",
   "metadata": {},
   "source": [
    "### Деление на выборки"
   ]
  },
  {
   "cell_type": "markdown",
   "metadata": {},
   "source": [
    "Разделим данные с учётом стратификации на 3 выборки: тренировочную, валидационную и тестовую в соотношении 3:1:1.\n",
    "\n",
    "Запишем в отдельные переменные признаки и целевой признак. Целевой признак - `toxic` - запишем его в переменную `target`, признак `text` в переменную `features`."
   ]
  },
  {
   "cell_type": "code",
   "execution_count": 26,
   "metadata": {},
   "outputs": [],
   "source": [
    "# запишем в переменную target целевой признак \n",
    "target = data['toxic']\n",
    "# запишем в переменную features признаки \n",
    "features = data['text_lemmatize']"
   ]
  },
  {
   "cell_type": "code",
   "execution_count": 27,
   "metadata": {},
   "outputs": [],
   "source": [
    "# отделим 40% данных для тестовой и валидационной выборок с учётом стратификации\n",
    "features_train, features_valid_test, target_train, target_valid_test = train_test_split(\n",
    "    features, target, test_size=0.4, stratify = target, random_state=MY_RANDOM_STATE)"
   ]
  },
  {
   "cell_type": "code",
   "execution_count": 28,
   "metadata": {},
   "outputs": [],
   "source": [
    "# отделим 20% данных для тестовой выборки с учётом стратификации\n",
    "features_valid, features_test, target_valid, target_test = train_test_split(\n",
    "    features_valid_test, target_valid_test, test_size=0.5, stratify = target_valid_test, \n",
    "    random_state=MY_RANDOM_STATE)"
   ]
  },
  {
   "cell_type": "markdown",
   "metadata": {},
   "source": [
    "Проверим размерность получившихся выборок, чтобы убедиться, что разделение на 3 выборки прошло корректно."
   ]
  },
  {
   "cell_type": "code",
   "execution_count": 29,
   "metadata": {},
   "outputs": [
    {
     "name": "stdout",
     "output_type": "stream",
     "text": [
      "Обучающая выборка\n",
      "(94793,)\n",
      "(94793,)\n",
      "\n",
      "Валидационная выборка\n",
      "(31598,)\n",
      "(31598,)\n",
      "\n",
      "Тестовая выборка\n",
      "(31598,)\n",
      "(31598,)\n",
      "\n"
     ]
    }
   ],
   "source": [
    "print('Обучающая выборка')\n",
    "print(features_train.shape)\n",
    "print(target_train.shape)\n",
    "print()\n",
    "print('Валидационная выборка')\n",
    "print(features_valid.shape)\n",
    "print(target_valid.shape)\n",
    "print()\n",
    "print('Тестовая выборка')\n",
    "print(features_test.shape)\n",
    "print(target_test.shape)\n",
    "print()"
   ]
  },
  {
   "cell_type": "markdown",
   "metadata": {},
   "source": [
    "Размерность выборок получилась 3:1:1, разделение прошло корректно."
   ]
  },
  {
   "cell_type": "markdown",
   "metadata": {},
   "source": [
    "### Обучение моделей"
   ]
  },
  {
   "cell_type": "markdown",
   "metadata": {},
   "source": [
    "Как выяснили в предыдущем разделе, в выборке наблюдается дисбаланс классов. Для работы с несбалансированными классами воспользуемся библиотекой `imblearn`.\n",
    "\n",
    "Для обучения моделей применим величины TF-IDF как признаки. Очистим мешок слов от слова без смысловой нагрузки - стоп-слова. Для этого загрузим список стоп-слов из пакета stopwords, который находится в модуле nltk.corpus библиотеки nltk."
   ]
  },
  {
   "cell_type": "code",
   "execution_count": 41,
   "metadata": {},
   "outputs": [
    {
     "name": "stderr",
     "output_type": "stream",
     "text": [
      "[nltk_data] Downloading package stopwords to /home/jovyan/nltk_data...\n",
      "[nltk_data]   Package stopwords is already up-to-date!\n"
     ]
    }
   ],
   "source": [
    "# загрузка стоп-слов\n",
    "nltk.download(\"stopwords\")\n",
    "stopwords = set(nltk_stopwords.words(\"english\"))"
   ]
  },
  {
   "cell_type": "markdown",
   "metadata": {},
   "source": [
    "#### LogisticRegression"
   ]
  },
  {
   "cell_type": "markdown",
   "metadata": {},
   "source": [
    "Обучим модель логистической регрессии и посчитаем метрику F1."
   ]
  },
  {
   "cell_type": "code",
   "execution_count": 43,
   "metadata": {},
   "outputs": [
    {
     "name": "stdout",
     "output_type": "stream",
     "text": [
      "Fitting 3 folds for each of 1 candidates, totalling 3 fits\n",
      "[CV 1/3] END ..................................., score=0.687 total time=  11.6s\n",
      "[CV 2/3] END ..................................., score=0.676 total time=  11.6s\n",
      "[CV 3/3] END ..................................., score=0.686 total time=  14.9s\n",
      "Лучший результат: 0.6828216960442614\n",
      "Лучшие параметры: {}\n",
      "CPU times: user 30.9 s, sys: 18.2 s, total: 49.2 s\n",
      "Wall time: 49.3 s\n"
     ]
    }
   ],
   "source": [
    "%%time\n",
    "# рассчитаем модель логистической регрессии\n",
    "# инициализация параметров для GridSearchCV\n",
    "params_lr = {}\n",
    "# создайем  pipline с шагами подсчета TF-IDF и балансировкой классов\n",
    "model_lr = Pipeline([\n",
    "    ('tfidf', TfidfVectorizer(stop_words=list(stopwords))),\n",
    "    ('random_under_sampler', RandomUnderSampler(random_state=MY_RANDOM_STATE)),\n",
    "    ('classification', LogisticRegression(random_state=MY_RANDOM_STATE))\n",
    "])\n",
    "# запускаем функцию для подбора гиперпараметров и обучения модели\n",
    "grid_model_lr = training(model_lr, params_lr, features_train, target_train)"
   ]
  },
  {
   "cell_type": "markdown",
   "metadata": {},
   "source": [
    "Попробуем найти оптимальный порог классификации для логистической регрессии. Переберем значения порогов от 0 до 0.9 с шагом 0.02 и найдем для каждого значения метрики: точность, полноту, F1-меру и AUC-ROC. Построим PR-кривую и ROC-кривую."
   ]
  },
  {
   "cell_type": "code",
   "execution_count": 44,
   "metadata": {},
   "outputs": [],
   "source": [
    "# создадим список для сохранения F1-метрики и порога\n",
    "f1_score_list = []\n",
    "threshold_list = []"
   ]
  },
  {
   "cell_type": "code",
   "execution_count": 45,
   "metadata": {},
   "outputs": [
    {
     "name": "stdout",
     "output_type": "stream",
     "text": [
      "Статистика модели\n",
      "Порог = 0.00 | F1-мера = 0.184\n",
      "Порог = 0.02 | F1-мера = 0.191\n",
      "Порог = 0.04 | F1-мера = 0.200\n",
      "Порог = 0.06 | F1-мера = 0.211\n",
      "Порог = 0.08 | F1-мера = 0.225\n",
      "Порог = 0.10 | F1-мера = 0.240\n",
      "Порог = 0.12 | F1-мера = 0.257\n",
      "Порог = 0.14 | F1-мера = 0.276\n",
      "Порог = 0.16 | F1-мера = 0.296\n",
      "Порог = 0.18 | F1-мера = 0.316\n",
      "Порог = 0.20 | F1-мера = 0.340\n",
      "Порог = 0.22 | F1-мера = 0.363\n",
      "Порог = 0.24 | F1-мера = 0.388\n",
      "Порог = 0.26 | F1-мера = 0.415\n",
      "Порог = 0.28 | F1-мера = 0.441\n",
      "Порог = 0.30 | F1-мера = 0.469\n",
      "Порог = 0.32 | F1-мера = 0.495\n",
      "Порог = 0.34 | F1-мера = 0.521\n",
      "Порог = 0.36 | F1-мера = 0.546\n",
      "Порог = 0.38 | F1-мера = 0.573\n",
      "Порог = 0.40 | F1-мера = 0.600\n",
      "Порог = 0.42 | F1-мера = 0.624\n",
      "Порог = 0.44 | F1-мера = 0.643\n",
      "Порог = 0.46 | F1-мера = 0.660\n",
      "Порог = 0.48 | F1-мера = 0.675\n",
      "Порог = 0.50 | F1-мера = 0.690\n",
      "Порог = 0.52 | F1-мера = 0.705\n",
      "Порог = 0.54 | F1-мера = 0.716\n",
      "Порог = 0.56 | F1-мера = 0.727\n",
      "Порог = 0.58 | F1-мера = 0.738\n",
      "Порог = 0.60 | F1-мера = 0.745\n",
      "Порог = 0.62 | F1-мера = 0.751\n",
      "Порог = 0.64 | F1-мера = 0.755\n",
      "Порог = 0.66 | F1-мера = 0.757\n",
      "Порог = 0.68 | F1-мера = 0.758\n",
      "Порог = 0.70 | F1-мера = 0.752\n",
      "Порог = 0.72 | F1-мера = 0.749\n",
      "Порог = 0.74 | F1-мера = 0.745\n",
      "Порог = 0.76 | F1-мера = 0.733\n",
      "Порог = 0.78 | F1-мера = 0.724\n",
      "Порог = 0.80 | F1-мера = 0.712\n",
      "Порог = 0.82 | F1-мера = 0.702\n",
      "Порог = 0.84 | F1-мера = 0.684\n",
      "Порог = 0.86 | F1-мера = 0.668\n",
      "Порог = 0.88 | F1-мера = 0.644\n",
      "\n",
      "Лучшие оценки модели\n",
      "F1: 0.7577\n",
      "AUC-ROC: 0.9639\n",
      "Лучшее значение порога: 0.68\n",
      "________________________________________\n",
      "\n",
      "\n"
     ]
    },
    {
     "data": {
      "image/png": "[encoded data removed]",
      "text/plain": [
       "<Figure size 720x720 with 1 Axes>"
      ]
     },
     "metadata": {
      "needs_background": "light"
     },
     "output_type": "display_data"
    },
    {
     "data": {
      "image/png": "[encoded data removed]",
      "text/plain": [
       "<Figure size 720x720 with 1 Axes>"
      ]
     },
     "metadata": {
      "needs_background": "light"
     },
     "output_type": "display_data"
    }
   ],
   "source": [
    "# вызовем функцию для подбора порога и построения PR-кривой и ROC-кривой\n",
    "ml_threshold(grid_model_lr, [features_valid, target_valid], f1_score_list, threshold_list)"
   ]
  },
  {
   "cell_type": "markdown",
   "metadata": {},
   "source": [
    "#### DecisionTreeClassifier"
   ]
  },
  {
   "cell_type": "markdown",
   "metadata": {},
   "source": [
    "Обучим модели дерево решений, при этом меняя гиперпараметр  - `max_depth` - глубина дерева. Переберем значения от 1 до 20."
   ]
  },
  {
   "cell_type": "code",
   "execution_count": 47,
   "metadata": {
    "scrolled": true
   },
   "outputs": [
    {
     "name": "stdout",
     "output_type": "stream",
     "text": [
      "Fitting 3 folds for each of 20 candidates, totalling 60 fits\n",
      "[CV 1/3] END .......classification__max_depth=1;, score=0.284 total time=   4.4s\n",
      "[CV 2/3] END .......classification__max_depth=1;, score=0.300 total time=   4.4s\n",
      "[CV 3/3] END .......classification__max_depth=1;, score=0.285 total time=   4.4s\n",
      "[CV 1/3] END .......classification__max_depth=2;, score=0.218 total time=   4.4s\n",
      "[CV 2/3] END .......classification__max_depth=2;, score=0.218 total time=   4.4s\n",
      "[CV 3/3] END .......classification__max_depth=2;, score=0.217 total time=   4.3s\n",
      "[CV 1/3] END .......classification__max_depth=3;, score=0.236 total time=   4.4s\n",
      "[CV 2/3] END .......classification__max_depth=3;, score=0.375 total time=   4.4s\n",
      "[CV 3/3] END .......classification__max_depth=3;, score=0.361 total time=   4.5s\n",
      "[CV 1/3] END .......classification__max_depth=4;, score=0.237 total time=   4.5s\n",
      "[CV 2/3] END .......classification__max_depth=4;, score=0.428 total time=   4.4s\n",
      "[CV 3/3] END .......classification__max_depth=4;, score=0.237 total time=   4.5s\n",
      "[CV 1/3] END .......classification__max_depth=5;, score=0.433 total time=   4.6s\n",
      "[CV 2/3] END .......classification__max_depth=5;, score=0.430 total time=   4.5s\n",
      "[CV 3/3] END .......classification__max_depth=5;, score=0.409 total time=   4.5s\n",
      "[CV 1/3] END .......classification__max_depth=6;, score=0.262 total time=   4.6s\n",
      "[CV 2/3] END .......classification__max_depth=6;, score=0.472 total time=   4.5s\n",
      "[CV 3/3] END .......classification__max_depth=6;, score=0.505 total time=   4.6s\n",
      "[CV 1/3] END .......classification__max_depth=7;, score=0.510 total time=   4.7s\n",
      "[CV 2/3] END .......classification__max_depth=7;, score=0.521 total time=   4.8s\n",
      "[CV 3/3] END .......classification__max_depth=7;, score=0.495 total time=   4.7s\n",
      "[CV 1/3] END .......classification__max_depth=8;, score=0.538 total time=   4.7s\n",
      "[CV 2/3] END .......classification__max_depth=8;, score=0.531 total time=   4.7s\n",
      "[CV 3/3] END .......classification__max_depth=8;, score=0.508 total time=   4.7s\n",
      "[CV 1/3] END .......classification__max_depth=9;, score=0.562 total time=   4.8s\n",
      "[CV 2/3] END .......classification__max_depth=9;, score=0.565 total time=   4.9s\n",
      "[CV 3/3] END .......classification__max_depth=9;, score=0.528 total time=   4.8s\n",
      "[CV 1/3] END ......classification__max_depth=10;, score=0.553 total time=   4.8s\n",
      "[CV 2/3] END ......classification__max_depth=10;, score=0.557 total time=   4.9s\n",
      "[CV 3/3] END ......classification__max_depth=10;, score=0.559 total time=   4.8s\n",
      "[CV 1/3] END ......classification__max_depth=11;, score=0.571 total time=   5.0s\n",
      "[CV 2/3] END ......classification__max_depth=11;, score=0.572 total time=   4.9s\n",
      "[CV 3/3] END ......classification__max_depth=11;, score=0.576 total time=   4.9s\n",
      "[CV 1/3] END ......classification__max_depth=12;, score=0.586 total time=   5.0s\n",
      "[CV 2/3] END ......classification__max_depth=12;, score=0.577 total time=   5.0s\n",
      "[CV 3/3] END ......classification__max_depth=12;, score=0.574 total time=   5.0s\n",
      "[CV 1/3] END ......classification__max_depth=13;, score=0.583 total time=   5.2s\n",
      "[CV 2/3] END ......classification__max_depth=13;, score=0.585 total time=   5.1s\n",
      "[CV 3/3] END ......classification__max_depth=13;, score=0.577 total time=   5.2s\n",
      "[CV 1/3] END ......classification__max_depth=14;, score=0.599 total time=   5.2s\n",
      "[CV 2/3] END ......classification__max_depth=14;, score=0.590 total time=   5.2s\n",
      "[CV 3/3] END ......classification__max_depth=14;, score=0.606 total time=   5.1s\n",
      "[CV 1/3] END ......classification__max_depth=15;, score=0.586 total time=   5.1s\n",
      "[CV 2/3] END ......classification__max_depth=15;, score=0.604 total time=   5.2s\n",
      "[CV 3/3] END ......classification__max_depth=15;, score=0.576 total time=   5.1s\n",
      "[CV 1/3] END ......classification__max_depth=16;, score=0.599 total time=   5.2s\n",
      "[CV 2/3] END ......classification__max_depth=16;, score=0.602 total time=   5.2s\n",
      "[CV 3/3] END ......classification__max_depth=16;, score=0.609 total time=   5.2s\n",
      "[CV 1/3] END ......classification__max_depth=17;, score=0.610 total time=   5.3s\n",
      "[CV 2/3] END ......classification__max_depth=17;, score=0.603 total time=   5.2s\n",
      "[CV 3/3] END ......classification__max_depth=17;, score=0.610 total time=   5.3s\n",
      "[CV 1/3] END ......classification__max_depth=18;, score=0.613 total time=   5.4s\n",
      "[CV 2/3] END ......classification__max_depth=18;, score=0.598 total time=   5.3s\n",
      "[CV 3/3] END ......classification__max_depth=18;, score=0.617 total time=   5.4s\n",
      "[CV 1/3] END ......classification__max_depth=19;, score=0.612 total time=   5.3s\n",
      "[CV 2/3] END ......classification__max_depth=19;, score=0.611 total time=   5.4s\n",
      "[CV 3/3] END ......classification__max_depth=19;, score=0.593 total time=   5.4s\n",
      "[CV 1/3] END ......classification__max_depth=20;, score=0.616 total time=   5.5s\n",
      "[CV 2/3] END ......classification__max_depth=20;, score=0.581 total time=   5.4s\n",
      "[CV 3/3] END ......classification__max_depth=20;, score=0.602 total time=   5.5s\n",
      "Лучший результат: 0.6093085430168245\n",
      "Лучшие параметры: {'classification__max_depth': 18}\n",
      "CPU times: user 4min 58s, sys: 2.1 s, total: 5min\n",
      "Wall time: 5min 1s\n"
     ]
    }
   ],
   "source": [
    "%%time\n",
    "# рассчитаем модель логистической регрессии на уменьшенной выборке\n",
    "# инициализация параметров для GridSearchCV\n",
    "params_dt = {\"classification__max_depth\": range(1,21)}\n",
    "model_dt = Pipeline([\n",
    "    ('tfidf', TfidfVectorizer(stop_words=list(stopwords))),\n",
    "    ('random_under_sampler', RandomUnderSampler(random_state=MY_RANDOM_STATE)),\n",
    "    ('classification', DecisionTreeClassifier(random_state=MY_RANDOM_STATE))\n",
    "])\n",
    "# запускаем функцию для подбора гиперпараметров и обучения модели\n",
    "grid_model_dt = training(model_dt, params_dt, features_train, target_train)"
   ]
  },
  {
   "cell_type": "markdown",
   "metadata": {},
   "source": [
    "Подберем порог"
   ]
  },
  {
   "cell_type": "code",
   "execution_count": 48,
   "metadata": {
    "scrolled": true
   },
   "outputs": [
    {
     "name": "stdout",
     "output_type": "stream",
     "text": [
      "Статистика модели\n",
      "Порог = 0.00 | F1-мера = 0.184\n",
      "Порог = 0.02 | F1-мера = 0.184\n",
      "Порог = 0.04 | F1-мера = 0.184\n",
      "Порог = 0.06 | F1-мера = 0.184\n",
      "Порог = 0.08 | F1-мера = 0.196\n",
      "Порог = 0.10 | F1-мера = 0.196\n",
      "Порог = 0.12 | F1-мера = 0.241\n",
      "Порог = 0.14 | F1-мера = 0.250\n",
      "Порог = 0.16 | F1-мера = 0.250\n",
      "Порог = 0.18 | F1-мера = 0.275\n",
      "Порог = 0.20 | F1-мера = 0.275\n",
      "Порог = 0.22 | F1-мера = 0.275\n",
      "Порог = 0.24 | F1-мера = 0.275\n",
      "Порог = 0.26 | F1-мера = 0.275\n",
      "Порог = 0.28 | F1-мера = 0.275\n",
      "Порог = 0.30 | F1-мера = 0.275\n",
      "Порог = 0.32 | F1-мера = 0.275\n",
      "Порог = 0.34 | F1-мера = 0.275\n",
      "Порог = 0.36 | F1-мера = 0.275\n",
      "Порог = 0.38 | F1-мера = 0.275\n",
      "Порог = 0.40 | F1-мера = 0.275\n",
      "Порог = 0.42 | F1-мера = 0.275\n",
      "Порог = 0.44 | F1-мера = 0.622\n",
      "Порог = 0.46 | F1-мера = 0.622\n",
      "Порог = 0.48 | F1-мера = 0.622\n",
      "Порог = 0.50 | F1-мера = 0.622\n",
      "Порог = 0.52 | F1-мера = 0.622\n",
      "Порог = 0.54 | F1-мера = 0.622\n",
      "Порог = 0.56 | F1-мера = 0.622\n",
      "Порог = 0.58 | F1-мера = 0.622\n",
      "Порог = 0.60 | F1-мера = 0.622\n",
      "Порог = 0.62 | F1-мера = 0.622\n",
      "Порог = 0.64 | F1-мера = 0.622\n",
      "Порог = 0.66 | F1-мера = 0.622\n",
      "Порог = 0.68 | F1-мера = 0.622\n",
      "Порог = 0.70 | F1-мера = 0.622\n",
      "Порог = 0.72 | F1-мера = 0.622\n",
      "Порог = 0.74 | F1-мера = 0.622\n",
      "Порог = 0.76 | F1-мера = 0.622\n",
      "Порог = 0.78 | F1-мера = 0.622\n",
      "Порог = 0.80 | F1-мера = 0.622\n",
      "Порог = 0.82 | F1-мера = 0.622\n",
      "Порог = 0.84 | F1-мера = 0.622\n",
      "Порог = 0.86 | F1-мера = 0.623\n",
      "Порог = 0.88 | F1-мера = 0.623\n",
      "\n",
      "Лучшие оценки модели\n",
      "F1: 0.6235\n",
      "AUC-ROC: 0.829\n",
      "Лучшее значение порога: 0.86\n",
      "________________________________________\n",
      "\n",
      "\n"
     ]
    },
    {
     "data": {
      "image/png": "[encoded data removed]",
      "text/plain": [
       "<Figure size 720x720 with 1 Axes>"
      ]
     },
     "metadata": {
      "needs_background": "light"
     },
     "output_type": "display_data"
    },
    {
     "data": {
      "image/png": "[encoded data removed]",
      "text/plain": [
       "<Figure size 720x720 with 1 Axes>"
      ]
     },
     "metadata": {
      "needs_background": "light"
     },
     "output_type": "display_data"
    }
   ],
   "source": [
    "# вызовем функцию для подбора порога и построения PR-кривой и ROC-кривой\n",
    "ml_threshold(grid_model_dt, [features_valid, target_valid], f1_score_list, threshold_list)"
   ]
  },
  {
   "cell_type": "markdown",
   "metadata": {},
   "source": [
    "#### RandomForestClassifier"
   ]
  },
  {
   "cell_type": "markdown",
   "metadata": {},
   "source": [
    "Подберем оптимальные гиперпараметры для модели случайного леса, будем менять гиперпараметры следующим образом:\n",
    "    - с количеством деревьев: от 10 до 100 с шагом 30 (n_estimators),\n",
    "    - с максимальной глубиной: от 1 до 20 (max_depth)."
   ]
  },
  {
   "cell_type": "code",
   "execution_count": 50,
   "metadata": {
    "scrolled": true
   },
   "outputs": [
    {
     "name": "stdout",
     "output_type": "stream",
     "text": [
      "Fitting 3 folds for each of 80 candidates, totalling 240 fits\n",
      "[CV 1/3] END classification__max_depth=1, classification__n_estimators=10;, score=0.195 total time=   4.1s\n",
      "[CV 2/3] END classification__max_depth=1, classification__n_estimators=10;, score=0.226 total time=   4.2s\n",
      "[CV 3/3] END classification__max_depth=1, classification__n_estimators=10;, score=0.206 total time=   4.2s\n",
      "[CV 1/3] END classification__max_depth=1, classification__n_estimators=40;, score=0.237 total time=   4.4s\n",
      "[CV 2/3] END classification__max_depth=1, classification__n_estimators=40;, score=0.253 total time=   4.4s\n",
      "[CV 3/3] END classification__max_depth=1, classification__n_estimators=40;, score=0.229 total time=   4.4s\n",
      "[CV 1/3] END classification__max_depth=1, classification__n_estimators=70;, score=0.273 total time=   4.6s\n",
      "[CV 2/3] END classification__max_depth=1, classification__n_estimators=70;, score=0.268 total time=   4.4s\n",
      "[CV 3/3] END classification__max_depth=1, classification__n_estimators=70;, score=0.276 total time=   4.5s\n",
      "[CV 1/3] END classification__max_depth=1, classification__n_estimators=100;, score=0.341 total time=   4.7s\n",
      "[CV 2/3] END classification__max_depth=1, classification__n_estimators=100;, score=0.293 total time=   4.8s\n",
      "[CV 3/3] END classification__max_depth=1, classification__n_estimators=100;, score=0.285 total time=   4.7s\n",
      "[CV 1/3] END classification__max_depth=2, classification__n_estimators=10;, score=0.206 total time=   4.2s\n",
      "[CV 2/3] END classification__max_depth=2, classification__n_estimators=10;, score=0.400 total time=   4.1s\n",
      "[CV 3/3] END classification__max_depth=2, classification__n_estimators=10;, score=0.228 total time=   4.1s\n",
      "[CV 1/3] END classification__max_depth=2, classification__n_estimators=40;, score=0.298 total time=   4.4s\n",
      "[CV 2/3] END classification__max_depth=2, classification__n_estimators=40;, score=0.289 total time=   4.3s\n",
      "[CV 3/3] END classification__max_depth=2, classification__n_estimators=40;, score=0.293 total time=   4.4s\n",
      "[CV 1/3] END classification__max_depth=2, classification__n_estimators=70;, score=0.322 total time=   4.5s\n",
      "[CV 2/3] END classification__max_depth=2, classification__n_estimators=70;, score=0.314 total time=   4.7s\n",
      "[CV 3/3] END classification__max_depth=2, classification__n_estimators=70;, score=0.305 total time=   4.6s\n",
      "[CV 1/3] END classification__max_depth=2, classification__n_estimators=100;, score=0.298 total time=   4.9s\n",
      "[CV 2/3] END classification__max_depth=2, classification__n_estimators=100;, score=0.293 total time=   4.8s\n",
      "[CV 3/3] END classification__max_depth=2, classification__n_estimators=100;, score=0.300 total time=   4.9s\n",
      "[CV 1/3] END classification__max_depth=3, classification__n_estimators=10;, score=0.248 total time=   4.2s\n",
      "[CV 2/3] END classification__max_depth=3, classification__n_estimators=10;, score=0.228 total time=   4.2s\n",
      "[CV 3/3] END classification__max_depth=3, classification__n_estimators=10;, score=0.239 total time=   4.1s\n",
      "[CV 1/3] END classification__max_depth=3, classification__n_estimators=40;, score=0.279 total time=   4.3s\n",
      "[CV 2/3] END classification__max_depth=3, classification__n_estimators=40;, score=0.287 total time=   4.4s\n",
      "[CV 3/3] END classification__max_depth=3, classification__n_estimators=40;, score=0.309 total time=   4.3s\n",
      "[CV 1/3] END classification__max_depth=3, classification__n_estimators=70;, score=0.297 total time=   4.6s\n",
      "[CV 2/3] END classification__max_depth=3, classification__n_estimators=70;, score=0.365 total time=   4.6s\n",
      "[CV 3/3] END classification__max_depth=3, classification__n_estimators=70;, score=0.296 total time=   4.7s\n",
      "[CV 1/3] END classification__max_depth=3, classification__n_estimators=100;, score=0.325 total time=   4.9s\n",
      "[CV 2/3] END classification__max_depth=3, classification__n_estimators=100;, score=0.338 total time=   4.9s\n",
      "[CV 3/3] END classification__max_depth=3, classification__n_estimators=100;, score=0.316 total time=   4.9s\n",
      "[CV 1/3] END classification__max_depth=4, classification__n_estimators=10;, score=0.271 total time=   4.1s\n",
      "[CV 2/3] END classification__max_depth=4, classification__n_estimators=10;, score=0.253 total time=   4.2s\n",
      "[CV 3/3] END classification__max_depth=4, classification__n_estimators=10;, score=0.269 total time=   4.2s\n",
      "[CV 1/3] END classification__max_depth=4, classification__n_estimators=40;, score=0.314 total time=   4.5s\n",
      "[CV 2/3] END classification__max_depth=4, classification__n_estimators=40;, score=0.350 total time=   4.4s\n",
      "[CV 3/3] END classification__max_depth=4, classification__n_estimators=40;, score=0.299 total time=   4.4s\n",
      "[CV 1/3] END classification__max_depth=4, classification__n_estimators=70;, score=0.339 total time=   4.7s\n",
      "[CV 2/3] END classification__max_depth=4, classification__n_estimators=70;, score=0.298 total time=   4.7s\n",
      "[CV 3/3] END classification__max_depth=4, classification__n_estimators=70;, score=0.324 total time=   4.7s\n",
      "[CV 1/3] END classification__max_depth=4, classification__n_estimators=100;, score=0.322 total time=   5.0s\n",
      "[CV 2/3] END classification__max_depth=4, classification__n_estimators=100;, score=0.314 total time=   5.1s\n",
      "[CV 3/3] END classification__max_depth=4, classification__n_estimators=100;, score=0.316 total time=   5.0s\n",
      "[CV 1/3] END classification__max_depth=5, classification__n_estimators=10;, score=0.250 total time=   4.1s\n",
      "[CV 2/3] END classification__max_depth=5, classification__n_estimators=10;, score=0.260 total time=   4.1s\n",
      "[CV 3/3] END classification__max_depth=5, classification__n_estimators=10;, score=0.245 total time=   4.2s\n",
      "[CV 1/3] END classification__max_depth=5, classification__n_estimators=40;, score=0.306 total time=   4.5s\n",
      "[CV 2/3] END classification__max_depth=5, classification__n_estimators=40;, score=0.292 total time=   4.5s\n",
      "[CV 3/3] END classification__max_depth=5, classification__n_estimators=40;, score=0.321 total time=   4.5s\n",
      "[CV 1/3] END classification__max_depth=5, classification__n_estimators=70;, score=0.310 total time=   4.9s\n",
      "[CV 2/3] END classification__max_depth=5, classification__n_estimators=70;, score=0.359 total time=   4.9s\n",
      "[CV 3/3] END classification__max_depth=5, classification__n_estimators=70;, score=0.333 total time=   4.9s\n",
      "[CV 1/3] END classification__max_depth=5, classification__n_estimators=100;, score=0.325 total time=   5.1s\n",
      "[CV 2/3] END classification__max_depth=5, classification__n_estimators=100;, score=0.361 total time=   5.3s\n",
      "[CV 3/3] END classification__max_depth=5, classification__n_estimators=100;, score=0.366 total time=   5.2s\n",
      "[CV 1/3] END classification__max_depth=6, classification__n_estimators=10;, score=0.266 total time=   4.2s\n",
      "[CV 2/3] END classification__max_depth=6, classification__n_estimators=10;, score=0.267 total time=   4.1s\n",
      "[CV 3/3] END classification__max_depth=6, classification__n_estimators=10;, score=0.284 total time=   4.1s\n",
      "[CV 1/3] END classification__max_depth=6, classification__n_estimators=40;, score=0.313 total time=   4.6s\n",
      "[CV 2/3] END classification__max_depth=6, classification__n_estimators=40;, score=0.306 total time=   4.6s\n",
      "[CV 3/3] END classification__max_depth=6, classification__n_estimators=40;, score=0.335 total time=   4.6s\n",
      "[CV 1/3] END classification__max_depth=6, classification__n_estimators=70;, score=0.340 total time=   5.0s\n",
      "[CV 2/3] END classification__max_depth=6, classification__n_estimators=70;, score=0.319 total time=   5.0s\n",
      "[CV 3/3] END classification__max_depth=6, classification__n_estimators=70;, score=0.355 total time=   4.9s\n",
      "[CV 1/3] END classification__max_depth=6, classification__n_estimators=100;, score=0.364 total time=   5.4s\n",
      "[CV 2/3] END classification__max_depth=6, classification__n_estimators=100;, score=0.362 total time=   5.3s\n",
      "[CV 3/3] END classification__max_depth=6, classification__n_estimators=100;, score=0.337 total time=   5.3s\n",
      "[CV 1/3] END classification__max_depth=7, classification__n_estimators=10;, score=0.267 total time=   4.1s\n",
      "[CV 2/3] END classification__max_depth=7, classification__n_estimators=10;, score=0.295 total time=   4.2s\n",
      "[CV 3/3] END classification__max_depth=7, classification__n_estimators=10;, score=0.271 total time=   4.1s\n",
      "[CV 1/3] END classification__max_depth=7, classification__n_estimators=40;, score=0.334 total time=   4.7s\n",
      "[CV 2/3] END classification__max_depth=7, classification__n_estimators=40;, score=0.324 total time=   4.7s\n",
      "[CV 3/3] END classification__max_depth=7, classification__n_estimators=40;, score=0.345 total time=   4.7s\n",
      "[CV 1/3] END classification__max_depth=7, classification__n_estimators=70;, score=0.359 total time=   5.1s\n",
      "[CV 2/3] END classification__max_depth=7, classification__n_estimators=70;, score=0.344 total time=   5.2s\n",
      "[CV 3/3] END classification__max_depth=7, classification__n_estimators=70;, score=0.337 total time=   5.0s\n",
      "[CV 1/3] END classification__max_depth=7, classification__n_estimators=100;, score=0.326 total time=   5.6s\n",
      "[CV 2/3] END classification__max_depth=7, classification__n_estimators=100;, score=0.330 total time=   5.6s\n",
      "[CV 3/3] END classification__max_depth=7, classification__n_estimators=100;, score=0.316 total time=   5.6s\n",
      "[CV 1/3] END classification__max_depth=8, classification__n_estimators=10;, score=0.292 total time=   4.1s\n",
      "[CV 2/3] END classification__max_depth=8, classification__n_estimators=10;, score=0.282 total time=   4.2s\n",
      "[CV 3/3] END classification__max_depth=8, classification__n_estimators=10;, score=0.282 total time=   4.1s\n",
      "[CV 1/3] END classification__max_depth=8, classification__n_estimators=40;, score=0.345 total time=   4.7s\n",
      "[CV 2/3] END classification__max_depth=8, classification__n_estimators=40;, score=0.354 total time=   4.8s\n",
      "[CV 3/3] END classification__max_depth=8, classification__n_estimators=40;, score=0.340 total time=   4.7s\n",
      "[CV 1/3] END classification__max_depth=8, classification__n_estimators=70;, score=0.354 total time=   5.3s\n",
      "[CV 2/3] END classification__max_depth=8, classification__n_estimators=70;, score=0.336 total time=   5.2s\n",
      "[CV 3/3] END classification__max_depth=8, classification__n_estimators=70;, score=0.340 total time=   5.2s\n",
      "[CV 1/3] END classification__max_depth=8, classification__n_estimators=100;, score=0.346 total time=   5.8s\n",
      "[CV 2/3] END classification__max_depth=8, classification__n_estimators=100;, score=0.358 total time=   5.6s\n",
      "[CV 3/3] END classification__max_depth=8, classification__n_estimators=100;, score=0.352 total time=   5.7s\n",
      "[CV 1/3] END classification__max_depth=9, classification__n_estimators=10;, score=0.270 total time=   4.1s\n",
      "[CV 2/3] END classification__max_depth=9, classification__n_estimators=10;, score=0.282 total time=   4.2s\n",
      "[CV 3/3] END classification__max_depth=9, classification__n_estimators=10;, score=0.290 total time=   4.1s\n",
      "[CV 1/3] END classification__max_depth=9, classification__n_estimators=40;, score=0.327 total time=   4.7s\n",
      "[CV 2/3] END classification__max_depth=9, classification__n_estimators=40;, score=0.349 total time=   4.8s\n",
      "[CV 3/3] END classification__max_depth=9, classification__n_estimators=40;, score=0.334 total time=   4.7s\n",
      "[CV 1/3] END classification__max_depth=9, classification__n_estimators=70;, score=0.347 total time=   5.3s\n",
      "[CV 2/3] END classification__max_depth=9, classification__n_estimators=70;, score=0.346 total time=   5.2s\n",
      "[CV 3/3] END classification__max_depth=9, classification__n_estimators=70;, score=0.349 total time=   5.3s\n",
      "[CV 1/3] END classification__max_depth=9, classification__n_estimators=100;, score=0.341 total time=   5.8s\n",
      "[CV 2/3] END classification__max_depth=9, classification__n_estimators=100;, score=0.351 total time=   5.8s\n",
      "[CV 3/3] END classification__max_depth=9, classification__n_estimators=100;, score=0.354 total time=   6.1s\n",
      "[CV 1/3] END classification__max_depth=10, classification__n_estimators=10;, score=0.293 total time=   4.1s\n",
      "[CV 2/3] END classification__max_depth=10, classification__n_estimators=10;, score=0.314 total time=   4.2s\n",
      "[CV 3/3] END classification__max_depth=10, classification__n_estimators=10;, score=0.275 total time=   4.1s\n",
      "[CV 1/3] END classification__max_depth=10, classification__n_estimators=40;, score=0.329 total time=   4.8s\n",
      "[CV 2/3] END classification__max_depth=10, classification__n_estimators=40;, score=0.371 total time=   4.9s\n",
      "[CV 3/3] END classification__max_depth=10, classification__n_estimators=40;, score=0.361 total time=   4.7s\n",
      "[CV 1/3] END classification__max_depth=10, classification__n_estimators=70;, score=0.356 total time=   5.5s\n",
      "[CV 2/3] END classification__max_depth=10, classification__n_estimators=70;, score=0.369 total time=   5.4s\n",
      "[CV 3/3] END classification__max_depth=10, classification__n_estimators=70;, score=0.352 total time=   5.5s\n",
      "[CV 1/3] END classification__max_depth=10, classification__n_estimators=100;, score=0.372 total time=   6.1s\n",
      "[CV 2/3] END classification__max_depth=10, classification__n_estimators=100;, score=0.355 total time=   6.0s\n",
      "[CV 3/3] END classification__max_depth=10, classification__n_estimators=100;, score=0.359 total time=   6.1s\n",
      "[CV 1/3] END classification__max_depth=11, classification__n_estimators=10;, score=0.317 total time=   4.2s\n",
      "[CV 2/3] END classification__max_depth=11, classification__n_estimators=10;, score=0.319 total time=   4.2s\n",
      "[CV 3/3] END classification__max_depth=11, classification__n_estimators=10;, score=0.313 total time=   4.1s\n",
      "[CV 1/3] END classification__max_depth=11, classification__n_estimators=40;, score=0.326 total time=   4.9s\n",
      "[CV 2/3] END classification__max_depth=11, classification__n_estimators=40;, score=0.333 total time=   4.8s\n",
      "[CV 3/3] END classification__max_depth=11, classification__n_estimators=40;, score=0.343 total time=   4.9s\n",
      "[CV 1/3] END classification__max_depth=11, classification__n_estimators=70;, score=0.368 total time=   5.5s\n",
      "[CV 2/3] END classification__max_depth=11, classification__n_estimators=70;, score=0.374 total time=   5.6s\n",
      "[CV 3/3] END classification__max_depth=11, classification__n_estimators=70;, score=0.346 total time=   5.6s\n",
      "[CV 1/3] END classification__max_depth=11, classification__n_estimators=100;, score=0.348 total time=   6.3s\n",
      "[CV 2/3] END classification__max_depth=11, classification__n_estimators=100;, score=0.364 total time=   6.4s\n",
      "[CV 3/3] END classification__max_depth=11, classification__n_estimators=100;, score=0.365 total time=   6.1s\n",
      "[CV 1/3] END classification__max_depth=12, classification__n_estimators=10;, score=0.329 total time=   4.2s\n",
      "[CV 2/3] END classification__max_depth=12, classification__n_estimators=10;, score=0.301 total time=   4.1s\n",
      "[CV 3/3] END classification__max_depth=12, classification__n_estimators=10;, score=0.283 total time=   4.2s\n",
      "[CV 1/3] END classification__max_depth=12, classification__n_estimators=40;, score=0.363 total time=   5.1s\n",
      "[CV 2/3] END classification__max_depth=12, classification__n_estimators=40;, score=0.367 total time=   5.0s\n",
      "[CV 3/3] END classification__max_depth=12, classification__n_estimators=40;, score=0.336 total time=   5.0s\n",
      "[CV 1/3] END classification__max_depth=12, classification__n_estimators=70;, score=0.358 total time=   5.6s\n",
      "[CV 2/3] END classification__max_depth=12, classification__n_estimators=70;, score=0.351 total time=   5.6s\n",
      "[CV 3/3] END classification__max_depth=12, classification__n_estimators=70;, score=0.376 total time=   5.7s\n",
      "[CV 1/3] END classification__max_depth=12, classification__n_estimators=100;, score=0.377 total time=   6.3s\n",
      "[CV 2/3] END classification__max_depth=12, classification__n_estimators=100;, score=0.371 total time=   6.4s\n",
      "[CV 3/3] END classification__max_depth=12, classification__n_estimators=100;, score=0.371 total time=   6.5s\n",
      "[CV 1/3] END classification__max_depth=13, classification__n_estimators=10;, score=0.314 total time=   4.2s\n",
      "[CV 2/3] END classification__max_depth=13, classification__n_estimators=10;, score=0.336 total time=   4.2s\n",
      "[CV 3/3] END classification__max_depth=13, classification__n_estimators=10;, score=0.332 total time=   4.3s\n",
      "[CV 1/3] END classification__max_depth=13, classification__n_estimators=40;, score=0.362 total time=   5.1s\n",
      "[CV 2/3] END classification__max_depth=13, classification__n_estimators=40;, score=0.351 total time=   5.1s\n",
      "[CV 3/3] END classification__max_depth=13, classification__n_estimators=40;, score=0.340 total time=   5.0s\n",
      "[CV 1/3] END classification__max_depth=13, classification__n_estimators=70;, score=0.364 total time=   5.9s\n",
      "[CV 2/3] END classification__max_depth=13, classification__n_estimators=70;, score=0.386 total time=   5.9s\n",
      "[CV 3/3] END classification__max_depth=13, classification__n_estimators=70;, score=0.382 total time=   5.8s\n",
      "[CV 1/3] END classification__max_depth=13, classification__n_estimators=100;, score=0.362 total time=   6.7s\n",
      "[CV 2/3] END classification__max_depth=13, classification__n_estimators=100;, score=0.384 total time=   6.6s\n",
      "[CV 3/3] END classification__max_depth=13, classification__n_estimators=100;, score=0.387 total time=   6.7s\n",
      "[CV 1/3] END classification__max_depth=14, classification__n_estimators=10;, score=0.309 total time=   4.3s\n",
      "[CV 2/3] END classification__max_depth=14, classification__n_estimators=10;, score=0.316 total time=   4.3s\n",
      "[CV 3/3] END classification__max_depth=14, classification__n_estimators=10;, score=0.319 total time=   4.2s\n",
      "[CV 1/3] END classification__max_depth=14, classification__n_estimators=40;, score=0.355 total time=   5.2s\n",
      "[CV 2/3] END classification__max_depth=14, classification__n_estimators=40;, score=0.375 total time=   5.1s\n",
      "[CV 3/3] END classification__max_depth=14, classification__n_estimators=40;, score=0.369 total time=   5.1s\n",
      "[CV 1/3] END classification__max_depth=14, classification__n_estimators=70;, score=0.365 total time=   6.1s\n",
      "[CV 2/3] END classification__max_depth=14, classification__n_estimators=70;, score=0.372 total time=   6.0s\n",
      "[CV 3/3] END classification__max_depth=14, classification__n_estimators=70;, score=0.370 total time=   6.0s\n",
      "[CV 1/3] END classification__max_depth=14, classification__n_estimators=100;, score=0.377 total time=   6.8s\n",
      "[CV 2/3] END classification__max_depth=14, classification__n_estimators=100;, score=0.374 total time=   6.9s\n",
      "[CV 3/3] END classification__max_depth=14, classification__n_estimators=100;, score=0.390 total time=   6.9s\n",
      "[CV 1/3] END classification__max_depth=15, classification__n_estimators=10;, score=0.334 total time=   4.3s\n",
      "[CV 2/3] END classification__max_depth=15, classification__n_estimators=10;, score=0.337 total time=   4.3s\n",
      "[CV 3/3] END classification__max_depth=15, classification__n_estimators=10;, score=0.295 total time=   4.2s\n",
      "[CV 1/3] END classification__max_depth=15, classification__n_estimators=40;, score=0.347 total time=   5.3s\n",
      "[CV 2/3] END classification__max_depth=15, classification__n_estimators=40;, score=0.379 total time=   5.2s\n",
      "[CV 3/3] END classification__max_depth=15, classification__n_estimators=40;, score=0.376 total time=   5.3s\n",
      "[CV 1/3] END classification__max_depth=15, classification__n_estimators=70;, score=0.401 total time=   6.3s\n",
      "[CV 2/3] END classification__max_depth=15, classification__n_estimators=70;, score=0.369 total time=   6.2s\n",
      "[CV 3/3] END classification__max_depth=15, classification__n_estimators=70;, score=0.371 total time=   6.3s\n",
      "[CV 1/3] END classification__max_depth=15, classification__n_estimators=100;, score=0.375 total time=   7.0s\n",
      "[CV 2/3] END classification__max_depth=15, classification__n_estimators=100;, score=0.395 total time=   7.3s\n",
      "[CV 3/3] END classification__max_depth=15, classification__n_estimators=100;, score=0.400 total time=   7.3s\n",
      "[CV 1/3] END classification__max_depth=16, classification__n_estimators=10;, score=0.345 total time=   4.3s\n",
      "[CV 2/3] END classification__max_depth=16, classification__n_estimators=10;, score=0.316 total time=   4.4s\n",
      "[CV 3/3] END classification__max_depth=16, classification__n_estimators=10;, score=0.332 total time=   4.3s\n",
      "[CV 1/3] END classification__max_depth=16, classification__n_estimators=40;, score=0.352 total time=   5.3s\n",
      "[CV 2/3] END classification__max_depth=16, classification__n_estimators=40;, score=0.387 total time=   5.3s\n",
      "[CV 3/3] END classification__max_depth=16, classification__n_estimators=40;, score=0.358 total time=   5.3s\n",
      "[CV 1/3] END classification__max_depth=16, classification__n_estimators=70;, score=0.368 total time=   6.3s\n",
      "[CV 2/3] END classification__max_depth=16, classification__n_estimators=70;, score=0.393 total time=   6.3s\n",
      "[CV 3/3] END classification__max_depth=16, classification__n_estimators=70;, score=0.405 total time=   6.3s\n",
      "[CV 1/3] END classification__max_depth=16, classification__n_estimators=100;, score=0.361 total time=   7.4s\n",
      "[CV 2/3] END classification__max_depth=16, classification__n_estimators=100;, score=0.383 total time=   7.4s\n",
      "[CV 3/3] END classification__max_depth=16, classification__n_estimators=100;, score=0.412 total time=   7.3s\n",
      "[CV 1/3] END classification__max_depth=17, classification__n_estimators=10;, score=0.339 total time=   4.3s\n",
      "[CV 2/3] END classification__max_depth=17, classification__n_estimators=10;, score=0.365 total time=   4.3s\n",
      "[CV 3/3] END classification__max_depth=17, classification__n_estimators=10;, score=0.333 total time=   4.3s\n",
      "[CV 1/3] END classification__max_depth=17, classification__n_estimators=40;, score=0.353 total time=   5.6s\n",
      "[CV 2/3] END classification__max_depth=17, classification__n_estimators=40;, score=0.351 total time=   5.4s\n",
      "[CV 3/3] END classification__max_depth=17, classification__n_estimators=40;, score=0.376 total time=   5.5s\n",
      "[CV 1/3] END classification__max_depth=17, classification__n_estimators=70;, score=0.392 total time=   6.5s\n",
      "[CV 2/3] END classification__max_depth=17, classification__n_estimators=70;, score=0.363 total time=   6.6s\n",
      "[CV 3/3] END classification__max_depth=17, classification__n_estimators=70;, score=0.378 total time=   6.5s\n",
      "[CV 1/3] END classification__max_depth=17, classification__n_estimators=100;, score=0.390 total time=   7.6s\n",
      "[CV 2/3] END classification__max_depth=17, classification__n_estimators=100;, score=0.397 total time=   7.7s\n",
      "[CV 3/3] END classification__max_depth=17, classification__n_estimators=100;, score=0.420 total time=   7.6s\n",
      "[CV 1/3] END classification__max_depth=18, classification__n_estimators=10;, score=0.328 total time=   4.3s\n",
      "[CV 2/3] END classification__max_depth=18, classification__n_estimators=10;, score=0.331 total time=   4.4s\n",
      "[CV 3/3] END classification__max_depth=18, classification__n_estimators=10;, score=0.336 total time=   4.3s\n",
      "[CV 1/3] END classification__max_depth=18, classification__n_estimators=40;, score=0.402 total time=   5.6s\n",
      "[CV 2/3] END classification__max_depth=18, classification__n_estimators=40;, score=0.372 total time=   5.5s\n",
      "[CV 3/3] END classification__max_depth=18, classification__n_estimators=40;, score=0.369 total time=   5.7s\n",
      "[CV 1/3] END classification__max_depth=18, classification__n_estimators=70;, score=0.370 total time=   6.7s\n",
      "[CV 2/3] END classification__max_depth=18, classification__n_estimators=70;, score=0.397 total time=   6.6s\n",
      "[CV 3/3] END classification__max_depth=18, classification__n_estimators=70;, score=0.404 total time=   6.7s\n",
      "[CV 1/3] END classification__max_depth=18, classification__n_estimators=100;, score=0.391 total time=   7.9s\n",
      "[CV 2/3] END classification__max_depth=18, classification__n_estimators=100;, score=0.397 total time=   8.0s\n",
      "[CV 3/3] END classification__max_depth=18, classification__n_estimators=100;, score=0.418 total time=   7.7s\n",
      "[CV 1/3] END classification__max_depth=19, classification__n_estimators=10;, score=0.318 total time=   4.4s\n",
      "[CV 2/3] END classification__max_depth=19, classification__n_estimators=10;, score=0.319 total time=   4.3s\n",
      "[CV 3/3] END classification__max_depth=19, classification__n_estimators=10;, score=0.323 total time=   4.4s\n",
      "[CV 1/3] END classification__max_depth=19, classification__n_estimators=40;, score=0.406 total time=   5.6s\n",
      "[CV 2/3] END classification__max_depth=19, classification__n_estimators=40;, score=0.362 total time=   5.7s\n",
      "[CV 3/3] END classification__max_depth=19, classification__n_estimators=40;, score=0.361 total time=   5.6s\n",
      "[CV 1/3] END classification__max_depth=19, classification__n_estimators=70;, score=0.409 total time=   6.8s\n",
      "[CV 2/3] END classification__max_depth=19, classification__n_estimators=70;, score=0.377 total time=   6.9s\n",
      "[CV 3/3] END classification__max_depth=19, classification__n_estimators=70;, score=0.392 total time=   6.8s\n",
      "[CV 1/3] END classification__max_depth=19, classification__n_estimators=100;, score=0.394 total time=   8.2s\n",
      "[CV 2/3] END classification__max_depth=19, classification__n_estimators=100;, score=0.374 total time=   8.2s\n",
      "[CV 3/3] END classification__max_depth=19, classification__n_estimators=100;, score=0.414 total time=   8.2s\n",
      "[CV 1/3] END classification__max_depth=20, classification__n_estimators=10;, score=0.357 total time=   4.4s\n",
      "[CV 2/3] END classification__max_depth=20, classification__n_estimators=10;, score=0.354 total time=   4.5s\n",
      "[CV 3/3] END classification__max_depth=20, classification__n_estimators=10;, score=0.355 total time=   4.4s\n",
      "[CV 1/3] END classification__max_depth=20, classification__n_estimators=40;, score=0.392 total time=   5.8s\n",
      "[CV 2/3] END classification__max_depth=20, classification__n_estimators=40;, score=0.385 total time=   5.7s\n",
      "[CV 3/3] END classification__max_depth=20, classification__n_estimators=40;, score=0.409 total time=   5.6s\n",
      "[CV 1/3] END classification__max_depth=20, classification__n_estimators=70;, score=0.373 total time=   7.2s\n",
      "[CV 2/3] END classification__max_depth=20, classification__n_estimators=70;, score=0.398 total time=   7.0s\n",
      "[CV 3/3] END classification__max_depth=20, classification__n_estimators=70;, score=0.388 total time=   7.1s\n",
      "[CV 1/3] END classification__max_depth=20, classification__n_estimators=100;, score=0.402 total time=   8.4s\n",
      "[CV 2/3] END classification__max_depth=20, classification__n_estimators=100;, score=0.426 total time=   8.5s\n",
      "[CV 3/3] END classification__max_depth=20, classification__n_estimators=100;, score=0.402 total time=   8.5s\n",
      "Лучший результат: 0.4098421946334942\n",
      "Лучшие параметры: {'classification__max_depth': 20, 'classification__n_estimators': 100}\n",
      "CPU times: user 21min 15s, sys: 728 ms, total: 21min 15s\n",
      "Wall time: 21min 17s\n"
     ]
    }
   ],
   "source": [
    "%%time\n",
    "# рассчитаем модель логистической регрессии на уменьшенной выборке\n",
    "# инициализация параметров для GridSearchCV\n",
    "params_rf = {\"classification__max_depth\": range(1,21),\n",
    "            \"classification__n_estimators\": range(10,101,30)}\n",
    "model_rf = Pipeline([\n",
    "    ('tfidf', TfidfVectorizer(stop_words=list(stopwords))),\n",
    "    ('random_under_sampler', RandomUnderSampler(random_state=MY_RANDOM_STATE)),\n",
    "    ('classification', RandomForestClassifier(random_state=MY_RANDOM_STATE))\n",
    "])\n",
    "# запускаем функцию для подбора гиперпараметров и обучения модели\n",
    "grid_model_rf = training(model_rf, params_rf, features_train, target_train)"
   ]
  },
  {
   "cell_type": "markdown",
   "metadata": {},
   "source": [
    "Подберем порог."
   ]
  },
  {
   "cell_type": "code",
   "execution_count": 51,
   "metadata": {},
   "outputs": [
    {
     "name": "stdout",
     "output_type": "stream",
     "text": [
      "Статистика модели\n",
      "Порог = 0.00 | F1-мера = 0.184\n",
      "Порог = 0.02 | F1-мера = 0.184\n",
      "Порог = 0.04 | F1-мера = 0.184\n",
      "Порог = 0.06 | F1-мера = 0.184\n",
      "Порог = 0.08 | F1-мера = 0.184\n",
      "Порог = 0.10 | F1-мера = 0.185\n",
      "Порог = 0.12 | F1-мера = 0.185\n",
      "Порог = 0.14 | F1-мера = 0.185\n",
      "Порог = 0.16 | F1-мера = 0.185\n",
      "Порог = 0.18 | F1-мера = 0.186\n",
      "Порог = 0.20 | F1-мера = 0.187\n",
      "Порог = 0.22 | F1-мера = 0.187\n",
      "Порог = 0.24 | F1-мера = 0.188\n",
      "Порог = 0.26 | F1-мера = 0.189\n",
      "Порог = 0.28 | F1-мера = 0.190\n",
      "Порог = 0.30 | F1-мера = 0.192\n",
      "Порог = 0.32 | F1-мера = 0.194\n",
      "Порог = 0.34 | F1-мера = 0.198\n",
      "Порог = 0.36 | F1-мера = 0.202\n",
      "Порог = 0.38 | F1-мера = 0.208\n",
      "Порог = 0.40 | F1-мера = 0.216\n",
      "Порог = 0.42 | F1-мера = 0.228\n",
      "Порог = 0.44 | F1-мера = 0.246\n",
      "Порог = 0.46 | F1-мера = 0.271\n",
      "Порог = 0.48 | F1-мера = 0.313\n",
      "Порог = 0.50 | F1-мера = 0.381\n",
      "Порог = 0.52 | F1-мера = 0.491\n",
      "Порог = 0.54 | F1-мера = 0.652\n",
      "Порог = 0.56 | F1-мера = 0.524\n",
      "Порог = 0.58 | F1-мера = 0.339\n",
      "Порог = 0.60 | F1-мера = 0.188\n",
      "Порог = 0.62 | F1-мера = 0.103\n",
      "Порог = 0.64 | F1-мера = 0.055\n",
      "Порог = 0.66 | F1-мера = 0.034\n",
      "Порог = 0.68 | F1-мера = 0.019\n",
      "Порог = 0.70 | F1-мера = 0.007\n",
      "Порог = 0.72 | F1-мера = 0.002\n"
     ]
    },
    {
     "name": "stderr",
     "output_type": "stream",
     "text": [
      "/opt/conda/lib/python3.9/site-packages/sklearn/metrics/_classification.py:1471: UndefinedMetricWarning: Precision is ill-defined and being set to 0.0 due to no predicted samples. Use `zero_division` parameter to control this behavior.\n",
      "  _warn_prf(average, modifier, msg_start, len(result))\n",
      "/opt/conda/lib/python3.9/site-packages/sklearn/metrics/_classification.py:1471: UndefinedMetricWarning: Precision is ill-defined and being set to 0.0 due to no predicted samples. Use `zero_division` parameter to control this behavior.\n",
      "  _warn_prf(average, modifier, msg_start, len(result))\n",
      "/opt/conda/lib/python3.9/site-packages/sklearn/metrics/_classification.py:1471: UndefinedMetricWarning: Precision is ill-defined and being set to 0.0 due to no predicted samples. Use `zero_division` parameter to control this behavior.\n",
      "  _warn_prf(average, modifier, msg_start, len(result))\n",
      "/opt/conda/lib/python3.9/site-packages/sklearn/metrics/_classification.py:1471: UndefinedMetricWarning: Precision is ill-defined and being set to 0.0 due to no predicted samples. Use `zero_division` parameter to control this behavior.\n",
      "  _warn_prf(average, modifier, msg_start, len(result))\n",
      "/opt/conda/lib/python3.9/site-packages/sklearn/metrics/_classification.py:1471: UndefinedMetricWarning: Precision is ill-defined and being set to 0.0 due to no predicted samples. Use `zero_division` parameter to control this behavior.\n",
      "  _warn_prf(average, modifier, msg_start, len(result))\n",
      "/opt/conda/lib/python3.9/site-packages/sklearn/metrics/_classification.py:1471: UndefinedMetricWarning: Precision is ill-defined and being set to 0.0 due to no predicted samples. Use `zero_division` parameter to control this behavior.\n",
      "  _warn_prf(average, modifier, msg_start, len(result))\n",
      "/opt/conda/lib/python3.9/site-packages/sklearn/metrics/_classification.py:1471: UndefinedMetricWarning: Precision is ill-defined and being set to 0.0 due to no predicted samples. Use `zero_division` parameter to control this behavior.\n",
      "  _warn_prf(average, modifier, msg_start, len(result))\n",
      "/opt/conda/lib/python3.9/site-packages/sklearn/metrics/_classification.py:1471: UndefinedMetricWarning: Precision is ill-defined and being set to 0.0 due to no predicted samples. Use `zero_division` parameter to control this behavior.\n",
      "  _warn_prf(average, modifier, msg_start, len(result))\n"
     ]
    },
    {
     "name": "stdout",
     "output_type": "stream",
     "text": [
      "Порог = 0.74 | F1-мера = 0.000\n",
      "Порог = 0.76 | F1-мера = 0.000\n",
      "Порог = 0.78 | F1-мера = 0.000\n",
      "Порог = 0.80 | F1-мера = 0.000\n",
      "Порог = 0.82 | F1-мера = 0.000\n",
      "Порог = 0.84 | F1-мера = 0.000\n",
      "Порог = 0.86 | F1-мера = 0.000\n",
      "Порог = 0.88 | F1-мера = 0.000\n",
      "\n",
      "Лучшие оценки модели\n",
      "F1: 0.6516\n",
      "AUC-ROC: 0.8939\n",
      "Лучшее значение порога: 0.54\n",
      "________________________________________\n",
      "\n",
      "\n"
     ]
    },
    {
     "data": {
      "image/png": "[encoded data removed]",
      "text/plain": [
       "<Figure size 720x720 with 1 Axes>"
      ]
     },
     "metadata": {
      "needs_background": "light"
     },
     "output_type": "display_data"
    },
    {
     "data": {
      "image/png": "[encoded data removed]",
      "text/plain": [
       "<Figure size 720x720 with 1 Axes>"
      ]
     },
     "metadata": {
      "needs_background": "light"
     },
     "output_type": "display_data"
    }
   ],
   "source": [
    "# вызовем функцию для подбора порога и построения PR-кривой и ROC-кривой\n",
    "ml_threshold(grid_model_rf, [features_valid, target_valid], f1_score_list, threshold_list)"
   ]
  },
  {
   "cell_type": "markdown",
   "metadata": {},
   "source": [
    "#### LightGBM"
   ]
  },
  {
   "cell_type": "markdown",
   "metadata": {},
   "source": [
    "Перейдем к моделям с градиентным бустингом. Для LightGBM рассмотрим следующие гиперпараметры:\n",
    "- для `num_leaves` три значения: 70, 100, 150;\n",
    "- `max_depth`: 25, 50, 75;\n",
    "- `n_estimators`: 100,200;\n",
    "- `learning_rate`: 0.05,0.1,0.2. \n",
    "\n",
    "Найдем оптимальные гиперпараметры с помощью GridSearchCV."
   ]
  },
  {
   "cell_type": "code",
   "execution_count": 53,
   "metadata": {
    "scrolled": true
   },
   "outputs": [
    {
     "name": "stdout",
     "output_type": "stream",
     "text": [
      "Fitting 3 folds for each of 54 candidates, totalling 162 fits\n",
      "[CV 1/3] END classification__learning_rate=0.05, classification__max_depth=25, classification__n_estimators=100, classification__num_leaves=70;, score=0.707 total time=  17.6s\n",
      "[CV 2/3] END classification__learning_rate=0.05, classification__max_depth=25, classification__n_estimators=100, classification__num_leaves=70;, score=0.704 total time=  17.9s\n",
      "[CV 3/3] END classification__learning_rate=0.05, classification__max_depth=25, classification__n_estimators=100, classification__num_leaves=70;, score=0.719 total time=  18.6s\n",
      "[CV 1/3] END classification__learning_rate=0.05, classification__max_depth=25, classification__n_estimators=100, classification__num_leaves=100;, score=0.707 total time=  20.5s\n",
      "[CV 2/3] END classification__learning_rate=0.05, classification__max_depth=25, classification__n_estimators=100, classification__num_leaves=100;, score=0.694 total time=  20.3s\n",
      "[CV 3/3] END classification__learning_rate=0.05, classification__max_depth=25, classification__n_estimators=100, classification__num_leaves=100;, score=0.713 total time=  21.3s\n",
      "[CV 1/3] END classification__learning_rate=0.05, classification__max_depth=25, classification__n_estimators=100, classification__num_leaves=150;, score=0.702 total time=  23.2s\n",
      "[CV 2/3] END classification__learning_rate=0.05, classification__max_depth=25, classification__n_estimators=100, classification__num_leaves=150;, score=0.702 total time=  23.4s\n",
      "[CV 3/3] END classification__learning_rate=0.05, classification__max_depth=25, classification__n_estimators=100, classification__num_leaves=150;, score=0.706 total time=  23.5s\n",
      "[CV 1/3] END classification__learning_rate=0.05, classification__max_depth=25, classification__n_estimators=200, classification__num_leaves=70;, score=0.707 total time=  27.9s\n",
      "[CV 2/3] END classification__learning_rate=0.05, classification__max_depth=25, classification__n_estimators=200, classification__num_leaves=70;, score=0.703 total time=  28.0s\n",
      "[CV 3/3] END classification__learning_rate=0.05, classification__max_depth=25, classification__n_estimators=200, classification__num_leaves=70;, score=0.716 total time=  28.0s\n",
      "[CV 1/3] END classification__learning_rate=0.05, classification__max_depth=25, classification__n_estimators=200, classification__num_leaves=100;, score=0.706 total time=  31.4s\n",
      "[CV 2/3] END classification__learning_rate=0.05, classification__max_depth=25, classification__n_estimators=200, classification__num_leaves=100;, score=0.704 total time=  32.7s\n",
      "[CV 3/3] END classification__learning_rate=0.05, classification__max_depth=25, classification__n_estimators=200, classification__num_leaves=100;, score=0.708 total time=  32.0s\n",
      "[CV 1/3] END classification__learning_rate=0.05, classification__max_depth=25, classification__n_estimators=200, classification__num_leaves=150;, score=0.705 total time=  35.1s\n",
      "[CV 2/3] END classification__learning_rate=0.05, classification__max_depth=25, classification__n_estimators=200, classification__num_leaves=150;, score=0.706 total time=  35.9s\n",
      "[CV 3/3] END classification__learning_rate=0.05, classification__max_depth=25, classification__n_estimators=200, classification__num_leaves=150;, score=0.716 total time=  35.2s\n",
      "[CV 1/3] END classification__learning_rate=0.05, classification__max_depth=50, classification__n_estimators=100, classification__num_leaves=70;, score=0.700 total time=  21.7s\n",
      "[CV 2/3] END classification__learning_rate=0.05, classification__max_depth=50, classification__n_estimators=100, classification__num_leaves=70;, score=0.693 total time=  21.6s\n",
      "[CV 3/3] END classification__learning_rate=0.05, classification__max_depth=50, classification__n_estimators=100, classification__num_leaves=70;, score=0.700 total time=  22.4s\n",
      "[CV 1/3] END classification__learning_rate=0.05, classification__max_depth=50, classification__n_estimators=100, classification__num_leaves=100;, score=0.695 total time=  25.4s\n",
      "[CV 2/3] END classification__learning_rate=0.05, classification__max_depth=50, classification__n_estimators=100, classification__num_leaves=100;, score=0.698 total time=  25.9s\n",
      "[CV 3/3] END classification__learning_rate=0.05, classification__max_depth=50, classification__n_estimators=100, classification__num_leaves=100;, score=0.715 total time=  24.9s\n",
      "[CV 1/3] END classification__learning_rate=0.05, classification__max_depth=50, classification__n_estimators=100, classification__num_leaves=150;, score=0.694 total time=  28.9s\n",
      "[CV 2/3] END classification__learning_rate=0.05, classification__max_depth=50, classification__n_estimators=100, classification__num_leaves=150;, score=0.694 total time=  29.8s\n",
      "[CV 3/3] END classification__learning_rate=0.05, classification__max_depth=50, classification__n_estimators=100, classification__num_leaves=150;, score=0.703 total time=  29.5s\n",
      "[CV 1/3] END classification__learning_rate=0.05, classification__max_depth=50, classification__n_estimators=200, classification__num_leaves=70;, score=0.687 total time=  38.9s\n",
      "[CV 2/3] END classification__learning_rate=0.05, classification__max_depth=50, classification__n_estimators=200, classification__num_leaves=70;, score=0.693 total time=  37.8s\n",
      "[CV 3/3] END classification__learning_rate=0.05, classification__max_depth=50, classification__n_estimators=200, classification__num_leaves=70;, score=0.702 total time=  37.7s\n",
      "[CV 1/3] END classification__learning_rate=0.05, classification__max_depth=50, classification__n_estimators=200, classification__num_leaves=100;, score=0.690 total time=  43.0s\n",
      "[CV 2/3] END classification__learning_rate=0.05, classification__max_depth=50, classification__n_estimators=200, classification__num_leaves=100;, score=0.683 total time=  42.7s\n",
      "[CV 3/3] END classification__learning_rate=0.05, classification__max_depth=50, classification__n_estimators=200, classification__num_leaves=100;, score=0.693 total time=  42.2s\n",
      "[CV 1/3] END classification__learning_rate=0.05, classification__max_depth=50, classification__n_estimators=200, classification__num_leaves=150;, score=0.697 total time=  49.6s\n",
      "[CV 2/3] END classification__learning_rate=0.05, classification__max_depth=50, classification__n_estimators=200, classification__num_leaves=150;, score=0.690 total time=  48.4s\n",
      "[CV 3/3] END classification__learning_rate=0.05, classification__max_depth=50, classification__n_estimators=200, classification__num_leaves=150;, score=0.683 total time=  49.1s\n",
      "[CV 1/3] END classification__learning_rate=0.05, classification__max_depth=75, classification__n_estimators=100, classification__num_leaves=70;, score=0.686 total time=  23.2s\n",
      "[CV 2/3] END classification__learning_rate=0.05, classification__max_depth=75, classification__n_estimators=100, classification__num_leaves=70;, score=0.684 total time=  23.5s\n",
      "[CV 3/3] END classification__learning_rate=0.05, classification__max_depth=75, classification__n_estimators=100, classification__num_leaves=70;, score=0.699 total time=  23.6s\n",
      "[CV 1/3] END classification__learning_rate=0.05, classification__max_depth=75, classification__n_estimators=100, classification__num_leaves=100;, score=0.689 total time=  27.0s\n",
      "[CV 2/3] END classification__learning_rate=0.05, classification__max_depth=75, classification__n_estimators=100, classification__num_leaves=100;, score=0.682 total time=  28.9s\n",
      "[CV 3/3] END classification__learning_rate=0.05, classification__max_depth=75, classification__n_estimators=100, classification__num_leaves=100;, score=0.685 total time=  28.6s\n",
      "[CV 1/3] END classification__learning_rate=0.05, classification__max_depth=75, classification__n_estimators=100, classification__num_leaves=150;, score=0.685 total time=  32.8s\n",
      "[CV 2/3] END classification__learning_rate=0.05, classification__max_depth=75, classification__n_estimators=100, classification__num_leaves=150;, score=0.684 total time=  33.2s\n",
      "[CV 3/3] END classification__learning_rate=0.05, classification__max_depth=75, classification__n_estimators=100, classification__num_leaves=150;, score=0.689 total time=  33.8s\n",
      "[CV 1/3] END classification__learning_rate=0.05, classification__max_depth=75, classification__n_estimators=200, classification__num_leaves=70;, score=0.678 total time=  41.4s\n",
      "[CV 2/3] END classification__learning_rate=0.05, classification__max_depth=75, classification__n_estimators=200, classification__num_leaves=70;, score=0.680 total time=  42.4s\n",
      "[CV 3/3] END classification__learning_rate=0.05, classification__max_depth=75, classification__n_estimators=200, classification__num_leaves=70;, score=0.687 total time=  42.6s\n",
      "[CV 1/3] END classification__learning_rate=0.05, classification__max_depth=75, classification__n_estimators=200, classification__num_leaves=100;, score=0.669 total time=  50.3s\n",
      "[CV 2/3] END classification__learning_rate=0.05, classification__max_depth=75, classification__n_estimators=200, classification__num_leaves=100;, score=0.675 total time=  50.6s\n",
      "[CV 3/3] END classification__learning_rate=0.05, classification__max_depth=75, classification__n_estimators=200, classification__num_leaves=100;, score=0.679 total time=  52.3s\n",
      "[CV 1/3] END classification__learning_rate=0.05, classification__max_depth=75, classification__n_estimators=200, classification__num_leaves=150;, score=0.678 total time=  58.0s\n",
      "[CV 2/3] END classification__learning_rate=0.05, classification__max_depth=75, classification__n_estimators=200, classification__num_leaves=150;, score=0.678 total time=  58.7s\n",
      "[CV 3/3] END classification__learning_rate=0.05, classification__max_depth=75, classification__n_estimators=200, classification__num_leaves=150;, score=0.678 total time= 1.0min\n",
      "[CV 1/3] END classification__learning_rate=0.1, classification__max_depth=25, classification__n_estimators=100, classification__num_leaves=70;, score=0.707 total time=  17.3s\n",
      "[CV 2/3] END classification__learning_rate=0.1, classification__max_depth=25, classification__n_estimators=100, classification__num_leaves=70;, score=0.702 total time=  17.2s\n",
      "[CV 3/3] END classification__learning_rate=0.1, classification__max_depth=25, classification__n_estimators=100, classification__num_leaves=70;, score=0.712 total time=  16.6s\n",
      "[CV 1/3] END classification__learning_rate=0.1, classification__max_depth=25, classification__n_estimators=100, classification__num_leaves=100;, score=0.704 total time=  18.5s\n",
      "[CV 2/3] END classification__learning_rate=0.1, classification__max_depth=25, classification__n_estimators=100, classification__num_leaves=100;, score=0.701 total time=  18.3s\n",
      "[CV 3/3] END classification__learning_rate=0.1, classification__max_depth=25, classification__n_estimators=100, classification__num_leaves=100;, score=0.714 total time=  18.7s\n",
      "[CV 1/3] END classification__learning_rate=0.1, classification__max_depth=25, classification__n_estimators=100, classification__num_leaves=150;, score=0.697 total time=  20.0s\n",
      "[CV 2/3] END classification__learning_rate=0.1, classification__max_depth=25, classification__n_estimators=100, classification__num_leaves=150;, score=0.703 total time=  20.2s\n",
      "[CV 3/3] END classification__learning_rate=0.1, classification__max_depth=25, classification__n_estimators=100, classification__num_leaves=150;, score=0.709 total time=  20.5s\n",
      "[CV 1/3] END classification__learning_rate=0.1, classification__max_depth=25, classification__n_estimators=200, classification__num_leaves=70;, score=0.691 total time=  26.7s\n",
      "[CV 2/3] END classification__learning_rate=0.1, classification__max_depth=25, classification__n_estimators=200, classification__num_leaves=70;, score=0.689 total time=  26.7s\n",
      "[CV 3/3] END classification__learning_rate=0.1, classification__max_depth=25, classification__n_estimators=200, classification__num_leaves=70;, score=0.693 total time=  27.0s\n",
      "[CV 1/3] END classification__learning_rate=0.1, classification__max_depth=25, classification__n_estimators=200, classification__num_leaves=100;, score=0.690 total time=  28.9s\n",
      "[CV 2/3] END classification__learning_rate=0.1, classification__max_depth=25, classification__n_estimators=200, classification__num_leaves=100;, score=0.695 total time=  29.4s\n",
      "[CV 3/3] END classification__learning_rate=0.1, classification__max_depth=25, classification__n_estimators=200, classification__num_leaves=100;, score=0.692 total time=  29.6s\n",
      "[CV 1/3] END classification__learning_rate=0.1, classification__max_depth=25, classification__n_estimators=200, classification__num_leaves=150;, score=0.683 total time=  30.1s\n",
      "[CV 2/3] END classification__learning_rate=0.1, classification__max_depth=25, classification__n_estimators=200, classification__num_leaves=150;, score=0.688 total time=  30.1s\n",
      "[CV 3/3] END classification__learning_rate=0.1, classification__max_depth=25, classification__n_estimators=200, classification__num_leaves=150;, score=0.698 total time=  31.2s\n",
      "[CV 1/3] END classification__learning_rate=0.1, classification__max_depth=50, classification__n_estimators=100, classification__num_leaves=70;, score=0.693 total time=  20.6s\n",
      "[CV 2/3] END classification__learning_rate=0.1, classification__max_depth=50, classification__n_estimators=100, classification__num_leaves=70;, score=0.691 total time=  20.5s\n",
      "[CV 3/3] END classification__learning_rate=0.1, classification__max_depth=50, classification__n_estimators=100, classification__num_leaves=70;, score=0.697 total time=  20.8s\n",
      "[CV 1/3] END classification__learning_rate=0.1, classification__max_depth=50, classification__n_estimators=100, classification__num_leaves=100;, score=0.684 total time=  23.4s\n",
      "[CV 2/3] END classification__learning_rate=0.1, classification__max_depth=50, classification__n_estimators=100, classification__num_leaves=100;, score=0.684 total time=  23.6s\n",
      "[CV 3/3] END classification__learning_rate=0.1, classification__max_depth=50, classification__n_estimators=100, classification__num_leaves=100;, score=0.692 total time=  23.7s\n",
      "[CV 1/3] END classification__learning_rate=0.1, classification__max_depth=50, classification__n_estimators=100, classification__num_leaves=150;, score=0.683 total time=  26.9s\n",
      "[CV 2/3] END classification__learning_rate=0.1, classification__max_depth=50, classification__n_estimators=100, classification__num_leaves=150;, score=0.684 total time=  27.6s\n",
      "[CV 3/3] END classification__learning_rate=0.1, classification__max_depth=50, classification__n_estimators=100, classification__num_leaves=150;, score=0.691 total time=  27.1s\n",
      "[CV 1/3] END classification__learning_rate=0.1, classification__max_depth=50, classification__n_estimators=200, classification__num_leaves=70;, score=0.671 total time=  37.2s\n",
      "[CV 2/3] END classification__learning_rate=0.1, classification__max_depth=50, classification__n_estimators=200, classification__num_leaves=70;, score=0.666 total time=  36.1s\n",
      "[CV 3/3] END classification__learning_rate=0.1, classification__max_depth=50, classification__n_estimators=200, classification__num_leaves=70;, score=0.673 total time=  36.0s\n",
      "[CV 1/3] END classification__learning_rate=0.1, classification__max_depth=50, classification__n_estimators=200, classification__num_leaves=100;, score=0.667 total time=  40.9s\n",
      "[CV 2/3] END classification__learning_rate=0.1, classification__max_depth=50, classification__n_estimators=200, classification__num_leaves=100;, score=0.669 total time=  41.4s\n",
      "[CV 3/3] END classification__learning_rate=0.1, classification__max_depth=50, classification__n_estimators=200, classification__num_leaves=100;, score=0.669 total time=  41.8s\n",
      "[CV 1/3] END classification__learning_rate=0.1, classification__max_depth=50, classification__n_estimators=200, classification__num_leaves=150;, score=0.665 total time=  45.7s\n",
      "[CV 2/3] END classification__learning_rate=0.1, classification__max_depth=50, classification__n_estimators=200, classification__num_leaves=150;, score=0.672 total time=  46.8s\n",
      "[CV 3/3] END classification__learning_rate=0.1, classification__max_depth=50, classification__n_estimators=200, classification__num_leaves=150;, score=0.667 total time=  46.1s\n",
      "[CV 1/3] END classification__learning_rate=0.1, classification__max_depth=75, classification__n_estimators=100, classification__num_leaves=70;, score=0.684 total time=  22.8s\n",
      "[CV 2/3] END classification__learning_rate=0.1, classification__max_depth=75, classification__n_estimators=100, classification__num_leaves=70;, score=0.690 total time=  23.1s\n",
      "[CV 3/3] END classification__learning_rate=0.1, classification__max_depth=75, classification__n_estimators=100, classification__num_leaves=70;, score=0.684 total time=  23.4s\n",
      "[CV 1/3] END classification__learning_rate=0.1, classification__max_depth=75, classification__n_estimators=100, classification__num_leaves=100;, score=0.668 total time=  27.7s\n",
      "[CV 2/3] END classification__learning_rate=0.1, classification__max_depth=75, classification__n_estimators=100, classification__num_leaves=100;, score=0.676 total time=  27.6s\n",
      "[CV 3/3] END classification__learning_rate=0.1, classification__max_depth=75, classification__n_estimators=100, classification__num_leaves=100;, score=0.681 total time=  27.8s\n",
      "[CV 1/3] END classification__learning_rate=0.1, classification__max_depth=75, classification__n_estimators=100, classification__num_leaves=150;, score=0.667 total time=  31.5s\n",
      "[CV 2/3] END classification__learning_rate=0.1, classification__max_depth=75, classification__n_estimators=100, classification__num_leaves=150;, score=0.677 total time=  31.2s\n",
      "[CV 3/3] END classification__learning_rate=0.1, classification__max_depth=75, classification__n_estimators=100, classification__num_leaves=150;, score=0.674 total time=  32.9s\n",
      "[CV 1/3] END classification__learning_rate=0.1, classification__max_depth=75, classification__n_estimators=200, classification__num_leaves=70;, score=0.663 total time=  39.6s\n",
      "[CV 2/3] END classification__learning_rate=0.1, classification__max_depth=75, classification__n_estimators=200, classification__num_leaves=70;, score=0.670 total time=  39.8s\n",
      "[CV 3/3] END classification__learning_rate=0.1, classification__max_depth=75, classification__n_estimators=200, classification__num_leaves=70;, score=0.664 total time=  42.7s\n",
      "[CV 1/3] END classification__learning_rate=0.1, classification__max_depth=75, classification__n_estimators=200, classification__num_leaves=100;, score=0.652 total time=  48.1s\n",
      "[CV 2/3] END classification__learning_rate=0.1, classification__max_depth=75, classification__n_estimators=200, classification__num_leaves=100;, score=0.653 total time=  50.2s\n",
      "[CV 3/3] END classification__learning_rate=0.1, classification__max_depth=75, classification__n_estimators=200, classification__num_leaves=100;, score=0.659 total time=  49.8s\n",
      "[CV 1/3] END classification__learning_rate=0.1, classification__max_depth=75, classification__n_estimators=200, classification__num_leaves=150;, score=0.653 total time=  57.5s\n",
      "[CV 2/3] END classification__learning_rate=0.1, classification__max_depth=75, classification__n_estimators=200, classification__num_leaves=150;, score=0.655 total time=  56.9s\n",
      "[CV 3/3] END classification__learning_rate=0.1, classification__max_depth=75, classification__n_estimators=200, classification__num_leaves=150;, score=0.666 total time=  54.9s\n",
      "[CV 1/3] END classification__learning_rate=0.2, classification__max_depth=25, classification__n_estimators=100, classification__num_leaves=70;, score=0.683 total time=  16.2s\n",
      "[CV 2/3] END classification__learning_rate=0.2, classification__max_depth=25, classification__n_estimators=100, classification__num_leaves=70;, score=0.674 total time=  15.9s\n",
      "[CV 3/3] END classification__learning_rate=0.2, classification__max_depth=25, classification__n_estimators=100, classification__num_leaves=70;, score=0.693 total time=  15.8s\n",
      "[CV 1/3] END classification__learning_rate=0.2, classification__max_depth=25, classification__n_estimators=100, classification__num_leaves=100;, score=0.686 total time=  17.5s\n",
      "[CV 2/3] END classification__learning_rate=0.2, classification__max_depth=25, classification__n_estimators=100, classification__num_leaves=100;, score=0.687 total time=  17.0s\n",
      "[CV 3/3] END classification__learning_rate=0.2, classification__max_depth=25, classification__n_estimators=100, classification__num_leaves=100;, score=0.691 total time=  17.3s\n",
      "[CV 1/3] END classification__learning_rate=0.2, classification__max_depth=25, classification__n_estimators=100, classification__num_leaves=150;, score=0.680 total time=  18.1s\n",
      "[CV 2/3] END classification__learning_rate=0.2, classification__max_depth=25, classification__n_estimators=100, classification__num_leaves=150;, score=0.688 total time=  18.1s\n",
      "[CV 3/3] END classification__learning_rate=0.2, classification__max_depth=25, classification__n_estimators=100, classification__num_leaves=150;, score=0.698 total time=  18.4s\n",
      "[CV 1/3] END classification__learning_rate=0.2, classification__max_depth=25, classification__n_estimators=200, classification__num_leaves=70;, score=0.664 total time=  25.8s\n",
      "[CV 2/3] END classification__learning_rate=0.2, classification__max_depth=25, classification__n_estimators=200, classification__num_leaves=70;, score=0.661 total time=  25.5s\n",
      "[CV 3/3] END classification__learning_rate=0.2, classification__max_depth=25, classification__n_estimators=200, classification__num_leaves=70;, score=0.677 total time=  25.5s\n",
      "[CV 1/3] END classification__learning_rate=0.2, classification__max_depth=25, classification__n_estimators=200, classification__num_leaves=100;, score=0.663 total time=  27.8s\n",
      "[CV 2/3] END classification__learning_rate=0.2, classification__max_depth=25, classification__n_estimators=200, classification__num_leaves=100;, score=0.665 total time=  27.7s\n",
      "[CV 3/3] END classification__learning_rate=0.2, classification__max_depth=25, classification__n_estimators=200, classification__num_leaves=100;, score=0.668 total time=  27.4s\n",
      "[CV 1/3] END classification__learning_rate=0.2, classification__max_depth=25, classification__n_estimators=200, classification__num_leaves=150;, score=0.661 total time=  28.7s\n",
      "[CV 2/3] END classification__learning_rate=0.2, classification__max_depth=25, classification__n_estimators=200, classification__num_leaves=150;, score=0.665 total time=  27.8s\n",
      "[CV 3/3] END classification__learning_rate=0.2, classification__max_depth=25, classification__n_estimators=200, classification__num_leaves=150;, score=0.676 total time=  28.9s\n",
      "[CV 1/3] END classification__learning_rate=0.2, classification__max_depth=50, classification__n_estimators=100, classification__num_leaves=70;, score=0.665 total time=  19.9s\n",
      "[CV 2/3] END classification__learning_rate=0.2, classification__max_depth=50, classification__n_estimators=100, classification__num_leaves=70;, score=0.666 total time=  20.0s\n",
      "[CV 3/3] END classification__learning_rate=0.2, classification__max_depth=50, classification__n_estimators=100, classification__num_leaves=70;, score=0.663 total time=  20.2s\n",
      "[CV 1/3] END classification__learning_rate=0.2, classification__max_depth=50, classification__n_estimators=100, classification__num_leaves=100;, score=0.661 total time=  22.4s\n",
      "[CV 2/3] END classification__learning_rate=0.2, classification__max_depth=50, classification__n_estimators=100, classification__num_leaves=100;, score=0.669 total time=  23.0s\n",
      "[CV 3/3] END classification__learning_rate=0.2, classification__max_depth=50, classification__n_estimators=100, classification__num_leaves=100;, score=0.667 total time=  23.2s\n",
      "[CV 1/3] END classification__learning_rate=0.2, classification__max_depth=50, classification__n_estimators=100, classification__num_leaves=150;, score=0.652 total time=  25.9s\n",
      "[CV 2/3] END classification__learning_rate=0.2, classification__max_depth=50, classification__n_estimators=100, classification__num_leaves=150;, score=0.658 total time=  26.1s\n",
      "[CV 3/3] END classification__learning_rate=0.2, classification__max_depth=50, classification__n_estimators=100, classification__num_leaves=150;, score=0.672 total time=  25.0s\n",
      "[CV 1/3] END classification__learning_rate=0.2, classification__max_depth=50, classification__n_estimators=200, classification__num_leaves=70;, score=0.639 total time=  35.2s\n",
      "[CV 2/3] END classification__learning_rate=0.2, classification__max_depth=50, classification__n_estimators=200, classification__num_leaves=70;, score=0.646 total time=  34.8s\n",
      "[CV 3/3] END classification__learning_rate=0.2, classification__max_depth=50, classification__n_estimators=200, classification__num_leaves=70;, score=0.649 total time=  34.9s\n",
      "[CV 1/3] END classification__learning_rate=0.2, classification__max_depth=50, classification__n_estimators=200, classification__num_leaves=100;, score=0.639 total time=  39.6s\n",
      "[CV 2/3] END classification__learning_rate=0.2, classification__max_depth=50, classification__n_estimators=200, classification__num_leaves=100;, score=0.639 total time=  39.8s\n",
      "[CV 3/3] END classification__learning_rate=0.2, classification__max_depth=50, classification__n_estimators=200, classification__num_leaves=100;, score=0.647 total time=  39.0s\n",
      "[CV 1/3] END classification__learning_rate=0.2, classification__max_depth=50, classification__n_estimators=200, classification__num_leaves=150;, score=0.641 total time=  43.2s\n",
      "[CV 2/3] END classification__learning_rate=0.2, classification__max_depth=50, classification__n_estimators=200, classification__num_leaves=150;, score=0.635 total time=  44.8s\n",
      "[CV 3/3] END classification__learning_rate=0.2, classification__max_depth=50, classification__n_estimators=200, classification__num_leaves=150;, score=0.650 total time=  45.5s\n",
      "[CV 1/3] END classification__learning_rate=0.2, classification__max_depth=75, classification__n_estimators=100, classification__num_leaves=70;, score=0.651 total time=  22.8s\n",
      "[CV 2/3] END classification__learning_rate=0.2, classification__max_depth=75, classification__n_estimators=100, classification__num_leaves=70;, score=0.663 total time=  22.9s\n",
      "[CV 3/3] END classification__learning_rate=0.2, classification__max_depth=75, classification__n_estimators=100, classification__num_leaves=70;, score=0.668 total time=  21.7s\n",
      "[CV 1/3] END classification__learning_rate=0.2, classification__max_depth=75, classification__n_estimators=100, classification__num_leaves=100;, score=0.653 total time=  26.3s\n",
      "[CV 2/3] END classification__learning_rate=0.2, classification__max_depth=75, classification__n_estimators=100, classification__num_leaves=100;, score=0.656 total time=  27.6s\n",
      "[CV 3/3] END classification__learning_rate=0.2, classification__max_depth=75, classification__n_estimators=100, classification__num_leaves=100;, score=0.656 total time=  26.8s\n",
      "[CV 1/3] END classification__learning_rate=0.2, classification__max_depth=75, classification__n_estimators=100, classification__num_leaves=150;, score=0.647 total time=  31.1s\n",
      "[CV 2/3] END classification__learning_rate=0.2, classification__max_depth=75, classification__n_estimators=100, classification__num_leaves=150;, score=0.654 total time=  30.4s\n",
      "[CV 3/3] END classification__learning_rate=0.2, classification__max_depth=75, classification__n_estimators=100, classification__num_leaves=150;, score=0.667 total time=  30.1s\n",
      "[CV 1/3] END classification__learning_rate=0.2, classification__max_depth=75, classification__n_estimators=200, classification__num_leaves=70;, score=0.645 total time=  38.8s\n",
      "[CV 2/3] END classification__learning_rate=0.2, classification__max_depth=75, classification__n_estimators=200, classification__num_leaves=70;, score=0.641 total time=  38.6s\n",
      "[CV 3/3] END classification__learning_rate=0.2, classification__max_depth=75, classification__n_estimators=200, classification__num_leaves=70;, score=0.642 total time=  37.7s\n",
      "[CV 1/3] END classification__learning_rate=0.2, classification__max_depth=75, classification__n_estimators=200, classification__num_leaves=100;, score=0.638 total time=  46.5s\n",
      "[CV 2/3] END classification__learning_rate=0.2, classification__max_depth=75, classification__n_estimators=200, classification__num_leaves=100;, score=0.636 total time=  45.7s\n",
      "[CV 3/3] END classification__learning_rate=0.2, classification__max_depth=75, classification__n_estimators=200, classification__num_leaves=100;, score=0.638 total time=  47.7s\n",
      "[CV 1/3] END classification__learning_rate=0.2, classification__max_depth=75, classification__n_estimators=200, classification__num_leaves=150;, score=0.624 total time=  54.2s\n",
      "[CV 2/3] END classification__learning_rate=0.2, classification__max_depth=75, classification__n_estimators=200, classification__num_leaves=150;, score=0.628 total time=  53.4s\n",
      "[CV 3/3] END classification__learning_rate=0.2, classification__max_depth=75, classification__n_estimators=200, classification__num_leaves=150;, score=0.635 total time=  55.7s\n",
      "Лучший результат: 0.7099014803505083\n",
      "Лучшие параметры: {'classification__learning_rate': 0.05, 'classification__max_depth': 25, 'classification__n_estimators': 100, 'classification__num_leaves': 70}\n",
      "CPU times: user 1h 25min 10s, sys: 16.8 s, total: 1h 25min 27s\n",
      "Wall time: 1h 25min 53s\n"
     ]
    }
   ],
   "source": [
    "%%time\n",
    "# рассчитаем модель логистической регрессии на уменьшенной выборке\n",
    "# инициализация параметров для GridSearchCV\n",
    "params_lgbmr = {\"classification__max_depth\": [25, 50, 75],\n",
    "                \"classification__n_estimators\": [100, 200],\n",
    "                \"classification__num_leaves\": [70, 100, 150],\n",
    "                \"classification__learning_rate\": [0.05, 0.1, 0.2]}\n",
    "model_lgbmr = Pipeline([\n",
    "    ('tfidf', TfidfVectorizer(stop_words=list(stopwords))),\n",
    "    ('random_under_sampler', RandomUnderSampler(random_state=MY_RANDOM_STATE)),\n",
    "    ('classification', LGBMClassifier(random_state=MY_RANDOM_STATE))\n",
    "])\n",
    "# запускаем функцию для подбора гиперпараметров и обучения модели\n",
    "grid_model_lgbmr = training(model_lgbmr, params_lgbmr, features_train, target_train)"
   ]
  },
  {
   "cell_type": "markdown",
   "metadata": {},
   "source": [
    "Подберем оптимальный порог."
   ]
  },
  {
   "cell_type": "code",
   "execution_count": 54,
   "metadata": {},
   "outputs": [
    {
     "name": "stdout",
     "output_type": "stream",
     "text": [
      "Статистика модели\n",
      "Порог = 0.00 | F1-мера = 0.184\n",
      "Порог = 0.02 | F1-мера = 0.186\n",
      "Порог = 0.04 | F1-мера = 0.193\n",
      "Порог = 0.06 | F1-мера = 0.203\n",
      "Порог = 0.08 | F1-мера = 0.214\n",
      "Порог = 0.10 | F1-мера = 0.228\n",
      "Порог = 0.12 | F1-мера = 0.242\n",
      "Порог = 0.14 | F1-мера = 0.258\n",
      "Порог = 0.16 | F1-мера = 0.272\n",
      "Порог = 0.18 | F1-мера = 0.287\n",
      "Порог = 0.20 | F1-мера = 0.303\n",
      "Порог = 0.22 | F1-мера = 0.317\n",
      "Порог = 0.24 | F1-мера = 0.333\n",
      "Порог = 0.26 | F1-мера = 0.352\n",
      "Порог = 0.28 | F1-мера = 0.372\n",
      "Порог = 0.30 | F1-мера = 0.390\n",
      "Порог = 0.32 | F1-мера = 0.409\n",
      "Порог = 0.34 | F1-мера = 0.431\n",
      "Порог = 0.36 | F1-мера = 0.456\n",
      "Порог = 0.38 | F1-мера = 0.489\n",
      "Порог = 0.40 | F1-мера = 0.630\n",
      "Порог = 0.42 | F1-мера = 0.659\n",
      "Порог = 0.44 | F1-мера = 0.680\n",
      "Порог = 0.46 | F1-мера = 0.698\n",
      "Порог = 0.48 | F1-мера = 0.714\n",
      "Порог = 0.50 | F1-мера = 0.721\n",
      "Порог = 0.52 | F1-мера = 0.730\n",
      "Порог = 0.54 | F1-мера = 0.736\n",
      "Порог = 0.56 | F1-мера = 0.738\n",
      "Порог = 0.58 | F1-мера = 0.741\n",
      "Порог = 0.60 | F1-мера = 0.743\n",
      "Порог = 0.62 | F1-мера = 0.740\n",
      "Порог = 0.64 | F1-мера = 0.737\n",
      "Порог = 0.66 | F1-мера = 0.735\n",
      "Порог = 0.68 | F1-мера = 0.728\n",
      "Порог = 0.70 | F1-мера = 0.724\n",
      "Порог = 0.72 | F1-мера = 0.720\n",
      "Порог = 0.74 | F1-мера = 0.718\n",
      "Порог = 0.76 | F1-мера = 0.714\n",
      "Порог = 0.78 | F1-мера = 0.709\n",
      "Порог = 0.80 | F1-мера = 0.702\n",
      "Порог = 0.82 | F1-мера = 0.694\n",
      "Порог = 0.84 | F1-мера = 0.682\n",
      "Порог = 0.86 | F1-мера = 0.674\n",
      "Порог = 0.88 | F1-мера = 0.665\n",
      "\n",
      "Лучшие оценки модели\n",
      "F1: 0.7427\n",
      "AUC-ROC: 0.9434\n",
      "Лучшее значение порога: 0.6\n",
      "________________________________________\n",
      "\n",
      "\n"
     ]
    },
    {
     "data": {
      "image/png": "[encoded data removed]",
      "text/plain": [
       "<Figure size 720x720 with 1 Axes>"
      ]
     },
     "metadata": {
      "needs_background": "light"
     },
     "output_type": "display_data"
    },
    {
     "data": {
      "image/png": "[encoded data removed]",
      "text/plain": [
       "<Figure size 720x720 with 1 Axes>"
      ]
     },
     "metadata": {
      "needs_background": "light"
     },
     "output_type": "display_data"
    }
   ],
   "source": [
    "# вызовем функцию для подбора порога и построения PR-кривой и ROC-кривой\n",
    "ml_threshold(grid_model_lgbmr, [features_valid, target_valid], f1_score_list, threshold_list)"
   ]
  },
  {
   "cell_type": "markdown",
   "metadata": {},
   "source": [
    "### Выбор модели"
   ]
  },
  {
   "cell_type": "markdown",
   "metadata": {},
   "source": [
    "Для тестирования выберем наилучшую модель - для этого построим таблицу по полученным метрикам."
   ]
  },
  {
   "cell_type": "code",
   "execution_count": 55,
   "metadata": {},
   "outputs": [
    {
     "data": {
      "text/html": [
       "<div>\n",
       "<style scoped>\n",
       "    .dataframe tbody tr th:only-of-type {\n",
       "        vertical-align: middle;\n",
       "    }\n",
       "\n",
       "    .dataframe tbody tr th {\n",
       "        vertical-align: top;\n",
       "    }\n",
       "\n",
       "    .dataframe thead th {\n",
       "        text-align: right;\n",
       "    }\n",
       "</style>\n",
       "<table border=\"1\" class=\"dataframe\">\n",
       "  <thead>\n",
       "    <tr style=\"text-align: right;\">\n",
       "      <th></th>\n",
       "      <th>Модель</th>\n",
       "      <th>Метрика F1</th>\n",
       "      <th>Оптимальный порог</th>\n",
       "    </tr>\n",
       "  </thead>\n",
       "  <tbody>\n",
       "    <tr>\n",
       "      <th>0</th>\n",
       "      <td>LogisticRegression</td>\n",
       "      <td>0.7577</td>\n",
       "      <td>0.68</td>\n",
       "    </tr>\n",
       "    <tr>\n",
       "      <th>1</th>\n",
       "      <td>DecisionTreeClassifier</td>\n",
       "      <td>0.6235</td>\n",
       "      <td>0.86</td>\n",
       "    </tr>\n",
       "    <tr>\n",
       "      <th>2</th>\n",
       "      <td>RandomForestClassifier</td>\n",
       "      <td>0.6516</td>\n",
       "      <td>0.54</td>\n",
       "    </tr>\n",
       "    <tr>\n",
       "      <th>3</th>\n",
       "      <td>LightGBM</td>\n",
       "      <td>0.7427</td>\n",
       "      <td>0.60</td>\n",
       "    </tr>\n",
       "  </tbody>\n",
       "</table>\n",
       "</div>"
      ],
      "text/plain": [
       "                   Модель  Метрика F1  Оптимальный порог\n",
       "0      LogisticRegression      0.7577               0.68\n",
       "1  DecisionTreeClassifier      0.6235               0.86\n",
       "2  RandomForestClassifier      0.6516               0.54\n",
       "3                LightGBM      0.7427               0.60"
      ]
     },
     "execution_count": 55,
     "metadata": {},
     "output_type": "execute_result"
    }
   ],
   "source": [
    "# сформируем сводную таблицу по F1-мере для всех моделей\n",
    "# составим список обученных моделей\n",
    "model_names = ['LogisticRegression', 'DecisionTreeClassifier', 'RandomForestClassifier', 'LightGBM']\n",
    "score_table_f1 = pd.DataFrame(\n",
    "    {'Модель': model_names, \n",
    "     'Метрика F1': f1_score_list, \n",
    "     'Оптимальный порог': threshold_list\n",
    "    }\n",
    ")               \n",
    "score_table_f1"
   ]
  },
  {
   "cell_type": "markdown",
   "metadata": {},
   "source": [
    "Видим, что наилучшее значение F1 метрики показала модель логистической регрессии - `LogisticRegression` (0.7577 на валидационной выборке) при пороге в 0.68."
   ]
  },
  {
   "cell_type": "markdown",
   "metadata": {},
   "source": [
    "**Выводы:**\n",
    "1. Данные были поделены на 3 выборки с учётом стратификации: тренировочную, валидационную и тестовую в соотношении 3:1:1.\n",
    "2. Была произведена балансировка классов методом `Downsample`, параметр `frac` был выбран - 0.12.\n",
    "3. Текст был очищен от посторонних символов и проведена лемматизация с помощью библиотеки `spaCy`, так же были удалены стоп-слова.\n",
    "4. Была посчитана величина TF-IDF для текстов.\n",
    "5. Были обучены 4 модели, подобраны гиперпараметры и оптимальный порог. Наилучшие результаты:\n",
    "    - `LogisticRegression`: F1=0.7577 при пороге 0.68;\n",
    "    - `DecisionTreeClassifier` с гиперпараметром max_depth=18: F1=0.6235 при пороге 0.86;\n",
    "    - `RandomForestClassifier` с гиперпараметрами max_depth=20, n_estimators=100: F1=0.6516 при пороге 0.54;\n",
    "    - `LightGBM` с гиперпараметрами num_leaves=70, max_depth=25, learning_rate=0.05, n_estimators=100: F1=0.7427 при пороге 0.6.\n",
    "6. Таким образом, наилучшие резултаты показала модель `LogisticRegression`, теперь протестируем ее. "
   ]
  },
  {
   "cell_type": "markdown",
   "metadata": {},
   "source": [
    "## Тестирование модели"
   ]
  },
  {
   "cell_type": "markdown",
   "metadata": {},
   "source": [
    "В предыдущем разделе была выбрана наилучшая модель, проверим ее на тестовой выборке."
   ]
  },
  {
   "cell_type": "code",
   "execution_count": 59,
   "metadata": {},
   "outputs": [
    {
     "name": "stdout",
     "output_type": "stream",
     "text": [
      "0.7017189079878665\n",
      "CPU times: user 1.26 s, sys: 4.05 ms, total: 1.26 s\n",
      "Wall time: 1.26 s\n"
     ]
    }
   ],
   "source": [
    "%%time\n",
    "predicted_test = grid_model_lr.predict(features_test) # делаем предсказания\n",
    "# считаем f1\n",
    "f1_test = f1_score(target_test, predicted_test)\n",
    "print(f1_test)"
   ]
  },
  {
   "cell_type": "markdown",
   "metadata": {},
   "source": [
    "Вычислим F1 метрику при найденном на валидационной выборке оптимальном пороге - 0.82."
   ]
  },
  {
   "cell_type": "code",
   "execution_count": 60,
   "metadata": {},
   "outputs": [
    {
     "name": "stdout",
     "output_type": "stream",
     "text": [
      "Точность = 0.792, Полнота = 0.730 | F1-мера = 0.760\n"
     ]
    }
   ],
   "source": [
    "predictions = grid_model_lr.predict_proba(features_test)# найдем вероятности классов\n",
    "probabilities_one_test = predictions[:, 1] # вероятность положительного класса\n",
    "predicted_test = probabilities_one_test > 0.68 # находим вероятности больше порога\n",
    "# вычисляем метрики\n",
    "precision = precision_score(target_test, predicted_test)\n",
    "recall = recall_score(target_test, predicted_test)\n",
    "result = f1_score(target_test, predicted_test)\n",
    "print('Точность = {:.3f}, Полнота = {:.3f} | F1-мера = {:.3f}'.format(precision, recall, result))"
   ]
  },
  {
   "cell_type": "markdown",
   "metadata": {},
   "source": [
    "Модель удовлетворяет требованиям к F1 метрике - не меньше 0.75. "
   ]
  },
  {
   "cell_type": "markdown",
   "metadata": {},
   "source": [
    "**Выводы:** \n",
    "1. Наилучшая модель `LogisticRegression` была проверена на тестовых данных: F1=0.7017.\n",
    "2. Так как на валидационной выборке было выяснено, что оптимальный порог для модель - 0.68, мы посчитали F1 при таком оптимальном пороге: F1=0.76."
   ]
  },
  {
   "cell_type": "markdown",
   "metadata": {},
   "source": [
    "## Выводы"
   ]
  },
  {
   "cell_type": "markdown",
   "metadata": {},
   "source": [
    "1. Мы провели обзор и предобработку данных: был выявлен дисбаланс классов (объектов положительного класса всего 10% от всей выборки),  дубликатов, отрицательных значений, пропусков не обнаружено. Для балансировки классов была использована `imblearn` Текст был очищен от посторонних символов и проведена лемматизация с помощью библиотеки `spaCy`, так же были удалены стоп-слова.\n",
    "2. Целевым признаком определили данные по классификации текстов - `toxic`. Разбили данные на 3 выборки в соотношении 3:1:1 - обучающую, валидационную и тестовую. Данные были разбиты с учетом стратификации - случайного выбора объектов.\n",
    "3. Были подготовлены признаки к обучению моделей - для классификации текста были применены величины TF-IDF как признаки;\n",
    "4. Задача была определена, как бинарная классификация. Для решения задачи были применены и исследованы четыре варианта моделирования: дерево решений, случайный лес, логистическая регрессия, градиентный бустинг. Были подобраны оптимальные гиперпараметры и порог:\n",
    "- модель `Logistic Regression` была проанализирована в одном варианте. Модель логистической регрессии в этой задаче показала самые лучшие результаты: на валидационной выборке F1 = 0.7577 при пороге 0.68;\n",
    "- для моделей `Decision Tree` были проанализированы 20 вариантов: с гиперпараметром `max_depth` - максимальная глубина дерева - от 1 до 20. Наилучший результат модель случайного леса на валиадционной выборке показала при гиперпараметрах 'max_depth'=18 и при пороге 0.86: F1 = 0.6235;\n",
    "- для моделей `Random Forest` было проанализировано 80 вариантов: с гиперпараметром `n_estimators` - количество деревьев - от 10 до 100 с шагом 30, и гиперпараметром `max_depth` - максимальная глубина - от 1 до 20. Наилучший результат модель случайного леса на валидационной выборке показала при гиперпараметрах 'max_depth'=20, 'n_estimators'=100 и пороге 0.54:  F1 = 0.6516;\n",
    "- для моделей `LightGBM` было проанализировано 54 варианта: с гиперпараметрами для `num_leaves` - 70, 100, 150, `max_depth` - 25, 50, 75, `n_estimators` - 100,200, `learning_rate` - 0.05,0.1,0.2. Наилучший результат модель градиентного бустинга на валидационной выборке показала при гиперпараметрах 'learning_rate'=0.05, 'max_depth'=25, 'n_estimators'=100, 'num_leaves'=70 и пороге 0.6:  F1 = 0.7427.\n",
    "5. Самые хорошие результаты показала модель `Logistic Regression` при пороге 0.68: F1=0.7577.\n",
    "6. Эта же наилучшая модель на тестовых данных показала F1= 0.76 при оптимальном пороге 0.68."
   ]
  },
  {
   "cell_type": "markdown",
   "metadata": {},
   "source": [
    "## Чек-лист проверки"
   ]
  },
  {
   "cell_type": "markdown",
   "metadata": {},
   "source": [
    "- [x]  Jupyter Notebook открыт\n",
    "- [x]  Весь код выполняется без ошибок\n",
    "- [x]  Ячейки с кодом расположены в порядке исполнения\n",
    "- [x]  Данные загружены и подготовлены\n",
    "- [x]  Модели обучены\n",
    "- [x]  Значение метрики *F1* не меньше 0.75\n",
    "- [x]  Выводы написаны"
   ]
  }
 ],
 "metadata": {
  "ExecuteTimeLog": [
   {
    "duration": 1731,
    "start_time": "2023-10-24T20:51:54.364Z"
   },
   {
    "duration": 3,
    "start_time": "2023-10-24T20:51:56.097Z"
   },
   {
    "duration": 3,
    "start_time": "2023-10-24T20:52:05.196Z"
   },
   {
    "duration": 3064,
    "start_time": "2023-10-24T20:54:13.442Z"
   },
   {
    "duration": 6,
    "start_time": "2023-10-24T20:54:49.462Z"
   },
   {
    "duration": 10,
    "start_time": "2023-10-24T20:55:12.566Z"
   },
   {
    "duration": 30,
    "start_time": "2023-10-24T20:56:52.867Z"
   },
   {
    "duration": 20,
    "start_time": "2023-10-24T20:58:31.883Z"
   },
   {
    "duration": 7,
    "start_time": "2023-10-24T21:01:48.131Z"
   },
   {
    "duration": 439,
    "start_time": "2023-10-24T21:02:25.586Z"
   },
   {
    "duration": 18,
    "start_time": "2023-10-24T21:03:06.549Z"
   },
   {
    "duration": 460,
    "start_time": "2023-10-24T21:03:13.779Z"
   },
   {
    "duration": 15,
    "start_time": "2023-10-24T21:09:14.318Z"
   },
   {
    "duration": 174,
    "start_time": "2023-10-24T21:10:36.822Z"
   },
   {
    "duration": 165,
    "start_time": "2023-10-24T21:10:51.127Z"
   },
   {
    "duration": 29,
    "start_time": "2023-10-24T21:13:41.940Z"
   },
   {
    "duration": 241,
    "start_time": "2023-10-24T21:14:30.549Z"
   },
   {
    "duration": 4,
    "start_time": "2023-10-24T22:15:38.802Z"
   },
   {
    "duration": 4,
    "start_time": "2023-10-24T22:18:42.981Z"
   },
   {
    "duration": 4,
    "start_time": "2023-10-24T22:27:03.721Z"
   },
   {
    "duration": 2,
    "start_time": "2023-10-24T22:27:12.922Z"
   },
   {
    "duration": 138,
    "start_time": "2023-10-24T22:29:14.627Z"
   },
   {
    "duration": 3,
    "start_time": "2023-10-24T22:36:17.295Z"
   },
   {
    "duration": 4,
    "start_time": "2023-10-24T22:36:30.426Z"
   },
   {
    "duration": 19,
    "start_time": "2023-10-24T22:36:37.851Z"
   },
   {
    "duration": 4,
    "start_time": "2023-10-24T22:37:13.703Z"
   },
   {
    "duration": 15,
    "start_time": "2023-10-24T22:37:19.280Z"
   },
   {
    "duration": 3,
    "start_time": "2023-10-24T22:38:20.879Z"
   },
   {
    "duration": 13,
    "start_time": "2023-10-24T22:38:25.917Z"
   },
   {
    "duration": 4,
    "start_time": "2023-10-24T22:38:34.679Z"
   },
   {
    "duration": 14,
    "start_time": "2023-10-24T22:38:46.582Z"
   },
   {
    "duration": 14,
    "start_time": "2023-10-24T22:38:59.186Z"
   },
   {
    "duration": 2000,
    "start_time": "2023-10-24T22:39:58.088Z"
   },
   {
    "duration": 8,
    "start_time": "2023-10-24T22:40:12.107Z"
   },
   {
    "duration": 223,
    "start_time": "2023-10-24T22:42:45.763Z"
   },
   {
    "duration": 123,
    "start_time": "2023-10-24T22:46:10.123Z"
   },
   {
    "duration": 4,
    "start_time": "2023-10-24T22:46:47.362Z"
   },
   {
    "duration": 3,
    "start_time": "2023-10-24T22:47:50.996Z"
   },
   {
    "duration": 9,
    "start_time": "2023-10-25T21:03:04.008Z"
   },
   {
    "duration": 2361,
    "start_time": "2023-10-25T21:03:30.901Z"
   },
   {
    "duration": 3,
    "start_time": "2023-10-25T21:03:33.264Z"
   },
   {
    "duration": 26,
    "start_time": "2023-10-25T21:03:33.269Z"
   },
   {
    "duration": 20,
    "start_time": "2023-10-25T21:03:33.297Z"
   },
   {
    "duration": 8,
    "start_time": "2023-10-25T21:03:33.319Z"
   },
   {
    "duration": 2691,
    "start_time": "2023-10-25T21:03:33.329Z"
   },
   {
    "duration": 6,
    "start_time": "2023-10-25T21:03:36.022Z"
   },
   {
    "duration": 254,
    "start_time": "2023-10-25T21:03:36.030Z"
   },
   {
    "duration": 70,
    "start_time": "2023-10-25T21:03:36.286Z"
   },
   {
    "duration": 479,
    "start_time": "2023-10-25T21:03:36.358Z"
   },
   {
    "duration": 183,
    "start_time": "2023-10-25T21:03:36.839Z"
   },
   {
    "duration": 27,
    "start_time": "2023-10-25T21:03:37.024Z"
   },
   {
    "duration": 218,
    "start_time": "2023-10-25T21:03:37.053Z"
   },
   {
    "duration": 2072,
    "start_time": "2023-10-25T21:03:43.097Z"
   },
   {
    "duration": 8,
    "start_time": "2023-10-25T21:03:55.741Z"
   },
   {
    "duration": 225,
    "start_time": "2023-10-25T21:04:44.599Z"
   },
   {
    "duration": 5,
    "start_time": "2023-10-25T21:04:50.045Z"
   },
   {
    "duration": 3,
    "start_time": "2023-10-25T21:04:51.458Z"
   },
   {
    "duration": 4,
    "start_time": "2023-10-25T21:18:46.088Z"
   },
   {
    "duration": 496,
    "start_time": "2023-10-25T21:19:15.562Z"
   },
   {
    "duration": 16,
    "start_time": "2023-10-25T21:19:35.941Z"
   },
   {
    "duration": 1193,
    "start_time": "2023-10-25T21:19:45.061Z"
   },
   {
    "duration": 2510,
    "start_time": "2023-10-26T17:13:02.131Z"
   },
   {
    "duration": 16,
    "start_time": "2023-10-26T17:13:04.649Z"
   },
   {
    "duration": 73,
    "start_time": "2023-10-26T17:13:04.667Z"
   },
   {
    "duration": 52,
    "start_time": "2023-10-26T17:13:04.745Z"
   },
   {
    "duration": 43,
    "start_time": "2023-10-26T17:13:04.800Z"
   },
   {
    "duration": 3603,
    "start_time": "2023-10-26T17:13:04.845Z"
   },
   {
    "duration": 10,
    "start_time": "2023-10-26T17:13:08.450Z"
   },
   {
    "duration": 57,
    "start_time": "2023-10-26T17:13:08.463Z"
   },
   {
    "duration": 64,
    "start_time": "2023-10-26T17:13:08.525Z"
   },
   {
    "duration": 565,
    "start_time": "2023-10-26T17:13:08.596Z"
   },
   {
    "duration": 269,
    "start_time": "2023-10-26T17:13:09.164Z"
   },
   {
    "duration": 37,
    "start_time": "2023-10-26T17:13:09.436Z"
   },
   {
    "duration": 292,
    "start_time": "2023-10-26T17:13:09.476Z"
   },
   {
    "duration": 2818,
    "start_time": "2023-10-26T17:13:09.772Z"
   },
   {
    "duration": 16,
    "start_time": "2023-10-26T17:13:12.595Z"
   },
   {
    "duration": 174,
    "start_time": "2023-10-26T17:14:49.610Z"
   },
   {
    "duration": 2213,
    "start_time": "2023-10-26T17:16:26.716Z"
   },
   {
    "duration": 1725,
    "start_time": "2023-10-26T17:17:25.788Z"
   },
   {
    "duration": 3,
    "start_time": "2023-10-26T17:17:27.516Z"
   },
   {
    "duration": 28,
    "start_time": "2023-10-26T17:17:27.521Z"
   },
   {
    "duration": 26,
    "start_time": "2023-10-26T17:17:27.551Z"
   },
   {
    "duration": 40,
    "start_time": "2023-10-26T17:17:27.579Z"
   },
   {
    "duration": 3006,
    "start_time": "2023-10-26T17:17:27.620Z"
   },
   {
    "duration": 6,
    "start_time": "2023-10-26T17:17:30.628Z"
   },
   {
    "duration": 236,
    "start_time": "2023-10-26T17:17:30.636Z"
   },
   {
    "duration": 141,
    "start_time": "2023-10-26T17:17:30.873Z"
   },
   {
    "duration": 561,
    "start_time": "2023-10-26T17:17:31.017Z"
   },
   {
    "duration": 200,
    "start_time": "2023-10-26T17:17:31.581Z"
   },
   {
    "duration": 36,
    "start_time": "2023-10-26T17:17:31.783Z"
   },
   {
    "duration": 247,
    "start_time": "2023-10-26T17:17:31.825Z"
   },
   {
    "duration": 2417,
    "start_time": "2023-10-26T17:17:32.074Z"
   },
   {
    "duration": 19,
    "start_time": "2023-10-26T17:17:34.493Z"
   },
   {
    "duration": 2174,
    "start_time": "2023-10-26T17:17:46.939Z"
   },
   {
    "duration": 5,
    "start_time": "2023-10-26T17:20:08.009Z"
   },
   {
    "duration": 3,
    "start_time": "2023-10-26T17:34:14.959Z"
   },
   {
    "duration": 165,
    "start_time": "2023-10-26T17:34:16.302Z"
   },
   {
    "duration": 16,
    "start_time": "2023-10-26T17:34:45.781Z"
   },
   {
    "duration": 3452,
    "start_time": "2023-10-26T17:35:09.057Z"
   },
   {
    "duration": 9743,
    "start_time": "2023-10-26T17:35:34.887Z"
   },
   {
    "duration": 9870,
    "start_time": "2023-10-26T17:37:11.457Z"
   },
   {
    "duration": 59,
    "start_time": "2023-10-26T17:39:42.775Z"
   },
   {
    "duration": 1851,
    "start_time": "2023-10-26T17:39:47.290Z"
   },
   {
    "duration": 2,
    "start_time": "2023-10-26T17:39:49.143Z"
   },
   {
    "duration": 32,
    "start_time": "2023-10-26T17:39:49.147Z"
   },
   {
    "duration": 16,
    "start_time": "2023-10-26T17:39:49.182Z"
   },
   {
    "duration": 19,
    "start_time": "2023-10-26T17:39:49.200Z"
   },
   {
    "duration": 2983,
    "start_time": "2023-10-26T17:39:49.221Z"
   },
   {
    "duration": 11,
    "start_time": "2023-10-26T17:39:52.207Z"
   },
   {
    "duration": 40,
    "start_time": "2023-10-26T17:39:52.220Z"
   },
   {
    "duration": 83,
    "start_time": "2023-10-26T17:39:52.261Z"
   },
   {
    "duration": 521,
    "start_time": "2023-10-26T17:39:52.346Z"
   },
   {
    "duration": 192,
    "start_time": "2023-10-26T17:39:52.869Z"
   },
   {
    "duration": 27,
    "start_time": "2023-10-26T17:39:53.062Z"
   },
   {
    "duration": 226,
    "start_time": "2023-10-26T17:39:53.100Z"
   },
   {
    "duration": 2436,
    "start_time": "2023-10-26T17:39:53.328Z"
   },
   {
    "duration": 8,
    "start_time": "2023-10-26T17:39:55.766Z"
   },
   {
    "duration": 11459,
    "start_time": "2023-10-26T17:39:58.569Z"
   },
   {
    "duration": 4,
    "start_time": "2023-10-26T17:41:40.155Z"
   },
   {
    "duration": 1725,
    "start_time": "2023-10-26T17:42:10.472Z"
   },
   {
    "duration": 13,
    "start_time": "2023-10-26T17:42:12.200Z"
   },
   {
    "duration": 18,
    "start_time": "2023-10-26T17:42:12.216Z"
   },
   {
    "duration": 35,
    "start_time": "2023-10-26T17:42:12.236Z"
   },
   {
    "duration": 43,
    "start_time": "2023-10-26T17:42:12.273Z"
   },
   {
    "duration": 3028,
    "start_time": "2023-10-26T17:42:12.318Z"
   },
   {
    "duration": 6,
    "start_time": "2023-10-26T17:42:15.348Z"
   },
   {
    "duration": 57,
    "start_time": "2023-10-26T17:42:15.355Z"
   },
   {
    "duration": 31,
    "start_time": "2023-10-26T17:42:15.418Z"
   },
   {
    "duration": 465,
    "start_time": "2023-10-26T17:42:15.451Z"
   },
   {
    "duration": 173,
    "start_time": "2023-10-26T17:42:15.918Z"
   },
   {
    "duration": 37,
    "start_time": "2023-10-26T17:42:16.093Z"
   },
   {
    "duration": 232,
    "start_time": "2023-10-26T17:42:16.131Z"
   },
   {
    "duration": 2258,
    "start_time": "2023-10-26T17:42:16.365Z"
   },
   {
    "duration": 11,
    "start_time": "2023-10-26T17:42:18.625Z"
   },
   {
    "duration": 21,
    "start_time": "2023-10-26T17:42:18.639Z"
   },
   {
    "duration": 3131,
    "start_time": "2023-10-26T17:42:18.663Z"
   },
   {
    "duration": 3239,
    "start_time": "2023-10-26T18:08:16.665Z"
   },
   {
    "duration": 9,
    "start_time": "2023-10-26T18:10:08.839Z"
   },
   {
    "duration": 26,
    "start_time": "2023-10-26T18:10:08.850Z"
   },
   {
    "duration": 65,
    "start_time": "2023-10-26T18:10:08.878Z"
   },
   {
    "duration": 197,
    "start_time": "2023-10-26T18:10:08.945Z"
   },
   {
    "duration": 378,
    "start_time": "2023-10-26T18:10:09.144Z"
   },
   {
    "duration": 1284,
    "start_time": "2023-10-26T18:10:09.523Z"
   },
   {
    "duration": 7,
    "start_time": "2023-10-26T18:10:10.809Z"
   },
   {
    "duration": 160,
    "start_time": "2023-10-26T18:10:10.818Z"
   },
   {
    "duration": 88,
    "start_time": "2023-10-26T18:10:10.981Z"
   },
   {
    "duration": 507,
    "start_time": "2023-10-26T18:10:11.073Z"
   },
   {
    "duration": 186,
    "start_time": "2023-10-26T18:10:11.582Z"
   },
   {
    "duration": 48,
    "start_time": "2023-10-26T18:10:11.770Z"
   },
   {
    "duration": 296,
    "start_time": "2023-10-26T18:10:11.821Z"
   },
   {
    "duration": 2670,
    "start_time": "2023-10-26T18:10:12.122Z"
   },
   {
    "duration": 12,
    "start_time": "2023-10-26T18:10:14.804Z"
   },
   {
    "duration": 513,
    "start_time": "2023-10-26T18:16:32.281Z"
   },
   {
    "duration": 671,
    "start_time": "2023-10-26T18:16:56.599Z"
   },
   {
    "duration": 3,
    "start_time": "2023-10-26T18:17:48.373Z"
   },
   {
    "duration": 42,
    "start_time": "2023-10-26T18:19:39.937Z"
   },
   {
    "duration": 27,
    "start_time": "2023-10-26T18:19:58.090Z"
   },
   {
    "duration": 2351,
    "start_time": "2023-10-26T18:21:40.563Z"
   },
   {
    "duration": 123,
    "start_time": "2023-10-26T18:22:00.954Z"
   },
   {
    "duration": 4,
    "start_time": "2023-10-26T18:28:21.654Z"
   },
   {
    "duration": 6,
    "start_time": "2023-10-26T18:37:54.641Z"
   },
   {
    "duration": 55,
    "start_time": "2023-10-26T18:37:54.649Z"
   },
   {
    "duration": 47,
    "start_time": "2023-10-26T18:37:54.706Z"
   },
   {
    "duration": 35,
    "start_time": "2023-10-26T18:37:54.756Z"
   },
   {
    "duration": 32,
    "start_time": "2023-10-26T18:37:54.793Z"
   },
   {
    "duration": 22,
    "start_time": "2023-10-26T18:37:54.827Z"
   },
   {
    "duration": 1070,
    "start_time": "2023-10-26T18:37:54.851Z"
   },
   {
    "duration": 5,
    "start_time": "2023-10-26T18:37:55.923Z"
   },
   {
    "duration": 33,
    "start_time": "2023-10-26T18:37:55.930Z"
   },
   {
    "duration": 35,
    "start_time": "2023-10-26T18:37:55.965Z"
   },
   {
    "duration": 419,
    "start_time": "2023-10-26T18:37:56.002Z"
   },
   {
    "duration": 167,
    "start_time": "2023-10-26T18:37:56.423Z"
   },
   {
    "duration": 30,
    "start_time": "2023-10-26T18:37:56.593Z"
   },
   {
    "duration": 286,
    "start_time": "2023-10-26T18:37:56.625Z"
   },
   {
    "duration": 11,
    "start_time": "2023-10-26T18:38:00.988Z"
   },
   {
    "duration": 61,
    "start_time": "2023-10-26T18:38:37.238Z"
   },
   {
    "duration": 1915,
    "start_time": "2023-10-26T18:40:16.309Z"
   },
   {
    "duration": 8,
    "start_time": "2023-10-26T18:40:59.713Z"
   },
   {
    "duration": 59,
    "start_time": "2023-10-26T18:42:07.339Z"
   },
   {
    "duration": 32,
    "start_time": "2023-10-26T18:42:24.657Z"
   },
   {
    "duration": 6,
    "start_time": "2023-10-26T18:44:00.800Z"
   },
   {
    "duration": 668,
    "start_time": "2023-10-26T18:56:16.142Z"
   },
   {
    "duration": 5,
    "start_time": "2023-10-26T19:12:48.020Z"
   },
   {
    "duration": 7,
    "start_time": "2023-10-26T19:15:56.315Z"
   },
   {
    "duration": 6,
    "start_time": "2023-10-26T19:18:11.465Z"
   },
   {
    "duration": 42,
    "start_time": "2023-10-26T19:19:22.904Z"
   },
   {
    "duration": 5,
    "start_time": "2023-10-26T19:20:34.095Z"
   },
   {
    "duration": 25,
    "start_time": "2023-10-26T19:20:39.103Z"
   },
   {
    "duration": 4,
    "start_time": "2023-10-26T19:21:24.600Z"
   },
   {
    "duration": 4,
    "start_time": "2023-10-26T19:21:43.270Z"
   },
   {
    "duration": 7,
    "start_time": "2023-10-26T19:22:43.611Z"
   },
   {
    "duration": 15,
    "start_time": "2023-10-26T19:24:02.628Z"
   },
   {
    "duration": 33,
    "start_time": "2023-10-26T19:25:52.217Z"
   },
   {
    "duration": 49,
    "start_time": "2023-10-26T19:26:31.624Z"
   },
   {
    "duration": 50,
    "start_time": "2023-10-26T19:27:04.525Z"
   },
   {
    "duration": 24,
    "start_time": "2023-10-26T19:27:52.555Z"
   },
   {
    "duration": 39,
    "start_time": "2023-10-26T19:28:07.644Z"
   },
   {
    "duration": 43,
    "start_time": "2023-10-26T19:28:21.059Z"
   },
   {
    "duration": 28,
    "start_time": "2023-10-26T19:28:45.032Z"
   },
   {
    "duration": 4645,
    "start_time": "2023-10-26T19:39:09.423Z"
   },
   {
    "duration": 7,
    "start_time": "2023-10-26T19:39:14.070Z"
   },
   {
    "duration": 64,
    "start_time": "2023-10-26T19:39:14.079Z"
   },
   {
    "duration": 16,
    "start_time": "2023-10-26T19:39:14.145Z"
   },
   {
    "duration": 21,
    "start_time": "2023-10-26T19:39:14.165Z"
   },
   {
    "duration": 22,
    "start_time": "2023-10-26T19:39:14.188Z"
   },
   {
    "duration": 12,
    "start_time": "2023-10-26T19:39:14.213Z"
   },
   {
    "duration": 2707,
    "start_time": "2023-10-26T19:39:14.227Z"
   },
   {
    "duration": 5,
    "start_time": "2023-10-26T19:39:16.936Z"
   },
   {
    "duration": 16,
    "start_time": "2023-10-26T19:39:16.943Z"
   },
   {
    "duration": 41,
    "start_time": "2023-10-26T19:39:16.961Z"
   },
   {
    "duration": 429,
    "start_time": "2023-10-26T19:39:17.004Z"
   },
   {
    "duration": 171,
    "start_time": "2023-10-26T19:39:17.435Z"
   },
   {
    "duration": 28,
    "start_time": "2023-10-26T19:39:17.609Z"
   },
   {
    "duration": 213,
    "start_time": "2023-10-26T19:39:17.639Z"
   },
   {
    "duration": 11,
    "start_time": "2023-10-26T19:39:17.854Z"
   },
   {
    "duration": 80,
    "start_time": "2023-10-26T19:39:17.867Z"
   },
   {
    "duration": 31,
    "start_time": "2023-10-26T19:39:17.949Z"
   },
   {
    "duration": 7,
    "start_time": "2023-10-26T19:39:17.982Z"
   },
   {
    "duration": 7,
    "start_time": "2023-10-26T19:39:18.001Z"
   },
   {
    "duration": 40,
    "start_time": "2023-10-26T19:39:18.010Z"
   },
   {
    "duration": 3,
    "start_time": "2023-10-26T19:39:18.052Z"
   },
   {
    "duration": 21,
    "start_time": "2023-10-26T19:39:18.057Z"
   },
   {
    "duration": 36,
    "start_time": "2023-10-26T19:39:18.080Z"
   },
   {
    "duration": 549,
    "start_time": "2023-10-26T19:39:18.118Z"
   },
   {
    "duration": 35,
    "start_time": "2023-10-26T19:39:18.668Z"
   },
   {
    "duration": 521437,
    "start_time": "2023-10-26T19:39:18.705Z"
   },
   {
    "duration": 474,
    "start_time": "2023-10-26T19:48:00.144Z"
   },
   {
    "duration": 0,
    "start_time": "2023-10-26T19:48:00.620Z"
   },
   {
    "duration": 5,
    "start_time": "2023-10-26T19:50:06.376Z"
   },
   {
    "duration": 5,
    "start_time": "2023-10-26T19:50:13.595Z"
   },
   {
    "duration": 3,
    "start_time": "2023-10-26T19:50:16.838Z"
   },
   {
    "duration": 3247,
    "start_time": "2023-10-26T19:50:19.450Z"
   },
   {
    "duration": 18,
    "start_time": "2023-10-26T19:51:02.626Z"
   },
   {
    "duration": 4,
    "start_time": "2023-10-26T19:51:09.090Z"
   },
   {
    "duration": 18,
    "start_time": "2023-10-26T19:52:05.943Z"
   },
   {
    "duration": 13350,
    "start_time": "2023-10-26T19:56:38.573Z"
   },
   {
    "duration": 5,
    "start_time": "2023-10-26T19:57:33.138Z"
   },
   {
    "duration": 12462,
    "start_time": "2023-10-26T19:57:37.259Z"
   },
   {
    "duration": 4536,
    "start_time": "2023-10-26T20:12:12.080Z"
   },
   {
    "duration": 6,
    "start_time": "2023-10-26T20:12:16.618Z"
   },
   {
    "duration": 12,
    "start_time": "2023-10-26T20:12:16.626Z"
   },
   {
    "duration": 25,
    "start_time": "2023-10-26T20:12:16.640Z"
   },
   {
    "duration": 15,
    "start_time": "2023-10-26T20:12:16.667Z"
   },
   {
    "duration": 30,
    "start_time": "2023-10-26T20:12:16.684Z"
   },
   {
    "duration": 28,
    "start_time": "2023-10-26T20:12:16.717Z"
   },
   {
    "duration": 1124,
    "start_time": "2023-10-26T20:12:16.747Z"
   },
   {
    "duration": 6,
    "start_time": "2023-10-26T20:12:17.872Z"
   },
   {
    "duration": 33,
    "start_time": "2023-10-26T20:12:17.882Z"
   },
   {
    "duration": 35,
    "start_time": "2023-10-26T20:12:17.917Z"
   },
   {
    "duration": 473,
    "start_time": "2023-10-26T20:12:17.954Z"
   },
   {
    "duration": 192,
    "start_time": "2023-10-26T20:12:18.429Z"
   },
   {
    "duration": 31,
    "start_time": "2023-10-26T20:12:18.623Z"
   },
   {
    "duration": 251,
    "start_time": "2023-10-26T20:12:18.656Z"
   },
   {
    "duration": 13,
    "start_time": "2023-10-26T20:12:18.909Z"
   },
   {
    "duration": 63,
    "start_time": "2023-10-26T20:12:18.923Z"
   },
   {
    "duration": 20,
    "start_time": "2023-10-26T20:12:18.988Z"
   },
   {
    "duration": 14,
    "start_time": "2023-10-26T20:12:19.010Z"
   },
   {
    "duration": 47,
    "start_time": "2023-10-26T20:12:19.026Z"
   },
   {
    "duration": 3,
    "start_time": "2023-10-26T20:12:19.075Z"
   },
   {
    "duration": 6,
    "start_time": "2023-10-26T20:12:19.080Z"
   },
   {
    "duration": 17,
    "start_time": "2023-10-26T20:12:19.088Z"
   },
   {
    "duration": 542,
    "start_time": "2023-10-26T20:12:19.112Z"
   },
   {
    "duration": 16,
    "start_time": "2023-10-26T20:12:19.656Z"
   },
   {
    "duration": 423302,
    "start_time": "2023-10-26T20:12:19.674Z"
   },
   {
    "duration": 146,
    "start_time": "2023-10-26T20:19:22.977Z"
   },
   {
    "duration": 3,
    "start_time": "2023-10-26T20:19:23.127Z"
   },
   {
    "duration": 2555,
    "start_time": "2023-10-26T20:19:23.132Z"
   },
   {
    "duration": 4,
    "start_time": "2023-10-26T20:19:31.910Z"
   },
   {
    "duration": 417,
    "start_time": "2023-10-26T20:20:51.577Z"
   },
   {
    "duration": 34667,
    "start_time": "2023-10-26T20:21:25.442Z"
   },
   {
    "duration": 3,
    "start_time": "2023-10-26T20:23:20.472Z"
   },
   {
    "duration": 122,
    "start_time": "2023-10-26T20:25:18.682Z"
   },
   {
    "duration": 41540,
    "start_time": "2023-10-26T20:25:41.204Z"
   },
   {
    "duration": 168,
    "start_time": "2023-10-26T20:28:02.033Z"
   },
   {
    "duration": 17,
    "start_time": "2023-10-26T20:29:04.521Z"
   },
   {
    "duration": 30185,
    "start_time": "2023-10-26T20:29:10.278Z"
   },
   {
    "duration": 523,
    "start_time": "2023-10-26T20:37:49.033Z"
   },
   {
    "duration": 527,
    "start_time": "2023-10-26T20:38:35.152Z"
   },
   {
    "duration": 20,
    "start_time": "2023-10-26T20:38:44.430Z"
   },
   {
    "duration": 5,
    "start_time": "2023-10-26T20:51:08.833Z"
   },
   {
    "duration": 64740,
    "start_time": "2023-10-26T20:51:15.370Z"
   },
   {
    "duration": 20,
    "start_time": "2023-10-26T20:52:39.059Z"
   },
   {
    "duration": 86310,
    "start_time": "2023-10-26T20:52:52.909Z"
   },
   {
    "duration": 23,
    "start_time": "2023-10-26T20:54:48.108Z"
   },
   {
    "duration": 55352,
    "start_time": "2023-10-26T20:55:06.181Z"
   },
   {
    "duration": 149,
    "start_time": "2023-10-26T21:00:26.313Z"
   },
   {
    "duration": 101,
    "start_time": "2023-10-26T21:00:43.203Z"
   },
   {
    "duration": 544621,
    "start_time": "2023-10-26T21:00:51.897Z"
   },
   {
    "duration": 4,
    "start_time": "2023-10-26T21:09:56.520Z"
   },
   {
    "duration": 19325,
    "start_time": "2023-10-26T21:10:17.867Z"
   },
   {
    "duration": 1268499,
    "start_time": "2023-10-26T21:10:57.585Z"
   },
   {
    "duration": 41228,
    "start_time": "2023-10-26T21:32:12.878Z"
   },
   {
    "duration": 19,
    "start_time": "2023-10-26T21:33:28.342Z"
   },
   {
    "duration": 4222,
    "start_time": "2023-10-26T21:36:38.551Z"
   },
   {
    "duration": 5,
    "start_time": "2023-10-26T21:36:42.775Z"
   },
   {
    "duration": 15,
    "start_time": "2023-10-26T21:36:42.782Z"
   },
   {
    "duration": 33,
    "start_time": "2023-10-26T21:36:42.798Z"
   },
   {
    "duration": 103,
    "start_time": "2023-10-26T21:36:42.834Z"
   },
   {
    "duration": 116,
    "start_time": "2023-10-26T21:36:42.938Z"
   },
   {
    "duration": 31,
    "start_time": "2023-10-26T21:36:43.056Z"
   },
   {
    "duration": 86,
    "start_time": "2023-10-26T21:36:43.088Z"
   },
   {
    "duration": 1165,
    "start_time": "2023-10-26T21:36:43.175Z"
   },
   {
    "duration": 4,
    "start_time": "2023-10-26T21:36:44.342Z"
   },
   {
    "duration": 171,
    "start_time": "2023-10-26T21:36:44.348Z"
   },
   {
    "duration": 139,
    "start_time": "2023-10-26T21:36:44.523Z"
   },
   {
    "duration": 443,
    "start_time": "2023-10-26T21:36:44.665Z"
   },
   {
    "duration": 168,
    "start_time": "2023-10-26T21:36:45.112Z"
   },
   {
    "duration": 63,
    "start_time": "2023-10-26T21:36:45.282Z"
   },
   {
    "duration": 219,
    "start_time": "2023-10-26T21:36:45.347Z"
   },
   {
    "duration": 11,
    "start_time": "2023-10-26T21:36:45.568Z"
   },
   {
    "duration": 72,
    "start_time": "2023-10-26T21:36:45.581Z"
   },
   {
    "duration": 5,
    "start_time": "2023-10-26T21:36:45.656Z"
   },
   {
    "duration": 9,
    "start_time": "2023-10-26T21:36:45.663Z"
   },
   {
    "duration": 56,
    "start_time": "2023-10-26T21:36:45.673Z"
   },
   {
    "duration": 5,
    "start_time": "2023-10-26T21:36:45.731Z"
   },
   {
    "duration": 8,
    "start_time": "2023-10-26T21:36:45.738Z"
   },
   {
    "duration": 16,
    "start_time": "2023-10-26T21:36:45.748Z"
   },
   {
    "duration": 515,
    "start_time": "2023-10-26T21:36:45.766Z"
   },
   {
    "duration": 25,
    "start_time": "2023-10-26T21:36:46.283Z"
   },
   {
    "duration": 458461,
    "start_time": "2023-10-26T21:36:46.310Z"
   },
   {
    "duration": 195,
    "start_time": "2023-10-26T21:44:24.773Z"
   },
   {
    "duration": 3,
    "start_time": "2023-10-26T21:44:24.970Z"
   },
   {
    "duration": 3008,
    "start_time": "2023-10-26T21:44:24.975Z"
   },
   {
    "duration": 80625,
    "start_time": "2023-10-26T21:44:27.984Z"
   },
   {
    "duration": 26,
    "start_time": "2023-10-26T21:50:50.095Z"
   },
   {
    "duration": 4456,
    "start_time": "2023-10-26T21:51:42.238Z"
   },
   {
    "duration": 18,
    "start_time": "2023-10-26T21:51:46.695Z"
   },
   {
    "duration": 7,
    "start_time": "2023-10-26T21:51:46.715Z"
   },
   {
    "duration": 35,
    "start_time": "2023-10-26T21:51:46.724Z"
   },
   {
    "duration": 42,
    "start_time": "2023-10-26T21:51:46.762Z"
   },
   {
    "duration": 20,
    "start_time": "2023-10-26T21:51:46.811Z"
   },
   {
    "duration": 17,
    "start_time": "2023-10-26T21:51:46.833Z"
   },
   {
    "duration": 10,
    "start_time": "2023-10-26T21:51:46.852Z"
   },
   {
    "duration": 1112,
    "start_time": "2023-10-26T21:51:46.864Z"
   },
   {
    "duration": 6,
    "start_time": "2023-10-26T21:51:47.978Z"
   },
   {
    "duration": 62,
    "start_time": "2023-10-26T21:51:47.985Z"
   },
   {
    "duration": 32,
    "start_time": "2023-10-26T21:51:48.049Z"
   },
   {
    "duration": 456,
    "start_time": "2023-10-26T21:51:48.083Z"
   },
   {
    "duration": 208,
    "start_time": "2023-10-26T21:51:48.542Z"
   },
   {
    "duration": 28,
    "start_time": "2023-10-26T21:51:48.752Z"
   },
   {
    "duration": 231,
    "start_time": "2023-10-26T21:51:48.782Z"
   },
   {
    "duration": 11,
    "start_time": "2023-10-26T21:51:49.018Z"
   },
   {
    "duration": 68,
    "start_time": "2023-10-26T21:51:49.031Z"
   },
   {
    "duration": 16,
    "start_time": "2023-10-26T21:51:49.101Z"
   },
   {
    "duration": 29,
    "start_time": "2023-10-26T21:51:49.119Z"
   },
   {
    "duration": 35,
    "start_time": "2023-10-26T21:51:49.150Z"
   },
   {
    "duration": 3,
    "start_time": "2023-10-26T21:51:49.187Z"
   },
   {
    "duration": 11,
    "start_time": "2023-10-26T21:51:49.191Z"
   },
   {
    "duration": 17,
    "start_time": "2023-10-26T21:51:49.203Z"
   },
   {
    "duration": 571,
    "start_time": "2023-10-26T21:51:49.222Z"
   },
   {
    "duration": 30,
    "start_time": "2023-10-26T21:51:49.795Z"
   },
   {
    "duration": 4471,
    "start_time": "2023-10-26T21:52:16.367Z"
   },
   {
    "duration": 6,
    "start_time": "2023-10-26T21:52:20.839Z"
   },
   {
    "duration": 18,
    "start_time": "2023-10-26T21:52:20.846Z"
   },
   {
    "duration": 21,
    "start_time": "2023-10-26T21:52:20.865Z"
   },
   {
    "duration": 27,
    "start_time": "2023-10-26T21:52:20.888Z"
   },
   {
    "duration": 31,
    "start_time": "2023-10-26T21:52:20.917Z"
   },
   {
    "duration": 33,
    "start_time": "2023-10-26T21:52:20.950Z"
   },
   {
    "duration": 31,
    "start_time": "2023-10-26T21:52:20.984Z"
   },
   {
    "duration": 1137,
    "start_time": "2023-10-26T21:52:21.018Z"
   },
   {
    "duration": 5,
    "start_time": "2023-10-26T21:52:22.157Z"
   },
   {
    "duration": 62,
    "start_time": "2023-10-26T21:52:22.164Z"
   },
   {
    "duration": 62,
    "start_time": "2023-10-26T21:52:22.228Z"
   },
   {
    "duration": 466,
    "start_time": "2023-10-26T21:52:22.292Z"
   },
   {
    "duration": 173,
    "start_time": "2023-10-26T21:52:22.761Z"
   },
   {
    "duration": 28,
    "start_time": "2023-10-26T21:52:22.936Z"
   },
   {
    "duration": 218,
    "start_time": "2023-10-26T21:52:22.966Z"
   },
   {
    "duration": 26,
    "start_time": "2023-10-26T21:52:23.186Z"
   },
   {
    "duration": 65,
    "start_time": "2023-10-26T21:52:23.218Z"
   },
   {
    "duration": 5,
    "start_time": "2023-10-26T21:52:23.285Z"
   },
   {
    "duration": 47,
    "start_time": "2023-10-26T21:52:23.292Z"
   },
   {
    "duration": 56,
    "start_time": "2023-10-26T21:52:23.341Z"
   },
   {
    "duration": 10,
    "start_time": "2023-10-26T21:52:23.399Z"
   },
   {
    "duration": 11,
    "start_time": "2023-10-26T21:52:23.417Z"
   },
   {
    "duration": 29,
    "start_time": "2023-10-26T21:52:23.430Z"
   },
   {
    "duration": 572,
    "start_time": "2023-10-26T21:52:23.460Z"
   },
   {
    "duration": 23,
    "start_time": "2023-10-26T21:52:24.034Z"
   },
   {
    "duration": 521891,
    "start_time": "2023-10-26T21:52:24.058Z"
   },
   {
    "duration": 206,
    "start_time": "2023-10-26T22:01:05.950Z"
   },
   {
    "duration": 4,
    "start_time": "2023-10-26T22:01:06.158Z"
   },
   {
    "duration": 3660,
    "start_time": "2023-10-26T22:01:06.163Z"
   },
   {
    "duration": 99784,
    "start_time": "2023-10-26T22:01:09.827Z"
   },
   {
    "duration": 32,
    "start_time": "2023-10-26T22:18:07.107Z"
   },
   {
    "duration": 4132,
    "start_time": "2023-10-27T19:56:13.857Z"
   },
   {
    "duration": 7,
    "start_time": "2023-10-27T19:56:17.991Z"
   },
   {
    "duration": 8,
    "start_time": "2023-10-27T19:56:17.999Z"
   },
   {
    "duration": 5,
    "start_time": "2023-10-27T19:56:18.009Z"
   },
   {
    "duration": 5,
    "start_time": "2023-10-27T19:56:18.016Z"
   },
   {
    "duration": 22,
    "start_time": "2023-10-27T19:56:18.022Z"
   },
   {
    "duration": 10,
    "start_time": "2023-10-27T19:56:18.046Z"
   },
   {
    "duration": 5,
    "start_time": "2023-10-27T19:56:18.058Z"
   },
   {
    "duration": 2524,
    "start_time": "2023-10-27T19:56:18.064Z"
   },
   {
    "duration": 6,
    "start_time": "2023-10-27T19:56:20.590Z"
   },
   {
    "duration": 21,
    "start_time": "2023-10-27T19:56:20.598Z"
   },
   {
    "duration": 41,
    "start_time": "2023-10-27T19:56:20.621Z"
   },
   {
    "duration": 444,
    "start_time": "2023-10-27T19:56:20.663Z"
   },
   {
    "duration": 202,
    "start_time": "2023-10-27T19:56:21.110Z"
   },
   {
    "duration": 26,
    "start_time": "2023-10-27T19:56:21.314Z"
   },
   {
    "duration": 242,
    "start_time": "2023-10-27T19:56:21.351Z"
   },
   {
    "duration": 7,
    "start_time": "2023-10-27T19:56:21.594Z"
   },
   {
    "duration": 92,
    "start_time": "2023-10-27T19:56:21.603Z"
   },
   {
    "duration": 5,
    "start_time": "2023-10-27T19:56:21.696Z"
   },
   {
    "duration": 6,
    "start_time": "2023-10-27T19:56:21.702Z"
   },
   {
    "duration": 50,
    "start_time": "2023-10-27T19:56:21.709Z"
   },
   {
    "duration": 3,
    "start_time": "2023-10-27T19:56:21.761Z"
   },
   {
    "duration": 4,
    "start_time": "2023-10-27T19:56:21.765Z"
   },
   {
    "duration": 5,
    "start_time": "2023-10-27T19:56:21.771Z"
   },
   {
    "duration": 515,
    "start_time": "2023-10-27T19:56:21.777Z"
   },
   {
    "duration": 14,
    "start_time": "2023-10-27T19:56:22.293Z"
   },
   {
    "duration": 436054,
    "start_time": "2023-10-27T19:56:22.308Z"
   },
   {
    "duration": 128,
    "start_time": "2023-10-27T20:03:38.363Z"
   },
   {
    "duration": 3,
    "start_time": "2023-10-27T20:03:38.492Z"
   },
   {
    "duration": 3136,
    "start_time": "2023-10-27T20:03:38.496Z"
   },
   {
    "duration": 94721,
    "start_time": "2023-10-27T20:03:41.634Z"
   },
   {
    "duration": 2,
    "start_time": "2023-10-27T20:05:40.213Z"
   },
   {
    "duration": 3301,
    "start_time": "2023-10-27T20:05:42.313Z"
   },
   {
    "duration": 85675,
    "start_time": "2023-10-27T20:05:49.674Z"
   },
   {
    "duration": 27,
    "start_time": "2023-10-27T20:07:24.542Z"
   },
   {
    "duration": 4,
    "start_time": "2023-10-27T21:40:54.886Z"
   },
   {
    "duration": 6,
    "start_time": "2023-10-27T21:40:54.891Z"
   },
   {
    "duration": 4,
    "start_time": "2023-10-27T21:40:54.898Z"
   },
   {
    "duration": 10,
    "start_time": "2023-10-27T21:40:54.904Z"
   },
   {
    "duration": 17,
    "start_time": "2023-10-27T21:40:54.916Z"
   },
   {
    "duration": 24,
    "start_time": "2023-10-27T21:40:54.934Z"
   },
   {
    "duration": 13,
    "start_time": "2023-10-27T21:40:54.959Z"
   },
   {
    "duration": 6,
    "start_time": "2023-10-27T21:40:54.973Z"
   },
   {
    "duration": 977,
    "start_time": "2023-10-27T21:40:54.980Z"
   },
   {
    "duration": 3,
    "start_time": "2023-10-27T21:40:55.959Z"
   },
   {
    "duration": 17,
    "start_time": "2023-10-27T21:40:55.963Z"
   },
   {
    "duration": 27,
    "start_time": "2023-10-27T21:40:55.982Z"
   },
   {
    "duration": 442,
    "start_time": "2023-10-27T21:40:56.010Z"
   },
   {
    "duration": 136,
    "start_time": "2023-10-27T21:40:56.453Z"
   },
   {
    "duration": 20,
    "start_time": "2023-10-27T21:40:56.590Z"
   },
   {
    "duration": 218,
    "start_time": "2023-10-27T21:40:56.612Z"
   },
   {
    "duration": 21,
    "start_time": "2023-10-27T21:40:56.832Z"
   },
   {
    "duration": 56,
    "start_time": "2023-10-27T21:40:56.854Z"
   },
   {
    "duration": 45,
    "start_time": "2023-10-27T21:40:56.911Z"
   },
   {
    "duration": 5,
    "start_time": "2023-10-27T21:40:56.961Z"
   },
   {
    "duration": 8,
    "start_time": "2023-10-27T21:40:56.968Z"
   },
   {
    "duration": 26,
    "start_time": "2023-10-27T21:40:56.977Z"
   },
   {
    "duration": 3,
    "start_time": "2023-10-27T21:40:57.005Z"
   },
   {
    "duration": 4,
    "start_time": "2023-10-27T21:40:57.010Z"
   },
   {
    "duration": 42,
    "start_time": "2023-10-27T21:40:57.015Z"
   },
   {
    "duration": 451,
    "start_time": "2023-10-27T21:40:57.059Z"
   },
   {
    "duration": 13,
    "start_time": "2023-10-27T21:40:57.512Z"
   },
   {
    "duration": 543971,
    "start_time": "2023-10-27T21:40:57.526Z"
   },
   {
    "duration": 119,
    "start_time": "2023-10-27T21:50:01.498Z"
   },
   {
    "duration": 5,
    "start_time": "2023-10-27T21:50:01.619Z"
   },
   {
    "duration": 98,
    "start_time": "2023-10-27T21:50:01.625Z"
   },
   {
    "duration": 4024,
    "start_time": "2023-10-27T21:50:01.724Z"
   },
   {
    "duration": 4280,
    "start_time": "2023-10-27T21:50:05.749Z"
   },
   {
    "duration": 88821,
    "start_time": "2023-10-27T21:50:10.031Z"
   },
   {
    "duration": 83107,
    "start_time": "2023-10-27T21:51:38.854Z"
   },
   {
    "duration": 17,
    "start_time": "2023-10-27T21:53:02.039Z"
   },
   {
    "duration": 25,
    "start_time": "2023-10-27T21:53:02.058Z"
   },
   {
    "duration": 386,
    "start_time": "2023-10-27T21:53:02.085Z"
   },
   {
    "duration": 0,
    "start_time": "2023-10-27T21:53:02.473Z"
   },
   {
    "duration": 5,
    "start_time": "2023-10-27T21:55:39.525Z"
   },
   {
    "duration": 37,
    "start_time": "2023-10-27T21:55:46.598Z"
   },
   {
    "duration": 4,
    "start_time": "2023-10-27T21:56:11.525Z"
   },
   {
    "duration": 1619,
    "start_time": "2023-10-27T21:56:17.225Z"
   },
   {
    "duration": 1690,
    "start_time": "2023-10-27T21:57:11.306Z"
   },
   {
    "duration": 15,
    "start_time": "2023-10-27T21:57:38.514Z"
   },
   {
    "duration": 47,
    "start_time": "2023-10-27T22:02:02.049Z"
   },
   {
    "duration": 22,
    "start_time": "2023-10-27T22:03:22.432Z"
   },
   {
    "duration": 46,
    "start_time": "2023-10-27T22:04:03.319Z"
   },
   {
    "duration": 85961,
    "start_time": "2023-10-27T22:10:21.965Z"
   },
   {
    "duration": 1568,
    "start_time": "2023-10-27T22:11:48.801Z"
   },
   {
    "duration": 468148,
    "start_time": "2023-10-27T22:14:17.804Z"
   },
   {
    "duration": 1599,
    "start_time": "2023-10-27T22:22:05.954Z"
   },
   {
    "duration": 26533811,
    "start_time": "2023-10-27T22:22:07.555Z"
   },
   {
    "duration": 20,
    "start_time": "2023-10-28T05:44:21.367Z"
   },
   {
    "duration": 57965,
    "start_time": "2023-10-28T05:47:03.291Z"
   },
   {
    "duration": 44680995,
    "start_time": "2023-10-28T05:49:13.380Z"
   },
   {
    "duration": 35,
    "start_time": "2023-10-28T18:14:06.397Z"
   },
   {
    "duration": 262349,
    "start_time": "2023-10-28T18:16:25.580Z"
   },
   {
    "duration": 725721,
    "start_time": "2023-10-28T18:20:51.234Z"
   },
   {
    "duration": 931,
    "start_time": "2023-10-28T18:34:58.945Z"
   },
   {
    "duration": 2466,
    "start_time": "2023-10-28T18:36:10.940Z"
   },
   {
    "duration": 1013,
    "start_time": "2023-10-28T18:36:50.353Z"
   },
   {
    "duration": 1201911,
    "start_time": "2023-10-28T18:38:06.674Z"
   },
   {
    "duration": 25822,
    "start_time": "2023-10-28T19:00:46.289Z"
   },
   {
    "duration": 5665191,
    "start_time": "2023-10-28T19:01:20.959Z"
   },
   {
    "duration": 38,
    "start_time": "2023-10-28T21:33:33.206Z"
   },
   {
    "duration": 3151,
    "start_time": "2023-10-28T21:33:50.648Z"
   },
   {
    "duration": 1471,
    "start_time": "2023-10-28T21:34:21.179Z"
   },
   {
    "duration": 1516,
    "start_time": "2023-10-28T21:35:11.226Z"
   },
   {
    "duration": 5,
    "start_time": "2023-10-28T21:54:33.011Z"
   },
   {
    "duration": 26319,
    "start_time": "2023-10-28T22:08:11.800Z"
   },
   {
    "duration": 3,
    "start_time": "2023-10-28T22:09:51.067Z"
   },
   {
    "duration": 1423,
    "start_time": "2023-10-28T22:09:54.813Z"
   },
   {
    "duration": 1500,
    "start_time": "2023-10-28T22:10:03.595Z"
   },
   {
    "duration": 1364,
    "start_time": "2023-10-28T22:10:12.994Z"
   },
   {
    "duration": 2975,
    "start_time": "2023-10-28T22:10:20.919Z"
   },
   {
    "duration": 8,
    "start_time": "2023-10-28T22:13:10.936Z"
   },
   {
    "duration": 8,
    "start_time": "2023-10-28T22:13:41.130Z"
   },
   {
    "duration": 3,
    "start_time": "2023-10-28T22:13:47.741Z"
   },
   {
    "duration": 1678,
    "start_time": "2023-10-28T22:14:03.409Z"
   },
   {
    "duration": 1464,
    "start_time": "2023-10-28T22:14:10.419Z"
   },
   {
    "duration": 1476,
    "start_time": "2023-10-28T22:14:17.513Z"
   },
   {
    "duration": 2869,
    "start_time": "2023-10-28T22:14:24.248Z"
   },
   {
    "duration": 8,
    "start_time": "2023-10-28T22:14:32.076Z"
   },
   {
    "duration": 8340,
    "start_time": "2023-10-28T22:16:05.185Z"
   },
   {
    "duration": 6,
    "start_time": "2023-10-28T22:16:13.527Z"
   },
   {
    "duration": 4,
    "start_time": "2023-10-28T22:16:13.534Z"
   },
   {
    "duration": 11,
    "start_time": "2023-10-28T22:16:13.539Z"
   },
   {
    "duration": 6,
    "start_time": "2023-10-28T22:16:13.553Z"
   },
   {
    "duration": 5,
    "start_time": "2023-10-28T22:16:13.561Z"
   },
   {
    "duration": 6,
    "start_time": "2023-10-28T22:16:13.567Z"
   },
   {
    "duration": 5,
    "start_time": "2023-10-28T22:16:13.574Z"
   },
   {
    "duration": 13,
    "start_time": "2023-10-28T22:16:13.581Z"
   },
   {
    "duration": 2252,
    "start_time": "2023-10-28T22:16:13.596Z"
   },
   {
    "duration": 5,
    "start_time": "2023-10-28T22:16:15.849Z"
   },
   {
    "duration": 11,
    "start_time": "2023-10-28T22:16:15.855Z"
   },
   {
    "duration": 22,
    "start_time": "2023-10-28T22:16:15.868Z"
   },
   {
    "duration": 399,
    "start_time": "2023-10-28T22:16:15.892Z"
   },
   {
    "duration": 147,
    "start_time": "2023-10-28T22:16:16.292Z"
   },
   {
    "duration": 19,
    "start_time": "2023-10-28T22:16:16.440Z"
   },
   {
    "duration": 203,
    "start_time": "2023-10-28T22:16:16.461Z"
   },
   {
    "duration": 7,
    "start_time": "2023-10-28T22:16:16.665Z"
   },
   {
    "duration": 48,
    "start_time": "2023-10-28T22:16:16.673Z"
   },
   {
    "duration": 31,
    "start_time": "2023-10-28T22:16:16.722Z"
   },
   {
    "duration": 5,
    "start_time": "2023-10-28T22:16:16.754Z"
   },
   {
    "duration": 7,
    "start_time": "2023-10-28T22:16:16.761Z"
   },
   {
    "duration": 26,
    "start_time": "2023-10-28T22:16:16.770Z"
   },
   {
    "duration": 3,
    "start_time": "2023-10-28T22:16:16.797Z"
   },
   {
    "duration": 4,
    "start_time": "2023-10-28T22:16:16.801Z"
   },
   {
    "duration": 33,
    "start_time": "2023-10-28T22:16:16.806Z"
   },
   {
    "duration": 613,
    "start_time": "2023-10-28T22:16:16.841Z"
   },
   {
    "duration": 33,
    "start_time": "2023-10-28T22:16:17.456Z"
   },
   {
    "duration": 474645,
    "start_time": "2023-10-28T22:16:17.490Z"
   },
   {
    "duration": 126,
    "start_time": "2023-10-28T22:24:12.139Z"
   },
   {
    "duration": 2,
    "start_time": "2023-10-28T22:24:12.267Z"
   },
   {
    "duration": 3419,
    "start_time": "2023-10-28T22:24:12.271Z"
   },
   {
    "duration": 52049,
    "start_time": "2023-10-28T22:24:15.692Z"
   },
   {
    "duration": 3,
    "start_time": "2023-10-28T22:25:07.743Z"
   },
   {
    "duration": 1505,
    "start_time": "2023-10-28T22:25:07.748Z"
   },
   {
    "duration": 74793,
    "start_time": "2023-10-28T22:25:09.254Z"
   },
   {
    "duration": 1379,
    "start_time": "2023-10-28T22:26:24.048Z"
   },
   {
    "duration": 423795,
    "start_time": "2023-10-28T22:26:25.430Z"
   },
   {
    "duration": 1394,
    "start_time": "2023-10-28T22:33:29.226Z"
   },
   {
    "duration": 6313151,
    "start_time": "2023-10-28T22:33:30.621Z"
   },
   {
    "duration": 2864,
    "start_time": "2023-10-29T00:18:43.775Z"
   },
   {
    "duration": 9,
    "start_time": "2023-10-29T00:18:46.640Z"
   },
   {
    "duration": 1394,
    "start_time": "2023-10-29T00:18:46.650Z"
   },
   {
    "duration": 1425,
    "start_time": "2023-10-29T00:18:48.046Z"
   },
   {
    "duration": 52,
    "start_time": "2023-10-30T17:07:10.458Z"
   },
   {
    "duration": 4417,
    "start_time": "2023-10-30T17:07:20.553Z"
   },
   {
    "duration": 6,
    "start_time": "2023-10-30T17:07:24.972Z"
   },
   {
    "duration": 17,
    "start_time": "2023-10-30T17:07:24.979Z"
   },
   {
    "duration": 23,
    "start_time": "2023-10-30T17:07:24.997Z"
   },
   {
    "duration": 31,
    "start_time": "2023-10-30T17:07:25.023Z"
   },
   {
    "duration": 28,
    "start_time": "2023-10-30T17:07:25.056Z"
   },
   {
    "duration": 17,
    "start_time": "2023-10-30T17:07:25.085Z"
   },
   {
    "duration": 20,
    "start_time": "2023-10-30T17:07:25.104Z"
   },
   {
    "duration": 28,
    "start_time": "2023-10-30T17:07:25.126Z"
   },
   {
    "duration": 3577,
    "start_time": "2023-10-30T17:07:25.156Z"
   },
   {
    "duration": 5,
    "start_time": "2023-10-30T17:07:28.734Z"
   },
   {
    "duration": 39,
    "start_time": "2023-10-30T17:07:28.741Z"
   },
   {
    "duration": 47,
    "start_time": "2023-10-30T17:07:28.781Z"
   },
   {
    "duration": 415,
    "start_time": "2023-10-30T17:07:28.830Z"
   },
   {
    "duration": 280,
    "start_time": "2023-10-30T17:07:49.566Z"
   },
   {
    "duration": 25,
    "start_time": "2023-10-30T17:08:23.340Z"
   },
   {
    "duration": 121,
    "start_time": "2023-10-30T17:08:34.766Z"
   },
   {
    "duration": 7,
    "start_time": "2023-10-30T17:09:43.603Z"
   },
   {
    "duration": 5,
    "start_time": "2023-10-30T17:29:32.490Z"
   },
   {
    "duration": 12,
    "start_time": "2023-10-30T17:29:32.496Z"
   },
   {
    "duration": 16,
    "start_time": "2023-10-30T17:29:32.510Z"
   },
   {
    "duration": 42,
    "start_time": "2023-10-30T17:29:32.527Z"
   },
   {
    "duration": 24,
    "start_time": "2023-10-30T17:29:32.571Z"
   },
   {
    "duration": 16,
    "start_time": "2023-10-30T17:29:32.596Z"
   },
   {
    "duration": 37,
    "start_time": "2023-10-30T17:29:32.613Z"
   },
   {
    "duration": 29,
    "start_time": "2023-10-30T17:29:32.652Z"
   },
   {
    "duration": 48,
    "start_time": "2023-10-30T17:29:32.682Z"
   },
   {
    "duration": 1083,
    "start_time": "2023-10-30T17:29:32.732Z"
   },
   {
    "duration": 3,
    "start_time": "2023-10-30T17:29:33.817Z"
   },
   {
    "duration": 49,
    "start_time": "2023-10-30T17:29:33.821Z"
   },
   {
    "duration": 72,
    "start_time": "2023-10-30T17:29:33.871Z"
   },
   {
    "duration": 479,
    "start_time": "2023-10-30T17:29:33.946Z"
   },
   {
    "duration": 7,
    "start_time": "2023-10-30T17:29:34.426Z"
   },
   {
    "duration": 141,
    "start_time": "2023-10-30T17:29:34.434Z"
   },
   {
    "duration": 27,
    "start_time": "2023-10-30T17:29:34.577Z"
   },
   {
    "duration": 215,
    "start_time": "2023-10-30T17:29:34.606Z"
   },
   {
    "duration": 10,
    "start_time": "2023-10-30T17:29:34.823Z"
   },
   {
    "duration": 107,
    "start_time": "2023-10-30T17:29:34.834Z"
   },
   {
    "duration": 25,
    "start_time": "2023-10-30T17:29:34.943Z"
   },
   {
    "duration": 18,
    "start_time": "2023-10-30T17:29:34.970Z"
   },
   {
    "duration": 51,
    "start_time": "2023-10-30T17:29:34.989Z"
   },
   {
    "duration": 47,
    "start_time": "2023-10-30T17:29:35.042Z"
   },
   {
    "duration": 39,
    "start_time": "2023-10-30T17:29:35.091Z"
   },
   {
    "duration": 42,
    "start_time": "2023-10-30T17:29:35.132Z"
   },
   {
    "duration": 38,
    "start_time": "2023-10-30T17:29:35.176Z"
   },
   {
    "duration": 614,
    "start_time": "2023-10-30T17:29:35.216Z"
   },
   {
    "duration": 27,
    "start_time": "2023-10-30T17:29:35.832Z"
   },
   {
    "duration": 513646,
    "start_time": "2023-10-30T17:29:35.860Z"
   },
   {
    "duration": 228,
    "start_time": "2023-10-30T17:38:09.508Z"
   },
   {
    "duration": 3,
    "start_time": "2023-10-30T17:38:09.737Z"
   },
   {
    "duration": 3227,
    "start_time": "2023-10-30T17:38:09.741Z"
   },
   {
    "duration": 36883,
    "start_time": "2023-10-30T17:38:12.970Z"
   },
   {
    "duration": 89,
    "start_time": "2023-10-30T17:38:49.856Z"
   },
   {
    "duration": 1989,
    "start_time": "2023-10-30T17:38:49.948Z"
   },
   {
    "duration": 46811,
    "start_time": "2023-10-30T17:38:51.939Z"
   },
   {
    "duration": 1526,
    "start_time": "2023-10-30T17:39:38.752Z"
   },
   {
    "duration": 304528,
    "start_time": "2023-10-30T17:39:40.280Z"
   },
   {
    "duration": 1956,
    "start_time": "2023-10-30T17:44:44.811Z"
   },
   {
    "duration": 4899722,
    "start_time": "2023-10-30T17:44:46.771Z"
   },
   {
    "duration": 1965,
    "start_time": "2023-10-30T19:06:26.495Z"
   },
   {
    "duration": 10,
    "start_time": "2023-10-30T19:06:28.461Z"
   },
   {
    "duration": 583,
    "start_time": "2023-10-30T19:06:28.472Z"
   },
   {
    "duration": 426,
    "start_time": "2023-10-30T19:06:29.056Z"
   },
   {
    "duration": 5,
    "start_time": "2023-10-30T19:10:22.539Z"
   },
   {
    "duration": 25,
    "start_time": "2023-10-30T19:10:22.547Z"
   },
   {
    "duration": 17,
    "start_time": "2023-10-30T19:10:22.574Z"
   },
   {
    "duration": 20,
    "start_time": "2023-10-30T19:10:22.592Z"
   },
   {
    "duration": 37,
    "start_time": "2023-10-30T19:10:22.614Z"
   },
   {
    "duration": 39,
    "start_time": "2023-10-30T19:10:22.653Z"
   },
   {
    "duration": 35,
    "start_time": "2023-10-30T19:10:22.694Z"
   },
   {
    "duration": 26,
    "start_time": "2023-10-30T19:10:22.731Z"
   },
   {
    "duration": 37,
    "start_time": "2023-10-30T19:10:22.759Z"
   },
   {
    "duration": 1029,
    "start_time": "2023-10-30T19:10:22.797Z"
   },
   {
    "duration": 4,
    "start_time": "2023-10-30T19:10:23.827Z"
   },
   {
    "duration": 26,
    "start_time": "2023-10-30T19:10:23.832Z"
   },
   {
    "duration": 68,
    "start_time": "2023-10-30T19:10:23.859Z"
   },
   {
    "duration": 464,
    "start_time": "2023-10-30T19:10:23.930Z"
   },
   {
    "duration": 5,
    "start_time": "2023-10-30T19:10:24.396Z"
   },
   {
    "duration": 134,
    "start_time": "2023-10-30T19:10:24.403Z"
   },
   {
    "duration": 31,
    "start_time": "2023-10-30T19:10:24.538Z"
   },
   {
    "duration": 206,
    "start_time": "2023-10-30T19:10:24.570Z"
   },
   {
    "duration": 13,
    "start_time": "2023-10-30T19:10:24.778Z"
   },
   {
    "duration": 87,
    "start_time": "2023-10-30T19:10:24.793Z"
   },
   {
    "duration": 36,
    "start_time": "2023-10-30T19:10:24.882Z"
   },
   {
    "duration": 4,
    "start_time": "2023-10-30T19:10:24.923Z"
   },
   {
    "duration": 33,
    "start_time": "2023-10-30T19:10:24.929Z"
   },
   {
    "duration": 42,
    "start_time": "2023-10-30T19:10:24.964Z"
   },
   {
    "duration": 22,
    "start_time": "2023-10-30T19:10:25.009Z"
   },
   {
    "duration": 16,
    "start_time": "2023-10-30T19:10:25.033Z"
   },
   {
    "duration": 25,
    "start_time": "2023-10-30T19:10:25.051Z"
   },
   {
    "duration": 481,
    "start_time": "2023-10-30T19:10:25.077Z"
   },
   {
    "duration": 20,
    "start_time": "2023-10-30T19:10:25.560Z"
   },
   {
    "duration": 557008,
    "start_time": "2023-10-30T19:10:25.582Z"
   },
   {
    "duration": 142,
    "start_time": "2023-10-30T19:19:42.593Z"
   },
   {
    "duration": 6,
    "start_time": "2023-10-30T19:19:42.736Z"
   },
   {
    "duration": 3371,
    "start_time": "2023-10-30T19:19:42.744Z"
   },
   {
    "duration": 4123,
    "start_time": "2023-10-30T19:32:49.708Z"
   },
   {
    "duration": 5,
    "start_time": "2023-10-30T19:32:53.833Z"
   },
   {
    "duration": 11,
    "start_time": "2023-10-30T19:32:53.840Z"
   },
   {
    "duration": 9,
    "start_time": "2023-10-30T19:32:53.853Z"
   },
   {
    "duration": 12,
    "start_time": "2023-10-30T19:32:53.864Z"
   },
   {
    "duration": 6,
    "start_time": "2023-10-30T19:32:53.877Z"
   },
   {
    "duration": 6,
    "start_time": "2023-10-30T19:32:53.885Z"
   },
   {
    "duration": 6,
    "start_time": "2023-10-30T19:32:53.892Z"
   },
   {
    "duration": 34,
    "start_time": "2023-10-30T19:32:53.900Z"
   },
   {
    "duration": 3299,
    "start_time": "2023-10-30T19:32:53.937Z"
   },
   {
    "duration": 5,
    "start_time": "2023-10-30T19:32:57.238Z"
   },
   {
    "duration": 18,
    "start_time": "2023-10-30T19:32:57.245Z"
   },
   {
    "duration": 36,
    "start_time": "2023-10-30T19:32:57.265Z"
   },
   {
    "duration": 424,
    "start_time": "2023-10-30T19:32:57.303Z"
   },
   {
    "duration": 5,
    "start_time": "2023-10-30T19:32:57.729Z"
   },
   {
    "duration": 128,
    "start_time": "2023-10-30T19:32:57.744Z"
   },
   {
    "duration": 26,
    "start_time": "2023-10-30T19:32:57.873Z"
   },
   {
    "duration": 200,
    "start_time": "2023-10-30T19:32:57.901Z"
   },
   {
    "duration": 11,
    "start_time": "2023-10-30T19:32:58.103Z"
   },
   {
    "duration": 69,
    "start_time": "2023-10-30T19:32:58.116Z"
   },
   {
    "duration": 25,
    "start_time": "2023-10-30T19:32:58.187Z"
   },
   {
    "duration": 5,
    "start_time": "2023-10-30T19:32:58.213Z"
   },
   {
    "duration": 10,
    "start_time": "2023-10-30T19:32:58.219Z"
   },
   {
    "duration": 26,
    "start_time": "2023-10-30T19:32:58.244Z"
   },
   {
    "duration": 3,
    "start_time": "2023-10-30T19:32:58.272Z"
   },
   {
    "duration": 6,
    "start_time": "2023-10-30T19:32:58.276Z"
   },
   {
    "duration": 9,
    "start_time": "2023-10-30T19:32:58.284Z"
   },
   {
    "duration": 556,
    "start_time": "2023-10-30T19:32:58.296Z"
   },
   {
    "duration": 24,
    "start_time": "2023-10-30T19:32:58.854Z"
   },
   {
    "duration": 499641,
    "start_time": "2023-10-30T19:32:58.879Z"
   },
   {
    "duration": 146,
    "start_time": "2023-10-30T19:41:18.522Z"
   },
   {
    "duration": 2,
    "start_time": "2023-10-30T19:41:18.670Z"
   },
   {
    "duration": 3388,
    "start_time": "2023-10-30T19:41:18.674Z"
   },
   {
    "duration": 57,
    "start_time": "2023-10-30T19:44:06.303Z"
   },
   {
    "duration": 5221,
    "start_time": "2023-10-30T19:44:38.930Z"
   },
   {
    "duration": 6,
    "start_time": "2023-10-30T19:44:44.154Z"
   },
   {
    "duration": 6,
    "start_time": "2023-10-30T19:44:44.162Z"
   },
   {
    "duration": 7,
    "start_time": "2023-10-30T19:44:44.171Z"
   },
   {
    "duration": 11,
    "start_time": "2023-10-30T19:44:44.180Z"
   },
   {
    "duration": 5,
    "start_time": "2023-10-30T19:44:44.193Z"
   },
   {
    "duration": 33,
    "start_time": "2023-10-30T19:44:44.200Z"
   },
   {
    "duration": 22,
    "start_time": "2023-10-30T19:44:44.235Z"
   },
   {
    "duration": 49,
    "start_time": "2023-10-30T19:44:44.259Z"
   },
   {
    "duration": 3372,
    "start_time": "2023-10-30T19:44:44.310Z"
   },
   {
    "duration": 5,
    "start_time": "2023-10-30T19:44:47.683Z"
   },
   {
    "duration": 22,
    "start_time": "2023-10-30T19:44:47.690Z"
   },
   {
    "duration": 36,
    "start_time": "2023-10-30T19:44:47.714Z"
   },
   {
    "duration": 438,
    "start_time": "2023-10-30T19:44:47.752Z"
   },
   {
    "duration": 6,
    "start_time": "2023-10-30T19:44:48.192Z"
   },
   {
    "duration": 220,
    "start_time": "2023-10-30T19:44:48.200Z"
   },
   {
    "duration": 35,
    "start_time": "2023-10-30T19:44:48.422Z"
   },
   {
    "duration": 306,
    "start_time": "2023-10-30T19:44:48.459Z"
   },
   {
    "duration": 10,
    "start_time": "2023-10-30T19:44:48.767Z"
   },
   {
    "duration": 174,
    "start_time": "2023-10-30T19:44:48.779Z"
   },
   {
    "duration": 24,
    "start_time": "2023-10-30T19:44:48.955Z"
   },
   {
    "duration": 76,
    "start_time": "2023-10-30T19:44:48.980Z"
   },
   {
    "duration": 27,
    "start_time": "2023-10-30T19:44:49.058Z"
   },
   {
    "duration": 83,
    "start_time": "2023-10-30T19:44:49.087Z"
   },
   {
    "duration": 34,
    "start_time": "2023-10-30T19:44:49.172Z"
   },
   {
    "duration": 39,
    "start_time": "2023-10-30T19:44:49.208Z"
   },
   {
    "duration": 40,
    "start_time": "2023-10-30T19:44:49.249Z"
   },
   {
    "duration": 972,
    "start_time": "2023-10-30T19:44:49.292Z"
   },
   {
    "duration": 24,
    "start_time": "2023-10-30T19:44:50.266Z"
   },
   {
    "duration": 508984,
    "start_time": "2023-10-30T19:44:50.344Z"
   },
   {
    "duration": 246,
    "start_time": "2023-10-30T19:53:19.330Z"
   },
   {
    "duration": 3,
    "start_time": "2023-10-30T19:53:19.577Z"
   },
   {
    "duration": 3231,
    "start_time": "2023-10-30T19:53:19.581Z"
   },
   {
    "duration": 4630,
    "start_time": "2023-10-30T19:55:50.954Z"
   },
   {
    "duration": 5,
    "start_time": "2023-10-30T19:55:55.586Z"
   },
   {
    "duration": 4,
    "start_time": "2023-10-30T19:55:55.644Z"
   },
   {
    "duration": 43,
    "start_time": "2023-10-30T19:55:55.649Z"
   },
   {
    "duration": 52,
    "start_time": "2023-10-30T19:55:55.693Z"
   },
   {
    "duration": 75,
    "start_time": "2023-10-30T19:55:55.747Z"
   },
   {
    "duration": 67,
    "start_time": "2023-10-30T19:55:55.824Z"
   },
   {
    "duration": 39,
    "start_time": "2023-10-30T19:55:55.893Z"
   },
   {
    "duration": 26,
    "start_time": "2023-10-30T19:55:55.945Z"
   },
   {
    "duration": 3614,
    "start_time": "2023-10-30T19:55:55.973Z"
   },
   {
    "duration": 4,
    "start_time": "2023-10-30T19:55:59.589Z"
   },
   {
    "duration": 22,
    "start_time": "2023-10-30T19:55:59.595Z"
   },
   {
    "duration": 32,
    "start_time": "2023-10-30T19:55:59.619Z"
   },
   {
    "duration": 420,
    "start_time": "2023-10-30T19:55:59.653Z"
   },
   {
    "duration": 6,
    "start_time": "2023-10-30T19:56:00.074Z"
   },
   {
    "duration": 156,
    "start_time": "2023-10-30T19:56:00.081Z"
   },
   {
    "duration": 27,
    "start_time": "2023-10-30T19:56:00.239Z"
   },
   {
    "duration": 211,
    "start_time": "2023-10-30T19:56:00.268Z"
   },
   {
    "duration": 11,
    "start_time": "2023-10-30T19:56:00.481Z"
   },
   {
    "duration": 103,
    "start_time": "2023-10-30T19:56:00.493Z"
   },
   {
    "duration": 23,
    "start_time": "2023-10-30T19:56:00.598Z"
   },
   {
    "duration": 44,
    "start_time": "2023-10-30T19:56:00.623Z"
   },
   {
    "duration": 46,
    "start_time": "2023-10-30T19:56:00.668Z"
   },
   {
    "duration": 80,
    "start_time": "2023-10-30T19:56:00.715Z"
   },
   {
    "duration": 85,
    "start_time": "2023-10-30T19:56:00.797Z"
   },
   {
    "duration": 30,
    "start_time": "2023-10-30T19:56:00.883Z"
   },
   {
    "duration": 30,
    "start_time": "2023-10-30T19:56:00.915Z"
   },
   {
    "duration": 631,
    "start_time": "2023-10-30T19:56:00.948Z"
   },
   {
    "duration": 29,
    "start_time": "2023-10-30T19:56:01.581Z"
   },
   {
    "duration": 507242,
    "start_time": "2023-10-30T19:56:01.612Z"
   },
   {
    "duration": 212,
    "start_time": "2023-10-30T20:04:28.855Z"
   },
   {
    "duration": 3,
    "start_time": "2023-10-30T20:04:29.069Z"
   },
   {
    "duration": 3289,
    "start_time": "2023-10-30T20:04:29.073Z"
   },
   {
    "duration": 28980,
    "start_time": "2023-10-30T20:04:32.364Z"
   },
   {
    "duration": 3,
    "start_time": "2023-10-30T20:05:01.346Z"
   },
   {
    "duration": 1575,
    "start_time": "2023-10-30T20:05:01.350Z"
   },
   {
    "duration": 52820,
    "start_time": "2023-10-30T20:05:02.927Z"
   },
   {
    "duration": 1570,
    "start_time": "2023-10-30T20:05:55.748Z"
   },
   {
    "duration": 325219,
    "start_time": "2023-10-30T20:05:57.320Z"
   },
   {
    "duration": 1757,
    "start_time": "2023-10-30T20:11:22.543Z"
   },
   {
    "duration": 115,
    "start_time": "2023-10-30T21:25:28.783Z"
   },
   {
    "duration": 4838,
    "start_time": "2023-10-30T21:25:42.496Z"
   },
   {
    "duration": 6,
    "start_time": "2023-10-30T21:25:47.335Z"
   },
   {
    "duration": 22,
    "start_time": "2023-10-30T21:25:47.342Z"
   },
   {
    "duration": 26,
    "start_time": "2023-10-30T21:25:47.366Z"
   },
   {
    "duration": 49,
    "start_time": "2023-10-30T21:25:47.395Z"
   },
   {
    "duration": 24,
    "start_time": "2023-10-30T21:25:47.446Z"
   },
   {
    "duration": 21,
    "start_time": "2023-10-30T21:25:47.471Z"
   },
   {
    "duration": 46,
    "start_time": "2023-10-30T21:25:47.493Z"
   },
   {
    "duration": 20,
    "start_time": "2023-10-30T21:25:47.541Z"
   },
   {
    "duration": 2591,
    "start_time": "2023-10-30T21:25:47.562Z"
   },
   {
    "duration": 5,
    "start_time": "2023-10-30T21:25:50.155Z"
   },
   {
    "duration": 38,
    "start_time": "2023-10-30T21:25:50.161Z"
   },
   {
    "duration": 47,
    "start_time": "2023-10-30T21:25:50.201Z"
   },
   {
    "duration": 450,
    "start_time": "2023-10-30T21:25:50.251Z"
   },
   {
    "duration": 9,
    "start_time": "2023-10-30T21:25:50.702Z"
   },
   {
    "duration": 156,
    "start_time": "2023-10-30T21:25:50.712Z"
   },
   {
    "duration": 37,
    "start_time": "2023-10-30T21:25:50.870Z"
   },
   {
    "duration": 230,
    "start_time": "2023-10-30T21:25:50.909Z"
   },
   {
    "duration": 10,
    "start_time": "2023-10-30T21:25:51.141Z"
   },
   {
    "duration": 72,
    "start_time": "2023-10-30T21:25:51.153Z"
   },
   {
    "duration": 28,
    "start_time": "2023-10-30T21:25:51.227Z"
   },
   {
    "duration": 9,
    "start_time": "2023-10-30T21:25:51.256Z"
   },
   {
    "duration": 23,
    "start_time": "2023-10-30T21:25:51.267Z"
   },
   {
    "duration": 57,
    "start_time": "2023-10-30T21:25:51.292Z"
   },
   {
    "duration": 4,
    "start_time": "2023-10-30T21:25:51.351Z"
   },
   {
    "duration": 30,
    "start_time": "2023-10-30T21:25:51.357Z"
   },
   {
    "duration": 31,
    "start_time": "2023-10-30T21:25:51.390Z"
   },
   {
    "duration": 665,
    "start_time": "2023-10-30T21:25:51.422Z"
   },
   {
    "duration": 67,
    "start_time": "2023-10-30T21:25:52.089Z"
   },
   {
    "duration": 5292,
    "start_time": "2023-10-30T21:27:32.892Z"
   },
   {
    "duration": 5,
    "start_time": "2023-10-30T21:27:38.186Z"
   },
   {
    "duration": 35,
    "start_time": "2023-10-30T21:27:38.193Z"
   },
   {
    "duration": 45,
    "start_time": "2023-10-30T21:27:38.230Z"
   },
   {
    "duration": 40,
    "start_time": "2023-10-30T21:27:38.276Z"
   },
   {
    "duration": 60,
    "start_time": "2023-10-30T21:27:38.318Z"
   },
   {
    "duration": 44,
    "start_time": "2023-10-30T21:27:38.379Z"
   },
   {
    "duration": 11,
    "start_time": "2023-10-30T21:27:38.425Z"
   },
   {
    "duration": 41,
    "start_time": "2023-10-30T21:27:38.438Z"
   },
   {
    "duration": 1031,
    "start_time": "2023-10-30T21:27:38.481Z"
   },
   {
    "duration": 5,
    "start_time": "2023-10-30T21:27:39.513Z"
   },
   {
    "duration": 15,
    "start_time": "2023-10-30T21:27:39.519Z"
   },
   {
    "duration": 29,
    "start_time": "2023-10-30T21:27:39.536Z"
   },
   {
    "duration": 425,
    "start_time": "2023-10-30T21:27:39.567Z"
   },
   {
    "duration": 6,
    "start_time": "2023-10-30T21:27:39.994Z"
   },
   {
    "duration": 155,
    "start_time": "2023-10-30T21:27:40.006Z"
   },
   {
    "duration": 26,
    "start_time": "2023-10-30T21:27:40.162Z"
   },
   {
    "duration": 271,
    "start_time": "2023-10-30T21:27:40.190Z"
   },
   {
    "duration": 10,
    "start_time": "2023-10-30T21:27:40.463Z"
   },
   {
    "duration": 71,
    "start_time": "2023-10-30T21:27:40.475Z"
   },
   {
    "duration": 37,
    "start_time": "2023-10-30T21:27:40.548Z"
   },
   {
    "duration": 6,
    "start_time": "2023-10-30T21:27:40.586Z"
   },
   {
    "duration": 5,
    "start_time": "2023-10-30T21:27:40.607Z"
   },
   {
    "duration": 26,
    "start_time": "2023-10-30T21:27:40.614Z"
   },
   {
    "duration": 3,
    "start_time": "2023-10-30T21:27:40.642Z"
   },
   {
    "duration": 10,
    "start_time": "2023-10-30T21:27:40.648Z"
   },
   {
    "duration": 28,
    "start_time": "2023-10-30T21:27:40.660Z"
   },
   {
    "duration": 511,
    "start_time": "2023-10-30T21:27:40.692Z"
   },
   {
    "duration": 22,
    "start_time": "2023-10-30T21:27:41.205Z"
   },
   {
    "duration": 524908,
    "start_time": "2023-10-30T21:27:41.229Z"
   },
   {
    "duration": 237,
    "start_time": "2023-10-30T21:36:26.139Z"
   },
   {
    "duration": 2,
    "start_time": "2023-10-30T21:36:26.377Z"
   },
   {
    "duration": 3873,
    "start_time": "2023-10-30T21:36:26.381Z"
   },
   {
    "duration": 53757,
    "start_time": "2023-10-30T21:36:30.255Z"
   },
   {
    "duration": 9,
    "start_time": "2023-10-30T21:37:24.024Z"
   },
   {
    "duration": 1953,
    "start_time": "2023-10-30T21:37:24.035Z"
   },
   {
    "duration": 40228,
    "start_time": "2023-10-30T21:37:25.990Z"
   },
   {
    "duration": 1675,
    "start_time": "2023-10-30T21:38:06.223Z"
   },
   {
    "duration": 227159,
    "start_time": "2023-10-30T21:38:07.899Z"
   },
   {
    "duration": 1837,
    "start_time": "2023-10-30T21:41:55.060Z"
   },
   {
    "duration": 5485,
    "start_time": "2023-10-30T22:03:51.927Z"
   },
   {
    "duration": 12,
    "start_time": "2023-10-30T22:03:57.420Z"
   },
   {
    "duration": 8,
    "start_time": "2023-10-30T22:03:57.434Z"
   },
   {
    "duration": 23,
    "start_time": "2023-10-30T22:03:57.444Z"
   },
   {
    "duration": 42,
    "start_time": "2023-10-30T22:03:57.470Z"
   },
   {
    "duration": 32,
    "start_time": "2023-10-30T22:03:57.514Z"
   },
   {
    "duration": 20,
    "start_time": "2023-10-30T22:03:57.547Z"
   },
   {
    "duration": 39,
    "start_time": "2023-10-30T22:03:57.569Z"
   },
   {
    "duration": 17,
    "start_time": "2023-10-30T22:03:57.612Z"
   },
   {
    "duration": 1933,
    "start_time": "2023-10-30T22:03:57.630Z"
   },
   {
    "duration": 6,
    "start_time": "2023-10-30T22:03:59.564Z"
   },
   {
    "duration": 17,
    "start_time": "2023-10-30T22:03:59.571Z"
   },
   {
    "duration": 38,
    "start_time": "2023-10-30T22:03:59.589Z"
   },
   {
    "duration": 455,
    "start_time": "2023-10-30T22:03:59.632Z"
   },
   {
    "duration": 8,
    "start_time": "2023-10-30T22:04:00.089Z"
   },
   {
    "duration": 165,
    "start_time": "2023-10-30T22:04:00.099Z"
   },
   {
    "duration": 31,
    "start_time": "2023-10-30T22:04:00.266Z"
   },
   {
    "duration": 240,
    "start_time": "2023-10-30T22:04:00.307Z"
   },
   {
    "duration": 10,
    "start_time": "2023-10-30T22:04:00.548Z"
   },
   {
    "duration": 96,
    "start_time": "2023-10-30T22:04:00.560Z"
   },
   {
    "duration": 24,
    "start_time": "2023-10-30T22:04:00.658Z"
   },
   {
    "duration": 22,
    "start_time": "2023-10-30T22:04:00.683Z"
   },
   {
    "duration": 25,
    "start_time": "2023-10-30T22:04:00.706Z"
   },
   {
    "duration": 55,
    "start_time": "2023-10-30T22:04:00.732Z"
   },
   {
    "duration": 32,
    "start_time": "2023-10-30T22:04:00.789Z"
   },
   {
    "duration": 72,
    "start_time": "2023-10-30T22:04:00.823Z"
   },
   {
    "duration": 109,
    "start_time": "2023-10-30T22:04:00.897Z"
   },
   {
    "duration": 582,
    "start_time": "2023-10-30T22:04:01.007Z"
   },
   {
    "duration": 22,
    "start_time": "2023-10-30T22:04:01.591Z"
   },
   {
    "duration": 4479,
    "start_time": "2023-10-31T01:16:50.346Z"
   },
   {
    "duration": 6,
    "start_time": "2023-10-31T01:16:54.827Z"
   },
   {
    "duration": 15,
    "start_time": "2023-10-31T01:16:54.835Z"
   },
   {
    "duration": 55,
    "start_time": "2023-10-31T01:16:54.852Z"
   },
   {
    "duration": 4,
    "start_time": "2023-10-31T01:16:54.909Z"
   },
   {
    "duration": 13,
    "start_time": "2023-10-31T01:16:54.914Z"
   },
   {
    "duration": 18,
    "start_time": "2023-10-31T01:16:54.928Z"
   },
   {
    "duration": 13,
    "start_time": "2023-10-31T01:16:54.947Z"
   },
   {
    "duration": 45,
    "start_time": "2023-10-31T01:16:54.962Z"
   },
   {
    "duration": 1749,
    "start_time": "2023-10-31T01:16:55.010Z"
   },
   {
    "duration": 5,
    "start_time": "2023-10-31T01:16:56.760Z"
   },
   {
    "duration": 43,
    "start_time": "2023-10-31T01:16:56.767Z"
   },
   {
    "duration": 42,
    "start_time": "2023-10-31T01:16:56.812Z"
   },
   {
    "duration": 424,
    "start_time": "2023-10-31T01:16:56.855Z"
   },
   {
    "duration": 7,
    "start_time": "2023-10-31T01:16:57.280Z"
   },
   {
    "duration": 135,
    "start_time": "2023-10-31T01:16:57.288Z"
   },
   {
    "duration": 27,
    "start_time": "2023-10-31T01:16:57.425Z"
   },
   {
    "duration": 209,
    "start_time": "2023-10-31T01:16:57.454Z"
   },
   {
    "duration": 10,
    "start_time": "2023-10-31T01:16:57.664Z"
   },
   {
    "duration": 65,
    "start_time": "2023-10-31T01:16:57.675Z"
   },
   {
    "duration": 24,
    "start_time": "2023-10-31T01:16:57.742Z"
   },
   {
    "duration": 16,
    "start_time": "2023-10-31T01:16:57.768Z"
   },
   {
    "duration": 16,
    "start_time": "2023-10-31T01:16:57.785Z"
   },
   {
    "duration": 45,
    "start_time": "2023-10-31T01:16:57.803Z"
   },
   {
    "duration": 3,
    "start_time": "2023-10-31T01:16:57.850Z"
   },
   {
    "duration": 30,
    "start_time": "2023-10-31T01:16:57.854Z"
   },
   {
    "duration": 15,
    "start_time": "2023-10-31T01:16:57.885Z"
   },
   {
    "duration": 493,
    "start_time": "2023-10-31T01:16:57.903Z"
   },
   {
    "duration": 19,
    "start_time": "2023-10-31T01:16:58.398Z"
   },
   {
    "duration": 3936,
    "start_time": "2023-10-31T01:19:02.364Z"
   },
   {
    "duration": 7,
    "start_time": "2023-10-31T01:19:06.302Z"
   },
   {
    "duration": 4,
    "start_time": "2023-10-31T01:19:06.311Z"
   },
   {
    "duration": 12,
    "start_time": "2023-10-31T01:19:06.316Z"
   },
   {
    "duration": 30,
    "start_time": "2023-10-31T01:19:06.330Z"
   },
   {
    "duration": 31,
    "start_time": "2023-10-31T01:19:06.362Z"
   },
   {
    "duration": 9,
    "start_time": "2023-10-31T01:19:06.395Z"
   },
   {
    "duration": 22,
    "start_time": "2023-10-31T01:19:06.405Z"
   },
   {
    "duration": 30,
    "start_time": "2023-10-31T01:19:06.429Z"
   },
   {
    "duration": 1049,
    "start_time": "2023-10-31T01:19:06.461Z"
   },
   {
    "duration": 5,
    "start_time": "2023-10-31T01:19:07.512Z"
   },
   {
    "duration": 20,
    "start_time": "2023-10-31T01:19:07.519Z"
   },
   {
    "duration": 34,
    "start_time": "2023-10-31T01:19:07.541Z"
   },
   {
    "duration": 449,
    "start_time": "2023-10-31T01:19:07.578Z"
   },
   {
    "duration": 6,
    "start_time": "2023-10-31T01:19:08.029Z"
   },
   {
    "duration": 135,
    "start_time": "2023-10-31T01:19:08.036Z"
   },
   {
    "duration": 36,
    "start_time": "2023-10-31T01:19:08.172Z"
   },
   {
    "duration": 199,
    "start_time": "2023-10-31T01:19:08.210Z"
   },
   {
    "duration": 10,
    "start_time": "2023-10-31T01:19:08.411Z"
   },
   {
    "duration": 58,
    "start_time": "2023-10-31T01:19:08.422Z"
   },
   {
    "duration": 34,
    "start_time": "2023-10-31T01:19:08.481Z"
   },
   {
    "duration": 5,
    "start_time": "2023-10-31T01:19:08.519Z"
   },
   {
    "duration": 27,
    "start_time": "2023-10-31T01:19:08.525Z"
   },
   {
    "duration": 41,
    "start_time": "2023-10-31T01:19:08.554Z"
   },
   {
    "duration": 3,
    "start_time": "2023-10-31T01:19:08.597Z"
   },
   {
    "duration": 24,
    "start_time": "2023-10-31T01:19:08.601Z"
   },
   {
    "duration": 15,
    "start_time": "2023-10-31T01:19:08.627Z"
   },
   {
    "duration": 486,
    "start_time": "2023-10-31T01:19:08.643Z"
   },
   {
    "duration": 15,
    "start_time": "2023-10-31T01:19:09.131Z"
   },
   {
    "duration": 4915,
    "start_time": "2023-10-31T01:24:06.155Z"
   },
   {
    "duration": 6,
    "start_time": "2023-10-31T01:24:11.072Z"
   },
   {
    "duration": 23,
    "start_time": "2023-10-31T01:24:11.079Z"
   },
   {
    "duration": 30,
    "start_time": "2023-10-31T01:24:11.104Z"
   },
   {
    "duration": 33,
    "start_time": "2023-10-31T01:24:11.136Z"
   },
   {
    "duration": 35,
    "start_time": "2023-10-31T01:24:11.171Z"
   },
   {
    "duration": 26,
    "start_time": "2023-10-31T01:24:11.207Z"
   },
   {
    "duration": 29,
    "start_time": "2023-10-31T01:24:11.235Z"
   },
   {
    "duration": 32,
    "start_time": "2023-10-31T01:24:11.266Z"
   },
   {
    "duration": 1018,
    "start_time": "2023-10-31T01:24:11.300Z"
   },
   {
    "duration": 5,
    "start_time": "2023-10-31T01:24:12.319Z"
   },
   {
    "duration": 28,
    "start_time": "2023-10-31T01:24:12.326Z"
   },
   {
    "duration": 46,
    "start_time": "2023-10-31T01:24:12.355Z"
   },
   {
    "duration": 403,
    "start_time": "2023-10-31T01:24:12.404Z"
   },
   {
    "duration": 5,
    "start_time": "2023-10-31T01:24:12.809Z"
   },
   {
    "duration": 139,
    "start_time": "2023-10-31T01:24:12.815Z"
   },
   {
    "duration": 26,
    "start_time": "2023-10-31T01:24:12.956Z"
   },
   {
    "duration": 196,
    "start_time": "2023-10-31T01:24:12.984Z"
   },
   {
    "duration": 9,
    "start_time": "2023-10-31T01:24:13.182Z"
   },
   {
    "duration": 65,
    "start_time": "2023-10-31T01:24:13.193Z"
   },
   {
    "duration": 24,
    "start_time": "2023-10-31T01:24:13.259Z"
   },
   {
    "duration": 27,
    "start_time": "2023-10-31T01:24:13.285Z"
   },
   {
    "duration": 41,
    "start_time": "2023-10-31T01:24:13.314Z"
   },
   {
    "duration": 48,
    "start_time": "2023-10-31T01:24:13.357Z"
   },
   {
    "duration": 9,
    "start_time": "2023-10-31T01:24:13.407Z"
   },
   {
    "duration": 26,
    "start_time": "2023-10-31T01:24:13.418Z"
   },
   {
    "duration": 31,
    "start_time": "2023-10-31T01:24:13.446Z"
   },
   {
    "duration": 483,
    "start_time": "2023-10-31T01:24:13.479Z"
   },
   {
    "duration": 21,
    "start_time": "2023-10-31T01:24:13.964Z"
   },
   {
    "duration": 4860,
    "start_time": "2023-10-31T01:24:59.553Z"
   },
   {
    "duration": 5,
    "start_time": "2023-10-31T01:25:04.415Z"
   },
   {
    "duration": 5,
    "start_time": "2023-10-31T01:25:04.421Z"
   },
   {
    "duration": 43,
    "start_time": "2023-10-31T01:25:04.428Z"
   },
   {
    "duration": 13,
    "start_time": "2023-10-31T01:25:04.473Z"
   },
   {
    "duration": 15,
    "start_time": "2023-10-31T01:25:04.488Z"
   },
   {
    "duration": 19,
    "start_time": "2023-10-31T01:25:04.505Z"
   },
   {
    "duration": 24,
    "start_time": "2023-10-31T01:25:04.526Z"
   },
   {
    "duration": 30,
    "start_time": "2023-10-31T01:25:04.551Z"
   },
   {
    "duration": 1033,
    "start_time": "2023-10-31T01:25:04.583Z"
   },
   {
    "duration": 5,
    "start_time": "2023-10-31T01:25:05.617Z"
   },
   {
    "duration": 34,
    "start_time": "2023-10-31T01:25:05.623Z"
   },
   {
    "duration": 32,
    "start_time": "2023-10-31T01:25:05.658Z"
   },
   {
    "duration": 448,
    "start_time": "2023-10-31T01:25:05.694Z"
   },
   {
    "duration": 6,
    "start_time": "2023-10-31T01:25:06.143Z"
   },
   {
    "duration": 149,
    "start_time": "2023-10-31T01:25:06.150Z"
   },
   {
    "duration": 26,
    "start_time": "2023-10-31T01:25:06.306Z"
   },
   {
    "duration": 200,
    "start_time": "2023-10-31T01:25:06.334Z"
   },
   {
    "duration": 10,
    "start_time": "2023-10-31T01:25:06.536Z"
   },
   {
    "duration": 68,
    "start_time": "2023-10-31T01:25:06.547Z"
   },
   {
    "duration": 24,
    "start_time": "2023-10-31T01:25:06.616Z"
   },
   {
    "duration": 5,
    "start_time": "2023-10-31T01:25:06.642Z"
   },
   {
    "duration": 8,
    "start_time": "2023-10-31T01:25:06.649Z"
   },
   {
    "duration": 48,
    "start_time": "2023-10-31T01:25:06.659Z"
   },
   {
    "duration": 5,
    "start_time": "2023-10-31T01:25:06.708Z"
   },
   {
    "duration": 7,
    "start_time": "2023-10-31T01:25:06.715Z"
   },
   {
    "duration": 16,
    "start_time": "2023-10-31T01:25:06.724Z"
   },
   {
    "duration": 508,
    "start_time": "2023-10-31T01:25:06.742Z"
   },
   {
    "duration": 24,
    "start_time": "2023-10-31T01:25:07.252Z"
   },
   {
    "duration": 479588,
    "start_time": "2023-10-31T01:25:07.278Z"
   },
   {
    "duration": 220,
    "start_time": "2023-10-31T01:33:06.868Z"
   },
   {
    "duration": 2,
    "start_time": "2023-10-31T01:33:07.090Z"
   },
   {
    "duration": 3097,
    "start_time": "2023-10-31T01:33:07.094Z"
   },
   {
    "duration": 21415,
    "start_time": "2023-10-31T01:33:10.193Z"
   },
   {
    "duration": 97,
    "start_time": "2023-10-31T01:33:31.610Z"
   },
   {
    "duration": 1532,
    "start_time": "2023-10-31T01:33:31.709Z"
   },
   {
    "duration": 43833,
    "start_time": "2023-10-31T01:33:33.242Z"
   },
   {
    "duration": 1503,
    "start_time": "2023-10-31T01:34:17.076Z"
   },
   {
    "duration": 282172,
    "start_time": "2023-10-31T01:34:18.581Z"
   },
   {
    "duration": 1986,
    "start_time": "2023-10-31T01:39:00.755Z"
   },
   {
    "duration": 4393477,
    "start_time": "2023-10-31T01:39:02.744Z"
   },
   {
    "duration": 1990,
    "start_time": "2023-10-31T02:52:16.224Z"
   },
   {
    "duration": 10,
    "start_time": "2023-10-31T02:52:18.216Z"
   },
   {
    "duration": 405,
    "start_time": "2023-10-31T02:52:18.228Z"
   },
   {
    "duration": 492,
    "start_time": "2023-10-31T02:52:18.635Z"
   },
   {
    "duration": 5531,
    "start_time": "2023-10-31T19:01:13.831Z"
   },
   {
    "duration": 6,
    "start_time": "2023-10-31T19:01:19.364Z"
   },
   {
    "duration": 12,
    "start_time": "2023-10-31T19:01:19.371Z"
   },
   {
    "duration": 5,
    "start_time": "2023-10-31T19:01:19.384Z"
   },
   {
    "duration": 8,
    "start_time": "2023-10-31T19:01:19.391Z"
   },
   {
    "duration": 11,
    "start_time": "2023-10-31T19:01:19.400Z"
   },
   {
    "duration": 10,
    "start_time": "2023-10-31T19:01:19.412Z"
   },
   {
    "duration": 9,
    "start_time": "2023-10-31T19:01:19.423Z"
   },
   {
    "duration": 9,
    "start_time": "2023-10-31T19:01:19.433Z"
   },
   {
    "duration": 2436,
    "start_time": "2023-10-31T19:01:19.444Z"
   },
   {
    "duration": 6,
    "start_time": "2023-10-31T19:01:21.881Z"
   },
   {
    "duration": 50,
    "start_time": "2023-10-31T19:01:21.889Z"
   },
   {
    "duration": 31,
    "start_time": "2023-10-31T19:01:21.941Z"
   },
   {
    "duration": 31,
    "start_time": "2023-10-31T19:01:21.974Z"
   },
   {
    "duration": 34,
    "start_time": "2023-10-31T19:01:22.007Z"
   },
   {
    "duration": 134,
    "start_time": "2023-10-31T19:01:22.042Z"
   },
   {
    "duration": 26,
    "start_time": "2023-10-31T19:01:22.178Z"
   },
   {
    "duration": 228,
    "start_time": "2023-10-31T19:01:22.205Z"
   },
   {
    "duration": 11,
    "start_time": "2023-10-31T19:01:22.434Z"
   },
   {
    "duration": 78,
    "start_time": "2023-10-31T19:01:22.446Z"
   },
   {
    "duration": 23,
    "start_time": "2023-10-31T19:01:22.526Z"
   },
   {
    "duration": 5,
    "start_time": "2023-10-31T19:01:22.551Z"
   },
   {
    "duration": 18,
    "start_time": "2023-10-31T19:01:22.557Z"
   },
   {
    "duration": 24,
    "start_time": "2023-10-31T19:01:22.577Z"
   },
   {
    "duration": 4,
    "start_time": "2023-10-31T19:01:22.603Z"
   },
   {
    "duration": 20,
    "start_time": "2023-10-31T19:01:22.609Z"
   },
   {
    "duration": 15,
    "start_time": "2023-10-31T19:01:22.630Z"
   },
   {
    "duration": 656,
    "start_time": "2023-10-31T19:01:22.646Z"
   },
   {
    "duration": 38,
    "start_time": "2023-10-31T19:01:23.304Z"
   },
   {
    "duration": 99,
    "start_time": "2023-10-31T19:16:09.635Z"
   },
   {
    "duration": 9009,
    "start_time": "2023-10-31T19:21:56.378Z"
   },
   {
    "duration": 91,
    "start_time": "2023-10-31T19:22:14.888Z"
   },
   {
    "duration": 464,
    "start_time": "2023-10-31T19:25:13.565Z"
   },
   {
    "duration": 25,
    "start_time": "2023-10-31T19:26:15.907Z"
   },
   {
    "duration": 5,
    "start_time": "2023-10-31T19:26:43.098Z"
   },
   {
    "duration": 26,
    "start_time": "2023-10-31T19:27:30.179Z"
   },
   {
    "duration": 4214,
    "start_time": "2023-10-31T19:31:31.942Z"
   },
   {
    "duration": 4730,
    "start_time": "2023-10-31T19:31:36.159Z"
   },
   {
    "duration": 7,
    "start_time": "2023-10-31T19:31:40.892Z"
   },
   {
    "duration": 32,
    "start_time": "2023-10-31T19:31:40.901Z"
   },
   {
    "duration": 46,
    "start_time": "2023-10-31T19:31:40.936Z"
   },
   {
    "duration": 37,
    "start_time": "2023-10-31T19:31:40.984Z"
   },
   {
    "duration": 7,
    "start_time": "2023-10-31T19:32:13.634Z"
   },
   {
    "duration": 2746,
    "start_time": "2023-10-31T19:44:59.407Z"
   },
   {
    "duration": 6,
    "start_time": "2023-10-31T19:45:02.155Z"
   },
   {
    "duration": 40,
    "start_time": "2023-10-31T19:45:02.163Z"
   },
   {
    "duration": 90,
    "start_time": "2023-10-31T19:45:02.205Z"
   },
   {
    "duration": 56,
    "start_time": "2023-10-31T19:45:02.297Z"
   },
   {
    "duration": 34,
    "start_time": "2023-10-31T19:45:02.358Z"
   },
   {
    "duration": 60,
    "start_time": "2023-10-31T19:45:02.394Z"
   },
   {
    "duration": 104,
    "start_time": "2023-10-31T19:45:02.455Z"
   },
   {
    "duration": 28,
    "start_time": "2023-10-31T19:45:02.560Z"
   },
   {
    "duration": 48,
    "start_time": "2023-10-31T19:45:02.591Z"
   },
   {
    "duration": 1239,
    "start_time": "2023-10-31T19:45:02.640Z"
   },
   {
    "duration": 5,
    "start_time": "2023-10-31T19:45:03.881Z"
   },
   {
    "duration": 19,
    "start_time": "2023-10-31T19:45:03.888Z"
   },
   {
    "duration": 46,
    "start_time": "2023-10-31T19:45:03.909Z"
   },
   {
    "duration": 3,
    "start_time": "2023-10-31T19:45:03.957Z"
   },
   {
    "duration": 22,
    "start_time": "2023-10-31T19:45:03.961Z"
   },
   {
    "duration": 143,
    "start_time": "2023-10-31T19:45:03.985Z"
   },
   {
    "duration": 40,
    "start_time": "2023-10-31T19:45:04.130Z"
   },
   {
    "duration": 243,
    "start_time": "2023-10-31T19:45:04.172Z"
   },
   {
    "duration": 13,
    "start_time": "2023-10-31T19:45:04.418Z"
   },
   {
    "duration": 96,
    "start_time": "2023-10-31T19:45:04.448Z"
   },
   {
    "duration": 43,
    "start_time": "2023-10-31T19:45:04.546Z"
   },
   {
    "duration": 6,
    "start_time": "2023-10-31T19:45:04.591Z"
   },
   {
    "duration": 4,
    "start_time": "2023-10-31T19:45:04.601Z"
   },
   {
    "duration": 33,
    "start_time": "2023-10-31T19:45:04.607Z"
   },
   {
    "duration": 27,
    "start_time": "2023-10-31T19:45:04.642Z"
   },
   {
    "duration": 46,
    "start_time": "2023-10-31T19:45:04.671Z"
   },
   {
    "duration": 39,
    "start_time": "2023-10-31T19:45:04.720Z"
   },
   {
    "duration": 1589,
    "start_time": "2023-10-31T19:45:04.760Z"
   },
   {
    "duration": 10,
    "start_time": "2023-10-31T19:45:06.352Z"
   },
   {
    "duration": 112,
    "start_time": "2023-10-31T19:45:06.364Z"
   },
   {
    "duration": 1087908,
    "start_time": "2023-10-31T19:45:06.477Z"
   },
   {
    "duration": 249,
    "start_time": "2023-10-31T20:03:14.403Z"
   },
   {
    "duration": 3,
    "start_time": "2023-10-31T20:03:14.654Z"
   },
   {
    "duration": 28,
    "start_time": "2023-10-31T20:03:14.659Z"
   },
   {
    "duration": 20,
    "start_time": "2023-10-31T20:03:14.690Z"
   },
   {
    "duration": 603,
    "start_time": "2023-10-31T20:03:14.713Z"
   },
   {
    "duration": 3,
    "start_time": "2023-10-31T20:03:15.318Z"
   },
   {
    "duration": 35,
    "start_time": "2023-10-31T20:03:15.323Z"
   },
   {
    "duration": 160,
    "start_time": "2023-10-31T20:03:58.209Z"
   },
   {
    "duration": 66301,
    "start_time": "2023-10-31T20:05:18.772Z"
   },
   {
    "duration": 3,
    "start_time": "2023-10-31T20:06:43.229Z"
   },
   {
    "duration": 4664,
    "start_time": "2023-10-31T20:07:10.472Z"
   },
   {
    "duration": 156,
    "start_time": "2023-10-31T20:24:13.285Z"
   },
   {
    "duration": 5,
    "start_time": "2023-10-31T20:28:26.082Z"
   },
   {
    "duration": 64485,
    "start_time": "2023-10-31T20:28:38.564Z"
   },
   {
    "duration": 3,
    "start_time": "2023-10-31T20:29:51.493Z"
   },
   {
    "duration": 3520,
    "start_time": "2023-10-31T20:29:52.667Z"
   },
   {
    "duration": 166,
    "start_time": "2023-10-31T20:31:14.523Z"
   },
   {
    "duration": 365533,
    "start_time": "2023-10-31T20:31:55.758Z"
   },
   {
    "duration": 3629,
    "start_time": "2023-10-31T20:38:01.294Z"
   },
   {
    "duration": 1492992,
    "start_time": "2023-10-31T20:38:04.925Z"
   },
   {
    "duration": 3511,
    "start_time": "2023-10-31T21:02:57.919Z"
   },
   {
    "duration": 5812545,
    "start_time": "2023-10-31T21:03:01.434Z"
   },
   {
    "duration": 7334,
    "start_time": "2023-10-31T22:39:53.982Z"
   },
   {
    "duration": 10,
    "start_time": "2023-10-31T22:40:01.319Z"
   },
   {
    "duration": 14,
    "start_time": "2023-10-31T22:41:13.799Z"
   },
   {
    "duration": 5354,
    "start_time": "2023-10-31T22:41:44.921Z"
   },
   {
    "duration": 5684,
    "start_time": "2023-10-31T22:41:55.184Z"
   },
   {
    "duration": 5658,
    "start_time": "2023-10-31T22:42:23.729Z"
   },
   {
    "duration": 21,
    "start_time": "2023-10-31T22:44:26.752Z"
   },
   {
    "duration": 109,
    "start_time": "2023-10-31T22:45:55.338Z"
   },
   {
    "duration": 47,
    "start_time": "2023-10-31T22:47:39.624Z"
   },
   {
    "duration": 52,
    "start_time": "2023-10-31T22:48:01.805Z"
   },
   {
    "duration": 51,
    "start_time": "2023-10-31T22:49:35.704Z"
   },
   {
    "duration": 50,
    "start_time": "2023-10-31T22:50:13.144Z"
   },
   {
    "duration": 120,
    "start_time": "2023-10-31T22:52:58.945Z"
   },
   {
    "duration": 51,
    "start_time": "2023-10-31T23:01:06.096Z"
   },
   {
    "duration": 55,
    "start_time": "2023-10-31T23:01:06.726Z"
   },
   {
    "duration": 5,
    "start_time": "2023-10-31T23:01:32.381Z"
   },
   {
    "duration": 29,
    "start_time": "2023-10-31T23:02:03.648Z"
   },
   {
    "duration": 18,
    "start_time": "2023-10-31T23:02:19.455Z"
   },
   {
    "duration": 16,
    "start_time": "2023-10-31T23:03:36.131Z"
   },
   {
    "duration": 18,
    "start_time": "2023-10-31T23:04:15.121Z"
   },
   {
    "duration": 8,
    "start_time": "2023-10-31T23:04:23.191Z"
   },
   {
    "duration": 4,
    "start_time": "2023-10-31T23:04:36.479Z"
   },
   {
    "duration": 4,
    "start_time": "2023-10-31T23:04:49.852Z"
   },
   {
    "duration": 5,
    "start_time": "2023-10-31T23:05:06.920Z"
   },
   {
    "duration": 29,
    "start_time": "2023-10-31T23:05:26.689Z"
   },
   {
    "duration": 909650,
    "start_time": "2023-10-31T23:09:28.951Z"
   },
   {
    "duration": 59,
    "start_time": "2023-10-31T23:33:28.034Z"
   },
   {
    "duration": 62,
    "start_time": "2023-10-31T23:33:46.729Z"
   },
   {
    "duration": 72,
    "start_time": "2023-10-31T23:34:02.653Z"
   },
   {
    "duration": 218,
    "start_time": "2023-10-31T23:34:06.226Z"
   },
   {
    "duration": 11,
    "start_time": "2023-10-31T23:34:11.495Z"
   },
   {
    "duration": 68,
    "start_time": "2023-10-31T23:34:13.317Z"
   },
   {
    "duration": 34,
    "start_time": "2023-10-31T23:34:14.661Z"
   },
   {
    "duration": 8,
    "start_time": "2023-10-31T23:34:23.631Z"
   },
   {
    "duration": 5,
    "start_time": "2023-10-31T23:34:43.009Z"
   },
   {
    "duration": 111,
    "start_time": "2023-10-31T23:39:21.485Z"
   },
   {
    "duration": 11,
    "start_time": "2023-10-31T23:40:02.418Z"
   },
   {
    "duration": 82,
    "start_time": "2023-10-31T23:40:04.355Z"
   },
   {
    "duration": 32,
    "start_time": "2023-10-31T23:40:05.758Z"
   },
   {
    "duration": 6,
    "start_time": "2023-10-31T23:40:09.973Z"
   },
   {
    "duration": 118,
    "start_time": "2023-10-31T23:41:10.105Z"
   },
   {
    "duration": 5,
    "start_time": "2023-10-31T23:42:57.340Z"
   },
   {
    "duration": 8,
    "start_time": "2023-10-31T23:43:08.812Z"
   },
   {
    "duration": 91,
    "start_time": "2023-10-31T23:43:29.407Z"
   },
   {
    "duration": 11,
    "start_time": "2023-10-31T23:44:06.708Z"
   },
   {
    "duration": 6,
    "start_time": "2023-10-31T23:44:21.186Z"
   },
   {
    "duration": 74,
    "start_time": "2023-10-31T23:44:22.881Z"
   },
   {
    "duration": 33,
    "start_time": "2023-10-31T23:44:23.967Z"
   },
   {
    "duration": 5,
    "start_time": "2023-10-31T23:44:28.096Z"
   },
   {
    "duration": 5490,
    "start_time": "2023-10-31T23:44:40.973Z"
   },
   {
    "duration": 5263,
    "start_time": "2023-10-31T23:45:00.248Z"
   },
   {
    "duration": 42676,
    "start_time": "2023-10-31T23:45:51.473Z"
   },
   {
    "duration": 3,
    "start_time": "2023-10-31T23:46:52.160Z"
   },
   {
    "duration": 2835,
    "start_time": "2023-10-31T23:46:55.506Z"
   },
   {
    "duration": 2391,
    "start_time": "2023-10-31T23:48:49.630Z"
   },
   {
    "duration": 4235,
    "start_time": "2023-10-31T23:48:52.023Z"
   },
   {
    "duration": 6,
    "start_time": "2023-10-31T23:48:56.259Z"
   },
   {
    "duration": 8,
    "start_time": "2023-10-31T23:48:56.267Z"
   },
   {
    "duration": 10,
    "start_time": "2023-10-31T23:48:56.277Z"
   },
   {
    "duration": 7,
    "start_time": "2023-10-31T23:48:56.288Z"
   },
   {
    "duration": 21,
    "start_time": "2023-10-31T23:48:56.296Z"
   },
   {
    "duration": 14,
    "start_time": "2023-10-31T23:48:56.319Z"
   },
   {
    "duration": 22,
    "start_time": "2023-10-31T23:48:56.335Z"
   },
   {
    "duration": 56,
    "start_time": "2023-10-31T23:48:56.360Z"
   },
   {
    "duration": 1013,
    "start_time": "2023-10-31T23:48:56.418Z"
   },
   {
    "duration": 5,
    "start_time": "2023-10-31T23:48:57.432Z"
   },
   {
    "duration": 15,
    "start_time": "2023-10-31T23:48:57.444Z"
   },
   {
    "duration": 33,
    "start_time": "2023-10-31T23:48:57.460Z"
   },
   {
    "duration": 2,
    "start_time": "2023-10-31T23:48:57.495Z"
   },
   {
    "duration": 18,
    "start_time": "2023-10-31T23:48:57.499Z"
   },
   {
    "duration": 145,
    "start_time": "2023-10-31T23:48:57.518Z"
   },
   {
    "duration": 29,
    "start_time": "2023-10-31T23:48:57.665Z"
   },
   {
    "duration": 237,
    "start_time": "2023-10-31T23:48:57.696Z"
   },
   {
    "duration": 472,
    "start_time": "2023-10-31T23:48:57.935Z"
   },
   {
    "duration": 88,
    "start_time": "2023-10-31T23:48:58.409Z"
   },
   {
    "duration": 920875,
    "start_time": "2023-10-31T23:48:58.499Z"
   },
   {
    "duration": 80,
    "start_time": "2023-11-01T00:04:19.376Z"
   },
   {
    "duration": 242,
    "start_time": "2023-11-01T00:04:19.458Z"
   },
   {
    "duration": 9,
    "start_time": "2023-11-01T00:04:19.702Z"
   },
   {
    "duration": 4,
    "start_time": "2023-11-01T00:04:19.713Z"
   },
   {
    "duration": 79,
    "start_time": "2023-11-01T00:04:19.719Z"
   },
   {
    "duration": 28,
    "start_time": "2023-11-01T00:04:19.802Z"
   },
   {
    "duration": 14,
    "start_time": "2023-11-01T00:04:19.832Z"
   },
   {
    "duration": 13,
    "start_time": "2023-11-01T00:04:19.848Z"
   },
   {
    "duration": 6,
    "start_time": "2023-11-01T00:04:19.862Z"
   },
   {
    "duration": 6,
    "start_time": "2023-11-01T00:04:19.869Z"
   },
   {
    "duration": 6,
    "start_time": "2023-11-01T00:04:19.876Z"
   },
   {
    "duration": 10,
    "start_time": "2023-11-01T00:04:19.883Z"
   },
   {
    "duration": 10,
    "start_time": "2023-11-01T00:04:19.894Z"
   },
   {
    "duration": 4,
    "start_time": "2023-11-01T00:04:19.906Z"
   },
   {
    "duration": 22,
    "start_time": "2023-11-01T00:04:19.912Z"
   },
   {
    "duration": 10,
    "start_time": "2023-11-01T00:04:19.936Z"
   },
   {
    "duration": 22,
    "start_time": "2023-11-01T00:04:19.947Z"
   },
   {
    "duration": 5,
    "start_time": "2023-11-01T00:04:19.971Z"
   },
   {
    "duration": 203,
    "start_time": "2023-11-01T00:04:19.978Z"
   },
   {
    "duration": 3,
    "start_time": "2023-11-01T00:04:20.183Z"
   },
   {
    "duration": 49365,
    "start_time": "2023-11-01T00:04:20.187Z"
   },
   {
    "duration": 91,
    "start_time": "2023-11-01T00:05:09.554Z"
   },
   {
    "duration": 2987,
    "start_time": "2023-11-01T00:05:09.647Z"
   },
   {
    "duration": 9,
    "start_time": "2023-11-01T00:05:12.635Z"
   },
   {
    "duration": 301335,
    "start_time": "2023-11-01T00:05:12.645Z"
   },
   {
    "duration": 2977,
    "start_time": "2023-11-01T00:10:13.982Z"
   },
   {
    "duration": 3,
    "start_time": "2023-11-01T00:10:16.962Z"
   },
   {
    "duration": 1277925,
    "start_time": "2023-11-01T00:10:16.966Z"
   },
   {
    "duration": 3314,
    "start_time": "2023-11-01T00:31:34.893Z"
   },
   {
    "duration": 3,
    "start_time": "2023-11-01T00:31:38.209Z"
   },
   {
    "duration": 5153331,
    "start_time": "2023-11-01T00:31:38.213Z"
   },
   {
    "duration": 4740,
    "start_time": "2023-11-01T01:57:31.546Z"
   },
   {
    "duration": 9,
    "start_time": "2023-11-01T01:57:36.288Z"
   },
   {
    "duration": 3091,
    "start_time": "2023-11-01T01:57:36.298Z"
   },
   {
    "duration": 3361,
    "start_time": "2023-11-01T01:57:39.391Z"
   },
   {
    "duration": 3833,
    "start_time": "2023-11-01T05:05:43.368Z"
   },
   {
    "duration": 1268,
    "start_time": "2023-11-01T05:06:40.848Z"
   },
   {
    "duration": 1358,
    "start_time": "2023-11-01T05:06:59.177Z"
   },
   {
    "duration": 9,
    "start_time": "2023-11-01T05:11:25.964Z"
   }
  ],
  "kernelspec": {
   "display_name": "Python 3 (ipykernel)",
   "language": "python",
   "name": "python3"
  },
  "language_info": {
   "codemirror_mode": {
    "name": "ipython",
    "version": 3
   },
   "file_extension": ".py",
   "mimetype": "text/x-python",
   "name": "python",
   "nbconvert_exporter": "python",
   "pygments_lexer": "ipython3",
   "version": "3.9.5"
  },
  "toc": {
   "base_numbering": 1,
   "nav_menu": {},
   "number_sections": true,
   "sideBar": true,
   "skip_h1_title": true,
   "title_cell": "Содержание",
   "title_sidebar": "Contents",
   "toc_cell": true,
   "toc_position": {
    "height": "calc(100% - 180px)",
    "left": "10px",
    "top": "150px",
    "width": "302.391px"
   },
   "toc_section_display": true,
   "toc_window_display": true
  }
 },
 "nbformat": 4,
 "nbformat_minor": 4
}
