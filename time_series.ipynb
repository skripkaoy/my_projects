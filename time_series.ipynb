{
 "cells": [
  {
   "cell_type": "markdown",
   "metadata": {
    "toc": true
   },
   "source": [
    "<h1>Содержание<span class=\"tocSkip\"></span></h1>\n",
    "<div class=\"toc\"><ul class=\"toc-item\"><li><span><a href=\"#Подготовка-данных\" data-toc-modified-id=\"Подготовка-данных-1\"><span class=\"toc-item-num\">1&nbsp;&nbsp;</span>Подготовка данных</a></span><ul class=\"toc-item\"><li><span><a href=\"#Загрузка-библиотек\" data-toc-modified-id=\"Загрузка-библиотек-1.1\"><span class=\"toc-item-num\">1.1&nbsp;&nbsp;</span>Загрузка библиотек</a></span></li><li><span><a href=\"#Функции\" data-toc-modified-id=\"Функции-1.2\"><span class=\"toc-item-num\">1.2&nbsp;&nbsp;</span>Функции</a></span></li><li><span><a href=\"#Обзор-данных\" data-toc-modified-id=\"Обзор-данных-1.3\"><span class=\"toc-item-num\">1.3&nbsp;&nbsp;</span>Обзор данных</a></span><ul class=\"toc-item\"><li><span><a href=\"#Загрузка-данных\" data-toc-modified-id=\"Загрузка-данных-1.3.1\"><span class=\"toc-item-num\">1.3.1&nbsp;&nbsp;</span>Загрузка данных</a></span></li><li><span><a href=\"#Изучение-общей-информации-о-данных\" data-toc-modified-id=\"Изучение-общей-информации-о-данных-1.3.2\"><span class=\"toc-item-num\">1.3.2&nbsp;&nbsp;</span>Изучение общей информации о данных</a></span></li></ul></li></ul></li><li><span><a href=\"#Анализ\" data-toc-modified-id=\"Анализ-2\"><span class=\"toc-item-num\">2&nbsp;&nbsp;</span>Анализ</a></span></li><li><span><a href=\"#Обучение\" data-toc-modified-id=\"Обучение-3\"><span class=\"toc-item-num\">3&nbsp;&nbsp;</span>Обучение</a></span><ul class=\"toc-item\"><li><span><a href=\"#Подготова-признаков\" data-toc-modified-id=\"Подготова-признаков-3.1\"><span class=\"toc-item-num\">3.1&nbsp;&nbsp;</span>Подготова признаков</a></span><ul class=\"toc-item\"><li><span><a href=\"#Преобразование-численных-признаков\" data-toc-modified-id=\"Преобразование-численных-признаков-3.1.1\"><span class=\"toc-item-num\">3.1.1&nbsp;&nbsp;</span>Преобразование численных признаков</a></span></li><li><span><a href=\"#Преобразование-категориальных-признаков\" data-toc-modified-id=\"Преобразование-категориальных-признаков-3.1.2\"><span class=\"toc-item-num\">3.1.2&nbsp;&nbsp;</span>Преобразование категориальных признаков</a></span></li></ul></li><li><span><a href=\"#Обучение-моделей\" data-toc-modified-id=\"Обучение-моделей-3.2\"><span class=\"toc-item-num\">3.2&nbsp;&nbsp;</span>Обучение моделей</a></span><ul class=\"toc-item\"><li><span><a href=\"#LinearRegression\" data-toc-modified-id=\"LinearRegression-3.2.1\"><span class=\"toc-item-num\">3.2.1&nbsp;&nbsp;</span>LinearRegression</a></span></li><li><span><a href=\"#DecisionTreeRegressor\" data-toc-modified-id=\"DecisionTreeRegressor-3.2.2\"><span class=\"toc-item-num\">3.2.2&nbsp;&nbsp;</span>DecisionTreeRegressor</a></span></li><li><span><a href=\"#RandomForestRegressor\" data-toc-modified-id=\"RandomForestRegressor-3.2.3\"><span class=\"toc-item-num\">3.2.3&nbsp;&nbsp;</span>RandomForestRegressor</a></span></li><li><span><a href=\"#LightGBM\" data-toc-modified-id=\"LightGBM-3.2.4\"><span class=\"toc-item-num\">3.2.4&nbsp;&nbsp;</span>LightGBM</a></span></li><li><span><a href=\"#CatBoostRegressor\" data-toc-modified-id=\"CatBoostRegressor-3.2.5\"><span class=\"toc-item-num\">3.2.5&nbsp;&nbsp;</span>CatBoostRegressor</a></span></li></ul></li><li><span><a href=\"#Сравнение-моделей\" data-toc-modified-id=\"Сравнение-моделей-3.3\"><span class=\"toc-item-num\">3.3&nbsp;&nbsp;</span>Сравнение моделей</a></span></li></ul></li><li><span><a href=\"#Тестирование\" data-toc-modified-id=\"Тестирование-4\"><span class=\"toc-item-num\">4&nbsp;&nbsp;</span>Тестирование</a></span></li><li><span><a href=\"#Общий-вывод\" data-toc-modified-id=\"Общий-вывод-5\"><span class=\"toc-item-num\">5&nbsp;&nbsp;</span>Общий вывод</a></span></li><li><span><a href=\"#Чек-лист-проверки\" data-toc-modified-id=\"Чек-лист-проверки-6\"><span class=\"toc-item-num\">6&nbsp;&nbsp;</span>Чек-лист проверки</a></span></li></ul></div>"
   ]
  },
  {
   "cell_type": "markdown",
   "metadata": {},
   "source": [
    "#  Прогнозирование заказов такси"
   ]
  },
  {
   "cell_type": "markdown",
   "metadata": {},
   "source": [
    "**Цель исследования** — на основе исторических данных компании «Чётенькое такси» о заказах такси в аэропортах необходимо построить модель, которая будет прогнозировать количество заказов такси на следующий час. Это необходимо для привлечения большего числа водителей в период пиковой нагрузки. \n",
    "\n",
    "**Ход исследования**\n",
    "\n",
    "Исследование пройдёт в пять этапов:\n",
    " 1. Обзор данных.\n",
    " 2. Анализ данных.\n",
    " 3. Подготовка данных.\n",
    " 4. Построение и обучение моделей.\n",
    " 5. Тестирование.\n",
    "\n",
    "**Описание данных:**\n",
    "\n",
    "Набор данных находится в файле `/datasets/taxi.csv`\n",
    "\n",
    "- **Признаки**\n",
    "\n",
    "`num_orders` — количество заказов\n",
    "\n",
    "**Требования:**\n",
    "Значение метрики *RMSE* на тестовой выборке должно быть не больше 48."
   ]
  },
  {
   "cell_type": "markdown",
   "metadata": {},
   "source": [
    "## Подготовка данных"
   ]
  },
  {
   "cell_type": "markdown",
   "metadata": {},
   "source": [
    "### Загрузка библиотек"
   ]
  },
  {
   "cell_type": "code",
   "execution_count": 1,
   "metadata": {},
   "outputs": [],
   "source": [
    "import pandas as pd\n",
    "import numpy as np\n",
    "import matplotlib\n",
    "import matplotlib.pyplot as plt\n",
    "import statistics\n",
    "import os\n",
    "from matplotlib import rcParams, rcParamsDefault\n",
    "from statsmodels.tsa.seasonal import seasonal_decompose\n",
    "from sklearn.metrics import mean_squared_error\n",
    "from sklearn.model_selection import train_test_split, GridSearchCV, TimeSeriesSplit\n",
    "from sklearn.linear_model import LinearRegression\n",
    "from sklearn.tree import DecisionTreeRegressor\n",
    "from sklearn.ensemble import RandomForestRegressor\n",
    "from catboost import CatBoostRegressor\n",
    "from lightgbm import LGBMRegressor\n",
    "from sklearn.preprocessing import StandardScaler, OneHotEncoder, OrdinalEncoder\n",
    "\n",
    "rcParams['figure.figsize'] = 10,6"
   ]
  },
  {
   "cell_type": "code",
   "execution_count": 2,
   "metadata": {},
   "outputs": [],
   "source": [
    "pd.options.mode.chained_assignment = None # убираем предупреждение SettingWithCopy"
   ]
  },
  {
   "cell_type": "code",
   "execution_count": 3,
   "metadata": {},
   "outputs": [],
   "source": [
    "MY_RANDOM_STATE = np.random.seed(12345)"
   ]
  },
  {
   "cell_type": "markdown",
   "metadata": {},
   "source": [
    "### Функции"
   ]
  },
  {
   "cell_type": "markdown",
   "metadata": {},
   "source": [
    "Функция, выводящая все необходимые нам характеристики для данных."
   ]
  },
  {
   "cell_type": "code",
   "execution_count": 4,
   "metadata": {},
   "outputs": [],
   "source": [
    "def dataframe_information(data):\n",
    "    '''\n",
    "    Функция принимает датафрейм для анализа и возвращает датафрейм с основными статистиками данных\n",
    "    data - датафрейм\n",
    "    Return:\n",
    "    df_res - датафрейм с характеристиками данных\n",
    "    '''\n",
    "    \n",
    "    df_data = []\n",
    "    df_cols = ['name', 'object', 'na', 'zero', 'rate', 'unique', 'neg'\n",
    "               , 'mean', 'moda', 'std', 'min', 'max', 'out left', 'out rigth', '25%', '50%', '75%']\n",
    "    \n",
    "    # перебираем столбцы в наборе данных\n",
    "    for column_name in data.columns:\n",
    "               \n",
    "        # считаем характеристики\n",
    "        column_type = data[column_name].dtypes\n",
    "        column_na_values = data[column_name].isna().sum()\n",
    "        column_zero_values = data[column_name][data[column_name] == 0].count()\n",
    "        column_na_zero_rate = (column_na_values + column_zero_values) / data.shape[0]\n",
    "        column_unique_values = data[column_name].nunique()\n",
    "        column_negative_values = (data[column_name][data[column_name] < 0].count()\n",
    "                                  if data[column_name].dtypes != 'object' else 0)\n",
    "        column_mean = data[column_name].mean() if data[column_name].dtypes != 'object' else 0\n",
    "        column_moda = statistics.mode(data[column_name])\n",
    "        column_std = data[column_name].std() if data[column_name].dtypes != 'object' else 0\n",
    "        column_min = data[column_name].min() if data[column_name].dtypes != 'object' else 0\n",
    "        column_max = data[column_name].max() if data[column_name].dtypes != 'object' else 0\n",
    "        outliers_left_number = (data[column_name][data[column_name] < data[column_name].quantile(.025)].count()\n",
    "                                if data[column_name].dtypes != 'object' else 0)\n",
    "        outliers_right_number = (data[column_name][data[column_name] > data[column_name].quantile(.975)].count()\n",
    "                                 if data[column_name].dtypes != 'object' else 0)\n",
    "        percentile_25 = data[column_name].quantile(.25) if data[column_name].dtypes != 'object' else 0\n",
    "        percentile_50 = data[column_name].quantile(.50) if data[column_name].dtypes != 'object' else 0\n",
    "        percentile_75 = data[column_name].quantile(.75) if data[column_name].dtypes != 'object' else 0\n",
    "       \n",
    "    # собираем показатели по каждому полю\n",
    "        df_data.append([column_name, column_type, column_na_values\n",
    "                                 , column_zero_values, column_na_zero_rate, column_unique_values\n",
    "                                 , column_negative_values, column_mean, column_moda, column_std, column_min\n",
    "                                 , column_max, outliers_left_number, outliers_right_number\n",
    "                                 , percentile_25, percentile_50, percentile_75])\n",
    "    \n",
    "    # формируем набор данных\n",
    "    df_res = pd.DataFrame(data = df_data, columns = df_cols)\n",
    "    \n",
    "    return df_res"
   ]
  },
  {
   "cell_type": "markdown",
   "metadata": {},
   "source": [
    "Функция для поиска выбросов."
   ]
  },
  {
   "cell_type": "code",
   "execution_count": 5,
   "metadata": {},
   "outputs": [],
   "source": [
    "def search_outliers(df, col, col_name=None, x_name=None, rolling_window_size=None):\n",
    "    '''\n",
    "    Функция принимает датафрейм и столбец, ищет выбросы с помощью IQR и строит boxplot\n",
    "    df - датафрейм\n",
    "    col - столбец датафрейма\n",
    "    col_name - наименование столбца (для графика)\n",
    "    x_name - наименование столбца (для графика)\n",
    "    rolling_window_size - размер окна для скользящего среднего\n",
    "    Return:\n",
    "    lower_fence - верхняя граница нормальных значений\n",
    "    upper_fence - нижняя граница нормальных значений\n",
    "    '''\n",
    "    # находим 3-й и 1-й квартили\n",
    "    Q3 = np.quantile(df[col], 0.75, axis=0)\n",
    "    Q1 = np.quantile(df[col], 0.25, axis=0)\n",
    "    # находим межквартильный размах\n",
    "    IQR = Q3 - Q1\n",
    "    # находим границы нормального размаха\n",
    "    upper_fence = round(Q3 + 1.5 * IQR, 2)\n",
    "    lower_fence = round(Q1 - 1.5 * IQR, 2)\n",
    "    # выводим интервалы фактических значений и нормальных значений, количество аномальных значений\n",
    "    print('-' * 45)\n",
    "    print(f'Интервал фактических значений для переменной {col} от {round(df[col].min(),2)} до {round(df[col].max(),2)}')\n",
    "    print(f'Интервал нормальных значений для переменной {col} от {lower_fence} до {upper_fence}')\n",
    "\n",
    "    print(f'Переменная {col} содержит аномальных значений : {round(df[(df[col]>upper_fence)| (df[col]<lower_fence)].shape[0]/df.shape[0]*100, 2)}%')\n",
    "\n",
    "    if df[(df[col] == 0)].shape[0]>0:\n",
    "        print(f'Переменная {col} содержит нулевые значения {round(df[(df[col] == 0)].shape[0]/df.shape[0]*100, 2)}%')\n",
    "            \n",
    "    #  строим график по данным\n",
    "    if rolling_window_size != None and col_name != None and x_name != None and rolling_window_size != None:\n",
    "        df_copy = df.copy()\n",
    "        df_copy['rolling_mean'] = df_copy[col].rolling(rolling_window_size).mean()\n",
    "        df_copy['rolling_std'] = df_copy[col].rolling(rolling_window_size).std()\n",
    "        df_copy.plot() #  строим график\n",
    "        plt.title(f'График по данным {col_name}')\n",
    "        plt.ylabel(col_name)\n",
    "        plt.xlabel(x_name)\n",
    "        plt.legend([col_name, 'Скользящее среднее', 'Скользящее стандартное отклонение'])\n",
    "        plt.show()\n",
    "    \n",
    "    #  строим диаграмму размаха    \n",
    "    if col_name != None:\n",
    "        df.loc[:, [col]].boxplot().set(title=f'Диаграмма размаха значений переменной {col_name}',\n",
    "                                         ylabel=col_name) #  строим диаграмму размаха\n",
    "        plt.show()\n",
    "    \n",
    "    return lower_fence, upper_fence"
   ]
  },
  {
   "cell_type": "markdown",
   "metadata": {},
   "source": [
    "Функция для построения графиков."
   ]
  },
  {
   "cell_type": "code",
   "execution_count": 6,
   "metadata": {},
   "outputs": [],
   "source": [
    "def plotting(data, title, xtitle=None, ytitle=None):\n",
    "    '''\n",
    "    Функция на основе датафрейма и передаваемых наименований строит график\n",
    "    data - датафрейм\n",
    "    title - наименование графика\n",
    "    xtitle - наименование оси х\n",
    "    ytitle - наименование оси у\n",
    "    '''\n",
    "    # строим график\n",
    "    data.plot()\n",
    "    # добавляем наименование графика и осей (если они переданы)\n",
    "    plt.title(title)\n",
    "    plt.ylabel(ytitle)\n",
    "    plt.xlabel(xtitle)\n",
    "    plt.show()"
   ]
  },
  {
   "cell_type": "markdown",
   "metadata": {},
   "source": [
    "Функция для создания признаков."
   ]
  },
  {
   "cell_type": "code",
   "execution_count": 7,
   "metadata": {},
   "outputs": [],
   "source": [
    "def make_features(data, col, max_lag, rolling_mean_size):\n",
    "    '''\n",
    "    Функция на основе датафрейма вычисляет и добавляет к датафрейму признаки (календарные признаки, отстающие значения, \n",
    "    скользящее вреднее)\n",
    "    data - датафрейм\n",
    "    col - столбец датафрейма\n",
    "    max_lag - максимальный размер отставания\n",
    "    x_name - наименование столбца (для графика)\n",
    "    rolling_window_size - ширина окна для скользящего среднего\n",
    "    Return:\n",
    "    data_new_features - датафрейм с новыми признаками\n",
    "    '''\n",
    "    data_new_features = data.copy()\n",
    "    data_new_features['day'] = data_new_features.index.day # признак день\n",
    "    data_new_features['hour'] = data_new_features.index.hour # признак час\n",
    "    \n",
    "    for lag in range(1, max_lag + 1): # новые признаки с отставанием на 1 и до величины max_lag\n",
    "        data_new_features['lag_{}'.format(lag)] = data_new_features[col].shift(lag)\n",
    "    #  признак скользящее среднее\n",
    "    data_new_features['rolling_mean'] = data_new_features[col].shift().rolling(rolling_mean_size).mean()\n",
    "    data_new_features.dropna(inplace=True) # удаляем пропущенные значения\n",
    "    \n",
    "    return data_new_features"
   ]
  },
  {
   "cell_type": "markdown",
   "metadata": {},
   "source": [
    "### Обзор данных"
   ]
  },
  {
   "cell_type": "markdown",
   "metadata": {},
   "source": [
    "#### Загрузка данных"
   ]
  },
  {
   "cell_type": "markdown",
   "metadata": {},
   "source": [
    "Считаем данные из csv-файлов `/datasets/taxi.csv` в датафрейм и сохраним в переменную `data`."
   ]
  },
  {
   "cell_type": "code",
   "execution_count": 8,
   "metadata": {},
   "outputs": [],
   "source": [
    "# чтение файла с данными и сохранение в data\n",
    "pth1 = '/datasets/taxi.csv'\n",
    "pth2 = 'https://code.s3.yandex.net/datasets/taxi.csv'\n",
    "\n",
    "if os.path.exists(pth1):\n",
    "    data = pd.read_csv(pth1, index_col=[0], parse_dates=[0])\n",
    "elif os.path.exists(pth2):\n",
    "    data = pd.read_csv(pth2, index_col=[0], parse_dates=[0])\n",
    "else:\n",
    "    print('Something is wrong')"
   ]
  },
  {
   "cell_type": "markdown",
   "metadata": {},
   "source": [
    "#### Изучение общей информации о данных"
   ]
  },
  {
   "cell_type": "markdown",
   "metadata": {},
   "source": [
    "Проверим размерность датасета."
   ]
  },
  {
   "cell_type": "code",
   "execution_count": 9,
   "metadata": {},
   "outputs": [
    {
     "data": {
      "text/plain": [
       "(26496, 1)"
      ]
     },
     "execution_count": 9,
     "metadata": {},
     "output_type": "execute_result"
    }
   ],
   "source": [
    "# посмотрим на размер датасета\n",
    "data.shape"
   ]
  },
  {
   "cell_type": "markdown",
   "metadata": {},
   "source": [
    "Выведем первые 5 строчек на экран."
   ]
  },
  {
   "cell_type": "code",
   "execution_count": 10,
   "metadata": {},
   "outputs": [
    {
     "data": {
      "text/html": [
       "<div>\n",
       "<style scoped>\n",
       "    .dataframe tbody tr th:only-of-type {\n",
       "        vertical-align: middle;\n",
       "    }\n",
       "\n",
       "    .dataframe tbody tr th {\n",
       "        vertical-align: top;\n",
       "    }\n",
       "\n",
       "    .dataframe thead th {\n",
       "        text-align: right;\n",
       "    }\n",
       "</style>\n",
       "<table border=\"1\" class=\"dataframe\">\n",
       "  <thead>\n",
       "    <tr style=\"text-align: right;\">\n",
       "      <th></th>\n",
       "      <th>num_orders</th>\n",
       "    </tr>\n",
       "    <tr>\n",
       "      <th>datetime</th>\n",
       "      <th></th>\n",
       "    </tr>\n",
       "  </thead>\n",
       "  <tbody>\n",
       "    <tr>\n",
       "      <th>2018-03-01 00:00:00</th>\n",
       "      <td>9</td>\n",
       "    </tr>\n",
       "    <tr>\n",
       "      <th>2018-03-01 00:10:00</th>\n",
       "      <td>14</td>\n",
       "    </tr>\n",
       "    <tr>\n",
       "      <th>2018-03-01 00:20:00</th>\n",
       "      <td>28</td>\n",
       "    </tr>\n",
       "    <tr>\n",
       "      <th>2018-03-01 00:30:00</th>\n",
       "      <td>20</td>\n",
       "    </tr>\n",
       "    <tr>\n",
       "      <th>2018-03-01 00:40:00</th>\n",
       "      <td>32</td>\n",
       "    </tr>\n",
       "  </tbody>\n",
       "</table>\n",
       "</div>"
      ],
      "text/plain": [
       "                     num_orders\n",
       "datetime                       \n",
       "2018-03-01 00:00:00           9\n",
       "2018-03-01 00:10:00          14\n",
       "2018-03-01 00:20:00          28\n",
       "2018-03-01 00:30:00          20\n",
       "2018-03-01 00:40:00          32"
      ]
     },
     "execution_count": 10,
     "metadata": {},
     "output_type": "execute_result"
    }
   ],
   "source": [
    "# получение первых 5 строк таблицы data\n",
    "data.head()"
   ]
  },
  {
   "cell_type": "markdown",
   "metadata": {},
   "source": [
    "Видим, что данные есть за каждые 10 минут, в таблице один столбец с количеством заказов.\n",
    "\n",
    "Выведем основную информацию о датафрейме."
   ]
  },
  {
   "cell_type": "code",
   "execution_count": 11,
   "metadata": {
    "scrolled": true
   },
   "outputs": [
    {
     "name": "stdout",
     "output_type": "stream",
     "text": [
      "<class 'pandas.core.frame.DataFrame'>\n",
      "DatetimeIndex: 26496 entries, 2018-03-01 00:00:00 to 2018-08-31 23:50:00\n",
      "Data columns (total 1 columns):\n",
      " #   Column      Non-Null Count  Dtype\n",
      "---  ------      --------------  -----\n",
      " 0   num_orders  26496 non-null  int64\n",
      "dtypes: int64(1)\n",
      "memory usage: 414.0 KB\n"
     ]
    }
   ],
   "source": [
    "# получение общей информации о данных в таблице data\n",
    "data.info()"
   ]
  },
  {
   "cell_type": "markdown",
   "metadata": {},
   "source": [
    "Посмотрим основные статистичекие метрики."
   ]
  },
  {
   "cell_type": "code",
   "execution_count": 12,
   "metadata": {},
   "outputs": [
    {
     "data": {
      "text/html": [
       "<div>\n",
       "<style scoped>\n",
       "    .dataframe tbody tr th:only-of-type {\n",
       "        vertical-align: middle;\n",
       "    }\n",
       "\n",
       "    .dataframe tbody tr th {\n",
       "        vertical-align: top;\n",
       "    }\n",
       "\n",
       "    .dataframe thead th {\n",
       "        text-align: right;\n",
       "    }\n",
       "</style>\n",
       "<table border=\"1\" class=\"dataframe\">\n",
       "  <thead>\n",
       "    <tr style=\"text-align: right;\">\n",
       "      <th></th>\n",
       "      <th>count</th>\n",
       "      <th>mean</th>\n",
       "      <th>std</th>\n",
       "      <th>min</th>\n",
       "      <th>25%</th>\n",
       "      <th>50%</th>\n",
       "      <th>75%</th>\n",
       "      <th>max</th>\n",
       "    </tr>\n",
       "  </thead>\n",
       "  <tbody>\n",
       "    <tr>\n",
       "      <th>num_orders</th>\n",
       "      <td>26496.0</td>\n",
       "      <td>14.070463</td>\n",
       "      <td>9.21133</td>\n",
       "      <td>0.0</td>\n",
       "      <td>8.0</td>\n",
       "      <td>13.0</td>\n",
       "      <td>19.0</td>\n",
       "      <td>119.0</td>\n",
       "    </tr>\n",
       "  </tbody>\n",
       "</table>\n",
       "</div>"
      ],
      "text/plain": [
       "              count       mean      std  min  25%   50%   75%    max\n",
       "num_orders  26496.0  14.070463  9.21133  0.0  8.0  13.0  19.0  119.0"
      ]
     },
     "execution_count": 12,
     "metadata": {},
     "output_type": "execute_result"
    }
   ],
   "source": [
    "# выводим статистические метрики\n",
    "data.describe().T"
   ]
  },
  {
   "cell_type": "markdown",
   "metadata": {},
   "source": [
    "Выведем характеристики данных в `data`."
   ]
  },
  {
   "cell_type": "code",
   "execution_count": 13,
   "metadata": {},
   "outputs": [
    {
     "data": {
      "text/html": [
       "<div>\n",
       "<style scoped>\n",
       "    .dataframe tbody tr th:only-of-type {\n",
       "        vertical-align: middle;\n",
       "    }\n",
       "\n",
       "    .dataframe tbody tr th {\n",
       "        vertical-align: top;\n",
       "    }\n",
       "\n",
       "    .dataframe thead th {\n",
       "        text-align: right;\n",
       "    }\n",
       "</style>\n",
       "<table border=\"1\" class=\"dataframe\">\n",
       "  <thead>\n",
       "    <tr style=\"text-align: right;\">\n",
       "      <th></th>\n",
       "      <th>name</th>\n",
       "      <th>object</th>\n",
       "      <th>na</th>\n",
       "      <th>zero</th>\n",
       "      <th>rate</th>\n",
       "      <th>unique</th>\n",
       "      <th>neg</th>\n",
       "      <th>mean</th>\n",
       "      <th>moda</th>\n",
       "      <th>std</th>\n",
       "      <th>min</th>\n",
       "      <th>max</th>\n",
       "      <th>out left</th>\n",
       "      <th>out rigth</th>\n",
       "      <th>25%</th>\n",
       "      <th>50%</th>\n",
       "      <th>75%</th>\n",
       "    </tr>\n",
       "  </thead>\n",
       "  <tbody>\n",
       "    <tr>\n",
       "      <th>0</th>\n",
       "      <td>num_orders</td>\n",
       "      <td>int64</td>\n",
       "      <td>0</td>\n",
       "      <td>537</td>\n",
       "      <td>0.020267</td>\n",
       "      <td>81</td>\n",
       "      <td>0</td>\n",
       "      <td>14.070463</td>\n",
       "      <td>9</td>\n",
       "      <td>9.21133</td>\n",
       "      <td>0</td>\n",
       "      <td>119</td>\n",
       "      <td>537</td>\n",
       "      <td>601</td>\n",
       "      <td>8.0</td>\n",
       "      <td>13.0</td>\n",
       "      <td>19.0</td>\n",
       "    </tr>\n",
       "  </tbody>\n",
       "</table>\n",
       "</div>"
      ],
      "text/plain": [
       "         name object  na  zero      rate  unique  neg       mean  moda  \\\n",
       "0  num_orders  int64   0   537  0.020267      81    0  14.070463     9   \n",
       "\n",
       "       std  min  max  out left  out rigth  25%   50%   75%  \n",
       "0  9.21133    0  119       537        601  8.0  13.0  19.0  "
      ]
     },
     "execution_count": 13,
     "metadata": {},
     "output_type": "execute_result"
    }
   ],
   "source": [
    "# вызываем функцию для расчета характеристик по данным\n",
    "dataframe_information(data)"
   ]
  },
  {
   "cell_type": "markdown",
   "metadata": {},
   "source": [
    "Видим, что отрицательных и пропущенных значений нет, есть выбросы. В среднем видим 14 вызовов за период (10 минут), максимум 119. Самое частое значение - 13 вызовов за период. \n",
    "\n",
    "Проверим индекс на монотонность."
   ]
  },
  {
   "cell_type": "code",
   "execution_count": 14,
   "metadata": {},
   "outputs": [
    {
     "data": {
      "text/plain": [
       "True"
      ]
     },
     "execution_count": 14,
     "metadata": {},
     "output_type": "execute_result"
    }
   ],
   "source": [
    "# проверка индекса на монотонность\n",
    "data.index.is_monotonic"
   ]
  },
  {
   "cell_type": "markdown",
   "metadata": {},
   "source": [
    "Порядок соблюден, дата и время расположены в хронологическом порядке.\n",
    "\n",
    "Проведем ресемплирование данных по одному часу."
   ]
  },
  {
   "cell_type": "code",
   "execution_count": 15,
   "metadata": {},
   "outputs": [],
   "source": [
    "data = data.resample('1H').sum()"
   ]
  },
  {
   "cell_type": "markdown",
   "metadata": {},
   "source": [
    "Посмотрим теперь на размер полученного датасета."
   ]
  },
  {
   "cell_type": "code",
   "execution_count": 16,
   "metadata": {},
   "outputs": [
    {
     "data": {
      "text/plain": [
       "(4416, 1)"
      ]
     },
     "execution_count": 16,
     "metadata": {},
     "output_type": "execute_result"
    }
   ],
   "source": [
    "# посмотрим на размер датасета\n",
    "data.shape"
   ]
  },
  {
   "cell_type": "markdown",
   "metadata": {},
   "source": [
    "Выведем первые 5 строчек на экран."
   ]
  },
  {
   "cell_type": "code",
   "execution_count": 17,
   "metadata": {},
   "outputs": [
    {
     "data": {
      "text/html": [
       "<div>\n",
       "<style scoped>\n",
       "    .dataframe tbody tr th:only-of-type {\n",
       "        vertical-align: middle;\n",
       "    }\n",
       "\n",
       "    .dataframe tbody tr th {\n",
       "        vertical-align: top;\n",
       "    }\n",
       "\n",
       "    .dataframe thead th {\n",
       "        text-align: right;\n",
       "    }\n",
       "</style>\n",
       "<table border=\"1\" class=\"dataframe\">\n",
       "  <thead>\n",
       "    <tr style=\"text-align: right;\">\n",
       "      <th></th>\n",
       "      <th>num_orders</th>\n",
       "    </tr>\n",
       "    <tr>\n",
       "      <th>datetime</th>\n",
       "      <th></th>\n",
       "    </tr>\n",
       "  </thead>\n",
       "  <tbody>\n",
       "    <tr>\n",
       "      <th>2018-03-01 00:00:00</th>\n",
       "      <td>124</td>\n",
       "    </tr>\n",
       "    <tr>\n",
       "      <th>2018-03-01 01:00:00</th>\n",
       "      <td>85</td>\n",
       "    </tr>\n",
       "    <tr>\n",
       "      <th>2018-03-01 02:00:00</th>\n",
       "      <td>71</td>\n",
       "    </tr>\n",
       "    <tr>\n",
       "      <th>2018-03-01 03:00:00</th>\n",
       "      <td>66</td>\n",
       "    </tr>\n",
       "    <tr>\n",
       "      <th>2018-03-01 04:00:00</th>\n",
       "      <td>43</td>\n",
       "    </tr>\n",
       "  </tbody>\n",
       "</table>\n",
       "</div>"
      ],
      "text/plain": [
       "                     num_orders\n",
       "datetime                       \n",
       "2018-03-01 00:00:00         124\n",
       "2018-03-01 01:00:00          85\n",
       "2018-03-01 02:00:00          71\n",
       "2018-03-01 03:00:00          66\n",
       "2018-03-01 04:00:00          43"
      ]
     },
     "execution_count": 17,
     "metadata": {},
     "output_type": "execute_result"
    }
   ],
   "source": [
    "# получение первых 5 строк таблицы data\n",
    "data.head()"
   ]
  },
  {
   "cell_type": "markdown",
   "metadata": {},
   "source": [
    "Видим, что период изменился на 1 час.\n",
    "\n",
    "Посмотрим основные статистические метрики."
   ]
  },
  {
   "cell_type": "code",
   "execution_count": 18,
   "metadata": {},
   "outputs": [
    {
     "data": {
      "text/html": [
       "<div>\n",
       "<style scoped>\n",
       "    .dataframe tbody tr th:only-of-type {\n",
       "        vertical-align: middle;\n",
       "    }\n",
       "\n",
       "    .dataframe tbody tr th {\n",
       "        vertical-align: top;\n",
       "    }\n",
       "\n",
       "    .dataframe thead th {\n",
       "        text-align: right;\n",
       "    }\n",
       "</style>\n",
       "<table border=\"1\" class=\"dataframe\">\n",
       "  <thead>\n",
       "    <tr style=\"text-align: right;\">\n",
       "      <th></th>\n",
       "      <th>count</th>\n",
       "      <th>mean</th>\n",
       "      <th>std</th>\n",
       "      <th>min</th>\n",
       "      <th>25%</th>\n",
       "      <th>50%</th>\n",
       "      <th>75%</th>\n",
       "      <th>max</th>\n",
       "    </tr>\n",
       "  </thead>\n",
       "  <tbody>\n",
       "    <tr>\n",
       "      <th>num_orders</th>\n",
       "      <td>4416.0</td>\n",
       "      <td>84.422781</td>\n",
       "      <td>45.023853</td>\n",
       "      <td>0.0</td>\n",
       "      <td>54.0</td>\n",
       "      <td>78.0</td>\n",
       "      <td>107.0</td>\n",
       "      <td>462.0</td>\n",
       "    </tr>\n",
       "  </tbody>\n",
       "</table>\n",
       "</div>"
      ],
      "text/plain": [
       "             count       mean        std  min   25%   50%    75%    max\n",
       "num_orders  4416.0  84.422781  45.023853  0.0  54.0  78.0  107.0  462.0"
      ]
     },
     "execution_count": 18,
     "metadata": {},
     "output_type": "execute_result"
    }
   ],
   "source": [
    "# выводим статистические метрики\n",
    "data.describe().T"
   ]
  },
  {
   "cell_type": "code",
   "execution_count": 19,
   "metadata": {},
   "outputs": [
    {
     "data": {
      "text/html": [
       "<div>\n",
       "<style scoped>\n",
       "    .dataframe tbody tr th:only-of-type {\n",
       "        vertical-align: middle;\n",
       "    }\n",
       "\n",
       "    .dataframe tbody tr th {\n",
       "        vertical-align: top;\n",
       "    }\n",
       "\n",
       "    .dataframe thead th {\n",
       "        text-align: right;\n",
       "    }\n",
       "</style>\n",
       "<table border=\"1\" class=\"dataframe\">\n",
       "  <thead>\n",
       "    <tr style=\"text-align: right;\">\n",
       "      <th></th>\n",
       "      <th>name</th>\n",
       "      <th>object</th>\n",
       "      <th>na</th>\n",
       "      <th>zero</th>\n",
       "      <th>rate</th>\n",
       "      <th>unique</th>\n",
       "      <th>neg</th>\n",
       "      <th>mean</th>\n",
       "      <th>moda</th>\n",
       "      <th>std</th>\n",
       "      <th>min</th>\n",
       "      <th>max</th>\n",
       "      <th>out left</th>\n",
       "      <th>out rigth</th>\n",
       "      <th>25%</th>\n",
       "      <th>50%</th>\n",
       "      <th>75%</th>\n",
       "    </tr>\n",
       "  </thead>\n",
       "  <tbody>\n",
       "    <tr>\n",
       "      <th>0</th>\n",
       "      <td>num_orders</td>\n",
       "      <td>int64</td>\n",
       "      <td>0</td>\n",
       "      <td>1</td>\n",
       "      <td>0.000226</td>\n",
       "      <td>251</td>\n",
       "      <td>0</td>\n",
       "      <td>84.422781</td>\n",
       "      <td>73</td>\n",
       "      <td>45.023853</td>\n",
       "      <td>0</td>\n",
       "      <td>462</td>\n",
       "      <td>101</td>\n",
       "      <td>111</td>\n",
       "      <td>54.0</td>\n",
       "      <td>78.0</td>\n",
       "      <td>107.0</td>\n",
       "    </tr>\n",
       "  </tbody>\n",
       "</table>\n",
       "</div>"
      ],
      "text/plain": [
       "         name object  na  zero      rate  unique  neg       mean  moda  \\\n",
       "0  num_orders  int64   0     1  0.000226     251    0  84.422781    73   \n",
       "\n",
       "         std  min  max  out left  out rigth   25%   50%    75%  \n",
       "0  45.023853    0  462       101        111  54.0  78.0  107.0  "
      ]
     },
     "execution_count": 19,
     "metadata": {},
     "output_type": "execute_result"
    }
   ],
   "source": [
    "# вызываем функцию для расчета характеристик по данным\n",
    "dataframe_information(data)"
   ]
  },
  {
   "cell_type": "markdown",
   "metadata": {},
   "source": [
    "В среднем видим 84 вызова за период (1 час), максимум 462. Самое частое значение - 73 вызова за период."
   ]
  },
  {
   "cell_type": "markdown",
   "metadata": {},
   "source": [
    "**Выводы:** В каждой строке таблицы — данные о количестве вызова такси каждые 10 минут.  \n",
    "\n",
    "Предварительно можно утверждать, что, данных достаточно для построения модели, прогнозирующей количество заказов такси на следующий час. Было проведено ресемплирование данных по одному часу."
   ]
  },
  {
   "cell_type": "markdown",
   "metadata": {},
   "source": [
    "## Анализ"
   ]
  },
  {
   "cell_type": "markdown",
   "metadata": {},
   "source": [
    "Проверим, нет ли пропусков."
   ]
  },
  {
   "cell_type": "code",
   "execution_count": 20,
   "metadata": {},
   "outputs": [
    {
     "data": {
      "text/plain": [
       "num_orders    0\n",
       "dtype: int64"
      ]
     },
     "execution_count": 20,
     "metadata": {},
     "output_type": "execute_result"
    }
   ],
   "source": [
    "# проверка на пропуски\n",
    "data.isna().sum()"
   ]
  },
  {
   "cell_type": "markdown",
   "metadata": {},
   "source": [
    "Пропусков нет. Посмотрим наличие выбросов. Так же построим график по нашим данным (дополнительно чтобы во временном ряду снизить колебания, применим скользящее среднее - размер окна выберем неделю и посмотрим скользящее стандартное отклонение)."
   ]
  },
  {
   "cell_type": "code",
   "execution_count": 21,
   "metadata": {},
   "outputs": [
    {
     "name": "stdout",
     "output_type": "stream",
     "text": [
      "---------------------------------------------\n",
      "Интервал фактических значений для переменной num_orders от 0 до 462\n",
      "Интервал нормальных значений для переменной num_orders от -25.5 до 186.5\n",
      "Переменная num_orders содержит аномальных значений : 2.74%\n",
      "Переменная num_orders содержит нулевые значения 0.02%\n"
     ]
    },
    {
     "data": {
      "image/png": "[encoded data removed]",
      "text/plain": [
       "<Figure size 720x432 with 1 Axes>"
      ]
     },
     "metadata": {
      "needs_background": "light"
     },
     "output_type": "display_data"
    },
    {
     "data": {
      "image/png": "[encoded data removed]",
      "text/plain": [
       "<Figure size 720x432 with 1 Axes>"
      ]
     },
     "metadata": {
      "needs_background": "light"
     },
     "output_type": "display_data"
    },
    {
     "data": {
      "text/plain": [
       "(-25.5, 186.5)"
      ]
     },
     "execution_count": 21,
     "metadata": {},
     "output_type": "execute_result"
    }
   ],
   "source": [
    "search_outliers(data, 'num_orders', 'Число заказов', 'Дата заказа', 24*7)"
   ]
  },
  {
   "cell_type": "markdown",
   "metadata": {},
   "source": [
    "Наличие выбросов определили с помощью стандартной диаграммы размаха, все эти значения вполне естественно вписываются во временной ряд. А в список выбросов они попали из-за того, что находятся в конце временного ряда, а у нас есть рост заказов с течением времени. Поэтому принято решение найденные выбросы не удалять.\n",
    "\n",
    "Разделим данные на трендовую, сезонную и шумовую состовляющие и построим соответствующие графики."
   ]
  },
  {
   "cell_type": "code",
   "execution_count": 22,
   "metadata": {},
   "outputs": [
    {
     "data": {
      "text/plain": [
       "num_orders    0\n",
       "dtype: int64"
      ]
     },
     "execution_count": 22,
     "metadata": {},
     "output_type": "execute_result"
    }
   ],
   "source": [
    "# проверка на пропуски\n",
    "data.isna().sum()"
   ]
  },
  {
   "cell_type": "code",
   "execution_count": 23,
   "metadata": {},
   "outputs": [],
   "source": [
    "# разбиваем данные на трендовую, сезонную и шумовую состовляющие\n",
    "decomposed = seasonal_decompose(data)"
   ]
  },
  {
   "cell_type": "code",
   "execution_count": 24,
   "metadata": {},
   "outputs": [
    {
     "data": {
      "image/png": "[encoded data removed]",
      "text/plain": [
       "<Figure size 720x432 with 1 Axes>"
      ]
     },
     "metadata": {
      "needs_background": "light"
     },
     "output_type": "display_data"
    }
   ],
   "source": [
    "# строим график по трендовой составляющей\n",
    "plotting(decomposed.trend, 'Тренд', 'Дата заказа', 'Количество заказов')"
   ]
  },
  {
   "cell_type": "markdown",
   "metadata": {},
   "source": [
    "Посмотрим на скользящее среднее тренда, чтобы сгладить колебания - размер окна выберем неделю (подобран экспериментально, меньше - колебания сильные, а если окно брать больше, то получается почти прямая линия)."
   ]
  },
  {
   "cell_type": "code",
   "execution_count": 25,
   "metadata": {},
   "outputs": [
    {
     "data": {
      "image/png": "[encoded data removed]",
      "text/plain": [
       "<Figure size 720x432 with 1 Axes>"
      ]
     },
     "metadata": {
      "needs_background": "light"
     },
     "output_type": "display_data"
    }
   ],
   "source": [
    "# строим график скользящее среднее тренда с размером окна - неделя\n",
    "plotting(decomposed.trend.rolling(24*7).mean(), 'Тренд (скользящее среднее)', 'Дата заказа', 'Количество заказов')"
   ]
  },
  {
   "cell_type": "markdown",
   "metadata": {},
   "source": [
    "Видим, что мы имеем положительный тренд - количество заказов растет.\n",
    "\n",
    "Посмотрим на сезонность."
   ]
  },
  {
   "cell_type": "code",
   "execution_count": 26,
   "metadata": {},
   "outputs": [
    {
     "data": {
      "image/png": "[encoded data removed]",
      "text/plain": [
       "<Figure size 720x432 with 1 Axes>"
      ]
     },
     "metadata": {
      "needs_background": "light"
     },
     "output_type": "display_data"
    }
   ],
   "source": [
    "# строим график по сезонной составляющей\n",
    "plotting(decomposed.seasonal, 'Сезонность', 'Дата заказа')"
   ]
  },
  {
   "cell_type": "markdown",
   "metadata": {},
   "source": [
    "По графику трудно что-либо понять, посмотрим на данные за последнюю неделю."
   ]
  },
  {
   "cell_type": "code",
   "execution_count": 27,
   "metadata": {},
   "outputs": [
    {
     "data": {
      "image/png": "[encoded data removed]",
      "text/plain": [
       "<Figure size 720x432 with 1 Axes>"
      ]
     },
     "metadata": {
      "needs_background": "light"
     },
     "output_type": "display_data"
    }
   ],
   "source": [
    "# строим график по сезонной составляющей за последнюю неделю\n",
    "plotting(decomposed.seasonal.tail(24*7), 'Сезонность', 'Дата заказа')"
   ]
  },
  {
   "cell_type": "markdown",
   "metadata": {},
   "source": [
    "Видим, что количество заказов меняется в течение дня и так каждый день. Посмотрим еще подробнее - за сутки."
   ]
  },
  {
   "cell_type": "code",
   "execution_count": 28,
   "metadata": {},
   "outputs": [
    {
     "data": {
      "image/png": "[encoded data removed]",
      "text/plain": [
       "<Figure size 720x432 with 1 Axes>"
      ]
     },
     "metadata": {
      "needs_background": "light"
     },
     "output_type": "display_data"
    }
   ],
   "source": [
    "# строим график по сезонной составляющей за последние сутки\n",
    "plotting(decomposed.seasonal.tail(24), 'Сезонность', 'Дата заказа')"
   ]
  },
  {
   "cell_type": "markdown",
   "metadata": {},
   "source": [
    "Минимальное количество заказов бывает в 6 утра, максимум же достигается в полночь."
   ]
  },
  {
   "cell_type": "code",
   "execution_count": 29,
   "metadata": {},
   "outputs": [
    {
     "data": {
      "image/png": "[encoded data removed]",
      "text/plain": [
       "<Figure size 720x432 with 1 Axes>"
      ]
     },
     "metadata": {
      "needs_background": "light"
     },
     "output_type": "display_data"
    }
   ],
   "source": [
    "# строим график по шумовой составляющей\n",
    "plotting(decomposed.resid, 'Шумы', 'Дата заказа')"
   ]
  },
  {
   "cell_type": "markdown",
   "metadata": {},
   "source": [
    "Шумы никак не объясняются.\n",
    "\n",
    "Обобщим: наблюдается тренд равномерного роста заказов с периодическими небольшими падениями. Присутствует сезонность по дням - спад ночью, рост с утра и днем, пик к вечеру.\n",
    "\n",
    "Так же стоит сказать о стационарсности временного ряда: мы видим, что среднее временного ряда с течением времени увеличивается, так же заметно незначительное увеличение стандартного отклонения. Нестационарные прогнозировать сложнее: их свойства меняются слишком быстро, поэтому чтобы ряд сделать стационарным, необходимо найти разности его значений."
   ]
  },
  {
   "cell_type": "code",
   "execution_count": 30,
   "metadata": {},
   "outputs": [],
   "source": [
    "# сделаем копию датафрейма с помощью метода .copy()\n",
    "data_copy = data.copy()\n",
    "\n",
    "# Из данных за январь-июнь 2018 нужно вычесть результат вызова метода shift().\n",
    "data = data - data_copy.shift()\n",
    "data.dropna(inplace=True)"
   ]
  },
  {
   "cell_type": "markdown",
   "metadata": {},
   "source": [
    "Посмотрим, как изменился временной ряд."
   ]
  },
  {
   "cell_type": "code",
   "execution_count": 31,
   "metadata": {},
   "outputs": [
    {
     "name": "stdout",
     "output_type": "stream",
     "text": [
      "---------------------------------------------\n",
      "Интервал фактических значений для переменной num_orders от -269.0 до 193.0\n",
      "Интервал нормальных значений для переменной num_orders от -89.5 до 90.5\n",
      "Переменная num_orders содержит аномальных значений : 2.79%\n",
      "Переменная num_orders содержит нулевые значения 1.2%\n"
     ]
    },
    {
     "data": {
      "image/png": "[encoded data removed]",
      "text/plain": [
       "<Figure size 720x432 with 1 Axes>"
      ]
     },
     "metadata": {
      "needs_background": "light"
     },
     "output_type": "display_data"
    },
    {
     "data": {
      "image/png": "[encoded data removed]",
      "text/plain": [
       "<Figure size 720x432 with 1 Axes>"
      ]
     },
     "metadata": {
      "needs_background": "light"
     },
     "output_type": "display_data"
    },
    {
     "data": {
      "text/plain": [
       "(-89.5, 90.5)"
      ]
     },
     "execution_count": 31,
     "metadata": {},
     "output_type": "execute_result"
    }
   ],
   "source": [
    "search_outliers(data, 'num_orders', 'Число заказов', 'Дата заказа', 24*7)"
   ]
  },
  {
   "cell_type": "markdown",
   "metadata": {},
   "source": [
    "Теперь временной ряд стал стационарным."
   ]
  },
  {
   "cell_type": "markdown",
   "metadata": {},
   "source": [
    "**Выводы:** в ходе анализа данных было выявлено:\n",
    "1. Наблюдается тренд равномерного роста заказов с периодическими небольшими падениями. \n",
    "2. Присутствует сезонность по дням - спад ночью, рост с утра и днем, пик к вечеру.\n",
    "3. Сезонности в зависимости от дня недели или месяца не наблюдается.\n",
    "4. Для прогнозирование временной ряд был преобразован в более стационарный - была найдена разность его значений."
   ]
  },
  {
   "cell_type": "markdown",
   "metadata": {},
   "source": [
    "## Обучение"
   ]
  },
  {
   "cell_type": "markdown",
   "metadata": {},
   "source": [
    "### Подготова признаков"
   ]
  },
  {
   "cell_type": "markdown",
   "metadata": {},
   "source": [
    "Создадим признаки для одношагового прогноза с горизонтом в один час. Из временных признаков для нас информативными будут - день и час (день недели и месяц, как было выяснено в предыдущем разделе не имеют существенного значения). Максимальный размер отставания (max_lag) будем подбирать эксперементально. Вызовем функцию make_features() с max_lag = 4 и rolling_mean_size = 24."
   ]
  },
  {
   "cell_type": "code",
   "execution_count": 32,
   "metadata": {},
   "outputs": [
    {
     "data": {
      "text/html": [
       "<div>\n",
       "<style scoped>\n",
       "    .dataframe tbody tr th:only-of-type {\n",
       "        vertical-align: middle;\n",
       "    }\n",
       "\n",
       "    .dataframe tbody tr th {\n",
       "        vertical-align: top;\n",
       "    }\n",
       "\n",
       "    .dataframe thead th {\n",
       "        text-align: right;\n",
       "    }\n",
       "</style>\n",
       "<table border=\"1\" class=\"dataframe\">\n",
       "  <thead>\n",
       "    <tr style=\"text-align: right;\">\n",
       "      <th></th>\n",
       "      <th>num_orders</th>\n",
       "      <th>day</th>\n",
       "      <th>hour</th>\n",
       "      <th>lag_1</th>\n",
       "      <th>lag_2</th>\n",
       "      <th>lag_3</th>\n",
       "      <th>lag_4</th>\n",
       "      <th>lag_5</th>\n",
       "      <th>lag_6</th>\n",
       "      <th>lag_7</th>\n",
       "      <th>...</th>\n",
       "      <th>lag_16</th>\n",
       "      <th>lag_17</th>\n",
       "      <th>lag_18</th>\n",
       "      <th>lag_19</th>\n",
       "      <th>lag_20</th>\n",
       "      <th>lag_21</th>\n",
       "      <th>lag_22</th>\n",
       "      <th>lag_23</th>\n",
       "      <th>lag_24</th>\n",
       "      <th>rolling_mean</th>\n",
       "    </tr>\n",
       "    <tr>\n",
       "      <th>datetime</th>\n",
       "      <th></th>\n",
       "      <th></th>\n",
       "      <th></th>\n",
       "      <th></th>\n",
       "      <th></th>\n",
       "      <th></th>\n",
       "      <th></th>\n",
       "      <th></th>\n",
       "      <th></th>\n",
       "      <th></th>\n",
       "      <th></th>\n",
       "      <th></th>\n",
       "      <th></th>\n",
       "      <th></th>\n",
       "      <th></th>\n",
       "      <th></th>\n",
       "      <th></th>\n",
       "      <th></th>\n",
       "      <th></th>\n",
       "      <th></th>\n",
       "      <th></th>\n",
       "    </tr>\n",
       "  </thead>\n",
       "  <tbody>\n",
       "    <tr>\n",
       "      <th>2018-03-02 01:00:00</th>\n",
       "      <td>30.0</td>\n",
       "      <td>2</td>\n",
       "      <td>1</td>\n",
       "      <td>32.0</td>\n",
       "      <td>-55.0</td>\n",
       "      <td>47.0</td>\n",
       "      <td>5.0</td>\n",
       "      <td>16.0</td>\n",
       "      <td>-28.0</td>\n",
       "      <td>29.0</td>\n",
       "      <td>...</td>\n",
       "      <td>35.0</td>\n",
       "      <td>19.0</td>\n",
       "      <td>3.0</td>\n",
       "      <td>6.0</td>\n",
       "      <td>-37.0</td>\n",
       "      <td>-23.0</td>\n",
       "      <td>-5.0</td>\n",
       "      <td>-14.0</td>\n",
       "      <td>-39.0</td>\n",
       "      <td>9.0</td>\n",
       "    </tr>\n",
       "    <tr>\n",
       "      <th>2018-03-02 02:00:00</th>\n",
       "      <td>-45.0</td>\n",
       "      <td>2</td>\n",
       "      <td>2</td>\n",
       "      <td>30.0</td>\n",
       "      <td>32.0</td>\n",
       "      <td>-55.0</td>\n",
       "      <td>47.0</td>\n",
       "      <td>5.0</td>\n",
       "      <td>16.0</td>\n",
       "      <td>-28.0</td>\n",
       "      <td>...</td>\n",
       "      <td>-5.0</td>\n",
       "      <td>35.0</td>\n",
       "      <td>19.0</td>\n",
       "      <td>3.0</td>\n",
       "      <td>6.0</td>\n",
       "      <td>-37.0</td>\n",
       "      <td>-23.0</td>\n",
       "      <td>-5.0</td>\n",
       "      <td>-14.0</td>\n",
       "      <td>11.8</td>\n",
       "    </tr>\n",
       "    <tr>\n",
       "      <th>2018-03-02 03:00:00</th>\n",
       "      <td>-11.0</td>\n",
       "      <td>2</td>\n",
       "      <td>3</td>\n",
       "      <td>-45.0</td>\n",
       "      <td>30.0</td>\n",
       "      <td>32.0</td>\n",
       "      <td>-55.0</td>\n",
       "      <td>47.0</td>\n",
       "      <td>5.0</td>\n",
       "      <td>16.0</td>\n",
       "      <td>...</td>\n",
       "      <td>32.0</td>\n",
       "      <td>-5.0</td>\n",
       "      <td>35.0</td>\n",
       "      <td>19.0</td>\n",
       "      <td>3.0</td>\n",
       "      <td>6.0</td>\n",
       "      <td>-37.0</td>\n",
       "      <td>-23.0</td>\n",
       "      <td>-5.0</td>\n",
       "      <td>1.8</td>\n",
       "    </tr>\n",
       "    <tr>\n",
       "      <th>2018-03-02 04:00:00</th>\n",
       "      <td>-44.0</td>\n",
       "      <td>2</td>\n",
       "      <td>4</td>\n",
       "      <td>-11.0</td>\n",
       "      <td>-45.0</td>\n",
       "      <td>30.0</td>\n",
       "      <td>32.0</td>\n",
       "      <td>-55.0</td>\n",
       "      <td>47.0</td>\n",
       "      <td>5.0</td>\n",
       "      <td>...</td>\n",
       "      <td>-66.0</td>\n",
       "      <td>32.0</td>\n",
       "      <td>-5.0</td>\n",
       "      <td>35.0</td>\n",
       "      <td>19.0</td>\n",
       "      <td>3.0</td>\n",
       "      <td>6.0</td>\n",
       "      <td>-37.0</td>\n",
       "      <td>-23.0</td>\n",
       "      <td>-9.8</td>\n",
       "    </tr>\n",
       "    <tr>\n",
       "      <th>2018-03-02 05:00:00</th>\n",
       "      <td>-9.0</td>\n",
       "      <td>2</td>\n",
       "      <td>5</td>\n",
       "      <td>-44.0</td>\n",
       "      <td>-11.0</td>\n",
       "      <td>-45.0</td>\n",
       "      <td>30.0</td>\n",
       "      <td>32.0</td>\n",
       "      <td>-55.0</td>\n",
       "      <td>47.0</td>\n",
       "      <td>...</td>\n",
       "      <td>2.0</td>\n",
       "      <td>-66.0</td>\n",
       "      <td>32.0</td>\n",
       "      <td>-5.0</td>\n",
       "      <td>35.0</td>\n",
       "      <td>19.0</td>\n",
       "      <td>3.0</td>\n",
       "      <td>6.0</td>\n",
       "      <td>-37.0</td>\n",
       "      <td>-7.6</td>\n",
       "    </tr>\n",
       "    <tr>\n",
       "      <th>...</th>\n",
       "      <td>...</td>\n",
       "      <td>...</td>\n",
       "      <td>...</td>\n",
       "      <td>...</td>\n",
       "      <td>...</td>\n",
       "      <td>...</td>\n",
       "      <td>...</td>\n",
       "      <td>...</td>\n",
       "      <td>...</td>\n",
       "      <td>...</td>\n",
       "      <td>...</td>\n",
       "      <td>...</td>\n",
       "      <td>...</td>\n",
       "      <td>...</td>\n",
       "      <td>...</td>\n",
       "      <td>...</td>\n",
       "      <td>...</td>\n",
       "      <td>...</td>\n",
       "      <td>...</td>\n",
       "      <td>...</td>\n",
       "      <td>...</td>\n",
       "    </tr>\n",
       "    <tr>\n",
       "      <th>2018-08-31 19:00:00</th>\n",
       "      <td>-71.0</td>\n",
       "      <td>31</td>\n",
       "      <td>19</td>\n",
       "      <td>-10.0</td>\n",
       "      <td>20.0</td>\n",
       "      <td>81.0</td>\n",
       "      <td>-17.0</td>\n",
       "      <td>-33.0</td>\n",
       "      <td>30.0</td>\n",
       "      <td>-31.0</td>\n",
       "      <td>...</td>\n",
       "      <td>-131.0</td>\n",
       "      <td>36.0</td>\n",
       "      <td>-82.0</td>\n",
       "      <td>30.0</td>\n",
       "      <td>88.0</td>\n",
       "      <td>-40.0</td>\n",
       "      <td>56.0</td>\n",
       "      <td>70.0</td>\n",
       "      <td>-105.0</td>\n",
       "      <td>8.2</td>\n",
       "    </tr>\n",
       "    <tr>\n",
       "      <th>2018-08-31 20:00:00</th>\n",
       "      <td>18.0</td>\n",
       "      <td>31</td>\n",
       "      <td>20</td>\n",
       "      <td>-71.0</td>\n",
       "      <td>-10.0</td>\n",
       "      <td>20.0</td>\n",
       "      <td>81.0</td>\n",
       "      <td>-17.0</td>\n",
       "      <td>-33.0</td>\n",
       "      <td>30.0</td>\n",
       "      <td>...</td>\n",
       "      <td>169.0</td>\n",
       "      <td>-131.0</td>\n",
       "      <td>36.0</td>\n",
       "      <td>-82.0</td>\n",
       "      <td>30.0</td>\n",
       "      <td>88.0</td>\n",
       "      <td>-40.0</td>\n",
       "      <td>56.0</td>\n",
       "      <td>70.0</td>\n",
       "      <td>0.6</td>\n",
       "    </tr>\n",
       "    <tr>\n",
       "      <th>2018-08-31 21:00:00</th>\n",
       "      <td>5.0</td>\n",
       "      <td>31</td>\n",
       "      <td>21</td>\n",
       "      <td>18.0</td>\n",
       "      <td>-71.0</td>\n",
       "      <td>-10.0</td>\n",
       "      <td>20.0</td>\n",
       "      <td>81.0</td>\n",
       "      <td>-17.0</td>\n",
       "      <td>-33.0</td>\n",
       "      <td>...</td>\n",
       "      <td>-190.0</td>\n",
       "      <td>169.0</td>\n",
       "      <td>-131.0</td>\n",
       "      <td>36.0</td>\n",
       "      <td>-82.0</td>\n",
       "      <td>30.0</td>\n",
       "      <td>88.0</td>\n",
       "      <td>-40.0</td>\n",
       "      <td>56.0</td>\n",
       "      <td>7.6</td>\n",
       "    </tr>\n",
       "    <tr>\n",
       "      <th>2018-08-31 22:00:00</th>\n",
       "      <td>64.0</td>\n",
       "      <td>31</td>\n",
       "      <td>22</td>\n",
       "      <td>5.0</td>\n",
       "      <td>18.0</td>\n",
       "      <td>-71.0</td>\n",
       "      <td>-10.0</td>\n",
       "      <td>20.0</td>\n",
       "      <td>81.0</td>\n",
       "      <td>-17.0</td>\n",
       "      <td>...</td>\n",
       "      <td>-43.0</td>\n",
       "      <td>-190.0</td>\n",
       "      <td>169.0</td>\n",
       "      <td>-131.0</td>\n",
       "      <td>36.0</td>\n",
       "      <td>-82.0</td>\n",
       "      <td>30.0</td>\n",
       "      <td>88.0</td>\n",
       "      <td>-40.0</td>\n",
       "      <td>-7.6</td>\n",
       "    </tr>\n",
       "    <tr>\n",
       "      <th>2018-08-31 23:00:00</th>\n",
       "      <td>-18.0</td>\n",
       "      <td>31</td>\n",
       "      <td>23</td>\n",
       "      <td>64.0</td>\n",
       "      <td>5.0</td>\n",
       "      <td>18.0</td>\n",
       "      <td>-71.0</td>\n",
       "      <td>-10.0</td>\n",
       "      <td>20.0</td>\n",
       "      <td>81.0</td>\n",
       "      <td>...</td>\n",
       "      <td>11.0</td>\n",
       "      <td>-43.0</td>\n",
       "      <td>-190.0</td>\n",
       "      <td>169.0</td>\n",
       "      <td>-131.0</td>\n",
       "      <td>36.0</td>\n",
       "      <td>-82.0</td>\n",
       "      <td>30.0</td>\n",
       "      <td>88.0</td>\n",
       "      <td>1.2</td>\n",
       "    </tr>\n",
       "  </tbody>\n",
       "</table>\n",
       "<p>4391 rows × 28 columns</p>\n",
       "</div>"
      ],
      "text/plain": [
       "                     num_orders  day  hour  lag_1  lag_2  lag_3  lag_4  lag_5  \\\n",
       "datetime                                                                        \n",
       "2018-03-02 01:00:00        30.0    2     1   32.0  -55.0   47.0    5.0   16.0   \n",
       "2018-03-02 02:00:00       -45.0    2     2   30.0   32.0  -55.0   47.0    5.0   \n",
       "2018-03-02 03:00:00       -11.0    2     3  -45.0   30.0   32.0  -55.0   47.0   \n",
       "2018-03-02 04:00:00       -44.0    2     4  -11.0  -45.0   30.0   32.0  -55.0   \n",
       "2018-03-02 05:00:00        -9.0    2     5  -44.0  -11.0  -45.0   30.0   32.0   \n",
       "...                         ...  ...   ...    ...    ...    ...    ...    ...   \n",
       "2018-08-31 19:00:00       -71.0   31    19  -10.0   20.0   81.0  -17.0  -33.0   \n",
       "2018-08-31 20:00:00        18.0   31    20  -71.0  -10.0   20.0   81.0  -17.0   \n",
       "2018-08-31 21:00:00         5.0   31    21   18.0  -71.0  -10.0   20.0   81.0   \n",
       "2018-08-31 22:00:00        64.0   31    22    5.0   18.0  -71.0  -10.0   20.0   \n",
       "2018-08-31 23:00:00       -18.0   31    23   64.0    5.0   18.0  -71.0  -10.0   \n",
       "\n",
       "                     lag_6  lag_7  ...  lag_16  lag_17  lag_18  lag_19  \\\n",
       "datetime                           ...                                   \n",
       "2018-03-02 01:00:00  -28.0   29.0  ...    35.0    19.0     3.0     6.0   \n",
       "2018-03-02 02:00:00   16.0  -28.0  ...    -5.0    35.0    19.0     3.0   \n",
       "2018-03-02 03:00:00    5.0   16.0  ...    32.0    -5.0    35.0    19.0   \n",
       "2018-03-02 04:00:00   47.0    5.0  ...   -66.0    32.0    -5.0    35.0   \n",
       "2018-03-02 05:00:00  -55.0   47.0  ...     2.0   -66.0    32.0    -5.0   \n",
       "...                    ...    ...  ...     ...     ...     ...     ...   \n",
       "2018-08-31 19:00:00   30.0  -31.0  ...  -131.0    36.0   -82.0    30.0   \n",
       "2018-08-31 20:00:00  -33.0   30.0  ...   169.0  -131.0    36.0   -82.0   \n",
       "2018-08-31 21:00:00  -17.0  -33.0  ...  -190.0   169.0  -131.0    36.0   \n",
       "2018-08-31 22:00:00   81.0  -17.0  ...   -43.0  -190.0   169.0  -131.0   \n",
       "2018-08-31 23:00:00   20.0   81.0  ...    11.0   -43.0  -190.0   169.0   \n",
       "\n",
       "                     lag_20  lag_21  lag_22  lag_23  lag_24  rolling_mean  \n",
       "datetime                                                                   \n",
       "2018-03-02 01:00:00   -37.0   -23.0    -5.0   -14.0   -39.0           9.0  \n",
       "2018-03-02 02:00:00     6.0   -37.0   -23.0    -5.0   -14.0          11.8  \n",
       "2018-03-02 03:00:00     3.0     6.0   -37.0   -23.0    -5.0           1.8  \n",
       "2018-03-02 04:00:00    19.0     3.0     6.0   -37.0   -23.0          -9.8  \n",
       "2018-03-02 05:00:00    35.0    19.0     3.0     6.0   -37.0          -7.6  \n",
       "...                     ...     ...     ...     ...     ...           ...  \n",
       "2018-08-31 19:00:00    88.0   -40.0    56.0    70.0  -105.0           8.2  \n",
       "2018-08-31 20:00:00    30.0    88.0   -40.0    56.0    70.0           0.6  \n",
       "2018-08-31 21:00:00   -82.0    30.0    88.0   -40.0    56.0           7.6  \n",
       "2018-08-31 22:00:00    36.0   -82.0    30.0    88.0   -40.0          -7.6  \n",
       "2018-08-31 23:00:00  -131.0    36.0   -82.0    30.0    88.0           1.2  \n",
       "\n",
       "[4391 rows x 28 columns]"
      ]
     },
     "execution_count": 32,
     "metadata": {},
     "output_type": "execute_result"
    }
   ],
   "source": [
    "#make_features(data, 'num_orders', 6, 5)\n",
    "data_new_features = make_features(data, 'num_orders', 24, 5)\n",
    "data_new_features"
   ]
  },
  {
   "cell_type": "markdown",
   "metadata": {},
   "source": [
    "Проверим корректность создания новых признаков - посмотрим размерность датасета."
   ]
  },
  {
   "cell_type": "code",
   "execution_count": 33,
   "metadata": {},
   "outputs": [
    {
     "data": {
      "text/plain": [
       "(4391, 28)"
      ]
     },
     "execution_count": 33,
     "metadata": {},
     "output_type": "execute_result"
    }
   ],
   "source": [
    "data_new_features.shape"
   ]
  },
  {
   "cell_type": "markdown",
   "metadata": {},
   "source": [
    "Посмотрим характеристики новых созданных признаков."
   ]
  },
  {
   "cell_type": "code",
   "execution_count": 34,
   "metadata": {},
   "outputs": [
    {
     "name": "stdout",
     "output_type": "stream",
     "text": [
      "<class 'pandas.core.frame.DataFrame'>\n",
      "DatetimeIndex: 4391 entries, 2018-03-02 01:00:00 to 2018-08-31 23:00:00\n",
      "Freq: H\n",
      "Data columns (total 28 columns):\n",
      " #   Column        Non-Null Count  Dtype  \n",
      "---  ------        --------------  -----  \n",
      " 0   num_orders    4391 non-null   float64\n",
      " 1   day           4391 non-null   int64  \n",
      " 2   hour          4391 non-null   int64  \n",
      " 3   lag_1         4391 non-null   float64\n",
      " 4   lag_2         4391 non-null   float64\n",
      " 5   lag_3         4391 non-null   float64\n",
      " 6   lag_4         4391 non-null   float64\n",
      " 7   lag_5         4391 non-null   float64\n",
      " 8   lag_6         4391 non-null   float64\n",
      " 9   lag_7         4391 non-null   float64\n",
      " 10  lag_8         4391 non-null   float64\n",
      " 11  lag_9         4391 non-null   float64\n",
      " 12  lag_10        4391 non-null   float64\n",
      " 13  lag_11        4391 non-null   float64\n",
      " 14  lag_12        4391 non-null   float64\n",
      " 15  lag_13        4391 non-null   float64\n",
      " 16  lag_14        4391 non-null   float64\n",
      " 17  lag_15        4391 non-null   float64\n",
      " 18  lag_16        4391 non-null   float64\n",
      " 19  lag_17        4391 non-null   float64\n",
      " 20  lag_18        4391 non-null   float64\n",
      " 21  lag_19        4391 non-null   float64\n",
      " 22  lag_20        4391 non-null   float64\n",
      " 23  lag_21        4391 non-null   float64\n",
      " 24  lag_22        4391 non-null   float64\n",
      " 25  lag_23        4391 non-null   float64\n",
      " 26  lag_24        4391 non-null   float64\n",
      " 27  rolling_mean  4391 non-null   float64\n",
      "dtypes: float64(26), int64(2)\n",
      "memory usage: 994.8 KB\n"
     ]
    }
   ],
   "source": [
    "data_new_features.info()"
   ]
  },
  {
   "cell_type": "code",
   "execution_count": 35,
   "metadata": {},
   "outputs": [
    {
     "data": {
      "text/html": [
       "<div>\n",
       "<style scoped>\n",
       "    .dataframe tbody tr th:only-of-type {\n",
       "        vertical-align: middle;\n",
       "    }\n",
       "\n",
       "    .dataframe tbody tr th {\n",
       "        vertical-align: top;\n",
       "    }\n",
       "\n",
       "    .dataframe thead th {\n",
       "        text-align: right;\n",
       "    }\n",
       "</style>\n",
       "<table border=\"1\" class=\"dataframe\">\n",
       "  <thead>\n",
       "    <tr style=\"text-align: right;\">\n",
       "      <th></th>\n",
       "      <th>num_orders</th>\n",
       "      <th>day</th>\n",
       "      <th>hour</th>\n",
       "      <th>lag_1</th>\n",
       "      <th>lag_2</th>\n",
       "      <th>lag_3</th>\n",
       "      <th>lag_4</th>\n",
       "      <th>lag_5</th>\n",
       "      <th>lag_6</th>\n",
       "      <th>lag_7</th>\n",
       "      <th>...</th>\n",
       "      <th>lag_16</th>\n",
       "      <th>lag_17</th>\n",
       "      <th>lag_18</th>\n",
       "      <th>lag_19</th>\n",
       "      <th>lag_20</th>\n",
       "      <th>lag_21</th>\n",
       "      <th>lag_22</th>\n",
       "      <th>lag_23</th>\n",
       "      <th>lag_24</th>\n",
       "      <th>rolling_mean</th>\n",
       "    </tr>\n",
       "  </thead>\n",
       "  <tbody>\n",
       "    <tr>\n",
       "      <th>count</th>\n",
       "      <td>4391.000000</td>\n",
       "      <td>4391.000000</td>\n",
       "      <td>4391.000000</td>\n",
       "      <td>4391.000000</td>\n",
       "      <td>4391.000000</td>\n",
       "      <td>4391.000000</td>\n",
       "      <td>4391.000000</td>\n",
       "      <td>4391.000000</td>\n",
       "      <td>4391.000000</td>\n",
       "      <td>4391.000000</td>\n",
       "      <td>...</td>\n",
       "      <td>4391.000000</td>\n",
       "      <td>4391.000000</td>\n",
       "      <td>4391.000000</td>\n",
       "      <td>4391.000000</td>\n",
       "      <td>4391.000000</td>\n",
       "      <td>4391.000000</td>\n",
       "      <td>4391.000000</td>\n",
       "      <td>4391.000000</td>\n",
       "      <td>4391.000000</td>\n",
       "      <td>4391.000000</td>\n",
       "    </tr>\n",
       "    <tr>\n",
       "      <th>mean</th>\n",
       "      <td>0.026190</td>\n",
       "      <td>15.921202</td>\n",
       "      <td>11.502619</td>\n",
       "      <td>0.037577</td>\n",
       "      <td>0.010476</td>\n",
       "      <td>0.020041</td>\n",
       "      <td>0.017080</td>\n",
       "      <td>0.036894</td>\n",
       "      <td>0.032794</td>\n",
       "      <td>0.034844</td>\n",
       "      <td>...</td>\n",
       "      <td>0.002733</td>\n",
       "      <td>0.004555</td>\n",
       "      <td>0.015031</td>\n",
       "      <td>0.059668</td>\n",
       "      <td>0.012753</td>\n",
       "      <td>0.037349</td>\n",
       "      <td>0.028012</td>\n",
       "      <td>0.043498</td>\n",
       "      <td>0.027784</td>\n",
       "      <td>0.024414</td>\n",
       "    </tr>\n",
       "    <tr>\n",
       "      <th>std</th>\n",
       "      <td>39.071834</td>\n",
       "      <td>8.809509</td>\n",
       "      <td>6.921587</td>\n",
       "      <td>39.073865</td>\n",
       "      <td>39.070760</td>\n",
       "      <td>39.077122</td>\n",
       "      <td>39.076252</td>\n",
       "      <td>39.062289</td>\n",
       "      <td>39.064287</td>\n",
       "      <td>39.065571</td>\n",
       "      <td>...</td>\n",
       "      <td>39.002231</td>\n",
       "      <td>39.002932</td>\n",
       "      <td>38.997556</td>\n",
       "      <td>38.892043</td>\n",
       "      <td>38.812373</td>\n",
       "      <td>38.763520</td>\n",
       "      <td>38.759793</td>\n",
       "      <td>38.740591</td>\n",
       "      <td>38.742431</td>\n",
       "      <td>11.168462</td>\n",
       "    </tr>\n",
       "    <tr>\n",
       "      <th>min</th>\n",
       "      <td>-269.000000</td>\n",
       "      <td>1.000000</td>\n",
       "      <td>0.000000</td>\n",
       "      <td>-269.000000</td>\n",
       "      <td>-269.000000</td>\n",
       "      <td>-269.000000</td>\n",
       "      <td>-269.000000</td>\n",
       "      <td>-269.000000</td>\n",
       "      <td>-269.000000</td>\n",
       "      <td>-269.000000</td>\n",
       "      <td>...</td>\n",
       "      <td>-269.000000</td>\n",
       "      <td>-269.000000</td>\n",
       "      <td>-269.000000</td>\n",
       "      <td>-269.000000</td>\n",
       "      <td>-269.000000</td>\n",
       "      <td>-269.000000</td>\n",
       "      <td>-269.000000</td>\n",
       "      <td>-269.000000</td>\n",
       "      <td>-269.000000</td>\n",
       "      <td>-83.600000</td>\n",
       "    </tr>\n",
       "    <tr>\n",
       "      <th>25%</th>\n",
       "      <td>-22.000000</td>\n",
       "      <td>8.000000</td>\n",
       "      <td>6.000000</td>\n",
       "      <td>-22.000000</td>\n",
       "      <td>-22.000000</td>\n",
       "      <td>-22.000000</td>\n",
       "      <td>-22.000000</td>\n",
       "      <td>-22.000000</td>\n",
       "      <td>-22.000000</td>\n",
       "      <td>-22.000000</td>\n",
       "      <td>...</td>\n",
       "      <td>-22.000000</td>\n",
       "      <td>-22.000000</td>\n",
       "      <td>-22.000000</td>\n",
       "      <td>-22.000000</td>\n",
       "      <td>-22.000000</td>\n",
       "      <td>-22.000000</td>\n",
       "      <td>-22.000000</td>\n",
       "      <td>-22.000000</td>\n",
       "      <td>-22.000000</td>\n",
       "      <td>-5.800000</td>\n",
       "    </tr>\n",
       "    <tr>\n",
       "      <th>50%</th>\n",
       "      <td>1.000000</td>\n",
       "      <td>16.000000</td>\n",
       "      <td>12.000000</td>\n",
       "      <td>1.000000</td>\n",
       "      <td>1.000000</td>\n",
       "      <td>1.000000</td>\n",
       "      <td>1.000000</td>\n",
       "      <td>1.000000</td>\n",
       "      <td>1.000000</td>\n",
       "      <td>1.000000</td>\n",
       "      <td>...</td>\n",
       "      <td>1.000000</td>\n",
       "      <td>1.000000</td>\n",
       "      <td>1.000000</td>\n",
       "      <td>1.000000</td>\n",
       "      <td>1.000000</td>\n",
       "      <td>1.000000</td>\n",
       "      <td>1.000000</td>\n",
       "      <td>1.000000</td>\n",
       "      <td>1.000000</td>\n",
       "      <td>0.600000</td>\n",
       "    </tr>\n",
       "    <tr>\n",
       "      <th>75%</th>\n",
       "      <td>23.000000</td>\n",
       "      <td>24.000000</td>\n",
       "      <td>17.500000</td>\n",
       "      <td>23.000000</td>\n",
       "      <td>23.000000</td>\n",
       "      <td>23.000000</td>\n",
       "      <td>23.000000</td>\n",
       "      <td>23.000000</td>\n",
       "      <td>23.000000</td>\n",
       "      <td>23.000000</td>\n",
       "      <td>...</td>\n",
       "      <td>23.000000</td>\n",
       "      <td>23.000000</td>\n",
       "      <td>23.000000</td>\n",
       "      <td>23.000000</td>\n",
       "      <td>23.000000</td>\n",
       "      <td>23.000000</td>\n",
       "      <td>23.000000</td>\n",
       "      <td>23.000000</td>\n",
       "      <td>23.000000</td>\n",
       "      <td>6.600000</td>\n",
       "    </tr>\n",
       "    <tr>\n",
       "      <th>max</th>\n",
       "      <td>193.000000</td>\n",
       "      <td>31.000000</td>\n",
       "      <td>23.000000</td>\n",
       "      <td>193.000000</td>\n",
       "      <td>193.000000</td>\n",
       "      <td>193.000000</td>\n",
       "      <td>193.000000</td>\n",
       "      <td>193.000000</td>\n",
       "      <td>193.000000</td>\n",
       "      <td>193.000000</td>\n",
       "      <td>...</td>\n",
       "      <td>193.000000</td>\n",
       "      <td>193.000000</td>\n",
       "      <td>193.000000</td>\n",
       "      <td>193.000000</td>\n",
       "      <td>193.000000</td>\n",
       "      <td>193.000000</td>\n",
       "      <td>193.000000</td>\n",
       "      <td>193.000000</td>\n",
       "      <td>193.000000</td>\n",
       "      <td>73.800000</td>\n",
       "    </tr>\n",
       "  </tbody>\n",
       "</table>\n",
       "<p>8 rows × 28 columns</p>\n",
       "</div>"
      ],
      "text/plain": [
       "        num_orders          day         hour        lag_1        lag_2  \\\n",
       "count  4391.000000  4391.000000  4391.000000  4391.000000  4391.000000   \n",
       "mean      0.026190    15.921202    11.502619     0.037577     0.010476   \n",
       "std      39.071834     8.809509     6.921587    39.073865    39.070760   \n",
       "min    -269.000000     1.000000     0.000000  -269.000000  -269.000000   \n",
       "25%     -22.000000     8.000000     6.000000   -22.000000   -22.000000   \n",
       "50%       1.000000    16.000000    12.000000     1.000000     1.000000   \n",
       "75%      23.000000    24.000000    17.500000    23.000000    23.000000   \n",
       "max     193.000000    31.000000    23.000000   193.000000   193.000000   \n",
       "\n",
       "             lag_3        lag_4        lag_5        lag_6        lag_7  ...  \\\n",
       "count  4391.000000  4391.000000  4391.000000  4391.000000  4391.000000  ...   \n",
       "mean      0.020041     0.017080     0.036894     0.032794     0.034844  ...   \n",
       "std      39.077122    39.076252    39.062289    39.064287    39.065571  ...   \n",
       "min    -269.000000  -269.000000  -269.000000  -269.000000  -269.000000  ...   \n",
       "25%     -22.000000   -22.000000   -22.000000   -22.000000   -22.000000  ...   \n",
       "50%       1.000000     1.000000     1.000000     1.000000     1.000000  ...   \n",
       "75%      23.000000    23.000000    23.000000    23.000000    23.000000  ...   \n",
       "max     193.000000   193.000000   193.000000   193.000000   193.000000  ...   \n",
       "\n",
       "            lag_16       lag_17       lag_18       lag_19       lag_20  \\\n",
       "count  4391.000000  4391.000000  4391.000000  4391.000000  4391.000000   \n",
       "mean      0.002733     0.004555     0.015031     0.059668     0.012753   \n",
       "std      39.002231    39.002932    38.997556    38.892043    38.812373   \n",
       "min    -269.000000  -269.000000  -269.000000  -269.000000  -269.000000   \n",
       "25%     -22.000000   -22.000000   -22.000000   -22.000000   -22.000000   \n",
       "50%       1.000000     1.000000     1.000000     1.000000     1.000000   \n",
       "75%      23.000000    23.000000    23.000000    23.000000    23.000000   \n",
       "max     193.000000   193.000000   193.000000   193.000000   193.000000   \n",
       "\n",
       "            lag_21       lag_22       lag_23       lag_24  rolling_mean  \n",
       "count  4391.000000  4391.000000  4391.000000  4391.000000   4391.000000  \n",
       "mean      0.037349     0.028012     0.043498     0.027784      0.024414  \n",
       "std      38.763520    38.759793    38.740591    38.742431     11.168462  \n",
       "min    -269.000000  -269.000000  -269.000000  -269.000000    -83.600000  \n",
       "25%     -22.000000   -22.000000   -22.000000   -22.000000     -5.800000  \n",
       "50%       1.000000     1.000000     1.000000     1.000000      0.600000  \n",
       "75%      23.000000    23.000000    23.000000    23.000000      6.600000  \n",
       "max     193.000000   193.000000   193.000000   193.000000     73.800000  \n",
       "\n",
       "[8 rows x 28 columns]"
      ]
     },
     "execution_count": 35,
     "metadata": {},
     "output_type": "execute_result"
    }
   ],
   "source": [
    "data_new_features.describe()"
   ]
  },
  {
   "cell_type": "code",
   "execution_count": 36,
   "metadata": {},
   "outputs": [
    {
     "data": {
      "text/html": [
       "<div>\n",
       "<style scoped>\n",
       "    .dataframe tbody tr th:only-of-type {\n",
       "        vertical-align: middle;\n",
       "    }\n",
       "\n",
       "    .dataframe tbody tr th {\n",
       "        vertical-align: top;\n",
       "    }\n",
       "\n",
       "    .dataframe thead th {\n",
       "        text-align: right;\n",
       "    }\n",
       "</style>\n",
       "<table border=\"1\" class=\"dataframe\">\n",
       "  <thead>\n",
       "    <tr style=\"text-align: right;\">\n",
       "      <th></th>\n",
       "      <th>name</th>\n",
       "      <th>object</th>\n",
       "      <th>na</th>\n",
       "      <th>zero</th>\n",
       "      <th>rate</th>\n",
       "      <th>unique</th>\n",
       "      <th>neg</th>\n",
       "      <th>mean</th>\n",
       "      <th>moda</th>\n",
       "      <th>std</th>\n",
       "      <th>min</th>\n",
       "      <th>max</th>\n",
       "      <th>out left</th>\n",
       "      <th>out rigth</th>\n",
       "      <th>25%</th>\n",
       "      <th>50%</th>\n",
       "      <th>75%</th>\n",
       "    </tr>\n",
       "  </thead>\n",
       "  <tbody>\n",
       "    <tr>\n",
       "      <th>0</th>\n",
       "      <td>num_orders</td>\n",
       "      <td>float64</td>\n",
       "      <td>0</td>\n",
       "      <td>53</td>\n",
       "      <td>0.012070</td>\n",
       "      <td>258</td>\n",
       "      <td>2111</td>\n",
       "      <td>0.026190</td>\n",
       "      <td>2.0</td>\n",
       "      <td>39.071834</td>\n",
       "      <td>-269.0</td>\n",
       "      <td>193.0</td>\n",
       "      <td>110</td>\n",
       "      <td>110</td>\n",
       "      <td>-22.0</td>\n",
       "      <td>1.0</td>\n",
       "      <td>23.0</td>\n",
       "    </tr>\n",
       "    <tr>\n",
       "      <th>1</th>\n",
       "      <td>day</td>\n",
       "      <td>int64</td>\n",
       "      <td>0</td>\n",
       "      <td>0</td>\n",
       "      <td>0.000000</td>\n",
       "      <td>31</td>\n",
       "      <td>0</td>\n",
       "      <td>15.921202</td>\n",
       "      <td>3.0</td>\n",
       "      <td>8.809509</td>\n",
       "      <td>1.0</td>\n",
       "      <td>31.0</td>\n",
       "      <td>0</td>\n",
       "      <td>96</td>\n",
       "      <td>8.0</td>\n",
       "      <td>16.0</td>\n",
       "      <td>24.0</td>\n",
       "    </tr>\n",
       "    <tr>\n",
       "      <th>2</th>\n",
       "      <td>hour</td>\n",
       "      <td>int64</td>\n",
       "      <td>0</td>\n",
       "      <td>182</td>\n",
       "      <td>0.041448</td>\n",
       "      <td>24</td>\n",
       "      <td>0</td>\n",
       "      <td>11.502619</td>\n",
       "      <td>1.0</td>\n",
       "      <td>6.921587</td>\n",
       "      <td>0.0</td>\n",
       "      <td>23.0</td>\n",
       "      <td>0</td>\n",
       "      <td>0</td>\n",
       "      <td>6.0</td>\n",
       "      <td>12.0</td>\n",
       "      <td>17.5</td>\n",
       "    </tr>\n",
       "    <tr>\n",
       "      <th>3</th>\n",
       "      <td>lag_1</td>\n",
       "      <td>float64</td>\n",
       "      <td>0</td>\n",
       "      <td>53</td>\n",
       "      <td>0.012070</td>\n",
       "      <td>258</td>\n",
       "      <td>2110</td>\n",
       "      <td>0.037577</td>\n",
       "      <td>2.0</td>\n",
       "      <td>39.073865</td>\n",
       "      <td>-269.0</td>\n",
       "      <td>193.0</td>\n",
       "      <td>110</td>\n",
       "      <td>110</td>\n",
       "      <td>-22.0</td>\n",
       "      <td>1.0</td>\n",
       "      <td>23.0</td>\n",
       "    </tr>\n",
       "    <tr>\n",
       "      <th>4</th>\n",
       "      <td>lag_2</td>\n",
       "      <td>float64</td>\n",
       "      <td>0</td>\n",
       "      <td>53</td>\n",
       "      <td>0.012070</td>\n",
       "      <td>258</td>\n",
       "      <td>2111</td>\n",
       "      <td>0.010476</td>\n",
       "      <td>2.0</td>\n",
       "      <td>39.070760</td>\n",
       "      <td>-269.0</td>\n",
       "      <td>193.0</td>\n",
       "      <td>110</td>\n",
       "      <td>110</td>\n",
       "      <td>-22.0</td>\n",
       "      <td>1.0</td>\n",
       "      <td>23.0</td>\n",
       "    </tr>\n",
       "    <tr>\n",
       "      <th>5</th>\n",
       "      <td>lag_3</td>\n",
       "      <td>float64</td>\n",
       "      <td>0</td>\n",
       "      <td>53</td>\n",
       "      <td>0.012070</td>\n",
       "      <td>258</td>\n",
       "      <td>2111</td>\n",
       "      <td>0.020041</td>\n",
       "      <td>2.0</td>\n",
       "      <td>39.077122</td>\n",
       "      <td>-269.0</td>\n",
       "      <td>193.0</td>\n",
       "      <td>110</td>\n",
       "      <td>110</td>\n",
       "      <td>-22.0</td>\n",
       "      <td>1.0</td>\n",
       "      <td>23.0</td>\n",
       "    </tr>\n",
       "    <tr>\n",
       "      <th>6</th>\n",
       "      <td>lag_4</td>\n",
       "      <td>float64</td>\n",
       "      <td>0</td>\n",
       "      <td>53</td>\n",
       "      <td>0.012070</td>\n",
       "      <td>258</td>\n",
       "      <td>2111</td>\n",
       "      <td>0.017080</td>\n",
       "      <td>2.0</td>\n",
       "      <td>39.076252</td>\n",
       "      <td>-269.0</td>\n",
       "      <td>193.0</td>\n",
       "      <td>110</td>\n",
       "      <td>110</td>\n",
       "      <td>-22.0</td>\n",
       "      <td>1.0</td>\n",
       "      <td>23.0</td>\n",
       "    </tr>\n",
       "    <tr>\n",
       "      <th>7</th>\n",
       "      <td>lag_5</td>\n",
       "      <td>float64</td>\n",
       "      <td>0</td>\n",
       "      <td>53</td>\n",
       "      <td>0.012070</td>\n",
       "      <td>258</td>\n",
       "      <td>2110</td>\n",
       "      <td>0.036894</td>\n",
       "      <td>2.0</td>\n",
       "      <td>39.062289</td>\n",
       "      <td>-269.0</td>\n",
       "      <td>193.0</td>\n",
       "      <td>110</td>\n",
       "      <td>110</td>\n",
       "      <td>-22.0</td>\n",
       "      <td>1.0</td>\n",
       "      <td>23.0</td>\n",
       "    </tr>\n",
       "    <tr>\n",
       "      <th>8</th>\n",
       "      <td>lag_6</td>\n",
       "      <td>float64</td>\n",
       "      <td>0</td>\n",
       "      <td>53</td>\n",
       "      <td>0.012070</td>\n",
       "      <td>258</td>\n",
       "      <td>2110</td>\n",
       "      <td>0.032794</td>\n",
       "      <td>2.0</td>\n",
       "      <td>39.064287</td>\n",
       "      <td>-269.0</td>\n",
       "      <td>193.0</td>\n",
       "      <td>110</td>\n",
       "      <td>110</td>\n",
       "      <td>-22.0</td>\n",
       "      <td>1.0</td>\n",
       "      <td>23.0</td>\n",
       "    </tr>\n",
       "    <tr>\n",
       "      <th>9</th>\n",
       "      <td>lag_7</td>\n",
       "      <td>float64</td>\n",
       "      <td>0</td>\n",
       "      <td>53</td>\n",
       "      <td>0.012070</td>\n",
       "      <td>258</td>\n",
       "      <td>2110</td>\n",
       "      <td>0.034844</td>\n",
       "      <td>2.0</td>\n",
       "      <td>39.065571</td>\n",
       "      <td>-269.0</td>\n",
       "      <td>193.0</td>\n",
       "      <td>110</td>\n",
       "      <td>110</td>\n",
       "      <td>-22.0</td>\n",
       "      <td>1.0</td>\n",
       "      <td>23.0</td>\n",
       "    </tr>\n",
       "    <tr>\n",
       "      <th>10</th>\n",
       "      <td>lag_8</td>\n",
       "      <td>float64</td>\n",
       "      <td>0</td>\n",
       "      <td>53</td>\n",
       "      <td>0.012070</td>\n",
       "      <td>258</td>\n",
       "      <td>2110</td>\n",
       "      <td>0.016625</td>\n",
       "      <td>2.0</td>\n",
       "      <td>39.046453</td>\n",
       "      <td>-269.0</td>\n",
       "      <td>193.0</td>\n",
       "      <td>110</td>\n",
       "      <td>109</td>\n",
       "      <td>-22.0</td>\n",
       "      <td>1.0</td>\n",
       "      <td>23.0</td>\n",
       "    </tr>\n",
       "    <tr>\n",
       "      <th>11</th>\n",
       "      <td>lag_9</td>\n",
       "      <td>float64</td>\n",
       "      <td>0</td>\n",
       "      <td>53</td>\n",
       "      <td>0.012070</td>\n",
       "      <td>258</td>\n",
       "      <td>2110</td>\n",
       "      <td>0.015258</td>\n",
       "      <td>2.0</td>\n",
       "      <td>39.047153</td>\n",
       "      <td>-269.0</td>\n",
       "      <td>193.0</td>\n",
       "      <td>110</td>\n",
       "      <td>109</td>\n",
       "      <td>-22.0</td>\n",
       "      <td>1.0</td>\n",
       "      <td>23.0</td>\n",
       "    </tr>\n",
       "    <tr>\n",
       "      <th>12</th>\n",
       "      <td>lag_10</td>\n",
       "      <td>float64</td>\n",
       "      <td>0</td>\n",
       "      <td>53</td>\n",
       "      <td>0.012070</td>\n",
       "      <td>258</td>\n",
       "      <td>2109</td>\n",
       "      <td>0.026873</td>\n",
       "      <td>2.0</td>\n",
       "      <td>39.044916</td>\n",
       "      <td>-269.0</td>\n",
       "      <td>193.0</td>\n",
       "      <td>110</td>\n",
       "      <td>109</td>\n",
       "      <td>-22.0</td>\n",
       "      <td>1.0</td>\n",
       "      <td>23.0</td>\n",
       "    </tr>\n",
       "    <tr>\n",
       "      <th>13</th>\n",
       "      <td>lag_11</td>\n",
       "      <td>float64</td>\n",
       "      <td>0</td>\n",
       "      <td>53</td>\n",
       "      <td>0.012070</td>\n",
       "      <td>258</td>\n",
       "      <td>2109</td>\n",
       "      <td>0.023685</td>\n",
       "      <td>2.0</td>\n",
       "      <td>39.043039</td>\n",
       "      <td>-269.0</td>\n",
       "      <td>193.0</td>\n",
       "      <td>110</td>\n",
       "      <td>109</td>\n",
       "      <td>-22.0</td>\n",
       "      <td>1.0</td>\n",
       "      <td>23.0</td>\n",
       "    </tr>\n",
       "    <tr>\n",
       "      <th>14</th>\n",
       "      <td>lag_12</td>\n",
       "      <td>float64</td>\n",
       "      <td>0</td>\n",
       "      <td>53</td>\n",
       "      <td>0.012070</td>\n",
       "      <td>258</td>\n",
       "      <td>2108</td>\n",
       "      <td>0.031200</td>\n",
       "      <td>2.0</td>\n",
       "      <td>39.040242</td>\n",
       "      <td>-269.0</td>\n",
       "      <td>193.0</td>\n",
       "      <td>110</td>\n",
       "      <td>109</td>\n",
       "      <td>-22.0</td>\n",
       "      <td>1.0</td>\n",
       "      <td>23.0</td>\n",
       "    </tr>\n",
       "    <tr>\n",
       "      <th>15</th>\n",
       "      <td>lag_13</td>\n",
       "      <td>float64</td>\n",
       "      <td>0</td>\n",
       "      <td>53</td>\n",
       "      <td>0.012070</td>\n",
       "      <td>258</td>\n",
       "      <td>2108</td>\n",
       "      <td>0.021635</td>\n",
       "      <td>2.0</td>\n",
       "      <td>39.051274</td>\n",
       "      <td>-269.0</td>\n",
       "      <td>193.0</td>\n",
       "      <td>110</td>\n",
       "      <td>109</td>\n",
       "      <td>-22.0</td>\n",
       "      <td>1.0</td>\n",
       "      <td>23.0</td>\n",
       "    </tr>\n",
       "    <tr>\n",
       "      <th>16</th>\n",
       "      <td>lag_14</td>\n",
       "      <td>float64</td>\n",
       "      <td>0</td>\n",
       "      <td>53</td>\n",
       "      <td>0.012070</td>\n",
       "      <td>258</td>\n",
       "      <td>2107</td>\n",
       "      <td>0.031656</td>\n",
       "      <td>2.0</td>\n",
       "      <td>39.053834</td>\n",
       "      <td>-269.0</td>\n",
       "      <td>193.0</td>\n",
       "      <td>110</td>\n",
       "      <td>109</td>\n",
       "      <td>-22.0</td>\n",
       "      <td>1.0</td>\n",
       "      <td>23.0</td>\n",
       "    </tr>\n",
       "    <tr>\n",
       "      <th>17</th>\n",
       "      <td>lag_15</td>\n",
       "      <td>float64</td>\n",
       "      <td>0</td>\n",
       "      <td>53</td>\n",
       "      <td>0.012070</td>\n",
       "      <td>258</td>\n",
       "      <td>2108</td>\n",
       "      <td>0.025734</td>\n",
       "      <td>2.0</td>\n",
       "      <td>39.052625</td>\n",
       "      <td>-269.0</td>\n",
       "      <td>193.0</td>\n",
       "      <td>110</td>\n",
       "      <td>109</td>\n",
       "      <td>-22.0</td>\n",
       "      <td>1.0</td>\n",
       "      <td>23.0</td>\n",
       "    </tr>\n",
       "    <tr>\n",
       "      <th>18</th>\n",
       "      <td>lag_16</td>\n",
       "      <td>float64</td>\n",
       "      <td>0</td>\n",
       "      <td>53</td>\n",
       "      <td>0.012070</td>\n",
       "      <td>257</td>\n",
       "      <td>2108</td>\n",
       "      <td>0.002733</td>\n",
       "      <td>2.0</td>\n",
       "      <td>39.002231</td>\n",
       "      <td>-269.0</td>\n",
       "      <td>193.0</td>\n",
       "      <td>110</td>\n",
       "      <td>108</td>\n",
       "      <td>-22.0</td>\n",
       "      <td>1.0</td>\n",
       "      <td>23.0</td>\n",
       "    </tr>\n",
       "    <tr>\n",
       "      <th>19</th>\n",
       "      <td>lag_17</td>\n",
       "      <td>float64</td>\n",
       "      <td>0</td>\n",
       "      <td>53</td>\n",
       "      <td>0.012070</td>\n",
       "      <td>257</td>\n",
       "      <td>2108</td>\n",
       "      <td>0.004555</td>\n",
       "      <td>2.0</td>\n",
       "      <td>39.002932</td>\n",
       "      <td>-269.0</td>\n",
       "      <td>193.0</td>\n",
       "      <td>110</td>\n",
       "      <td>108</td>\n",
       "      <td>-22.0</td>\n",
       "      <td>1.0</td>\n",
       "      <td>23.0</td>\n",
       "    </tr>\n",
       "    <tr>\n",
       "      <th>20</th>\n",
       "      <td>lag_18</td>\n",
       "      <td>float64</td>\n",
       "      <td>0</td>\n",
       "      <td>53</td>\n",
       "      <td>0.012070</td>\n",
       "      <td>257</td>\n",
       "      <td>2107</td>\n",
       "      <td>0.015031</td>\n",
       "      <td>2.0</td>\n",
       "      <td>38.997556</td>\n",
       "      <td>-269.0</td>\n",
       "      <td>193.0</td>\n",
       "      <td>110</td>\n",
       "      <td>108</td>\n",
       "      <td>-22.0</td>\n",
       "      <td>1.0</td>\n",
       "      <td>23.0</td>\n",
       "    </tr>\n",
       "    <tr>\n",
       "      <th>21</th>\n",
       "      <td>lag_19</td>\n",
       "      <td>float64</td>\n",
       "      <td>0</td>\n",
       "      <td>53</td>\n",
       "      <td>0.012070</td>\n",
       "      <td>256</td>\n",
       "      <td>2106</td>\n",
       "      <td>0.059668</td>\n",
       "      <td>2.0</td>\n",
       "      <td>38.892043</td>\n",
       "      <td>-269.0</td>\n",
       "      <td>193.0</td>\n",
       "      <td>109</td>\n",
       "      <td>108</td>\n",
       "      <td>-22.0</td>\n",
       "      <td>1.0</td>\n",
       "      <td>23.0</td>\n",
       "    </tr>\n",
       "    <tr>\n",
       "      <th>22</th>\n",
       "      <td>lag_20</td>\n",
       "      <td>float64</td>\n",
       "      <td>0</td>\n",
       "      <td>53</td>\n",
       "      <td>0.012070</td>\n",
       "      <td>255</td>\n",
       "      <td>2107</td>\n",
       "      <td>0.012753</td>\n",
       "      <td>2.0</td>\n",
       "      <td>38.812373</td>\n",
       "      <td>-269.0</td>\n",
       "      <td>193.0</td>\n",
       "      <td>109</td>\n",
       "      <td>110</td>\n",
       "      <td>-22.0</td>\n",
       "      <td>1.0</td>\n",
       "      <td>23.0</td>\n",
       "    </tr>\n",
       "    <tr>\n",
       "      <th>23</th>\n",
       "      <td>lag_21</td>\n",
       "      <td>float64</td>\n",
       "      <td>0</td>\n",
       "      <td>53</td>\n",
       "      <td>0.012070</td>\n",
       "      <td>255</td>\n",
       "      <td>2107</td>\n",
       "      <td>0.037349</td>\n",
       "      <td>2.0</td>\n",
       "      <td>38.763520</td>\n",
       "      <td>-269.0</td>\n",
       "      <td>193.0</td>\n",
       "      <td>108</td>\n",
       "      <td>110</td>\n",
       "      <td>-22.0</td>\n",
       "      <td>1.0</td>\n",
       "      <td>23.0</td>\n",
       "    </tr>\n",
       "    <tr>\n",
       "      <th>24</th>\n",
       "      <td>lag_22</td>\n",
       "      <td>float64</td>\n",
       "      <td>0</td>\n",
       "      <td>53</td>\n",
       "      <td>0.012070</td>\n",
       "      <td>255</td>\n",
       "      <td>2108</td>\n",
       "      <td>0.028012</td>\n",
       "      <td>2.0</td>\n",
       "      <td>38.759793</td>\n",
       "      <td>-269.0</td>\n",
       "      <td>193.0</td>\n",
       "      <td>108</td>\n",
       "      <td>110</td>\n",
       "      <td>-22.0</td>\n",
       "      <td>1.0</td>\n",
       "      <td>23.0</td>\n",
       "    </tr>\n",
       "    <tr>\n",
       "      <th>25</th>\n",
       "      <td>lag_23</td>\n",
       "      <td>float64</td>\n",
       "      <td>0</td>\n",
       "      <td>53</td>\n",
       "      <td>0.012070</td>\n",
       "      <td>255</td>\n",
       "      <td>2108</td>\n",
       "      <td>0.043498</td>\n",
       "      <td>2.0</td>\n",
       "      <td>38.740591</td>\n",
       "      <td>-269.0</td>\n",
       "      <td>193.0</td>\n",
       "      <td>107</td>\n",
       "      <td>110</td>\n",
       "      <td>-22.0</td>\n",
       "      <td>1.0</td>\n",
       "      <td>23.0</td>\n",
       "    </tr>\n",
       "    <tr>\n",
       "      <th>26</th>\n",
       "      <td>lag_24</td>\n",
       "      <td>float64</td>\n",
       "      <td>0</td>\n",
       "      <td>53</td>\n",
       "      <td>0.012070</td>\n",
       "      <td>255</td>\n",
       "      <td>2109</td>\n",
       "      <td>0.027784</td>\n",
       "      <td>2.0</td>\n",
       "      <td>38.742431</td>\n",
       "      <td>-269.0</td>\n",
       "      <td>193.0</td>\n",
       "      <td>107</td>\n",
       "      <td>110</td>\n",
       "      <td>-22.0</td>\n",
       "      <td>1.0</td>\n",
       "      <td>23.0</td>\n",
       "    </tr>\n",
       "    <tr>\n",
       "      <th>27</th>\n",
       "      <td>rolling_mean</td>\n",
       "      <td>float64</td>\n",
       "      <td>0</td>\n",
       "      <td>43</td>\n",
       "      <td>0.009793</td>\n",
       "      <td>338</td>\n",
       "      <td>2030</td>\n",
       "      <td>0.024414</td>\n",
       "      <td>0.4</td>\n",
       "      <td>11.168462</td>\n",
       "      <td>-83.6</td>\n",
       "      <td>73.8</td>\n",
       "      <td>109</td>\n",
       "      <td>108</td>\n",
       "      <td>-5.8</td>\n",
       "      <td>0.6</td>\n",
       "      <td>6.6</td>\n",
       "    </tr>\n",
       "  </tbody>\n",
       "</table>\n",
       "</div>"
      ],
      "text/plain": [
       "            name   object  na  zero      rate  unique   neg       mean  moda  \\\n",
       "0     num_orders  float64   0    53  0.012070     258  2111   0.026190   2.0   \n",
       "1            day    int64   0     0  0.000000      31     0  15.921202   3.0   \n",
       "2           hour    int64   0   182  0.041448      24     0  11.502619   1.0   \n",
       "3          lag_1  float64   0    53  0.012070     258  2110   0.037577   2.0   \n",
       "4          lag_2  float64   0    53  0.012070     258  2111   0.010476   2.0   \n",
       "5          lag_3  float64   0    53  0.012070     258  2111   0.020041   2.0   \n",
       "6          lag_4  float64   0    53  0.012070     258  2111   0.017080   2.0   \n",
       "7          lag_5  float64   0    53  0.012070     258  2110   0.036894   2.0   \n",
       "8          lag_6  float64   0    53  0.012070     258  2110   0.032794   2.0   \n",
       "9          lag_7  float64   0    53  0.012070     258  2110   0.034844   2.0   \n",
       "10         lag_8  float64   0    53  0.012070     258  2110   0.016625   2.0   \n",
       "11         lag_9  float64   0    53  0.012070     258  2110   0.015258   2.0   \n",
       "12        lag_10  float64   0    53  0.012070     258  2109   0.026873   2.0   \n",
       "13        lag_11  float64   0    53  0.012070     258  2109   0.023685   2.0   \n",
       "14        lag_12  float64   0    53  0.012070     258  2108   0.031200   2.0   \n",
       "15        lag_13  float64   0    53  0.012070     258  2108   0.021635   2.0   \n",
       "16        lag_14  float64   0    53  0.012070     258  2107   0.031656   2.0   \n",
       "17        lag_15  float64   0    53  0.012070     258  2108   0.025734   2.0   \n",
       "18        lag_16  float64   0    53  0.012070     257  2108   0.002733   2.0   \n",
       "19        lag_17  float64   0    53  0.012070     257  2108   0.004555   2.0   \n",
       "20        lag_18  float64   0    53  0.012070     257  2107   0.015031   2.0   \n",
       "21        lag_19  float64   0    53  0.012070     256  2106   0.059668   2.0   \n",
       "22        lag_20  float64   0    53  0.012070     255  2107   0.012753   2.0   \n",
       "23        lag_21  float64   0    53  0.012070     255  2107   0.037349   2.0   \n",
       "24        lag_22  float64   0    53  0.012070     255  2108   0.028012   2.0   \n",
       "25        lag_23  float64   0    53  0.012070     255  2108   0.043498   2.0   \n",
       "26        lag_24  float64   0    53  0.012070     255  2109   0.027784   2.0   \n",
       "27  rolling_mean  float64   0    43  0.009793     338  2030   0.024414   0.4   \n",
       "\n",
       "          std    min    max  out left  out rigth   25%   50%   75%  \n",
       "0   39.071834 -269.0  193.0       110        110 -22.0   1.0  23.0  \n",
       "1    8.809509    1.0   31.0         0         96   8.0  16.0  24.0  \n",
       "2    6.921587    0.0   23.0         0          0   6.0  12.0  17.5  \n",
       "3   39.073865 -269.0  193.0       110        110 -22.0   1.0  23.0  \n",
       "4   39.070760 -269.0  193.0       110        110 -22.0   1.0  23.0  \n",
       "5   39.077122 -269.0  193.0       110        110 -22.0   1.0  23.0  \n",
       "6   39.076252 -269.0  193.0       110        110 -22.0   1.0  23.0  \n",
       "7   39.062289 -269.0  193.0       110        110 -22.0   1.0  23.0  \n",
       "8   39.064287 -269.0  193.0       110        110 -22.0   1.0  23.0  \n",
       "9   39.065571 -269.0  193.0       110        110 -22.0   1.0  23.0  \n",
       "10  39.046453 -269.0  193.0       110        109 -22.0   1.0  23.0  \n",
       "11  39.047153 -269.0  193.0       110        109 -22.0   1.0  23.0  \n",
       "12  39.044916 -269.0  193.0       110        109 -22.0   1.0  23.0  \n",
       "13  39.043039 -269.0  193.0       110        109 -22.0   1.0  23.0  \n",
       "14  39.040242 -269.0  193.0       110        109 -22.0   1.0  23.0  \n",
       "15  39.051274 -269.0  193.0       110        109 -22.0   1.0  23.0  \n",
       "16  39.053834 -269.0  193.0       110        109 -22.0   1.0  23.0  \n",
       "17  39.052625 -269.0  193.0       110        109 -22.0   1.0  23.0  \n",
       "18  39.002231 -269.0  193.0       110        108 -22.0   1.0  23.0  \n",
       "19  39.002932 -269.0  193.0       110        108 -22.0   1.0  23.0  \n",
       "20  38.997556 -269.0  193.0       110        108 -22.0   1.0  23.0  \n",
       "21  38.892043 -269.0  193.0       109        108 -22.0   1.0  23.0  \n",
       "22  38.812373 -269.0  193.0       109        110 -22.0   1.0  23.0  \n",
       "23  38.763520 -269.0  193.0       108        110 -22.0   1.0  23.0  \n",
       "24  38.759793 -269.0  193.0       108        110 -22.0   1.0  23.0  \n",
       "25  38.740591 -269.0  193.0       107        110 -22.0   1.0  23.0  \n",
       "26  38.742431 -269.0  193.0       107        110 -22.0   1.0  23.0  \n",
       "27  11.168462  -83.6   73.8       109        108  -5.8   0.6   6.6  "
      ]
     },
     "execution_count": 36,
     "metadata": {},
     "output_type": "execute_result"
    }
   ],
   "source": [
    "# вызываем функцию для расчета характеристик по данным\n",
    "dataframe_information(data_new_features)"
   ]
  },
  {
   "cell_type": "markdown",
   "metadata": {},
   "source": [
    "Теперь у нас есть 12 признаков. Видим некоторый разброс значений - проведем масштабирование признаков.\n",
    "\n",
    "Разделим данные на обучающую и тестовую выборки. Выделим целевой признак `num_orders` в отдельную переменную `target`, все остальные признаки запишем в переменную `features`."
   ]
  },
  {
   "cell_type": "code",
   "execution_count": 37,
   "metadata": {},
   "outputs": [],
   "source": [
    "# запишем в переменную features признаки\n",
    "features = data_new_features.drop(['num_orders'], axis=1)\n",
    "# запишем в переменную target целевой признак\n",
    "target = data_new_features['num_orders']"
   ]
  },
  {
   "cell_type": "markdown",
   "metadata": {},
   "source": [
    "При делении данных на выборки надо учитывать, что перемешивать данные нельзя: в обучающую выборку не должны попасть данные из будущего."
   ]
  },
  {
   "cell_type": "code",
   "execution_count": 38,
   "metadata": {},
   "outputs": [],
   "source": [
    "# отделим 10% данных для тестовой выборки\n",
    "features_train, features_test, target_train, target_test = train_test_split(\n",
    "    features, target, shuffle=False, test_size=0.1, random_state=MY_RANDOM_STATE)"
   ]
  },
  {
   "cell_type": "markdown",
   "metadata": {},
   "source": [
    "Проверим размерность получившихся выборок, чтобы убедиться, что разделение на 2 выборки прошло корректно."
   ]
  },
  {
   "cell_type": "code",
   "execution_count": 39,
   "metadata": {},
   "outputs": [
    {
     "name": "stdout",
     "output_type": "stream",
     "text": [
      "Обучающая выборка\n",
      "(3951, 27)\n",
      "(3951,)\n",
      "\n",
      "Тестовая выборка\n",
      "(440, 27)\n",
      "(440,)\n",
      "\n"
     ]
    }
   ],
   "source": [
    "print('Обучающая выборка')\n",
    "print(features_train.shape)\n",
    "print(target_train.shape)\n",
    "print()\n",
    "print('Тестовая выборка')\n",
    "print(features_test.shape)\n",
    "print(target_test.shape)\n",
    "print()"
   ]
  },
  {
   "cell_type": "markdown",
   "metadata": {},
   "source": [
    "Разделение прошло корректно."
   ]
  },
  {
   "cell_type": "markdown",
   "metadata": {},
   "source": [
    "#### Преобразование численных признаков"
   ]
  },
  {
   "cell_type": "markdown",
   "metadata": {},
   "source": [
    "Как мы уже выяснили раннее нам потребуется масштабирование признаков. Для этого проведем стандартизацию данных с помощью StandardScaler.\n",
    "\n",
    "Для начала определим числовые признаки."
   ]
  },
  {
   "cell_type": "code",
   "execution_count": 40,
   "metadata": {},
   "outputs": [
    {
     "data": {
      "text/plain": [
       "['lag_1',\n",
       " 'lag_2',\n",
       " 'lag_3',\n",
       " 'lag_4',\n",
       " 'lag_5',\n",
       " 'lag_6',\n",
       " 'lag_7',\n",
       " 'lag_8',\n",
       " 'lag_9',\n",
       " 'lag_10',\n",
       " 'lag_11',\n",
       " 'lag_12',\n",
       " 'lag_13',\n",
       " 'lag_14',\n",
       " 'lag_15',\n",
       " 'lag_16',\n",
       " 'lag_17',\n",
       " 'lag_18',\n",
       " 'lag_19',\n",
       " 'lag_20',\n",
       " 'lag_21',\n",
       " 'lag_22',\n",
       " 'lag_23',\n",
       " 'lag_24',\n",
       " 'rolling_mean']"
      ]
     },
     "execution_count": 40,
     "metadata": {},
     "output_type": "execute_result"
    }
   ],
   "source": [
    "# определим числовые признаки\n",
    "numeric_features = [col for col in features_train.columns if (col  != 'day' and col != 'hour')] \n",
    "numeric_features"
   ]
  },
  {
   "cell_type": "markdown",
   "metadata": {},
   "source": [
    "Теперь воспользуемся StandardScaler для стандартизации данных."
   ]
  },
  {
   "cell_type": "code",
   "execution_count": 41,
   "metadata": {},
   "outputs": [],
   "source": [
    "# нормируем числовые данные, используя StandardScaler\n",
    "scaler = StandardScaler()\n",
    "# обучим на оучающей выборке\n",
    "scaler.fit(features_train[numeric_features])\n",
    "# применим к выборкам\n",
    "features_train[numeric_features] = scaler.transform(features_train[numeric_features])\n",
    "features_test[numeric_features] = scaler.transform(features_test[numeric_features])"
   ]
  },
  {
   "cell_type": "markdown",
   "metadata": {},
   "source": [
    "Проверим, как преобразовались данные."
   ]
  },
  {
   "cell_type": "code",
   "execution_count": 42,
   "metadata": {},
   "outputs": [
    {
     "data": {
      "text/html": [
       "<div>\n",
       "<style scoped>\n",
       "    .dataframe tbody tr th:only-of-type {\n",
       "        vertical-align: middle;\n",
       "    }\n",
       "\n",
       "    .dataframe tbody tr th {\n",
       "        vertical-align: top;\n",
       "    }\n",
       "\n",
       "    .dataframe thead th {\n",
       "        text-align: right;\n",
       "    }\n",
       "</style>\n",
       "<table border=\"1\" class=\"dataframe\">\n",
       "  <thead>\n",
       "    <tr style=\"text-align: right;\">\n",
       "      <th></th>\n",
       "      <th>day</th>\n",
       "      <th>hour</th>\n",
       "      <th>lag_1</th>\n",
       "      <th>lag_2</th>\n",
       "      <th>lag_3</th>\n",
       "      <th>lag_4</th>\n",
       "      <th>lag_5</th>\n",
       "      <th>lag_6</th>\n",
       "      <th>lag_7</th>\n",
       "      <th>lag_8</th>\n",
       "      <th>...</th>\n",
       "      <th>lag_16</th>\n",
       "      <th>lag_17</th>\n",
       "      <th>lag_18</th>\n",
       "      <th>lag_19</th>\n",
       "      <th>lag_20</th>\n",
       "      <th>lag_21</th>\n",
       "      <th>lag_22</th>\n",
       "      <th>lag_23</th>\n",
       "      <th>lag_24</th>\n",
       "      <th>rolling_mean</th>\n",
       "    </tr>\n",
       "  </thead>\n",
       "  <tbody>\n",
       "    <tr>\n",
       "      <th>count</th>\n",
       "      <td>3951.000000</td>\n",
       "      <td>3951.000000</td>\n",
       "      <td>3.951000e+03</td>\n",
       "      <td>3.951000e+03</td>\n",
       "      <td>3.951000e+03</td>\n",
       "      <td>3.951000e+03</td>\n",
       "      <td>3.951000e+03</td>\n",
       "      <td>3.951000e+03</td>\n",
       "      <td>3.951000e+03</td>\n",
       "      <td>3.951000e+03</td>\n",
       "      <td>...</td>\n",
       "      <td>3.951000e+03</td>\n",
       "      <td>3.951000e+03</td>\n",
       "      <td>3.951000e+03</td>\n",
       "      <td>3.951000e+03</td>\n",
       "      <td>3.951000e+03</td>\n",
       "      <td>3.951000e+03</td>\n",
       "      <td>3.951000e+03</td>\n",
       "      <td>3.951000e+03</td>\n",
       "      <td>3.951000e+03</td>\n",
       "      <td>3.951000e+03</td>\n",
       "    </tr>\n",
       "    <tr>\n",
       "      <th>mean</th>\n",
       "      <td>15.207795</td>\n",
       "      <td>11.486712</td>\n",
       "      <td>5.226562e-18</td>\n",
       "      <td>-3.270817e-17</td>\n",
       "      <td>2.360383e-18</td>\n",
       "      <td>-1.584829e-17</td>\n",
       "      <td>-1.523009e-17</td>\n",
       "      <td>1.073412e-17</td>\n",
       "      <td>-8.935736e-18</td>\n",
       "      <td>-2.989819e-17</td>\n",
       "      <td>...</td>\n",
       "      <td>-8.092742e-18</td>\n",
       "      <td>-2.888659e-17</td>\n",
       "      <td>-1.989466e-17</td>\n",
       "      <td>1.601688e-17</td>\n",
       "      <td>1.596069e-17</td>\n",
       "      <td>1.461190e-18</td>\n",
       "      <td>1.562349e-17</td>\n",
       "      <td>-1.461190e-17</td>\n",
       "      <td>-9.666331e-18</td>\n",
       "      <td>2.989819e-17</td>\n",
       "    </tr>\n",
       "    <tr>\n",
       "      <th>std</th>\n",
       "      <td>8.834518</td>\n",
       "      <td>6.918386</td>\n",
       "      <td>1.000127e+00</td>\n",
       "      <td>1.000127e+00</td>\n",
       "      <td>1.000127e+00</td>\n",
       "      <td>1.000127e+00</td>\n",
       "      <td>1.000127e+00</td>\n",
       "      <td>1.000127e+00</td>\n",
       "      <td>1.000127e+00</td>\n",
       "      <td>1.000127e+00</td>\n",
       "      <td>...</td>\n",
       "      <td>1.000127e+00</td>\n",
       "      <td>1.000127e+00</td>\n",
       "      <td>1.000127e+00</td>\n",
       "      <td>1.000127e+00</td>\n",
       "      <td>1.000127e+00</td>\n",
       "      <td>1.000127e+00</td>\n",
       "      <td>1.000127e+00</td>\n",
       "      <td>1.000127e+00</td>\n",
       "      <td>1.000127e+00</td>\n",
       "      <td>1.000127e+00</td>\n",
       "    </tr>\n",
       "    <tr>\n",
       "      <th>min</th>\n",
       "      <td>1.000000</td>\n",
       "      <td>0.000000</td>\n",
       "      <td>-7.435232e+00</td>\n",
       "      <td>-7.433000e+00</td>\n",
       "      <td>-7.432078e+00</td>\n",
       "      <td>-7.434401e+00</td>\n",
       "      <td>-7.434518e+00</td>\n",
       "      <td>-7.433884e+00</td>\n",
       "      <td>-7.434680e+00</td>\n",
       "      <td>-7.436266e+00</td>\n",
       "      <td>...</td>\n",
       "      <td>-4.919126e+00</td>\n",
       "      <td>-4.920792e+00</td>\n",
       "      <td>-4.921071e+00</td>\n",
       "      <td>-4.921499e+00</td>\n",
       "      <td>-4.920582e+00</td>\n",
       "      <td>-4.920141e+00</td>\n",
       "      <td>-4.921022e+00</td>\n",
       "      <td>-4.921799e+00</td>\n",
       "      <td>-4.920762e+00</td>\n",
       "      <td>-7.817388e+00</td>\n",
       "    </tr>\n",
       "    <tr>\n",
       "      <th>25%</th>\n",
       "      <td>8.000000</td>\n",
       "      <td>5.000000</td>\n",
       "      <td>-5.807294e-01</td>\n",
       "      <td>-5.803101e-01</td>\n",
       "      <td>-5.803670e-01</td>\n",
       "      <td>-5.809160e-01</td>\n",
       "      <td>-5.811056e-01</td>\n",
       "      <td>-5.807530e-01</td>\n",
       "      <td>-5.807057e-01</td>\n",
       "      <td>-5.805006e-01</td>\n",
       "      <td>...</td>\n",
       "      <td>-5.878817e-01</td>\n",
       "      <td>-5.877818e-01</td>\n",
       "      <td>-5.879397e-01</td>\n",
       "      <td>-5.877977e-01</td>\n",
       "      <td>-5.873579e-01</td>\n",
       "      <td>-5.871370e-01</td>\n",
       "      <td>-5.874416e-01</td>\n",
       "      <td>-5.876840e-01</td>\n",
       "      <td>-5.872922e-01</td>\n",
       "      <td>-5.512146e-01</td>\n",
       "    </tr>\n",
       "    <tr>\n",
       "      <th>50%</th>\n",
       "      <td>15.000000</td>\n",
       "      <td>11.000000</td>\n",
       "      <td>2.733132e-02</td>\n",
       "      <td>2.758985e-02</td>\n",
       "      <td>2.744606e-02</td>\n",
       "      <td>2.705448e-02</td>\n",
       "      <td>2.685835e-02</td>\n",
       "      <td>2.718597e-02</td>\n",
       "      <td>2.730823e-02</td>\n",
       "      <td>2.767220e-02</td>\n",
       "      <td>...</td>\n",
       "      <td>2.687556e-02</td>\n",
       "      <td>2.722614e-02</td>\n",
       "      <td>2.708539e-02</td>\n",
       "      <td>2.730832e-02</td>\n",
       "      <td>2.768033e-02</td>\n",
       "      <td>2.786996e-02</td>\n",
       "      <td>2.764722e-02</td>\n",
       "      <td>2.748079e-02</td>\n",
       "      <td>2.778097e-02</td>\n",
       "      <td>5.757289e-02</td>\n",
       "    </tr>\n",
       "    <tr>\n",
       "      <th>75%</th>\n",
       "      <td>23.000000</td>\n",
       "      <td>17.000000</td>\n",
       "      <td>6.077529e-01</td>\n",
       "      <td>6.078580e-01</td>\n",
       "      <td>6.076312e-01</td>\n",
       "      <td>6.073899e-01</td>\n",
       "      <td>6.071876e-01</td>\n",
       "      <td>6.074914e-01</td>\n",
       "      <td>6.076851e-01</td>\n",
       "      <td>6.082008e-01</td>\n",
       "      <td>...</td>\n",
       "      <td>6.136893e-01</td>\n",
       "      <td>6.142792e-01</td>\n",
       "      <td>6.141547e-01</td>\n",
       "      <td>6.144550e-01</td>\n",
       "      <td>6.147623e-01</td>\n",
       "      <td>6.149221e-01</td>\n",
       "      <td>6.147774e-01</td>\n",
       "      <td>6.146835e-01</td>\n",
       "      <td>6.148962e-01</td>\n",
       "      <td>6.270838e-01</td>\n",
       "    </tr>\n",
       "    <tr>\n",
       "      <th>max</th>\n",
       "      <td>31.000000</td>\n",
       "      <td>23.000000</td>\n",
       "      <td>5.334043e+00</td>\n",
       "      <td>5.332898e+00</td>\n",
       "      <td>5.331996e+00</td>\n",
       "      <td>5.332979e+00</td>\n",
       "      <td>5.332726e+00</td>\n",
       "      <td>5.332835e+00</td>\n",
       "      <td>5.333611e+00</td>\n",
       "      <td>5.335362e+00</td>\n",
       "      <td>...</td>\n",
       "      <td>5.392029e+00</td>\n",
       "      <td>5.394568e+00</td>\n",
       "      <td>5.394577e+00</td>\n",
       "      <td>5.395506e+00</td>\n",
       "      <td>5.395287e+00</td>\n",
       "      <td>5.395204e+00</td>\n",
       "      <td>5.395695e+00</td>\n",
       "      <td>5.396191e+00</td>\n",
       "      <td>5.395692e+00</td>\n",
       "      <td>5.929426e+00</td>\n",
       "    </tr>\n",
       "  </tbody>\n",
       "</table>\n",
       "<p>8 rows × 27 columns</p>\n",
       "</div>"
      ],
      "text/plain": [
       "               day         hour         lag_1         lag_2         lag_3  \\\n",
       "count  3951.000000  3951.000000  3.951000e+03  3.951000e+03  3.951000e+03   \n",
       "mean     15.207795    11.486712  5.226562e-18 -3.270817e-17  2.360383e-18   \n",
       "std       8.834518     6.918386  1.000127e+00  1.000127e+00  1.000127e+00   \n",
       "min       1.000000     0.000000 -7.435232e+00 -7.433000e+00 -7.432078e+00   \n",
       "25%       8.000000     5.000000 -5.807294e-01 -5.803101e-01 -5.803670e-01   \n",
       "50%      15.000000    11.000000  2.733132e-02  2.758985e-02  2.744606e-02   \n",
       "75%      23.000000    17.000000  6.077529e-01  6.078580e-01  6.076312e-01   \n",
       "max      31.000000    23.000000  5.334043e+00  5.332898e+00  5.331996e+00   \n",
       "\n",
       "              lag_4         lag_5         lag_6         lag_7         lag_8  \\\n",
       "count  3.951000e+03  3.951000e+03  3.951000e+03  3.951000e+03  3.951000e+03   \n",
       "mean  -1.584829e-17 -1.523009e-17  1.073412e-17 -8.935736e-18 -2.989819e-17   \n",
       "std    1.000127e+00  1.000127e+00  1.000127e+00  1.000127e+00  1.000127e+00   \n",
       "min   -7.434401e+00 -7.434518e+00 -7.433884e+00 -7.434680e+00 -7.436266e+00   \n",
       "25%   -5.809160e-01 -5.811056e-01 -5.807530e-01 -5.807057e-01 -5.805006e-01   \n",
       "50%    2.705448e-02  2.685835e-02  2.718597e-02  2.730823e-02  2.767220e-02   \n",
       "75%    6.073899e-01  6.071876e-01  6.074914e-01  6.076851e-01  6.082008e-01   \n",
       "max    5.332979e+00  5.332726e+00  5.332835e+00  5.333611e+00  5.335362e+00   \n",
       "\n",
       "       ...        lag_16        lag_17        lag_18        lag_19  \\\n",
       "count  ...  3.951000e+03  3.951000e+03  3.951000e+03  3.951000e+03   \n",
       "mean   ... -8.092742e-18 -2.888659e-17 -1.989466e-17  1.601688e-17   \n",
       "std    ...  1.000127e+00  1.000127e+00  1.000127e+00  1.000127e+00   \n",
       "min    ... -4.919126e+00 -4.920792e+00 -4.921071e+00 -4.921499e+00   \n",
       "25%    ... -5.878817e-01 -5.877818e-01 -5.879397e-01 -5.877977e-01   \n",
       "50%    ...  2.687556e-02  2.722614e-02  2.708539e-02  2.730832e-02   \n",
       "75%    ...  6.136893e-01  6.142792e-01  6.141547e-01  6.144550e-01   \n",
       "max    ...  5.392029e+00  5.394568e+00  5.394577e+00  5.395506e+00   \n",
       "\n",
       "             lag_20        lag_21        lag_22        lag_23        lag_24  \\\n",
       "count  3.951000e+03  3.951000e+03  3.951000e+03  3.951000e+03  3.951000e+03   \n",
       "mean   1.596069e-17  1.461190e-18  1.562349e-17 -1.461190e-17 -9.666331e-18   \n",
       "std    1.000127e+00  1.000127e+00  1.000127e+00  1.000127e+00  1.000127e+00   \n",
       "min   -4.920582e+00 -4.920141e+00 -4.921022e+00 -4.921799e+00 -4.920762e+00   \n",
       "25%   -5.873579e-01 -5.871370e-01 -5.874416e-01 -5.876840e-01 -5.872922e-01   \n",
       "50%    2.768033e-02  2.786996e-02  2.764722e-02  2.748079e-02  2.778097e-02   \n",
       "75%    6.147623e-01  6.149221e-01  6.147774e-01  6.146835e-01  6.148962e-01   \n",
       "max    5.395287e+00  5.395204e+00  5.395695e+00  5.396191e+00  5.395692e+00   \n",
       "\n",
       "       rolling_mean  \n",
       "count  3.951000e+03  \n",
       "mean   2.989819e-17  \n",
       "std    1.000127e+00  \n",
       "min   -7.817388e+00  \n",
       "25%   -5.512146e-01  \n",
       "50%    5.757289e-02  \n",
       "75%    6.270838e-01  \n",
       "max    5.929426e+00  \n",
       "\n",
       "[8 rows x 27 columns]"
      ]
     },
     "execution_count": 42,
     "metadata": {},
     "output_type": "execute_result"
    }
   ],
   "source": [
    "features_train.describe()"
   ]
  },
  {
   "cell_type": "code",
   "execution_count": 43,
   "metadata": {},
   "outputs": [
    {
     "data": {
      "text/html": [
       "<div>\n",
       "<style scoped>\n",
       "    .dataframe tbody tr th:only-of-type {\n",
       "        vertical-align: middle;\n",
       "    }\n",
       "\n",
       "    .dataframe tbody tr th {\n",
       "        vertical-align: top;\n",
       "    }\n",
       "\n",
       "    .dataframe thead th {\n",
       "        text-align: right;\n",
       "    }\n",
       "</style>\n",
       "<table border=\"1\" class=\"dataframe\">\n",
       "  <thead>\n",
       "    <tr style=\"text-align: right;\">\n",
       "      <th></th>\n",
       "      <th>day</th>\n",
       "      <th>hour</th>\n",
       "      <th>lag_1</th>\n",
       "      <th>lag_2</th>\n",
       "      <th>lag_3</th>\n",
       "      <th>lag_4</th>\n",
       "      <th>lag_5</th>\n",
       "      <th>lag_6</th>\n",
       "      <th>lag_7</th>\n",
       "      <th>lag_8</th>\n",
       "      <th>...</th>\n",
       "      <th>lag_16</th>\n",
       "      <th>lag_17</th>\n",
       "      <th>lag_18</th>\n",
       "      <th>lag_19</th>\n",
       "      <th>lag_20</th>\n",
       "      <th>lag_21</th>\n",
       "      <th>lag_22</th>\n",
       "      <th>lag_23</th>\n",
       "      <th>lag_24</th>\n",
       "      <th>rolling_mean</th>\n",
       "    </tr>\n",
       "  </thead>\n",
       "  <tbody>\n",
       "    <tr>\n",
       "      <th>count</th>\n",
       "      <td>440.000000</td>\n",
       "      <td>440.000000</td>\n",
       "      <td>440.000000</td>\n",
       "      <td>440.000000</td>\n",
       "      <td>440.000000</td>\n",
       "      <td>440.000000</td>\n",
       "      <td>440.000000</td>\n",
       "      <td>440.000000</td>\n",
       "      <td>440.000000</td>\n",
       "      <td>440.000000</td>\n",
       "      <td>...</td>\n",
       "      <td>440.000000</td>\n",
       "      <td>440.000000</td>\n",
       "      <td>440.000000</td>\n",
       "      <td>440.000000</td>\n",
       "      <td>440.000000</td>\n",
       "      <td>440.000000</td>\n",
       "      <td>440.000000</td>\n",
       "      <td>440.000000</td>\n",
       "      <td>440.000000</td>\n",
       "      <td>440.000000</td>\n",
       "    </tr>\n",
       "    <tr>\n",
       "      <th>mean</th>\n",
       "      <td>22.327273</td>\n",
       "      <td>11.645455</td>\n",
       "      <td>0.007293</td>\n",
       "      <td>0.002470</td>\n",
       "      <td>0.003711</td>\n",
       "      <td>-0.001083</td>\n",
       "      <td>0.002427</td>\n",
       "      <td>0.004577</td>\n",
       "      <td>0.006329</td>\n",
       "      <td>0.004866</td>\n",
       "      <td>...</td>\n",
       "      <td>-0.009896</td>\n",
       "      <td>-0.006002</td>\n",
       "      <td>-0.004492</td>\n",
       "      <td>0.010151</td>\n",
       "      <td>0.000804</td>\n",
       "      <td>0.009572</td>\n",
       "      <td>0.004708</td>\n",
       "      <td>0.007335</td>\n",
       "      <td>0.005987</td>\n",
       "      <td>0.010530</td>\n",
       "    </tr>\n",
       "    <tr>\n",
       "      <th>std</th>\n",
       "      <td>5.301152</td>\n",
       "      <td>6.956535</td>\n",
       "      <td>1.631946</td>\n",
       "      <td>1.629500</td>\n",
       "      <td>1.629640</td>\n",
       "      <td>1.631336</td>\n",
       "      <td>1.628702</td>\n",
       "      <td>1.628770</td>\n",
       "      <td>1.629881</td>\n",
       "      <td>1.628253</td>\n",
       "      <td>...</td>\n",
       "      <td>1.696421</td>\n",
       "      <td>1.699417</td>\n",
       "      <td>1.698651</td>\n",
       "      <td>1.680543</td>\n",
       "      <td>1.665331</td>\n",
       "      <td>1.656029</td>\n",
       "      <td>1.656309</td>\n",
       "      <td>1.653662</td>\n",
       "      <td>1.652947</td>\n",
       "      <td>1.739620</td>\n",
       "    </tr>\n",
       "    <tr>\n",
       "      <th>min</th>\n",
       "      <td>13.000000</td>\n",
       "      <td>0.000000</td>\n",
       "      <td>-6.578419</td>\n",
       "      <td>-6.576414</td>\n",
       "      <td>-6.575614</td>\n",
       "      <td>-6.577716</td>\n",
       "      <td>-6.577841</td>\n",
       "      <td>-6.577242</td>\n",
       "      <td>-6.577934</td>\n",
       "      <td>-6.579296</td>\n",
       "      <td>...</td>\n",
       "      <td>-7.517872</td>\n",
       "      <td>-7.520599</td>\n",
       "      <td>-7.520949</td>\n",
       "      <td>-7.521720</td>\n",
       "      <td>-7.520516</td>\n",
       "      <td>-7.519943</td>\n",
       "      <td>-7.521170</td>\n",
       "      <td>-7.522269</td>\n",
       "      <td>-7.520844</td>\n",
       "      <td>-8.210154</td>\n",
       "    </tr>\n",
       "    <tr>\n",
       "      <th>25%</th>\n",
       "      <td>18.000000</td>\n",
       "      <td>6.000000</td>\n",
       "      <td>-1.002226</td>\n",
       "      <td>-1.001695</td>\n",
       "      <td>-1.001692</td>\n",
       "      <td>-1.023076</td>\n",
       "      <td>-1.002535</td>\n",
       "      <td>-1.002165</td>\n",
       "      <td>-1.002170</td>\n",
       "      <td>-1.002075</td>\n",
       "      <td>...</td>\n",
       "      <td>-1.041964</td>\n",
       "      <td>-1.042049</td>\n",
       "      <td>-1.035231</td>\n",
       "      <td>-1.014178</td>\n",
       "      <td>-1.013691</td>\n",
       "      <td>-1.006460</td>\n",
       "      <td>-1.013810</td>\n",
       "      <td>-1.014105</td>\n",
       "      <td>-1.013650</td>\n",
       "      <td>-1.002896</td>\n",
       "    </tr>\n",
       "    <tr>\n",
       "      <th>50%</th>\n",
       "      <td>22.000000</td>\n",
       "      <td>12.000000</td>\n",
       "      <td>0.054970</td>\n",
       "      <td>0.041406</td>\n",
       "      <td>0.041260</td>\n",
       "      <td>0.027054</td>\n",
       "      <td>0.026858</td>\n",
       "      <td>0.041003</td>\n",
       "      <td>0.041127</td>\n",
       "      <td>0.041494</td>\n",
       "      <td>...</td>\n",
       "      <td>0.026876</td>\n",
       "      <td>0.027226</td>\n",
       "      <td>0.027085</td>\n",
       "      <td>0.041288</td>\n",
       "      <td>0.041658</td>\n",
       "      <td>0.055825</td>\n",
       "      <td>0.041627</td>\n",
       "      <td>0.041462</td>\n",
       "      <td>0.041760</td>\n",
       "      <td>0.136126</td>\n",
       "    </tr>\n",
       "    <tr>\n",
       "      <th>75%</th>\n",
       "      <td>27.000000</td>\n",
       "      <td>18.000000</td>\n",
       "      <td>0.973971</td>\n",
       "      <td>0.967072</td>\n",
       "      <td>0.966793</td>\n",
       "      <td>0.966645</td>\n",
       "      <td>0.966439</td>\n",
       "      <td>0.966728</td>\n",
       "      <td>0.973875</td>\n",
       "      <td>0.974487</td>\n",
       "      <td>...</td>\n",
       "      <td>1.004898</td>\n",
       "      <td>1.012637</td>\n",
       "      <td>1.012523</td>\n",
       "      <td>1.033845</td>\n",
       "      <td>1.013139</td>\n",
       "      <td>1.013279</td>\n",
       "      <td>1.013187</td>\n",
       "      <td>1.013143</td>\n",
       "      <td>1.013296</td>\n",
       "      <td>1.176956</td>\n",
       "    </tr>\n",
       "    <tr>\n",
       "      <th>max</th>\n",
       "      <td>31.000000</td>\n",
       "      <td>23.000000</td>\n",
       "      <td>5.251126</td>\n",
       "      <td>5.250003</td>\n",
       "      <td>5.249113</td>\n",
       "      <td>5.250074</td>\n",
       "      <td>5.249822</td>\n",
       "      <td>5.249935</td>\n",
       "      <td>5.250700</td>\n",
       "      <td>5.252429</td>\n",
       "      <td>...</td>\n",
       "      <td>5.308199</td>\n",
       "      <td>5.310703</td>\n",
       "      <td>5.310710</td>\n",
       "      <td>5.311628</td>\n",
       "      <td>5.311418</td>\n",
       "      <td>5.311339</td>\n",
       "      <td>5.311819</td>\n",
       "      <td>5.312305</td>\n",
       "      <td>5.311818</td>\n",
       "      <td>7.245193</td>\n",
       "    </tr>\n",
       "  </tbody>\n",
       "</table>\n",
       "<p>8 rows × 27 columns</p>\n",
       "</div>"
      ],
      "text/plain": [
       "              day        hour       lag_1       lag_2       lag_3       lag_4  \\\n",
       "count  440.000000  440.000000  440.000000  440.000000  440.000000  440.000000   \n",
       "mean    22.327273   11.645455    0.007293    0.002470    0.003711   -0.001083   \n",
       "std      5.301152    6.956535    1.631946    1.629500    1.629640    1.631336   \n",
       "min     13.000000    0.000000   -6.578419   -6.576414   -6.575614   -6.577716   \n",
       "25%     18.000000    6.000000   -1.002226   -1.001695   -1.001692   -1.023076   \n",
       "50%     22.000000   12.000000    0.054970    0.041406    0.041260    0.027054   \n",
       "75%     27.000000   18.000000    0.973971    0.967072    0.966793    0.966645   \n",
       "max     31.000000   23.000000    5.251126    5.250003    5.249113    5.250074   \n",
       "\n",
       "            lag_5       lag_6       lag_7       lag_8  ...      lag_16  \\\n",
       "count  440.000000  440.000000  440.000000  440.000000  ...  440.000000   \n",
       "mean     0.002427    0.004577    0.006329    0.004866  ...   -0.009896   \n",
       "std      1.628702    1.628770    1.629881    1.628253  ...    1.696421   \n",
       "min     -6.577841   -6.577242   -6.577934   -6.579296  ...   -7.517872   \n",
       "25%     -1.002535   -1.002165   -1.002170   -1.002075  ...   -1.041964   \n",
       "50%      0.026858    0.041003    0.041127    0.041494  ...    0.026876   \n",
       "75%      0.966439    0.966728    0.973875    0.974487  ...    1.004898   \n",
       "max      5.249822    5.249935    5.250700    5.252429  ...    5.308199   \n",
       "\n",
       "           lag_17      lag_18      lag_19      lag_20      lag_21      lag_22  \\\n",
       "count  440.000000  440.000000  440.000000  440.000000  440.000000  440.000000   \n",
       "mean    -0.006002   -0.004492    0.010151    0.000804    0.009572    0.004708   \n",
       "std      1.699417    1.698651    1.680543    1.665331    1.656029    1.656309   \n",
       "min     -7.520599   -7.520949   -7.521720   -7.520516   -7.519943   -7.521170   \n",
       "25%     -1.042049   -1.035231   -1.014178   -1.013691   -1.006460   -1.013810   \n",
       "50%      0.027226    0.027085    0.041288    0.041658    0.055825    0.041627   \n",
       "75%      1.012637    1.012523    1.033845    1.013139    1.013279    1.013187   \n",
       "max      5.310703    5.310710    5.311628    5.311418    5.311339    5.311819   \n",
       "\n",
       "           lag_23      lag_24  rolling_mean  \n",
       "count  440.000000  440.000000    440.000000  \n",
       "mean     0.007335    0.005987      0.010530  \n",
       "std      1.653662    1.652947      1.739620  \n",
       "min     -7.522269   -7.520844     -8.210154  \n",
       "25%     -1.014105   -1.013650     -1.002896  \n",
       "50%      0.041462    0.041760      0.136126  \n",
       "75%      1.013143    1.013296      1.176956  \n",
       "max      5.312305    5.311818      7.245193  \n",
       "\n",
       "[8 rows x 27 columns]"
      ]
     },
     "execution_count": 43,
     "metadata": {},
     "output_type": "execute_result"
    }
   ],
   "source": [
    "features_test.describe()"
   ]
  },
  {
   "cell_type": "markdown",
   "metadata": {},
   "source": [
    "#### Преобразование категориальных признаков"
   ]
  },
  {
   "cell_type": "markdown",
   "metadata": {},
   "source": [
    "Категориальные данные будем преобразовывать с помощью OneHotEncoder - подойдет для регрессии. Для древовидных алгоритмов кодирование применять не будем, так как категориальные поля имеют числовые значения, то есть древовидные алгоритмы могут с ними работать."
   ]
  },
  {
   "cell_type": "markdown",
   "metadata": {},
   "source": [
    "Сделаем копию признаков, которые мы будем преобразовывать."
   ]
  },
  {
   "cell_type": "code",
   "execution_count": 44,
   "metadata": {},
   "outputs": [],
   "source": [
    "# делааем копию признаков выборок\n",
    "features_train_ohe = features_train.copy(deep=True)\n",
    "features_test_ohe = features_test.copy(deep=True)"
   ]
  },
  {
   "cell_type": "markdown",
   "metadata": {},
   "source": [
    "Определим набор категориальных признаков."
   ]
  },
  {
   "cell_type": "code",
   "execution_count": 45,
   "metadata": {},
   "outputs": [
    {
     "data": {
      "text/plain": [
       "['day', 'hour']"
      ]
     },
     "execution_count": 45,
     "metadata": {},
     "output_type": "execute_result"
    }
   ],
   "source": [
    "# создаем список с категориальными признаками\n",
    "features_cat = ['day', 'hour']\n",
    "features_cat"
   ]
  },
  {
   "cell_type": "markdown",
   "metadata": {},
   "source": [
    "Закодируем признаки из обучающей выборки."
   ]
  },
  {
   "cell_type": "code",
   "execution_count": 46,
   "metadata": {},
   "outputs": [
    {
     "data": {
      "text/html": [
       "<div>\n",
       "<style scoped>\n",
       "    .dataframe tbody tr th:only-of-type {\n",
       "        vertical-align: middle;\n",
       "    }\n",
       "\n",
       "    .dataframe tbody tr th {\n",
       "        vertical-align: top;\n",
       "    }\n",
       "\n",
       "    .dataframe thead th {\n",
       "        text-align: right;\n",
       "    }\n",
       "</style>\n",
       "<table border=\"1\" class=\"dataframe\">\n",
       "  <thead>\n",
       "    <tr style=\"text-align: right;\">\n",
       "      <th></th>\n",
       "      <th>lag_1</th>\n",
       "      <th>lag_2</th>\n",
       "      <th>lag_3</th>\n",
       "      <th>lag_4</th>\n",
       "      <th>lag_5</th>\n",
       "      <th>lag_6</th>\n",
       "      <th>lag_7</th>\n",
       "      <th>lag_8</th>\n",
       "      <th>lag_9</th>\n",
       "      <th>lag_10</th>\n",
       "      <th>...</th>\n",
       "      <th>x1_14</th>\n",
       "      <th>x1_15</th>\n",
       "      <th>x1_16</th>\n",
       "      <th>x1_17</th>\n",
       "      <th>x1_18</th>\n",
       "      <th>x1_19</th>\n",
       "      <th>x1_20</th>\n",
       "      <th>x1_21</th>\n",
       "      <th>x1_22</th>\n",
       "      <th>x1_23</th>\n",
       "    </tr>\n",
       "    <tr>\n",
       "      <th>datetime</th>\n",
       "      <th></th>\n",
       "      <th></th>\n",
       "      <th></th>\n",
       "      <th></th>\n",
       "      <th></th>\n",
       "      <th></th>\n",
       "      <th></th>\n",
       "      <th></th>\n",
       "      <th></th>\n",
       "      <th></th>\n",
       "      <th></th>\n",
       "      <th></th>\n",
       "      <th></th>\n",
       "      <th></th>\n",
       "      <th></th>\n",
       "      <th></th>\n",
       "      <th></th>\n",
       "      <th></th>\n",
       "      <th></th>\n",
       "      <th></th>\n",
       "      <th></th>\n",
       "    </tr>\n",
       "  </thead>\n",
       "  <tbody>\n",
       "    <tr>\n",
       "      <th>2018-03-02 01:00:00</th>\n",
       "      <td>0.884144</td>\n",
       "      <td>-1.519792</td>\n",
       "      <td>1.298328</td>\n",
       "      <td>0.137595</td>\n",
       "      <td>0.441379</td>\n",
       "      <td>-0.774188</td>\n",
       "      <td>0.801144</td>\n",
       "      <td>0.027672</td>\n",
       "      <td>-0.635829</td>\n",
       "      <td>0.497359</td>\n",
       "      <td>...</td>\n",
       "      <td>0.0</td>\n",
       "      <td>0.0</td>\n",
       "      <td>0.0</td>\n",
       "      <td>0.0</td>\n",
       "      <td>0.0</td>\n",
       "      <td>0.0</td>\n",
       "      <td>0.0</td>\n",
       "      <td>0.0</td>\n",
       "      <td>0.0</td>\n",
       "      <td>0.0</td>\n",
       "    </tr>\n",
       "    <tr>\n",
       "      <th>2018-03-02 02:00:00</th>\n",
       "      <td>0.828866</td>\n",
       "      <td>0.884176</td>\n",
       "      <td>-1.519714</td>\n",
       "      <td>1.298265</td>\n",
       "      <td>0.137397</td>\n",
       "      <td>0.441690</td>\n",
       "      <td>-0.774165</td>\n",
       "      <td>0.801710</td>\n",
       "      <td>0.027645</td>\n",
       "      <td>-0.636072</td>\n",
       "      <td>...</td>\n",
       "      <td>0.0</td>\n",
       "      <td>0.0</td>\n",
       "      <td>0.0</td>\n",
       "      <td>0.0</td>\n",
       "      <td>0.0</td>\n",
       "      <td>0.0</td>\n",
       "      <td>0.0</td>\n",
       "      <td>0.0</td>\n",
       "      <td>0.0</td>\n",
       "      <td>0.0</td>\n",
       "    </tr>\n",
       "    <tr>\n",
       "      <th>2018-03-02 03:00:00</th>\n",
       "      <td>-1.244068</td>\n",
       "      <td>0.828912</td>\n",
       "      <td>0.883910</td>\n",
       "      <td>-1.520507</td>\n",
       "      <td>1.298056</td>\n",
       "      <td>0.137720</td>\n",
       "      <td>0.441863</td>\n",
       "      <td>-0.774010</td>\n",
       "      <td>0.801698</td>\n",
       "      <td>0.027400</td>\n",
       "      <td>...</td>\n",
       "      <td>0.0</td>\n",
       "      <td>0.0</td>\n",
       "      <td>0.0</td>\n",
       "      <td>0.0</td>\n",
       "      <td>0.0</td>\n",
       "      <td>0.0</td>\n",
       "      <td>0.0</td>\n",
       "      <td>0.0</td>\n",
       "      <td>0.0</td>\n",
       "      <td>0.0</td>\n",
       "    </tr>\n",
       "    <tr>\n",
       "      <th>2018-03-02 04:00:00</th>\n",
       "      <td>-0.304338</td>\n",
       "      <td>-1.243474</td>\n",
       "      <td>0.828654</td>\n",
       "      <td>0.883740</td>\n",
       "      <td>-1.520686</td>\n",
       "      <td>1.298331</td>\n",
       "      <td>0.137856</td>\n",
       "      <td>0.442335</td>\n",
       "      <td>-0.774053</td>\n",
       "      <td>0.801450</td>\n",
       "      <td>...</td>\n",
       "      <td>0.0</td>\n",
       "      <td>0.0</td>\n",
       "      <td>0.0</td>\n",
       "      <td>0.0</td>\n",
       "      <td>0.0</td>\n",
       "      <td>0.0</td>\n",
       "      <td>0.0</td>\n",
       "      <td>0.0</td>\n",
       "      <td>0.0</td>\n",
       "      <td>0.0</td>\n",
       "    </tr>\n",
       "    <tr>\n",
       "      <th>2018-03-02 05:00:00</th>\n",
       "      <td>-1.216429</td>\n",
       "      <td>-0.303992</td>\n",
       "      <td>-1.243436</td>\n",
       "      <td>0.828470</td>\n",
       "      <td>0.883535</td>\n",
       "      <td>-1.520295</td>\n",
       "      <td>1.298610</td>\n",
       "      <td>0.138249</td>\n",
       "      <td>0.442316</td>\n",
       "      <td>-0.774295</td>\n",
       "      <td>...</td>\n",
       "      <td>0.0</td>\n",
       "      <td>0.0</td>\n",
       "      <td>0.0</td>\n",
       "      <td>0.0</td>\n",
       "      <td>0.0</td>\n",
       "      <td>0.0</td>\n",
       "      <td>0.0</td>\n",
       "      <td>0.0</td>\n",
       "      <td>0.0</td>\n",
       "      <td>0.0</td>\n",
       "    </tr>\n",
       "  </tbody>\n",
       "</table>\n",
       "<p>5 rows × 78 columns</p>\n",
       "</div>"
      ],
      "text/plain": [
       "                        lag_1     lag_2     lag_3     lag_4     lag_5  \\\n",
       "datetime                                                                \n",
       "2018-03-02 01:00:00  0.884144 -1.519792  1.298328  0.137595  0.441379   \n",
       "2018-03-02 02:00:00  0.828866  0.884176 -1.519714  1.298265  0.137397   \n",
       "2018-03-02 03:00:00 -1.244068  0.828912  0.883910 -1.520507  1.298056   \n",
       "2018-03-02 04:00:00 -0.304338 -1.243474  0.828654  0.883740 -1.520686   \n",
       "2018-03-02 05:00:00 -1.216429 -0.303992 -1.243436  0.828470  0.883535   \n",
       "\n",
       "                        lag_6     lag_7     lag_8     lag_9    lag_10  ...  \\\n",
       "datetime                                                               ...   \n",
       "2018-03-02 01:00:00 -0.774188  0.801144  0.027672 -0.635829  0.497359  ...   \n",
       "2018-03-02 02:00:00  0.441690 -0.774165  0.801710  0.027645 -0.636072  ...   \n",
       "2018-03-02 03:00:00  0.137720  0.441863 -0.774010  0.801698  0.027400  ...   \n",
       "2018-03-02 04:00:00  1.298331  0.137856  0.442335 -0.774053  0.801450  ...   \n",
       "2018-03-02 05:00:00 -1.520295  1.298610  0.138249  0.442316 -0.774295  ...   \n",
       "\n",
       "                     x1_14  x1_15  x1_16  x1_17  x1_18  x1_19  x1_20  x1_21  \\\n",
       "datetime                                                                      \n",
       "2018-03-02 01:00:00    0.0    0.0    0.0    0.0    0.0    0.0    0.0    0.0   \n",
       "2018-03-02 02:00:00    0.0    0.0    0.0    0.0    0.0    0.0    0.0    0.0   \n",
       "2018-03-02 03:00:00    0.0    0.0    0.0    0.0    0.0    0.0    0.0    0.0   \n",
       "2018-03-02 04:00:00    0.0    0.0    0.0    0.0    0.0    0.0    0.0    0.0   \n",
       "2018-03-02 05:00:00    0.0    0.0    0.0    0.0    0.0    0.0    0.0    0.0   \n",
       "\n",
       "                     x1_22  x1_23  \n",
       "datetime                           \n",
       "2018-03-02 01:00:00    0.0    0.0  \n",
       "2018-03-02 02:00:00    0.0    0.0  \n",
       "2018-03-02 03:00:00    0.0    0.0  \n",
       "2018-03-02 04:00:00    0.0    0.0  \n",
       "2018-03-02 05:00:00    0.0    0.0  \n",
       "\n",
       "[5 rows x 78 columns]"
      ]
     },
     "execution_count": 46,
     "metadata": {},
     "output_type": "execute_result"
    }
   ],
   "source": [
    "# преобразование категориальных признаков в обучающей выборке\n",
    "ohe_encoder = OneHotEncoder(drop='first', sparse=False)\n",
    "\n",
    "train_temp = ohe_encoder.fit_transform(features_train_ohe[features_cat]) # обучили на трейне и сразу к нему применили\n",
    "features_train_ohe[ohe_encoder.get_feature_names()] = train_temp # вписали новые признаки\n",
    "features_train_ohe.drop(features_cat, axis=1, inplace=True) # удалили старые признаки\n",
    "features_train_ohe.head()"
   ]
  },
  {
   "cell_type": "markdown",
   "metadata": {},
   "source": [
    "Теперь применим энкодер к тестовой выборке."
   ]
  },
  {
   "cell_type": "code",
   "execution_count": 47,
   "metadata": {},
   "outputs": [
    {
     "data": {
      "text/html": [
       "<div>\n",
       "<style scoped>\n",
       "    .dataframe tbody tr th:only-of-type {\n",
       "        vertical-align: middle;\n",
       "    }\n",
       "\n",
       "    .dataframe tbody tr th {\n",
       "        vertical-align: top;\n",
       "    }\n",
       "\n",
       "    .dataframe thead th {\n",
       "        text-align: right;\n",
       "    }\n",
       "</style>\n",
       "<table border=\"1\" class=\"dataframe\">\n",
       "  <thead>\n",
       "    <tr style=\"text-align: right;\">\n",
       "      <th></th>\n",
       "      <th>lag_1</th>\n",
       "      <th>lag_2</th>\n",
       "      <th>lag_3</th>\n",
       "      <th>lag_4</th>\n",
       "      <th>lag_5</th>\n",
       "      <th>lag_6</th>\n",
       "      <th>lag_7</th>\n",
       "      <th>lag_8</th>\n",
       "      <th>lag_9</th>\n",
       "      <th>lag_10</th>\n",
       "      <th>...</th>\n",
       "      <th>x1_14</th>\n",
       "      <th>x1_15</th>\n",
       "      <th>x1_16</th>\n",
       "      <th>x1_17</th>\n",
       "      <th>x1_18</th>\n",
       "      <th>x1_19</th>\n",
       "      <th>x1_20</th>\n",
       "      <th>x1_21</th>\n",
       "      <th>x1_22</th>\n",
       "      <th>x1_23</th>\n",
       "    </tr>\n",
       "    <tr>\n",
       "      <th>datetime</th>\n",
       "      <th></th>\n",
       "      <th></th>\n",
       "      <th></th>\n",
       "      <th></th>\n",
       "      <th></th>\n",
       "      <th></th>\n",
       "      <th></th>\n",
       "      <th></th>\n",
       "      <th></th>\n",
       "      <th></th>\n",
       "      <th></th>\n",
       "      <th></th>\n",
       "      <th></th>\n",
       "      <th></th>\n",
       "      <th></th>\n",
       "      <th></th>\n",
       "      <th></th>\n",
       "      <th></th>\n",
       "      <th></th>\n",
       "      <th></th>\n",
       "      <th></th>\n",
       "    </tr>\n",
       "  </thead>\n",
       "  <tbody>\n",
       "    <tr>\n",
       "      <th>2018-08-13 16:00:00</th>\n",
       "      <td>2.017348</td>\n",
       "      <td>-0.469783</td>\n",
       "      <td>0.745771</td>\n",
       "      <td>-1.437602</td>\n",
       "      <td>-0.332393</td>\n",
       "      <td>0.524591</td>\n",
       "      <td>1.270973</td>\n",
       "      <td>1.437527</td>\n",
       "      <td>-0.746408</td>\n",
       "      <td>-0.470204</td>\n",
       "      <td>...</td>\n",
       "      <td>0.0</td>\n",
       "      <td>0.0</td>\n",
       "      <td>1.0</td>\n",
       "      <td>0.0</td>\n",
       "      <td>0.0</td>\n",
       "      <td>0.0</td>\n",
       "      <td>0.0</td>\n",
       "      <td>0.0</td>\n",
       "      <td>0.0</td>\n",
       "      <td>0.0</td>\n",
       "    </tr>\n",
       "    <tr>\n",
       "      <th>2018-08-13 17:00:00</th>\n",
       "      <td>-0.857121</td>\n",
       "      <td>2.017081</td>\n",
       "      <td>-0.469856</td>\n",
       "      <td>0.745565</td>\n",
       "      <td>-1.437782</td>\n",
       "      <td>-0.332051</td>\n",
       "      <td>0.524774</td>\n",
       "      <td>1.271662</td>\n",
       "      <td>1.437527</td>\n",
       "      <td>-0.746651</td>\n",
       "      <td>...</td>\n",
       "      <td>0.0</td>\n",
       "      <td>0.0</td>\n",
       "      <td>0.0</td>\n",
       "      <td>1.0</td>\n",
       "      <td>0.0</td>\n",
       "      <td>0.0</td>\n",
       "      <td>0.0</td>\n",
       "      <td>0.0</td>\n",
       "      <td>0.0</td>\n",
       "      <td>0.0</td>\n",
       "    </tr>\n",
       "    <tr>\n",
       "      <th>2018-08-13 18:00:00</th>\n",
       "      <td>0.220805</td>\n",
       "      <td>-0.856628</td>\n",
       "      <td>2.016652</td>\n",
       "      <td>-0.470376</td>\n",
       "      <td>0.745361</td>\n",
       "      <td>-1.437394</td>\n",
       "      <td>-0.331973</td>\n",
       "      <td>0.525268</td>\n",
       "      <td>1.271659</td>\n",
       "      <td>1.437277</td>\n",
       "      <td>...</td>\n",
       "      <td>0.0</td>\n",
       "      <td>0.0</td>\n",
       "      <td>0.0</td>\n",
       "      <td>0.0</td>\n",
       "      <td>1.0</td>\n",
       "      <td>0.0</td>\n",
       "      <td>0.0</td>\n",
       "      <td>0.0</td>\n",
       "      <td>0.0</td>\n",
       "      <td>0.0</td>\n",
       "    </tr>\n",
       "    <tr>\n",
       "      <th>2018-08-13 19:00:00</th>\n",
       "      <td>-1.326986</td>\n",
       "      <td>0.221013</td>\n",
       "      <td>-0.856646</td>\n",
       "      <td>2.016776</td>\n",
       "      <td>-0.470567</td>\n",
       "      <td>0.745659</td>\n",
       "      <td>-1.437453</td>\n",
       "      <td>-0.331703</td>\n",
       "      <td>0.525250</td>\n",
       "      <td>1.271409</td>\n",
       "      <td>...</td>\n",
       "      <td>0.0</td>\n",
       "      <td>0.0</td>\n",
       "      <td>0.0</td>\n",
       "      <td>0.0</td>\n",
       "      <td>0.0</td>\n",
       "      <td>1.0</td>\n",
       "      <td>0.0</td>\n",
       "      <td>0.0</td>\n",
       "      <td>0.0</td>\n",
       "      <td>0.0</td>\n",
       "    </tr>\n",
       "    <tr>\n",
       "      <th>2018-08-13 20:00:00</th>\n",
       "      <td>-0.359616</td>\n",
       "      <td>-1.326369</td>\n",
       "      <td>0.220841</td>\n",
       "      <td>-0.857266</td>\n",
       "      <td>2.016559</td>\n",
       "      <td>-0.470219</td>\n",
       "      <td>0.745870</td>\n",
       "      <td>-1.437471</td>\n",
       "      <td>-0.331737</td>\n",
       "      <td>0.525004</td>\n",
       "      <td>...</td>\n",
       "      <td>0.0</td>\n",
       "      <td>0.0</td>\n",
       "      <td>0.0</td>\n",
       "      <td>0.0</td>\n",
       "      <td>0.0</td>\n",
       "      <td>0.0</td>\n",
       "      <td>1.0</td>\n",
       "      <td>0.0</td>\n",
       "      <td>0.0</td>\n",
       "      <td>0.0</td>\n",
       "    </tr>\n",
       "  </tbody>\n",
       "</table>\n",
       "<p>5 rows × 78 columns</p>\n",
       "</div>"
      ],
      "text/plain": [
       "                        lag_1     lag_2     lag_3     lag_4     lag_5  \\\n",
       "datetime                                                                \n",
       "2018-08-13 16:00:00  2.017348 -0.469783  0.745771 -1.437602 -0.332393   \n",
       "2018-08-13 17:00:00 -0.857121  2.017081 -0.469856  0.745565 -1.437782   \n",
       "2018-08-13 18:00:00  0.220805 -0.856628  2.016652 -0.470376  0.745361   \n",
       "2018-08-13 19:00:00 -1.326986  0.221013 -0.856646  2.016776 -0.470567   \n",
       "2018-08-13 20:00:00 -0.359616 -1.326369  0.220841 -0.857266  2.016559   \n",
       "\n",
       "                        lag_6     lag_7     lag_8     lag_9    lag_10  ...  \\\n",
       "datetime                                                               ...   \n",
       "2018-08-13 16:00:00  0.524591  1.270973  1.437527 -0.746408 -0.470204  ...   \n",
       "2018-08-13 17:00:00 -0.332051  0.524774  1.271662  1.437527 -0.746651  ...   \n",
       "2018-08-13 18:00:00 -1.437394 -0.331973  0.525268  1.271659  1.437277  ...   \n",
       "2018-08-13 19:00:00  0.745659 -1.437453 -0.331703  0.525250  1.271409  ...   \n",
       "2018-08-13 20:00:00 -0.470219  0.745870 -1.437471 -0.331737  0.525004  ...   \n",
       "\n",
       "                     x1_14  x1_15  x1_16  x1_17  x1_18  x1_19  x1_20  x1_21  \\\n",
       "datetime                                                                      \n",
       "2018-08-13 16:00:00    0.0    0.0    1.0    0.0    0.0    0.0    0.0    0.0   \n",
       "2018-08-13 17:00:00    0.0    0.0    0.0    1.0    0.0    0.0    0.0    0.0   \n",
       "2018-08-13 18:00:00    0.0    0.0    0.0    0.0    1.0    0.0    0.0    0.0   \n",
       "2018-08-13 19:00:00    0.0    0.0    0.0    0.0    0.0    1.0    0.0    0.0   \n",
       "2018-08-13 20:00:00    0.0    0.0    0.0    0.0    0.0    0.0    1.0    0.0   \n",
       "\n",
       "                     x1_22  x1_23  \n",
       "datetime                           \n",
       "2018-08-13 16:00:00    0.0    0.0  \n",
       "2018-08-13 17:00:00    0.0    0.0  \n",
       "2018-08-13 18:00:00    0.0    0.0  \n",
       "2018-08-13 19:00:00    0.0    0.0  \n",
       "2018-08-13 20:00:00    0.0    0.0  \n",
       "\n",
       "[5 rows x 78 columns]"
      ]
     },
     "execution_count": 47,
     "metadata": {},
     "output_type": "execute_result"
    }
   ],
   "source": [
    "# преобразование категориальных признаков в тестовой выборке\n",
    "test_temp = ohe_encoder.transform(features_test_ohe[features_cat]) # обученный энкодер применили к тест. выборке\n",
    "features_test_ohe[ohe_encoder.get_feature_names()] = test_temp # вписали новые признаки\n",
    "features_test_ohe.drop(features_cat, axis=1, inplace=True) # удалили старые признаки\n",
    "\n",
    "features_test_ohe.head()"
   ]
  },
  {
   "cell_type": "markdown",
   "metadata": {},
   "source": [
    "**Выводы:** \n",
    "1. Были добавлены новые признаки: календарные признаки (день и час), «отстающие значения», скользящее среднее.\n",
    "2. Среди новых признаков есть некоторый разброс значений - требуется масштабирование признаков.\n",
    "3. Данные были поделены на обучающую и тестовую выборки (для тестовоц выборки 10%).\n",
    "4. Для численных признаков была проведена стандартизация данных с помощью StandardScaler.\n",
    "5. Категориальные признаки были преобразованы с помощью OneHotEncoder."
   ]
  },
  {
   "cell_type": "markdown",
   "metadata": {},
   "source": [
    "### Обучение моделей"
   ]
  },
  {
   "cell_type": "markdown",
   "metadata": {},
   "source": [
    "Так как данные мы разделили только на 2 выборки, то подбирать гиперпараметры и проверять качество модели будем кросс-валидацией с использоваием GridSearchCV. Чтобы при делении на фолды данные не перетасовывались, воспользуемся TimeSeriesSplit."
   ]
  },
  {
   "cell_type": "markdown",
   "metadata": {},
   "source": [
    "#### LinearRegression"
   ]
  },
  {
   "cell_type": "markdown",
   "metadata": {},
   "source": [
    "Обучим модель линейной регрессии и посчитаем метрику RMSE."
   ]
  },
  {
   "cell_type": "code",
   "execution_count": 48,
   "metadata": {},
   "outputs": [
    {
     "name": "stdout",
     "output_type": "stream",
     "text": [
      "Fitting 3 folds for each of 1 candidates, totalling 3 fits\n",
      "[CV 1/3] END ................................................ total time=   0.1s\n",
      "[CV 2/3] END ................................................ total time=   0.2s\n",
      "[CV 3/3] END ................................................ total time=   0.3s\n"
     ]
    },
    {
     "data": {
      "text/plain": [
       "26.05787078382509"
      ]
     },
     "metadata": {},
     "output_type": "display_data"
    },
    {
     "name": "stdout",
     "output_type": "stream",
     "text": [
      "CPU times: user 398 ms, sys: 521 ms, total: 919 ms\n",
      "Wall time: 903 ms\n"
     ]
    }
   ],
   "source": [
    "%%time\n",
    "# инициализация параметров для GridSearchCV\n",
    "params_lr = {}\n",
    "\n",
    "model_lr = LinearRegression()\n",
    "tscv = TimeSeriesSplit(n_splits=3)\n",
    "# создаем экземпляр GridSearchCV\n",
    "grid_model_lr=GridSearchCV(estimator=model_lr,\n",
    "                          param_grid=params_lr,\n",
    "                          scoring='neg_root_mean_squared_error',\n",
    "                          cv=tscv,\n",
    "                          verbose=3)\n",
    "# запускаем обучение\n",
    "grid_model_lr.fit(features_train_ohe, target_train)\n",
    "# выводим на экран метрику RMSE\n",
    "display(grid_model_lr.best_score_*-1)"
   ]
  },
  {
   "cell_type": "markdown",
   "metadata": {},
   "source": [
    "#### DecisionTreeRegressor"
   ]
  },
  {
   "cell_type": "markdown",
   "metadata": {},
   "source": [
    "Обучим модели дерево решений, при этом меняя гиперпараметр  - `max_depth` - глубина дерева. Переберем значения от 1 до 15."
   ]
  },
  {
   "cell_type": "code",
   "execution_count": 49,
   "metadata": {},
   "outputs": [
    {
     "name": "stdout",
     "output_type": "stream",
     "text": [
      "Fitting 3 folds for each of 15 candidates, totalling 45 fits\n",
      "[CV 1/3] END ....................................max_depth=1; total time=   0.0s\n",
      "[CV 2/3] END ....................................max_depth=1; total time=   0.0s\n",
      "[CV 3/3] END ....................................max_depth=1; total time=   0.0s\n",
      "[CV 1/3] END ....................................max_depth=2; total time=   0.0s\n",
      "[CV 2/3] END ....................................max_depth=2; total time=   0.0s\n",
      "[CV 3/3] END ....................................max_depth=2; total time=   0.0s\n",
      "[CV 1/3] END ....................................max_depth=3; total time=   0.0s\n",
      "[CV 2/3] END ....................................max_depth=3; total time=   0.0s\n",
      "[CV 3/3] END ....................................max_depth=3; total time=   0.0s\n",
      "[CV 1/3] END ....................................max_depth=4; total time=   0.0s\n",
      "[CV 2/3] END ....................................max_depth=4; total time=   0.0s\n",
      "[CV 3/3] END ....................................max_depth=4; total time=   0.0s\n",
      "[CV 1/3] END ....................................max_depth=5; total time=   0.0s\n",
      "[CV 2/3] END ....................................max_depth=5; total time=   0.0s\n",
      "[CV 3/3] END ....................................max_depth=5; total time=   0.0s\n",
      "[CV 1/3] END ....................................max_depth=6; total time=   0.0s\n",
      "[CV 2/3] END ....................................max_depth=6; total time=   0.0s\n",
      "[CV 3/3] END ....................................max_depth=6; total time=   0.0s\n",
      "[CV 1/3] END ....................................max_depth=7; total time=   0.0s\n",
      "[CV 2/3] END ....................................max_depth=7; total time=   0.0s\n",
      "[CV 3/3] END ....................................max_depth=7; total time=   0.0s\n",
      "[CV 1/3] END ....................................max_depth=8; total time=   0.0s\n",
      "[CV 2/3] END ....................................max_depth=8; total time=   0.0s\n",
      "[CV 3/3] END ....................................max_depth=8; total time=   0.0s\n",
      "[CV 1/3] END ....................................max_depth=9; total time=   0.0s\n",
      "[CV 2/3] END ....................................max_depth=9; total time=   0.0s\n",
      "[CV 3/3] END ....................................max_depth=9; total time=   0.1s\n",
      "[CV 1/3] END ...................................max_depth=10; total time=   0.0s\n",
      "[CV 2/3] END ...................................max_depth=10; total time=   0.0s\n",
      "[CV 3/3] END ...................................max_depth=10; total time=   0.1s\n",
      "[CV 1/3] END ...................................max_depth=11; total time=   0.0s\n",
      "[CV 2/3] END ...................................max_depth=11; total time=   0.0s\n",
      "[CV 3/3] END ...................................max_depth=11; total time=   0.1s\n",
      "[CV 1/3] END ...................................max_depth=12; total time=   0.0s\n",
      "[CV 2/3] END ...................................max_depth=12; total time=   0.0s\n",
      "[CV 3/3] END ...................................max_depth=12; total time=   0.1s\n",
      "[CV 1/3] END ...................................max_depth=13; total time=   0.0s\n",
      "[CV 2/3] END ...................................max_depth=13; total time=   0.0s\n",
      "[CV 3/3] END ...................................max_depth=13; total time=   0.1s\n",
      "[CV 1/3] END ...................................max_depth=14; total time=   0.0s\n",
      "[CV 2/3] END ...................................max_depth=14; total time=   0.0s\n",
      "[CV 3/3] END ...................................max_depth=14; total time=   0.1s\n",
      "[CV 1/3] END ...................................max_depth=15; total time=   0.0s\n",
      "[CV 2/3] END ...................................max_depth=15; total time=   0.0s\n",
      "[CV 3/3] END ...................................max_depth=15; total time=   0.1s\n"
     ]
    },
    {
     "data": {
      "text/plain": [
       "{'max_depth': 5}"
      ]
     },
     "metadata": {},
     "output_type": "display_data"
    },
    {
     "data": {
      "text/plain": [
       "32.63764604239923"
      ]
     },
     "metadata": {},
     "output_type": "display_data"
    },
    {
     "name": "stdout",
     "output_type": "stream",
     "text": [
      "CPU times: user 1.41 s, sys: 49.1 ms, total: 1.46 s\n",
      "Wall time: 1.48 s\n"
     ]
    }
   ],
   "source": [
    "%%time\n",
    "# инициализация параметров для GridSearchCV\n",
    "params_dt = {\"max_depth\": range(1,16)}\n",
    "\n",
    "model_dt = DecisionTreeRegressor(random_state=MY_RANDOM_STATE)\n",
    "tscv = TimeSeriesSplit(n_splits=3)\n",
    "# создаем экземпляр GridSearchCV\n",
    "grid_model_dt=GridSearchCV(estimator=model_dt,\n",
    "                          param_grid=params_dt,\n",
    "                          scoring='neg_root_mean_squared_error',\n",
    "                          cv=tscv,\n",
    "                          verbose=3)\n",
    "# запускаем обучение\n",
    "grid_model_dt.fit(features_train, target_train)\n",
    "# выводим на экран наилучшие гиперпараметры и метрику RMSE\n",
    "display(grid_model_dt.best_params_)\n",
    "display(grid_model_dt.best_score_*-1)"
   ]
  },
  {
   "cell_type": "markdown",
   "metadata": {},
   "source": [
    "#### RandomForestRegressor"
   ]
  },
  {
   "cell_type": "markdown",
   "metadata": {},
   "source": [
    "Подберем оптимальные гиперпараметры для модели случайного леса, будем менять гиперпараметры следующим образом:\n",
    "\n",
    "    - с количеством деревьев: от 10 до 100 с шагом 10 (n_estimators),\n",
    "    - с максимальной глубиной: от 1 до 15 (max_depth)."
   ]
  },
  {
   "cell_type": "code",
   "execution_count": 50,
   "metadata": {
    "scrolled": true
   },
   "outputs": [
    {
     "name": "stdout",
     "output_type": "stream",
     "text": [
      "Fitting 3 folds for each of 150 candidates, totalling 450 fits\n",
      "[CV 1/3] END ...................max_depth=1, n_estimators=10; total time=   0.0s\n",
      "[CV 2/3] END ...................max_depth=1, n_estimators=10; total time=   0.0s\n",
      "[CV 3/3] END ...................max_depth=1, n_estimators=10; total time=   0.1s\n",
      "[CV 1/3] END ...................max_depth=1, n_estimators=20; total time=   0.1s\n",
      "[CV 2/3] END ...................max_depth=1, n_estimators=20; total time=   0.1s\n",
      "[CV 3/3] END ...................max_depth=1, n_estimators=20; total time=   0.1s\n",
      "[CV 1/3] END ...................max_depth=1, n_estimators=30; total time=   0.1s\n",
      "[CV 2/3] END ...................max_depth=1, n_estimators=30; total time=   0.1s\n",
      "[CV 3/3] END ...................max_depth=1, n_estimators=30; total time=   0.1s\n",
      "[CV 1/3] END ...................max_depth=1, n_estimators=40; total time=   0.1s\n",
      "[CV 2/3] END ...................max_depth=1, n_estimators=40; total time=   0.1s\n",
      "[CV 3/3] END ...................max_depth=1, n_estimators=40; total time=   0.2s\n",
      "[CV 1/3] END ...................max_depth=1, n_estimators=50; total time=   0.1s\n",
      "[CV 2/3] END ...................max_depth=1, n_estimators=50; total time=   0.2s\n",
      "[CV 3/3] END ...................max_depth=1, n_estimators=50; total time=   0.2s\n",
      "[CV 1/3] END ...................max_depth=1, n_estimators=60; total time=   0.1s\n",
      "[CV 2/3] END ...................max_depth=1, n_estimators=60; total time=   0.2s\n",
      "[CV 3/3] END ...................max_depth=1, n_estimators=60; total time=   0.2s\n",
      "[CV 1/3] END ...................max_depth=1, n_estimators=70; total time=   0.2s\n",
      "[CV 2/3] END ...................max_depth=1, n_estimators=70; total time=   0.2s\n",
      "[CV 3/3] END ...................max_depth=1, n_estimators=70; total time=   0.3s\n",
      "[CV 1/3] END ...................max_depth=1, n_estimators=80; total time=   0.2s\n",
      "[CV 2/3] END ...................max_depth=1, n_estimators=80; total time=   0.2s\n",
      "[CV 3/3] END ...................max_depth=1, n_estimators=80; total time=   0.3s\n",
      "[CV 1/3] END ...................max_depth=1, n_estimators=90; total time=   0.2s\n",
      "[CV 2/3] END ...................max_depth=1, n_estimators=90; total time=   0.3s\n",
      "[CV 3/3] END ...................max_depth=1, n_estimators=90; total time=   0.4s\n",
      "[CV 1/3] END ..................max_depth=1, n_estimators=100; total time=   0.2s\n",
      "[CV 2/3] END ..................max_depth=1, n_estimators=100; total time=   0.3s\n",
      "[CV 3/3] END ..................max_depth=1, n_estimators=100; total time=   0.4s\n",
      "[CV 1/3] END ...................max_depth=2, n_estimators=10; total time=   0.0s\n",
      "[CV 2/3] END ...................max_depth=2, n_estimators=10; total time=   0.1s\n",
      "[CV 3/3] END ...................max_depth=2, n_estimators=10; total time=   0.1s\n",
      "[CV 1/3] END ...................max_depth=2, n_estimators=20; total time=   0.1s\n",
      "[CV 2/3] END ...................max_depth=2, n_estimators=20; total time=   0.1s\n",
      "[CV 3/3] END ...................max_depth=2, n_estimators=20; total time=   0.1s\n",
      "[CV 1/3] END ...................max_depth=2, n_estimators=30; total time=   0.1s\n",
      "[CV 2/3] END ...................max_depth=2, n_estimators=30; total time=   0.2s\n",
      "[CV 3/3] END ...................max_depth=2, n_estimators=30; total time=   0.2s\n",
      "[CV 1/3] END ...................max_depth=2, n_estimators=40; total time=   0.1s\n",
      "[CV 2/3] END ...................max_depth=2, n_estimators=40; total time=   0.2s\n",
      "[CV 3/3] END ...................max_depth=2, n_estimators=40; total time=   0.3s\n",
      "[CV 1/3] END ...................max_depth=2, n_estimators=50; total time=   0.2s\n",
      "[CV 2/3] END ...................max_depth=2, n_estimators=50; total time=   0.3s\n",
      "[CV 3/3] END ...................max_depth=2, n_estimators=50; total time=   0.4s\n",
      "[CV 1/3] END ...................max_depth=2, n_estimators=60; total time=   0.2s\n",
      "[CV 2/3] END ...................max_depth=2, n_estimators=60; total time=   0.3s\n",
      "[CV 3/3] END ...................max_depth=2, n_estimators=60; total time=   0.4s\n",
      "[CV 1/3] END ...................max_depth=2, n_estimators=70; total time=   0.2s\n",
      "[CV 2/3] END ...................max_depth=2, n_estimators=70; total time=   0.3s\n",
      "[CV 3/3] END ...................max_depth=2, n_estimators=70; total time=   0.5s\n",
      "[CV 1/3] END ...................max_depth=2, n_estimators=80; total time=   0.2s\n",
      "[CV 2/3] END ...................max_depth=2, n_estimators=80; total time=   0.4s\n",
      "[CV 3/3] END ...................max_depth=2, n_estimators=80; total time=   0.6s\n",
      "[CV 1/3] END ...................max_depth=2, n_estimators=90; total time=   0.3s\n",
      "[CV 2/3] END ...................max_depth=2, n_estimators=90; total time=   0.5s\n",
      "[CV 3/3] END ...................max_depth=2, n_estimators=90; total time=   0.6s\n",
      "[CV 1/3] END ..................max_depth=2, n_estimators=100; total time=   0.3s\n",
      "[CV 2/3] END ..................max_depth=2, n_estimators=100; total time=   0.6s\n",
      "[CV 3/3] END ..................max_depth=2, n_estimators=100; total time=   0.7s\n",
      "[CV 1/3] END ...................max_depth=3, n_estimators=10; total time=   0.1s\n",
      "[CV 2/3] END ...................max_depth=3, n_estimators=10; total time=   0.1s\n",
      "[CV 3/3] END ...................max_depth=3, n_estimators=10; total time=   0.1s\n",
      "[CV 1/3] END ...................max_depth=3, n_estimators=20; total time=   0.1s\n",
      "[CV 2/3] END ...................max_depth=3, n_estimators=20; total time=   0.1s\n",
      "[CV 3/3] END ...................max_depth=3, n_estimators=20; total time=   0.2s\n",
      "[CV 1/3] END ...................max_depth=3, n_estimators=30; total time=   0.1s\n",
      "[CV 2/3] END ...................max_depth=3, n_estimators=30; total time=   0.2s\n",
      "[CV 3/3] END ...................max_depth=3, n_estimators=30; total time=   0.3s\n",
      "[CV 1/3] END ...................max_depth=3, n_estimators=40; total time=   0.2s\n",
      "[CV 2/3] END ...................max_depth=3, n_estimators=40; total time=   0.3s\n",
      "[CV 3/3] END ...................max_depth=3, n_estimators=40; total time=   0.4s\n",
      "[CV 1/3] END ...................max_depth=3, n_estimators=50; total time=   0.2s\n",
      "[CV 2/3] END ...................max_depth=3, n_estimators=50; total time=   0.4s\n",
      "[CV 3/3] END ...................max_depth=3, n_estimators=50; total time=   0.5s\n",
      "[CV 1/3] END ...................max_depth=3, n_estimators=60; total time=   0.3s\n",
      "[CV 2/3] END ...................max_depth=3, n_estimators=60; total time=   0.5s\n",
      "[CV 3/3] END ...................max_depth=3, n_estimators=60; total time=   0.6s\n",
      "[CV 1/3] END ...................max_depth=3, n_estimators=70; total time=   0.3s\n",
      "[CV 2/3] END ...................max_depth=3, n_estimators=70; total time=   0.5s\n",
      "[CV 3/3] END ...................max_depth=3, n_estimators=70; total time=   0.7s\n",
      "[CV 1/3] END ...................max_depth=3, n_estimators=80; total time=   0.4s\n",
      "[CV 2/3] END ...................max_depth=3, n_estimators=80; total time=   0.6s\n",
      "[CV 3/3] END ...................max_depth=3, n_estimators=80; total time=   0.8s\n",
      "[CV 1/3] END ...................max_depth=3, n_estimators=90; total time=   0.4s\n",
      "[CV 2/3] END ...................max_depth=3, n_estimators=90; total time=   0.7s\n",
      "[CV 3/3] END ...................max_depth=3, n_estimators=90; total time=   0.9s\n",
      "[CV 1/3] END ..................max_depth=3, n_estimators=100; total time=   0.4s\n",
      "[CV 2/3] END ..................max_depth=3, n_estimators=100; total time=   0.7s\n",
      "[CV 3/3] END ..................max_depth=3, n_estimators=100; total time=   1.0s\n",
      "[CV 1/3] END ...................max_depth=4, n_estimators=10; total time=   0.1s\n",
      "[CV 2/3] END ...................max_depth=4, n_estimators=10; total time=   0.1s\n",
      "[CV 3/3] END ...................max_depth=4, n_estimators=10; total time=   0.1s\n",
      "[CV 1/3] END ...................max_depth=4, n_estimators=20; total time=   0.1s\n",
      "[CV 2/3] END ...................max_depth=4, n_estimators=20; total time=   0.2s\n",
      "[CV 3/3] END ...................max_depth=4, n_estimators=20; total time=   0.3s\n",
      "[CV 1/3] END ...................max_depth=4, n_estimators=30; total time=   0.2s\n",
      "[CV 2/3] END ...................max_depth=4, n_estimators=30; total time=   0.3s\n",
      "[CV 3/3] END ...................max_depth=4, n_estimators=30; total time=   0.4s\n",
      "[CV 1/3] END ...................max_depth=4, n_estimators=40; total time=   0.2s\n",
      "[CV 2/3] END ...................max_depth=4, n_estimators=40; total time=   0.4s\n",
      "[CV 3/3] END ...................max_depth=4, n_estimators=40; total time=   0.5s\n",
      "[CV 1/3] END ...................max_depth=4, n_estimators=50; total time=   0.3s\n",
      "[CV 2/3] END ...................max_depth=4, n_estimators=50; total time=   0.4s\n",
      "[CV 3/3] END ...................max_depth=4, n_estimators=50; total time=   0.6s\n",
      "[CV 1/3] END ...................max_depth=4, n_estimators=60; total time=   0.3s\n",
      "[CV 2/3] END ...................max_depth=4, n_estimators=60; total time=   0.5s\n",
      "[CV 3/3] END ...................max_depth=4, n_estimators=60; total time=   0.8s\n",
      "[CV 1/3] END ...................max_depth=4, n_estimators=70; total time=   0.4s\n",
      "[CV 2/3] END ...................max_depth=4, n_estimators=70; total time=   0.6s\n",
      "[CV 3/3] END ...................max_depth=4, n_estimators=70; total time=   0.9s\n",
      "[CV 1/3] END ...................max_depth=4, n_estimators=80; total time=   0.4s\n",
      "[CV 2/3] END ...................max_depth=4, n_estimators=80; total time=   0.7s\n",
      "[CV 3/3] END ...................max_depth=4, n_estimators=80; total time=   1.0s\n",
      "[CV 1/3] END ...................max_depth=4, n_estimators=90; total time=   0.5s\n",
      "[CV 2/3] END ...................max_depth=4, n_estimators=90; total time=   0.8s\n",
      "[CV 3/3] END ...................max_depth=4, n_estimators=90; total time=   1.2s\n",
      "[CV 1/3] END ..................max_depth=4, n_estimators=100; total time=   0.5s\n",
      "[CV 2/3] END ..................max_depth=4, n_estimators=100; total time=   0.9s\n",
      "[CV 3/3] END ..................max_depth=4, n_estimators=100; total time=   1.3s\n",
      "[CV 1/3] END ...................max_depth=5, n_estimators=10; total time=   0.1s\n",
      "[CV 2/3] END ...................max_depth=5, n_estimators=10; total time=   0.1s\n",
      "[CV 3/3] END ...................max_depth=5, n_estimators=10; total time=   0.2s\n",
      "[CV 1/3] END ...................max_depth=5, n_estimators=20; total time=   0.1s\n",
      "[CV 2/3] END ...................max_depth=5, n_estimators=20; total time=   0.2s\n",
      "[CV 3/3] END ...................max_depth=5, n_estimators=20; total time=   0.3s\n",
      "[CV 1/3] END ...................max_depth=5, n_estimators=30; total time=   0.2s\n",
      "[CV 2/3] END ...................max_depth=5, n_estimators=30; total time=   0.4s\n",
      "[CV 3/3] END ...................max_depth=5, n_estimators=30; total time=   0.5s\n",
      "[CV 1/3] END ...................max_depth=5, n_estimators=40; total time=   0.3s\n",
      "[CV 2/3] END ...................max_depth=5, n_estimators=40; total time=   0.5s\n",
      "[CV 3/3] END ...................max_depth=5, n_estimators=40; total time=   0.6s\n",
      "[CV 1/3] END ...................max_depth=5, n_estimators=50; total time=   0.3s\n",
      "[CV 2/3] END ...................max_depth=5, n_estimators=50; total time=   0.5s\n",
      "[CV 3/3] END ...................max_depth=5, n_estimators=50; total time=   0.8s\n",
      "[CV 1/3] END ...................max_depth=5, n_estimators=60; total time=   0.4s\n",
      "[CV 2/3] END ...................max_depth=5, n_estimators=60; total time=   0.7s\n",
      "[CV 3/3] END ...................max_depth=5, n_estimators=60; total time=   1.0s\n",
      "[CV 1/3] END ...................max_depth=5, n_estimators=70; total time=   0.4s\n",
      "[CV 2/3] END ...................max_depth=5, n_estimators=70; total time=   0.8s\n",
      "[CV 3/3] END ...................max_depth=5, n_estimators=70; total time=   1.1s\n",
      "[CV 1/3] END ...................max_depth=5, n_estimators=80; total time=   0.5s\n",
      "[CV 2/3] END ...................max_depth=5, n_estimators=80; total time=   0.9s\n",
      "[CV 3/3] END ...................max_depth=5, n_estimators=80; total time=   1.3s\n",
      "[CV 1/3] END ...................max_depth=5, n_estimators=90; total time=   0.6s\n",
      "[CV 2/3] END ...................max_depth=5, n_estimators=90; total time=   1.0s\n",
      "[CV 3/3] END ...................max_depth=5, n_estimators=90; total time=   1.4s\n",
      "[CV 1/3] END ..................max_depth=5, n_estimators=100; total time=   0.6s\n",
      "[CV 2/3] END ..................max_depth=5, n_estimators=100; total time=   1.1s\n",
      "[CV 3/3] END ..................max_depth=5, n_estimators=100; total time=   1.6s\n",
      "[CV 1/3] END ...................max_depth=6, n_estimators=10; total time=   0.1s\n",
      "[CV 2/3] END ...................max_depth=6, n_estimators=10; total time=   0.1s\n",
      "[CV 3/3] END ...................max_depth=6, n_estimators=10; total time=   0.2s\n",
      "[CV 1/3] END ...................max_depth=6, n_estimators=20; total time=   0.1s\n",
      "[CV 2/3] END ...................max_depth=6, n_estimators=20; total time=   0.3s\n",
      "[CV 3/3] END ...................max_depth=6, n_estimators=20; total time=   0.4s\n",
      "[CV 1/3] END ...................max_depth=6, n_estimators=30; total time=   0.2s\n",
      "[CV 2/3] END ...................max_depth=6, n_estimators=30; total time=   0.4s\n",
      "[CV 3/3] END ...................max_depth=6, n_estimators=30; total time=   0.6s\n",
      "[CV 1/3] END ...................max_depth=6, n_estimators=40; total time=   0.3s\n",
      "[CV 2/3] END ...................max_depth=6, n_estimators=40; total time=   0.5s\n",
      "[CV 3/3] END ...................max_depth=6, n_estimators=40; total time=   0.8s\n",
      "[CV 1/3] END ...................max_depth=6, n_estimators=50; total time=   0.4s\n",
      "[CV 2/3] END ...................max_depth=6, n_estimators=50; total time=   0.7s\n",
      "[CV 3/3] END ...................max_depth=6, n_estimators=50; total time=   0.9s\n",
      "[CV 1/3] END ...................max_depth=6, n_estimators=60; total time=   0.4s\n",
      "[CV 2/3] END ...................max_depth=6, n_estimators=60; total time=   0.8s\n",
      "[CV 3/3] END ...................max_depth=6, n_estimators=60; total time=   1.1s\n",
      "[CV 1/3] END ...................max_depth=6, n_estimators=70; total time=   0.5s\n",
      "[CV 2/3] END ...................max_depth=6, n_estimators=70; total time=   0.9s\n",
      "[CV 3/3] END ...................max_depth=6, n_estimators=70; total time=   1.4s\n",
      "[CV 1/3] END ...................max_depth=6, n_estimators=80; total time=   0.6s\n",
      "[CV 2/3] END ...................max_depth=6, n_estimators=80; total time=   1.0s\n",
      "[CV 3/3] END ...................max_depth=6, n_estimators=80; total time=   1.5s\n",
      "[CV 1/3] END ...................max_depth=6, n_estimators=90; total time=   0.6s\n",
      "[CV 2/3] END ...................max_depth=6, n_estimators=90; total time=   1.2s\n",
      "[CV 3/3] END ...................max_depth=6, n_estimators=90; total time=   1.7s\n",
      "[CV 1/3] END ..................max_depth=6, n_estimators=100; total time=   0.7s\n",
      "[CV 2/3] END ..................max_depth=6, n_estimators=100; total time=   1.3s\n",
      "[CV 3/3] END ..................max_depth=6, n_estimators=100; total time=   1.9s\n",
      "[CV 1/3] END ...................max_depth=7, n_estimators=10; total time=   0.1s\n",
      "[CV 2/3] END ...................max_depth=7, n_estimators=10; total time=   0.2s\n",
      "[CV 3/3] END ...................max_depth=7, n_estimators=10; total time=   0.2s\n",
      "[CV 1/3] END ...................max_depth=7, n_estimators=20; total time=   0.2s\n",
      "[CV 2/3] END ...................max_depth=7, n_estimators=20; total time=   0.3s\n",
      "[CV 3/3] END ...................max_depth=7, n_estimators=20; total time=   0.4s\n",
      "[CV 1/3] END ...................max_depth=7, n_estimators=30; total time=   0.3s\n",
      "[CV 2/3] END ...................max_depth=7, n_estimators=30; total time=   0.5s\n",
      "[CV 3/3] END ...................max_depth=7, n_estimators=30; total time=   0.7s\n",
      "[CV 1/3] END ...................max_depth=7, n_estimators=40; total time=   0.3s\n",
      "[CV 2/3] END ...................max_depth=7, n_estimators=40; total time=   0.6s\n",
      "[CV 3/3] END ...................max_depth=7, n_estimators=40; total time=   0.9s\n",
      "[CV 1/3] END ...................max_depth=7, n_estimators=50; total time=   0.4s\n",
      "[CV 2/3] END ...................max_depth=7, n_estimators=50; total time=   0.8s\n",
      "[CV 3/3] END ...................max_depth=7, n_estimators=50; total time=   1.1s\n",
      "[CV 1/3] END ...................max_depth=7, n_estimators=60; total time=   0.5s\n",
      "[CV 2/3] END ...................max_depth=7, n_estimators=60; total time=   0.9s\n",
      "[CV 3/3] END ...................max_depth=7, n_estimators=60; total time=   1.3s\n",
      "[CV 1/3] END ...................max_depth=7, n_estimators=70; total time=   0.6s\n",
      "[CV 2/3] END ...................max_depth=7, n_estimators=70; total time=   1.0s\n",
      "[CV 3/3] END ...................max_depth=7, n_estimators=70; total time=   1.5s\n",
      "[CV 1/3] END ...................max_depth=7, n_estimators=80; total time=   0.6s\n",
      "[CV 2/3] END ...................max_depth=7, n_estimators=80; total time=   1.2s\n",
      "[CV 3/3] END ...................max_depth=7, n_estimators=80; total time=   1.8s\n",
      "[CV 1/3] END ...................max_depth=7, n_estimators=90; total time=   0.8s\n",
      "[CV 2/3] END ...................max_depth=7, n_estimators=90; total time=   1.4s\n",
      "[CV 3/3] END ...................max_depth=7, n_estimators=90; total time=   1.9s\n",
      "[CV 1/3] END ..................max_depth=7, n_estimators=100; total time=   0.8s\n",
      "[CV 2/3] END ..................max_depth=7, n_estimators=100; total time=   1.5s\n",
      "[CV 3/3] END ..................max_depth=7, n_estimators=100; total time=   2.2s\n",
      "[CV 1/3] END ...................max_depth=8, n_estimators=10; total time=   0.1s\n",
      "[CV 2/3] END ...................max_depth=8, n_estimators=10; total time=   0.3s\n",
      "[CV 3/3] END ...................max_depth=8, n_estimators=10; total time=   0.6s\n",
      "[CV 1/3] END ...................max_depth=8, n_estimators=20; total time=   0.3s\n",
      "[CV 2/3] END ...................max_depth=8, n_estimators=20; total time=   0.7s\n",
      "[CV 3/3] END ...................max_depth=8, n_estimators=20; total time=   0.6s\n",
      "[CV 1/3] END ...................max_depth=8, n_estimators=30; total time=   0.3s\n",
      "[CV 2/3] END ...................max_depth=8, n_estimators=30; total time=   0.5s\n",
      "[CV 3/3] END ...................max_depth=8, n_estimators=30; total time=   0.8s\n",
      "[CV 1/3] END ...................max_depth=8, n_estimators=40; total time=   0.4s\n",
      "[CV 2/3] END ...................max_depth=8, n_estimators=40; total time=   0.7s\n",
      "[CV 3/3] END ...................max_depth=8, n_estimators=40; total time=   1.0s\n",
      "[CV 1/3] END ...................max_depth=8, n_estimators=50; total time=   0.5s\n",
      "[CV 2/3] END ...................max_depth=8, n_estimators=50; total time=   1.5s\n",
      "[CV 3/3] END ...................max_depth=8, n_estimators=50; total time=   1.6s\n",
      "[CV 1/3] END ...................max_depth=8, n_estimators=60; total time=   0.5s\n",
      "[CV 2/3] END ...................max_depth=8, n_estimators=60; total time=   1.0s\n",
      "[CV 3/3] END ...................max_depth=8, n_estimators=60; total time=   1.5s\n",
      "[CV 1/3] END ...................max_depth=8, n_estimators=70; total time=   0.6s\n",
      "[CV 2/3] END ...................max_depth=8, n_estimators=70; total time=   1.2s\n",
      "[CV 3/3] END ...................max_depth=8, n_estimators=70; total time=   1.7s\n",
      "[CV 1/3] END ...................max_depth=8, n_estimators=80; total time=   0.8s\n",
      "[CV 2/3] END ...................max_depth=8, n_estimators=80; total time=   1.4s\n",
      "[CV 3/3] END ...................max_depth=8, n_estimators=80; total time=   2.0s\n",
      "[CV 1/3] END ...................max_depth=8, n_estimators=90; total time=   0.8s\n",
      "[CV 2/3] END ...................max_depth=8, n_estimators=90; total time=   1.5s\n",
      "[CV 3/3] END ...................max_depth=8, n_estimators=90; total time=   2.2s\n",
      "[CV 1/3] END ..................max_depth=8, n_estimators=100; total time=   0.9s\n",
      "[CV 2/3] END ..................max_depth=8, n_estimators=100; total time=   1.8s\n",
      "[CV 3/3] END ..................max_depth=8, n_estimators=100; total time=   2.4s\n",
      "[CV 1/3] END ...................max_depth=9, n_estimators=10; total time=   0.1s\n",
      "[CV 2/3] END ...................max_depth=9, n_estimators=10; total time=   0.2s\n",
      "[CV 3/3] END ...................max_depth=9, n_estimators=10; total time=   0.3s\n",
      "[CV 1/3] END ...................max_depth=9, n_estimators=20; total time=   0.2s\n",
      "[CV 2/3] END ...................max_depth=9, n_estimators=20; total time=   0.4s\n",
      "[CV 3/3] END ...................max_depth=9, n_estimators=20; total time=   0.6s\n",
      "[CV 1/3] END ...................max_depth=9, n_estimators=30; total time=   0.3s\n",
      "[CV 2/3] END ...................max_depth=9, n_estimators=30; total time=   0.6s\n",
      "[CV 3/3] END ...................max_depth=9, n_estimators=30; total time=   0.8s\n",
      "[CV 1/3] END ...................max_depth=9, n_estimators=40; total time=   0.4s\n",
      "[CV 2/3] END ...................max_depth=9, n_estimators=40; total time=   0.8s\n",
      "[CV 3/3] END ...................max_depth=9, n_estimators=40; total time=   1.1s\n",
      "[CV 1/3] END ...................max_depth=9, n_estimators=50; total time=   0.5s\n",
      "[CV 2/3] END ...................max_depth=9, n_estimators=50; total time=   1.0s\n",
      "[CV 3/3] END ...................max_depth=9, n_estimators=50; total time=   1.4s\n",
      "[CV 1/3] END ...................max_depth=9, n_estimators=60; total time=   0.6s\n",
      "[CV 2/3] END ...................max_depth=9, n_estimators=60; total time=   1.1s\n",
      "[CV 3/3] END ...................max_depth=9, n_estimators=60; total time=   1.7s\n",
      "[CV 1/3] END ...................max_depth=9, n_estimators=70; total time=   0.7s\n",
      "[CV 2/3] END ...................max_depth=9, n_estimators=70; total time=   1.3s\n",
      "[CV 3/3] END ...................max_depth=9, n_estimators=70; total time=   1.9s\n",
      "[CV 1/3] END ...................max_depth=9, n_estimators=80; total time=   0.8s\n",
      "[CV 2/3] END ...................max_depth=9, n_estimators=80; total time=   1.5s\n",
      "[CV 3/3] END ...................max_depth=9, n_estimators=80; total time=   2.2s\n",
      "[CV 1/3] END ...................max_depth=9, n_estimators=90; total time=   0.9s\n",
      "[CV 2/3] END ...................max_depth=9, n_estimators=90; total time=   1.7s\n",
      "[CV 3/3] END ...................max_depth=9, n_estimators=90; total time=   2.5s\n",
      "[CV 1/3] END ..................max_depth=9, n_estimators=100; total time=   1.0s\n",
      "[CV 2/3] END ..................max_depth=9, n_estimators=100; total time=   1.9s\n",
      "[CV 3/3] END ..................max_depth=9, n_estimators=100; total time=   2.7s\n",
      "[CV 1/3] END ..................max_depth=10, n_estimators=10; total time=   0.1s\n",
      "[CV 2/3] END ..................max_depth=10, n_estimators=10; total time=   0.2s\n",
      "[CV 3/3] END ..................max_depth=10, n_estimators=10; total time=   0.3s\n",
      "[CV 1/3] END ..................max_depth=10, n_estimators=20; total time=   0.2s\n",
      "[CV 2/3] END ..................max_depth=10, n_estimators=20; total time=   0.4s\n",
      "[CV 3/3] END ..................max_depth=10, n_estimators=20; total time=   0.6s\n",
      "[CV 1/3] END ..................max_depth=10, n_estimators=30; total time=   0.3s\n",
      "[CV 2/3] END ..................max_depth=10, n_estimators=30; total time=   0.6s\n",
      "[CV 3/3] END ..................max_depth=10, n_estimators=30; total time=   0.9s\n",
      "[CV 1/3] END ..................max_depth=10, n_estimators=40; total time=   0.4s\n",
      "[CV 2/3] END ..................max_depth=10, n_estimators=40; total time=   0.8s\n",
      "[CV 3/3] END ..................max_depth=10, n_estimators=40; total time=   1.2s\n",
      "[CV 1/3] END ..................max_depth=10, n_estimators=50; total time=   0.5s\n",
      "[CV 2/3] END ..................max_depth=10, n_estimators=50; total time=   1.0s\n",
      "[CV 3/3] END ..................max_depth=10, n_estimators=50; total time=   1.5s\n",
      "[CV 1/3] END ..................max_depth=10, n_estimators=60; total time=   0.6s\n",
      "[CV 2/3] END ..................max_depth=10, n_estimators=60; total time=   1.2s\n",
      "[CV 3/3] END ..................max_depth=10, n_estimators=60; total time=   1.9s\n",
      "[CV 1/3] END ..................max_depth=10, n_estimators=70; total time=   0.7s\n",
      "[CV 2/3] END ..................max_depth=10, n_estimators=70; total time=   1.4s\n",
      "[CV 3/3] END ..................max_depth=10, n_estimators=70; total time=   2.1s\n",
      "[CV 1/3] END ..................max_depth=10, n_estimators=80; total time=   0.8s\n",
      "[CV 2/3] END ..................max_depth=10, n_estimators=80; total time=   1.6s\n",
      "[CV 3/3] END ..................max_depth=10, n_estimators=80; total time=   2.4s\n",
      "[CV 1/3] END ..................max_depth=10, n_estimators=90; total time=   1.0s\n",
      "[CV 2/3] END ..................max_depth=10, n_estimators=90; total time=   2.0s\n",
      "[CV 3/3] END ..................max_depth=10, n_estimators=90; total time=   2.7s\n",
      "[CV 1/3] END .................max_depth=10, n_estimators=100; total time=   1.1s\n",
      "[CV 2/3] END .................max_depth=10, n_estimators=100; total time=   2.0s\n",
      "[CV 3/3] END .................max_depth=10, n_estimators=100; total time=   3.0s\n",
      "[CV 1/3] END ..................max_depth=11, n_estimators=10; total time=   0.1s\n",
      "[CV 2/3] END ..................max_depth=11, n_estimators=10; total time=   0.2s\n",
      "[CV 3/3] END ..................max_depth=11, n_estimators=10; total time=   0.3s\n",
      "[CV 1/3] END ..................max_depth=11, n_estimators=20; total time=   0.2s\n",
      "[CV 2/3] END ..................max_depth=11, n_estimators=20; total time=   0.5s\n",
      "[CV 3/3] END ..................max_depth=11, n_estimators=20; total time=   0.7s\n",
      "[CV 1/3] END ..................max_depth=11, n_estimators=30; total time=   0.3s\n",
      "[CV 2/3] END ..................max_depth=11, n_estimators=30; total time=   0.7s\n",
      "[CV 3/3] END ..................max_depth=11, n_estimators=30; total time=   1.0s\n",
      "[CV 1/3] END ..................max_depth=11, n_estimators=40; total time=   0.4s\n",
      "[CV 2/3] END ..................max_depth=11, n_estimators=40; total time=   0.9s\n",
      "[CV 3/3] END ..................max_depth=11, n_estimators=40; total time=   1.3s\n",
      "[CV 1/3] END ..................max_depth=11, n_estimators=50; total time=   0.6s\n",
      "[CV 2/3] END ..................max_depth=11, n_estimators=50; total time=   1.1s\n",
      "[CV 3/3] END ..................max_depth=11, n_estimators=50; total time=   1.6s\n",
      "[CV 1/3] END ..................max_depth=11, n_estimators=60; total time=   0.7s\n",
      "[CV 2/3] END ..................max_depth=11, n_estimators=60; total time=   1.3s\n",
      "[CV 3/3] END ..................max_depth=11, n_estimators=60; total time=   2.0s\n",
      "[CV 1/3] END ..................max_depth=11, n_estimators=70; total time=   0.8s\n",
      "[CV 2/3] END ..................max_depth=11, n_estimators=70; total time=   1.5s\n",
      "[CV 3/3] END ..................max_depth=11, n_estimators=70; total time=   2.2s\n",
      "[CV 1/3] END ..................max_depth=11, n_estimators=80; total time=   0.9s\n",
      "[CV 2/3] END ..................max_depth=11, n_estimators=80; total time=   1.7s\n",
      "[CV 3/3] END ..................max_depth=11, n_estimators=80; total time=   2.6s\n",
      "[CV 1/3] END ..................max_depth=11, n_estimators=90; total time=   1.0s\n",
      "[CV 2/3] END ..................max_depth=11, n_estimators=90; total time=   1.9s\n",
      "[CV 3/3] END ..................max_depth=11, n_estimators=90; total time=   2.9s\n",
      "[CV 1/3] END .................max_depth=11, n_estimators=100; total time=   1.1s\n",
      "[CV 2/3] END .................max_depth=11, n_estimators=100; total time=   2.2s\n",
      "[CV 3/3] END .................max_depth=11, n_estimators=100; total time=   3.2s\n",
      "[CV 1/3] END ..................max_depth=12, n_estimators=10; total time=   0.1s\n",
      "[CV 2/3] END ..................max_depth=12, n_estimators=10; total time=   0.2s\n",
      "[CV 3/3] END ..................max_depth=12, n_estimators=10; total time=   0.3s\n",
      "[CV 1/3] END ..................max_depth=12, n_estimators=20; total time=   0.2s\n",
      "[CV 2/3] END ..................max_depth=12, n_estimators=20; total time=   0.5s\n",
      "[CV 3/3] END ..................max_depth=12, n_estimators=20; total time=   0.7s\n",
      "[CV 1/3] END ..................max_depth=12, n_estimators=30; total time=   0.4s\n",
      "[CV 2/3] END ..................max_depth=12, n_estimators=30; total time=   0.7s\n",
      "[CV 3/3] END ..................max_depth=12, n_estimators=30; total time=   1.0s\n",
      "[CV 1/3] END ..................max_depth=12, n_estimators=40; total time=   0.5s\n",
      "[CV 2/3] END ..................max_depth=12, n_estimators=40; total time=   0.9s\n",
      "[CV 3/3] END ..................max_depth=12, n_estimators=40; total time=   1.4s\n",
      "[CV 1/3] END ..................max_depth=12, n_estimators=50; total time=   0.6s\n",
      "[CV 2/3] END ..................max_depth=12, n_estimators=50; total time=   1.1s\n",
      "[CV 3/3] END ..................max_depth=12, n_estimators=50; total time=   1.7s\n",
      "[CV 1/3] END ..................max_depth=12, n_estimators=60; total time=   0.7s\n",
      "[CV 2/3] END ..................max_depth=12, n_estimators=60; total time=   1.4s\n",
      "[CV 3/3] END ..................max_depth=12, n_estimators=60; total time=   2.0s\n",
      "[CV 1/3] END ..................max_depth=12, n_estimators=70; total time=   0.8s\n",
      "[CV 2/3] END ..................max_depth=12, n_estimators=70; total time=   1.7s\n",
      "[CV 3/3] END ..................max_depth=12, n_estimators=70; total time=   2.4s\n",
      "[CV 1/3] END ..................max_depth=12, n_estimators=80; total time=   0.9s\n",
      "[CV 2/3] END ..................max_depth=12, n_estimators=80; total time=   1.9s\n",
      "[CV 3/3] END ..................max_depth=12, n_estimators=80; total time=   2.7s\n",
      "[CV 1/3] END ..................max_depth=12, n_estimators=90; total time=   1.0s\n",
      "[CV 2/3] END ..................max_depth=12, n_estimators=90; total time=   2.1s\n",
      "[CV 3/3] END ..................max_depth=12, n_estimators=90; total time=   3.1s\n",
      "[CV 1/3] END .................max_depth=12, n_estimators=100; total time=   1.2s\n",
      "[CV 2/3] END .................max_depth=12, n_estimators=100; total time=   2.3s\n",
      "[CV 3/3] END .................max_depth=12, n_estimators=100; total time=   3.5s\n",
      "[CV 1/3] END ..................max_depth=13, n_estimators=10; total time=   0.1s\n",
      "[CV 2/3] END ..................max_depth=13, n_estimators=10; total time=   0.2s\n",
      "[CV 3/3] END ..................max_depth=13, n_estimators=10; total time=   0.4s\n",
      "[CV 1/3] END ..................max_depth=13, n_estimators=20; total time=   0.2s\n",
      "[CV 2/3] END ..................max_depth=13, n_estimators=20; total time=   0.5s\n",
      "[CV 3/3] END ..................max_depth=13, n_estimators=20; total time=   0.8s\n",
      "[CV 1/3] END ..................max_depth=13, n_estimators=30; total time=   0.4s\n",
      "[CV 2/3] END ..................max_depth=13, n_estimators=30; total time=   0.7s\n",
      "[CV 3/3] END ..................max_depth=13, n_estimators=30; total time=   1.1s\n",
      "[CV 1/3] END ..................max_depth=13, n_estimators=40; total time=   0.5s\n",
      "[CV 2/3] END ..................max_depth=13, n_estimators=40; total time=   1.0s\n",
      "[CV 3/3] END ..................max_depth=13, n_estimators=40; total time=   1.4s\n",
      "[CV 1/3] END ..................max_depth=13, n_estimators=50; total time=   0.6s\n",
      "[CV 2/3] END ..................max_depth=13, n_estimators=50; total time=   1.2s\n",
      "[CV 3/3] END ..................max_depth=13, n_estimators=50; total time=   1.8s\n",
      "[CV 1/3] END ..................max_depth=13, n_estimators=60; total time=   0.7s\n",
      "[CV 2/3] END ..................max_depth=13, n_estimators=60; total time=   1.5s\n",
      "[CV 3/3] END ..................max_depth=13, n_estimators=60; total time=   2.2s\n",
      "[CV 1/3] END ..................max_depth=13, n_estimators=70; total time=   0.9s\n",
      "[CV 2/3] END ..................max_depth=13, n_estimators=70; total time=   1.7s\n",
      "[CV 3/3] END ..................max_depth=13, n_estimators=70; total time=   2.5s\n",
      "[CV 1/3] END ..................max_depth=13, n_estimators=80; total time=   1.0s\n",
      "[CV 2/3] END ..................max_depth=13, n_estimators=80; total time=   1.9s\n",
      "[CV 3/3] END ..................max_depth=13, n_estimators=80; total time=   2.9s\n",
      "[CV 1/3] END ..................max_depth=13, n_estimators=90; total time=   1.1s\n",
      "[CV 2/3] END ..................max_depth=13, n_estimators=90; total time=   2.2s\n",
      "[CV 3/3] END ..................max_depth=13, n_estimators=90; total time=   3.3s\n",
      "[CV 1/3] END .................max_depth=13, n_estimators=100; total time=   1.2s\n",
      "[CV 2/3] END .................max_depth=13, n_estimators=100; total time=   2.4s\n",
      "[CV 3/3] END .................max_depth=13, n_estimators=100; total time=   3.6s\n",
      "[CV 1/3] END ..................max_depth=14, n_estimators=10; total time=   0.1s\n",
      "[CV 2/3] END ..................max_depth=14, n_estimators=10; total time=   0.3s\n",
      "[CV 3/3] END ..................max_depth=14, n_estimators=10; total time=   0.4s\n",
      "[CV 1/3] END ..................max_depth=14, n_estimators=20; total time=   0.3s\n",
      "[CV 2/3] END ..................max_depth=14, n_estimators=20; total time=   0.5s\n",
      "[CV 3/3] END ..................max_depth=14, n_estimators=20; total time=   0.8s\n",
      "[CV 1/3] END ..................max_depth=14, n_estimators=30; total time=   0.4s\n",
      "[CV 2/3] END ..................max_depth=14, n_estimators=30; total time=   0.7s\n",
      "[CV 3/3] END ..................max_depth=14, n_estimators=30; total time=   1.2s\n",
      "[CV 1/3] END ..................max_depth=14, n_estimators=40; total time=   0.5s\n",
      "[CV 2/3] END ..................max_depth=14, n_estimators=40; total time=   1.0s\n",
      "[CV 3/3] END ..................max_depth=14, n_estimators=40; total time=   1.5s\n",
      "[CV 1/3] END ..................max_depth=14, n_estimators=50; total time=   0.7s\n",
      "[CV 2/3] END ..................max_depth=14, n_estimators=50; total time=   1.3s\n",
      "[CV 3/3] END ..................max_depth=14, n_estimators=50; total time=   1.9s\n",
      "[CV 1/3] END ..................max_depth=14, n_estimators=60; total time=   0.8s\n",
      "[CV 2/3] END ..................max_depth=14, n_estimators=60; total time=   1.5s\n",
      "[CV 3/3] END ..................max_depth=14, n_estimators=60; total time=   2.3s\n",
      "[CV 1/3] END ..................max_depth=14, n_estimators=70; total time=   0.9s\n",
      "[CV 2/3] END ..................max_depth=14, n_estimators=70; total time=   1.8s\n",
      "[CV 3/3] END ..................max_depth=14, n_estimators=70; total time=   2.7s\n",
      "[CV 1/3] END ..................max_depth=14, n_estimators=80; total time=   1.0s\n",
      "[CV 2/3] END ..................max_depth=14, n_estimators=80; total time=   2.0s\n",
      "[CV 3/3] END ..................max_depth=14, n_estimators=80; total time=   3.1s\n",
      "[CV 1/3] END ..................max_depth=14, n_estimators=90; total time=   1.2s\n",
      "[CV 2/3] END ..................max_depth=14, n_estimators=90; total time=   2.2s\n",
      "[CV 3/3] END ..................max_depth=14, n_estimators=90; total time=   3.4s\n",
      "[CV 1/3] END .................max_depth=14, n_estimators=100; total time=   1.2s\n",
      "[CV 2/3] END .................max_depth=14, n_estimators=100; total time=   2.5s\n",
      "[CV 3/3] END .................max_depth=14, n_estimators=100; total time=   3.7s\n",
      "[CV 1/3] END ..................max_depth=15, n_estimators=10; total time=   0.1s\n",
      "[CV 2/3] END ..................max_depth=15, n_estimators=10; total time=   0.3s\n",
      "[CV 3/3] END ..................max_depth=15, n_estimators=10; total time=   0.4s\n",
      "[CV 1/3] END ..................max_depth=15, n_estimators=20; total time=   0.3s\n",
      "[CV 2/3] END ..................max_depth=15, n_estimators=20; total time=   0.5s\n",
      "[CV 3/3] END ..................max_depth=15, n_estimators=20; total time=   0.8s\n",
      "[CV 1/3] END ..................max_depth=15, n_estimators=30; total time=   0.4s\n",
      "[CV 2/3] END ..................max_depth=15, n_estimators=30; total time=   0.8s\n",
      "[CV 3/3] END ..................max_depth=15, n_estimators=30; total time=   1.2s\n",
      "[CV 1/3] END ..................max_depth=15, n_estimators=40; total time=   0.5s\n",
      "[CV 2/3] END ..................max_depth=15, n_estimators=40; total time=   1.1s\n",
      "[CV 3/3] END ..................max_depth=15, n_estimators=40; total time=   1.6s\n",
      "[CV 1/3] END ..................max_depth=15, n_estimators=50; total time=   0.6s\n",
      "[CV 2/3] END ..................max_depth=15, n_estimators=50; total time=   1.3s\n",
      "[CV 3/3] END ..................max_depth=15, n_estimators=50; total time=   2.0s\n",
      "[CV 1/3] END ..................max_depth=15, n_estimators=60; total time=   0.8s\n",
      "[CV 2/3] END ..................max_depth=15, n_estimators=60; total time=   1.5s\n",
      "[CV 3/3] END ..................max_depth=15, n_estimators=60; total time=   2.4s\n",
      "[CV 1/3] END ..................max_depth=15, n_estimators=70; total time=   0.9s\n",
      "[CV 2/3] END ..................max_depth=15, n_estimators=70; total time=   1.8s\n",
      "[CV 3/3] END ..................max_depth=15, n_estimators=70; total time=   2.7s\n",
      "[CV 1/3] END ..................max_depth=15, n_estimators=80; total time=   1.0s\n",
      "[CV 2/3] END ..................max_depth=15, n_estimators=80; total time=   2.0s\n",
      "[CV 3/3] END ..................max_depth=15, n_estimators=80; total time=   3.1s\n",
      "[CV 1/3] END ..................max_depth=15, n_estimators=90; total time=   1.8s\n",
      "[CV 2/3] END ..................max_depth=15, n_estimators=90; total time=   2.5s\n",
      "[CV 3/3] END ..................max_depth=15, n_estimators=90; total time=   3.5s\n",
      "[CV 1/3] END .................max_depth=15, n_estimators=100; total time=   1.3s\n",
      "[CV 2/3] END .................max_depth=15, n_estimators=100; total time=   3.2s\n",
      "[CV 3/3] END .................max_depth=15, n_estimators=100; total time=   4.2s\n"
     ]
    },
    {
     "data": {
      "text/plain": [
       "{'max_depth': 14, 'n_estimators': 100}"
      ]
     },
     "metadata": {},
     "output_type": "display_data"
    },
    {
     "data": {
      "text/plain": [
       "28.66681143086141"
      ]
     },
     "metadata": {},
     "output_type": "display_data"
    },
    {
     "name": "stdout",
     "output_type": "stream",
     "text": [
      "CPU times: user 6min 39s, sys: 1.54 s, total: 6min 41s\n",
      "Wall time: 6min 46s\n"
     ]
    }
   ],
   "source": [
    "%%time\n",
    "# инициализация параметров для GridSearchCV\n",
    "params_rf = {'max_depth': range(1,16), 'n_estimators': range(10,101,10)}\n",
    "\n",
    "model_rf = RandomForestRegressor(random_state=MY_RANDOM_STATE)\n",
    "tscv = TimeSeriesSplit(n_splits=3)\n",
    "# создаем экземпляр GridSearchCV\n",
    "grid_model_rf=GridSearchCV(estimator=model_rf,\n",
    "                          param_grid=params_rf,\n",
    "                          scoring='neg_root_mean_squared_error',\n",
    "                          cv=tscv,\n",
    "                          verbose=3)\n",
    "# запускаем обучение\n",
    "grid_model_rf.fit(features_train, target_train)\n",
    "# выводим на экран наилучшие гиперпараметры и метрику RMSE\n",
    "display(grid_model_rf.best_params_)\n",
    "display(grid_model_rf.best_score_*-1)"
   ]
  },
  {
   "cell_type": "markdown",
   "metadata": {},
   "source": [
    "#### LightGBM"
   ]
  },
  {
   "cell_type": "markdown",
   "metadata": {},
   "source": [
    "Перейдем к моделям с градиентным бустингом. Для LightGBM рассмотрим следующие гиперпараметры:\n",
    "- `num_leaves`: от 10 до 100 с шагом 20;\n",
    "- `learning_rate`: 0.2,0.4,0.8. \n",
    "\n",
    "Найдем оптимальные гиперпараметры с помощью GridSearchCV."
   ]
  },
  {
   "cell_type": "code",
   "execution_count": 51,
   "metadata": {},
   "outputs": [
    {
     "name": "stdout",
     "output_type": "stream",
     "text": [
      "Fitting 3 folds for each of 15 candidates, totalling 45 fits\n",
      "[CV 1/3] END ...............learning_rate=0.2, num_leaves=10; total time= 1.1min\n",
      "[CV 2/3] END ...............learning_rate=0.2, num_leaves=10; total time=   0.5s\n",
      "[CV 3/3] END ...............learning_rate=0.2, num_leaves=10; total time=   0.7s\n",
      "[CV 1/3] END ...............learning_rate=0.2, num_leaves=30; total time=   1.1s\n",
      "[CV 2/3] END ...............learning_rate=0.2, num_leaves=30; total time=   1.4s\n",
      "[CV 3/3] END ...............learning_rate=0.2, num_leaves=30; total time=   1.3s\n",
      "[CV 1/3] END ...............learning_rate=0.2, num_leaves=50; total time=   1.3s\n",
      "[CV 2/3] END ...............learning_rate=0.2, num_leaves=50; total time=   1.9s\n",
      "[CV 3/3] END ...............learning_rate=0.2, num_leaves=50; total time=   2.0s\n",
      "[CV 1/3] END ...............learning_rate=0.2, num_leaves=70; total time=   1.2s\n",
      "[CV 2/3] END ...............learning_rate=0.2, num_leaves=70; total time=   2.4s\n",
      "[CV 3/3] END ...............learning_rate=0.2, num_leaves=70; total time=   2.6s\n",
      "[CV 1/3] END ...............learning_rate=0.2, num_leaves=90; total time=   1.9s\n",
      "[CV 2/3] END ...............learning_rate=0.2, num_leaves=90; total time=   2.5s\n",
      "[CV 3/3] END ...............learning_rate=0.2, num_leaves=90; total time=   3.5s\n",
      "[CV 1/3] END ...............learning_rate=0.4, num_leaves=10; total time=   0.6s\n",
      "[CV 2/3] END ...............learning_rate=0.4, num_leaves=10; total time=   0.4s\n",
      "[CV 3/3] END ...............learning_rate=0.4, num_leaves=10; total time=   0.7s\n",
      "[CV 1/3] END ...............learning_rate=0.4, num_leaves=30; total time=   1.2s\n",
      "[CV 2/3] END ...............learning_rate=0.4, num_leaves=30; total time=   1.2s\n",
      "[CV 3/3] END ...............learning_rate=0.4, num_leaves=30; total time=   1.4s\n",
      "[CV 1/3] END ...............learning_rate=0.4, num_leaves=50; total time=   1.2s\n",
      "[CV 2/3] END ...............learning_rate=0.4, num_leaves=50; total time=   1.9s\n",
      "[CV 3/3] END ...............learning_rate=0.4, num_leaves=50; total time=   2.0s\n",
      "[CV 1/3] END ...............learning_rate=0.4, num_leaves=70; total time=   1.2s\n",
      "[CV 2/3] END ...............learning_rate=0.4, num_leaves=70; total time=   2.7s\n",
      "[CV 3/3] END ...............learning_rate=0.4, num_leaves=70; total time=   2.9s\n",
      "[CV 1/3] END ...............learning_rate=0.4, num_leaves=90; total time=   1.2s\n",
      "[CV 2/3] END ...............learning_rate=0.4, num_leaves=90; total time=   2.5s\n",
      "[CV 3/3] END ...............learning_rate=0.4, num_leaves=90; total time=   3.5s\n",
      "[CV 1/3] END ...............learning_rate=0.8, num_leaves=10; total time=   0.4s\n",
      "[CV 2/3] END ...............learning_rate=0.8, num_leaves=10; total time=   0.5s\n",
      "[CV 3/3] END ...............learning_rate=0.8, num_leaves=10; total time=   0.5s\n",
      "[CV 1/3] END ...............learning_rate=0.8, num_leaves=30; total time=   1.2s\n",
      "[CV 2/3] END ...............learning_rate=0.8, num_leaves=30; total time=   1.2s\n",
      "[CV 3/3] END ...............learning_rate=0.8, num_leaves=30; total time=   1.9s\n",
      "[CV 1/3] END ...............learning_rate=0.8, num_leaves=50; total time=   1.4s\n",
      "[CV 2/3] END ...............learning_rate=0.8, num_leaves=50; total time=  22.8s\n",
      "[CV 3/3] END ...............learning_rate=0.8, num_leaves=50; total time=   2.0s\n",
      "[CV 1/3] END ...............learning_rate=0.8, num_leaves=70; total time=   1.2s\n",
      "[CV 2/3] END ...............learning_rate=0.8, num_leaves=70; total time=   2.3s\n",
      "[CV 3/3] END ...............learning_rate=0.8, num_leaves=70; total time=   2.7s\n",
      "[CV 1/3] END ...............learning_rate=0.8, num_leaves=90; total time=   1.4s\n",
      "[CV 2/3] END ...............learning_rate=0.8, num_leaves=90; total time=   2.5s\n",
      "[CV 3/3] END ...............learning_rate=0.8, num_leaves=90; total time=   3.4s\n"
     ]
    },
    {
     "data": {
      "text/plain": [
       "{'learning_rate': 0.2, 'num_leaves': 10}"
      ]
     },
     "metadata": {},
     "output_type": "display_data"
    },
    {
     "data": {
      "text/plain": [
       "27.753593067015192"
      ]
     },
     "metadata": {},
     "output_type": "display_data"
    },
    {
     "name": "stdout",
     "output_type": "stream",
     "text": [
      "CPU times: user 2min 38s, sys: 891 ms, total: 2min 39s\n",
      "Wall time: 2min 43s\n"
     ]
    }
   ],
   "source": [
    "%%time\n",
    "\n",
    "model_lgbmr = LGBMRegressor(random_state=MY_RANDOM_STATE) \n",
    "# инициализация параметров для GridSearchCV\n",
    "params_lgbmr = {'num_leaves':range(10,100,20), 'learning_rate':[0.2,0.4,0.8]}\n",
    "tscv = TimeSeriesSplit(n_splits=3)\n",
    "# создаем экземпляр GridSearchCV\n",
    "grid_model_lgbmr = GridSearchCV(estimator=model_lgbmr, \n",
    "                                param_grid=params_lgbmr, \n",
    "                                scoring='neg_root_mean_squared_error',\n",
    "                                cv=tscv,\n",
    "                                verbose=3)\n",
    "# запускаем обучение\n",
    "grid_model_lgbmr.fit(features_train, target_train)\n",
    "# выводим на экран наилучшие гиперпараметры и метрику RMSE\n",
    "display(grid_model_lgbmr.best_params_)\n",
    "display(grid_model_lgbmr.best_score_*-1)"
   ]
  },
  {
   "cell_type": "markdown",
   "metadata": {},
   "source": [
    "#### CatBoostRegressor"
   ]
  },
  {
   "cell_type": "markdown",
   "metadata": {},
   "source": [
    "Для CatBoostRegressor будем менять следующие гиперапарметры:\n",
    "- скорость обучения (`learning_rate`) будет принимать значения: 0.1,0.4,0.9;\n",
    "- количество деревьев в ансамбле (`iterations`): от 100 до 250 с шагом 50;\n",
    "- глубину дерева `depth` будем менять от 1 до 15 с шагом 3."
   ]
  },
  {
   "cell_type": "code",
   "execution_count": 52,
   "metadata": {
    "scrolled": true
   },
   "outputs": [
    {
     "name": "stdout",
     "output_type": "stream",
     "text": [
      "Fitting 3 folds for each of 45 candidates, totalling 135 fits\n",
      "[CV 1/3] END .....depth=1, iterations=100, learning_rate=0.1; total time=   0.7s\n",
      "[CV 2/3] END .....depth=1, iterations=100, learning_rate=0.1; total time=   0.7s\n",
      "[CV 3/3] END .....depth=1, iterations=100, learning_rate=0.1; total time=   0.9s\n",
      "[CV 1/3] END .....depth=1, iterations=100, learning_rate=0.4; total time=   0.7s\n",
      "[CV 2/3] END .....depth=1, iterations=100, learning_rate=0.4; total time=   0.7s\n",
      "[CV 3/3] END .....depth=1, iterations=100, learning_rate=0.4; total time=   0.8s\n",
      "[CV 1/3] END .....depth=1, iterations=100, learning_rate=0.9; total time=   1.0s\n",
      "[CV 2/3] END .....depth=1, iterations=100, learning_rate=0.9; total time=   0.7s\n",
      "[CV 3/3] END .....depth=1, iterations=100, learning_rate=0.9; total time=   0.8s\n",
      "[CV 1/3] END .....depth=1, iterations=150, learning_rate=0.1; total time=   0.7s\n",
      "[CV 2/3] END .....depth=1, iterations=150, learning_rate=0.1; total time=   0.8s\n",
      "[CV 3/3] END .....depth=1, iterations=150, learning_rate=0.1; total time=   0.8s\n",
      "[CV 1/3] END .....depth=1, iterations=150, learning_rate=0.4; total time=   0.7s\n",
      "[CV 2/3] END .....depth=1, iterations=150, learning_rate=0.4; total time=   0.8s\n",
      "[CV 3/3] END .....depth=1, iterations=150, learning_rate=0.4; total time=   0.7s\n",
      "[CV 1/3] END .....depth=1, iterations=150, learning_rate=0.9; total time=   0.7s\n",
      "[CV 2/3] END .....depth=1, iterations=150, learning_rate=0.9; total time=   0.8s\n",
      "[CV 3/3] END .....depth=1, iterations=150, learning_rate=0.9; total time=   0.9s\n",
      "[CV 1/3] END .....depth=1, iterations=200, learning_rate=0.1; total time=   0.8s\n",
      "[CV 2/3] END .....depth=1, iterations=200, learning_rate=0.1; total time=   0.7s\n",
      "[CV 3/3] END .....depth=1, iterations=200, learning_rate=0.1; total time=   0.9s\n",
      "[CV 1/3] END .....depth=1, iterations=200, learning_rate=0.4; total time=   0.8s\n",
      "[CV 2/3] END .....depth=1, iterations=200, learning_rate=0.4; total time=   1.1s\n",
      "[CV 3/3] END .....depth=1, iterations=200, learning_rate=0.4; total time=   1.0s\n",
      "[CV 1/3] END .....depth=1, iterations=200, learning_rate=0.9; total time=   0.7s\n",
      "[CV 2/3] END .....depth=1, iterations=200, learning_rate=0.9; total time=   0.8s\n",
      "[CV 3/3] END .....depth=1, iterations=200, learning_rate=0.9; total time=   0.7s\n",
      "[CV 1/3] END .....depth=4, iterations=100, learning_rate=0.1; total time=   0.9s\n",
      "[CV 2/3] END .....depth=4, iterations=100, learning_rate=0.1; total time=   1.0s\n",
      "[CV 3/3] END .....depth=4, iterations=100, learning_rate=0.1; total time=   0.9s\n",
      "[CV 1/3] END .....depth=4, iterations=100, learning_rate=0.4; total time=   0.9s\n",
      "[CV 2/3] END .....depth=4, iterations=100, learning_rate=0.4; total time=   0.8s\n",
      "[CV 3/3] END .....depth=4, iterations=100, learning_rate=0.4; total time=   0.8s\n",
      "[CV 1/3] END .....depth=4, iterations=100, learning_rate=0.9; total time=   0.8s\n",
      "[CV 2/3] END .....depth=4, iterations=100, learning_rate=0.9; total time=   0.7s\n",
      "[CV 3/3] END .....depth=4, iterations=100, learning_rate=0.9; total time=   1.0s\n",
      "[CV 1/3] END .....depth=4, iterations=150, learning_rate=0.1; total time=   1.0s\n",
      "[CV 2/3] END .....depth=4, iterations=150, learning_rate=0.1; total time=   1.0s\n",
      "[CV 3/3] END .....depth=4, iterations=150, learning_rate=0.1; total time=   1.1s\n",
      "[CV 1/3] END .....depth=4, iterations=150, learning_rate=0.4; total time=   1.0s\n",
      "[CV 2/3] END .....depth=4, iterations=150, learning_rate=0.4; total time=   0.9s\n",
      "[CV 3/3] END .....depth=4, iterations=150, learning_rate=0.4; total time=   1.1s\n",
      "[CV 1/3] END .....depth=4, iterations=150, learning_rate=0.9; total time=   1.0s\n",
      "[CV 2/3] END .....depth=4, iterations=150, learning_rate=0.9; total time=   0.9s\n",
      "[CV 3/3] END .....depth=4, iterations=150, learning_rate=0.9; total time=   1.1s\n",
      "[CV 1/3] END .....depth=4, iterations=200, learning_rate=0.1; total time=   1.1s\n",
      "[CV 2/3] END .....depth=4, iterations=200, learning_rate=0.1; total time=   1.1s\n",
      "[CV 3/3] END .....depth=4, iterations=200, learning_rate=0.1; total time=   1.2s\n",
      "[CV 1/3] END .....depth=4, iterations=200, learning_rate=0.4; total time=   1.1s\n",
      "[CV 2/3] END .....depth=4, iterations=200, learning_rate=0.4; total time=   1.2s\n",
      "[CV 3/3] END .....depth=4, iterations=200, learning_rate=0.4; total time=   1.7s\n",
      "[CV 1/3] END .....depth=4, iterations=200, learning_rate=0.9; total time=   1.1s\n",
      "[CV 2/3] END .....depth=4, iterations=200, learning_rate=0.9; total time=   1.4s\n",
      "[CV 3/3] END .....depth=4, iterations=200, learning_rate=0.9; total time=   1.6s\n",
      "[CV 1/3] END .....depth=7, iterations=100, learning_rate=0.1; total time=   1.6s\n",
      "[CV 2/3] END .....depth=7, iterations=100, learning_rate=0.1; total time=   2.0s\n",
      "[CV 3/3] END .....depth=7, iterations=100, learning_rate=0.1; total time=   1.8s\n",
      "[CV 1/3] END .....depth=7, iterations=100, learning_rate=0.4; total time=   1.7s\n",
      "[CV 2/3] END .....depth=7, iterations=100, learning_rate=0.4; total time=   2.1s\n",
      "[CV 3/3] END .....depth=7, iterations=100, learning_rate=0.4; total time=   1.7s\n",
      "[CV 1/3] END .....depth=7, iterations=100, learning_rate=0.9; total time=   1.3s\n",
      "[CV 2/3] END .....depth=7, iterations=100, learning_rate=0.9; total time=   1.6s\n",
      "[CV 3/3] END .....depth=7, iterations=100, learning_rate=0.9; total time=   1.7s\n",
      "[CV 1/3] END .....depth=7, iterations=150, learning_rate=0.1; total time=   1.8s\n",
      "[CV 2/3] END .....depth=7, iterations=150, learning_rate=0.1; total time=   2.2s\n",
      "[CV 3/3] END .....depth=7, iterations=150, learning_rate=0.1; total time=   2.1s\n",
      "[CV 1/3] END .....depth=7, iterations=150, learning_rate=0.4; total time=   1.8s\n",
      "[CV 2/3] END .....depth=7, iterations=150, learning_rate=0.4; total time=   2.4s\n",
      "[CV 3/3] END .....depth=7, iterations=150, learning_rate=0.4; total time=   3.0s\n",
      "[CV 1/3] END .....depth=7, iterations=150, learning_rate=0.9; total time=   1.7s\n",
      "[CV 2/3] END .....depth=7, iterations=150, learning_rate=0.9; total time=   2.1s\n",
      "[CV 3/3] END .....depth=7, iterations=150, learning_rate=0.9; total time=   2.2s\n",
      "[CV 1/3] END .....depth=7, iterations=200, learning_rate=0.1; total time=   2.0s\n",
      "[CV 2/3] END .....depth=7, iterations=200, learning_rate=0.1; total time=   2.6s\n",
      "[CV 3/3] END .....depth=7, iterations=200, learning_rate=0.1; total time=   2.7s\n",
      "[CV 1/3] END .....depth=7, iterations=200, learning_rate=0.4; total time=   2.2s\n",
      "[CV 2/3] END .....depth=7, iterations=200, learning_rate=0.4; total time=   2.6s\n",
      "[CV 3/3] END .....depth=7, iterations=200, learning_rate=0.4; total time=   2.9s\n",
      "[CV 1/3] END .....depth=7, iterations=200, learning_rate=0.9; total time=   2.3s\n",
      "[CV 2/3] END .....depth=7, iterations=200, learning_rate=0.9; total time=   2.7s\n",
      "[CV 3/3] END .....depth=7, iterations=200, learning_rate=0.9; total time=   2.8s\n",
      "[CV 1/3] END ....depth=10, iterations=100, learning_rate=0.1; total time=   4.6s\n",
      "[CV 2/3] END ....depth=10, iterations=100, learning_rate=0.1; total time=   5.5s\n",
      "[CV 3/3] END ....depth=10, iterations=100, learning_rate=0.1; total time=   6.1s\n",
      "[CV 1/3] END ....depth=10, iterations=100, learning_rate=0.4; total time=   4.4s\n",
      "[CV 2/3] END ....depth=10, iterations=100, learning_rate=0.4; total time=   5.4s\n",
      "[CV 3/3] END ....depth=10, iterations=100, learning_rate=0.4; total time=   6.2s\n",
      "[CV 1/3] END ....depth=10, iterations=100, learning_rate=0.9; total time=   4.6s\n",
      "[CV 2/3] END ....depth=10, iterations=100, learning_rate=0.9; total time=   5.6s\n",
      "[CV 3/3] END ....depth=10, iterations=100, learning_rate=0.9; total time=   6.0s\n",
      "[CV 1/3] END ....depth=10, iterations=150, learning_rate=0.1; total time=   6.3s\n",
      "[CV 2/3] END ....depth=10, iterations=150, learning_rate=0.1; total time=   8.7s\n",
      "[CV 3/3] END ....depth=10, iterations=150, learning_rate=0.1; total time=   8.6s\n",
      "[CV 1/3] END ....depth=10, iterations=150, learning_rate=0.4; total time=   6.1s\n",
      "[CV 2/3] END ....depth=10, iterations=150, learning_rate=0.4; total time=   8.2s\n",
      "[CV 3/3] END ....depth=10, iterations=150, learning_rate=0.4; total time=   9.0s\n",
      "[CV 1/3] END ....depth=10, iterations=150, learning_rate=0.9; total time=   6.4s\n",
      "[CV 2/3] END ....depth=10, iterations=150, learning_rate=0.9; total time=   7.8s\n",
      "[CV 3/3] END ....depth=10, iterations=150, learning_rate=0.9; total time=   8.8s\n",
      "[CV 1/3] END ....depth=10, iterations=200, learning_rate=0.1; total time=   8.5s\n",
      "[CV 2/3] END ....depth=10, iterations=200, learning_rate=0.1; total time=  10.4s\n",
      "[CV 3/3] END ....depth=10, iterations=200, learning_rate=0.1; total time=  11.6s\n",
      "[CV 1/3] END ....depth=10, iterations=200, learning_rate=0.4; total time=   8.4s\n",
      "[CV 2/3] END ....depth=10, iterations=200, learning_rate=0.4; total time=  10.4s\n",
      "[CV 3/3] END ....depth=10, iterations=200, learning_rate=0.4; total time=  11.4s\n",
      "[CV 1/3] END ....depth=10, iterations=200, learning_rate=0.9; total time=   8.4s\n",
      "[CV 2/3] END ....depth=10, iterations=200, learning_rate=0.9; total time=  10.5s\n",
      "[CV 3/3] END ....depth=10, iterations=200, learning_rate=0.9; total time=  11.3s\n",
      "[CV 1/3] END ....depth=13, iterations=100, learning_rate=0.1; total time=  33.6s\n",
      "[CV 2/3] END ....depth=13, iterations=100, learning_rate=0.1; total time=  42.9s\n",
      "[CV 3/3] END ....depth=13, iterations=100, learning_rate=0.1; total time=  50.0s\n",
      "[CV 1/3] END ....depth=13, iterations=100, learning_rate=0.4; total time=  33.4s\n",
      "[CV 2/3] END ....depth=13, iterations=100, learning_rate=0.4; total time=  42.8s\n",
      "[CV 3/3] END ....depth=13, iterations=100, learning_rate=0.4; total time=  49.0s\n",
      "[CV 1/3] END ....depth=13, iterations=100, learning_rate=0.9; total time=  33.8s\n",
      "[CV 2/3] END ....depth=13, iterations=100, learning_rate=0.9; total time=  41.8s\n",
      "[CV 3/3] END ....depth=13, iterations=100, learning_rate=0.9; total time=  49.1s\n",
      "[CV 1/3] END ....depth=13, iterations=150, learning_rate=0.1; total time=  50.8s\n",
      "[CV 2/3] END ....depth=13, iterations=150, learning_rate=0.1; total time= 1.1min\n",
      "[CV 3/3] END ....depth=13, iterations=150, learning_rate=0.1; total time= 1.2min\n",
      "[CV 1/3] END ....depth=13, iterations=150, learning_rate=0.4; total time=  51.7s\n",
      "[CV 2/3] END ....depth=13, iterations=150, learning_rate=0.4; total time= 1.1min\n",
      "[CV 3/3] END ....depth=13, iterations=150, learning_rate=0.4; total time= 1.2min\n",
      "[CV 1/3] END ....depth=13, iterations=150, learning_rate=0.9; total time=  50.0s\n",
      "[CV 2/3] END ....depth=13, iterations=150, learning_rate=0.9; total time= 1.1min\n",
      "[CV 3/3] END ....depth=13, iterations=150, learning_rate=0.9; total time= 1.3min\n",
      "[CV 1/3] END ....depth=13, iterations=200, learning_rate=0.1; total time= 1.1min\n",
      "[CV 2/3] END ....depth=13, iterations=200, learning_rate=0.1; total time= 1.4min\n",
      "[CV 3/3] END ....depth=13, iterations=200, learning_rate=0.1; total time= 1.6min\n",
      "[CV 1/3] END ....depth=13, iterations=200, learning_rate=0.4; total time= 1.1min\n",
      "[CV 2/3] END ....depth=13, iterations=200, learning_rate=0.4; total time= 1.4min\n",
      "[CV 3/3] END ....depth=13, iterations=200, learning_rate=0.4; total time= 1.6min\n",
      "[CV 1/3] END ....depth=13, iterations=200, learning_rate=0.9; total time= 1.1min\n",
      "[CV 2/3] END ....depth=13, iterations=200, learning_rate=0.9; total time= 1.4min\n",
      "[CV 3/3] END ....depth=13, iterations=200, learning_rate=0.9; total time= 1.6min\n"
     ]
    },
    {
     "data": {
      "text/plain": [
       "{'depth': 4, 'iterations': 200, 'learning_rate': 0.1}"
      ]
     },
     "metadata": {},
     "output_type": "display_data"
    },
    {
     "data": {
      "text/plain": [
       "27.394945603982098"
      ]
     },
     "metadata": {},
     "output_type": "display_data"
    },
    {
     "name": "stdout",
     "output_type": "stream",
     "text": [
      "CPU times: user 31min 37s, sys: 6.89 s, total: 31min 43s\n",
      "Wall time: 33min 31s\n"
     ]
    }
   ],
   "source": [
    "%%time\n",
    "\n",
    "model_cbr = CatBoostRegressor(loss_function='RMSE', random_state=MY_RANDOM_STATE) \n",
    "# инициализация параметров для GridSearchCV\n",
    "params_cbr = {'learning_rate':[0.1,0.4,0.9], 'iterations':range(100,250,50), 'depth':range(1,15,3)}\n",
    "tscv = TimeSeriesSplit(n_splits=3)\n",
    "# создаем экземпляр GridSearchCV\n",
    "grid_model_cbr = GridSearchCV(estimator=model_cbr, \n",
    "                                param_grid=params_cbr, \n",
    "                                scoring='neg_root_mean_squared_error',\n",
    "                                cv=tscv,\n",
    "                                verbose=3)\n",
    "# запускаем обучение\n",
    "grid_model_cbr.fit(features_train, target_train, verbose=False)\n",
    "# выводим на экран наилучшие гиперпараметры и метрику RMSE\n",
    "display(grid_model_cbr.best_params_)\n",
    "display(grid_model_cbr.best_score_*-1)"
   ]
  },
  {
   "cell_type": "markdown",
   "metadata": {},
   "source": [
    "### Сравнение моделей"
   ]
  },
  {
   "cell_type": "markdown",
   "metadata": {},
   "source": [
    "Соберем данные о работе алгоритмов в таблицу:\n",
    "- rmse модели;\n",
    "- наилучшие гиперпараметры для модели."
   ]
  },
  {
   "cell_type": "code",
   "execution_count": 53,
   "metadata": {},
   "outputs": [
    {
     "name": "stdout",
     "output_type": "stream",
     "text": [
      "                            RMSE  \\\n",
      "LinearRegression       26.057871   \n",
      "DecisionTreeRegressor  32.637646   \n",
      "RandomForestRegressor  28.666811   \n",
      "LGBMRegressor          27.753593   \n",
      "CatBoostRegressor      27.394946   \n",
      "\n",
      "                                                   Лучшие гиперпараметры  \n",
      "LinearRegression                                                      {}  \n",
      "DecisionTreeRegressor                                   {'max_depth': 5}  \n",
      "RandomForestRegressor             {'max_depth': 14, 'n_estimators': 100}  \n",
      "LGBMRegressor                   {'learning_rate': 0.2, 'num_leaves': 10}  \n",
      "CatBoostRegressor      {'depth': 4, 'iterations': 200, 'learning_rate...  \n"
     ]
    }
   ],
   "source": [
    "#соберем данные по качеству моделей в таблицу для наглядности\n",
    "models = {'RMSE':[grid_model_lr.best_score_*-1,\n",
    "                  grid_model_dt.best_score_*-1,\n",
    "                  grid_model_rf.best_score_*-1,\n",
    "                  grid_model_lgbmr.best_score_*-1,\n",
    "                  grid_model_cbr.best_score_*-1],\n",
    "        \n",
    "        'Лучшие гиперпараметры':[grid_model_lr.best_params_,\n",
    "                              grid_model_dt.best_params_, \n",
    "                              grid_model_rf.best_params_, \n",
    "                              grid_model_lgbmr.best_params_, \n",
    "                              grid_model_cbr.best_params_]\n",
    "       }\n",
    "index_models = ['LinearRegression',\n",
    "         'DecisionTreeRegressor',\n",
    "         'RandomForestRegressor',\n",
    "         'LGBMRegressor',\n",
    "         'CatBoostRegressor',\n",
    "       \n",
    "        ]\n",
    "\n",
    "\n",
    "data_rmse = pd.DataFrame(data=models, index=index_models)\n",
    "print(data_rmse)"
   ]
  },
  {
   "cell_type": "markdown",
   "metadata": {},
   "source": [
    " **Выводы:**\n",
    "1. По RMSE все модели на обучающей выборке удовлетворяют требованиям заказчика - меньше 48.\n",
    "2. Модель `LinearRegression` на обучающей выборке показала RMSE = ~~27,34~~ 26,06.\n",
    "3. Модель `DecisionTreeRegressor` при гиперпараметре 'max_depth'=4 показала RMSE = ~~31,97~~ 32,64.\n",
    "4. Модель `RandomForestRegressor` при гиперпараметрах 'max_depth'=11, 'n_estimators'=100 показала RMSE = ~~28,77~~ 28,67.\n",
    "5. Модель `LGBMRegressor` при гиперпараметрах  показала RMSE = ~~28,18~~ 27,76.\n",
    "6. Модель `CatBoostRegressor` при гиперпараметрах  показала RMSE = ~~27,5~~ 27,4.\n",
    "\n",
    "Таким образом, для тестирования выбираем модель `LinearRegression`."
   ]
  },
  {
   "cell_type": "markdown",
   "metadata": {},
   "source": [
    "## Тестирование"
   ]
  },
  {
   "cell_type": "markdown",
   "metadata": {},
   "source": [
    "Протестируем выбранную на предыдущем шаге модель `LinearRegression`."
   ]
  },
  {
   "cell_type": "code",
   "execution_count": 54,
   "metadata": {},
   "outputs": [
    {
     "name": "stdout",
     "output_type": "stream",
     "text": [
      "41.9658504936717\n",
      "CPU times: user 2.69 ms, sys: 7.97 ms, total: 10.7 ms\n",
      "Wall time: 3.54 ms\n"
     ]
    }
   ],
   "source": [
    "%%time\n",
    "\n",
    "predicted_test = grid_model_lr.predict(features_test_ohe) # делаем предсказания\n",
    "# считаем rmse\n",
    "rmse_lr_test = mean_squared_error(target_test, predicted_test) ** .5\n",
    "print(rmse_lr_test)"
   ]
  },
  {
   "cell_type": "code",
   "execution_count": 61,
   "metadata": {},
   "outputs": [
    {
     "data": {
      "image/png": "[encoded data removed]",
      "text/plain": [
       "<Figure size 1080x720 with 1 Axes>"
      ]
     },
     "metadata": {
      "needs_background": "light"
     },
     "output_type": "display_data"
    }
   ],
   "source": [
    "plt.figure(figsize=(15, 10))\n",
    "plt.plot(target_test.index, target_test, label = \"Реальные данные\")\n",
    "plt.plot(target_test.index, predicted_test, label = \"Предсказания\")\n",
    "plt.legend()\n",
    "plt.show()\n"
   ]
  },
  {
   "cell_type": "markdown",
   "metadata": {},
   "source": [
    "**Выводы:** RMSE модели `LinearRegression` на тестовой - ~~44,67~~ 42, что удовлетворяет требованию заказчика."
   ]
  },
  {
   "cell_type": "markdown",
   "metadata": {},
   "source": [
    "## Общий вывод"
   ]
  },
  {
   "cell_type": "markdown",
   "metadata": {},
   "source": [
    "1. Мы провели анализ и подготовку данных:\n",
    "- было проведено ресемплирование данных по одному часу;\n",
    "- был обнаружен тренд равномерного роста заказов с периодическими небольшими падениями, а также сезонность по дням - спад ночью, рост с утра и днем, пик к вечеру;\n",
    "- временной ряд был преобразован в более стационарный путем нахождения разности его значений.\n",
    "2. Были подготовлены признаки к обучению моделей:\n",
    "- были добавлены новые признаки: календарные признаки (день и час), «отстающие значения», скользящее среднее;\n",
    "- категориальные признаки были преобразованы в численные с помощью техники прямого кодирования (One-Hot Encoding, OHE) с параметром `drop='first'`, помогающим избежать \"ловушки фиктивных признаков\" (это кодирование использовали для линейной регрессии, для древовидных моделей было принято решение не использовать кодирование);\n",
    "- для числовых признаков была проведена стандартизация данных с помощью StandardScaler.\n",
    "3. Целевым признаком определили количество заказов - `num_orders`. Разбили данные на 2 выборки в соотношении - обучающую и тестовую, для тестовой выделили 10% данных.\n",
    "4. Задача была определена, как регрессия. Для решения задачи были применены и исследованы пять вариантов моделирования: линейная регрессия, дерево решений, случайный лес, градиентные бустинги LightGBM и CatBoostRegressor (гиперпараметры были подобраны при помощи GridSearchCV, фолды определили при помощи TimeSeriesSplit):\n",
    "- модель `LinearRegression` показала наилучший RMSE на обучающей выборке = 27,34 (удовлетворяет требованиям заказчика);\n",
    "- для модели `DecisionTreeRegressor` были проанализированы 15 вариантов: с гиперпараметром `max_depth` - максимальная глубина дерева - от 1 до 15. Она показала RMSE = 31,97 при max_depth=4 (удовлетворяет требованиям заказчика);\n",
    "- для моделей `RandomForestRegressor` было проанализировано 150 вариантов: с гиперпараметром `n_estimators` - количество деревьев - от 10 до 100 с шагом 10, и гиперпараметром `max_depth` - максимальная глубина - от 1 до 15. Наилучший результат показала модель с количеством деревьев 100 и с глубиной дерева 11: RMSE = 28,77 (удовлетворяет требованиям заказчика);\n",
    "- модель `LGBMRegressor` оказалась лучшей по RMSE. Модель была проанализирована в 15 вариантах с гиперпараметрами: `num_leaves` - от 10 до 100 с шагом 20, `learning_rate` - 0.2, 0.4, 0.8. Наилучший результат показала модель с гиперпараметрами 'learning_rate': 0.2, 'num_leaves': 10: RMSE = 28,18 (удовлетворяет требованиям заказчика);\n",
    "- для модели `CatBoostRegressor` было проанализировано 45 вариантов: скорость обучения (`learning_rate`): 0.1,0.4,0.9, количество деревьев в ансамбле (`iterations`): от 100 до 250 с шагом 50, глубина дерева `depth` от 1 до 15 с шагом 3. Наилучший результат показала модель с гиперпараметрами 'depth': 4, 'iterations': 200, 'learning_rate': 0.1: RMSE = 27,5 (удовлетворяет требованиям заказчика).\n",
    "5. Наилучшая модель `LinearRegression` на тестовой выборке показала RMSE = 42, что удовлетворяет требованиям заказчика."
   ]
  },
  {
   "cell_type": "markdown",
   "metadata": {},
   "source": [
    "## Чек-лист проверки"
   ]
  },
  {
   "cell_type": "markdown",
   "metadata": {},
   "source": [
    "- [x]  Jupyter Notebook открыт\n",
    "- [x]  Весь код выполняется без ошибок\n",
    "- [x]  Ячейки с кодом расположены в порядке исполнения\n",
    "- [x]  Данные загружены и подготовлены\n",
    "- [x]  Данные проанализированы\n",
    "- [x]  Модель обучена, гиперпараметры подобраны\n",
    "- [x]  Качество моделей проверено, выводы сделаны\n",
    "- [x]  Значение *RMSE* на тестовой выборке не больше 48"
   ]
  }
 ],
 "metadata": {
  "ExecuteTimeLog": [
   {
    "duration": 1834,
    "start_time": "2023-10-16T22:18:43.379Z"
   },
   {
    "duration": 3,
    "start_time": "2023-10-16T22:18:53.491Z"
   },
   {
    "duration": 3,
    "start_time": "2023-10-16T22:19:04.458Z"
   },
   {
    "duration": 48,
    "start_time": "2023-10-17T00:22:36.349Z"
   },
   {
    "duration": 1719,
    "start_time": "2023-10-17T00:22:42.619Z"
   },
   {
    "duration": 2,
    "start_time": "2023-10-17T00:22:44.341Z"
   },
   {
    "duration": 9,
    "start_time": "2023-10-17T00:22:44.345Z"
   },
   {
    "duration": 110,
    "start_time": "2023-10-17T00:22:44.355Z"
   },
   {
    "duration": 5,
    "start_time": "2023-10-17T00:22:46.784Z"
   },
   {
    "duration": 11,
    "start_time": "2023-10-17T00:23:19.392Z"
   },
   {
    "duration": 13,
    "start_time": "2023-10-17T00:24:42.801Z"
   },
   {
    "duration": 97,
    "start_time": "2023-10-17T00:25:23.607Z"
   },
   {
    "duration": 102,
    "start_time": "2023-10-17T00:25:29.535Z"
   },
   {
    "duration": 34,
    "start_time": "2023-10-17T00:25:49.814Z"
   },
   {
    "duration": 38,
    "start_time": "2023-10-17T00:25:58.849Z"
   },
   {
    "duration": 49,
    "start_time": "2023-10-17T00:26:48.030Z"
   },
   {
    "duration": 4,
    "start_time": "2023-10-17T00:26:52.685Z"
   },
   {
    "duration": 6,
    "start_time": "2023-10-17T00:26:55.241Z"
   },
   {
    "duration": 9,
    "start_time": "2023-10-17T00:29:58.346Z"
   },
   {
    "duration": 18,
    "start_time": "2023-10-17T00:30:06.916Z"
   },
   {
    "duration": 5,
    "start_time": "2023-10-17T00:32:45.286Z"
   },
   {
    "duration": 5,
    "start_time": "2023-10-17T01:22:39.335Z"
   },
   {
    "duration": 54,
    "start_time": "2023-10-17T01:22:39.342Z"
   },
   {
    "duration": 23,
    "start_time": "2023-10-17T01:22:39.398Z"
   },
   {
    "duration": 65,
    "start_time": "2023-10-17T01:22:39.423Z"
   },
   {
    "duration": 3,
    "start_time": "2023-10-17T01:22:39.490Z"
   },
   {
    "duration": 21,
    "start_time": "2023-10-17T01:22:39.495Z"
   },
   {
    "duration": 28,
    "start_time": "2023-10-17T01:22:39.517Z"
   },
   {
    "duration": 37,
    "start_time": "2023-10-17T01:22:39.547Z"
   },
   {
    "duration": 6,
    "start_time": "2023-10-17T01:22:39.587Z"
   },
   {
    "duration": 28,
    "start_time": "2023-10-17T01:22:39.595Z"
   },
   {
    "duration": 9,
    "start_time": "2023-10-17T01:24:42.164Z"
   },
   {
    "duration": 8,
    "start_time": "2023-10-17T01:25:08.013Z"
   },
   {
    "duration": 26,
    "start_time": "2023-10-17T01:26:16.882Z"
   },
   {
    "duration": 522,
    "start_time": "2023-10-17T01:29:38.715Z"
   },
   {
    "duration": 9,
    "start_time": "2023-10-17T01:35:15.428Z"
   },
   {
    "duration": 4,
    "start_time": "2023-10-17T01:35:32.603Z"
   },
   {
    "duration": 8,
    "start_time": "2023-10-17T01:36:32.547Z"
   },
   {
    "duration": 15,
    "start_time": "2023-10-17T01:37:25.911Z"
   },
   {
    "duration": 90,
    "start_time": "2023-10-17T01:37:54.005Z"
   },
   {
    "duration": 21,
    "start_time": "2023-10-17T01:37:58.347Z"
   },
   {
    "duration": 6,
    "start_time": "2023-10-17T01:40:02.365Z"
   },
   {
    "duration": 383,
    "start_time": "2023-10-17T01:40:04.848Z"
   },
   {
    "duration": 7,
    "start_time": "2023-10-17T01:43:15.500Z"
   },
   {
    "duration": 130,
    "start_time": "2023-10-17T01:43:47.544Z"
   },
   {
    "duration": 257,
    "start_time": "2023-10-17T01:44:39.976Z"
   },
   {
    "duration": 7,
    "start_time": "2023-10-17T01:52:19.481Z"
   },
   {
    "duration": 378,
    "start_time": "2023-10-17T01:52:25.754Z"
   },
   {
    "duration": 2,
    "start_time": "2023-10-17T01:57:22.181Z"
   },
   {
    "duration": 10,
    "start_time": "2023-10-17T01:58:09.719Z"
   },
   {
    "duration": 26,
    "start_time": "2023-10-17T01:59:04.731Z"
   },
   {
    "duration": 8,
    "start_time": "2023-10-17T01:59:14.157Z"
   },
   {
    "duration": 313,
    "start_time": "2023-10-17T01:59:40.317Z"
   },
   {
    "duration": 196,
    "start_time": "2023-10-17T01:59:56.779Z"
   },
   {
    "duration": 158,
    "start_time": "2023-10-17T02:00:11.307Z"
   },
   {
    "duration": 228,
    "start_time": "2023-10-17T02:00:28.862Z"
   },
   {
    "duration": 1614,
    "start_time": "2023-10-17T18:56:12.739Z"
   },
   {
    "duration": 2,
    "start_time": "2023-10-17T18:56:14.355Z"
   },
   {
    "duration": 19,
    "start_time": "2023-10-17T18:56:14.359Z"
   },
   {
    "duration": 22,
    "start_time": "2023-10-17T18:56:14.380Z"
   },
   {
    "duration": 26,
    "start_time": "2023-10-17T18:56:14.404Z"
   },
   {
    "duration": 26,
    "start_time": "2023-10-17T18:56:14.432Z"
   },
   {
    "duration": 124,
    "start_time": "2023-10-17T18:56:14.459Z"
   },
   {
    "duration": 6,
    "start_time": "2023-10-17T18:56:14.585Z"
   },
   {
    "duration": 41,
    "start_time": "2023-10-17T18:56:14.592Z"
   },
   {
    "duration": 29,
    "start_time": "2023-10-17T18:56:14.634Z"
   },
   {
    "duration": 35,
    "start_time": "2023-10-17T18:56:14.664Z"
   },
   {
    "duration": 46,
    "start_time": "2023-10-17T18:56:14.700Z"
   },
   {
    "duration": 13,
    "start_time": "2023-10-17T18:56:14.748Z"
   },
   {
    "duration": 45,
    "start_time": "2023-10-17T18:56:14.764Z"
   },
   {
    "duration": 14,
    "start_time": "2023-10-17T18:56:14.810Z"
   },
   {
    "duration": 18,
    "start_time": "2023-10-17T18:56:14.827Z"
   },
   {
    "duration": 15,
    "start_time": "2023-10-17T18:56:14.846Z"
   },
   {
    "duration": 31,
    "start_time": "2023-10-17T18:56:14.863Z"
   },
   {
    "duration": 5,
    "start_time": "2023-10-17T18:56:14.896Z"
   },
   {
    "duration": 494,
    "start_time": "2023-10-17T18:56:14.902Z"
   },
   {
    "duration": 17,
    "start_time": "2023-10-17T18:56:15.398Z"
   },
   {
    "duration": 217,
    "start_time": "2023-10-17T18:56:32.623Z"
   },
   {
    "duration": 171,
    "start_time": "2023-10-17T18:56:38.384Z"
   },
   {
    "duration": 213,
    "start_time": "2023-10-17T18:56:51.189Z"
   },
   {
    "duration": 155,
    "start_time": "2023-10-17T18:56:59.653Z"
   },
   {
    "duration": 264,
    "start_time": "2023-10-17T18:57:01.573Z"
   },
   {
    "duration": 5,
    "start_time": "2023-10-17T19:11:08.802Z"
   },
   {
    "duration": 16,
    "start_time": "2023-10-17T19:11:08.811Z"
   },
   {
    "duration": 23,
    "start_time": "2023-10-17T19:11:08.829Z"
   },
   {
    "duration": 15,
    "start_time": "2023-10-17T19:11:08.854Z"
   },
   {
    "duration": 16,
    "start_time": "2023-10-17T19:11:08.870Z"
   },
   {
    "duration": 33,
    "start_time": "2023-10-17T19:11:08.888Z"
   },
   {
    "duration": 92,
    "start_time": "2023-10-17T19:11:08.923Z"
   },
   {
    "duration": 5,
    "start_time": "2023-10-17T19:11:09.018Z"
   },
   {
    "duration": 16,
    "start_time": "2023-10-17T19:11:09.025Z"
   },
   {
    "duration": 16,
    "start_time": "2023-10-17T19:11:09.042Z"
   },
   {
    "duration": 15,
    "start_time": "2023-10-17T19:11:09.059Z"
   },
   {
    "duration": 49,
    "start_time": "2023-10-17T19:11:09.076Z"
   },
   {
    "duration": 4,
    "start_time": "2023-10-17T19:11:09.126Z"
   },
   {
    "duration": 28,
    "start_time": "2023-10-17T19:11:09.132Z"
   },
   {
    "duration": 16,
    "start_time": "2023-10-17T19:11:09.162Z"
   },
   {
    "duration": 13,
    "start_time": "2023-10-17T19:11:09.179Z"
   },
   {
    "duration": 49,
    "start_time": "2023-10-17T19:11:09.193Z"
   },
   {
    "duration": 24,
    "start_time": "2023-10-17T19:11:09.244Z"
   },
   {
    "duration": 5,
    "start_time": "2023-10-17T19:11:09.270Z"
   },
   {
    "duration": 532,
    "start_time": "2023-10-17T19:11:11.457Z"
   },
   {
    "duration": 7,
    "start_time": "2023-10-17T19:24:17.750Z"
   },
   {
    "duration": 373,
    "start_time": "2023-10-17T19:24:25.494Z"
   },
   {
    "duration": 12,
    "start_time": "2023-10-17T19:26:52.286Z"
   },
   {
    "duration": 403,
    "start_time": "2023-10-17T19:26:56.090Z"
   },
   {
    "duration": 215,
    "start_time": "2023-10-17T19:30:13.799Z"
   },
   {
    "duration": 199,
    "start_time": "2023-10-17T19:30:18.653Z"
   },
   {
    "duration": 302,
    "start_time": "2023-10-17T19:30:39.575Z"
   },
   {
    "duration": 213,
    "start_time": "2023-10-17T19:33:00.937Z"
   },
   {
    "duration": 254,
    "start_time": "2023-10-17T19:37:36.497Z"
   },
   {
    "duration": 3,
    "start_time": "2023-10-17T19:42:33.690Z"
   },
   {
    "duration": 222,
    "start_time": "2023-10-17T19:42:48.991Z"
   },
   {
    "duration": 211,
    "start_time": "2023-10-17T19:42:59.239Z"
   },
   {
    "duration": 314,
    "start_time": "2023-10-17T19:43:09.579Z"
   },
   {
    "duration": 144,
    "start_time": "2023-10-17T19:43:18.401Z"
   },
   {
    "duration": 148,
    "start_time": "2023-10-17T19:44:11.278Z"
   },
   {
    "duration": 214,
    "start_time": "2023-10-17T19:45:26.225Z"
   },
   {
    "duration": 8,
    "start_time": "2023-10-17T20:04:05.058Z"
   },
   {
    "duration": 457,
    "start_time": "2023-10-17T20:04:13.506Z"
   },
   {
    "duration": 8,
    "start_time": "2023-10-17T20:24:33.488Z"
   },
   {
    "duration": 8,
    "start_time": "2023-10-17T20:28:07.133Z"
   },
   {
    "duration": 469,
    "start_time": "2023-10-17T20:28:18.086Z"
   },
   {
    "duration": 7,
    "start_time": "2023-10-17T20:28:40.824Z"
   },
   {
    "duration": 518,
    "start_time": "2023-10-17T20:28:45.962Z"
   },
   {
    "duration": 444,
    "start_time": "2023-10-17T20:29:48.019Z"
   },
   {
    "duration": 190,
    "start_time": "2023-10-17T21:11:52.235Z"
   },
   {
    "duration": 5,
    "start_time": "2023-10-17T21:23:21.324Z"
   },
   {
    "duration": 30,
    "start_time": "2023-10-17T21:30:37.457Z"
   },
   {
    "duration": 6,
    "start_time": "2023-10-17T21:50:45.822Z"
   },
   {
    "duration": 40,
    "start_time": "2023-10-17T21:50:45.830Z"
   },
   {
    "duration": 40,
    "start_time": "2023-10-17T21:50:45.871Z"
   },
   {
    "duration": 39,
    "start_time": "2023-10-17T21:50:45.918Z"
   },
   {
    "duration": 32,
    "start_time": "2023-10-17T21:50:45.960Z"
   },
   {
    "duration": 45,
    "start_time": "2023-10-17T21:50:45.994Z"
   },
   {
    "duration": 22,
    "start_time": "2023-10-17T21:50:46.041Z"
   },
   {
    "duration": 84,
    "start_time": "2023-10-17T21:50:46.066Z"
   },
   {
    "duration": 5,
    "start_time": "2023-10-17T21:50:46.151Z"
   },
   {
    "duration": 10,
    "start_time": "2023-10-17T21:50:46.158Z"
   },
   {
    "duration": 15,
    "start_time": "2023-10-17T21:50:46.173Z"
   },
   {
    "duration": 37,
    "start_time": "2023-10-17T21:50:46.191Z"
   },
   {
    "duration": 31,
    "start_time": "2023-10-17T21:50:46.231Z"
   },
   {
    "duration": 5,
    "start_time": "2023-10-17T21:50:46.265Z"
   },
   {
    "duration": 35,
    "start_time": "2023-10-17T21:50:46.272Z"
   },
   {
    "duration": 5,
    "start_time": "2023-10-17T21:50:46.310Z"
   },
   {
    "duration": 19,
    "start_time": "2023-10-17T21:50:46.317Z"
   },
   {
    "duration": 35,
    "start_time": "2023-10-17T21:50:46.338Z"
   },
   {
    "duration": 29,
    "start_time": "2023-10-17T21:50:46.375Z"
   },
   {
    "duration": 8,
    "start_time": "2023-10-17T21:50:46.406Z"
   },
   {
    "duration": 648,
    "start_time": "2023-10-17T21:50:46.416Z"
   },
   {
    "duration": 12,
    "start_time": "2023-10-17T21:50:47.065Z"
   },
   {
    "duration": 0,
    "start_time": "2023-10-17T21:50:47.078Z"
   },
   {
    "duration": 0,
    "start_time": "2023-10-17T21:50:47.080Z"
   },
   {
    "duration": 0,
    "start_time": "2023-10-17T21:50:47.081Z"
   },
   {
    "duration": 0,
    "start_time": "2023-10-17T21:50:47.082Z"
   },
   {
    "duration": 0,
    "start_time": "2023-10-17T21:50:47.083Z"
   },
   {
    "duration": 0,
    "start_time": "2023-10-17T21:50:47.084Z"
   },
   {
    "duration": 0,
    "start_time": "2023-10-17T21:50:47.122Z"
   },
   {
    "duration": 0,
    "start_time": "2023-10-17T21:50:47.124Z"
   },
   {
    "duration": 0,
    "start_time": "2023-10-17T21:50:47.125Z"
   },
   {
    "duration": 5,
    "start_time": "2023-10-17T21:51:55.022Z"
   },
   {
    "duration": 11,
    "start_time": "2023-10-17T21:52:08.536Z"
   },
   {
    "duration": 6,
    "start_time": "2023-10-17T21:54:58.094Z"
   },
   {
    "duration": 5,
    "start_time": "2023-10-17T21:57:03.489Z"
   },
   {
    "duration": 26,
    "start_time": "2023-10-17T21:57:03.496Z"
   },
   {
    "duration": 12,
    "start_time": "2023-10-17T21:57:03.525Z"
   },
   {
    "duration": 17,
    "start_time": "2023-10-17T21:57:03.539Z"
   },
   {
    "duration": 31,
    "start_time": "2023-10-17T21:57:03.559Z"
   },
   {
    "duration": 9,
    "start_time": "2023-10-17T21:57:03.593Z"
   },
   {
    "duration": 23,
    "start_time": "2023-10-17T21:57:03.604Z"
   },
   {
    "duration": 63,
    "start_time": "2023-10-17T21:57:03.628Z"
   },
   {
    "duration": 4,
    "start_time": "2023-10-17T21:57:03.693Z"
   },
   {
    "duration": 27,
    "start_time": "2023-10-17T21:57:03.699Z"
   },
   {
    "duration": 22,
    "start_time": "2023-10-17T21:57:03.728Z"
   },
   {
    "duration": 32,
    "start_time": "2023-10-17T21:57:03.752Z"
   },
   {
    "duration": 32,
    "start_time": "2023-10-17T21:57:03.788Z"
   },
   {
    "duration": 4,
    "start_time": "2023-10-17T21:57:03.823Z"
   },
   {
    "duration": 19,
    "start_time": "2023-10-17T21:57:03.828Z"
   },
   {
    "duration": 15,
    "start_time": "2023-10-17T21:57:03.849Z"
   },
   {
    "duration": 24,
    "start_time": "2023-10-17T21:57:03.865Z"
   },
   {
    "duration": 31,
    "start_time": "2023-10-17T21:57:03.891Z"
   },
   {
    "duration": 20,
    "start_time": "2023-10-17T21:57:03.924Z"
   },
   {
    "duration": 26,
    "start_time": "2023-10-17T21:57:03.946Z"
   },
   {
    "duration": 466,
    "start_time": "2023-10-17T21:57:03.974Z"
   },
   {
    "duration": 7,
    "start_time": "2023-10-17T21:57:04.442Z"
   },
   {
    "duration": 65,
    "start_time": "2023-10-17T21:57:04.451Z"
   },
   {
    "duration": 251,
    "start_time": "2023-10-17T21:57:04.519Z"
   },
   {
    "duration": 249,
    "start_time": "2023-10-17T21:57:04.772Z"
   },
   {
    "duration": 359,
    "start_time": "2023-10-17T21:57:05.023Z"
   },
   {
    "duration": 188,
    "start_time": "2023-10-17T21:57:05.384Z"
   },
   {
    "duration": 186,
    "start_time": "2023-10-17T21:57:05.574Z"
   },
   {
    "duration": 319,
    "start_time": "2023-10-17T21:57:05.762Z"
   },
   {
    "duration": 8,
    "start_time": "2023-10-17T21:57:06.082Z"
   },
   {
    "duration": 509,
    "start_time": "2023-10-17T21:57:06.092Z"
   },
   {
    "duration": 40,
    "start_time": "2023-10-17T21:57:06.602Z"
   },
   {
    "duration": 4,
    "start_time": "2023-10-17T21:57:45.779Z"
   },
   {
    "duration": 6,
    "start_time": "2023-10-17T22:00:17.186Z"
   },
   {
    "duration": 7,
    "start_time": "2023-10-17T22:01:45.315Z"
   },
   {
    "duration": 6,
    "start_time": "2023-10-17T22:04:07.796Z"
   },
   {
    "duration": 5,
    "start_time": "2023-10-17T22:16:45.953Z"
   },
   {
    "duration": 5,
    "start_time": "2023-10-17T22:16:51.678Z"
   },
   {
    "duration": 7,
    "start_time": "2023-10-17T22:17:37.305Z"
   },
   {
    "duration": 7,
    "start_time": "2023-10-17T22:17:44.317Z"
   },
   {
    "duration": 37,
    "start_time": "2023-10-17T22:17:44.326Z"
   },
   {
    "duration": 32,
    "start_time": "2023-10-17T22:17:44.365Z"
   },
   {
    "duration": 14,
    "start_time": "2023-10-17T22:17:44.398Z"
   },
   {
    "duration": 14,
    "start_time": "2023-10-17T22:17:44.416Z"
   },
   {
    "duration": 11,
    "start_time": "2023-10-17T22:17:44.432Z"
   },
   {
    "duration": 30,
    "start_time": "2023-10-17T22:17:44.445Z"
   },
   {
    "duration": 72,
    "start_time": "2023-10-17T22:17:44.477Z"
   },
   {
    "duration": 4,
    "start_time": "2023-10-17T22:17:44.551Z"
   },
   {
    "duration": 33,
    "start_time": "2023-10-17T22:17:44.557Z"
   },
   {
    "duration": 39,
    "start_time": "2023-10-17T22:17:44.592Z"
   },
   {
    "duration": 24,
    "start_time": "2023-10-17T22:17:44.632Z"
   },
   {
    "duration": 26,
    "start_time": "2023-10-17T22:17:44.658Z"
   },
   {
    "duration": 17,
    "start_time": "2023-10-17T22:17:44.687Z"
   },
   {
    "duration": 25,
    "start_time": "2023-10-17T22:17:44.707Z"
   },
   {
    "duration": 38,
    "start_time": "2023-10-17T22:17:44.734Z"
   },
   {
    "duration": 26,
    "start_time": "2023-10-17T22:17:44.774Z"
   },
   {
    "duration": 33,
    "start_time": "2023-10-17T22:17:44.802Z"
   },
   {
    "duration": 34,
    "start_time": "2023-10-17T22:17:44.837Z"
   },
   {
    "duration": 5,
    "start_time": "2023-10-17T22:17:44.874Z"
   },
   {
    "duration": 611,
    "start_time": "2023-10-17T22:17:44.881Z"
   },
   {
    "duration": 15,
    "start_time": "2023-10-17T22:17:45.494Z"
   },
   {
    "duration": 31,
    "start_time": "2023-10-17T22:17:45.511Z"
   },
   {
    "duration": 250,
    "start_time": "2023-10-17T22:17:45.545Z"
   },
   {
    "duration": 263,
    "start_time": "2023-10-17T22:17:45.797Z"
   },
   {
    "duration": 294,
    "start_time": "2023-10-17T22:17:46.062Z"
   },
   {
    "duration": 179,
    "start_time": "2023-10-17T22:17:46.358Z"
   },
   {
    "duration": 173,
    "start_time": "2023-10-17T22:17:46.538Z"
   },
   {
    "duration": 255,
    "start_time": "2023-10-17T22:17:46.712Z"
   },
   {
    "duration": 7,
    "start_time": "2023-10-17T22:17:46.969Z"
   },
   {
    "duration": 628,
    "start_time": "2023-10-17T22:17:46.978Z"
   },
   {
    "duration": 33,
    "start_time": "2023-10-17T22:17:47.616Z"
   },
   {
    "duration": 3,
    "start_time": "2023-10-17T22:17:47.651Z"
   },
   {
    "duration": 11,
    "start_time": "2023-10-17T22:17:47.656Z"
   },
   {
    "duration": 16,
    "start_time": "2023-10-17T22:17:47.669Z"
   },
   {
    "duration": 15,
    "start_time": "2023-10-17T22:17:47.687Z"
   },
   {
    "duration": 99,
    "start_time": "2023-10-17T22:29:19.937Z"
   },
   {
    "duration": 166,
    "start_time": "2023-10-17T22:29:41.723Z"
   },
   {
    "duration": 5,
    "start_time": "2023-10-17T22:31:09.296Z"
   },
   {
    "duration": 36,
    "start_time": "2023-10-17T22:31:09.303Z"
   },
   {
    "duration": 33,
    "start_time": "2023-10-17T22:31:09.341Z"
   },
   {
    "duration": 48,
    "start_time": "2023-10-17T22:31:09.376Z"
   },
   {
    "duration": 72,
    "start_time": "2023-10-17T22:31:09.427Z"
   },
   {
    "duration": 40,
    "start_time": "2023-10-17T22:31:09.501Z"
   },
   {
    "duration": 60,
    "start_time": "2023-10-17T22:31:09.542Z"
   },
   {
    "duration": 70,
    "start_time": "2023-10-17T22:31:09.605Z"
   },
   {
    "duration": 4,
    "start_time": "2023-10-17T22:31:09.677Z"
   },
   {
    "duration": 38,
    "start_time": "2023-10-17T22:31:09.682Z"
   },
   {
    "duration": 24,
    "start_time": "2023-10-17T22:31:09.722Z"
   },
   {
    "duration": 29,
    "start_time": "2023-10-17T22:31:09.748Z"
   },
   {
    "duration": 47,
    "start_time": "2023-10-17T22:31:09.778Z"
   },
   {
    "duration": 5,
    "start_time": "2023-10-17T22:31:09.827Z"
   },
   {
    "duration": 30,
    "start_time": "2023-10-17T22:31:09.834Z"
   },
   {
    "duration": 24,
    "start_time": "2023-10-17T22:31:09.866Z"
   },
   {
    "duration": 37,
    "start_time": "2023-10-17T22:31:09.891Z"
   },
   {
    "duration": 40,
    "start_time": "2023-10-17T22:31:09.931Z"
   },
   {
    "duration": 31,
    "start_time": "2023-10-17T22:31:09.973Z"
   },
   {
    "duration": 36,
    "start_time": "2023-10-17T22:31:10.005Z"
   },
   {
    "duration": 503,
    "start_time": "2023-10-17T22:31:10.042Z"
   },
   {
    "duration": 5,
    "start_time": "2023-10-17T22:31:10.547Z"
   },
   {
    "duration": 35,
    "start_time": "2023-10-17T22:31:10.553Z"
   },
   {
    "duration": 265,
    "start_time": "2023-10-17T22:31:10.591Z"
   },
   {
    "duration": 226,
    "start_time": "2023-10-17T22:31:10.858Z"
   },
   {
    "duration": 392,
    "start_time": "2023-10-17T22:31:11.086Z"
   },
   {
    "duration": 178,
    "start_time": "2023-10-17T22:31:11.480Z"
   },
   {
    "duration": 179,
    "start_time": "2023-10-17T22:31:11.660Z"
   },
   {
    "duration": 257,
    "start_time": "2023-10-17T22:31:11.841Z"
   },
   {
    "duration": 12,
    "start_time": "2023-10-17T22:31:12.099Z"
   },
   {
    "duration": 476,
    "start_time": "2023-10-17T22:31:12.113Z"
   },
   {
    "duration": 54,
    "start_time": "2023-10-17T22:31:12.590Z"
   },
   {
    "duration": 3,
    "start_time": "2023-10-17T22:31:12.646Z"
   },
   {
    "duration": 36,
    "start_time": "2023-10-17T22:31:12.651Z"
   },
   {
    "duration": 27,
    "start_time": "2023-10-17T22:31:12.689Z"
   },
   {
    "duration": 17,
    "start_time": "2023-10-17T22:31:12.719Z"
   },
   {
    "duration": 492,
    "start_time": "2023-10-17T22:31:12.738Z"
   },
   {
    "duration": 649,
    "start_time": "2023-10-17T22:33:32.235Z"
   },
   {
    "duration": 151966,
    "start_time": "2023-10-17T22:36:32.593Z"
   },
   {
    "duration": 45,
    "start_time": "2023-10-17T22:47:50.442Z"
   },
   {
    "duration": 23458,
    "start_time": "2023-10-17T22:48:11.369Z"
   },
   {
    "duration": 1051781,
    "start_time": "2023-10-17T22:48:57.848Z"
   },
   {
    "duration": 6,
    "start_time": "2023-10-17T23:35:47.165Z"
   },
   {
    "duration": 18,
    "start_time": "2023-10-17T23:35:47.172Z"
   },
   {
    "duration": 14,
    "start_time": "2023-10-17T23:35:47.192Z"
   },
   {
    "duration": 11,
    "start_time": "2023-10-17T23:35:47.210Z"
   },
   {
    "duration": 31,
    "start_time": "2023-10-17T23:35:47.223Z"
   },
   {
    "duration": 25,
    "start_time": "2023-10-17T23:35:47.256Z"
   },
   {
    "duration": 18,
    "start_time": "2023-10-17T23:35:47.283Z"
   },
   {
    "duration": 52,
    "start_time": "2023-10-17T23:35:47.304Z"
   },
   {
    "duration": 4,
    "start_time": "2023-10-17T23:35:47.358Z"
   },
   {
    "duration": 15,
    "start_time": "2023-10-17T23:35:47.365Z"
   },
   {
    "duration": 13,
    "start_time": "2023-10-17T23:35:47.381Z"
   },
   {
    "duration": 16,
    "start_time": "2023-10-17T23:35:47.395Z"
   },
   {
    "duration": 22,
    "start_time": "2023-10-17T23:35:47.413Z"
   },
   {
    "duration": 30,
    "start_time": "2023-10-17T23:35:47.436Z"
   },
   {
    "duration": 47,
    "start_time": "2023-10-17T23:35:47.468Z"
   },
   {
    "duration": 31,
    "start_time": "2023-10-17T23:35:47.517Z"
   },
   {
    "duration": 18,
    "start_time": "2023-10-17T23:35:47.550Z"
   },
   {
    "duration": 14,
    "start_time": "2023-10-17T23:35:47.570Z"
   },
   {
    "duration": 20,
    "start_time": "2023-10-17T23:35:47.585Z"
   },
   {
    "duration": 5,
    "start_time": "2023-10-17T23:35:47.607Z"
   },
   {
    "duration": 539,
    "start_time": "2023-10-17T23:35:47.614Z"
   },
   {
    "duration": 7,
    "start_time": "2023-10-17T23:35:48.155Z"
   },
   {
    "duration": 8,
    "start_time": "2023-10-17T23:35:48.163Z"
   },
   {
    "duration": 225,
    "start_time": "2023-10-17T23:35:48.173Z"
   },
   {
    "duration": 210,
    "start_time": "2023-10-17T23:35:48.400Z"
   },
   {
    "duration": 229,
    "start_time": "2023-10-17T23:35:48.612Z"
   },
   {
    "duration": 152,
    "start_time": "2023-10-17T23:35:48.843Z"
   },
   {
    "duration": 248,
    "start_time": "2023-10-17T23:35:49.006Z"
   },
   {
    "duration": 221,
    "start_time": "2023-10-17T23:35:49.255Z"
   },
   {
    "duration": 6,
    "start_time": "2023-10-17T23:35:49.477Z"
   },
   {
    "duration": 445,
    "start_time": "2023-10-17T23:35:49.484Z"
   },
   {
    "duration": 30,
    "start_time": "2023-10-17T23:35:49.931Z"
   },
   {
    "duration": 3,
    "start_time": "2023-10-17T23:35:49.963Z"
   },
   {
    "duration": 12,
    "start_time": "2023-10-17T23:35:49.967Z"
   },
   {
    "duration": 6,
    "start_time": "2023-10-17T23:35:49.981Z"
   },
   {
    "duration": 22,
    "start_time": "2023-10-17T23:35:49.989Z"
   },
   {
    "duration": 300,
    "start_time": "2023-10-17T23:35:50.012Z"
   },
   {
    "duration": 732,
    "start_time": "2023-10-17T23:35:50.314Z"
   },
   {
    "duration": 142171,
    "start_time": "2023-10-17T23:35:51.047Z"
   },
   {
    "duration": 46699,
    "start_time": "2023-10-17T23:38:13.220Z"
   },
   {
    "duration": 676924,
    "start_time": "2023-10-17T23:38:59.921Z"
   },
   {
    "duration": 9,
    "start_time": "2023-10-17T23:50:16.846Z"
   },
   {
    "duration": 104,
    "start_time": "2023-10-17T23:52:16.406Z"
   },
   {
    "duration": 95,
    "start_time": "2023-10-17T23:52:56.611Z"
   },
   {
    "duration": 11,
    "start_time": "2023-10-17T23:57:35.172Z"
   },
   {
    "duration": 7,
    "start_time": "2023-10-17T23:57:57.251Z"
   },
   {
    "duration": 21,
    "start_time": "2023-10-17T23:58:17.968Z"
   },
   {
    "duration": 7,
    "start_time": "2023-10-17T23:58:28.775Z"
   },
   {
    "duration": 5,
    "start_time": "2023-10-17T23:58:42.123Z"
   },
   {
    "duration": 1815,
    "start_time": "2023-10-18T19:34:53.678Z"
   },
   {
    "duration": 3,
    "start_time": "2023-10-18T19:34:55.495Z"
   },
   {
    "duration": 7,
    "start_time": "2023-10-18T19:34:55.499Z"
   },
   {
    "duration": 73,
    "start_time": "2023-10-18T19:34:55.507Z"
   },
   {
    "duration": 11,
    "start_time": "2023-10-18T19:34:55.587Z"
   },
   {
    "duration": 6,
    "start_time": "2023-10-18T19:34:55.600Z"
   },
   {
    "duration": 6,
    "start_time": "2023-10-18T19:34:55.608Z"
   },
   {
    "duration": 179,
    "start_time": "2023-10-18T19:34:55.615Z"
   },
   {
    "duration": 6,
    "start_time": "2023-10-18T19:34:55.796Z"
   },
   {
    "duration": 60,
    "start_time": "2023-10-18T19:34:55.804Z"
   },
   {
    "duration": 20,
    "start_time": "2023-10-18T19:34:55.865Z"
   },
   {
    "duration": 64,
    "start_time": "2023-10-18T19:34:55.887Z"
   },
   {
    "duration": 41,
    "start_time": "2023-10-18T19:34:55.953Z"
   },
   {
    "duration": 10,
    "start_time": "2023-10-18T19:34:56.049Z"
   },
   {
    "duration": 12,
    "start_time": "2023-10-18T19:34:56.060Z"
   },
   {
    "duration": 18,
    "start_time": "2023-10-18T19:34:56.073Z"
   },
   {
    "duration": 6,
    "start_time": "2023-10-18T19:34:56.092Z"
   },
   {
    "duration": 69,
    "start_time": "2023-10-18T19:34:56.099Z"
   },
   {
    "duration": 29,
    "start_time": "2023-10-18T19:34:56.169Z"
   },
   {
    "duration": 56,
    "start_time": "2023-10-18T19:34:56.200Z"
   },
   {
    "duration": 1017,
    "start_time": "2023-10-18T19:34:56.257Z"
   },
   {
    "duration": 5,
    "start_time": "2023-10-18T19:34:57.282Z"
   },
   {
    "duration": 18,
    "start_time": "2023-10-18T19:34:57.288Z"
   },
   {
    "duration": 265,
    "start_time": "2023-10-18T19:34:57.307Z"
   },
   {
    "duration": 219,
    "start_time": "2023-10-18T19:34:57.585Z"
   },
   {
    "duration": 255,
    "start_time": "2023-10-18T19:34:57.805Z"
   },
   {
    "duration": 157,
    "start_time": "2023-10-18T19:34:58.070Z"
   },
   {
    "duration": 175,
    "start_time": "2023-10-18T19:34:58.229Z"
   },
   {
    "duration": 294,
    "start_time": "2023-10-18T19:34:58.406Z"
   },
   {
    "duration": 6,
    "start_time": "2023-10-18T19:34:58.701Z"
   },
   {
    "duration": 460,
    "start_time": "2023-10-18T19:34:58.708Z"
   },
   {
    "duration": 37,
    "start_time": "2023-10-18T19:34:59.169Z"
   },
   {
    "duration": 3,
    "start_time": "2023-10-18T19:34:59.208Z"
   },
   {
    "duration": 5,
    "start_time": "2023-10-18T19:34:59.212Z"
   },
   {
    "duration": 6,
    "start_time": "2023-10-18T19:34:59.218Z"
   },
   {
    "duration": 5,
    "start_time": "2023-10-18T19:34:59.225Z"
   },
   {
    "duration": 248,
    "start_time": "2023-10-18T19:41:46.001Z"
   },
   {
    "duration": 189,
    "start_time": "2023-10-18T19:41:51.514Z"
   },
   {
    "duration": 12,
    "start_time": "2023-10-18T19:42:02.269Z"
   },
   {
    "duration": 7,
    "start_time": "2023-10-18T19:42:09.382Z"
   },
   {
    "duration": 19,
    "start_time": "2023-10-18T19:42:09.391Z"
   },
   {
    "duration": 7,
    "start_time": "2023-10-18T19:42:09.411Z"
   },
   {
    "duration": 29,
    "start_time": "2023-10-18T19:42:09.420Z"
   },
   {
    "duration": 48,
    "start_time": "2023-10-18T19:42:09.457Z"
   },
   {
    "duration": 59,
    "start_time": "2023-10-18T19:42:09.507Z"
   },
   {
    "duration": 10,
    "start_time": "2023-10-18T19:42:09.572Z"
   },
   {
    "duration": 77,
    "start_time": "2023-10-18T19:42:09.583Z"
   },
   {
    "duration": 6,
    "start_time": "2023-10-18T19:42:09.661Z"
   },
   {
    "duration": 18,
    "start_time": "2023-10-18T19:42:09.668Z"
   },
   {
    "duration": 24,
    "start_time": "2023-10-18T19:42:09.687Z"
   },
   {
    "duration": 56,
    "start_time": "2023-10-18T19:42:09.712Z"
   },
   {
    "duration": 42,
    "start_time": "2023-10-18T19:42:09.770Z"
   },
   {
    "duration": 5,
    "start_time": "2023-10-18T19:42:09.815Z"
   },
   {
    "duration": 33,
    "start_time": "2023-10-18T19:42:09.821Z"
   },
   {
    "duration": 12,
    "start_time": "2023-10-18T19:42:09.864Z"
   },
   {
    "duration": 10,
    "start_time": "2023-10-18T19:42:09.884Z"
   },
   {
    "duration": 79,
    "start_time": "2023-10-18T19:42:09.896Z"
   },
   {
    "duration": 39,
    "start_time": "2023-10-18T19:42:09.979Z"
   },
   {
    "duration": 5,
    "start_time": "2023-10-18T19:42:10.019Z"
   },
   {
    "duration": 485,
    "start_time": "2023-10-18T19:42:10.026Z"
   },
   {
    "duration": 4,
    "start_time": "2023-10-18T19:42:10.513Z"
   },
   {
    "duration": 51,
    "start_time": "2023-10-18T19:42:10.518Z"
   },
   {
    "duration": 310,
    "start_time": "2023-10-18T19:42:10.570Z"
   },
   {
    "duration": 215,
    "start_time": "2023-10-18T19:42:10.881Z"
   },
   {
    "duration": 272,
    "start_time": "2023-10-18T19:42:11.098Z"
   },
   {
    "duration": 157,
    "start_time": "2023-10-18T19:42:11.381Z"
   },
   {
    "duration": 175,
    "start_time": "2023-10-18T19:42:11.539Z"
   },
   {
    "duration": 233,
    "start_time": "2023-10-18T19:42:11.715Z"
   },
   {
    "duration": 11,
    "start_time": "2023-10-18T19:42:11.949Z"
   },
   {
    "duration": 538,
    "start_time": "2023-10-18T19:42:11.962Z"
   },
   {
    "duration": 35,
    "start_time": "2023-10-18T19:42:12.501Z"
   },
   {
    "duration": 11,
    "start_time": "2023-10-18T19:42:12.553Z"
   },
   {
    "duration": 18,
    "start_time": "2023-10-18T19:42:12.566Z"
   },
   {
    "duration": 13,
    "start_time": "2023-10-18T19:42:12.594Z"
   },
   {
    "duration": 4,
    "start_time": "2023-10-18T19:42:12.609Z"
   },
   {
    "duration": 59,
    "start_time": "2023-10-18T19:42:12.615Z"
   },
   {
    "duration": 810,
    "start_time": "2023-10-18T19:42:12.676Z"
   },
   {
    "duration": 165207,
    "start_time": "2023-10-18T19:42:13.488Z"
   },
   {
    "duration": 1788688,
    "start_time": "2023-10-18T19:44:58.696Z"
   },
   {
    "duration": 710108,
    "start_time": "2023-10-18T20:14:47.389Z"
   },
   {
    "duration": 11,
    "start_time": "2023-10-18T20:26:37.498Z"
   },
   {
    "duration": 0,
    "start_time": "2023-10-18T20:26:37.510Z"
   },
   {
    "duration": 230,
    "start_time": "2023-10-18T20:28:03.771Z"
   },
   {
    "duration": 8,
    "start_time": "2023-10-18T20:28:21.972Z"
   },
   {
    "duration": 173909,
    "start_time": "2023-10-18T20:28:42.681Z"
   },
   {
    "duration": 11,
    "start_time": "2023-10-18T20:32:03.209Z"
   },
   {
    "duration": 85,
    "start_time": "2023-10-18T20:32:59.079Z"
   },
   {
    "duration": 9,
    "start_time": "2023-10-18T20:34:14.524Z"
   },
   {
    "duration": 20,
    "start_time": "2023-10-18T20:34:36.548Z"
   },
   {
    "duration": 4,
    "start_time": "2023-10-18T20:35:04.674Z"
   },
   {
    "duration": 19,
    "start_time": "2023-10-18T20:36:28.545Z"
   },
   {
    "duration": 4,
    "start_time": "2023-10-18T20:37:33.902Z"
   },
   {
    "duration": 75,
    "start_time": "2023-10-18T20:37:38.901Z"
   },
   {
    "duration": 4,
    "start_time": "2023-10-18T20:47:53.187Z"
   },
   {
    "duration": 15,
    "start_time": "2023-10-18T20:48:17.181Z"
   },
   {
    "duration": 41,
    "start_time": "2023-10-18T20:48:32.253Z"
   },
   {
    "duration": 36,
    "start_time": "2023-10-18T20:48:40.485Z"
   },
   {
    "duration": 3,
    "start_time": "2023-10-18T20:48:53.610Z"
   },
   {
    "duration": 55,
    "start_time": "2023-10-18T20:50:05.663Z"
   },
   {
    "duration": 6,
    "start_time": "2023-10-18T20:50:41.264Z"
   },
   {
    "duration": 26,
    "start_time": "2023-10-18T20:50:59.253Z"
   },
   {
    "duration": 15,
    "start_time": "2023-10-18T20:51:19.112Z"
   },
   {
    "duration": 1940,
    "start_time": "2023-10-18T20:51:50.644Z"
   },
   {
    "duration": 15,
    "start_time": "2023-10-18T20:52:15.900Z"
   },
   {
    "duration": 7,
    "start_time": "2023-10-18T20:52:52.872Z"
   },
   {
    "duration": 10,
    "start_time": "2023-10-18T20:53:39.334Z"
   },
   {
    "duration": 6,
    "start_time": "2023-10-18T20:53:39.352Z"
   },
   {
    "duration": 6,
    "start_time": "2023-10-18T20:53:39.360Z"
   },
   {
    "duration": 13,
    "start_time": "2023-10-18T20:53:39.368Z"
   },
   {
    "duration": 17,
    "start_time": "2023-10-18T20:53:39.383Z"
   },
   {
    "duration": 4,
    "start_time": "2023-10-18T20:53:39.402Z"
   },
   {
    "duration": 5,
    "start_time": "2023-10-18T20:53:39.408Z"
   },
   {
    "duration": 63,
    "start_time": "2023-10-18T20:53:39.415Z"
   },
   {
    "duration": 4,
    "start_time": "2023-10-18T20:53:39.481Z"
   },
   {
    "duration": 7,
    "start_time": "2023-10-18T20:53:39.488Z"
   },
   {
    "duration": 10,
    "start_time": "2023-10-18T20:53:39.496Z"
   },
   {
    "duration": 16,
    "start_time": "2023-10-18T20:53:39.508Z"
   },
   {
    "duration": 53,
    "start_time": "2023-10-18T20:53:39.525Z"
   },
   {
    "duration": 4,
    "start_time": "2023-10-18T20:53:39.579Z"
   },
   {
    "duration": 7,
    "start_time": "2023-10-18T20:53:39.584Z"
   },
   {
    "duration": 7,
    "start_time": "2023-10-18T20:53:39.592Z"
   },
   {
    "duration": 6,
    "start_time": "2023-10-18T20:53:39.601Z"
   },
   {
    "duration": 47,
    "start_time": "2023-10-18T20:53:39.609Z"
   },
   {
    "duration": 26,
    "start_time": "2023-10-18T20:53:39.657Z"
   },
   {
    "duration": 5,
    "start_time": "2023-10-18T20:53:39.684Z"
   },
   {
    "duration": 441,
    "start_time": "2023-10-18T20:53:39.691Z"
   },
   {
    "duration": 7,
    "start_time": "2023-10-18T20:53:40.139Z"
   },
   {
    "duration": 12,
    "start_time": "2023-10-18T20:53:40.152Z"
   },
   {
    "duration": 311,
    "start_time": "2023-10-18T20:53:40.165Z"
   },
   {
    "duration": 207,
    "start_time": "2023-10-18T20:53:40.477Z"
   },
   {
    "duration": 232,
    "start_time": "2023-10-18T20:53:40.685Z"
   },
   {
    "duration": 161,
    "start_time": "2023-10-18T20:53:40.919Z"
   },
   {
    "duration": 168,
    "start_time": "2023-10-18T20:53:41.085Z"
   },
   {
    "duration": 222,
    "start_time": "2023-10-18T20:53:41.264Z"
   },
   {
    "duration": 5,
    "start_time": "2023-10-18T20:53:41.487Z"
   },
   {
    "duration": 512,
    "start_time": "2023-10-18T20:53:41.494Z"
   },
   {
    "duration": 48,
    "start_time": "2023-10-18T20:53:42.008Z"
   },
   {
    "duration": 7,
    "start_time": "2023-10-18T20:53:42.057Z"
   },
   {
    "duration": 12,
    "start_time": "2023-10-18T20:53:42.065Z"
   },
   {
    "duration": 4,
    "start_time": "2023-10-18T20:53:42.079Z"
   },
   {
    "duration": 4,
    "start_time": "2023-10-18T20:53:42.085Z"
   },
   {
    "duration": 12,
    "start_time": "2023-10-18T20:53:42.091Z"
   },
   {
    "duration": 106,
    "start_time": "2023-10-18T20:53:42.105Z"
   },
   {
    "duration": 4,
    "start_time": "2023-10-18T20:53:42.213Z"
   },
   {
    "duration": 47,
    "start_time": "2023-10-18T20:53:42.219Z"
   },
   {
    "duration": 37,
    "start_time": "2023-10-18T20:53:42.268Z"
   },
   {
    "duration": 52,
    "start_time": "2023-10-18T20:53:42.307Z"
   },
   {
    "duration": 12,
    "start_time": "2023-10-18T20:53:42.368Z"
   },
   {
    "duration": 4,
    "start_time": "2023-10-18T20:53:42.381Z"
   },
   {
    "duration": 106,
    "start_time": "2023-10-18T20:53:42.387Z"
   },
   {
    "duration": 63,
    "start_time": "2023-10-18T20:53:42.494Z"
   },
   {
    "duration": 3,
    "start_time": "2023-10-18T20:53:42.565Z"
   },
   {
    "duration": 21,
    "start_time": "2023-10-18T20:53:42.577Z"
   },
   {
    "duration": 19,
    "start_time": "2023-10-18T20:53:42.599Z"
   },
   {
    "duration": 2170,
    "start_time": "2023-10-18T20:53:42.619Z"
   },
   {
    "duration": 610,
    "start_time": "2023-10-18T20:53:58.725Z"
   },
   {
    "duration": 7,
    "start_time": "2023-10-18T20:54:20.206Z"
   },
   {
    "duration": 810,
    "start_time": "2023-10-18T20:55:05.338Z"
   },
   {
    "duration": 23,
    "start_time": "2023-10-18T20:55:21.337Z"
   },
   {
    "duration": 22,
    "start_time": "2023-10-18T20:57:06.561Z"
   },
   {
    "duration": 5,
    "start_time": "2023-10-18T20:58:52.128Z"
   },
   {
    "duration": 21,
    "start_time": "2023-10-18T20:58:52.135Z"
   },
   {
    "duration": 2,
    "start_time": "2023-10-18T20:58:52.158Z"
   },
   {
    "duration": 11,
    "start_time": "2023-10-18T20:58:52.161Z"
   },
   {
    "duration": 12,
    "start_time": "2023-10-18T20:58:52.178Z"
   },
   {
    "duration": 4,
    "start_time": "2023-10-18T20:58:52.192Z"
   },
   {
    "duration": 4,
    "start_time": "2023-10-18T20:58:52.198Z"
   },
   {
    "duration": 74,
    "start_time": "2023-10-18T20:58:52.203Z"
   },
   {
    "duration": 4,
    "start_time": "2023-10-18T20:58:52.278Z"
   },
   {
    "duration": 8,
    "start_time": "2023-10-18T20:58:52.283Z"
   },
   {
    "duration": 11,
    "start_time": "2023-10-18T20:58:52.293Z"
   },
   {
    "duration": 15,
    "start_time": "2023-10-18T20:58:52.306Z"
   },
   {
    "duration": 45,
    "start_time": "2023-10-18T20:58:52.322Z"
   },
   {
    "duration": 6,
    "start_time": "2023-10-18T20:58:52.372Z"
   },
   {
    "duration": 13,
    "start_time": "2023-10-18T20:58:52.379Z"
   },
   {
    "duration": 3,
    "start_time": "2023-10-18T20:58:52.394Z"
   },
   {
    "duration": 19,
    "start_time": "2023-10-18T20:58:52.399Z"
   },
   {
    "duration": 16,
    "start_time": "2023-10-18T20:58:52.419Z"
   },
   {
    "duration": 25,
    "start_time": "2023-10-18T20:58:52.437Z"
   },
   {
    "duration": 10,
    "start_time": "2023-10-18T20:58:52.463Z"
   },
   {
    "duration": 458,
    "start_time": "2023-10-18T20:58:52.474Z"
   },
   {
    "duration": 12,
    "start_time": "2023-10-18T20:58:52.934Z"
   },
   {
    "duration": 9,
    "start_time": "2023-10-18T20:58:52.948Z"
   },
   {
    "duration": 239,
    "start_time": "2023-10-18T20:58:52.959Z"
   },
   {
    "duration": 210,
    "start_time": "2023-10-18T20:58:53.199Z"
   },
   {
    "duration": 358,
    "start_time": "2023-10-18T20:58:53.410Z"
   },
   {
    "duration": 153,
    "start_time": "2023-10-18T20:58:53.769Z"
   },
   {
    "duration": 189,
    "start_time": "2023-10-18T20:58:53.924Z"
   },
   {
    "duration": 242,
    "start_time": "2023-10-18T20:58:54.114Z"
   },
   {
    "duration": 11,
    "start_time": "2023-10-18T20:58:54.357Z"
   },
   {
    "duration": 431,
    "start_time": "2023-10-18T20:58:54.369Z"
   },
   {
    "duration": 28,
    "start_time": "2023-10-18T20:58:54.802Z"
   },
   {
    "duration": 25,
    "start_time": "2023-10-18T20:58:54.850Z"
   },
   {
    "duration": 4,
    "start_time": "2023-10-18T20:58:54.879Z"
   },
   {
    "duration": 6,
    "start_time": "2023-10-18T20:58:54.885Z"
   },
   {
    "duration": 8,
    "start_time": "2023-10-18T20:58:54.893Z"
   },
   {
    "duration": 18,
    "start_time": "2023-10-18T20:58:54.902Z"
   },
   {
    "duration": 93,
    "start_time": "2023-10-18T20:58:54.921Z"
   },
   {
    "duration": 5,
    "start_time": "2023-10-18T20:58:55.016Z"
   },
   {
    "duration": 29,
    "start_time": "2023-10-18T20:58:55.023Z"
   },
   {
    "duration": 49,
    "start_time": "2023-10-18T20:58:55.056Z"
   },
   {
    "duration": 70,
    "start_time": "2023-10-18T20:58:55.106Z"
   },
   {
    "duration": 7,
    "start_time": "2023-10-18T20:58:55.177Z"
   },
   {
    "duration": 17,
    "start_time": "2023-10-18T20:58:55.185Z"
   },
   {
    "duration": 123,
    "start_time": "2023-10-18T20:58:55.204Z"
   },
   {
    "duration": 52,
    "start_time": "2023-10-18T20:58:55.328Z"
   },
   {
    "duration": 7,
    "start_time": "2023-10-18T20:58:55.381Z"
   },
   {
    "duration": 18,
    "start_time": "2023-10-18T20:58:55.389Z"
   },
   {
    "duration": 41,
    "start_time": "2023-10-18T20:58:55.409Z"
   },
   {
    "duration": 2936,
    "start_time": "2023-10-18T20:58:55.452Z"
   },
   {
    "duration": 16,
    "start_time": "2023-10-18T20:59:17.704Z"
   },
   {
    "duration": 715,
    "start_time": "2023-10-18T20:59:25.019Z"
   },
   {
    "duration": 13,
    "start_time": "2023-10-18T20:59:49.457Z"
   },
   {
    "duration": 5,
    "start_time": "2023-10-18T21:01:06.138Z"
   },
   {
    "duration": 35,
    "start_time": "2023-10-18T21:01:06.144Z"
   },
   {
    "duration": 30,
    "start_time": "2023-10-18T21:01:06.180Z"
   },
   {
    "duration": 45,
    "start_time": "2023-10-18T21:01:06.213Z"
   },
   {
    "duration": 30,
    "start_time": "2023-10-18T21:01:06.262Z"
   },
   {
    "duration": 48,
    "start_time": "2023-10-18T21:01:06.294Z"
   },
   {
    "duration": 13,
    "start_time": "2023-10-18T21:01:06.349Z"
   },
   {
    "duration": 92,
    "start_time": "2023-10-18T21:01:06.364Z"
   },
   {
    "duration": 4,
    "start_time": "2023-10-18T21:01:06.459Z"
   },
   {
    "duration": 42,
    "start_time": "2023-10-18T21:01:06.464Z"
   },
   {
    "duration": 19,
    "start_time": "2023-10-18T21:01:06.508Z"
   },
   {
    "duration": 46,
    "start_time": "2023-10-18T21:01:06.529Z"
   },
   {
    "duration": 36,
    "start_time": "2023-10-18T21:01:06.577Z"
   },
   {
    "duration": 9,
    "start_time": "2023-10-18T21:01:06.615Z"
   },
   {
    "duration": 31,
    "start_time": "2023-10-18T21:01:06.626Z"
   },
   {
    "duration": 24,
    "start_time": "2023-10-18T21:01:06.659Z"
   },
   {
    "duration": 34,
    "start_time": "2023-10-18T21:01:06.685Z"
   },
   {
    "duration": 49,
    "start_time": "2023-10-18T21:01:06.721Z"
   },
   {
    "duration": 50,
    "start_time": "2023-10-18T21:01:06.772Z"
   },
   {
    "duration": 4,
    "start_time": "2023-10-18T21:01:06.824Z"
   },
   {
    "duration": 528,
    "start_time": "2023-10-18T21:01:06.830Z"
   },
   {
    "duration": 5,
    "start_time": "2023-10-18T21:01:07.359Z"
   },
   {
    "duration": 26,
    "start_time": "2023-10-18T21:01:07.365Z"
   },
   {
    "duration": 262,
    "start_time": "2023-10-18T21:01:07.394Z"
   },
   {
    "duration": 203,
    "start_time": "2023-10-18T21:01:07.658Z"
   },
   {
    "duration": 237,
    "start_time": "2023-10-18T21:01:07.863Z"
   },
   {
    "duration": 164,
    "start_time": "2023-10-18T21:01:08.102Z"
   },
   {
    "duration": 151,
    "start_time": "2023-10-18T21:01:08.267Z"
   },
   {
    "duration": 238,
    "start_time": "2023-10-18T21:01:08.421Z"
   },
   {
    "duration": 6,
    "start_time": "2023-10-18T21:01:08.661Z"
   },
   {
    "duration": 710,
    "start_time": "2023-10-18T21:01:08.669Z"
   },
   {
    "duration": 88,
    "start_time": "2023-10-18T21:01:09.381Z"
   },
   {
    "duration": 3,
    "start_time": "2023-10-18T21:01:09.471Z"
   },
   {
    "duration": 68,
    "start_time": "2023-10-18T21:01:09.475Z"
   },
   {
    "duration": 12,
    "start_time": "2023-10-18T21:01:09.552Z"
   },
   {
    "duration": 17,
    "start_time": "2023-10-18T21:01:09.566Z"
   },
   {
    "duration": 67,
    "start_time": "2023-10-18T21:01:09.585Z"
   },
   {
    "duration": 124,
    "start_time": "2023-10-18T21:01:09.653Z"
   },
   {
    "duration": 4,
    "start_time": "2023-10-18T21:01:09.778Z"
   },
   {
    "duration": 72,
    "start_time": "2023-10-18T21:01:09.784Z"
   },
   {
    "duration": 95,
    "start_time": "2023-10-18T21:01:09.857Z"
   },
   {
    "duration": 26,
    "start_time": "2023-10-18T21:01:09.958Z"
   },
   {
    "duration": 3,
    "start_time": "2023-10-18T21:01:09.985Z"
   },
   {
    "duration": 15,
    "start_time": "2023-10-18T21:01:10.041Z"
   },
   {
    "duration": 207,
    "start_time": "2023-10-18T21:01:10.058Z"
   },
   {
    "duration": 100,
    "start_time": "2023-10-18T21:01:10.266Z"
   },
   {
    "duration": 4,
    "start_time": "2023-10-18T21:01:10.368Z"
   },
   {
    "duration": 85,
    "start_time": "2023-10-18T21:01:10.374Z"
   },
   {
    "duration": 14,
    "start_time": "2023-10-18T21:01:10.461Z"
   },
   {
    "duration": 1762,
    "start_time": "2023-10-18T21:01:10.477Z"
   },
   {
    "duration": 7,
    "start_time": "2023-10-18T21:02:39.353Z"
   },
   {
    "duration": 687587,
    "start_time": "2023-10-18T21:03:00.995Z"
   },
   {
    "duration": 76,
    "start_time": "2023-10-18T21:14:28.583Z"
   },
   {
    "duration": 6,
    "start_time": "2023-10-18T21:17:36.758Z"
   },
   {
    "duration": 611818,
    "start_time": "2023-10-18T21:18:18.232Z"
   },
   {
    "duration": 5,
    "start_time": "2023-10-18T21:28:47.293Z"
   },
   {
    "duration": 1222585,
    "start_time": "2023-10-18T21:29:17.820Z"
   },
   {
    "duration": 1605,
    "start_time": "2023-10-18T21:50:48.053Z"
   },
   {
    "duration": 3,
    "start_time": "2023-10-18T21:50:49.660Z"
   },
   {
    "duration": 15,
    "start_time": "2023-10-18T21:50:49.664Z"
   },
   {
    "duration": 76,
    "start_time": "2023-10-18T21:50:49.680Z"
   },
   {
    "duration": 19,
    "start_time": "2023-10-18T21:50:49.759Z"
   },
   {
    "duration": 30,
    "start_time": "2023-10-18T21:50:49.779Z"
   },
   {
    "duration": 47,
    "start_time": "2023-10-18T21:50:49.810Z"
   },
   {
    "duration": 97,
    "start_time": "2023-10-18T21:50:49.858Z"
   },
   {
    "duration": 6,
    "start_time": "2023-10-18T21:50:49.957Z"
   },
   {
    "duration": 24,
    "start_time": "2023-10-18T21:50:49.965Z"
   },
   {
    "duration": 67,
    "start_time": "2023-10-18T21:50:49.991Z"
   },
   {
    "duration": 35,
    "start_time": "2023-10-18T21:50:50.060Z"
   },
   {
    "duration": 69,
    "start_time": "2023-10-18T21:50:50.097Z"
   },
   {
    "duration": 29,
    "start_time": "2023-10-18T21:50:50.168Z"
   },
   {
    "duration": 64,
    "start_time": "2023-10-18T21:50:50.198Z"
   },
   {
    "duration": 13,
    "start_time": "2023-10-18T21:50:50.264Z"
   },
   {
    "duration": 23,
    "start_time": "2023-10-18T21:50:50.278Z"
   },
   {
    "duration": 61,
    "start_time": "2023-10-18T21:50:50.302Z"
   },
   {
    "duration": 90,
    "start_time": "2023-10-18T21:50:50.364Z"
   },
   {
    "duration": 6,
    "start_time": "2023-10-18T21:50:50.456Z"
   },
   {
    "duration": 502,
    "start_time": "2023-10-18T21:50:50.463Z"
   },
   {
    "duration": 5,
    "start_time": "2023-10-18T21:50:50.966Z"
   },
   {
    "duration": 6,
    "start_time": "2023-10-18T21:50:50.972Z"
   },
   {
    "duration": 213,
    "start_time": "2023-10-18T21:50:50.979Z"
   },
   {
    "duration": 199,
    "start_time": "2023-10-18T21:50:51.193Z"
   },
   {
    "duration": 227,
    "start_time": "2023-10-18T21:50:51.393Z"
   },
   {
    "duration": 166,
    "start_time": "2023-10-18T21:50:51.621Z"
   },
   {
    "duration": 145,
    "start_time": "2023-10-18T21:50:51.788Z"
   },
   {
    "duration": 284,
    "start_time": "2023-10-18T21:50:51.934Z"
   },
   {
    "duration": 6,
    "start_time": "2023-10-18T21:50:52.219Z"
   },
   {
    "duration": 466,
    "start_time": "2023-10-18T21:50:52.226Z"
   },
   {
    "duration": 26,
    "start_time": "2023-10-18T21:50:52.693Z"
   },
   {
    "duration": 4,
    "start_time": "2023-10-18T21:50:52.721Z"
   },
   {
    "duration": 15,
    "start_time": "2023-10-18T21:50:52.740Z"
   },
   {
    "duration": 30,
    "start_time": "2023-10-18T21:50:52.757Z"
   },
   {
    "duration": 88,
    "start_time": "2023-10-18T21:50:52.788Z"
   },
   {
    "duration": 4,
    "start_time": "2023-10-18T21:50:52.878Z"
   },
   {
    "duration": 5,
    "start_time": "2023-10-18T21:50:52.883Z"
   },
   {
    "duration": 4,
    "start_time": "2023-10-18T21:50:52.890Z"
   },
   {
    "duration": 8,
    "start_time": "2023-10-18T21:50:52.896Z"
   },
   {
    "duration": 48,
    "start_time": "2023-10-18T21:50:52.908Z"
   },
   {
    "duration": 35,
    "start_time": "2023-10-18T21:50:52.958Z"
   },
   {
    "duration": 31,
    "start_time": "2023-10-18T21:50:52.995Z"
   },
   {
    "duration": 18,
    "start_time": "2023-10-18T21:50:53.028Z"
   },
   {
    "duration": 6,
    "start_time": "2023-10-18T21:50:53.048Z"
   },
   {
    "duration": 63,
    "start_time": "2023-10-18T21:50:53.055Z"
   },
   {
    "duration": 47,
    "start_time": "2023-10-18T21:50:53.120Z"
   },
   {
    "duration": 1386,
    "start_time": "2023-10-18T21:50:53.168Z"
   },
   {
    "duration": 704,
    "start_time": "2023-10-18T21:50:54.555Z"
   },
   {
    "duration": 152711,
    "start_time": "2023-10-18T21:50:55.260Z"
   },
   {
    "duration": 8831874,
    "start_time": "2023-10-18T21:53:27.972Z"
   },
   {
    "duration": 550715,
    "start_time": "2023-10-19T00:20:39.848Z"
   },
   {
    "duration": 7,
    "start_time": "2023-10-19T00:29:50.564Z"
   },
   {
    "duration": 16,
    "start_time": "2023-10-19T00:29:50.573Z"
   },
   {
    "duration": 7,
    "start_time": "2023-10-19T06:02:11.101Z"
   },
   {
    "duration": 11,
    "start_time": "2023-10-19T18:45:11.992Z"
   },
   {
    "duration": 49,
    "start_time": "2023-10-19T18:51:40.862Z"
   },
   {
    "duration": 1911,
    "start_time": "2023-10-19T18:59:00.361Z"
   },
   {
    "duration": 3,
    "start_time": "2023-10-19T18:59:02.275Z"
   },
   {
    "duration": 54,
    "start_time": "2023-10-19T18:59:02.280Z"
   },
   {
    "duration": 31,
    "start_time": "2023-10-19T18:59:02.337Z"
   },
   {
    "duration": 108,
    "start_time": "2023-10-19T18:59:02.370Z"
   },
   {
    "duration": 39,
    "start_time": "2023-10-19T18:59:02.480Z"
   },
   {
    "duration": 36,
    "start_time": "2023-10-19T18:59:02.521Z"
   },
   {
    "duration": 149,
    "start_time": "2023-10-19T18:59:02.559Z"
   },
   {
    "duration": 6,
    "start_time": "2023-10-19T18:59:02.710Z"
   },
   {
    "duration": 20,
    "start_time": "2023-10-19T18:59:02.719Z"
   },
   {
    "duration": 46,
    "start_time": "2023-10-19T18:59:02.741Z"
   },
   {
    "duration": 35,
    "start_time": "2023-10-19T18:59:02.789Z"
   },
   {
    "duration": 57,
    "start_time": "2023-10-19T18:59:02.827Z"
   },
   {
    "duration": 4,
    "start_time": "2023-10-19T18:59:02.886Z"
   },
   {
    "duration": 31,
    "start_time": "2023-10-19T18:59:02.891Z"
   },
   {
    "duration": 29,
    "start_time": "2023-10-19T18:59:02.924Z"
   },
   {
    "duration": 20,
    "start_time": "2023-10-19T18:59:02.955Z"
   },
   {
    "duration": 28,
    "start_time": "2023-10-19T18:59:02.978Z"
   },
   {
    "duration": 35,
    "start_time": "2023-10-19T18:59:03.008Z"
   },
   {
    "duration": 7,
    "start_time": "2023-10-19T18:59:03.045Z"
   },
   {
    "duration": 664,
    "start_time": "2023-10-19T18:59:03.053Z"
   },
   {
    "duration": 7,
    "start_time": "2023-10-19T18:59:03.718Z"
   },
   {
    "duration": 118,
    "start_time": "2023-10-19T18:59:03.726Z"
   },
   {
    "duration": 341,
    "start_time": "2023-10-19T18:59:03.846Z"
   },
   {
    "duration": 252,
    "start_time": "2023-10-19T18:59:04.189Z"
   },
   {
    "duration": 278,
    "start_time": "2023-10-19T18:59:04.446Z"
   },
   {
    "duration": 177,
    "start_time": "2023-10-19T18:59:04.726Z"
   },
   {
    "duration": 196,
    "start_time": "2023-10-19T18:59:04.909Z"
   },
   {
    "duration": 422,
    "start_time": "2023-10-19T18:59:05.107Z"
   },
   {
    "duration": 7,
    "start_time": "2023-10-19T18:59:05.531Z"
   },
   {
    "duration": 595,
    "start_time": "2023-10-19T18:59:05.539Z"
   },
   {
    "duration": 161,
    "start_time": "2023-10-19T18:59:06.136Z"
   },
   {
    "duration": 0,
    "start_time": "2023-10-19T18:59:06.298Z"
   },
   {
    "duration": 0,
    "start_time": "2023-10-19T18:59:06.300Z"
   },
   {
    "duration": 0,
    "start_time": "2023-10-19T18:59:06.301Z"
   },
   {
    "duration": 0,
    "start_time": "2023-10-19T18:59:06.302Z"
   },
   {
    "duration": 0,
    "start_time": "2023-10-19T18:59:06.303Z"
   },
   {
    "duration": 0,
    "start_time": "2023-10-19T18:59:06.304Z"
   },
   {
    "duration": 0,
    "start_time": "2023-10-19T18:59:06.305Z"
   },
   {
    "duration": 0,
    "start_time": "2023-10-19T18:59:06.306Z"
   },
   {
    "duration": 0,
    "start_time": "2023-10-19T18:59:06.307Z"
   },
   {
    "duration": 0,
    "start_time": "2023-10-19T18:59:06.308Z"
   },
   {
    "duration": 0,
    "start_time": "2023-10-19T18:59:06.309Z"
   },
   {
    "duration": 0,
    "start_time": "2023-10-19T18:59:06.310Z"
   },
   {
    "duration": 0,
    "start_time": "2023-10-19T18:59:06.311Z"
   },
   {
    "duration": 0,
    "start_time": "2023-10-19T18:59:06.312Z"
   },
   {
    "duration": 0,
    "start_time": "2023-10-19T18:59:06.313Z"
   },
   {
    "duration": 0,
    "start_time": "2023-10-19T18:59:06.314Z"
   },
   {
    "duration": 0,
    "start_time": "2023-10-19T18:59:06.316Z"
   },
   {
    "duration": 0,
    "start_time": "2023-10-19T18:59:06.347Z"
   },
   {
    "duration": 0,
    "start_time": "2023-10-19T18:59:06.348Z"
   },
   {
    "duration": 0,
    "start_time": "2023-10-19T18:59:06.349Z"
   },
   {
    "duration": 0,
    "start_time": "2023-10-19T18:59:06.350Z"
   },
   {
    "duration": 0,
    "start_time": "2023-10-19T18:59:06.352Z"
   },
   {
    "duration": 0,
    "start_time": "2023-10-19T18:59:06.353Z"
   },
   {
    "duration": 5,
    "start_time": "2023-10-19T19:00:06.554Z"
   },
   {
    "duration": 65,
    "start_time": "2023-10-19T19:00:15.909Z"
   },
   {
    "duration": 10,
    "start_time": "2023-10-19T19:00:22.290Z"
   },
   {
    "duration": 29,
    "start_time": "2023-10-19T19:00:35.818Z"
   },
   {
    "duration": 37,
    "start_time": "2023-10-19T19:00:37.608Z"
   },
   {
    "duration": 61,
    "start_time": "2023-10-19T19:00:47.706Z"
   },
   {
    "duration": 1630,
    "start_time": "2023-10-19T19:01:34.272Z"
   },
   {
    "duration": 3,
    "start_time": "2023-10-19T19:01:35.905Z"
   },
   {
    "duration": 27,
    "start_time": "2023-10-19T19:01:35.909Z"
   },
   {
    "duration": 19,
    "start_time": "2023-10-19T19:01:35.939Z"
   },
   {
    "duration": 59,
    "start_time": "2023-10-19T19:01:35.960Z"
   },
   {
    "duration": 21,
    "start_time": "2023-10-19T19:01:36.021Z"
   },
   {
    "duration": 23,
    "start_time": "2023-10-19T19:01:36.043Z"
   },
   {
    "duration": 93,
    "start_time": "2023-10-19T19:01:36.068Z"
   },
   {
    "duration": 6,
    "start_time": "2023-10-19T19:01:36.162Z"
   },
   {
    "duration": 27,
    "start_time": "2023-10-19T19:01:36.171Z"
   },
   {
    "duration": 16,
    "start_time": "2023-10-19T19:01:36.199Z"
   },
   {
    "duration": 78,
    "start_time": "2023-10-19T19:01:36.217Z"
   },
   {
    "duration": 29,
    "start_time": "2023-10-19T19:01:36.297Z"
   },
   {
    "duration": 5,
    "start_time": "2023-10-19T19:01:36.328Z"
   },
   {
    "duration": 24,
    "start_time": "2023-10-19T19:01:36.335Z"
   },
   {
    "duration": 10,
    "start_time": "2023-10-19T19:01:36.361Z"
   },
   {
    "duration": 24,
    "start_time": "2023-10-19T19:01:36.373Z"
   },
   {
    "duration": 28,
    "start_time": "2023-10-19T19:01:36.399Z"
   },
   {
    "duration": 28,
    "start_time": "2023-10-19T19:01:36.429Z"
   },
   {
    "duration": 6,
    "start_time": "2023-10-19T19:01:36.459Z"
   },
   {
    "duration": 607,
    "start_time": "2023-10-19T19:01:36.467Z"
   },
   {
    "duration": 6,
    "start_time": "2023-10-19T19:01:37.076Z"
   },
   {
    "duration": 20,
    "start_time": "2023-10-19T19:01:37.085Z"
   },
   {
    "duration": 264,
    "start_time": "2023-10-19T19:01:37.107Z"
   },
   {
    "duration": 234,
    "start_time": "2023-10-19T19:01:37.373Z"
   },
   {
    "duration": 270,
    "start_time": "2023-10-19T19:01:37.609Z"
   },
   {
    "duration": 181,
    "start_time": "2023-10-19T19:01:37.880Z"
   },
   {
    "duration": 185,
    "start_time": "2023-10-19T19:01:38.065Z"
   },
   {
    "duration": 354,
    "start_time": "2023-10-19T19:01:38.253Z"
   },
   {
    "duration": 7,
    "start_time": "2023-10-19T19:01:38.610Z"
   },
   {
    "duration": 571,
    "start_time": "2023-10-19T19:01:38.619Z"
   },
   {
    "duration": 73,
    "start_time": "2023-10-19T19:01:39.192Z"
   },
   {
    "duration": 5,
    "start_time": "2023-10-19T19:01:39.267Z"
   },
   {
    "duration": 23,
    "start_time": "2023-10-19T19:01:39.273Z"
   },
   {
    "duration": 99,
    "start_time": "2023-10-19T19:01:39.298Z"
   },
   {
    "duration": 241,
    "start_time": "2023-10-19T19:01:39.399Z"
   },
   {
    "duration": 7,
    "start_time": "2023-10-19T19:01:39.642Z"
   },
   {
    "duration": 7,
    "start_time": "2023-10-19T19:01:39.651Z"
   },
   {
    "duration": 8,
    "start_time": "2023-10-19T19:01:39.660Z"
   },
   {
    "duration": 6,
    "start_time": "2023-10-19T19:01:39.670Z"
   },
   {
    "duration": 46,
    "start_time": "2023-10-19T19:01:39.677Z"
   },
   {
    "duration": 106,
    "start_time": "2023-10-19T19:01:39.725Z"
   },
   {
    "duration": 90,
    "start_time": "2023-10-19T19:01:39.833Z"
   },
   {
    "duration": 4,
    "start_time": "2023-10-19T19:01:39.925Z"
   },
   {
    "duration": 33,
    "start_time": "2023-10-19T19:01:39.930Z"
   },
   {
    "duration": 126,
    "start_time": "2023-10-19T19:01:39.965Z"
   },
   {
    "duration": 47,
    "start_time": "2023-10-19T19:01:40.093Z"
   },
   {
    "duration": 910,
    "start_time": "2023-10-19T19:01:40.147Z"
   },
   {
    "duration": 1574,
    "start_time": "2023-10-19T19:01:41.062Z"
   },
   {
    "duration": 406242,
    "start_time": "2023-10-19T19:01:42.637Z"
   },
   {
    "duration": 163674,
    "start_time": "2023-10-19T19:08:28.880Z"
   },
   {
    "duration": 2011184,
    "start_time": "2023-10-19T19:11:12.556Z"
   },
   {
    "duration": 10,
    "start_time": "2023-10-19T19:44:43.741Z"
   },
   {
    "duration": 20,
    "start_time": "2023-10-19T19:44:43.753Z"
   },
   {
    "duration": 552,
    "start_time": "2023-10-19T19:44:43.776Z"
   },
   {
    "duration": 128,
    "start_time": "2023-10-19T19:52:27.503Z"
   },
   {
    "duration": 212,
    "start_time": "2023-10-19T19:52:40.273Z"
   },
   {
    "duration": 294,
    "start_time": "2023-10-19T19:53:52.295Z"
   },
   {
    "duration": 323,
    "start_time": "2023-10-19T19:54:13.837Z"
   },
   {
    "duration": 405,
    "start_time": "2023-10-19T19:54:33.183Z"
   },
   {
    "duration": 281,
    "start_time": "2023-10-19T19:54:44.654Z"
   }
  ],
  "kernelspec": {
   "display_name": "Python 3 (ipykernel)",
   "language": "python",
   "name": "python3"
  },
  "language_info": {
   "codemirror_mode": {
    "name": "ipython",
    "version": 3
   },
   "file_extension": ".py",
   "mimetype": "text/x-python",
   "name": "python",
   "nbconvert_exporter": "python",
   "pygments_lexer": "ipython3",
   "version": "3.9.5"
  },
  "toc": {
   "base_numbering": 1,
   "nav_menu": {},
   "number_sections": true,
   "sideBar": true,
   "skip_h1_title": true,
   "title_cell": "Содержание",
   "title_sidebar": "Contents",
   "toc_cell": true,
   "toc_position": {
    "height": "calc(100% - 180px)",
    "left": "10px",
    "top": "150px",
    "width": "281px"
   },
   "toc_section_display": true,
   "toc_window_display": true
  }
 },
 "nbformat": 4,
 "nbformat_minor": 4
}
