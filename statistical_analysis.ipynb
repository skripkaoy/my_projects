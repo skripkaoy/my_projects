{
 "cells": [
  {
   "cell_type": "markdown",
   "id": "f877f107",
   "metadata": {
    "toc": true
   },
   "source": [
    "<h1>Содержание<span class=\"tocSkip\"></span></h1>\n",
    "<div class=\"toc\"><ul class=\"toc-item\"><li><span><a href=\"#Обзор-данных\" data-toc-modified-id=\"Обзор-данных-1\"><span class=\"toc-item-num\">1&nbsp;&nbsp;</span>Обзор данных</a></span><ul class=\"toc-item\"><li><span><a href=\"#Загрузка-данных\" data-toc-modified-id=\"Загрузка-данных-1.1\"><span class=\"toc-item-num\">1.1&nbsp;&nbsp;</span>Загрузка данных</a></span></li><li><span><a href=\"#Изучение-общей-информации-о-данных\" data-toc-modified-id=\"Изучение-общей-информации-о-данных-1.2\"><span class=\"toc-item-num\">1.2&nbsp;&nbsp;</span>Изучение общей информации о данных</a></span></li></ul></li><li><span><a href=\"#Предобработка-данных\" data-toc-modified-id=\"Предобработка-данных-2\"><span class=\"toc-item-num\">2&nbsp;&nbsp;</span>Предобработка данных</a></span><ul class=\"toc-item\"><li><span><a href=\"#Изменение-типов-данных\" data-toc-modified-id=\"Изменение-типов-данных-2.1\"><span class=\"toc-item-num\">2.1&nbsp;&nbsp;</span>Изменение типов данных</a></span></li><li><span><a href=\"#Обогащение-данных-новыми-столбцами\" data-toc-modified-id=\"Обогащение-данных-новыми-столбцами-2.2\"><span class=\"toc-item-num\">2.2&nbsp;&nbsp;</span>Обогащение данных новыми столбцами</a></span></li><li><span><a href=\"#Поиск-и-обработка-пропусков-и-дубликатов\" data-toc-modified-id=\"Поиск-и-обработка-пропусков-и-дубликатов-2.3\"><span class=\"toc-item-num\">2.3&nbsp;&nbsp;</span>Поиск и обработка пропусков и дубликатов</a></span></li></ul></li><li><span><a href=\"#Исследовательский-анализ-данных\" data-toc-modified-id=\"Исследовательский-анализ-данных-3\"><span class=\"toc-item-num\">3&nbsp;&nbsp;</span>Исследовательский анализ данных</a></span><ul class=\"toc-item\"><li><span><a href=\"#Частота-встречаемости-городов\" data-toc-modified-id=\"Частота-встречаемости-городов-3.1\"><span class=\"toc-item-num\">3.1&nbsp;&nbsp;</span>Частота встречаемости городов</a></span></li><li><span><a href=\"#Соотношение-пользователей-с-подпиской-и-без-подписки\" data-toc-modified-id=\"Соотношение-пользователей-с-подпиской-и-без-подписки-3.2\"><span class=\"toc-item-num\">3.2&nbsp;&nbsp;</span>Соотношение пользователей с подпиской и без подписки</a></span></li><li><span><a href=\"#Возраст-пользователей\" data-toc-modified-id=\"Возраст-пользователей-3.3\"><span class=\"toc-item-num\">3.3&nbsp;&nbsp;</span>Возраст пользователей</a></span></li><li><span><a href=\"#Расстояние,-которое-пользователь-преодолел-за-одну-поездку\" data-toc-modified-id=\"Расстояние,-которое-пользователь-преодолел-за-одну-поездку-3.4\"><span class=\"toc-item-num\">3.4&nbsp;&nbsp;</span>Расстояние, которое пользователь преодолел за одну поездку</a></span></li><li><span><a href=\"#Продолжительность-поездок\" data-toc-modified-id=\"Продолжительность-поездок-3.5\"><span class=\"toc-item-num\">3.5&nbsp;&nbsp;</span>Продолжительность поездок</a></span></li><li><span><a href=\"#Объединение-данных\" data-toc-modified-id=\"Объединение-данных-3.6\"><span class=\"toc-item-num\">3.6&nbsp;&nbsp;</span>Объединение данных</a></span><ul class=\"toc-item\"><li><span><a href=\"#Объединение-данных-о-пользователях,-поездках-и-подписках\" data-toc-modified-id=\"Объединение-данных-о-пользователях,-поездках-и-подписках-3.6.1\"><span class=\"toc-item-num\">3.6.1&nbsp;&nbsp;</span>Объединение данных о пользователях, поездках и подписках</a></span></li><li><span><a href=\"#Создание-датафрейма-с-пользователями-без-подписки-и-с-пользователями-с-подпиской\" data-toc-modified-id=\"Создание-датафрейма-с-пользователями-без-подписки-и-с-пользователями-с-подпиской-3.6.2\"><span class=\"toc-item-num\">3.6.2&nbsp;&nbsp;</span>Создание датафрейма с пользователями без подписки и с пользователями с подпиской</a></span></li><li><span><a href=\"#Визуализация-информации-о-расстоянии-и-времени-поездок-для-пользователей-обеих-категорий\" data-toc-modified-id=\"Визуализация-информации-о-расстоянии-и-времени-поездок-для-пользователей-обеих-категорий-3.6.3\"><span class=\"toc-item-num\">3.6.3&nbsp;&nbsp;</span>Визуализация информации о расстоянии и времени поездок для пользователей обеих категорий</a></span></li></ul></li><li><span><a href=\"#Количество-поездок-по-месяцам\" data-toc-modified-id=\"Количество-поездок-по-месяцам-3.7\"><span class=\"toc-item-num\">3.7&nbsp;&nbsp;</span>Количество поездок по месяцам</a></span></li><li><span><a href=\"#Подсчёт-выручки\" data-toc-modified-id=\"Подсчёт-выручки-3.8\"><span class=\"toc-item-num\">3.8&nbsp;&nbsp;</span>Подсчёт выручки</a></span><ul class=\"toc-item\"><li><span><a href=\"#Создание-датафрейма-с-агрегированными-данными-о-поездках\" data-toc-modified-id=\"Создание-датафрейма-с-агрегированными-данными-о-поездках-3.8.1\"><span class=\"toc-item-num\">3.8.1&nbsp;&nbsp;</span>Создание датафрейма с агрегированными данными о поездках</a></span></li><li><span><a href=\"#Расчет-помесячной-выручки-от-каждого-пользователя\" data-toc-modified-id=\"Расчет-помесячной-выручки-от-каждого-пользователя-3.8.2\"><span class=\"toc-item-num\">3.8.2&nbsp;&nbsp;</span>Расчет помесячной выручки от каждого пользователя</a></span></li></ul></li></ul></li><li><span><a href=\"#Проверка-гипотез\" data-toc-modified-id=\"Проверка-гипотез-4\"><span class=\"toc-item-num\">4&nbsp;&nbsp;</span>Проверка гипотез</a></span><ul class=\"toc-item\"><li><span><a href=\"#Пользователи-с-подпиской-тратят-больше-времени-на-поездки\" data-toc-modified-id=\"Пользователи-с-подпиской-тратят-больше-времени-на-поездки-4.1\"><span class=\"toc-item-num\">4.1&nbsp;&nbsp;</span>Пользователи с подпиской тратят больше времени на поездки</a></span></li><li><span><a href=\"#Расстояние,-которое-проезжают-пользователи-с-подпиской-за-одну-поездку,-не-превышает-3130-метров\" data-toc-modified-id=\"Расстояние,-которое-проезжают-пользователи-с-подпиской-за-одну-поездку,-не-превышает-3130-метров-4.2\"><span class=\"toc-item-num\">4.2&nbsp;&nbsp;</span>Расстояние, которое проезжают пользователи с подпиской за одну поездку, не превышает 3130 метров</a></span></li><li><span><a href=\"#Помесячная-выручка-от-пользователей-с-подпиской-выше,-чем-помесячная-выручка-от-пользователей-без-подписки\" data-toc-modified-id=\"Помесячная-выручка-от-пользователей-с-подпиской-выше,-чем-помесячная-выручка-от-пользователей-без-подписки-4.3\"><span class=\"toc-item-num\">4.3&nbsp;&nbsp;</span>Помесячная выручка от пользователей с подпиской выше, чем помесячная выручка от пользователей без подписки</a></span></li><li><span><a href=\"#Выбор-теста-для-проверки-гипотезы-в-отношении-обращений-в-техподдержку-после-обновления-сервиса\" data-toc-modified-id=\"Выбор-теста-для-проверки-гипотезы-в-отношении-обращений-в-техподдержку-после-обновления-сервиса-4.4\"><span class=\"toc-item-num\">4.4&nbsp;&nbsp;</span>Выбор теста для проверки гипотезы в отношении обращений в техподдержку после обновления сервиса</a></span></li></ul></li><li><span><a href=\"#Распределения\" data-toc-modified-id=\"Распределения-5\"><span class=\"toc-item-num\">5&nbsp;&nbsp;</span>Распределения</a></span><ul class=\"toc-item\"><li><span><a href=\"#Нахождение-минимального-количества-промокодов,-которые-нужно-разослать,-чтобы-вероятность-не-выполнить-план-была-примерно-5-%\" data-toc-modified-id=\"Нахождение-минимального-количества-промокодов,-которые-нужно-разослать,-чтобы-вероятность-не-выполнить-план-была-примерно-5-%-5.1\"><span class=\"toc-item-num\">5.1&nbsp;&nbsp;</span>Нахождение минимального количества промокодов, которые нужно разослать, чтобы вероятность не выполнить план была примерно 5 %</a></span></li><li><span><a href=\"#Оценка-вероятности-открытия-push-уведомлений-не-более-399,5-тыс.-пользователями\" data-toc-modified-id=\"Оценка-вероятности-открытия-push-уведомлений-не-более-399,5-тыс.-пользователями-5.2\"><span class=\"toc-item-num\">5.2&nbsp;&nbsp;</span>Оценка вероятности открытия push-уведомлений не более 399,5 тыс. пользователями</a></span></li></ul></li><li><span><a href=\"#Общий-вывод\" data-toc-modified-id=\"Общий-вывод-6\"><span class=\"toc-item-num\">6&nbsp;&nbsp;</span>Общий вывод</a></span></li></ul></div>"
   ]
  },
  {
   "cell_type": "markdown",
   "id": "dbe78d85",
   "metadata": {},
   "source": [
    "# Исследование данных об аренде самокатов\n",
    "\n",
    "**Цель исследования** — проанализировать данные сервиса аренды самокатов GoFast — данные о некоторых пользователях из нескольких городов, а также об их поездках, чтобы понять, являются ли пользователи с платной подпиской более «выгодными» для компании. Это поможет направить бизнес в нужную сторону - принять решение, нужно ли проводить различные акции для увеличения количества пользователей с подпиской. Для этого необходимо проверить некоторые гипотезы:\n",
    "1. Пользователи с подпиской тратят больше времени на поездки.\n",
    "2. Расстояние, которое проезжают пользователи с подпиской за одну поездку, не превышает 3130 метров — расстояние, оптимальное с точки зрения износа самоката.\n",
    "3. Помесячная выручка от пользователей с подпиской выше, чем выручка от пользователей без подписки.\n",
    "\n",
    "Пользователи могут пользоваться мобильным приложением с подпиской и без:\n",
    "- без подписки:\n",
    "  - абонентская плата отсутствует;\n",
    "  - стоимость одной минуты поездки — 8 рублей;\n",
    "  - стоимость старта (начала поездки) — 50 рублей;\n",
    "- с подпиской Ultra:\n",
    "  - абонентская плата — 199 рублей в месяц;\n",
    "  - стоимость одной минуты поездки — 6 рублей;\n",
    "  - стоимость старта — бесплатно.\n",
    "\n",
    "**Ход исследования**\n",
    "\n",
    "В связи с тем, что о качестве данных ничего не известно, перед исследованием данных необходимо провести обзор данных. После проверки данных на ошибки, различные артефакты, пропуски найдем возможность исправить самые критичные ошибки данных.\n",
    " \n",
    "Таким образом, исследование пройдёт в четыре этапа:\n",
    " 1. Обзор данных.\n",
    " 2. Предобработка данных.\n",
    " 3. Исследовательский анализ данных.\n",
    " 4. Проверка гипотез.\n",
    "\n",
    "**Описание данных:**\n",
    "- **Пользователи — users_go.csv**\n",
    "\n",
    "`user_id` — уникальный идентификатор пользователя\n",
    "\n",
    "`name` — имя пользователя\n",
    "\n",
    "`age` — возраст\n",
    "\n",
    "`city` — город\n",
    "\n",
    "`subscription_type` — тип подписки (free, ultra)\n",
    "- **Поездки — rides_go.csv**\n",
    "\n",
    "`user_id` — уникальный идентификатор пользователя\n",
    "\n",
    "`distance` — расстояние, которое пользователь проехал в текущей сессии (в метрах)\n",
    "\n",
    "`duration` — продолжительность сессии (в минутах) — время с того момента, как пользователь нажал кнопку «Начать поездку» до момента, как он нажал кнопку «Завершить поездку»\n",
    "\n",
    "`date` — дата совершения поездки\n",
    "- **Подписки — subscriptions_go.csv**\n",
    "\n",
    "`subscription_type` — тип подписки\n",
    "\n",
    "`minute_price` — стоимость одной минуты поездки по данной подписке\n",
    "\n",
    "`start_ride_price` — стоимость начала поездки\n",
    "\n",
    "`subscription_fee` — стоимость ежемесячного платежа"
   ]
  },
  {
   "cell_type": "markdown",
   "id": "ff474cf1",
   "metadata": {},
   "source": [
    "## Обзор данных"
   ]
  },
  {
   "cell_type": "markdown",
   "id": "6bbc9b8e",
   "metadata": {},
   "source": [
    "### Загрузка данных"
   ]
  },
  {
   "cell_type": "markdown",
   "id": "7bf30363",
   "metadata": {},
   "source": [
    "Настроим окружение, импортируем все необходимые библиотеки, устанавливаем размер графиков."
   ]
  },
  {
   "cell_type": "code",
   "execution_count": 2,
   "id": "c195f22d",
   "metadata": {},
   "outputs": [],
   "source": [
    "import pandas as pd\n",
    "import numpy as np\n",
    "import statistics\n",
    "import matplotlib\n",
    "import matplotlib.pyplot as plt\n",
    "import seaborn as sns\n",
    "import scipy.stats as st\n",
    "from matplotlib import rcParams, rcParamsDefault\n",
    "from math import factorial, sqrt\n",
    "from scipy.stats import binom, norm\n",
    "\n",
    "rcParams['figure.figsize'] = 10,6"
   ]
  },
  {
   "cell_type": "markdown",
   "id": "41e1552e",
   "metadata": {},
   "source": [
    "Считаем данные из csv-файлов `/datasets/users_go.csv`, `/datasets/rides_go.csv`, `/datasets/subscriptions_go.csv` в датафреймы и сохраним соответственно в переменные users, rides, subscriptions."
   ]
  },
  {
   "cell_type": "code",
   "execution_count": 3,
   "id": "72576667",
   "metadata": {},
   "outputs": [],
   "source": [
    "# чтение файла с данными и сохранение в data\n",
    "# создаем словарь с названием переменной, куда будем сохранять датафреймы, и с путем к файлу с данными\n",
    "dataframes = {\n",
    "    \"users\": \"users_go.csv\",\n",
    "    \"rides\": \"rides_go.csv\",\n",
    "    \"subscriptions\": \"subscriptions_go.csv\"\n",
    "}\n",
    "# перебираем в цикле элементы словаря и сохраняем данные из файлов в переменные с названием из словаря\n",
    "for dataframe, file in dataframes.items():\n",
    "    try:\n",
    "        exec(\"%s = pd.read_csv('/datasets/%s')\" % (dataframe,file))\n",
    "    except:\n",
    "        exec(\"%s = pd.read_csv('https://code.s3.yandex.net/datasets/%s')\" % (dataframe,file))"
   ]
  },
  {
   "cell_type": "markdown",
   "id": "1c5d9c48",
   "metadata": {},
   "source": [
    "### Изучение общей информации о данных"
   ]
  },
  {
   "cell_type": "markdown",
   "id": "13c8fcf7",
   "metadata": {},
   "source": [
    "Выведем первые 5 строчек из датафрейма с информацией о пользователях."
   ]
  },
  {
   "cell_type": "code",
   "execution_count": 4,
   "id": "eff9f206",
   "metadata": {},
   "outputs": [
    {
     "data": {
      "text/html": [
       "<div>\n",
       "<style scoped>\n",
       "    .dataframe tbody tr th:only-of-type {\n",
       "        vertical-align: middle;\n",
       "    }\n",
       "\n",
       "    .dataframe tbody tr th {\n",
       "        vertical-align: top;\n",
       "    }\n",
       "\n",
       "    .dataframe thead th {\n",
       "        text-align: right;\n",
       "    }\n",
       "</style>\n",
       "<table border=\"1\" class=\"dataframe\">\n",
       "  <thead>\n",
       "    <tr style=\"text-align: right;\">\n",
       "      <th></th>\n",
       "      <th>user_id</th>\n",
       "      <th>name</th>\n",
       "      <th>age</th>\n",
       "      <th>city</th>\n",
       "      <th>subscription_type</th>\n",
       "    </tr>\n",
       "  </thead>\n",
       "  <tbody>\n",
       "    <tr>\n",
       "      <th>0</th>\n",
       "      <td>1</td>\n",
       "      <td>Кира</td>\n",
       "      <td>22</td>\n",
       "      <td>Тюмень</td>\n",
       "      <td>ultra</td>\n",
       "    </tr>\n",
       "    <tr>\n",
       "      <th>1</th>\n",
       "      <td>2</td>\n",
       "      <td>Станислав</td>\n",
       "      <td>31</td>\n",
       "      <td>Омск</td>\n",
       "      <td>ultra</td>\n",
       "    </tr>\n",
       "    <tr>\n",
       "      <th>2</th>\n",
       "      <td>3</td>\n",
       "      <td>Алексей</td>\n",
       "      <td>20</td>\n",
       "      <td>Москва</td>\n",
       "      <td>ultra</td>\n",
       "    </tr>\n",
       "    <tr>\n",
       "      <th>3</th>\n",
       "      <td>4</td>\n",
       "      <td>Константин</td>\n",
       "      <td>26</td>\n",
       "      <td>Ростов-на-Дону</td>\n",
       "      <td>ultra</td>\n",
       "    </tr>\n",
       "    <tr>\n",
       "      <th>4</th>\n",
       "      <td>5</td>\n",
       "      <td>Адель</td>\n",
       "      <td>28</td>\n",
       "      <td>Омск</td>\n",
       "      <td>ultra</td>\n",
       "    </tr>\n",
       "  </tbody>\n",
       "</table>\n",
       "</div>"
      ],
      "text/plain": [
       "   user_id        name  age            city subscription_type\n",
       "0        1        Кира   22          Тюмень             ultra\n",
       "1        2   Станислав   31            Омск             ultra\n",
       "2        3     Алексей   20          Москва             ultra\n",
       "3        4  Константин   26  Ростов-на-Дону             ultra\n",
       "4        5       Адель   28            Омск             ultra"
      ]
     },
     "execution_count": 4,
     "metadata": {},
     "output_type": "execute_result"
    }
   ],
   "source": [
    "# выводим первые 5 строчек из users\n",
    "users.head()"
   ]
  },
  {
   "cell_type": "markdown",
   "id": "1aa5899b",
   "metadata": {},
   "source": [
    "Данные загрузились корректно. Содержание датафрейма соответствует описанию данных.\n",
    "\n",
    "Теперь выведем первые 5 строчек из датафрейма с информаией о поездках."
   ]
  },
  {
   "cell_type": "code",
   "execution_count": 5,
   "id": "bd8c1b6c",
   "metadata": {},
   "outputs": [
    {
     "data": {
      "text/html": [
       "<div>\n",
       "<style scoped>\n",
       "    .dataframe tbody tr th:only-of-type {\n",
       "        vertical-align: middle;\n",
       "    }\n",
       "\n",
       "    .dataframe tbody tr th {\n",
       "        vertical-align: top;\n",
       "    }\n",
       "\n",
       "    .dataframe thead th {\n",
       "        text-align: right;\n",
       "    }\n",
       "</style>\n",
       "<table border=\"1\" class=\"dataframe\">\n",
       "  <thead>\n",
       "    <tr style=\"text-align: right;\">\n",
       "      <th></th>\n",
       "      <th>user_id</th>\n",
       "      <th>distance</th>\n",
       "      <th>duration</th>\n",
       "      <th>date</th>\n",
       "    </tr>\n",
       "  </thead>\n",
       "  <tbody>\n",
       "    <tr>\n",
       "      <th>0</th>\n",
       "      <td>1</td>\n",
       "      <td>4409.919140</td>\n",
       "      <td>25.599769</td>\n",
       "      <td>2021-01-01</td>\n",
       "    </tr>\n",
       "    <tr>\n",
       "      <th>1</th>\n",
       "      <td>1</td>\n",
       "      <td>2617.592153</td>\n",
       "      <td>15.816871</td>\n",
       "      <td>2021-01-18</td>\n",
       "    </tr>\n",
       "    <tr>\n",
       "      <th>2</th>\n",
       "      <td>1</td>\n",
       "      <td>754.159807</td>\n",
       "      <td>6.232113</td>\n",
       "      <td>2021-04-20</td>\n",
       "    </tr>\n",
       "    <tr>\n",
       "      <th>3</th>\n",
       "      <td>1</td>\n",
       "      <td>2694.783254</td>\n",
       "      <td>18.511000</td>\n",
       "      <td>2021-08-11</td>\n",
       "    </tr>\n",
       "    <tr>\n",
       "      <th>4</th>\n",
       "      <td>1</td>\n",
       "      <td>4028.687306</td>\n",
       "      <td>26.265803</td>\n",
       "      <td>2021-08-28</td>\n",
       "    </tr>\n",
       "  </tbody>\n",
       "</table>\n",
       "</div>"
      ],
      "text/plain": [
       "   user_id     distance   duration        date\n",
       "0        1  4409.919140  25.599769  2021-01-01\n",
       "1        1  2617.592153  15.816871  2021-01-18\n",
       "2        1   754.159807   6.232113  2021-04-20\n",
       "3        1  2694.783254  18.511000  2021-08-11\n",
       "4        1  4028.687306  26.265803  2021-08-28"
      ]
     },
     "execution_count": 5,
     "metadata": {},
     "output_type": "execute_result"
    }
   ],
   "source": [
    "rides.head()"
   ]
  },
  {
   "cell_type": "markdown",
   "id": "273acd69",
   "metadata": {},
   "source": [
    "Так же видим, что данные загрузились без очевидных ошибок, они соответствуют предоставленному нам описанию.\n",
    "\n",
    "Посмотрим на датафрейм с информацией о подписках."
   ]
  },
  {
   "cell_type": "code",
   "execution_count": 6,
   "id": "a1aea037",
   "metadata": {},
   "outputs": [
    {
     "data": {
      "text/html": [
       "<div>\n",
       "<style scoped>\n",
       "    .dataframe tbody tr th:only-of-type {\n",
       "        vertical-align: middle;\n",
       "    }\n",
       "\n",
       "    .dataframe tbody tr th {\n",
       "        vertical-align: top;\n",
       "    }\n",
       "\n",
       "    .dataframe thead th {\n",
       "        text-align: right;\n",
       "    }\n",
       "</style>\n",
       "<table border=\"1\" class=\"dataframe\">\n",
       "  <thead>\n",
       "    <tr style=\"text-align: right;\">\n",
       "      <th></th>\n",
       "      <th>subscription_type</th>\n",
       "      <th>minute_price</th>\n",
       "      <th>start_ride_price</th>\n",
       "      <th>subscription_fee</th>\n",
       "    </tr>\n",
       "  </thead>\n",
       "  <tbody>\n",
       "    <tr>\n",
       "      <th>0</th>\n",
       "      <td>free</td>\n",
       "      <td>8</td>\n",
       "      <td>50</td>\n",
       "      <td>0</td>\n",
       "    </tr>\n",
       "    <tr>\n",
       "      <th>1</th>\n",
       "      <td>ultra</td>\n",
       "      <td>6</td>\n",
       "      <td>0</td>\n",
       "      <td>199</td>\n",
       "    </tr>\n",
       "  </tbody>\n",
       "</table>\n",
       "</div>"
      ],
      "text/plain": [
       "  subscription_type  minute_price  start_ride_price  subscription_fee\n",
       "0              free             8                50                 0\n",
       "1             ultra             6                 0               199"
      ]
     },
     "execution_count": 6,
     "metadata": {},
     "output_type": "execute_result"
    }
   ],
   "source": [
    "subscriptions.head()"
   ]
  },
  {
   "cell_type": "markdown",
   "id": "f89cdf29",
   "metadata": {},
   "source": [
    "Данные так же соответствуют описанию. В датафрейме всего 2 строчки с информацией о платной и бесплатной подписках."
   ]
  },
  {
   "cell_type": "markdown",
   "id": "b9b35dbd",
   "metadata": {},
   "source": [
    "Напишем функцию, выводящую все необходимые нам характеристики для данных."
   ]
  },
  {
   "cell_type": "code",
   "execution_count": 7,
   "id": "1c55b6d3",
   "metadata": {},
   "outputs": [],
   "source": [
    "# вывод основных статистик по набору данных\n",
    "\n",
    "def dataframe_information(data, asc=False):\n",
    "    \n",
    "    df_data = []\n",
    "    df_cols = ['name', 'object', 'na', 'zero', 'rate', 'unique', 'neg'\n",
    "               , 'mean', 'moda', 'std', 'min', 'max', 'out left', 'out rigth', '25%', '50%', '75%']\n",
    "    \n",
    "    # перебираем столбцы в наборе данных\n",
    "    for column_name in data.columns:\n",
    "               \n",
    "        # считаем характеристики\n",
    "        column_type = data[column_name].dtypes\n",
    "        column_na_values = data[column_name].isna().sum()\n",
    "        column_zero_values = data[column_name][data[column_name] == 0].count()\n",
    "        column_na_zero_rate = (column_na_values + column_zero_values) / data.shape[0]\n",
    "        column_unique_values = data[column_name].nunique()\n",
    "        column_negative_values = (data[column_name][data[column_name] < 0].count()\n",
    "                                  if data[column_name].dtypes != 'object' else 0)\n",
    "        column_mean = data[column_name].mean() if data[column_name].dtypes != 'object' else 0\n",
    "        column_moda = statistics.mode(data[column_name])\n",
    "        column_std = data[column_name].std() if data[column_name].dtypes != 'object' else 0\n",
    "        column_min = data[column_name].min() if data[column_name].dtypes != 'object' else 0\n",
    "        column_max = data[column_name].max() if data[column_name].dtypes != 'object' else 0\n",
    "        outliers_left_number = (data[column_name][data[column_name] < data[column_name].quantile(.025)].count()\n",
    "                                if data[column_name].dtypes != 'object' else 0)\n",
    "        outliers_right_number = (data[column_name][data[column_name] > data[column_name].quantile(.975)].count()\n",
    "                                 if data[column_name].dtypes != 'object' else 0)\n",
    "        percentile_25 = data[column_name].quantile(.25) if data[column_name].dtypes != 'object' else 0\n",
    "        percentile_50 = data[column_name].quantile(.50) if data[column_name].dtypes != 'object' else 0\n",
    "        percentile_75 = data[column_name].quantile(.75) if data[column_name].dtypes != 'object' else 0\n",
    "       \n",
    "    # собираем показатели по каждому полю\n",
    "        df_data.append([column_name, column_type, column_na_values\n",
    "                                 , column_zero_values, column_na_zero_rate, column_unique_values\n",
    "                                 , column_negative_values, column_mean, column_moda, column_std, column_min\n",
    "                                 , column_max, outliers_left_number, outliers_right_number\n",
    "                                 , percentile_25, percentile_50, percentile_75])\n",
    "    \n",
    "    # формируем набор данных\n",
    "    df_res = pd.DataFrame(data = df_data, columns = df_cols)\n",
    "    \n",
    "    return df_res"
   ]
  },
  {
   "cell_type": "markdown",
   "id": "a53e8138",
   "metadata": {},
   "source": [
    "Выведим характеристики данных в датафрейме `users`."
   ]
  },
  {
   "cell_type": "code",
   "execution_count": 8,
   "id": "ee8cdfdf",
   "metadata": {
    "scrolled": true
   },
   "outputs": [
    {
     "data": {
      "text/html": [
       "<div>\n",
       "<style scoped>\n",
       "    .dataframe tbody tr th:only-of-type {\n",
       "        vertical-align: middle;\n",
       "    }\n",
       "\n",
       "    .dataframe tbody tr th {\n",
       "        vertical-align: top;\n",
       "    }\n",
       "\n",
       "    .dataframe thead th {\n",
       "        text-align: right;\n",
       "    }\n",
       "</style>\n",
       "<table border=\"1\" class=\"dataframe\">\n",
       "  <thead>\n",
       "    <tr style=\"text-align: right;\">\n",
       "      <th></th>\n",
       "      <th>name</th>\n",
       "      <th>object</th>\n",
       "      <th>na</th>\n",
       "      <th>zero</th>\n",
       "      <th>rate</th>\n",
       "      <th>unique</th>\n",
       "      <th>neg</th>\n",
       "      <th>mean</th>\n",
       "      <th>moda</th>\n",
       "      <th>std</th>\n",
       "      <th>min</th>\n",
       "      <th>max</th>\n",
       "      <th>out left</th>\n",
       "      <th>out rigth</th>\n",
       "      <th>25%</th>\n",
       "      <th>50%</th>\n",
       "      <th>75%</th>\n",
       "    </tr>\n",
       "  </thead>\n",
       "  <tbody>\n",
       "    <tr>\n",
       "      <th>0</th>\n",
       "      <td>user_id</td>\n",
       "      <td>int64</td>\n",
       "      <td>0</td>\n",
       "      <td>0</td>\n",
       "      <td>0.0</td>\n",
       "      <td>1534</td>\n",
       "      <td>0</td>\n",
       "      <td>762.633866</td>\n",
       "      <td>16</td>\n",
       "      <td>443.260155</td>\n",
       "      <td>1</td>\n",
       "      <td>1534</td>\n",
       "      <td>40</td>\n",
       "      <td>40</td>\n",
       "      <td>378.0</td>\n",
       "      <td>762.0</td>\n",
       "      <td>1146.0</td>\n",
       "    </tr>\n",
       "    <tr>\n",
       "      <th>1</th>\n",
       "      <td>name</td>\n",
       "      <td>object</td>\n",
       "      <td>0</td>\n",
       "      <td>0</td>\n",
       "      <td>0.0</td>\n",
       "      <td>194</td>\n",
       "      <td>0</td>\n",
       "      <td>0.000000</td>\n",
       "      <td>Мария</td>\n",
       "      <td>0.000000</td>\n",
       "      <td>0</td>\n",
       "      <td>0</td>\n",
       "      <td>0</td>\n",
       "      <td>0</td>\n",
       "      <td>0.0</td>\n",
       "      <td>0.0</td>\n",
       "      <td>0.0</td>\n",
       "    </tr>\n",
       "    <tr>\n",
       "      <th>2</th>\n",
       "      <td>age</td>\n",
       "      <td>int64</td>\n",
       "      <td>0</td>\n",
       "      <td>0</td>\n",
       "      <td>0.0</td>\n",
       "      <td>29</td>\n",
       "      <td>0</td>\n",
       "      <td>24.922045</td>\n",
       "      <td>25</td>\n",
       "      <td>4.553496</td>\n",
       "      <td>12</td>\n",
       "      <td>43</td>\n",
       "      <td>34</td>\n",
       "      <td>28</td>\n",
       "      <td>22.0</td>\n",
       "      <td>25.0</td>\n",
       "      <td>28.0</td>\n",
       "    </tr>\n",
       "    <tr>\n",
       "      <th>3</th>\n",
       "      <td>city</td>\n",
       "      <td>object</td>\n",
       "      <td>0</td>\n",
       "      <td>0</td>\n",
       "      <td>0.0</td>\n",
       "      <td>8</td>\n",
       "      <td>0</td>\n",
       "      <td>0.000000</td>\n",
       "      <td>Пятигорск</td>\n",
       "      <td>0.000000</td>\n",
       "      <td>0</td>\n",
       "      <td>0</td>\n",
       "      <td>0</td>\n",
       "      <td>0</td>\n",
       "      <td>0.0</td>\n",
       "      <td>0.0</td>\n",
       "      <td>0.0</td>\n",
       "    </tr>\n",
       "    <tr>\n",
       "      <th>4</th>\n",
       "      <td>subscription_type</td>\n",
       "      <td>object</td>\n",
       "      <td>0</td>\n",
       "      <td>0</td>\n",
       "      <td>0.0</td>\n",
       "      <td>2</td>\n",
       "      <td>0</td>\n",
       "      <td>0.000000</td>\n",
       "      <td>free</td>\n",
       "      <td>0.000000</td>\n",
       "      <td>0</td>\n",
       "      <td>0</td>\n",
       "      <td>0</td>\n",
       "      <td>0</td>\n",
       "      <td>0.0</td>\n",
       "      <td>0.0</td>\n",
       "      <td>0.0</td>\n",
       "    </tr>\n",
       "  </tbody>\n",
       "</table>\n",
       "</div>"
      ],
      "text/plain": [
       "                name  object  na  zero  rate  unique  neg        mean  \\\n",
       "0            user_id   int64   0     0   0.0    1534    0  762.633866   \n",
       "1               name  object   0     0   0.0     194    0    0.000000   \n",
       "2                age   int64   0     0   0.0      29    0   24.922045   \n",
       "3               city  object   0     0   0.0       8    0    0.000000   \n",
       "4  subscription_type  object   0     0   0.0       2    0    0.000000   \n",
       "\n",
       "        moda         std  min   max  out left  out rigth    25%    50%     75%  \n",
       "0         16  443.260155    1  1534        40         40  378.0  762.0  1146.0  \n",
       "1      Мария    0.000000    0     0         0          0    0.0    0.0     0.0  \n",
       "2         25    4.553496   12    43        34         28   22.0   25.0    28.0  \n",
       "3  Пятигорск    0.000000    0     0         0          0    0.0    0.0     0.0  \n",
       "4       free    0.000000    0     0         0          0    0.0    0.0     0.0  "
      ]
     },
     "execution_count": 8,
     "metadata": {},
     "output_type": "execute_result"
    }
   ],
   "source": [
    "# вызываем функцию для расчета характеристик по данным\n",
    "dataframe_information(users, asc=False)"
   ]
  },
  {
   "cell_type": "markdown",
   "id": "e4c6ae8e",
   "metadata": {},
   "source": [
    "Проблем в данных не наблюдается: типы данных все корректны, пропусков, нулей в данных не наблюдается. Для количественных переменных (не считая `user_id` - по нему расчеты мы делать не будем, это просто id пользователя) отрицательных значений нет, среднее и медиана практически равны, есть немного выбросов, на которые мы взглянем позже. Интересно, что больше всего пользователей из Пятигорска, а не Москвы, как можно было бы подумать, и больше всего прокатом самокатов пользуются люди в возрасте 25 лет.\n",
    "\n",
    "Выведим характеристики данных в датафрейме `rides`."
   ]
  },
  {
   "cell_type": "code",
   "execution_count": 9,
   "id": "02f24c7f",
   "metadata": {},
   "outputs": [
    {
     "data": {
      "text/html": [
       "<div>\n",
       "<style scoped>\n",
       "    .dataframe tbody tr th:only-of-type {\n",
       "        vertical-align: middle;\n",
       "    }\n",
       "\n",
       "    .dataframe tbody tr th {\n",
       "        vertical-align: top;\n",
       "    }\n",
       "\n",
       "    .dataframe thead th {\n",
       "        text-align: right;\n",
       "    }\n",
       "</style>\n",
       "<table border=\"1\" class=\"dataframe\">\n",
       "  <thead>\n",
       "    <tr style=\"text-align: right;\">\n",
       "      <th></th>\n",
       "      <th>name</th>\n",
       "      <th>object</th>\n",
       "      <th>na</th>\n",
       "      <th>zero</th>\n",
       "      <th>rate</th>\n",
       "      <th>unique</th>\n",
       "      <th>neg</th>\n",
       "      <th>mean</th>\n",
       "      <th>moda</th>\n",
       "      <th>std</th>\n",
       "      <th>min</th>\n",
       "      <th>max</th>\n",
       "      <th>out left</th>\n",
       "      <th>out rigth</th>\n",
       "      <th>25%</th>\n",
       "      <th>50%</th>\n",
       "      <th>75%</th>\n",
       "    </tr>\n",
       "  </thead>\n",
       "  <tbody>\n",
       "    <tr>\n",
       "      <th>0</th>\n",
       "      <td>user_id</td>\n",
       "      <td>int64</td>\n",
       "      <td>0</td>\n",
       "      <td>0</td>\n",
       "      <td>0.0</td>\n",
       "      <td>1534</td>\n",
       "      <td>0</td>\n",
       "      <td>842.869936</td>\n",
       "      <td>1236</td>\n",
       "      <td>434.734317</td>\n",
       "      <td>1.000000</td>\n",
       "      <td>1534.000000</td>\n",
       "      <td>447</td>\n",
       "      <td>443</td>\n",
       "      <td>487.000000</td>\n",
       "      <td>889.000000</td>\n",
       "      <td>1213.250000</td>\n",
       "    </tr>\n",
       "    <tr>\n",
       "      <th>1</th>\n",
       "      <td>distance</td>\n",
       "      <td>float64</td>\n",
       "      <td>0</td>\n",
       "      <td>0</td>\n",
       "      <td>0.0</td>\n",
       "      <td>18068</td>\n",
       "      <td>0</td>\n",
       "      <td>3070.659976</td>\n",
       "      <td>4409.91914</td>\n",
       "      <td>1116.831209</td>\n",
       "      <td>0.855683</td>\n",
       "      <td>7211.007745</td>\n",
       "      <td>452</td>\n",
       "      <td>452</td>\n",
       "      <td>2543.226360</td>\n",
       "      <td>3133.609994</td>\n",
       "      <td>3776.222735</td>\n",
       "    </tr>\n",
       "    <tr>\n",
       "      <th>2</th>\n",
       "      <td>duration</td>\n",
       "      <td>float64</td>\n",
       "      <td>0</td>\n",
       "      <td>0</td>\n",
       "      <td>0.0</td>\n",
       "      <td>17974</td>\n",
       "      <td>0</td>\n",
       "      <td>17.805011</td>\n",
       "      <td>0.5</td>\n",
       "      <td>6.091051</td>\n",
       "      <td>0.500000</td>\n",
       "      <td>40.823963</td>\n",
       "      <td>452</td>\n",
       "      <td>452</td>\n",
       "      <td>13.597563</td>\n",
       "      <td>17.678395</td>\n",
       "      <td>21.724800</td>\n",
       "    </tr>\n",
       "    <tr>\n",
       "      <th>3</th>\n",
       "      <td>date</td>\n",
       "      <td>object</td>\n",
       "      <td>0</td>\n",
       "      <td>0</td>\n",
       "      <td>0.0</td>\n",
       "      <td>364</td>\n",
       "      <td>0</td>\n",
       "      <td>0.000000</td>\n",
       "      <td>2021-12-22</td>\n",
       "      <td>0.000000</td>\n",
       "      <td>0.000000</td>\n",
       "      <td>0.000000</td>\n",
       "      <td>0</td>\n",
       "      <td>0</td>\n",
       "      <td>0.000000</td>\n",
       "      <td>0.000000</td>\n",
       "      <td>0.000000</td>\n",
       "    </tr>\n",
       "  </tbody>\n",
       "</table>\n",
       "</div>"
      ],
      "text/plain": [
       "       name   object  na  zero  rate  unique  neg         mean        moda  \\\n",
       "0   user_id    int64   0     0   0.0    1534    0   842.869936        1236   \n",
       "1  distance  float64   0     0   0.0   18068    0  3070.659976  4409.91914   \n",
       "2  duration  float64   0     0   0.0   17974    0    17.805011         0.5   \n",
       "3      date   object   0     0   0.0     364    0     0.000000  2021-12-22   \n",
       "\n",
       "           std       min          max  out left  out rigth          25%  \\\n",
       "0   434.734317  1.000000  1534.000000       447        443   487.000000   \n",
       "1  1116.831209  0.855683  7211.007745       452        452  2543.226360   \n",
       "2     6.091051  0.500000    40.823963       452        452    13.597563   \n",
       "3     0.000000  0.000000     0.000000         0          0     0.000000   \n",
       "\n",
       "           50%          75%  \n",
       "0   889.000000  1213.250000  \n",
       "1  3133.609994  3776.222735  \n",
       "2    17.678395    21.724800  \n",
       "3     0.000000     0.000000  "
      ]
     },
     "execution_count": 9,
     "metadata": {},
     "output_type": "execute_result"
    }
   ],
   "source": [
    "# вызываем функцию для расчета характеристик по данным\n",
    "dataframe_information(rides, asc=False)"
   ]
  },
  {
   "cell_type": "markdown",
   "id": "7717054b",
   "metadata": {},
   "source": [
    "По посчитанным характеристикам видим, что необходимо изменить тип данных в столбце `date` на datetime, пропусков, нулей в данных не наблюдается. Для количественных переменных (не считая user_id - по нему расчеты мы делать не будем, это просто id пользователя) отрицательных значений нет, среднее и медиана практически равны, есть выбросы - одинаковое количество и справа, и слева, что немного странно выглядит. Так же из \"странностей\" стоит отметить очень маленькое значение в столбце `distance` - меньше метра, вероятно пользователь, взяв самокат, на прокат передумал, то есть фактически поездки не было. То же самое каcается и минимального значения в столбце `duration` - самое часто встречающееся значение - полминуты.\n",
    "\n",
    "Считать характеристики для датафрейма `subscriptions` нет смысла - он состоит из двух строк с информациией о подписках."
   ]
  },
  {
   "cell_type": "markdown",
   "id": "4a94fac9",
   "metadata": {},
   "source": [
    "Построим общую гистограмму для всех числовых столбцов таблиц, чтобы визуализировать представление о струкуре данных, посмотреть распределение значений."
   ]
  },
  {
   "cell_type": "code",
   "execution_count": 10,
   "id": "8f6b4976",
   "metadata": {},
   "outputs": [
    {
     "data": {
      "image/png": "[encoded data removed]",
      "text/plain": [
       "<Figure size 720x288 with 2 Axes>"
      ]
     },
     "metadata": {
      "needs_background": "light"
     },
     "output_type": "display_data"
    }
   ],
   "source": [
    "# строим гистограммы для всех столбцов\n",
    "users.hist(figsize=(10, 4))\n",
    "plt.show()"
   ]
  },
  {
   "cell_type": "code",
   "execution_count": 11,
   "id": "59660b64",
   "metadata": {},
   "outputs": [
    {
     "data": {
      "image/png": "[encoded data removed]",
      "text/plain": [
       "<Figure size 720x576 with 4 Axes>"
      ]
     },
     "metadata": {
      "needs_background": "light"
     },
     "output_type": "display_data"
    }
   ],
   "source": [
    "rides.hist(figsize=(10, 8))\n",
    "plt.show()"
   ]
  },
  {
   "cell_type": "markdown",
   "id": "be5e102c",
   "metadata": {},
   "source": [
    "По гистограмма на первый взгляд видно, что в столбцах `age` и `duration` данные распределены близко к нормальному. В столбце `distance` у распределения есть толстый хвост слева от пика. В следующих разделах посмотрим на распределение данных в другом масштабе, чтобы рассмотреть все нюансы данных."
   ]
  },
  {
   "cell_type": "markdown",
   "id": "27e32024",
   "metadata": {},
   "source": [
    "**Вывод:**\n",
    "\n",
    "Данные распределены по трем датафреймам:\n",
    "- в `users` информация о пользователях, есть столбцы `user_id`, `subscription_type` - по ним можно провести объединение с другими датафреймами;\n",
    "- в `rides` информация о поездках, есть столбец `user_id`;\n",
    "- в `subscriptions` информация о подписках (2 типа подписки - 2 строки), есть столбец `subscription_type`.\n",
    "\n",
    "Предварительно можно утверждать, что, данных достаточно для проверки гипотез. Пропусков в данных нет, отрицательных, нулевых значений так же не наблюдается, однако, есть выбросы. \n",
    "\n",
    "Есть столбцы, в которых необходимо изменить тип данных.\n",
    "\n",
    "Чтобы двигаться дальше, нужно устранить проблемы в данных."
   ]
  },
  {
   "cell_type": "markdown",
   "id": "e95ebca7",
   "metadata": {},
   "source": [
    "## Предобработка данных"
   ]
  },
  {
   "cell_type": "markdown",
   "id": "adceb1ad",
   "metadata": {},
   "source": [
    "### Изменение типов данных"
   ]
  },
  {
   "cell_type": "markdown",
   "id": "1d294e76",
   "metadata": {},
   "source": [
    "- Как уже отмечали раньше, в датафрейме `rides` есть данные, тип которых необходимо изменить - в столбце `date` хранится дата, а тип данных - object.\n",
    "\n",
    "Чтобы можно было дату и время вводить в арифметические операции (например исследовать данные по дням недели), необходимо изменить тип данных на datetime."
   ]
  },
  {
   "cell_type": "code",
   "execution_count": 12,
   "id": "af6d202c",
   "metadata": {},
   "outputs": [],
   "source": [
    "# меняем тип данных в столбце date на datetime\n",
    "rides['date'] = pd.to_datetime(\n",
    "    rides['date'], format='%Y-%m-%d'\n",
    ")"
   ]
  },
  {
   "cell_type": "markdown",
   "id": "de890845",
   "metadata": {},
   "source": [
    "- Округлим длительность поездки до целого и изменим тип данных на целочисленный."
   ]
  },
  {
   "cell_type": "code",
   "execution_count": 13,
   "id": "228c783c",
   "metadata": {},
   "outputs": [
    {
     "data": {
      "text/html": [
       "<div>\n",
       "<style scoped>\n",
       "    .dataframe tbody tr th:only-of-type {\n",
       "        vertical-align: middle;\n",
       "    }\n",
       "\n",
       "    .dataframe tbody tr th {\n",
       "        vertical-align: top;\n",
       "    }\n",
       "\n",
       "    .dataframe thead th {\n",
       "        text-align: right;\n",
       "    }\n",
       "</style>\n",
       "<table border=\"1\" class=\"dataframe\">\n",
       "  <thead>\n",
       "    <tr style=\"text-align: right;\">\n",
       "      <th></th>\n",
       "      <th>user_id</th>\n",
       "      <th>distance</th>\n",
       "      <th>duration</th>\n",
       "      <th>date</th>\n",
       "    </tr>\n",
       "  </thead>\n",
       "  <tbody>\n",
       "    <tr>\n",
       "      <th>0</th>\n",
       "      <td>1</td>\n",
       "      <td>4409.919140</td>\n",
       "      <td>26</td>\n",
       "      <td>2021-01-01</td>\n",
       "    </tr>\n",
       "    <tr>\n",
       "      <th>1</th>\n",
       "      <td>1</td>\n",
       "      <td>2617.592153</td>\n",
       "      <td>16</td>\n",
       "      <td>2021-01-18</td>\n",
       "    </tr>\n",
       "    <tr>\n",
       "      <th>2</th>\n",
       "      <td>1</td>\n",
       "      <td>754.159807</td>\n",
       "      <td>7</td>\n",
       "      <td>2021-04-20</td>\n",
       "    </tr>\n",
       "    <tr>\n",
       "      <th>3</th>\n",
       "      <td>1</td>\n",
       "      <td>2694.783254</td>\n",
       "      <td>19</td>\n",
       "      <td>2021-08-11</td>\n",
       "    </tr>\n",
       "    <tr>\n",
       "      <th>4</th>\n",
       "      <td>1</td>\n",
       "      <td>4028.687306</td>\n",
       "      <td>27</td>\n",
       "      <td>2021-08-28</td>\n",
       "    </tr>\n",
       "    <tr>\n",
       "      <th>...</th>\n",
       "      <td>...</td>\n",
       "      <td>...</td>\n",
       "      <td>...</td>\n",
       "      <td>...</td>\n",
       "    </tr>\n",
       "    <tr>\n",
       "      <th>18063</th>\n",
       "      <td>1534</td>\n",
       "      <td>3781.098080</td>\n",
       "      <td>20</td>\n",
       "      <td>2021-11-04</td>\n",
       "    </tr>\n",
       "    <tr>\n",
       "      <th>18064</th>\n",
       "      <td>1534</td>\n",
       "      <td>2840.423057</td>\n",
       "      <td>22</td>\n",
       "      <td>2021-11-16</td>\n",
       "    </tr>\n",
       "    <tr>\n",
       "      <th>18065</th>\n",
       "      <td>1534</td>\n",
       "      <td>3826.185507</td>\n",
       "      <td>19</td>\n",
       "      <td>2021-11-18</td>\n",
       "    </tr>\n",
       "    <tr>\n",
       "      <th>18066</th>\n",
       "      <td>1534</td>\n",
       "      <td>2902.308661</td>\n",
       "      <td>17</td>\n",
       "      <td>2021-11-27</td>\n",
       "    </tr>\n",
       "    <tr>\n",
       "      <th>18067</th>\n",
       "      <td>1534</td>\n",
       "      <td>2371.711192</td>\n",
       "      <td>16</td>\n",
       "      <td>2021-12-29</td>\n",
       "    </tr>\n",
       "  </tbody>\n",
       "</table>\n",
       "<p>18068 rows × 4 columns</p>\n",
       "</div>"
      ],
      "text/plain": [
       "       user_id     distance  duration       date\n",
       "0            1  4409.919140        26 2021-01-01\n",
       "1            1  2617.592153        16 2021-01-18\n",
       "2            1   754.159807         7 2021-04-20\n",
       "3            1  2694.783254        19 2021-08-11\n",
       "4            1  4028.687306        27 2021-08-28\n",
       "...        ...          ...       ...        ...\n",
       "18063     1534  3781.098080        20 2021-11-04\n",
       "18064     1534  2840.423057        22 2021-11-16\n",
       "18065     1534  3826.185507        19 2021-11-18\n",
       "18066     1534  2902.308661        17 2021-11-27\n",
       "18067     1534  2371.711192        16 2021-12-29\n",
       "\n",
       "[18068 rows x 4 columns]"
      ]
     },
     "execution_count": 13,
     "metadata": {},
     "output_type": "execute_result"
    }
   ],
   "source": [
    "rides['duration'] = np.ceil(rides['duration']).astype(int)\n",
    "rides"
   ]
  },
  {
   "cell_type": "markdown",
   "id": "465fef84",
   "metadata": {},
   "source": [
    "Проверим изменения в типах данных."
   ]
  },
  {
   "cell_type": "code",
   "execution_count": 14,
   "id": "db4e552c",
   "metadata": {},
   "outputs": [
    {
     "data": {
      "text/plain": [
       "user_id              int64\n",
       "distance           float64\n",
       "duration             int64\n",
       "date        datetime64[ns]\n",
       "dtype: object"
      ]
     },
     "execution_count": 14,
     "metadata": {},
     "output_type": "execute_result"
    }
   ],
   "source": [
    "rides.dtypes # проверим, какие типы данных в измененных столбцах"
   ]
  },
  {
   "cell_type": "markdown",
   "id": "435e73b4",
   "metadata": {},
   "source": [
    "Столбцы имеют корректный тип данных."
   ]
  },
  {
   "cell_type": "markdown",
   "id": "b3c97740",
   "metadata": {},
   "source": [
    "### Обогащение данных новыми столбцами"
   ]
  },
  {
   "cell_type": "markdown",
   "id": "bcf9aee4",
   "metadata": {},
   "source": [
    "Проверим, за сколько лет у нас данные, чтобы не получилось, что месяца за разные года оказались объединены."
   ]
  },
  {
   "cell_type": "code",
   "execution_count": 15,
   "id": "035a9608",
   "metadata": {},
   "outputs": [
    {
     "data": {
      "text/plain": [
       "array([2021])"
      ]
     },
     "execution_count": 15,
     "metadata": {},
     "output_type": "execute_result"
    }
   ],
   "source": [
    "# проверим, за сколько лет данные в датафрейме\n",
    "rides['date'].dt.year.unique()"
   ]
  },
  {
   "cell_type": "markdown",
   "id": "8e133528",
   "metadata": {},
   "source": [
    "Данные только за 2021 год. Создадим в датафрейме `rides` новый столбец с номером месяца на основе столбца `date` - `month`."
   ]
  },
  {
   "cell_type": "code",
   "execution_count": 16,
   "id": "057310ff",
   "metadata": {},
   "outputs": [],
   "source": [
    "# добавляем столбец с месяцем\n",
    "rides['month'] = rides['date'].dt.month"
   ]
  },
  {
   "cell_type": "markdown",
   "id": "25fbeff9",
   "metadata": {},
   "source": [
    "Проверим, что получилось - выведем первые 5 строк датафрейма."
   ]
  },
  {
   "cell_type": "code",
   "execution_count": 17,
   "id": "6b0ecd63",
   "metadata": {
    "scrolled": true
   },
   "outputs": [
    {
     "data": {
      "text/html": [
       "<div>\n",
       "<style scoped>\n",
       "    .dataframe tbody tr th:only-of-type {\n",
       "        vertical-align: middle;\n",
       "    }\n",
       "\n",
       "    .dataframe tbody tr th {\n",
       "        vertical-align: top;\n",
       "    }\n",
       "\n",
       "    .dataframe thead th {\n",
       "        text-align: right;\n",
       "    }\n",
       "</style>\n",
       "<table border=\"1\" class=\"dataframe\">\n",
       "  <thead>\n",
       "    <tr style=\"text-align: right;\">\n",
       "      <th></th>\n",
       "      <th>user_id</th>\n",
       "      <th>distance</th>\n",
       "      <th>duration</th>\n",
       "      <th>date</th>\n",
       "      <th>month</th>\n",
       "    </tr>\n",
       "  </thead>\n",
       "  <tbody>\n",
       "    <tr>\n",
       "      <th>0</th>\n",
       "      <td>1</td>\n",
       "      <td>4409.919140</td>\n",
       "      <td>26</td>\n",
       "      <td>2021-01-01</td>\n",
       "      <td>1</td>\n",
       "    </tr>\n",
       "    <tr>\n",
       "      <th>1</th>\n",
       "      <td>1</td>\n",
       "      <td>2617.592153</td>\n",
       "      <td>16</td>\n",
       "      <td>2021-01-18</td>\n",
       "      <td>1</td>\n",
       "    </tr>\n",
       "    <tr>\n",
       "      <th>2</th>\n",
       "      <td>1</td>\n",
       "      <td>754.159807</td>\n",
       "      <td>7</td>\n",
       "      <td>2021-04-20</td>\n",
       "      <td>4</td>\n",
       "    </tr>\n",
       "    <tr>\n",
       "      <th>3</th>\n",
       "      <td>1</td>\n",
       "      <td>2694.783254</td>\n",
       "      <td>19</td>\n",
       "      <td>2021-08-11</td>\n",
       "      <td>8</td>\n",
       "    </tr>\n",
       "    <tr>\n",
       "      <th>4</th>\n",
       "      <td>1</td>\n",
       "      <td>4028.687306</td>\n",
       "      <td>27</td>\n",
       "      <td>2021-08-28</td>\n",
       "      <td>8</td>\n",
       "    </tr>\n",
       "  </tbody>\n",
       "</table>\n",
       "</div>"
      ],
      "text/plain": [
       "   user_id     distance  duration       date  month\n",
       "0        1  4409.919140        26 2021-01-01      1\n",
       "1        1  2617.592153        16 2021-01-18      1\n",
       "2        1   754.159807         7 2021-04-20      4\n",
       "3        1  2694.783254        19 2021-08-11      8\n",
       "4        1  4028.687306        27 2021-08-28      8"
      ]
     },
     "execution_count": 17,
     "metadata": {},
     "output_type": "execute_result"
    }
   ],
   "source": [
    "rides.head()"
   ]
  },
  {
   "cell_type": "markdown",
   "id": "7cf95be5",
   "metadata": {},
   "source": [
    "Так как `month` - новый столбец, в первом разделе мы не посмотрели распределение данных по этому столбцу. Посмотрим сейчас , как распределяются данные в зависимости от месяца."
   ]
  },
  {
   "cell_type": "code",
   "execution_count": 18,
   "id": "62b543cd",
   "metadata": {},
   "outputs": [
    {
     "data": {
      "image/png": "[encoded data removed]",
      "text/plain": [
       "<Figure size 720x432 with 1 Axes>"
      ]
     },
     "metadata": {
      "needs_background": "light"
     },
     "output_type": "display_data"
    }
   ],
   "source": [
    "rides['month'].value_counts().plot.barh()\n",
    "# строим возрастающую столбчатую диаграмму\n",
    "# указываем наименования осей и графика\n",
    "plt.xlabel('Месяц')\n",
    "plt.ylabel('Частота встречаемости месяца')\n",
    "plt.title('Диаграмма частоты поездок по месяцам')\n",
    "plt.show()"
   ]
  },
  {
   "cell_type": "markdown",
   "id": "c540e1ed",
   "metadata": {},
   "source": [
    "Достаточно странная картина - нет сильной просадки в зимние месяцы, как ожидалось. Надо посмотреть данные еще в разрезе городов - в теплых городах просадки зимой быть не должно. В разделе по исследованию данных попробуем найти зависимость в разрезе городов."
   ]
  },
  {
   "cell_type": "markdown",
   "id": "608e6c8c",
   "metadata": {},
   "source": [
    "### Поиск и обработка пропусков и дубликатов"
   ]
  },
  {
   "cell_type": "markdown",
   "id": "96623fc0",
   "metadata": {},
   "source": [
    "Как было проверено в предыдущих разделах - ни в одном из исследуемых датафреймов нет пропусков.\n",
    "\n",
    "Теперь проверим наличие дубликатов."
   ]
  },
  {
   "cell_type": "markdown",
   "id": "ed163355",
   "metadata": {},
   "source": [
    "- Посмотрим дубликаты в датафрейме `users`. Начнем с явных дубликатов."
   ]
  },
  {
   "cell_type": "code",
   "execution_count": 19,
   "id": "295abe7c",
   "metadata": {},
   "outputs": [
    {
     "data": {
      "text/plain": [
       "31"
      ]
     },
     "execution_count": 19,
     "metadata": {},
     "output_type": "execute_result"
    }
   ],
   "source": [
    "# выводим количество дубликатов в датафрейме\n",
    "users.duplicated().sum()"
   ]
  },
  {
   "cell_type": "code",
   "execution_count": 20,
   "id": "e1f84410",
   "metadata": {
    "scrolled": true
   },
   "outputs": [
    {
     "data": {
      "text/html": [
       "<div>\n",
       "<style scoped>\n",
       "    .dataframe tbody tr th:only-of-type {\n",
       "        vertical-align: middle;\n",
       "    }\n",
       "\n",
       "    .dataframe tbody tr th {\n",
       "        vertical-align: top;\n",
       "    }\n",
       "\n",
       "    .dataframe thead th {\n",
       "        text-align: right;\n",
       "    }\n",
       "</style>\n",
       "<table border=\"1\" class=\"dataframe\">\n",
       "  <thead>\n",
       "    <tr style=\"text-align: right;\">\n",
       "      <th></th>\n",
       "      <th>user_id</th>\n",
       "      <th>name</th>\n",
       "      <th>age</th>\n",
       "      <th>city</th>\n",
       "      <th>subscription_type</th>\n",
       "    </tr>\n",
       "  </thead>\n",
       "  <tbody>\n",
       "    <tr>\n",
       "      <th>15</th>\n",
       "      <td>16</td>\n",
       "      <td>Амалия</td>\n",
       "      <td>27</td>\n",
       "      <td>Краснодар</td>\n",
       "      <td>ultra</td>\n",
       "    </tr>\n",
       "    <tr>\n",
       "      <th>1535</th>\n",
       "      <td>16</td>\n",
       "      <td>Амалия</td>\n",
       "      <td>27</td>\n",
       "      <td>Краснодар</td>\n",
       "      <td>ultra</td>\n",
       "    </tr>\n",
       "    <tr>\n",
       "      <th>42</th>\n",
       "      <td>43</td>\n",
       "      <td>Стефания</td>\n",
       "      <td>22</td>\n",
       "      <td>Омск</td>\n",
       "      <td>ultra</td>\n",
       "    </tr>\n",
       "    <tr>\n",
       "      <th>1539</th>\n",
       "      <td>43</td>\n",
       "      <td>Стефания</td>\n",
       "      <td>22</td>\n",
       "      <td>Омск</td>\n",
       "      <td>ultra</td>\n",
       "    </tr>\n",
       "    <tr>\n",
       "      <th>1563</th>\n",
       "      <td>47</td>\n",
       "      <td>Юрий</td>\n",
       "      <td>28</td>\n",
       "      <td>Тюмень</td>\n",
       "      <td>ultra</td>\n",
       "    </tr>\n",
       "    <tr>\n",
       "      <th>...</th>\n",
       "      <td>...</td>\n",
       "      <td>...</td>\n",
       "      <td>...</td>\n",
       "      <td>...</td>\n",
       "      <td>...</td>\n",
       "    </tr>\n",
       "    <tr>\n",
       "      <th>1554</th>\n",
       "      <td>1198</td>\n",
       "      <td>Демид</td>\n",
       "      <td>29</td>\n",
       "      <td>Ростов-на-Дону</td>\n",
       "      <td>free</td>\n",
       "    </tr>\n",
       "    <tr>\n",
       "      <th>1558</th>\n",
       "      <td>1237</td>\n",
       "      <td>Евгения</td>\n",
       "      <td>23</td>\n",
       "      <td>Тюмень</td>\n",
       "      <td>free</td>\n",
       "    </tr>\n",
       "    <tr>\n",
       "      <th>1236</th>\n",
       "      <td>1237</td>\n",
       "      <td>Евгения</td>\n",
       "      <td>23</td>\n",
       "      <td>Тюмень</td>\n",
       "      <td>free</td>\n",
       "    </tr>\n",
       "    <tr>\n",
       "      <th>1544</th>\n",
       "      <td>1245</td>\n",
       "      <td>Регина</td>\n",
       "      <td>27</td>\n",
       "      <td>Пятигорск</td>\n",
       "      <td>free</td>\n",
       "    </tr>\n",
       "    <tr>\n",
       "      <th>1244</th>\n",
       "      <td>1245</td>\n",
       "      <td>Регина</td>\n",
       "      <td>27</td>\n",
       "      <td>Пятигорск</td>\n",
       "      <td>free</td>\n",
       "    </tr>\n",
       "  </tbody>\n",
       "</table>\n",
       "<p>62 rows × 5 columns</p>\n",
       "</div>"
      ],
      "text/plain": [
       "      user_id      name  age            city subscription_type\n",
       "15         16    Амалия   27       Краснодар             ultra\n",
       "1535       16    Амалия   27       Краснодар             ultra\n",
       "42         43  Стефания   22            Омск             ultra\n",
       "1539       43  Стефания   22            Омск             ultra\n",
       "1563       47      Юрий   28          Тюмень             ultra\n",
       "...       ...       ...  ...             ...               ...\n",
       "1554     1198     Демид   29  Ростов-на-Дону              free\n",
       "1558     1237   Евгения   23          Тюмень              free\n",
       "1236     1237   Евгения   23          Тюмень              free\n",
       "1544     1245    Регина   27       Пятигорск              free\n",
       "1244     1245    Регина   27       Пятигорск              free\n",
       "\n",
       "[62 rows x 5 columns]"
      ]
     },
     "execution_count": 20,
     "metadata": {},
     "output_type": "execute_result"
    }
   ],
   "source": [
    "# выводим все дубликаты из датафрейма\n",
    "users[users.duplicated(keep=False)].sort_values(by=['user_id'])"
   ]
  },
  {
   "cell_type": "markdown",
   "id": "25bf1ee3",
   "metadata": {},
   "source": [
    "Теперь видно строки-дубликаты, например, строка 15 и 1535.  \n",
    "Удалим все явные дубликаты."
   ]
  },
  {
   "cell_type": "code",
   "execution_count": 21,
   "id": "63ac9fe3",
   "metadata": {
    "scrolled": true
   },
   "outputs": [],
   "source": [
    "# удаляем дубликаты\n",
    "users.drop_duplicates(inplace=True)"
   ]
  },
  {
   "cell_type": "markdown",
   "id": "c5485e09",
   "metadata": {},
   "source": [
    "Проверим, сколько осталось явных дубликатов."
   ]
  },
  {
   "cell_type": "code",
   "execution_count": 22,
   "id": "ecceb13c",
   "metadata": {},
   "outputs": [
    {
     "data": {
      "text/plain": [
       "0"
      ]
     },
     "execution_count": 22,
     "metadata": {},
     "output_type": "execute_result"
    }
   ],
   "source": [
    "# подсчет строк-дубликатов\n",
    "users.duplicated().sum()"
   ]
  },
  {
   "cell_type": "markdown",
   "id": "07b769fd",
   "metadata": {},
   "source": [
    "Посмотрим столбец `city` на наличие неявных дубликатов, возможно есть некоторые различия в написании городов."
   ]
  },
  {
   "cell_type": "code",
   "execution_count": 23,
   "id": "637f41b3",
   "metadata": {
    "scrolled": true
   },
   "outputs": [
    {
     "data": {
      "text/plain": [
       "array(['Тюмень', 'Омск', 'Москва', 'Ростов-на-Дону', 'Краснодар',\n",
       "       'Пятигорск', 'Екатеринбург', 'Сочи'], dtype=object)"
      ]
     },
     "execution_count": 23,
     "metadata": {},
     "output_type": "execute_result"
    }
   ],
   "source": [
    "# выведим уникальные значения в столбце city\n",
    "users['city'].unique()"
   ]
  },
  {
   "cell_type": "markdown",
   "id": "83d27452",
   "metadata": {},
   "source": [
    "Неявных дубликатов нет."
   ]
  },
  {
   "cell_type": "markdown",
   "id": "3a7a7420",
   "metadata": {},
   "source": [
    "- Посмотрим дубликаты в датафрейме `rides`. Проверим датафрейм на явные дубликаты."
   ]
  },
  {
   "cell_type": "code",
   "execution_count": 24,
   "id": "9d2e458c",
   "metadata": {
    "scrolled": true
   },
   "outputs": [
    {
     "data": {
      "text/plain": [
       "0"
      ]
     },
     "execution_count": 24,
     "metadata": {},
     "output_type": "execute_result"
    }
   ],
   "source": [
    "# выводим количество дубликатов в датафрейме\n",
    "rides.duplicated().sum()"
   ]
  },
  {
   "cell_type": "markdown",
   "id": "c6609676",
   "metadata": {},
   "source": [
    "Явных дубликатов в датафрейме нет."
   ]
  },
  {
   "cell_type": "markdown",
   "id": "2cd94eaf",
   "metadata": {},
   "source": [
    "**Вывод:** \n",
    "\n",
    "Предобработка обнаружила несколько проблем в данных:\n",
    "\n",
    "- дубликаты,\n",
    "- неверный тип данных.\n",
    "\n",
    "Мы убрали явные дубликаты в датафрейме `users`. Изменили тип данных в столбце `date` датафрейма `rides`, округлили данные в столбце `duration` датафрейма `rides` до целого и изменили тип данных. Добавили в датафрейм `rides` информацию о месяце поездки.\n",
    "\n",
    "Теперь можно перейти к исследованию данных. "
   ]
  },
  {
   "cell_type": "markdown",
   "id": "212593c7",
   "metadata": {},
   "source": [
    "## Исследовательский анализ данных"
   ]
  },
  {
   "cell_type": "markdown",
   "id": "8bc4900a",
   "metadata": {},
   "source": [
    "### Частота встречаемости городов"
   ]
  },
  {
   "cell_type": "markdown",
   "id": "65398049",
   "metadata": {},
   "source": [
    "Построим таблицу частот для столбца `city` в датафрейме `users`."
   ]
  },
  {
   "cell_type": "code",
   "execution_count": 25,
   "id": "e3a4274c",
   "metadata": {},
   "outputs": [
    {
     "data": {
      "text/plain": [
       "Пятигорск         219\n",
       "Екатеринбург      204\n",
       "Ростов-на-Дону    198\n",
       "Краснодар         193\n",
       "Сочи              189\n",
       "Омск              183\n",
       "Тюмень            180\n",
       "Москва            168\n",
       "Name: city, dtype: int64"
      ]
     },
     "execution_count": 25,
     "metadata": {},
     "output_type": "execute_result"
    }
   ],
   "source": [
    "users['city'].value_counts()"
   ]
  },
  {
   "cell_type": "markdown",
   "id": "5891f655",
   "metadata": {},
   "source": [
    "Посмотрим возрастающую столбчатую диаграмму, показывающую, как часто встречается тот или иной город в датафрейме `users`."
   ]
  },
  {
   "cell_type": "code",
   "execution_count": 26,
   "id": "302f0473",
   "metadata": {},
   "outputs": [
    {
     "data": {
      "image/png": "[encoded data removed]",
      "text/plain": [
       "<Figure size 720x432 with 1 Axes>"
      ]
     },
     "metadata": {
      "needs_background": "light"
     },
     "output_type": "display_data"
    }
   ],
   "source": [
    "users['city'].value_counts(ascending=True).plot.bar() # строим возрастающую столбчатую диаграмму\n",
    "# указываем наименования осей и графика\n",
    "plt.xlabel('Город')\n",
    "plt.ylabel('Частота встречаемости города')\n",
    "plt.title('Диаграмма частоты встречаемости городов')\n",
    "plt.show()"
   ]
  },
  {
   "cell_type": "markdown",
   "id": "dad5ec4c",
   "metadata": {},
   "source": [
    "По диаграмме видно, что чаще всего самокаты берут в Пятигорске, а реже всего в Москве, что достаточно неожиданно, так как Москва - самый крупный город. Возможно данные были выбраны непропорционально."
   ]
  },
  {
   "cell_type": "markdown",
   "id": "a8f39f24",
   "metadata": {},
   "source": [
    "### Соотношение пользователей с подпиской и без подписки"
   ]
  },
  {
   "cell_type": "markdown",
   "id": "cb39c361",
   "metadata": {},
   "source": [
    "Построим таблицу частот для столбца `subscription_type` в датафрейме `users`."
   ]
  },
  {
   "cell_type": "code",
   "execution_count": 27,
   "id": "e885bb56",
   "metadata": {},
   "outputs": [
    {
     "data": {
      "text/plain": [
       "free     835\n",
       "ultra    699\n",
       "Name: subscription_type, dtype: int64"
      ]
     },
     "execution_count": 27,
     "metadata": {},
     "output_type": "execute_result"
    }
   ],
   "source": [
    "users['subscription_type'].value_counts()"
   ]
  },
  {
   "cell_type": "markdown",
   "id": "352e4457",
   "metadata": {},
   "source": [
    "Посмотрим столбчатую диаграмму, показывающую соотношение пользователей с подпиской и без подписки."
   ]
  },
  {
   "cell_type": "code",
   "execution_count": 28,
   "id": "e01bf418",
   "metadata": {},
   "outputs": [
    {
     "data": {
      "image/png": "[encoded data removed]",
      "text/plain": [
       "<Figure size 720x432 with 1 Axes>"
      ]
     },
     "metadata": {
      "needs_background": "light"
     },
     "output_type": "display_data"
    }
   ],
   "source": [
    "users['subscription_type'].value_counts(ascending=True).plot.bar() # строим возрастающую столбчатую диаграмму\n",
    "# указываем наименования осей и графика\n",
    "plt.xlabel('Тип подписки')\n",
    "plt.ylabel('Количество пользователей')\n",
    "plt.title('Диаграмма соотношения пользователей с подпиской и без подписки')\n",
    "plt.show()"
   ]
  },
  {
   "cell_type": "code",
   "execution_count": 29,
   "id": "c3b936cf",
   "metadata": {},
   "outputs": [
    {
     "data": {
      "text/plain": [
       "free     0.544329\n",
       "ultra    0.455671\n",
       "Name: subscription_type, dtype: float64"
      ]
     },
     "execution_count": 29,
     "metadata": {},
     "output_type": "execute_result"
    }
   ],
   "source": [
    "# соотношение пользователей с подпиской и без в процентах\n",
    "users['subscription_type'].value_counts(normalize=True)"
   ]
  },
  {
   "cell_type": "markdown",
   "id": "56cb3ccb",
   "metadata": {},
   "source": [
    "Мы видим, что чаще люди пользуются сервисом проката самокатов бесплатно: 46 процентов пользователей покупают подписку, остальные предпочитают подписку free. "
   ]
  },
  {
   "cell_type": "markdown",
   "id": "baaa09bc",
   "metadata": {},
   "source": [
    "### Возраст пользователей"
   ]
  },
  {
   "cell_type": "markdown",
   "id": "544ffb3a",
   "metadata": {},
   "source": [
    "Посмотрим столбчатую диаграмму, показывающую распределение возраста пользователей."
   ]
  },
  {
   "cell_type": "code",
   "execution_count": 30,
   "id": "dfbe9def",
   "metadata": {},
   "outputs": [
    {
     "data": {
      "image/png": "[encoded data removed]",
      "text/plain": [
       "<Figure size 720x432 with 1 Axes>"
      ]
     },
     "metadata": {
      "needs_background": "light"
     },
     "output_type": "display_data"
    }
   ],
   "source": [
    "users['age'].value_counts().sort_index().plot.bar() # строим возрастающую столбчатую диаграмму\n",
    "# указываем наименования осей и графика\n",
    "plt.xlabel('Возраст пользователей')\n",
    "plt.ylabel('Частота встречаемости возраста')\n",
    "plt.title('Диаграмма распределения пользователей по возрастам')\n",
    "plt.show()"
   ]
  },
  {
   "cell_type": "markdown",
   "id": "5b6c887a",
   "metadata": {},
   "source": [
    "По графику видно, что распределение пользователей по возрастам близко к нормальному. Большинство пользователей — возраста, близкого к среднему значению - 25 (в первом разделе была посчитана мода). Количество пользователей младшее или старше среднего значения постепенно уменьшается по мере отдаления от среднего.\n",
    "\n",
    "Построим диаграмму размаха."
   ]
  },
  {
   "cell_type": "code",
   "execution_count": 31,
   "id": "fee0319e",
   "metadata": {},
   "outputs": [
    {
     "data": {
      "image/png": "[encoded data removed]",
      "text/plain": [
       "<Figure size 720x432 with 1 Axes>"
      ]
     },
     "metadata": {
      "needs_background": "light"
     },
     "output_type": "display_data"
    }
   ],
   "source": [
    "users.loc[:, ['age']].boxplot().set(title='Диаграмма размаха возраста пользователей',\n",
    "ylabel='Возраст пользователей') #  строим диаграмму размаха\n",
    "plt.ylim(0, 45) # изменяем масштаб, чтобы лучше разглядеть \"ящик с усами\"\n",
    "plt.show()"
   ]
  },
  {
   "cell_type": "markdown",
   "id": "22265d86",
   "metadata": {},
   "source": [
    "Ориентировочная граница нормального размаха - от 13 до 37. Есть немного выбросов выше 37 и ниже 13. Межквартильные размах составляет от 22 до 28. Медиана находится по середине, не смещена."
   ]
  },
  {
   "cell_type": "markdown",
   "id": "5e0fbd0a",
   "metadata": {},
   "source": [
    "### Расстояние, которое пользователь преодолел за одну поездку"
   ]
  },
  {
   "cell_type": "markdown",
   "id": "4729eaba",
   "metadata": {},
   "source": [
    "Для непрерывной величичны - расстояние, которое пользователь преодолел за одну поездку (столбец `distance` в датафрейме `rides`), построим гистограмму."
   ]
  },
  {
   "cell_type": "code",
   "execution_count": 32,
   "id": "33b9ae48",
   "metadata": {},
   "outputs": [
    {
     "data": {
      "image/png": "[encoded data removed]",
      "text/plain": [
       "<Figure size 720x432 with 1 Axes>"
      ]
     },
     "metadata": {
      "needs_background": "light"
     },
     "output_type": "display_data"
    }
   ],
   "source": [
    "rides['distance'].hist(bins=75,range=(0,7500)) # строим гистограмму\n",
    "# указываем наименования осей и графика\n",
    "plt.xlabel('Расстояние, преодолеваемое за одну поездку, м')\n",
    "plt.ylabel('Количество пользователей')\n",
    "plt.title('Гистограмма по значениям расстояний, преодолеваемых за одну поездку')\n",
    "plt.show()"
   ]
  },
  {
   "cell_type": "markdown",
   "id": "4a8c6f2c",
   "metadata": {},
   "source": [
    "Мы получили распределение значений расстояний, преодолеваемых пользователями за одну поездку — гистограмма с длинным хвостом на высоких значениях, падением слева от пика почти до нуля на значении преодолеваемого расстояния в 1500 м, и двумя пиками. Первый пик приходится на значения преодолеваемого расстояния в 2500 - 3500 м, второй пик поменьше приходится на значенния 300 - 1100 м. По диаграмме видно, что расстояния в 5700 м - уже редкость, после после 6500 м гистограмма уже сливается с нулем. Стоит отметить, что не так уж много значений, близких к 0 м.\n",
    "\n",
    "Возможно эти 2 пика как-то связаны с типом подписки: логично предположить, что люди, покупающие подписку, чаще и больше ездят на самокатах - для них это способ передвижения, люди же с бесплатной подпиской ездят меньше - для них это просто развлечение.\n",
    "\n",
    "Построим диаграмму размаха."
   ]
  },
  {
   "cell_type": "code",
   "execution_count": 33,
   "id": "0ceb4c7c",
   "metadata": {},
   "outputs": [
    {
     "data": {
      "image/png": "[encoded data removed]",
      "text/plain": [
       "<Figure size 720x432 with 1 Axes>"
      ]
     },
     "metadata": {
      "needs_background": "light"
     },
     "output_type": "display_data"
    }
   ],
   "source": [
    "rides.loc[:, ['distance']].boxplot().set(title='Диаграмма размаха дальности поездки',\n",
    "ylabel='Расстояние, преодолеваемое за одну поездку, м') #  строим диаграмму размаха\n",
    "plt.ylim(0, 7500) # изменяем масштаб, чтобы лучше разглядеть \"ящик с усами\"\n",
    "plt.show()"
   ]
  },
  {
   "cell_type": "markdown",
   "id": "b910edb8",
   "metadata": {},
   "source": [
    "Нижний \"ус\" упирается в 700 - это 1,5 межквартильного размаха от 1-го квартиля, а верхний \"ус\" заканчивается около 5600 м - это 1,5 межквартильного размаха, добавленного к 3-му квартилю. Это ориентировочная граница нормального размаха. Всё, что лежит за ней, считается выбросом. Более низкие значения рисуются отдельными точками, но сливаются в единую жирную линию: таких выбросов нмного, видимо, это второй более маленький пик. Более высоких значений так же достаточно много. Межквартильный размах - 2500 - 3800 м.\n",
    "\n",
    "Медиана не смещена, находится по середине.\n",
    "\n",
    "Основная часть поездок занимает от 2500 до 3800 метров. Медиана 3133 метра. Поездки на расстояние более 5 км редки. Однако на гистограмме видно, что некоторая часть пользователей использует самокаты для коротких поездок - до 1500 м."
   ]
  },
  {
   "cell_type": "markdown",
   "id": "48386517",
   "metadata": {},
   "source": [
    "### Продолжительность поездок"
   ]
  },
  {
   "cell_type": "markdown",
   "id": "3c0eaf65",
   "metadata": {},
   "source": [
    "Построим столбчатую диаграмму по значениям продолжительности поездок (столбец  `duration` в датафрейме `rides`)."
   ]
  },
  {
   "cell_type": "code",
   "execution_count": 34,
   "id": "700b6ca9",
   "metadata": {},
   "outputs": [
    {
     "data": {
      "image/png": "[encoded data removed]",
      "text/plain": [
       "<Figure size 720x432 with 1 Axes>"
      ]
     },
     "metadata": {
      "needs_background": "light"
     },
     "output_type": "display_data"
    }
   ],
   "source": [
    "rides['duration'].value_counts().sort_index().plot.bar() # строим столбчатую диаграмму\n",
    "# указываем наименования осей и графика\n",
    "plt.xlabel('Продолжительность поездки, мин')\n",
    "plt.ylabel('Количество пользователей')\n",
    "plt.title('Диаграмма частоты продолжительности поездок')\n",
    "plt.show()"
   ]
  },
  {
   "cell_type": "markdown",
   "id": "641fb2be",
   "metadata": {},
   "source": [
    "По гистограмме видно, что мы получили распределение, близкое к нормальному, — гистограмму с длинным хвостом на высоких значениях и падением в ноль слева от пика, не доходя до нулевого значения площади квартиры. Однако есть скачок на 1 минуте - там около 95 пользователей. Продолжительность поездок больше 33 минут и меньше 5 минут (не считая пика около нулевых значений) - уже редкость, после 35 минут гистограмма уже сливается с нулем. Чаще всего поездки длятся от 13 до 22 минут."
   ]
  },
  {
   "cell_type": "markdown",
   "id": "da47a730",
   "metadata": {},
   "source": [
    "Построим диаграмму размаха."
   ]
  },
  {
   "cell_type": "code",
   "execution_count": 35,
   "id": "68fc79b7",
   "metadata": {},
   "outputs": [
    {
     "data": {
      "image/png": "[encoded data removed]",
      "text/plain": [
       "<Figure size 720x432 with 1 Axes>"
      ]
     },
     "metadata": {
      "needs_background": "light"
     },
     "output_type": "display_data"
    }
   ],
   "source": [
    "rides.loc[:, ['duration']].boxplot().set(title='Диаграмма размаха продолжительности поездки',\n",
    "ylabel='Продолжительность поездки, мин') #  строим диаграмму размаха\n",
    "plt.ylim(0, 45) # изменяем масштаб, чтобы лучше разглядеть \"ящик с усами\"\n",
    "plt.show()"
   ]
  },
  {
   "cell_type": "markdown",
   "id": "bea264cd",
   "metadata": {},
   "source": [
    "Нижний \"ус\" упирается в значение примерно 2 мин - это 1,5 межквартильного размаха от 1-го квартиля, а верхний \"ус\" заканчивается около 33 мин - это 1,5 межквартильного размаха, добавленного к 3-му квартилю. Это ориентировочная граница нормального размаха. Всё, что лежит за ней, считается выбросом. Есть небольшое количество выбросов на высоких значениях и единичные выбросы на низких значениях (видимо это тот самый пик околонулевых значений). Межквартильный размах - 14 -22 мин.\n",
    "\n",
    "Медиана не смещена, находится по середине."
   ]
  },
  {
   "cell_type": "markdown",
   "id": "4ef51331",
   "metadata": {},
   "source": [
    "### Объединение данных"
   ]
  },
  {
   "cell_type": "markdown",
   "id": "80fffc62",
   "metadata": {},
   "source": [
    "#### Объединение данных о пользователях, поездках и подписках "
   ]
  },
  {
   "cell_type": "markdown",
   "id": "60c46760",
   "metadata": {},
   "source": [
    "Сначала объединим датафреймы `users` и `rides`. "
   ]
  },
  {
   "cell_type": "code",
   "execution_count": 36,
   "id": "6bf288b5",
   "metadata": {
    "scrolled": true
   },
   "outputs": [
    {
     "data": {
      "text/html": [
       "<div>\n",
       "<style scoped>\n",
       "    .dataframe tbody tr th:only-of-type {\n",
       "        vertical-align: middle;\n",
       "    }\n",
       "\n",
       "    .dataframe tbody tr th {\n",
       "        vertical-align: top;\n",
       "    }\n",
       "\n",
       "    .dataframe thead th {\n",
       "        text-align: right;\n",
       "    }\n",
       "</style>\n",
       "<table border=\"1\" class=\"dataframe\">\n",
       "  <thead>\n",
       "    <tr style=\"text-align: right;\">\n",
       "      <th></th>\n",
       "      <th>user_id</th>\n",
       "      <th>name</th>\n",
       "      <th>age</th>\n",
       "      <th>city</th>\n",
       "      <th>subscription_type</th>\n",
       "      <th>distance</th>\n",
       "      <th>duration</th>\n",
       "      <th>date</th>\n",
       "      <th>month</th>\n",
       "    </tr>\n",
       "  </thead>\n",
       "  <tbody>\n",
       "    <tr>\n",
       "      <th>0</th>\n",
       "      <td>1</td>\n",
       "      <td>Кира</td>\n",
       "      <td>22</td>\n",
       "      <td>Тюмень</td>\n",
       "      <td>ultra</td>\n",
       "      <td>4409.919140</td>\n",
       "      <td>26</td>\n",
       "      <td>2021-01-01</td>\n",
       "      <td>1</td>\n",
       "    </tr>\n",
       "    <tr>\n",
       "      <th>1</th>\n",
       "      <td>1</td>\n",
       "      <td>Кира</td>\n",
       "      <td>22</td>\n",
       "      <td>Тюмень</td>\n",
       "      <td>ultra</td>\n",
       "      <td>2617.592153</td>\n",
       "      <td>16</td>\n",
       "      <td>2021-01-18</td>\n",
       "      <td>1</td>\n",
       "    </tr>\n",
       "    <tr>\n",
       "      <th>2</th>\n",
       "      <td>1</td>\n",
       "      <td>Кира</td>\n",
       "      <td>22</td>\n",
       "      <td>Тюмень</td>\n",
       "      <td>ultra</td>\n",
       "      <td>754.159807</td>\n",
       "      <td>7</td>\n",
       "      <td>2021-04-20</td>\n",
       "      <td>4</td>\n",
       "    </tr>\n",
       "    <tr>\n",
       "      <th>3</th>\n",
       "      <td>1</td>\n",
       "      <td>Кира</td>\n",
       "      <td>22</td>\n",
       "      <td>Тюмень</td>\n",
       "      <td>ultra</td>\n",
       "      <td>2694.783254</td>\n",
       "      <td>19</td>\n",
       "      <td>2021-08-11</td>\n",
       "      <td>8</td>\n",
       "    </tr>\n",
       "    <tr>\n",
       "      <th>4</th>\n",
       "      <td>1</td>\n",
       "      <td>Кира</td>\n",
       "      <td>22</td>\n",
       "      <td>Тюмень</td>\n",
       "      <td>ultra</td>\n",
       "      <td>4028.687306</td>\n",
       "      <td>27</td>\n",
       "      <td>2021-08-28</td>\n",
       "      <td>8</td>\n",
       "    </tr>\n",
       "  </tbody>\n",
       "</table>\n",
       "</div>"
      ],
      "text/plain": [
       "   user_id  name  age    city subscription_type     distance  duration  \\\n",
       "0        1  Кира   22  Тюмень             ultra  4409.919140        26   \n",
       "1        1  Кира   22  Тюмень             ultra  2617.592153        16   \n",
       "2        1  Кира   22  Тюмень             ultra   754.159807         7   \n",
       "3        1  Кира   22  Тюмень             ultra  2694.783254        19   \n",
       "4        1  Кира   22  Тюмень             ultra  4028.687306        27   \n",
       "\n",
       "        date  month  \n",
       "0 2021-01-01      1  \n",
       "1 2021-01-18      1  \n",
       "2 2021-04-20      4  \n",
       "3 2021-08-11      8  \n",
       "4 2021-08-28      8  "
      ]
     },
     "execution_count": 36,
     "metadata": {},
     "output_type": "execute_result"
    }
   ],
   "source": [
    "# объединяем датафреймы users и rides\n",
    "data = users.merge(rides, on='user_id', how='outer')\n",
    "data.head()"
   ]
  },
  {
   "cell_type": "markdown",
   "id": "0c88df43",
   "metadata": {},
   "source": [
    "Добавим к полученному датафрему `data` данные из датафрейма `subscriptions`."
   ]
  },
  {
   "cell_type": "code",
   "execution_count": 37,
   "id": "2c83942e",
   "metadata": {},
   "outputs": [
    {
     "data": {
      "text/html": [
       "<div>\n",
       "<style scoped>\n",
       "    .dataframe tbody tr th:only-of-type {\n",
       "        vertical-align: middle;\n",
       "    }\n",
       "\n",
       "    .dataframe tbody tr th {\n",
       "        vertical-align: top;\n",
       "    }\n",
       "\n",
       "    .dataframe thead th {\n",
       "        text-align: right;\n",
       "    }\n",
       "</style>\n",
       "<table border=\"1\" class=\"dataframe\">\n",
       "  <thead>\n",
       "    <tr style=\"text-align: right;\">\n",
       "      <th></th>\n",
       "      <th>user_id</th>\n",
       "      <th>name</th>\n",
       "      <th>age</th>\n",
       "      <th>city</th>\n",
       "      <th>subscription_type</th>\n",
       "      <th>distance</th>\n",
       "      <th>duration</th>\n",
       "      <th>date</th>\n",
       "      <th>month</th>\n",
       "      <th>minute_price</th>\n",
       "      <th>start_ride_price</th>\n",
       "      <th>subscription_fee</th>\n",
       "    </tr>\n",
       "  </thead>\n",
       "  <tbody>\n",
       "    <tr>\n",
       "      <th>0</th>\n",
       "      <td>1</td>\n",
       "      <td>Кира</td>\n",
       "      <td>22</td>\n",
       "      <td>Тюмень</td>\n",
       "      <td>ultra</td>\n",
       "      <td>4409.919140</td>\n",
       "      <td>26</td>\n",
       "      <td>2021-01-01</td>\n",
       "      <td>1</td>\n",
       "      <td>6</td>\n",
       "      <td>0</td>\n",
       "      <td>199</td>\n",
       "    </tr>\n",
       "    <tr>\n",
       "      <th>1</th>\n",
       "      <td>1</td>\n",
       "      <td>Кира</td>\n",
       "      <td>22</td>\n",
       "      <td>Тюмень</td>\n",
       "      <td>ultra</td>\n",
       "      <td>2617.592153</td>\n",
       "      <td>16</td>\n",
       "      <td>2021-01-18</td>\n",
       "      <td>1</td>\n",
       "      <td>6</td>\n",
       "      <td>0</td>\n",
       "      <td>199</td>\n",
       "    </tr>\n",
       "    <tr>\n",
       "      <th>2</th>\n",
       "      <td>1</td>\n",
       "      <td>Кира</td>\n",
       "      <td>22</td>\n",
       "      <td>Тюмень</td>\n",
       "      <td>ultra</td>\n",
       "      <td>754.159807</td>\n",
       "      <td>7</td>\n",
       "      <td>2021-04-20</td>\n",
       "      <td>4</td>\n",
       "      <td>6</td>\n",
       "      <td>0</td>\n",
       "      <td>199</td>\n",
       "    </tr>\n",
       "    <tr>\n",
       "      <th>3</th>\n",
       "      <td>1</td>\n",
       "      <td>Кира</td>\n",
       "      <td>22</td>\n",
       "      <td>Тюмень</td>\n",
       "      <td>ultra</td>\n",
       "      <td>2694.783254</td>\n",
       "      <td>19</td>\n",
       "      <td>2021-08-11</td>\n",
       "      <td>8</td>\n",
       "      <td>6</td>\n",
       "      <td>0</td>\n",
       "      <td>199</td>\n",
       "    </tr>\n",
       "    <tr>\n",
       "      <th>4</th>\n",
       "      <td>1</td>\n",
       "      <td>Кира</td>\n",
       "      <td>22</td>\n",
       "      <td>Тюмень</td>\n",
       "      <td>ultra</td>\n",
       "      <td>4028.687306</td>\n",
       "      <td>27</td>\n",
       "      <td>2021-08-28</td>\n",
       "      <td>8</td>\n",
       "      <td>6</td>\n",
       "      <td>0</td>\n",
       "      <td>199</td>\n",
       "    </tr>\n",
       "  </tbody>\n",
       "</table>\n",
       "</div>"
      ],
      "text/plain": [
       "   user_id  name  age    city subscription_type     distance  duration  \\\n",
       "0        1  Кира   22  Тюмень             ultra  4409.919140        26   \n",
       "1        1  Кира   22  Тюмень             ultra  2617.592153        16   \n",
       "2        1  Кира   22  Тюмень             ultra   754.159807         7   \n",
       "3        1  Кира   22  Тюмень             ultra  2694.783254        19   \n",
       "4        1  Кира   22  Тюмень             ultra  4028.687306        27   \n",
       "\n",
       "        date  month  minute_price  start_ride_price  subscription_fee  \n",
       "0 2021-01-01      1             6                 0               199  \n",
       "1 2021-01-18      1             6                 0               199  \n",
       "2 2021-04-20      4             6                 0               199  \n",
       "3 2021-08-11      8             6                 0               199  \n",
       "4 2021-08-28      8             6                 0               199  "
      ]
     },
     "execution_count": 37,
     "metadata": {},
     "output_type": "execute_result"
    }
   ],
   "source": [
    "# объединяем датафреймы data и subscriptions\n",
    "data = data.merge(subscriptions, on='subscription_type', how='outer')\n",
    "data.head()"
   ]
  },
  {
   "cell_type": "markdown",
   "id": "a189c2c6",
   "metadata": {},
   "source": [
    "Проверим размерность результирующего датафрейма после объединения. Так как тип объединения `outer` - нас интересует и количество внутреннего соединения и внешнего. В датафрейме `users` - информация о каждом пользователе, то есть в столбце `user_id` содержится уникальным набор данных, а в таблице `rides` - информация о поездках пользователя, то есть в столбце `user_id` значения могут повторяться. Таким образом, если набор данных в столбце `user_id` датафрейма `users` совпадает с уникальным набором данных в столбце `user_id` датафрейма `rides`, то количество строк в результирующем датафрейме `data` должно быть столько же, сколько и в датафрейме `rides`.\n",
    "Количество столбцов будет равно сумме столбцов трех датафреймов за исключением повторяющихся столбцов, по которым происходит объединение.</div>"
   ]
  },
  {
   "cell_type": "code",
   "execution_count": 38,
   "id": "1564a47f",
   "metadata": {},
   "outputs": [
    {
     "data": {
      "text/plain": [
       "(1534, 5)"
      ]
     },
     "execution_count": 38,
     "metadata": {},
     "output_type": "execute_result"
    }
   ],
   "source": [
    "# посмотрим размерность датафрейма users\n",
    "users.shape"
   ]
  },
  {
   "cell_type": "code",
   "execution_count": 39,
   "id": "697379ec",
   "metadata": {},
   "outputs": [
    {
     "data": {
      "text/plain": [
       "(18068, 5)"
      ]
     },
     "execution_count": 39,
     "metadata": {},
     "output_type": "execute_result"
    }
   ],
   "source": [
    "# посмотрим размерность датафрейма users\n",
    "rides.shape"
   ]
  },
  {
   "cell_type": "code",
   "execution_count": 40,
   "id": "64e7dd90",
   "metadata": {},
   "outputs": [
    {
     "data": {
      "text/plain": [
       "(2, 4)"
      ]
     },
     "execution_count": 40,
     "metadata": {},
     "output_type": "execute_result"
    }
   ],
   "source": [
    "# посмотрим размерность датафрейма users\n",
    "subscriptions.shape"
   ]
  },
  {
   "cell_type": "code",
   "execution_count": 41,
   "id": "01e8beee",
   "metadata": {
    "scrolled": true
   },
   "outputs": [
    {
     "data": {
      "text/plain": [
       "array([ True])"
      ]
     },
     "execution_count": 41,
     "metadata": {},
     "output_type": "execute_result"
    }
   ],
   "source": [
    "# проверим, является ли внутренним объединением весь датафрейм users\n",
    "(users['user_id'] == rides['user_id'].unique()).unique()"
   ]
  },
  {
   "cell_type": "markdown",
   "id": "5b96d90d",
   "metadata": {},
   "source": [
    "Датафрейм `users` полностью является внутренним объединением. Таким образом, предпологаемая размерность датафрейма `data` - 18068 строк, 12 столбцов. Теперь посмотрим, что действительно получилось."
   ]
  },
  {
   "cell_type": "code",
   "execution_count": 42,
   "id": "f2180df3",
   "metadata": {},
   "outputs": [
    {
     "data": {
      "text/plain": [
       "(18068, 12)"
      ]
     },
     "execution_count": 42,
     "metadata": {},
     "output_type": "execute_result"
    }
   ],
   "source": [
    "data.shape"
   ]
  },
  {
   "cell_type": "markdown",
   "id": "9d71aee6",
   "metadata": {},
   "source": [
    "Ожидаемое совпало с реальным - значит, объединение таблиц прошло корректно."
   ]
  },
  {
   "cell_type": "markdown",
   "id": "3928acbf",
   "metadata": {},
   "source": [
    "#### Создание датафрейма с пользователями без подписки и с пользователями с подпиской"
   ]
  },
  {
   "cell_type": "markdown",
   "id": "d6dbd283",
   "metadata": {},
   "source": [
    "- Создадим датафрейм c данными о пользователях без подписки."
   ]
  },
  {
   "cell_type": "code",
   "execution_count": 43,
   "id": "9362e32a",
   "metadata": {
    "scrolled": true
   },
   "outputs": [
    {
     "data": {
      "text/html": [
       "<div>\n",
       "<style scoped>\n",
       "    .dataframe tbody tr th:only-of-type {\n",
       "        vertical-align: middle;\n",
       "    }\n",
       "\n",
       "    .dataframe tbody tr th {\n",
       "        vertical-align: top;\n",
       "    }\n",
       "\n",
       "    .dataframe thead th {\n",
       "        text-align: right;\n",
       "    }\n",
       "</style>\n",
       "<table border=\"1\" class=\"dataframe\">\n",
       "  <thead>\n",
       "    <tr style=\"text-align: right;\">\n",
       "      <th></th>\n",
       "      <th>user_id</th>\n",
       "      <th>name</th>\n",
       "      <th>age</th>\n",
       "      <th>city</th>\n",
       "      <th>subscription_type</th>\n",
       "      <th>distance</th>\n",
       "      <th>duration</th>\n",
       "      <th>date</th>\n",
       "      <th>month</th>\n",
       "      <th>minute_price</th>\n",
       "      <th>start_ride_price</th>\n",
       "      <th>subscription_fee</th>\n",
       "    </tr>\n",
       "  </thead>\n",
       "  <tbody>\n",
       "    <tr>\n",
       "      <th>6500</th>\n",
       "      <td>700</td>\n",
       "      <td>Айдар</td>\n",
       "      <td>22</td>\n",
       "      <td>Омск</td>\n",
       "      <td>free</td>\n",
       "      <td>2515.690719</td>\n",
       "      <td>15</td>\n",
       "      <td>2021-01-02</td>\n",
       "      <td>1</td>\n",
       "      <td>8</td>\n",
       "      <td>50</td>\n",
       "      <td>0</td>\n",
       "    </tr>\n",
       "    <tr>\n",
       "      <th>6501</th>\n",
       "      <td>700</td>\n",
       "      <td>Айдар</td>\n",
       "      <td>22</td>\n",
       "      <td>Омск</td>\n",
       "      <td>free</td>\n",
       "      <td>846.932642</td>\n",
       "      <td>17</td>\n",
       "      <td>2021-02-01</td>\n",
       "      <td>2</td>\n",
       "      <td>8</td>\n",
       "      <td>50</td>\n",
       "      <td>0</td>\n",
       "    </tr>\n",
       "    <tr>\n",
       "      <th>6502</th>\n",
       "      <td>700</td>\n",
       "      <td>Айдар</td>\n",
       "      <td>22</td>\n",
       "      <td>Омск</td>\n",
       "      <td>free</td>\n",
       "      <td>4004.434142</td>\n",
       "      <td>21</td>\n",
       "      <td>2021-02-04</td>\n",
       "      <td>2</td>\n",
       "      <td>8</td>\n",
       "      <td>50</td>\n",
       "      <td>0</td>\n",
       "    </tr>\n",
       "    <tr>\n",
       "      <th>6503</th>\n",
       "      <td>700</td>\n",
       "      <td>Айдар</td>\n",
       "      <td>22</td>\n",
       "      <td>Омск</td>\n",
       "      <td>free</td>\n",
       "      <td>1205.911290</td>\n",
       "      <td>10</td>\n",
       "      <td>2021-02-10</td>\n",
       "      <td>2</td>\n",
       "      <td>8</td>\n",
       "      <td>50</td>\n",
       "      <td>0</td>\n",
       "    </tr>\n",
       "    <tr>\n",
       "      <th>6504</th>\n",
       "      <td>700</td>\n",
       "      <td>Айдар</td>\n",
       "      <td>22</td>\n",
       "      <td>Омск</td>\n",
       "      <td>free</td>\n",
       "      <td>3047.379435</td>\n",
       "      <td>18</td>\n",
       "      <td>2021-02-14</td>\n",
       "      <td>2</td>\n",
       "      <td>8</td>\n",
       "      <td>50</td>\n",
       "      <td>0</td>\n",
       "    </tr>\n",
       "  </tbody>\n",
       "</table>\n",
       "</div>"
      ],
      "text/plain": [
       "      user_id   name  age  city subscription_type     distance  duration  \\\n",
       "6500      700  Айдар   22  Омск              free  2515.690719        15   \n",
       "6501      700  Айдар   22  Омск              free   846.932642        17   \n",
       "6502      700  Айдар   22  Омск              free  4004.434142        21   \n",
       "6503      700  Айдар   22  Омск              free  1205.911290        10   \n",
       "6504      700  Айдар   22  Омск              free  3047.379435        18   \n",
       "\n",
       "           date  month  minute_price  start_ride_price  subscription_fee  \n",
       "6500 2021-01-02      1             8                50                 0  \n",
       "6501 2021-02-01      2             8                50                 0  \n",
       "6502 2021-02-04      2             8                50                 0  \n",
       "6503 2021-02-10      2             8                50                 0  \n",
       "6504 2021-02-14      2             8                50                 0  "
      ]
     },
     "execution_count": 43,
     "metadata": {},
     "output_type": "execute_result"
    }
   ],
   "source": [
    "# создаем датафрейм с информацией о пользователях без подписки\n",
    "data_free = data.query('subscription_type == \"free\"')\n",
    "data_free.head()"
   ]
  },
  {
   "cell_type": "markdown",
   "id": "6b489506",
   "metadata": {},
   "source": [
    "- Создадим датафрейм c данными о пользователях c подпиской."
   ]
  },
  {
   "cell_type": "code",
   "execution_count": 44,
   "id": "52ae664e",
   "metadata": {},
   "outputs": [
    {
     "data": {
      "text/html": [
       "<div>\n",
       "<style scoped>\n",
       "    .dataframe tbody tr th:only-of-type {\n",
       "        vertical-align: middle;\n",
       "    }\n",
       "\n",
       "    .dataframe tbody tr th {\n",
       "        vertical-align: top;\n",
       "    }\n",
       "\n",
       "    .dataframe thead th {\n",
       "        text-align: right;\n",
       "    }\n",
       "</style>\n",
       "<table border=\"1\" class=\"dataframe\">\n",
       "  <thead>\n",
       "    <tr style=\"text-align: right;\">\n",
       "      <th></th>\n",
       "      <th>user_id</th>\n",
       "      <th>name</th>\n",
       "      <th>age</th>\n",
       "      <th>city</th>\n",
       "      <th>subscription_type</th>\n",
       "      <th>distance</th>\n",
       "      <th>duration</th>\n",
       "      <th>date</th>\n",
       "      <th>month</th>\n",
       "      <th>minute_price</th>\n",
       "      <th>start_ride_price</th>\n",
       "      <th>subscription_fee</th>\n",
       "    </tr>\n",
       "  </thead>\n",
       "  <tbody>\n",
       "    <tr>\n",
       "      <th>6500</th>\n",
       "      <td>700</td>\n",
       "      <td>Айдар</td>\n",
       "      <td>22</td>\n",
       "      <td>Омск</td>\n",
       "      <td>free</td>\n",
       "      <td>2515.690719</td>\n",
       "      <td>15</td>\n",
       "      <td>2021-01-02</td>\n",
       "      <td>1</td>\n",
       "      <td>8</td>\n",
       "      <td>50</td>\n",
       "      <td>0</td>\n",
       "    </tr>\n",
       "    <tr>\n",
       "      <th>6501</th>\n",
       "      <td>700</td>\n",
       "      <td>Айдар</td>\n",
       "      <td>22</td>\n",
       "      <td>Омск</td>\n",
       "      <td>free</td>\n",
       "      <td>846.932642</td>\n",
       "      <td>17</td>\n",
       "      <td>2021-02-01</td>\n",
       "      <td>2</td>\n",
       "      <td>8</td>\n",
       "      <td>50</td>\n",
       "      <td>0</td>\n",
       "    </tr>\n",
       "    <tr>\n",
       "      <th>6502</th>\n",
       "      <td>700</td>\n",
       "      <td>Айдар</td>\n",
       "      <td>22</td>\n",
       "      <td>Омск</td>\n",
       "      <td>free</td>\n",
       "      <td>4004.434142</td>\n",
       "      <td>21</td>\n",
       "      <td>2021-02-04</td>\n",
       "      <td>2</td>\n",
       "      <td>8</td>\n",
       "      <td>50</td>\n",
       "      <td>0</td>\n",
       "    </tr>\n",
       "    <tr>\n",
       "      <th>6503</th>\n",
       "      <td>700</td>\n",
       "      <td>Айдар</td>\n",
       "      <td>22</td>\n",
       "      <td>Омск</td>\n",
       "      <td>free</td>\n",
       "      <td>1205.911290</td>\n",
       "      <td>10</td>\n",
       "      <td>2021-02-10</td>\n",
       "      <td>2</td>\n",
       "      <td>8</td>\n",
       "      <td>50</td>\n",
       "      <td>0</td>\n",
       "    </tr>\n",
       "    <tr>\n",
       "      <th>6504</th>\n",
       "      <td>700</td>\n",
       "      <td>Айдар</td>\n",
       "      <td>22</td>\n",
       "      <td>Омск</td>\n",
       "      <td>free</td>\n",
       "      <td>3047.379435</td>\n",
       "      <td>18</td>\n",
       "      <td>2021-02-14</td>\n",
       "      <td>2</td>\n",
       "      <td>8</td>\n",
       "      <td>50</td>\n",
       "      <td>0</td>\n",
       "    </tr>\n",
       "  </tbody>\n",
       "</table>\n",
       "</div>"
      ],
      "text/plain": [
       "      user_id   name  age  city subscription_type     distance  duration  \\\n",
       "6500      700  Айдар   22  Омск              free  2515.690719        15   \n",
       "6501      700  Айдар   22  Омск              free   846.932642        17   \n",
       "6502      700  Айдар   22  Омск              free  4004.434142        21   \n",
       "6503      700  Айдар   22  Омск              free  1205.911290        10   \n",
       "6504      700  Айдар   22  Омск              free  3047.379435        18   \n",
       "\n",
       "           date  month  minute_price  start_ride_price  subscription_fee  \n",
       "6500 2021-01-02      1             8                50                 0  \n",
       "6501 2021-02-01      2             8                50                 0  \n",
       "6502 2021-02-04      2             8                50                 0  \n",
       "6503 2021-02-10      2             8                50                 0  \n",
       "6504 2021-02-14      2             8                50                 0  "
      ]
     },
     "execution_count": 44,
     "metadata": {},
     "output_type": "execute_result"
    }
   ],
   "source": [
    "# создаем датафрейм с информацией о пользователях с подпиской\n",
    "data_ultra = data.query('subscription_type == \"ultra\"')\n",
    "data_free.head()"
   ]
  },
  {
   "cell_type": "markdown",
   "id": "454f5ff5",
   "metadata": {},
   "source": [
    "#### Визуализация информации о расстоянии и времени поездок для пользователей обеих категорий"
   ]
  },
  {
   "cell_type": "markdown",
   "id": "b075a1b9",
   "metadata": {},
   "source": [
    "- Визуализируем информацию о расстоянии поездок пользователей в зависимости от наличия подписки.\n",
    "\n",
    "Построим гистограммы для значений расстояний, преодолеваемых пользователями за одну поездку, сгруппированным по наличию подписки."
   ]
  },
  {
   "cell_type": "code",
   "execution_count": 45,
   "id": "6c8c5feb",
   "metadata": {},
   "outputs": [
    {
     "data": {
      "image/png": "[encoded data removed]",
      "text/plain": [
       "<Figure size 720x432 with 1 Axes>"
      ]
     },
     "metadata": {
      "needs_background": "light"
     },
     "output_type": "display_data"
    }
   ],
   "source": [
    "# строим гистограмму для пользователей без подписки\n",
    "data_free['distance'].hist(bins=100,alpha = 0.5,range=(0,7500), label='Без подписки')\n",
    "# строим гистограмму для пользователей с подпиской\n",
    "data_ultra['distance'].hist(bins=100,alpha = 0.5,range=(0,7500), label='С подпиской')\n",
    "# указываем наименования осей и графика\n",
    "plt.xlabel('Расстояние, преодолеваемое за одну поездку, м')\n",
    "plt.ylabel('Количество пользователей')\n",
    "plt.title('Гистограмма по значениям расстояний, преодолеваемых за одну поездку')\n",
    "# указываем расположение легенды\n",
    "plt.legend(loc='upper left')\n",
    "plt.show()"
   ]
  },
  {
   "cell_type": "markdown",
   "id": "bc65ab34",
   "metadata": {},
   "source": [
    "По гистограмме видно, что:\n",
    "- пользователи с подпиской образуют более высокий и узкий пик на расстояниях 2800 - 3300 м;\n",
    "- в первом небольшом пике пользователей с подпиской меньше, чем пользователей без подписки и сам пик смещен на 1000 м, то есть в группе пользователей с подпиской нет околонулевых значений;\n",
    "- пользователи с подпиской образуют еще один (третий) небольшой пик на расстоянии в 4000 м;\n",
    "- пользователи без подписки образуют более широкий и низкий пик на расстояних в 2200 - 4100 м;\n",
    "- первый небольшой пик смещен к нулю - много околонулевых значений."
   ]
  },
  {
   "cell_type": "markdown",
   "id": "45bfb318",
   "metadata": {},
   "source": [
    "У пользователей без подписки значительно больше коротких поездок - до 1 км и в целом максимальная дальность поездки выше, чем у платных пользователей."
   ]
  },
  {
   "cell_type": "markdown",
   "id": "5522f1f8",
   "metadata": {},
   "source": [
    "Построим диаграмму размаха для значений расстояний, преодолеваемых за одну поездку пользователями, сгруппированными по типу подписки."
   ]
  },
  {
   "cell_type": "code",
   "execution_count": 46,
   "id": "57629307",
   "metadata": {},
   "outputs": [
    {
     "data": {
      "image/png": "[encoded data removed]",
      "text/plain": [
       "<Figure size 720x432 with 1 Axes>"
      ]
     },
     "metadata": {
      "needs_background": "light"
     },
     "output_type": "display_data"
    }
   ],
   "source": [
    "sns.boxplot(x='subscription_type', y='distance', data=data) # строим лдиаграмму\n",
    "# указываем наименования осей и графика\n",
    "plt.xlabel('Тип подписки')\n",
    "plt.ylabel('Расстояния, преодолеваемые за одну поездку, м')\n",
    "plt.title('Диаграмма размаха дальности поездки')\n",
    "# указываем размер фигуры\n",
    "matplotlib.rcParams['figure.figsize'] = [10, 8]\n",
    "plt.show()"
   ]
  },
  {
   "cell_type": "markdown",
   "id": "961c5458",
   "metadata": {},
   "source": [
    "Мы видим, как изменилась диаграмма размаха дальности поездок после разделения пользователей на группы по виду подписки: \n",
    "- граница нормального размаха для пользователей с подпиской стала гораздо меньше - примерно 1600 - 4700 м, так же немного сократился межквартильный размах и стал составлять примерно 2800 - 3600 м. Соответственно стало много выбросов на высоких значениях и особенно на низких - там все точки сливаются в единую жирную линию, видимо, это тот самый второй пик.\n",
    "- для пользователей без подписки границы нормального размаха наоборот расширились - нижний \"ус\" сместился к примерно 55 м, а верхний \"ус\" к 6200м. Межквартильный размах стал примерно 2400 - 3950 м. Таким образом, в этой группе выбросов меньше - снизу небольшое количество и сверху выбросы распределяются до отсетки более 7000 м."
   ]
  },
  {
   "cell_type": "markdown",
   "id": "2bf27082",
   "metadata": {},
   "source": [
    "- Визуализируем информацию о продолжительности поездок пользователей в зависимости от наличия подписки.\n",
    "\n",
    "Построим гистограммы для значений продолжительности поездок, сгруппированных по наличию подписки у пользователя."
   ]
  },
  {
   "cell_type": "code",
   "execution_count": 47,
   "id": "a0738a6c",
   "metadata": {},
   "outputs": [
    {
     "data": {
      "image/png": "[encoded data removed]",
      "text/plain": [
       "<Figure size 720x576 with 1 Axes>"
      ]
     },
     "metadata": {
      "needs_background": "light"
     },
     "output_type": "display_data"
    }
   ],
   "source": [
    "# строим гистограмму для пользователей без подписки\n",
    "data_free['duration'].hist(bins=100,alpha = 0.5,range=(0,50), label='Без подписки')\n",
    "# строим гистограмму для пользователей с подпиской\n",
    "data_ultra['duration'].hist(bins=100,alpha = 0.5,range=(0,50), label='С подпиской')\n",
    "# указываем наименования осей и графика\n",
    "plt.xlabel('Продолжительность поездки, мин')\n",
    "plt.ylabel('Количество пользователей')\n",
    "plt.title('Гистограмма по значениям продолжительности поездок')\n",
    "# указываем расположение легенды\n",
    "plt.legend(loc='upper left')\n",
    "plt.show()"
   ]
  },
  {
   "cell_type": "markdown",
   "id": "2bfbe4fa",
   "metadata": {},
   "source": [
    "По гистограмме видно, что:\n",
    "- распределение пользователей с подпиской и без очень похоже и близко к нормальному;\n",
    "- пик возле нулевых значений, замеченный раннее образует пользователи без подписки;\n",
    "- распределение данных о пользователях с подпиской имеет чуть более длинный хвост на больших значениях (более 35 мин), чем распределение данных о пользователях без подписки;\n",
    "- распределение данных о пользователях с подпиской приближается к 0 слева на более высоких значениях (около 5 минут), нежели распределение данных о пользователях без подписки;\n",
    "- чаще всего пользователи с подпиской совершают поездки в пределах 12 - 23 мин;\n",
    "- чаще всего пользователи без подписки совершают поездки в пределах 8 - 26 мин."
   ]
  },
  {
   "cell_type": "markdown",
   "id": "45117ef1",
   "metadata": {},
   "source": [
    "Построим диаграмму размаха для значений продолжительности поездок, сгруппированных по типу подписки пользователей."
   ]
  },
  {
   "cell_type": "code",
   "execution_count": 48,
   "id": "78ffe4e0",
   "metadata": {},
   "outputs": [
    {
     "data": {
      "image/png": "[encoded data removed]",
      "text/plain": [
       "<Figure size 720x576 with 1 Axes>"
      ]
     },
     "metadata": {
      "needs_background": "light"
     },
     "output_type": "display_data"
    }
   ],
   "source": [
    "sns.boxplot(x='subscription_type', y='duration', data=data) # строим лдиаграмму\n",
    "# указываем наименования осей и графика\n",
    "plt.xlabel('Тип подписки')\n",
    "plt.ylabel('Продолжительность поездки, мин')\n",
    "plt.title('Диаграмма размаха продолжительности поездки')\n",
    "# указываем размер фигуры\n",
    "matplotlib.rcParams['figure.figsize'] = [10, 8]\n",
    "plt.show()"
   ]
  },
  {
   "cell_type": "markdown",
   "id": "bb96824e",
   "metadata": {},
   "source": [
    "Мы видим, как изменилась диаграмма размаха продолжительности поездок после разделения пользователей на группы по виду подписки:\n",
    "- граница нормального размаха для пользователей с подпиской стала меньше - примерно 5 - 33 мин, межквартильный размах составляет примерно 15 - 22 мин. Есть выбросы на более всоких значениях (больше 33).\n",
    "- для пользователей без подписки границы нормального размаха немного расширились - нижний \"ус\" упирается так же примерно в 2 мин, а верхний \"ус\" немного сместился вверх к 35 мин. Межквартильный размах стал примерно 13 - 22 мин. Есть единичные выбросы на блее высоких значениях."
   ]
  },
  {
   "cell_type": "markdown",
   "id": "b78a91d7",
   "metadata": {},
   "source": [
    "В целом картина такая же - распределение внутри категорий имеют одинаковый профиль (и одинаковый с профилем распределения до разбивки на категории - строили на ранних этапах), но в каждом из диапазонов бесплатных пользователей чуть больше, но их, как мы выяснили, и в целом больше.\n",
    "\n",
    "Краевые значения (минимум и максимум) у бесплатных пользователей смещены влево относительно платных подписчиков - стоимость минуты все-таки больше, значит часть пользователей торопится завершить поездки за меньший срок. Но при этом визуально среднее значение не сильно смещено."
   ]
  },
  {
   "cell_type": "markdown",
   "id": "22bd1a3b",
   "metadata": {},
   "source": [
    "### Количество поездок по месяцам"
   ]
  },
  {
   "cell_type": "markdown",
   "id": "adf18bf8",
   "metadata": {},
   "source": [
    "В предыдущем разделе мы заметили странность в распределении данных по месяцам. Посмотрим, как данные распределяются по месяцам и городам. Построим тепловую карту."
   ]
  },
  {
   "cell_type": "code",
   "execution_count": 53,
   "id": "c310639c",
   "metadata": {},
   "outputs": [
    {
     "data": {
      "text/html": [
       "<div>\n",
       "<style scoped>\n",
       "    .dataframe tbody tr th:only-of-type {\n",
       "        vertical-align: middle;\n",
       "    }\n",
       "\n",
       "    .dataframe tbody tr th {\n",
       "        vertical-align: top;\n",
       "    }\n",
       "\n",
       "    .dataframe thead th {\n",
       "        text-align: right;\n",
       "    }\n",
       "</style>\n",
       "<table border=\"1\" class=\"dataframe\">\n",
       "  <thead>\n",
       "    <tr style=\"text-align: right;\">\n",
       "      <th>month</th>\n",
       "      <th>1</th>\n",
       "      <th>2</th>\n",
       "      <th>3</th>\n",
       "      <th>4</th>\n",
       "      <th>5</th>\n",
       "      <th>6</th>\n",
       "      <th>7</th>\n",
       "      <th>8</th>\n",
       "      <th>9</th>\n",
       "      <th>10</th>\n",
       "      <th>11</th>\n",
       "      <th>12</th>\n",
       "    </tr>\n",
       "    <tr>\n",
       "      <th>city</th>\n",
       "      <th></th>\n",
       "      <th></th>\n",
       "      <th></th>\n",
       "      <th></th>\n",
       "      <th></th>\n",
       "      <th></th>\n",
       "      <th></th>\n",
       "      <th></th>\n",
       "      <th></th>\n",
       "      <th></th>\n",
       "      <th></th>\n",
       "      <th></th>\n",
       "    </tr>\n",
       "  </thead>\n",
       "  <tbody>\n",
       "    <tr>\n",
       "      <th>Екатеринбург</th>\n",
       "      <td>211</td>\n",
       "      <td>197</td>\n",
       "      <td>221</td>\n",
       "      <td>192</td>\n",
       "      <td>217</td>\n",
       "      <td>199</td>\n",
       "      <td>214</td>\n",
       "      <td>190</td>\n",
       "      <td>221</td>\n",
       "      <td>189</td>\n",
       "      <td>200</td>\n",
       "      <td>210</td>\n",
       "    </tr>\n",
       "    <tr>\n",
       "      <th>Краснодар</th>\n",
       "      <td>190</td>\n",
       "      <td>173</td>\n",
       "      <td>208</td>\n",
       "      <td>168</td>\n",
       "      <td>189</td>\n",
       "      <td>196</td>\n",
       "      <td>207</td>\n",
       "      <td>201</td>\n",
       "      <td>193</td>\n",
       "      <td>195</td>\n",
       "      <td>182</td>\n",
       "      <td>199</td>\n",
       "    </tr>\n",
       "    <tr>\n",
       "      <th>Москва</th>\n",
       "      <td>161</td>\n",
       "      <td>162</td>\n",
       "      <td>144</td>\n",
       "      <td>157</td>\n",
       "      <td>153</td>\n",
       "      <td>153</td>\n",
       "      <td>163</td>\n",
       "      <td>179</td>\n",
       "      <td>155</td>\n",
       "      <td>149</td>\n",
       "      <td>137</td>\n",
       "      <td>162</td>\n",
       "    </tr>\n",
       "    <tr>\n",
       "      <th>Омск</th>\n",
       "      <td>167</td>\n",
       "      <td>144</td>\n",
       "      <td>184</td>\n",
       "      <td>195</td>\n",
       "      <td>186</td>\n",
       "      <td>192</td>\n",
       "      <td>177</td>\n",
       "      <td>166</td>\n",
       "      <td>165</td>\n",
       "      <td>171</td>\n",
       "      <td>166</td>\n",
       "      <td>164</td>\n",
       "    </tr>\n",
       "    <tr>\n",
       "      <th>Пятигорск</th>\n",
       "      <td>228</td>\n",
       "      <td>182</td>\n",
       "      <td>199</td>\n",
       "      <td>225</td>\n",
       "      <td>218</td>\n",
       "      <td>218</td>\n",
       "      <td>220</td>\n",
       "      <td>206</td>\n",
       "      <td>217</td>\n",
       "      <td>193</td>\n",
       "      <td>199</td>\n",
       "      <td>219</td>\n",
       "    </tr>\n",
       "    <tr>\n",
       "      <th>Ростов-на-Дону</th>\n",
       "      <td>223</td>\n",
       "      <td>186</td>\n",
       "      <td>196</td>\n",
       "      <td>213</td>\n",
       "      <td>202</td>\n",
       "      <td>219</td>\n",
       "      <td>189</td>\n",
       "      <td>212</td>\n",
       "      <td>191</td>\n",
       "      <td>214</td>\n",
       "      <td>205</td>\n",
       "      <td>200</td>\n",
       "    </tr>\n",
       "    <tr>\n",
       "      <th>Сочи</th>\n",
       "      <td>204</td>\n",
       "      <td>146</td>\n",
       "      <td>216</td>\n",
       "      <td>188</td>\n",
       "      <td>192</td>\n",
       "      <td>204</td>\n",
       "      <td>196</td>\n",
       "      <td>179</td>\n",
       "      <td>200</td>\n",
       "      <td>180</td>\n",
       "      <td>158</td>\n",
       "      <td>196</td>\n",
       "    </tr>\n",
       "    <tr>\n",
       "      <th>Тюмень</th>\n",
       "      <td>201</td>\n",
       "      <td>146</td>\n",
       "      <td>176</td>\n",
       "      <td>168</td>\n",
       "      <td>203</td>\n",
       "      <td>172</td>\n",
       "      <td>163</td>\n",
       "      <td>185</td>\n",
       "      <td>175</td>\n",
       "      <td>184</td>\n",
       "      <td>171</td>\n",
       "      <td>177</td>\n",
       "    </tr>\n",
       "  </tbody>\n",
       "</table>\n",
       "</div>"
      ],
      "text/plain": [
       "month            1    2    3    4    5    6    7    8    9    10   11   12\n",
       "city                                                                      \n",
       "Екатеринбург    211  197  221  192  217  199  214  190  221  189  200  210\n",
       "Краснодар       190  173  208  168  189  196  207  201  193  195  182  199\n",
       "Москва          161  162  144  157  153  153  163  179  155  149  137  162\n",
       "Омск            167  144  184  195  186  192  177  166  165  171  166  164\n",
       "Пятигорск       228  182  199  225  218  218  220  206  217  193  199  219\n",
       "Ростов-на-Дону  223  186  196  213  202  219  189  212  191  214  205  200\n",
       "Сочи            204  146  216  188  192  204  196  179  200  180  158  196\n",
       "Тюмень          201  146  176  168  203  172  163  185  175  184  171  177"
      ]
     },
     "execution_count": 53,
     "metadata": {},
     "output_type": "execute_result"
    }
   ],
   "source": [
    "# создаем данные для осей\n",
    "months = data['month'].unique() \n",
    "cities = data['city'].unique()\n",
    "# для каждой пары месяц-город считаем количество записей\n",
    "month_city = data.groupby(['city', 'month'])['user_id'].count()\n",
    "month_city\n",
    "month_city.unstack('month')"
   ]
  },
  {
   "cell_type": "code",
   "execution_count": 48,
   "id": "cef7839e",
   "metadata": {},
   "outputs": [
    {
     "data": {
      "image/png": "[encoded data removed]",
      "text/plain": [
       "<Figure size 720x576 with 2 Axes>"
      ]
     },
     "metadata": {
      "needs_background": "light"
     },
     "output_type": "display_data"
    }
   ],
   "source": [
    "# создаем данные для осей\n",
    "months = data['month'].unique() \n",
    "cities = data['city'].unique()\n",
    "# для каждой пары месяц-город считаем количество записей\n",
    "month_city = data.groupby(['city', 'month'])['user_id'].count()\n",
    "# построим хитмэп\n",
    "# столбец mean_scores получился вложенным из-за группировки по двум столбцам,\n",
    "# поэтому его нужно «развернуть» методом unstack()\n",
    "sns.heatmap(month_city.unstack('month'),\n",
    "                xticklabels=sorted(months),\n",
    "                yticklabels=cities,\n",
    "                cmap='RdYlGn')\n",
    "# указываем наименования осей и графика\n",
    "plt.xlabel('Месяц')\n",
    "plt.ylabel('Город')\n",
    "plt.title('Тепловая карта количества поездок по месяцам и городам')\n",
    "plt.show()"
   ]
  },
  {
   "cell_type": "markdown",
   "id": "025d5b86",
   "metadata": {},
   "source": [
    "Нельзя сказать, что все вопросы разрешились: напрмер, в Омске достаточно холодная зима, однако, люди не прекращают пользоваться самокатом ни в декабре, ни в январе, и только в феврале есть небольшая просадка, впрочем, как и во всех других городах. Было бы неплохо обратиться к источнику данных, чтобы проверить, нет ли какх-то ошибок в сборе, хранении или передаче данных."
   ]
  },
  {
   "cell_type": "markdown",
   "id": "402d620f",
   "metadata": {},
   "source": [
    "### Подсчёт выручки"
   ]
  },
  {
   "cell_type": "markdown",
   "id": "6a49a502",
   "metadata": {},
   "source": [
    "#### Создание датафрейма с агрегированными данными о поездках"
   ]
  },
  {
   "cell_type": "markdown",
   "id": "15ecd525",
   "metadata": {},
   "source": [
    "Создадим датафрейм с агрегированными данными о поездках с суммарным расстоянием, количеством поездок и суммарным временем для каждого пользователя за каждый месяц."
   ]
  },
  {
   "cell_type": "markdown",
   "id": "bd032f7e",
   "metadata": {},
   "source": [
    "Перед рассчетами проверим, за сколько лет данные в датафрейме, чтобы корректно посчитать агрегированные характеристики по месяцам."
   ]
  },
  {
   "cell_type": "code",
   "execution_count": 49,
   "id": "8b2db0db",
   "metadata": {},
   "outputs": [
    {
     "data": {
      "text/plain": [
       "array([2021])"
      ]
     },
     "execution_count": 49,
     "metadata": {},
     "output_type": "execute_result"
    }
   ],
   "source": [
    "# проверим, за сколько лет данные в датафрейме\n",
    "rides['date'].dt.year.unique()"
   ]
  },
  {
   "cell_type": "markdown",
   "id": "5c21e746",
   "metadata": {},
   "source": [
    "Данные только за один год, поэтому не стоит беспокоиться о том, что мы можем учесть данные из разных годов за один месяц вместе."
   ]
  },
  {
   "cell_type": "code",
   "execution_count": 50,
   "id": "53049e0a",
   "metadata": {},
   "outputs": [
    {
     "data": {
      "text/html": [
       "<div>\n",
       "<style scoped>\n",
       "    .dataframe tbody tr th:only-of-type {\n",
       "        vertical-align: middle;\n",
       "    }\n",
       "\n",
       "    .dataframe tbody tr th {\n",
       "        vertical-align: top;\n",
       "    }\n",
       "\n",
       "    .dataframe thead tr th {\n",
       "        text-align: left;\n",
       "    }\n",
       "\n",
       "    .dataframe thead tr:last-of-type th {\n",
       "        text-align: right;\n",
       "    }\n",
       "</style>\n",
       "<table border=\"1\" class=\"dataframe\">\n",
       "  <thead>\n",
       "    <tr>\n",
       "      <th></th>\n",
       "      <th></th>\n",
       "      <th colspan=\"2\" halign=\"left\">sum</th>\n",
       "      <th colspan=\"2\" halign=\"left\">count</th>\n",
       "    </tr>\n",
       "    <tr>\n",
       "      <th></th>\n",
       "      <th></th>\n",
       "      <th>distance</th>\n",
       "      <th>duration</th>\n",
       "      <th>distance</th>\n",
       "      <th>duration</th>\n",
       "    </tr>\n",
       "    <tr>\n",
       "      <th>user_id</th>\n",
       "      <th>month</th>\n",
       "      <th></th>\n",
       "      <th></th>\n",
       "      <th></th>\n",
       "      <th></th>\n",
       "    </tr>\n",
       "  </thead>\n",
       "  <tbody>\n",
       "    <tr>\n",
       "      <th rowspan=\"5\" valign=\"top\">1</th>\n",
       "      <th>1</th>\n",
       "      <td>7027.511294</td>\n",
       "      <td>42</td>\n",
       "      <td>2</td>\n",
       "      <td>2</td>\n",
       "    </tr>\n",
       "    <tr>\n",
       "      <th>4</th>\n",
       "      <td>754.159807</td>\n",
       "      <td>7</td>\n",
       "      <td>1</td>\n",
       "      <td>1</td>\n",
       "    </tr>\n",
       "    <tr>\n",
       "      <th>8</th>\n",
       "      <td>6723.470560</td>\n",
       "      <td>46</td>\n",
       "      <td>2</td>\n",
       "      <td>2</td>\n",
       "    </tr>\n",
       "    <tr>\n",
       "      <th>10</th>\n",
       "      <td>5809.911100</td>\n",
       "      <td>32</td>\n",
       "      <td>2</td>\n",
       "      <td>2</td>\n",
       "    </tr>\n",
       "    <tr>\n",
       "      <th>11</th>\n",
       "      <td>7003.499363</td>\n",
       "      <td>56</td>\n",
       "      <td>3</td>\n",
       "      <td>3</td>\n",
       "    </tr>\n",
       "    <tr>\n",
       "      <th>...</th>\n",
       "      <th>...</th>\n",
       "      <td>...</td>\n",
       "      <td>...</td>\n",
       "      <td>...</td>\n",
       "      <td>...</td>\n",
       "    </tr>\n",
       "    <tr>\n",
       "      <th rowspan=\"5\" valign=\"top\">1534</th>\n",
       "      <th>6</th>\n",
       "      <td>3409.468534</td>\n",
       "      <td>26</td>\n",
       "      <td>2</td>\n",
       "      <td>2</td>\n",
       "    </tr>\n",
       "    <tr>\n",
       "      <th>8</th>\n",
       "      <td>7622.453034</td>\n",
       "      <td>48</td>\n",
       "      <td>2</td>\n",
       "      <td>2</td>\n",
       "    </tr>\n",
       "    <tr>\n",
       "      <th>9</th>\n",
       "      <td>4928.173852</td>\n",
       "      <td>23</td>\n",
       "      <td>1</td>\n",
       "      <td>1</td>\n",
       "    </tr>\n",
       "    <tr>\n",
       "      <th>11</th>\n",
       "      <td>13350.015305</td>\n",
       "      <td>78</td>\n",
       "      <td>4</td>\n",
       "      <td>4</td>\n",
       "    </tr>\n",
       "    <tr>\n",
       "      <th>12</th>\n",
       "      <td>2371.711192</td>\n",
       "      <td>16</td>\n",
       "      <td>1</td>\n",
       "      <td>1</td>\n",
       "    </tr>\n",
       "  </tbody>\n",
       "</table>\n",
       "<p>11331 rows × 4 columns</p>\n",
       "</div>"
      ],
      "text/plain": [
       "                        sum             count         \n",
       "                   distance duration distance duration\n",
       "user_id month                                         \n",
       "1       1       7027.511294       42        2        2\n",
       "        4        754.159807        7        1        1\n",
       "        8       6723.470560       46        2        2\n",
       "        10      5809.911100       32        2        2\n",
       "        11      7003.499363       56        3        3\n",
       "...                     ...      ...      ...      ...\n",
       "1534    6       3409.468534       26        2        2\n",
       "        8       7622.453034       48        2        2\n",
       "        9       4928.173852       23        1        1\n",
       "        11     13350.015305       78        4        4\n",
       "        12      2371.711192       16        1        1\n",
       "\n",
       "[11331 rows x 4 columns]"
      ]
     },
     "execution_count": 50,
     "metadata": {},
     "output_type": "execute_result"
    }
   ],
   "source": [
    "# создание датафрейма с агрегированными данными\n",
    "data_agg = data.pivot_table(index=['user_id', 'month'], values=['distance', 'duration'], \n",
    "                            aggfunc=['sum', 'count']) \n",
    "data_agg"
   ]
  },
  {
   "cell_type": "markdown",
   "id": "b11b9381",
   "metadata": {},
   "source": [
    "Уберем мультииндексы в таблице."
   ]
  },
  {
   "cell_type": "code",
   "execution_count": 51,
   "id": "4dcad089",
   "metadata": {
    "scrolled": true
   },
   "outputs": [
    {
     "data": {
      "text/html": [
       "<div>\n",
       "<style scoped>\n",
       "    .dataframe tbody tr th:only-of-type {\n",
       "        vertical-align: middle;\n",
       "    }\n",
       "\n",
       "    .dataframe tbody tr th {\n",
       "        vertical-align: top;\n",
       "    }\n",
       "\n",
       "    .dataframe thead th {\n",
       "        text-align: right;\n",
       "    }\n",
       "</style>\n",
       "<table border=\"1\" class=\"dataframe\">\n",
       "  <thead>\n",
       "    <tr style=\"text-align: right;\">\n",
       "      <th></th>\n",
       "      <th>user_id</th>\n",
       "      <th>month</th>\n",
       "      <th>distance_sum</th>\n",
       "      <th>duration_sum</th>\n",
       "      <th>rides_count</th>\n",
       "    </tr>\n",
       "  </thead>\n",
       "  <tbody>\n",
       "    <tr>\n",
       "      <th>0</th>\n",
       "      <td>1</td>\n",
       "      <td>1</td>\n",
       "      <td>7027.511294</td>\n",
       "      <td>42</td>\n",
       "      <td>2</td>\n",
       "    </tr>\n",
       "    <tr>\n",
       "      <th>1</th>\n",
       "      <td>1</td>\n",
       "      <td>4</td>\n",
       "      <td>754.159807</td>\n",
       "      <td>7</td>\n",
       "      <td>1</td>\n",
       "    </tr>\n",
       "    <tr>\n",
       "      <th>2</th>\n",
       "      <td>1</td>\n",
       "      <td>8</td>\n",
       "      <td>6723.470560</td>\n",
       "      <td>46</td>\n",
       "      <td>2</td>\n",
       "    </tr>\n",
       "    <tr>\n",
       "      <th>3</th>\n",
       "      <td>1</td>\n",
       "      <td>10</td>\n",
       "      <td>5809.911100</td>\n",
       "      <td>32</td>\n",
       "      <td>2</td>\n",
       "    </tr>\n",
       "    <tr>\n",
       "      <th>4</th>\n",
       "      <td>1</td>\n",
       "      <td>11</td>\n",
       "      <td>7003.499363</td>\n",
       "      <td>56</td>\n",
       "      <td>3</td>\n",
       "    </tr>\n",
       "    <tr>\n",
       "      <th>...</th>\n",
       "      <td>...</td>\n",
       "      <td>...</td>\n",
       "      <td>...</td>\n",
       "      <td>...</td>\n",
       "      <td>...</td>\n",
       "    </tr>\n",
       "    <tr>\n",
       "      <th>11326</th>\n",
       "      <td>1534</td>\n",
       "      <td>6</td>\n",
       "      <td>3409.468534</td>\n",
       "      <td>26</td>\n",
       "      <td>2</td>\n",
       "    </tr>\n",
       "    <tr>\n",
       "      <th>11327</th>\n",
       "      <td>1534</td>\n",
       "      <td>8</td>\n",
       "      <td>7622.453034</td>\n",
       "      <td>48</td>\n",
       "      <td>2</td>\n",
       "    </tr>\n",
       "    <tr>\n",
       "      <th>11328</th>\n",
       "      <td>1534</td>\n",
       "      <td>9</td>\n",
       "      <td>4928.173852</td>\n",
       "      <td>23</td>\n",
       "      <td>1</td>\n",
       "    </tr>\n",
       "    <tr>\n",
       "      <th>11329</th>\n",
       "      <td>1534</td>\n",
       "      <td>11</td>\n",
       "      <td>13350.015305</td>\n",
       "      <td>78</td>\n",
       "      <td>4</td>\n",
       "    </tr>\n",
       "    <tr>\n",
       "      <th>11330</th>\n",
       "      <td>1534</td>\n",
       "      <td>12</td>\n",
       "      <td>2371.711192</td>\n",
       "      <td>16</td>\n",
       "      <td>1</td>\n",
       "    </tr>\n",
       "  </tbody>\n",
       "</table>\n",
       "<p>11331 rows × 5 columns</p>\n",
       "</div>"
      ],
      "text/plain": [
       "       user_id  month  distance_sum  duration_sum  rides_count\n",
       "0            1      1   7027.511294            42            2\n",
       "1            1      4    754.159807             7            1\n",
       "2            1      8   6723.470560            46            2\n",
       "3            1     10   5809.911100            32            2\n",
       "4            1     11   7003.499363            56            3\n",
       "...        ...    ...           ...           ...          ...\n",
       "11326     1534      6   3409.468534            26            2\n",
       "11327     1534      8   7622.453034            48            2\n",
       "11328     1534      9   4928.173852            23            1\n",
       "11329     1534     11  13350.015305            78            4\n",
       "11330     1534     12   2371.711192            16            1\n",
       "\n",
       "[11331 rows x 5 columns]"
      ]
     },
     "execution_count": 51,
     "metadata": {},
     "output_type": "execute_result"
    }
   ],
   "source": [
    "# переименовываем столбцы\n",
    "data_agg.columns = ['distance_sum', 'duration_sum', 'rides_count', 'duration_count'] \n",
    "# убираем мультииндекс, чтобы user_id отображался на каждой строке\n",
    "data_agg.reset_index(inplace=True)\n",
    "# оставим только нужные нам столбцы\n",
    "data_agg = data_agg[['user_id', 'month', 'distance_sum', 'duration_sum', 'rides_count']]\n",
    "data_agg"
   ]
  },
  {
   "cell_type": "markdown",
   "id": "993d06a2",
   "metadata": {},
   "source": [
    "#### Расчет помесячной выручки от каждого пользователя"
   ]
  },
  {
   "cell_type": "markdown",
   "id": "01f02750",
   "metadata": {},
   "source": [
    "Посчитаем помесячную выручку (`income_month`) по формуле: (стоимость старта поездки * количество поездок) + (стоимость одной минуты поездки * общая продолжительность всех поездок в минутах) + стоимость подписки."
   ]
  },
  {
   "cell_type": "code",
   "execution_count": 52,
   "id": "fb603f37",
   "metadata": {
    "scrolled": true
   },
   "outputs": [
    {
     "data": {
      "text/html": [
       "<div>\n",
       "<style scoped>\n",
       "    .dataframe tbody tr th:only-of-type {\n",
       "        vertical-align: middle;\n",
       "    }\n",
       "\n",
       "    .dataframe tbody tr th {\n",
       "        vertical-align: top;\n",
       "    }\n",
       "\n",
       "    .dataframe thead th {\n",
       "        text-align: right;\n",
       "    }\n",
       "</style>\n",
       "<table border=\"1\" class=\"dataframe\">\n",
       "  <thead>\n",
       "    <tr style=\"text-align: right;\">\n",
       "      <th></th>\n",
       "      <th>user_id</th>\n",
       "      <th>month</th>\n",
       "      <th>distance_sum</th>\n",
       "      <th>duration_sum</th>\n",
       "      <th>rides_count</th>\n",
       "      <th>minute_price</th>\n",
       "      <th>start_ride_price</th>\n",
       "      <th>subscription_fee</th>\n",
       "      <th>income_month</th>\n",
       "    </tr>\n",
       "  </thead>\n",
       "  <tbody>\n",
       "    <tr>\n",
       "      <th>0</th>\n",
       "      <td>1</td>\n",
       "      <td>1</td>\n",
       "      <td>7027.511294</td>\n",
       "      <td>42</td>\n",
       "      <td>2</td>\n",
       "      <td>6</td>\n",
       "      <td>0</td>\n",
       "      <td>199</td>\n",
       "      <td>451</td>\n",
       "    </tr>\n",
       "    <tr>\n",
       "      <th>1</th>\n",
       "      <td>1</td>\n",
       "      <td>4</td>\n",
       "      <td>754.159807</td>\n",
       "      <td>7</td>\n",
       "      <td>1</td>\n",
       "      <td>6</td>\n",
       "      <td>0</td>\n",
       "      <td>199</td>\n",
       "      <td>241</td>\n",
       "    </tr>\n",
       "    <tr>\n",
       "      <th>2</th>\n",
       "      <td>1</td>\n",
       "      <td>8</td>\n",
       "      <td>6723.470560</td>\n",
       "      <td>46</td>\n",
       "      <td>2</td>\n",
       "      <td>6</td>\n",
       "      <td>0</td>\n",
       "      <td>199</td>\n",
       "      <td>475</td>\n",
       "    </tr>\n",
       "    <tr>\n",
       "      <th>3</th>\n",
       "      <td>1</td>\n",
       "      <td>10</td>\n",
       "      <td>5809.911100</td>\n",
       "      <td>32</td>\n",
       "      <td>2</td>\n",
       "      <td>6</td>\n",
       "      <td>0</td>\n",
       "      <td>199</td>\n",
       "      <td>391</td>\n",
       "    </tr>\n",
       "    <tr>\n",
       "      <th>4</th>\n",
       "      <td>1</td>\n",
       "      <td>11</td>\n",
       "      <td>7003.499363</td>\n",
       "      <td>56</td>\n",
       "      <td>3</td>\n",
       "      <td>6</td>\n",
       "      <td>0</td>\n",
       "      <td>199</td>\n",
       "      <td>535</td>\n",
       "    </tr>\n",
       "    <tr>\n",
       "      <th>...</th>\n",
       "      <td>...</td>\n",
       "      <td>...</td>\n",
       "      <td>...</td>\n",
       "      <td>...</td>\n",
       "      <td>...</td>\n",
       "      <td>...</td>\n",
       "      <td>...</td>\n",
       "      <td>...</td>\n",
       "      <td>...</td>\n",
       "    </tr>\n",
       "    <tr>\n",
       "      <th>11326</th>\n",
       "      <td>1534</td>\n",
       "      <td>6</td>\n",
       "      <td>3409.468534</td>\n",
       "      <td>26</td>\n",
       "      <td>2</td>\n",
       "      <td>8</td>\n",
       "      <td>50</td>\n",
       "      <td>0</td>\n",
       "      <td>308</td>\n",
       "    </tr>\n",
       "    <tr>\n",
       "      <th>11327</th>\n",
       "      <td>1534</td>\n",
       "      <td>8</td>\n",
       "      <td>7622.453034</td>\n",
       "      <td>48</td>\n",
       "      <td>2</td>\n",
       "      <td>8</td>\n",
       "      <td>50</td>\n",
       "      <td>0</td>\n",
       "      <td>484</td>\n",
       "    </tr>\n",
       "    <tr>\n",
       "      <th>11328</th>\n",
       "      <td>1534</td>\n",
       "      <td>9</td>\n",
       "      <td>4928.173852</td>\n",
       "      <td>23</td>\n",
       "      <td>1</td>\n",
       "      <td>8</td>\n",
       "      <td>50</td>\n",
       "      <td>0</td>\n",
       "      <td>234</td>\n",
       "    </tr>\n",
       "    <tr>\n",
       "      <th>11329</th>\n",
       "      <td>1534</td>\n",
       "      <td>11</td>\n",
       "      <td>13350.015305</td>\n",
       "      <td>78</td>\n",
       "      <td>4</td>\n",
       "      <td>8</td>\n",
       "      <td>50</td>\n",
       "      <td>0</td>\n",
       "      <td>824</td>\n",
       "    </tr>\n",
       "    <tr>\n",
       "      <th>11330</th>\n",
       "      <td>1534</td>\n",
       "      <td>12</td>\n",
       "      <td>2371.711192</td>\n",
       "      <td>16</td>\n",
       "      <td>1</td>\n",
       "      <td>8</td>\n",
       "      <td>50</td>\n",
       "      <td>0</td>\n",
       "      <td>178</td>\n",
       "    </tr>\n",
       "  </tbody>\n",
       "</table>\n",
       "<p>11331 rows × 9 columns</p>\n",
       "</div>"
      ],
      "text/plain": [
       "       user_id  month  distance_sum  duration_sum  rides_count  minute_price  \\\n",
       "0            1      1   7027.511294            42            2             6   \n",
       "1            1      4    754.159807             7            1             6   \n",
       "2            1      8   6723.470560            46            2             6   \n",
       "3            1     10   5809.911100            32            2             6   \n",
       "4            1     11   7003.499363            56            3             6   \n",
       "...        ...    ...           ...           ...          ...           ...   \n",
       "11326     1534      6   3409.468534            26            2             8   \n",
       "11327     1534      8   7622.453034            48            2             8   \n",
       "11328     1534      9   4928.173852            23            1             8   \n",
       "11329     1534     11  13350.015305            78            4             8   \n",
       "11330     1534     12   2371.711192            16            1             8   \n",
       "\n",
       "       start_ride_price  subscription_fee  income_month  \n",
       "0                     0               199           451  \n",
       "1                     0               199           241  \n",
       "2                     0               199           475  \n",
       "3                     0               199           391  \n",
       "4                     0               199           535  \n",
       "...                 ...               ...           ...  \n",
       "11326                50                 0           308  \n",
       "11327                50                 0           484  \n",
       "11328                50                 0           234  \n",
       "11329                50                 0           824  \n",
       "11330                50                 0           178  \n",
       "\n",
       "[11331 rows x 9 columns]"
      ]
     },
     "execution_count": 52,
     "metadata": {},
     "output_type": "execute_result"
    }
   ],
   "source": [
    "# добавляем данные по подписке\n",
    "data_agg = data_agg.merge(data[['user_id', 'minute_price', 'start_ride_price', 'subscription_fee']]\n",
    "                                 .drop_duplicates(subset=['user_id']), on='user_id', how='left')\n",
    "# считаем помесячную прибыль\n",
    "data_agg['income_month'] = ((data_agg['start_ride_price'] * data_agg['rides_count']) + \n",
    "                      (data_agg['minute_price'] * data_agg['duration_sum']) \n",
    "                     + data_agg['subscription_fee'])\n",
    "data_agg"
   ]
  },
  {
   "cell_type": "markdown",
   "id": "2e6b2e61",
   "metadata": {},
   "source": [
    "**Вывод:** мы изучили распределение данных в рамках нескольких параметров, и в частности распределение данных о продолжительности поездок и о расстояниях, которые пользователи преодолевают за одну поездку, и выяснили следующее:\n",
    "- чаще всего самокаты берут в Пятигорске, а реже всего в Москве;\n",
    "- чаще люди пользуются сервисом проката самокатов бесплатно: 46 процентов пользователей покупают подписку, остальные предпочитают подписку free;\n",
    "- чаще всего сервисом проката самокатов пользуются люди в возрасте от 22 до 28 лет, граница нормального размаха - от 13 до 37 лет. Распределение пользователей по возрасту является нормальным;\n",
    "- чаще всего пользователи проезжают за одну поездку около 2500 - 3800 м, граница нормального размаха - от 700 до 5600 м. Распределение значений расстояний, преодолеваемых пользователями за одну поездку близко к нормальному, однако, есть еще один небольшой пик на значении в 700 м. Если рассматривать пользователей раздельно по типу подписки:\n",
    "    - пользователи с подпиской чаще всего проезжают около 2800 - 3600 м, граница нормального размаха - 1600 - 4700 м;\n",
    "    - пользователи без подписки обычно проезжают 2400 - 3950 м, граница нормального размаха - 55 - 6200 м;\n",
    "- чаще всего пользователи ездят на самокате около 14 -22 мин,  граница нормального размаха - от 2 до 33 мин. Распределение близко к нормальному, однако есть второй пик на значении в 1 мин. Если рассматривать пользователей раздельно по типу подписки, то для длительности поездки нет такого сильного различия, как для дальности поездки, смещается только ниджняя граница:\n",
    "    - пользователи с подпиской обычно ездят 15 - 22 мин, граница нормального размаха - 5 - 33 мин;\n",
    "    - пользователи с подпиской обычно ездят 13 - 22 мин, граница нормального размаха - 2 - 33 мин;\n",
    "    - стоит отметить, что именно пользователи без подписки образует пик около 1 мин - скорее всего связано с тем, что неопытные в этом деле люди решили попробовать, как работает сервис;\n",
    "- в целом можно сказать, что разброс данных о пользователях без подписки больше, чем о пользователях с подпиской;\n",
    "- была посчитана помесячная выручка по каждому пользователю;\n",
    "- обнаружили \"странности\" в распределении данных по месяцам - нет просадки в зимние месяцы, что, как подсказывает жизненный опыт, не похоже на правду."
   ]
  },
  {
   "cell_type": "markdown",
   "id": "41545ac0",
   "metadata": {},
   "source": [
    "## Проверка гипотез"
   ]
  },
  {
   "cell_type": "markdown",
   "id": "80e1fef8",
   "metadata": {},
   "source": [
    "### Пользователи с подпиской тратят больше времени на поездки"
   ]
  },
  {
   "cell_type": "markdown",
   "id": "b9f5778a",
   "metadata": {},
   "source": [
    "Попробуем понять, тратят ли пользователи с подпиской больше времени на поездки. Если да, то пользователи с подпиской могут быть «выгоднее» для компании. Проверим эту гипотезу:\n",
    "- Нулевая гипотеза: средние значения длительности поездки пользователей с подпиской и без подписки равны.\n",
    "- Альтернативная гипотеза: среднее значение длительности поездки пользователей с подпиской больше, чем среднее значение длительности поездки пользователей без подписки.\n",
    "\n",
    "Напишем функцию, которая будет проверять гипотезу о равенстве средних, используя t-критерий Стьюдента."
   ]
  },
  {
   "cell_type": "code",
   "execution_count": 53,
   "id": "54ca5ebe",
   "metadata": {},
   "outputs": [],
   "source": [
    "def mean_hypothesis_two_sample(h0, h1, alpha, sample_1, sample_2, alternative='two-sided' ,equal_var=True):\n",
    "    \"\"\"\n",
    "    Функция проверяет гипотезу о равенстве средних, используя t-критерий Стьюдента.\n",
    "    \n",
    "    Parameters\n",
    "    ----------\n",
    "    h0: string\n",
    "        Нулевая гипотеза.\n",
    "    h1: string\n",
    "        Альтернативная гипотеза.\n",
    "    alpha: float\n",
    "        Уровень значимости.        \n",
    "    sample_1: Pandas Dataframe\n",
    "        Набор данных 1.\n",
    "    sample_2: Pandas Dataframe\n",
    "        Набор данных 1.\n",
    "    alternative: string\n",
    "        two-sided - значение по умолчанию. Параметр метода ttest_ind.\n",
    "    equal_var: string\n",
    "        True - значение по умолчанию. Параметр метода ttest_ind.\n",
    "    \n",
    "    \"\"\"\n",
    "    \n",
    "    # выводим гипотезы, уровень значимости\n",
    "    print(f'H0 (нулевая гипотеза): {h0}')\n",
    "    print(f'H1 (альтернативная гипотеза): {h1}')\n",
    "    print(f'Уровень значимости: {alpha}')\n",
    "    print('')\n",
    "    \n",
    "    # выводим среднее с дисперсию по сэмплам\n",
    "    print('Sample_1')\n",
    "    print(f'Среднее значение: {sample_1.mean():.2f}, дисперсия: {sample_1.var():.2f}')\n",
    "    print('')\n",
    "    \n",
    "    print('Sample_2')\n",
    "    print(f'Среднее значение: {sample_2.mean():.2f}, дисперсия: {sample_2.var():.2f}')\n",
    "    print('')\n",
    "    \n",
    "    # применяем t-критерий Стьюдента из стандартного пакета\n",
    "    results = st.ttest_ind(sample_1, sample_2,alternative=alternative, equal_var=equal_var)\n",
    "    print(f'p-значение: {results.pvalue:.2f}')\n",
    "    print('')\n",
    "    \n",
    "    if results.pvalue < alpha:\n",
    "        print('Отвергаем нулевую гипотезу')\n",
    "    else:\n",
    "        print('Не получилось отвергнуть нулевую гипотезу')"
   ]
  },
  {
   "cell_type": "markdown",
   "id": "fdf5dcee",
   "metadata": {},
   "source": [
    "Чтобы принять решение о том, использовать ли генеральную совокупность или взять случайную выборку, а так же, что указывать в параметре `equal_var`, посмотрим на размер наших датафреймов."
   ]
  },
  {
   "cell_type": "code",
   "execution_count": 54,
   "id": "3774af69",
   "metadata": {},
   "outputs": [
    {
     "data": {
      "text/plain": [
       "(11568, 12)"
      ]
     },
     "execution_count": 54,
     "metadata": {},
     "output_type": "execute_result"
    }
   ],
   "source": [
    "data_free.shape"
   ]
  },
  {
   "cell_type": "code",
   "execution_count": 55,
   "id": "d0ba39ad",
   "metadata": {},
   "outputs": [
    {
     "data": {
      "text/plain": [
       "(6500, 12)"
      ]
     },
     "execution_count": 55,
     "metadata": {},
     "output_type": "execute_result"
    }
   ],
   "source": [
    "data_ultra.shape"
   ]
  },
  {
   "cell_type": "markdown",
   "id": "8d3d1028",
   "metadata": {},
   "source": [
    "В Python, совокупность в несколько тысяч чисел можно легко проанализировать., поэтому возьмем генеральные совокупности. Однако, , эти совокупности имеют разный размер, поэтому укажем параметр `equal_var=False`.\n",
    "\n",
    "Так как будем проверять правостороннюю гипотезу, то есть \"больше\", в параметр `alternative` передаем \"greater\".\n",
    "\n",
    "Уровень значимости примем 0.05."
   ]
  },
  {
   "cell_type": "code",
   "execution_count": 56,
   "id": "a2ee3101",
   "metadata": {},
   "outputs": [
    {
     "name": "stdout",
     "output_type": "stream",
     "text": [
      "H0 (нулевая гипотеза): Средние значения длительности поездки пользователей с подпиской и без подписки равны\n",
      "H1 (альтернативная гипотеза): Среднее значение длительности поездки пользователей с подпиской больше, \n",
      "чем среднее значение длительности поездки пользователей без подписки\n",
      "Уровень значимости: 0.05\n",
      "\n",
      "Sample_1\n",
      "Среднее значение: 19.04, дисперсия: 31.11\n",
      "\n",
      "Sample_2\n",
      "Среднее значение: 17.89, дисперсия: 40.07\n",
      "\n",
      "p-значение: 0.00\n",
      "\n",
      "Отвергаем нулевую гипотезу\n"
     ]
    }
   ],
   "source": [
    "h0 = 'Средние значения длительности поездки пользователей с подпиской и без подписки равны'\n",
    "h1 = '''Среднее значение длительности поездки пользователей с подпиской больше, \n",
    "чем среднее значение длительности поездки пользователей без подписки'''\n",
    "alpha = .05\n",
    "alternative = 'greater'\n",
    "mean_hypothesis_two_sample(h0, h1, alpha, data_ultra['duration'], data_free['duration'], alternative, False)"
   ]
  },
  {
   "cell_type": "markdown",
   "id": "fb875413",
   "metadata": {},
   "source": [
    "Мы видим, что средние значения длительности поездки пользователей с подпиской и без подписки не равны, осталось понять, достаточно ли большое различие мы наблюдаем с учётом разброса, чтобы отвергнуть нулевую гипотезу об их равенстве.\n",
    "Мы получили значение p-value меньше 1% - это меньше заданного уровня значимости (даже если бы мы установили порог в 1%), то есть наблюдаемое значение очень маловероятно при такой нулевой гипотезе, и мы отвергаем её в пользу альтернативной. Есть основания говорить, что пользователи с подпиской тратят больше времени на поездки."
   ]
  },
  {
   "cell_type": "markdown",
   "id": "f99da38e",
   "metadata": {},
   "source": [
    "**Вывод:** данные, предоставленные нам, не противоречат гипотезе о том, что пользователи с подпиской тратят больше времени на поездки. То есть в результате проверки гипотезы мы не можем ее отвергнуть."
   ]
  },
  {
   "cell_type": "markdown",
   "id": "04953a5f",
   "metadata": {},
   "source": [
    "### Расстояние, которое проезжают пользователи с подпиской за одну поездку, не превышает 3130 метров"
   ]
  },
  {
   "cell_type": "markdown",
   "id": "38393b22",
   "metadata": {},
   "source": [
    "Расстояние одной поездки в 3130 метров — оптимальное с точки зрения износа самоката. Попробуем понять, не превышает ли расстояние, которое проезжают пользователи с подпиской за одну поездку, 3130 метров. Проверим эту гипотезу:\n",
    "- Нулевая гипотеза: Среднее значение дальности поездки пользователей с подпиской равно 3130 метра.\n",
    "- Альтернативная гипотеза: Среднее значение дальности поездки пользователей с подпиской меньше 3130 метра.\n",
    "\n",
    "Напишем функцию, которая будет проверять гипотезу о равенстве среднего генеральной совокупности числу, используя t-критерий Стьюдента."
   ]
  },
  {
   "cell_type": "code",
   "execution_count": 62,
   "id": "2f30f8d6",
   "metadata": {},
   "outputs": [],
   "source": [
    "def mean_hypothesis_one_sample(h0, h1, alpha, comparison_value, sample, alternative='two-sided'):\n",
    "    \"\"\"\n",
    "    Функция проверяет гипотезу о равенстве среднего генеральной совокупности числу, используя t-критерий Стьюдента.\n",
    "    \n",
    "    Parameters\n",
    "    ----------\n",
    "    h0: string\n",
    "        Нулевая гипотеза.\n",
    "    h1: string\n",
    "        Альтернативная гипотеза.\n",
    "    alpha: float\n",
    "        Уровень значимости.        \n",
    "    comparison_value: float\n",
    "         Значение, на равенство которому делаем тест.\n",
    "    sample: Pandas Dataframe\n",
    "        Набор данных.\n",
    "    alternative: string\n",
    "        two-sided - значение по умолчанию. Параметр метода ttest_1samp.\n",
    "   \n",
    "    \"\"\"\n",
    "    \n",
    "    # выводим гипотезы, уровень значимости\n",
    "    print(f'H0 (нулевая гипотеза): {h0}')\n",
    "    print(f'H1 (альтернативная гипотеза): {h1}')\n",
    "    print(f'Уровень значимости: {alpha}')\n",
    "    print('')\n",
    "    \n",
    "    # выводим среднее и дисперсию по сэмплу\n",
    "    print('Sample')\n",
    "    print(f'Среднее значение: {sample.mean():.2f}, дисперсия: {sample.var():.2f}')\n",
    "    print('')\n",
    "    \n",
    "    # применяем t-критерий Стьюдента из стандартного пакета\n",
    "    results = st.ttest_1samp(sample, comparison_value, alternative=alternative)\n",
    "    print(f'p-значение: {results.pvalue:.2f}')\n",
    "    print('')\n",
    "    \n",
    "    if results.pvalue < alpha:\n",
    "        print('Отвергаем нулевую гипотезу')\n",
    "    else:\n",
    "        print('Не получилось отвергнуть нулевую гипотезу')"
   ]
  },
  {
   "cell_type": "markdown",
   "id": "2e8f5c06",
   "metadata": {},
   "source": [
    "Так как в этом случае тест является односторонним влево, — с альтернативной гипотезой «наблюдаемое значение меньше предполагаемого», — нужно будет указать alternative='less'.\n",
    "\n",
    "Уровень значимости примем 0.05."
   ]
  },
  {
   "cell_type": "code",
   "execution_count": 63,
   "id": "f17f22a8",
   "metadata": {},
   "outputs": [
    {
     "name": "stdout",
     "output_type": "stream",
     "text": [
      "H0 (нулевая гипотеза): Среднее значение дальности поездки пользователей с подпиской равно 3130 метра\n",
      "H1 (альтернативная гипотеза): Среднее значение дальности поездки пользователей с подпиской больше 3130 метра\n",
      "Уровень значимости: 0.05\n",
      "\n",
      "Sample\n",
      "Среднее значение: 3115.45, дисперсия: 700393.79\n",
      "\n",
      "p-значение: 0.92\n",
      "\n",
      "Не получилось отвергнуть нулевую гипотезу\n"
     ]
    }
   ],
   "source": [
    "h0 = 'Среднее значение дальности поездки пользователей с подпиской равно 3130 метра'\n",
    "h1 = 'Среднее значение дальности поездки пользователей с подпиской больше 3130 метра'\n",
    "alpha = .05\n",
    "comparison_value = 3130\n",
    "alternative = 'greater'\n",
    "mean_hypothesis_one_sample(h0, h1, alpha, comparison_value, data_ultra['distance'], alternative)"
   ]
  },
  {
   "cell_type": "markdown",
   "id": "9262f0ef",
   "metadata": {},
   "source": [
    "Мы видим, что среднее значение дальности поездки пользователей с подпиской чуть меньше 3130 м. Значение p-value в 92% не позволяет отвергнуть нулевую гипотезу о равенстве среднего значения дальности поездки указанному значению в 3130 м, так как оно больше принятого нами уровня значимости в 5%."
   ]
  },
  {
   "cell_type": "markdown",
   "id": "64807a9e",
   "metadata": {},
   "source": [
    "**Вывод:**\n",
    "- мы не можем отвергнуть гипотезу о том, что среднее значение дальности поездки пользователей с подпиской равно 3130 метра;\n",
    "- значение p-value составляет 92%, то есть наблюдаемое значение очень вероятно при такой нулевой гипотезе;\n",
    "- таким образом, пользователи с подпиской вероятнее проезжают расстояния не больше 3130 м - расстояние, оптимальное с точки зрения износа самоката. То есть пользователи с подпиской не только тратят больше времени на поездки, но и еще преодолевают расстояния с учетом оптимальности износа самоката, то есть такие пользователи действительно могут оказаться более ценными для компании."
   ]
  },
  {
   "cell_type": "markdown",
   "id": "022a16e0",
   "metadata": {},
   "source": [
    "### Помесячная выручка от пользователей с подпиской выше, чем помесячная выручка от пользователей без подписки"
   ]
  },
  {
   "cell_type": "markdown",
   "id": "9f0a1437",
   "metadata": {},
   "source": [
    "Попробуем разобраться, будет ли помесячная выручка от пользователей с подпиской по месяцам выше, чем выручка от пользователей без подписки.  Проверим эту гипотезу:\n",
    "- Нулевая гипотеза: Средние значения помесячной выручки от пользователей с подпиской и без подписки равны\n",
    "- Альтернативная гипотеза: Среднее значение помесячной выручки от пользователей с подпиской выше, чем среднее значение помесячной выручки от пользователей без подписки.\n",
    "\n",
    "Чтобы принять решение о том, использовать ли генеральную совокупность или взять случайную выборку, а так же, что указывать в параметре `equal_var`, посмотрим на размер наших данных."
   ]
  },
  {
   "cell_type": "code",
   "execution_count": 64,
   "id": "3aafe208",
   "metadata": {},
   "outputs": [
    {
     "data": {
      "text/plain": [
       "4533"
      ]
     },
     "execution_count": 64,
     "metadata": {},
     "output_type": "execute_result"
    }
   ],
   "source": [
    "data_agg.loc[data_agg['subscription_fee'] == 199, 'income_month'].count()"
   ]
  },
  {
   "cell_type": "code",
   "execution_count": 65,
   "id": "cd75a2ca",
   "metadata": {},
   "outputs": [
    {
     "data": {
      "text/plain": [
       "6798"
      ]
     },
     "execution_count": 65,
     "metadata": {},
     "output_type": "execute_result"
    }
   ],
   "source": [
    "data_agg.loc[data_agg['subscription_fee'] == 0, 'income_month'].count()"
   ]
  },
  {
   "cell_type": "markdown",
   "id": "817f936f",
   "metadata": {},
   "source": [
    "Воспользуемся функцией, которая проверяет гипотезу о равенстве средних, используя t-критерий Стьюдента. Так как обе генеральные совокупности не очень большие, расчет можно провести на них. В связи с тем, что совокупности имеют разные размеры, укажем параметр equal_var=False.\n",
    "\n",
    "Так как будем проверять правостороннюю гипотезу, то есть \"больше\", в параметр alternative передаем \"greater\".\n",
    "\n",
    "Уровень значимости примем 0.05."
   ]
  },
  {
   "cell_type": "code",
   "execution_count": 66,
   "id": "7420021d",
   "metadata": {},
   "outputs": [
    {
     "name": "stdout",
     "output_type": "stream",
     "text": [
      "H0 (нулевая гипотеза): Средние значения помесячной выручки от пользователей с подпиской и без подписки равны\n",
      "H1 (альтернативная гипотеза): Среднее значение помесячной выручки от пользователей с подпиской выше, \n",
      "чем среднее значение помесячной выручки от пользователей без подписки\n",
      "Уровень значимости: 0.05\n",
      "\n",
      "Sample_1\n",
      "Среднее значение: 362.79, дисперсия: 7790.31\n",
      "\n",
      "Sample_2\n",
      "Среднее значение: 328.64, дисперсия: 33807.56\n",
      "\n",
      "p-значение: 0.00\n",
      "\n",
      "Отвергаем нулевую гипотезу\n"
     ]
    }
   ],
   "source": [
    "h0 = 'Средние значения помесячной выручки от пользователей с подпиской и без подписки равны'\n",
    "h1 = '''Среднее значение помесячной выручки от пользователей с подпиской выше, \n",
    "чем среднее значение помесячной выручки от пользователей без подписки'''\n",
    "alpha = .05\n",
    "alternative = 'greater'\n",
    "mean_hypothesis_two_sample(h0, \n",
    "                           h1, \n",
    "                           alpha, \n",
    "                           data_agg.loc[data_agg['subscription_fee'] == 199, 'income_month'], \n",
    "                           data_agg.loc[data_agg['subscription_fee'] == 0, 'income_month'], \n",
    "                           alternative, \n",
    "                           False)"
   ]
  },
  {
   "cell_type": "markdown",
   "id": "a99a3920",
   "metadata": {},
   "source": [
    "Мы видим, что средние значения помесячной выручки от пользователей с подпиской и без подписки не равны - среднее помесячной выручки от пользователей с подпиской больше, осталось понять, достаточно ли большое различие мы наблюдаем с учётом разброса, чтобы отвергнуть нулевую гипотезу об их равенстве.\n",
    "Мы получили значение p-value меньше 1% - это меньше заданного уровня значимости (даже если бы мы установили порог в 1%), то есть наблюдаемое значение очень маловероятно при такой нулевой гипотезе, и мы отвергаем её в пользу альтернативной. Есть основания говорить, что помесячная выручка от пользователей с подпиской по месяцам выше, чем выручка от пользователей без подписки."
   ]
  },
  {
   "cell_type": "markdown",
   "id": "a838c8f8",
   "metadata": {},
   "source": [
    "**Вывод:** данные, предоставленные нам, не противоречат гипотезе о том, что помесячная выручка от пользователей с подпиской по месяцам выше, чем выручка от пользователей без подписки. То есть в результате проверки гипотезы мы не можем ее отвергнуть."
   ]
  },
  {
   "cell_type": "markdown",
   "id": "61213c5e",
   "metadata": {},
   "source": [
    "## Распределения"
   ]
  },
  {
   "cell_type": "markdown",
   "id": "67391016",
   "metadata": {},
   "source": [
    "### Нахождение минимального количества промокодов, которые нужно разослать, чтобы вероятность не выполнить план была примерно 5 %"
   ]
  },
  {
   "cell_type": "markdown",
   "id": "04900419",
   "metadata": {},
   "source": [
    "Выясним, какое минимальное количество промокодов на один бесплатный месяц подписки нужно разослать, чтобы вероятность не выполнить план (100 существующих клиентов должны продлить эту подписку) была примерно 5 %. По предыдущим проведенным акциям было выяснено, что после бесплатного пробного периода подписку продлевают 10 % пользователей.\n",
    "\n",
    "В данном случае случайная величина распределена биномиально, так как:\n",
    "- проводится фиксированное число попыток;\n",
    "- каждая попытка — простой эксперимент Бернулли ровно с двумя исходами;\n",
    "- вероятность успеха одинакова для всех попыток;\n",
    "- попытки независимы между собой.\n",
    "\n",
    "Поэтому можно построить биномиальное распределение, то есть найти вероятности каждого возможного числа успехов. Чтобы выснить необходимое минимальное количество промокодов, нужно понять, при каких параметрах (количество промокодов) вероятность для значения меньше 100 будет составлять 5%. Это можно выяснить по биномиальному распределению, а так же с помощью метода cdf(), который считает вероятность, что случайная величина примет значение, меньшее заданного аргумента, то есть меньше 100. Чтобы воспользоваться методом cdf(), надо построить нормальное распределение: для биномиального распределения математическое ожидание равно произведению количества попыток и вероятности успеха, а стандартное отклонение равно корню из призведения количества попыток, вероятности успеха и вероятности неудачи.\n",
    "\n",
    "Начнем с рассылки 100*10 промокодов."
   ]
  },
  {
   "cell_type": "code",
   "execution_count": 71,
   "id": "67532808",
   "metadata": {},
   "outputs": [
    {
     "name": "stderr",
     "output_type": "stream",
     "text": [
      "/opt/conda/lib/python3.9/site-packages/scipy/stats/_discrete_distns.py:78: RuntimeWarning: divide by zero encountered in _binom_pdf\n",
      "  return _boost._binom_pdf(x, n, p)\n"
     ]
    },
    {
     "data": {
      "image/png": "[encoded data removed]",
      "text/plain": [
       "<Figure size 720x576 with 1 Axes>"
      ]
     },
     "metadata": {
      "needs_background": "light"
     },
     "output_type": "display_data"
    },
    {
     "name": "stdout",
     "output_type": "stream",
     "text": [
      "Вероятность получить 100 клиентов с подпиской или меньше равна: 0.5\n"
     ]
    }
   ],
   "source": [
    "p = 0.1 # вероятность успеха\n",
    "n = 1000 # количество попыток (промокодов)\n",
    "clients = 100 # количество клиентов, которых мы должны привлечь\n",
    "\n",
    "distr = []\n",
    "# находим вероятность каждого возможного числа успехов: от 0 до n\n",
    "for k in range(0, n+1):\n",
    "    prob = binom.pmf(k, n, p)\n",
    "    distr.append(prob)\n",
    "\n",
    "plt.bar(range(0, n+1), distr) # построим биномиальное распределение\n",
    "plt.xlabel('Количество пользователей, продливших подписку')\n",
    "plt.ylabel('Вероятность')\n",
    "plt.title('График биномиального распределения')\n",
    "plt.axvline(x=100, color='r') # проведем вертикальну черту от значения на оси х\n",
    "plt.show()\n",
    "\n",
    "# считаем вероятность получить значение, равное clients или меньше \n",
    "print(f'Вероятность получить 100 клиентов с подпиской или меньше равна: {st.norm(n*p, sqrt(n*p*(1-p))).cdf(clients)}')"
   ]
  },
  {
   "cell_type": "markdown",
   "id": "4845da0c",
   "metadata": {},
   "source": [
    "Если разослать 1000 промокодов, то 100 клиентов с продленной подпиской - самый вероятный результат. Однако, очень велика вероятность, что успехов будет меньше. В диапазоне от 0 до 100 успехов лежит примерно половина всего распределения. Это же показал и метод cdf().\n",
    "\n",
    "Увеличим количество промокодов до 1100, а так же изменим диапазон значений, на которых будет строиться график, чтобы можно было его разглядеть."
   ]
  },
  {
   "cell_type": "code",
   "execution_count": 72,
   "id": "4b01c0ab",
   "metadata": {},
   "outputs": [
    {
     "name": "stdout",
     "output_type": "stream",
     "text": [
      "Вероятность получить 100 клиентов с подпиской или меньше равна: 0.15743932066820998\n"
     ]
    },
    {
     "data": {
      "image/png": "[encoded data removed]",
      "text/plain": [
       "<Figure size 720x576 with 1 Axes>"
      ]
     },
     "metadata": {
      "needs_background": "light"
     },
     "output_type": "display_data"
    }
   ],
   "source": [
    "p = 0.1 # вероятность успеха\n",
    "n = 1100 # количество попыток (промокодов)\n",
    "clients = 100 # количество клиентов, которых мы должны привлечь\n",
    "\n",
    "distr = []\n",
    "# находим вероятность каждого возможного числа успехов: от 0 до n\n",
    "for k in range(0, 200):\n",
    "    prob = binom.pmf(k, n, p)\n",
    "    distr.append(prob)\n",
    "\n",
    "plt.bar(range(0, 200), distr) # построим биномиальное распределение\n",
    "plt.xlabel('Количество пользователей, продливших подписку')\n",
    "plt.ylabel('Вероятность')\n",
    "plt.title('График биномиального распределения')\n",
    "plt.axvline(x=100, color='r') # проведем вертикальну черту от значения на оси х\n",
    "# считаем вероятность получить значение, равное clients или меньше \n",
    "print(f'Вероятность получить 100 клиентов с подпиской или меньше равна: {st.norm(n*p, sqrt(n*p*(1-p))).cdf(clients)}')"
   ]
  },
  {
   "cell_type": "markdown",
   "id": "6a81f783",
   "metadata": {},
   "source": [
    "При рассылке 1100 промокодов ситуация уже лучше, однако в диапазоне от 0 до 100 все еще 16%.\n",
    "\n",
    "Увеличим еще количество промокодов."
   ]
  },
  {
   "cell_type": "code",
   "execution_count": 73,
   "id": "4116c586",
   "metadata": {},
   "outputs": [
    {
     "name": "stdout",
     "output_type": "stream",
     "text": [
      "Вероятность получить 100 клиентов с подпиской или меньше равна: 0.04971489312694162\n"
     ]
    },
    {
     "data": {
      "image/png": "[encoded data removed]",
      "text/plain": [
       "<Figure size 720x576 with 1 Axes>"
      ]
     },
     "metadata": {
      "needs_background": "light"
     },
     "output_type": "display_data"
    }
   ],
   "source": [
    "p = 0.1 # вероятность успеха\n",
    "n = 1169 # количество попыток (промокодов)\n",
    "clients = 100 # количество клиентов, которых мы должны привлечь\n",
    "\n",
    "distr = []\n",
    "# находим вероятность каждого возможного числа успехов: от 0 до n\n",
    "for k in range(0, 200):\n",
    "    prob = binom.pmf(k, n, p)\n",
    "    distr.append(prob)\n",
    "\n",
    "plt.bar(range(0, 200), distr) # построим биномиальное распределение\n",
    "plt.xlabel('Количество пользователей, продливших подписку')\n",
    "plt.ylabel('Вероятность')\n",
    "plt.title('График биномиального распределения')\n",
    "plt.axvline(x=100, color='r') # проведем вертикальну черту от значения на оси х\n",
    "# считаем вероятность получить значение, равное clients или меньше \n",
    "print(f'Вероятность получить 100 клиентов с подпиской или меньше равна: {st.norm(n*p, sqrt(n*p*(1-p))).cdf(clients)}')"
   ]
  },
  {
   "cell_type": "markdown",
   "id": "6d7c8c57",
   "metadata": {},
   "source": [
    "**Вывод:** построив биномиальное распределение и воспользовавшись методом cdf() выяснили, что необходимо разослать 1169 промокодов, чтобы вероятность получить 100 клиентов с платной подпиской была примерно 5 %."
   ]
  },
  {
   "cell_type": "markdown",
   "id": "a7c7ed1f",
   "metadata": {},
   "source": [
    "###  Оценка вероятности открытия push-уведомлений не более 399,5 тыс. пользователями"
   ]
  },
  {
   "cell_type": "markdown",
   "id": "2c463223",
   "metadata": {},
   "source": [
    "Отдел маркетинга рассылает клиентам push-уведомления в мобильном приложении. Клиенты могут открыть его или не открывать. Известно, что уведомления открывают около 40 % получивших клиентов. Отдел планирует разослать 1 млн уведомлений. Оценим вероятность того, что уведомление откроют не более 399,5 тыс. пользователей. Для этого с помощью аппроксимации построим примерный график распределения и с помощью метода cdf() рассчитаем вероятность.\n",
    "\n",
    "Так как p близка к 0.5 и n достаточно большой, то нормальное распределение должно дать хорошую аппроксимацию. Это можно проверить, посмотрев лежит ли промежуток от математического ожидания биномиального распределения плюс-минус три его стандартных отклонения в пределах [0,n] (то есть там, где биномиальное распределение определено)."
   ]
  },
  {
   "cell_type": "code",
   "execution_count": 74,
   "id": "65450bb4",
   "metadata": {},
   "outputs": [
    {
     "data": {
      "image/png": "[encoded data removed]",
      "text/plain": [
       "<Figure size 1152x576 with 2 Axes>"
      ]
     },
     "metadata": {
      "needs_background": "light"
     },
     "output_type": "display_data"
    },
    {
     "name": "stdout",
     "output_type": "stream",
     "text": [
      "Условие выполняется\n",
      "\n",
      "Вероятность, что уведомление откроют не более 399,5 тыс. пользователей равна: 0.15371708296369768\n"
     ]
    }
   ],
   "source": [
    "# зададим функцию, которая выдаёт <num> чисел, равномерно распределённых от <start> до <stop>\n",
    "# (понадобится для визуализации нормального распределения)\n",
    "def linspace(start, stop, num):\n",
    "    step = (stop - start) / (num - 1)\n",
    "    result = []\n",
    "    for i in range(num):\n",
    "        result.append(start + step * i)\n",
    "    return result\n",
    " \n",
    "# задаём параметры биномиального распределения\n",
    "n = 1000000\n",
    "p = 0.4\n",
    "\n",
    "# границы промежутка, в котором будем строить аппроксимацию - от n*p минус 3 ст.отклонения бином.распределения\n",
    "# до n*p плюс 3 ст.отклонения бином.распределения (там, где вероятности значений почти не равны нулю)\n",
    "left = int(n * p - 3 * sqrt(n * p * (1 - p)))\n",
    "right = int(n * p + 3 * sqrt(n * p * (1 - p)))\n",
    "\n",
    "# зададим параметры нормального распределения равными мат.ожиданию и дисперсии биномиального распределения\n",
    "mu = n * p\n",
    "sigma = sqrt(n * p * (1 - p))\n",
    " \n",
    "# рисуем график нормального распределения:\n",
    "# получим список из 100 чисел от left до right\n",
    "x = linspace(left, right, 100)\n",
    "\n",
    "f, ax = plt.subplots(1, 2, figsize=(16, 8)) # построим два графика рядом: задаем фигуру\n",
    "ax[0].plot(x, norm.pdf(x, mu, sigma), 'b-') # рисуем функцию плотности вероятности нормальнго распределения\n",
    "# указываем наименования осей и графика\n",
    "ax[0].set_xlabel('Количество пользователей, открывших уведомление')\n",
    "ax[0].set_ylabel('Плотность вероятности открытия уведомления пользователем')\n",
    "ax[0].set_title('Функция плотности вероятности нормального распределения')\n",
    "ax[0].axvline(x=399500, color='g', linestyle='--') # проведем вертикальну черту от значения на оси х\n",
    "ax[0].grid(True)\n",
    "\n",
    "ax[1].plot(x, st.norm(mu, sigma).cdf(x), 'r-') # рисуем кумулятивную функцию нормального распределения\n",
    "# указываем наименования осей и графика и выводим графики\n",
    "ax[1].set_xlabel('Количество пользователей, открывших уведомление')\n",
    "ax[1].set_ylabel('Вероятность открытия уведомления пользователем')\n",
    "ax[1].set_title('Кумулятивная функция нормального распределения')\n",
    "ax[1].grid(True)\n",
    "ax[1].axvline(x=399500, color='g', linestyle='--', ymin=0.1, ymax=0.28) # проведем вертикальну черту от значения на оси х\n",
    "\n",
    "plt.show()\n",
    "\n",
    "# выводим, выполняется ли наше условие аппроксимации:\n",
    "# лежит ли mu ± 3 sigma в промежутке от 0 до n:\n",
    "if (mu - (3 * sigma) >= 0) and ((mu + (3 * sigma) <= n)):\n",
    "    print('Условие выполняется')\n",
    "else:\n",
    "    print('Условие не выполняется')\n",
    "print('')\n",
    "# выводим вероятность хвоста слева от 399500\n",
    "print(f'Вероятность, что уведомление откроют не более 399,5 тыс. пользователей равна: {st.norm(mu, sigma).cdf(399500)}')"
   ]
  },
  {
   "cell_type": "markdown",
   "id": "bb7fb255",
   "metadata": {},
   "source": [
    "На графике с функцией плотности вероятности нормального распределения в диапазоне до 399500 лежит примерно 15% всего распределения. Это значение мы смогли вычислить с помощью метода cdf(). Так же на графике с кумулятивной функцией нормального распределения видно, что на значении в 39950 по оси х, вероятность открытия уведомления пользователем достигает примерно 15%."
   ]
  },
  {
   "cell_type": "markdown",
   "id": "1ea5b006",
   "metadata": {},
   "source": [
    "**Вывод:**\n",
    "- проверили, что в данном случае нормальное распределение дает хорошую аппроксимацию, так как промежуток от математического ожидания биномиального распределения плюс-минус три его стандартных отклонения в пределах [0,n];\n",
    "- построив график плотности вероятности нормального распределения и посчитав вероятность методом cdf() получили вероятность 15% того, что уведомление откроют не более 399,5 тыс. пользователей."
   ]
  },
  {
   "cell_type": "markdown",
   "id": "7d412b00",
   "metadata": {},
   "source": [
    "## Общий вывод"
   ]
  },
  {
   "cell_type": "markdown",
   "id": "adcd75a3",
   "metadata": {},
   "source": [
    "1. Мы провели обзор данных: нами были обнаружены и удалены дубликаты в датафрейме `users`, изменены типы данных в столбцах `date` и `duration` датафрейма `rides`.\n",
    "2. Проведя исследование данных выяснили, что:\n",
    "- чаще люди все-таки пользуются бесплатной версией сервиса - 54%;\n",
    "- больше всего сервисом прокатов самокатов пользуются люди в возрасте от 22 до 28 лет, особенно люди 25 лет - данные знания можно использовать в рекламных акциях, чтобы контент акций был более направлен на эту возрастную группу;\n",
    "- в данных по продолжительности и дальности поездок есть пик, близкий к 0. Пик около 0 продолжительности поездки составляют пользователи без подписки - вероятно, не имея опыта использования данного сервиса, люди решают попробовать, и возникают какие-то сложности. Можно посоветовать отделу маркетинга GoFast попробовать выяснить у таких пользователей, в чем возникла проблема: возможно им показался неинтуитивным интерфейс, они не смогли разобраться в нем, возможно есть какой-то баг в бесплатной версии приложения, либо еще что-то;\n",
    "- по данным о дальности поездок можно сказать, что пользователи с подпиской более предсказуемы - размах значений меньше, чем в данных о пользователях без подписки;\n",
    "- в данных есть \"странности\" - при изучении распределения данных по месяцам не была обнаружена просадка в зимние месяцы, как подсказывает логика, снижение количества поездок в зимние месяцы все-таки должно быть. Желательно обратиться к сотрудникам IT-отдела, чтобы проверить источник данных на наличие ошибок, которые могли возникнуть на одном из этапов работы с информацией: сбор, обработка, хранение, передача нам для анализа. Так же стоит рекомендовать отделу маркетинга использовать проведенное исследование при проведении акций, что может повысить их эффективность (нет смысла рассылать промокоды на бесплатный месяц подписки в зимние месяцы в городах, где температура опускается ниже 0 градусов). К тому же эксплуатация самокатов при минусовой температуре может иметь дополнительные риски и негативное влияние на износ самоката.\n",
    "\n",
    "Так же мы проверили 3 гипотезы, которые помогут понять продакт-менеджерам сервиса, стоит ли сосредоточиться на увеличении количества пользователей с подпиской.\n",
    "\n",
    "3. Первую гипотезу о том, что пользователи с подпиской тратят больше времени на поездки, в результате проверки мы приняли - данные, предоставленные нам, не противоречат этой гипотезе.\n",
    "4. Вторую гипотезу о том, что расстояние, которое проезжают пользователи с подпиской за одну поездку, не превышает 3130 метров — оптимальное с точки зрения износа самоката, мы не смогли отвергнуть. Точнее мы не отвергли гипотезу о том, что среднее значение дальности поездки пользователей с подпиской равно 3130 метра. При этом значение p-value составило 92%.\n",
    "5. Гипотезу о том, что помесячная выручка от пользователей с подпиской выше, чем помесячная выручка от пользователей без подписки, мы так же приняли.\n",
    "6. Таким образом, пользователи с подпиской не только тратят больше времени и денег за месяц, но так же и относятся более бережно к самокатам, вольно или невольно, - не превышают оптимальный с точки зрения износа самоката порог для дальности поездки - 3130 метров.\n",
    "7. Выяснили, что если разослать 1169 промокодов на один бесплатный месяц подписки, то с вероятностью в 95% не менее 100 существующих клиентов должны продлить эту подписку. \n",
    "8. Выяснили, что если разослать 1 млн push-уведомлений в приложении, то с 15%-ной вероятноятью уведомление откроют не более 399,5 тыс. пользователей. Не самые высокие показатели, возможно продакт-менеджерам стоит поискать другие канкалы информирования пользователей."
   ]
  }
 ],
 "metadata": {
  "ExecuteTimeLog": [
   {
    "duration": 464,
    "start_time": "2023-06-29T12:14:20.685Z"
   },
   {
    "duration": 30,
    "start_time": "2023-06-29T12:14:35.633Z"
   },
   {
    "duration": 15,
    "start_time": "2023-06-29T12:14:50.860Z"
   },
   {
    "duration": 29,
    "start_time": "2023-06-29T12:15:05.464Z"
   },
   {
    "duration": 10,
    "start_time": "2023-06-29T12:15:07.098Z"
   },
   {
    "duration": 100,
    "start_time": "2023-06-29T12:42:53.255Z"
   },
   {
    "duration": 7,
    "start_time": "2023-06-29T12:43:16.230Z"
   },
   {
    "duration": 75,
    "start_time": "2023-06-29T12:51:44.670Z"
   },
   {
    "duration": 112,
    "start_time": "2023-06-29T12:52:03.840Z"
   },
   {
    "duration": 158,
    "start_time": "2023-06-29T12:53:01.229Z"
   },
   {
    "duration": 12,
    "start_time": "2023-06-29T12:53:04.648Z"
   },
   {
    "duration": 26,
    "start_time": "2023-06-29T14:42:08.902Z"
   },
   {
    "duration": 20,
    "start_time": "2023-06-29T14:42:24.836Z"
   },
   {
    "duration": 28,
    "start_time": "2023-06-29T14:43:45.219Z"
   },
   {
    "duration": 20,
    "start_time": "2023-06-29T14:43:53.981Z"
   },
   {
    "duration": 35,
    "start_time": "2023-06-29T14:48:16.381Z"
   },
   {
    "duration": 25,
    "start_time": "2023-06-29T14:48:31.470Z"
   },
   {
    "duration": 18,
    "start_time": "2023-06-29T14:48:46.080Z"
   },
   {
    "duration": 22,
    "start_time": "2023-06-29T14:50:21.535Z"
   },
   {
    "duration": 27,
    "start_time": "2023-06-29T14:50:39.487Z"
   },
   {
    "duration": 11,
    "start_time": "2023-06-29T14:59:52.908Z"
   },
   {
    "duration": 17,
    "start_time": "2023-06-29T15:00:11.237Z"
   },
   {
    "duration": 9,
    "start_time": "2023-06-29T15:00:18.104Z"
   },
   {
    "duration": 9,
    "start_time": "2023-06-29T15:01:55.028Z"
   },
   {
    "duration": 3,
    "start_time": "2023-06-29T18:05:48.505Z"
   },
   {
    "duration": 3,
    "start_time": "2023-06-29T18:12:56.318Z"
   },
   {
    "duration": 268,
    "start_time": "2023-06-29T18:12:56.325Z"
   },
   {
    "duration": 12,
    "start_time": "2023-06-29T18:12:56.596Z"
   },
   {
    "duration": 15,
    "start_time": "2023-06-29T18:12:56.611Z"
   },
   {
    "duration": 10,
    "start_time": "2023-06-29T18:12:56.629Z"
   },
   {
    "duration": 11,
    "start_time": "2023-06-29T18:14:47.399Z"
   },
   {
    "duration": 8,
    "start_time": "2023-06-29T18:15:20.825Z"
   },
   {
    "duration": 8,
    "start_time": "2023-06-29T18:15:22.204Z"
   },
   {
    "duration": 8,
    "start_time": "2023-06-29T18:15:41.428Z"
   },
   {
    "duration": 769,
    "start_time": "2023-06-29T18:15:57.928Z"
   },
   {
    "duration": 8,
    "start_time": "2023-06-29T18:24:17.221Z"
   },
   {
    "duration": 19,
    "start_time": "2023-06-29T18:24:21.319Z"
   },
   {
    "duration": 10,
    "start_time": "2023-06-29T18:26:38.471Z"
   },
   {
    "duration": 431,
    "start_time": "2023-06-29T18:26:39.578Z"
   },
   {
    "duration": 11,
    "start_time": "2023-06-29T18:27:17.005Z"
   },
   {
    "duration": 477,
    "start_time": "2023-06-29T18:27:18.070Z"
   },
   {
    "duration": 11,
    "start_time": "2023-06-29T18:28:49.370Z"
   },
   {
    "duration": 24,
    "start_time": "2023-06-29T18:29:50.638Z"
   },
   {
    "duration": 8,
    "start_time": "2023-06-29T18:30:37.735Z"
   },
   {
    "duration": 8,
    "start_time": "2023-06-29T18:31:03.824Z"
   },
   {
    "duration": 11,
    "start_time": "2023-06-29T18:32:26.000Z"
   },
   {
    "duration": 392,
    "start_time": "2023-06-29T18:32:30.650Z"
   },
   {
    "duration": 9,
    "start_time": "2023-06-29T18:33:51.193Z"
   },
   {
    "duration": 415,
    "start_time": "2023-06-29T18:33:55.806Z"
   },
   {
    "duration": 11,
    "start_time": "2023-06-29T18:34:07.227Z"
   },
   {
    "duration": 13,
    "start_time": "2023-06-29T18:34:11.617Z"
   },
   {
    "duration": 7,
    "start_time": "2023-06-29T18:34:45.036Z"
   },
   {
    "duration": 520,
    "start_time": "2023-06-29T18:34:48.295Z"
   },
   {
    "duration": 6,
    "start_time": "2023-06-29T18:35:03.180Z"
   },
   {
    "duration": 56,
    "start_time": "2023-06-29T18:35:08.235Z"
   },
   {
    "duration": 6,
    "start_time": "2023-06-29T18:35:42.632Z"
   },
   {
    "duration": 16,
    "start_time": "2023-06-29T18:35:46.473Z"
   },
   {
    "duration": 8,
    "start_time": "2023-06-29T18:36:15.467Z"
   },
   {
    "duration": 38,
    "start_time": "2023-06-29T18:36:18.144Z"
   },
   {
    "duration": 10,
    "start_time": "2023-06-29T18:36:28.913Z"
   },
   {
    "duration": 33,
    "start_time": "2023-06-29T18:36:32.141Z"
   },
   {
    "duration": 7,
    "start_time": "2023-06-29T18:37:16.538Z"
   },
   {
    "duration": 39,
    "start_time": "2023-06-29T18:37:20.453Z"
   },
   {
    "duration": 13,
    "start_time": "2023-06-29T18:37:47.448Z"
   },
   {
    "duration": 27,
    "start_time": "2023-06-29T18:37:50.577Z"
   },
   {
    "duration": 7,
    "start_time": "2023-06-29T18:38:34.512Z"
   },
   {
    "duration": 20,
    "start_time": "2023-06-29T18:38:41.980Z"
   },
   {
    "duration": 22,
    "start_time": "2023-06-29T18:57:08.479Z"
   },
   {
    "duration": 6,
    "start_time": "2023-06-29T18:57:39.421Z"
   },
   {
    "duration": 38,
    "start_time": "2023-06-29T18:57:52.121Z"
   },
   {
    "duration": 22,
    "start_time": "2023-06-29T18:58:03.357Z"
   },
   {
    "duration": 8,
    "start_time": "2023-06-29T19:00:40.719Z"
   },
   {
    "duration": 8,
    "start_time": "2023-06-29T19:01:39.300Z"
   },
   {
    "duration": 20,
    "start_time": "2023-06-29T19:01:43.804Z"
   },
   {
    "duration": 11,
    "start_time": "2023-06-29T19:02:08.278Z"
   },
   {
    "duration": 26,
    "start_time": "2023-06-29T19:02:12.568Z"
   },
   {
    "duration": 7,
    "start_time": "2023-06-29T19:02:44.368Z"
   },
   {
    "duration": 20,
    "start_time": "2023-06-29T19:02:49.496Z"
   },
   {
    "duration": 8,
    "start_time": "2023-06-29T19:03:26.936Z"
   },
   {
    "duration": 25,
    "start_time": "2023-06-29T19:03:31.021Z"
   },
   {
    "duration": 11,
    "start_time": "2023-06-29T19:03:51.115Z"
   },
   {
    "duration": 32,
    "start_time": "2023-06-29T19:03:54.619Z"
   },
   {
    "duration": 8,
    "start_time": "2023-06-29T19:05:35.509Z"
   },
   {
    "duration": 35,
    "start_time": "2023-06-29T19:05:39.525Z"
   },
   {
    "duration": 9,
    "start_time": "2023-06-29T19:13:28.785Z"
   },
   {
    "duration": 41,
    "start_time": "2023-06-29T19:13:37.375Z"
   },
   {
    "duration": 48,
    "start_time": "2023-06-29T19:35:22.379Z"
   },
   {
    "duration": 1984,
    "start_time": "2023-06-29T19:52:19.194Z"
   },
   {
    "duration": 3,
    "start_time": "2023-06-29T19:52:30.392Z"
   },
   {
    "duration": 115,
    "start_time": "2023-06-29T19:52:30.398Z"
   },
   {
    "duration": 10,
    "start_time": "2023-06-29T19:52:30.515Z"
   },
   {
    "duration": 26,
    "start_time": "2023-06-29T19:52:30.527Z"
   },
   {
    "duration": 41,
    "start_time": "2023-06-29T19:52:30.555Z"
   },
   {
    "duration": 38,
    "start_time": "2023-06-29T19:52:30.598Z"
   },
   {
    "duration": 68,
    "start_time": "2023-06-29T19:52:30.638Z"
   },
   {
    "duration": 48,
    "start_time": "2023-06-29T19:52:30.707Z"
   },
   {
    "duration": 2308,
    "start_time": "2023-06-29T19:52:34.835Z"
   },
   {
    "duration": 9,
    "start_time": "2023-06-29T19:53:16.360Z"
   },
   {
    "duration": 6,
    "start_time": "2023-06-29T19:53:47.993Z"
   },
   {
    "duration": 8,
    "start_time": "2023-06-29T19:54:22.031Z"
   },
   {
    "duration": 6,
    "start_time": "2023-06-29T19:58:53.642Z"
   },
   {
    "duration": 11,
    "start_time": "2023-06-29T19:59:23.859Z"
   },
   {
    "duration": 8,
    "start_time": "2023-06-29T20:01:25.336Z"
   },
   {
    "duration": 8,
    "start_time": "2023-06-29T20:01:37.160Z"
   },
   {
    "duration": 5,
    "start_time": "2023-06-29T20:04:58.898Z"
   },
   {
    "duration": 6,
    "start_time": "2023-06-29T20:05:21.134Z"
   },
   {
    "duration": 8,
    "start_time": "2023-06-29T20:08:40.062Z"
   },
   {
    "duration": 9,
    "start_time": "2023-06-29T20:09:03.315Z"
   },
   {
    "duration": 7,
    "start_time": "2023-06-29T20:09:10.865Z"
   },
   {
    "duration": 26,
    "start_time": "2023-06-29T20:09:41.502Z"
   },
   {
    "duration": 10,
    "start_time": "2023-06-29T20:13:16.811Z"
   },
   {
    "duration": 22,
    "start_time": "2023-06-29T20:13:24.233Z"
   },
   {
    "duration": 16,
    "start_time": "2023-06-29T20:31:02.518Z"
   },
   {
    "duration": 11,
    "start_time": "2023-06-29T20:32:41.335Z"
   },
   {
    "duration": 6,
    "start_time": "2023-06-29T20:32:46.705Z"
   },
   {
    "duration": 6,
    "start_time": "2023-06-29T20:32:49.846Z"
   },
   {
    "duration": 10,
    "start_time": "2023-06-29T20:32:53.966Z"
   },
   {
    "duration": 7,
    "start_time": "2023-06-29T20:33:00.706Z"
   },
   {
    "duration": 6,
    "start_time": "2023-06-29T20:33:21.499Z"
   },
   {
    "duration": 17,
    "start_time": "2023-06-29T20:33:35.367Z"
   },
   {
    "duration": 7,
    "start_time": "2023-06-29T20:33:41.614Z"
   },
   {
    "duration": 10,
    "start_time": "2023-06-29T20:33:52.453Z"
   },
   {
    "duration": 2,
    "start_time": "2023-06-29T20:34:03.005Z"
   },
   {
    "duration": 72,
    "start_time": "2023-06-29T20:34:03.010Z"
   },
   {
    "duration": 10,
    "start_time": "2023-06-29T20:34:03.084Z"
   },
   {
    "duration": 15,
    "start_time": "2023-06-29T20:34:03.096Z"
   },
   {
    "duration": 10,
    "start_time": "2023-06-29T20:34:03.113Z"
   },
   {
    "duration": 10,
    "start_time": "2023-06-29T20:34:03.125Z"
   },
   {
    "duration": 43,
    "start_time": "2023-06-29T20:34:03.136Z"
   },
   {
    "duration": 43,
    "start_time": "2023-06-29T20:34:03.181Z"
   },
   {
    "duration": 28,
    "start_time": "2023-06-29T20:34:03.226Z"
   },
   {
    "duration": 10,
    "start_time": "2023-06-29T20:34:03.256Z"
   },
   {
    "duration": 9,
    "start_time": "2023-06-29T20:34:03.268Z"
   },
   {
    "duration": 11,
    "start_time": "2023-06-29T20:34:03.278Z"
   },
   {
    "duration": 9,
    "start_time": "2023-06-29T20:34:03.290Z"
   },
   {
    "duration": 15,
    "start_time": "2023-06-29T20:34:10.064Z"
   },
   {
    "duration": 9,
    "start_time": "2023-06-29T20:34:13.796Z"
   },
   {
    "duration": 8,
    "start_time": "2023-06-29T20:34:16.422Z"
   },
   {
    "duration": 16,
    "start_time": "2023-06-29T20:34:27.120Z"
   },
   {
    "duration": 9,
    "start_time": "2023-06-29T20:34:39.301Z"
   },
   {
    "duration": 7,
    "start_time": "2023-06-29T20:34:41.409Z"
   },
   {
    "duration": 11,
    "start_time": "2023-06-29T20:37:26.431Z"
   },
   {
    "duration": 8,
    "start_time": "2023-06-29T20:37:38.764Z"
   },
   {
    "duration": 7,
    "start_time": "2023-06-29T20:37:41.652Z"
   },
   {
    "duration": 5,
    "start_time": "2023-06-29T20:39:50.762Z"
   },
   {
    "duration": 9,
    "start_time": "2023-06-29T20:43:25.903Z"
   },
   {
    "duration": 7,
    "start_time": "2023-06-29T20:47:52.603Z"
   },
   {
    "duration": 435,
    "start_time": "2023-06-29T20:49:19.026Z"
   },
   {
    "duration": 301,
    "start_time": "2023-06-29T20:52:21.149Z"
   },
   {
    "duration": 150,
    "start_time": "2023-06-29T20:52:59.030Z"
   },
   {
    "duration": 271,
    "start_time": "2023-06-29T20:56:15.301Z"
   },
   {
    "duration": 181,
    "start_time": "2023-06-29T20:58:46.114Z"
   },
   {
    "duration": 7,
    "start_time": "2023-06-29T21:04:41.635Z"
   },
   {
    "duration": 179,
    "start_time": "2023-06-29T21:10:52.425Z"
   },
   {
    "duration": 144,
    "start_time": "2023-06-29T21:11:03.702Z"
   },
   {
    "duration": 151,
    "start_time": "2023-06-29T21:13:24.575Z"
   },
   {
    "duration": 27,
    "start_time": "2023-06-29T21:19:23.221Z"
   },
   {
    "duration": 7,
    "start_time": "2023-06-29T21:22:11.766Z"
   },
   {
    "duration": 7,
    "start_time": "2023-06-29T21:23:04.904Z"
   },
   {
    "duration": 9,
    "start_time": "2023-06-29T21:23:24.701Z"
   },
   {
    "duration": 8,
    "start_time": "2023-06-29T21:24:09.068Z"
   },
   {
    "duration": 7,
    "start_time": "2023-06-29T21:27:37.505Z"
   },
   {
    "duration": 281,
    "start_time": "2023-06-29T21:28:53.708Z"
   },
   {
    "duration": 9,
    "start_time": "2023-06-29T21:29:11.405Z"
   },
   {
    "duration": 291,
    "start_time": "2023-06-29T21:29:29.499Z"
   },
   {
    "duration": 89,
    "start_time": "2023-06-29T21:30:23.845Z"
   },
   {
    "duration": 10,
    "start_time": "2023-06-29T21:30:36.304Z"
   },
   {
    "duration": 9,
    "start_time": "2023-06-29T21:31:05.042Z"
   },
   {
    "duration": 10,
    "start_time": "2023-06-29T21:31:39.363Z"
   },
   {
    "duration": 9,
    "start_time": "2023-06-29T21:31:54.410Z"
   },
   {
    "duration": 11,
    "start_time": "2023-06-29T21:32:16.301Z"
   },
   {
    "duration": 6,
    "start_time": "2023-06-29T21:33:26.076Z"
   },
   {
    "duration": 12,
    "start_time": "2023-06-29T21:33:56.801Z"
   },
   {
    "duration": 10,
    "start_time": "2023-06-29T21:34:03.542Z"
   },
   {
    "duration": 11,
    "start_time": "2023-06-29T21:34:08.859Z"
   },
   {
    "duration": 19,
    "start_time": "2023-06-29T21:34:20.333Z"
   },
   {
    "duration": 9,
    "start_time": "2023-06-29T21:34:41.144Z"
   },
   {
    "duration": 8,
    "start_time": "2023-06-29T21:34:56.154Z"
   },
   {
    "duration": 7,
    "start_time": "2023-06-29T21:35:33.704Z"
   },
   {
    "duration": 269,
    "start_time": "2023-06-29T21:35:42.904Z"
   },
   {
    "duration": 349,
    "start_time": "2023-06-29T21:36:11.471Z"
   },
   {
    "duration": 15,
    "start_time": "2023-06-29T22:16:37.399Z"
   },
   {
    "duration": 293,
    "start_time": "2023-06-29T22:17:11.043Z"
   },
   {
    "duration": 303,
    "start_time": "2023-06-29T22:20:35.437Z"
   },
   {
    "duration": 12,
    "start_time": "2023-06-29T22:21:51.905Z"
   },
   {
    "duration": 22,
    "start_time": "2023-06-29T22:23:56.367Z"
   },
   {
    "duration": 391,
    "start_time": "2023-06-29T22:24:07.776Z"
   },
   {
    "duration": 273,
    "start_time": "2023-06-29T22:28:26.167Z"
   },
   {
    "duration": 297,
    "start_time": "2023-06-29T22:29:23.053Z"
   },
   {
    "duration": 282,
    "start_time": "2023-06-29T22:29:42.568Z"
   },
   {
    "duration": 8,
    "start_time": "2023-06-29T22:38:28.212Z"
   },
   {
    "duration": 6,
    "start_time": "2023-06-29T22:39:20.135Z"
   },
   {
    "duration": 8,
    "start_time": "2023-06-29T22:39:41.211Z"
   },
   {
    "duration": 8,
    "start_time": "2023-06-29T22:40:13.275Z"
   },
   {
    "duration": 17,
    "start_time": "2023-06-29T22:40:21.346Z"
   },
   {
    "duration": 382,
    "start_time": "2023-06-29T22:40:45.762Z"
   },
   {
    "duration": 282,
    "start_time": "2023-06-29T22:56:08.888Z"
   },
   {
    "duration": 57,
    "start_time": "2023-06-30T10:57:29.035Z"
   },
   {
    "duration": 755,
    "start_time": "2023-06-30T10:57:35.613Z"
   },
   {
    "duration": 311,
    "start_time": "2023-06-30T10:57:36.370Z"
   },
   {
    "duration": 11,
    "start_time": "2023-06-30T10:57:36.683Z"
   },
   {
    "duration": 13,
    "start_time": "2023-06-30T10:57:36.696Z"
   },
   {
    "duration": 8,
    "start_time": "2023-06-30T10:57:36.711Z"
   },
   {
    "duration": 8,
    "start_time": "2023-06-30T10:57:36.721Z"
   },
   {
    "duration": 31,
    "start_time": "2023-06-30T10:57:36.730Z"
   },
   {
    "duration": 39,
    "start_time": "2023-06-30T10:57:36.763Z"
   },
   {
    "duration": 7,
    "start_time": "2023-06-30T10:57:36.803Z"
   },
   {
    "duration": 6,
    "start_time": "2023-06-30T10:57:36.811Z"
   },
   {
    "duration": 6,
    "start_time": "2023-06-30T10:57:36.818Z"
   },
   {
    "duration": 7,
    "start_time": "2023-06-30T10:57:36.825Z"
   },
   {
    "duration": 6,
    "start_time": "2023-06-30T10:57:36.833Z"
   },
   {
    "duration": 14,
    "start_time": "2023-06-30T10:57:36.868Z"
   },
   {
    "duration": 4,
    "start_time": "2023-06-30T10:57:36.883Z"
   },
   {
    "duration": 6,
    "start_time": "2023-06-30T10:57:36.888Z"
   },
   {
    "duration": 4,
    "start_time": "2023-06-30T10:57:36.895Z"
   },
   {
    "duration": 10,
    "start_time": "2023-06-30T10:57:36.900Z"
   },
   {
    "duration": 4,
    "start_time": "2023-06-30T10:57:36.912Z"
   },
   {
    "duration": 193,
    "start_time": "2023-06-30T10:57:36.918Z"
   },
   {
    "duration": 6,
    "start_time": "2023-06-30T10:57:37.113Z"
   },
   {
    "duration": 143,
    "start_time": "2023-06-30T10:57:37.120Z"
   },
   {
    "duration": 7,
    "start_time": "2023-06-30T10:57:37.269Z"
   },
   {
    "duration": 7,
    "start_time": "2023-06-30T10:57:37.277Z"
   },
   {
    "duration": 267,
    "start_time": "2023-06-30T10:57:37.286Z"
   },
   {
    "duration": 305,
    "start_time": "2023-06-30T10:57:41.234Z"
   },
   {
    "duration": 294,
    "start_time": "2023-06-30T10:59:32.165Z"
   },
   {
    "duration": 249,
    "start_time": "2023-06-30T11:00:46.512Z"
   },
   {
    "duration": 253,
    "start_time": "2023-06-30T11:01:15.543Z"
   },
   {
    "duration": 284,
    "start_time": "2023-06-30T11:02:11.665Z"
   },
   {
    "duration": 322,
    "start_time": "2023-06-30T11:26:05.896Z"
   },
   {
    "duration": 212,
    "start_time": "2023-06-30T11:26:13.750Z"
   },
   {
    "duration": 262,
    "start_time": "2023-06-30T11:26:22.764Z"
   },
   {
    "duration": 207,
    "start_time": "2023-06-30T11:26:31.311Z"
   },
   {
    "duration": 267,
    "start_time": "2023-06-30T11:27:33.000Z"
   },
   {
    "duration": 140,
    "start_time": "2023-06-30T11:40:55.164Z"
   },
   {
    "duration": 38,
    "start_time": "2023-06-30T11:43:31.651Z"
   },
   {
    "duration": 154,
    "start_time": "2023-06-30T11:44:38.257Z"
   },
   {
    "duration": 137,
    "start_time": "2023-06-30T11:45:02.056Z"
   },
   {
    "duration": 132,
    "start_time": "2023-06-30T11:45:17.815Z"
   },
   {
    "duration": 212,
    "start_time": "2023-06-30T11:45:38.699Z"
   },
   {
    "duration": 133,
    "start_time": "2023-06-30T11:46:53.684Z"
   },
   {
    "duration": 180,
    "start_time": "2023-06-30T11:47:08.966Z"
   },
   {
    "duration": 136,
    "start_time": "2023-06-30T11:57:07.985Z"
   },
   {
    "duration": 134,
    "start_time": "2023-06-30T12:02:03.436Z"
   },
   {
    "duration": 29,
    "start_time": "2023-06-30T12:08:37.742Z"
   },
   {
    "duration": 8,
    "start_time": "2023-06-30T12:11:55.467Z"
   },
   {
    "duration": 10,
    "start_time": "2023-06-30T12:12:03.311Z"
   },
   {
    "duration": 10,
    "start_time": "2023-06-30T12:12:06.079Z"
   },
   {
    "duration": 24,
    "start_time": "2023-06-30T12:12:15.188Z"
   },
   {
    "duration": 17,
    "start_time": "2023-06-30T12:12:22.615Z"
   },
   {
    "duration": 13,
    "start_time": "2023-06-30T12:20:14.138Z"
   },
   {
    "duration": 19,
    "start_time": "2023-06-30T12:20:21.004Z"
   },
   {
    "duration": 15,
    "start_time": "2023-06-30T12:20:31.237Z"
   },
   {
    "duration": 15,
    "start_time": "2023-06-30T12:21:22.232Z"
   },
   {
    "duration": 302,
    "start_time": "2023-06-30T12:25:42.932Z"
   },
   {
    "duration": 64,
    "start_time": "2023-06-30T17:16:07.563Z"
   },
   {
    "duration": 930,
    "start_time": "2023-06-30T17:16:13.504Z"
   },
   {
    "duration": 220,
    "start_time": "2023-06-30T17:16:14.436Z"
   },
   {
    "duration": 16,
    "start_time": "2023-06-30T17:16:14.658Z"
   },
   {
    "duration": 19,
    "start_time": "2023-06-30T17:16:14.677Z"
   },
   {
    "duration": 29,
    "start_time": "2023-06-30T17:16:14.698Z"
   },
   {
    "duration": 18,
    "start_time": "2023-06-30T17:16:14.729Z"
   },
   {
    "duration": 73,
    "start_time": "2023-06-30T17:16:14.749Z"
   },
   {
    "duration": 48,
    "start_time": "2023-06-30T17:16:14.824Z"
   },
   {
    "duration": 11,
    "start_time": "2023-06-30T17:16:14.874Z"
   },
   {
    "duration": 39,
    "start_time": "2023-06-30T17:16:14.889Z"
   },
   {
    "duration": 16,
    "start_time": "2023-06-30T17:16:14.930Z"
   },
   {
    "duration": 15,
    "start_time": "2023-06-30T17:16:14.948Z"
   },
   {
    "duration": 22,
    "start_time": "2023-06-30T17:16:14.965Z"
   },
   {
    "duration": 48,
    "start_time": "2023-06-30T17:16:14.989Z"
   },
   {
    "duration": 9,
    "start_time": "2023-06-30T17:16:15.039Z"
   },
   {
    "duration": 32,
    "start_time": "2023-06-30T17:16:15.050Z"
   },
   {
    "duration": 20,
    "start_time": "2023-06-30T17:16:15.084Z"
   },
   {
    "duration": 26,
    "start_time": "2023-06-30T17:16:15.106Z"
   },
   {
    "duration": 7,
    "start_time": "2023-06-30T17:16:15.134Z"
   },
   {
    "duration": 221,
    "start_time": "2023-06-30T17:16:15.143Z"
   },
   {
    "duration": 8,
    "start_time": "2023-06-30T17:16:15.367Z"
   },
   {
    "duration": 185,
    "start_time": "2023-06-30T17:16:15.378Z"
   },
   {
    "duration": 10,
    "start_time": "2023-06-30T17:16:15.566Z"
   },
   {
    "duration": 12,
    "start_time": "2023-06-30T17:16:15.578Z"
   },
   {
    "duration": 346,
    "start_time": "2023-06-30T17:16:15.593Z"
   },
   {
    "duration": 247,
    "start_time": "2023-06-30T17:16:15.940Z"
   },
   {
    "duration": 345,
    "start_time": "2023-06-30T17:16:16.188Z"
   },
   {
    "duration": 203,
    "start_time": "2023-06-30T17:16:16.537Z"
   },
   {
    "duration": 386,
    "start_time": "2023-06-30T17:16:16.743Z"
   },
   {
    "duration": 224,
    "start_time": "2023-06-30T17:16:17.131Z"
   },
   {
    "duration": 222,
    "start_time": "2023-06-30T17:16:17.357Z"
   },
   {
    "duration": 26,
    "start_time": "2023-06-30T17:16:17.581Z"
   },
   {
    "duration": 50,
    "start_time": "2023-06-30T17:16:17.609Z"
   },
   {
    "duration": 23,
    "start_time": "2023-06-30T17:16:17.661Z"
   },
   {
    "duration": 26,
    "start_time": "2023-06-30T17:16:17.687Z"
   },
   {
    "duration": 376,
    "start_time": "2023-06-30T17:16:17.715Z"
   },
   {
    "duration": 410,
    "start_time": "2023-06-30T17:16:20.970Z"
   },
   {
    "duration": 350,
    "start_time": "2023-06-30T17:16:31.324Z"
   },
   {
    "duration": 370,
    "start_time": "2023-06-30T17:16:38.972Z"
   },
   {
    "duration": 343,
    "start_time": "2023-06-30T17:17:06.101Z"
   },
   {
    "duration": 39,
    "start_time": "2023-06-30T17:20:12.088Z"
   },
   {
    "duration": 18296,
    "start_time": "2023-06-30T17:21:11.721Z"
   },
   {
    "duration": 1523,
    "start_time": "2023-06-30T17:21:39.113Z"
   },
   {
    "duration": 13,
    "start_time": "2023-06-30T17:25:06.470Z"
   },
   {
    "duration": 8030,
    "start_time": "2023-06-30T17:25:23.937Z"
   },
   {
    "duration": 9,
    "start_time": "2023-06-30T17:29:05.171Z"
   },
   {
    "duration": 7227,
    "start_time": "2023-06-30T17:29:12.672Z"
   },
   {
    "duration": 3,
    "start_time": "2023-06-30T17:35:49.515Z"
   },
   {
    "duration": 4,
    "start_time": "2023-06-30T18:07:08.587Z"
   },
   {
    "duration": 2,
    "start_time": "2023-06-30T18:08:09.827Z"
   },
   {
    "duration": 14,
    "start_time": "2023-06-30T18:08:10.564Z"
   },
   {
    "duration": 1110,
    "start_time": "2023-06-30T18:08:16.643Z"
   },
   {
    "duration": 1941,
    "start_time": "2023-06-30T18:08:39.227Z"
   },
   {
    "duration": 21,
    "start_time": "2023-06-30T18:10:27.363Z"
   },
   {
    "duration": 282,
    "start_time": "2023-06-30T18:10:41.774Z"
   },
   {
    "duration": 882,
    "start_time": "2023-06-30T18:12:40.989Z"
   },
   {
    "duration": 84,
    "start_time": "2023-06-30T18:14:00.859Z"
   },
   {
    "duration": 242,
    "start_time": "2023-06-30T18:15:20.114Z"
   },
   {
    "duration": 18,
    "start_time": "2023-06-30T18:17:21.244Z"
   },
   {
    "duration": 196,
    "start_time": "2023-06-30T18:17:29.812Z"
   },
   {
    "duration": 28,
    "start_time": "2023-06-30T18:20:00.202Z"
   },
   {
    "duration": 586,
    "start_time": "2023-06-30T18:20:27.798Z"
   },
   {
    "duration": 85,
    "start_time": "2023-06-30T18:21:42.550Z"
   },
   {
    "duration": 175,
    "start_time": "2023-06-30T18:22:17.264Z"
   },
   {
    "duration": 100,
    "start_time": "2023-06-30T18:25:27.126Z"
   },
   {
    "duration": 236,
    "start_time": "2023-06-30T19:12:14.672Z"
   },
   {
    "duration": 4,
    "start_time": "2023-06-30T19:12:30.771Z"
   },
   {
    "duration": 188,
    "start_time": "2023-06-30T19:12:30.783Z"
   },
   {
    "duration": 11,
    "start_time": "2023-06-30T19:12:30.974Z"
   },
   {
    "duration": 57,
    "start_time": "2023-06-30T19:12:30.988Z"
   },
   {
    "duration": 61,
    "start_time": "2023-06-30T19:12:31.047Z"
   },
   {
    "duration": 22,
    "start_time": "2023-06-30T19:12:31.111Z"
   },
   {
    "duration": 102,
    "start_time": "2023-06-30T19:12:31.135Z"
   },
   {
    "duration": 61,
    "start_time": "2023-06-30T19:12:31.239Z"
   },
   {
    "duration": 23,
    "start_time": "2023-06-30T19:12:31.302Z"
   },
   {
    "duration": 63,
    "start_time": "2023-06-30T19:12:31.327Z"
   },
   {
    "duration": 35,
    "start_time": "2023-06-30T19:12:31.392Z"
   },
   {
    "duration": 63,
    "start_time": "2023-06-30T19:12:31.429Z"
   },
   {
    "duration": 98,
    "start_time": "2023-06-30T19:12:31.494Z"
   },
   {
    "duration": 70,
    "start_time": "2023-06-30T19:12:31.594Z"
   },
   {
    "duration": 34,
    "start_time": "2023-06-30T19:12:31.669Z"
   },
   {
    "duration": 34,
    "start_time": "2023-06-30T19:12:31.705Z"
   },
   {
    "duration": 32,
    "start_time": "2023-06-30T19:12:31.741Z"
   },
   {
    "duration": 27,
    "start_time": "2023-06-30T19:12:31.775Z"
   },
   {
    "duration": 23,
    "start_time": "2023-06-30T19:12:31.804Z"
   },
   {
    "duration": 218,
    "start_time": "2023-06-30T19:12:31.828Z"
   },
   {
    "duration": 13,
    "start_time": "2023-06-30T19:12:32.048Z"
   },
   {
    "duration": 229,
    "start_time": "2023-06-30T19:12:32.063Z"
   },
   {
    "duration": 9,
    "start_time": "2023-06-30T19:12:32.295Z"
   },
   {
    "duration": 33,
    "start_time": "2023-06-30T19:12:32.306Z"
   },
   {
    "duration": 396,
    "start_time": "2023-06-30T19:12:32.342Z"
   },
   {
    "duration": 174,
    "start_time": "2023-06-30T19:12:32.740Z"
   },
   {
    "duration": 347,
    "start_time": "2023-06-30T19:12:32.916Z"
   },
   {
    "duration": 175,
    "start_time": "2023-06-30T19:12:33.266Z"
   },
   {
    "duration": 332,
    "start_time": "2023-06-30T19:12:33.443Z"
   },
   {
    "duration": 184,
    "start_time": "2023-06-30T19:12:33.778Z"
   },
   {
    "duration": 425,
    "start_time": "2023-06-30T19:12:33.965Z"
   },
   {
    "duration": 25,
    "start_time": "2023-06-30T19:12:34.392Z"
   },
   {
    "duration": 53,
    "start_time": "2023-06-30T19:12:34.419Z"
   },
   {
    "duration": 37,
    "start_time": "2023-06-30T19:12:34.474Z"
   },
   {
    "duration": 26,
    "start_time": "2023-06-30T19:12:34.513Z"
   },
   {
    "duration": 31,
    "start_time": "2023-06-30T19:12:34.541Z"
   },
   {
    "duration": 298,
    "start_time": "2023-06-30T19:12:37.077Z"
   },
   {
    "duration": 239,
    "start_time": "2023-06-30T19:12:39.995Z"
   },
   {
    "duration": 236,
    "start_time": "2023-06-30T19:12:50.156Z"
   },
   {
    "duration": 270,
    "start_time": "2023-06-30T19:13:24.191Z"
   },
   {
    "duration": 91,
    "start_time": "2023-06-30T19:14:15.833Z"
   },
   {
    "duration": 102,
    "start_time": "2023-06-30T19:15:40.159Z"
   },
   {
    "duration": 91,
    "start_time": "2023-06-30T19:16:56.713Z"
   },
   {
    "duration": 106,
    "start_time": "2023-06-30T19:22:30.841Z"
   },
   {
    "duration": 101,
    "start_time": "2023-06-30T19:28:58.524Z"
   },
   {
    "duration": 213,
    "start_time": "2023-06-30T19:29:16.073Z"
   },
   {
    "duration": 205,
    "start_time": "2023-06-30T19:41:16.284Z"
   },
   {
    "duration": 268,
    "start_time": "2023-06-30T19:41:44.880Z"
   },
   {
    "duration": 359,
    "start_time": "2023-06-30T19:47:00.824Z"
   },
   {
    "duration": 19,
    "start_time": "2023-06-30T19:47:42.196Z"
   },
   {
    "duration": 15,
    "start_time": "2023-06-30T19:47:47.333Z"
   },
   {
    "duration": 673,
    "start_time": "2023-06-30T19:48:03.455Z"
   },
   {
    "duration": 495,
    "start_time": "2023-06-30T19:50:03.693Z"
   },
   {
    "duration": 610,
    "start_time": "2023-06-30T19:51:04.497Z"
   },
   {
    "duration": 586,
    "start_time": "2023-06-30T19:53:25.749Z"
   },
   {
    "duration": 294,
    "start_time": "2023-06-30T20:05:48.725Z"
   },
   {
    "duration": 18,
    "start_time": "2023-06-30T20:10:42.829Z"
   },
   {
    "duration": 4,
    "start_time": "2023-06-30T20:10:57.625Z"
   },
   {
    "duration": 3,
    "start_time": "2023-06-30T20:11:04.342Z"
   },
   {
    "duration": 388,
    "start_time": "2023-06-30T20:11:41.429Z"
   },
   {
    "duration": 156,
    "start_time": "2023-06-30T20:12:38.770Z"
   },
   {
    "duration": 151,
    "start_time": "2023-06-30T20:12:43.791Z"
   },
   {
    "duration": 190,
    "start_time": "2023-06-30T20:13:16.283Z"
   },
   {
    "duration": 166,
    "start_time": "2023-06-30T20:14:17.399Z"
   },
   {
    "duration": 182,
    "start_time": "2023-06-30T20:16:01.871Z"
   },
   {
    "duration": 171,
    "start_time": "2023-06-30T20:16:12.247Z"
   },
   {
    "duration": 185,
    "start_time": "2023-06-30T20:16:20.648Z"
   },
   {
    "duration": 167,
    "start_time": "2023-06-30T20:16:27.718Z"
   },
   {
    "duration": 193,
    "start_time": "2023-06-30T20:16:33.585Z"
   },
   {
    "duration": 147,
    "start_time": "2023-06-30T20:16:43.023Z"
   },
   {
    "duration": 151,
    "start_time": "2023-06-30T20:16:51.070Z"
   },
   {
    "duration": 163,
    "start_time": "2023-06-30T20:16:54.946Z"
   },
   {
    "duration": 186,
    "start_time": "2023-06-30T20:17:01.572Z"
   },
   {
    "duration": 213,
    "start_time": "2023-06-30T20:17:10.010Z"
   },
   {
    "duration": 229,
    "start_time": "2023-06-30T20:17:19.069Z"
   },
   {
    "duration": 229,
    "start_time": "2023-06-30T20:17:23.927Z"
   },
   {
    "duration": 226,
    "start_time": "2023-06-30T20:17:31.092Z"
   },
   {
    "duration": 227,
    "start_time": "2023-06-30T20:17:40.109Z"
   },
   {
    "duration": 210,
    "start_time": "2023-06-30T20:17:55.008Z"
   },
   {
    "duration": 187,
    "start_time": "2023-06-30T20:18:13.371Z"
   },
   {
    "duration": 180,
    "start_time": "2023-06-30T20:18:21.837Z"
   },
   {
    "duration": 173,
    "start_time": "2023-06-30T20:18:23.147Z"
   },
   {
    "duration": 186,
    "start_time": "2023-06-30T20:18:34.832Z"
   },
   {
    "duration": 188,
    "start_time": "2023-06-30T20:18:40.266Z"
   },
   {
    "duration": 180,
    "start_time": "2023-06-30T20:20:08.337Z"
   },
   {
    "duration": 325,
    "start_time": "2023-06-30T20:20:08.520Z"
   },
   {
    "duration": 362,
    "start_time": "2023-06-30T20:22:53.371Z"
   },
   {
    "duration": 194,
    "start_time": "2023-06-30T20:27:42.086Z"
   },
   {
    "duration": 203,
    "start_time": "2023-06-30T20:27:59.748Z"
   },
   {
    "duration": 195,
    "start_time": "2023-06-30T20:28:53.220Z"
   },
   {
    "duration": 192,
    "start_time": "2023-06-30T20:29:20.968Z"
   },
   {
    "duration": 190,
    "start_time": "2023-06-30T20:29:48.566Z"
   },
   {
    "duration": 3,
    "start_time": "2023-06-30T20:35:30.992Z"
   },
   {
    "duration": 17,
    "start_time": "2023-06-30T20:36:11.095Z"
   },
   {
    "duration": 152,
    "start_time": "2023-06-30T20:42:53.267Z"
   },
   {
    "duration": 161,
    "start_time": "2023-06-30T20:43:08.187Z"
   },
   {
    "duration": 152,
    "start_time": "2023-06-30T20:48:33.032Z"
   },
   {
    "duration": 156,
    "start_time": "2023-06-30T21:05:59.641Z"
   },
   {
    "duration": 40,
    "start_time": "2023-06-30T21:14:51.506Z"
   },
   {
    "duration": 156,
    "start_time": "2023-06-30T21:21:39.386Z"
   },
   {
    "duration": 3,
    "start_time": "2023-06-30T21:21:55.977Z"
   },
   {
    "duration": 85,
    "start_time": "2023-06-30T21:21:55.981Z"
   },
   {
    "duration": 8,
    "start_time": "2023-06-30T21:21:56.068Z"
   },
   {
    "duration": 16,
    "start_time": "2023-06-30T21:21:56.078Z"
   },
   {
    "duration": 11,
    "start_time": "2023-06-30T21:21:56.097Z"
   },
   {
    "duration": 12,
    "start_time": "2023-06-30T21:21:56.110Z"
   },
   {
    "duration": 60,
    "start_time": "2023-06-30T21:21:56.124Z"
   },
   {
    "duration": 53,
    "start_time": "2023-06-30T21:21:56.186Z"
   },
   {
    "duration": 20,
    "start_time": "2023-06-30T21:21:56.241Z"
   },
   {
    "duration": 8,
    "start_time": "2023-06-30T21:21:56.263Z"
   },
   {
    "duration": 22,
    "start_time": "2023-06-30T21:21:56.274Z"
   },
   {
    "duration": 29,
    "start_time": "2023-06-30T21:21:56.297Z"
   },
   {
    "duration": 12,
    "start_time": "2023-06-30T21:21:56.329Z"
   },
   {
    "duration": 26,
    "start_time": "2023-06-30T21:21:56.342Z"
   },
   {
    "duration": 7,
    "start_time": "2023-06-30T21:21:56.369Z"
   },
   {
    "duration": 18,
    "start_time": "2023-06-30T21:21:56.378Z"
   },
   {
    "duration": 11,
    "start_time": "2023-06-30T21:21:56.397Z"
   },
   {
    "duration": 10,
    "start_time": "2023-06-30T21:21:56.410Z"
   },
   {
    "duration": 6,
    "start_time": "2023-06-30T21:21:56.422Z"
   },
   {
    "duration": 189,
    "start_time": "2023-06-30T21:21:56.429Z"
   },
   {
    "duration": 6,
    "start_time": "2023-06-30T21:21:56.620Z"
   },
   {
    "duration": 165,
    "start_time": "2023-06-30T21:21:56.627Z"
   },
   {
    "duration": 6,
    "start_time": "2023-06-30T21:21:56.794Z"
   },
   {
    "duration": 13,
    "start_time": "2023-06-30T21:21:56.802Z"
   },
   {
    "duration": 281,
    "start_time": "2023-06-30T21:21:56.817Z"
   },
   {
    "duration": 148,
    "start_time": "2023-06-30T21:21:57.100Z"
   },
   {
    "duration": 299,
    "start_time": "2023-06-30T21:21:57.249Z"
   },
   {
    "duration": 185,
    "start_time": "2023-06-30T21:22:02.584Z"
   },
   {
    "duration": 149,
    "start_time": "2023-06-30T21:28:37.753Z"
   },
   {
    "duration": 153,
    "start_time": "2023-06-30T21:28:48.975Z"
   },
   {
    "duration": 402,
    "start_time": "2023-06-30T21:30:41.700Z"
   },
   {
    "duration": 458,
    "start_time": "2023-06-30T21:32:10.190Z"
   },
   {
    "duration": 36,
    "start_time": "2023-06-30T21:41:53.168Z"
   },
   {
    "duration": 6,
    "start_time": "2023-06-30T21:43:35.567Z"
   },
   {
    "duration": 6,
    "start_time": "2023-06-30T21:44:21.383Z"
   },
   {
    "duration": 450,
    "start_time": "2023-06-30T21:50:06.460Z"
   },
   {
    "duration": 165,
    "start_time": "2023-06-30T22:01:09.016Z"
   },
   {
    "duration": 3,
    "start_time": "2023-06-30T22:04:49.821Z"
   },
   {
    "duration": 73,
    "start_time": "2023-06-30T22:04:49.826Z"
   },
   {
    "duration": 9,
    "start_time": "2023-06-30T22:04:49.901Z"
   },
   {
    "duration": 11,
    "start_time": "2023-06-30T22:04:49.911Z"
   },
   {
    "duration": 11,
    "start_time": "2023-06-30T22:04:49.924Z"
   },
   {
    "duration": 9,
    "start_time": "2023-06-30T22:04:49.937Z"
   },
   {
    "duration": 39,
    "start_time": "2023-06-30T22:04:49.948Z"
   },
   {
    "duration": 44,
    "start_time": "2023-06-30T22:04:49.989Z"
   },
   {
    "duration": 23,
    "start_time": "2023-06-30T22:04:50.035Z"
   },
   {
    "duration": 31,
    "start_time": "2023-06-30T22:04:50.060Z"
   },
   {
    "duration": 18,
    "start_time": "2023-06-30T22:04:50.093Z"
   },
   {
    "duration": 12,
    "start_time": "2023-06-30T22:04:50.112Z"
   },
   {
    "duration": 22,
    "start_time": "2023-06-30T22:04:50.126Z"
   },
   {
    "duration": 18,
    "start_time": "2023-06-30T22:04:50.151Z"
   },
   {
    "duration": 5,
    "start_time": "2023-06-30T22:04:50.171Z"
   },
   {
    "duration": 30,
    "start_time": "2023-06-30T22:04:50.178Z"
   },
   {
    "duration": 12,
    "start_time": "2023-06-30T22:04:50.209Z"
   },
   {
    "duration": 19,
    "start_time": "2023-06-30T22:04:50.222Z"
   },
   {
    "duration": 5,
    "start_time": "2023-06-30T22:04:50.243Z"
   },
   {
    "duration": 174,
    "start_time": "2023-06-30T22:04:50.249Z"
   },
   {
    "duration": 6,
    "start_time": "2023-06-30T22:04:50.425Z"
   },
   {
    "duration": 164,
    "start_time": "2023-06-30T22:04:50.432Z"
   },
   {
    "duration": 7,
    "start_time": "2023-06-30T22:04:50.598Z"
   },
   {
    "duration": 10,
    "start_time": "2023-06-30T22:04:50.606Z"
   },
   {
    "duration": 298,
    "start_time": "2023-06-30T22:04:50.617Z"
   },
   {
    "duration": 168,
    "start_time": "2023-06-30T22:04:50.917Z"
   },
   {
    "duration": 308,
    "start_time": "2023-06-30T22:04:51.087Z"
   },
   {
    "duration": 166,
    "start_time": "2023-06-30T22:04:51.397Z"
   },
   {
    "duration": 287,
    "start_time": "2023-06-30T22:04:51.565Z"
   },
   {
    "duration": 166,
    "start_time": "2023-06-30T22:04:51.854Z"
   },
   {
    "duration": 146,
    "start_time": "2023-06-30T22:04:57.914Z"
   },
   {
    "duration": 3,
    "start_time": "2023-07-01T04:59:09.394Z"
   },
   {
    "duration": 79,
    "start_time": "2023-07-01T04:59:09.399Z"
   },
   {
    "duration": 11,
    "start_time": "2023-07-01T04:59:09.480Z"
   },
   {
    "duration": 23,
    "start_time": "2023-07-01T04:59:09.493Z"
   },
   {
    "duration": 24,
    "start_time": "2023-07-01T04:59:09.519Z"
   },
   {
    "duration": 9,
    "start_time": "2023-07-01T04:59:09.545Z"
   },
   {
    "duration": 39,
    "start_time": "2023-07-01T04:59:09.555Z"
   },
   {
    "duration": 40,
    "start_time": "2023-07-01T04:59:09.596Z"
   },
   {
    "duration": 19,
    "start_time": "2023-07-01T04:59:09.638Z"
   },
   {
    "duration": 11,
    "start_time": "2023-07-01T04:59:09.659Z"
   },
   {
    "duration": 15,
    "start_time": "2023-07-01T04:59:09.672Z"
   },
   {
    "duration": 11,
    "start_time": "2023-07-01T04:59:09.689Z"
   },
   {
    "duration": 13,
    "start_time": "2023-07-01T04:59:09.704Z"
   },
   {
    "duration": 40,
    "start_time": "2023-07-01T04:59:09.719Z"
   },
   {
    "duration": 6,
    "start_time": "2023-07-01T04:59:09.761Z"
   },
   {
    "duration": 9,
    "start_time": "2023-07-01T04:59:09.769Z"
   },
   {
    "duration": 5,
    "start_time": "2023-07-01T04:59:09.780Z"
   },
   {
    "duration": 18,
    "start_time": "2023-07-01T04:59:09.787Z"
   },
   {
    "duration": 7,
    "start_time": "2023-07-01T04:59:09.807Z"
   },
   {
    "duration": 185,
    "start_time": "2023-07-01T04:59:09.854Z"
   },
   {
    "duration": 6,
    "start_time": "2023-07-01T04:59:10.041Z"
   },
   {
    "duration": 177,
    "start_time": "2023-07-01T04:59:10.054Z"
   },
   {
    "duration": 7,
    "start_time": "2023-07-01T04:59:10.233Z"
   },
   {
    "duration": 16,
    "start_time": "2023-07-01T04:59:10.242Z"
   },
   {
    "duration": 306,
    "start_time": "2023-07-01T04:59:10.260Z"
   },
   {
    "duration": 156,
    "start_time": "2023-07-01T04:59:10.568Z"
   },
   {
    "duration": 533,
    "start_time": "2023-07-01T04:59:10.726Z"
   },
   {
    "duration": 164,
    "start_time": "2023-07-01T04:59:11.261Z"
   },
   {
    "duration": 289,
    "start_time": "2023-07-01T04:59:11.427Z"
   },
   {
    "duration": 165,
    "start_time": "2023-07-01T04:59:11.718Z"
   },
   {
    "duration": 161,
    "start_time": "2023-07-01T04:59:11.885Z"
   },
   {
    "duration": 20,
    "start_time": "2023-07-01T04:59:12.048Z"
   },
   {
    "duration": 16,
    "start_time": "2023-07-01T04:59:12.070Z"
   },
   {
    "duration": 15,
    "start_time": "2023-07-01T04:59:12.088Z"
   },
   {
    "duration": 13,
    "start_time": "2023-07-01T04:59:12.105Z"
   },
   {
    "duration": 441,
    "start_time": "2023-07-01T04:59:12.154Z"
   },
   {
    "duration": 173,
    "start_time": "2023-07-01T04:59:12.598Z"
   },
   {
    "duration": 75,
    "start_time": "2023-07-01T04:59:14.928Z"
   },
   {
    "duration": 150,
    "start_time": "2023-07-01T04:59:20.053Z"
   },
   {
    "duration": 362,
    "start_time": "2023-07-01T05:00:16.006Z"
   },
   {
    "duration": 57,
    "start_time": "2023-07-01T05:01:12.760Z"
   },
   {
    "duration": 83,
    "start_time": "2023-07-01T05:02:07.966Z"
   },
   {
    "duration": 3,
    "start_time": "2023-07-01T06:03:47.348Z"
   },
   {
    "duration": 74,
    "start_time": "2023-07-01T06:03:47.353Z"
   },
   {
    "duration": 9,
    "start_time": "2023-07-01T06:03:47.429Z"
   },
   {
    "duration": 17,
    "start_time": "2023-07-01T06:03:47.440Z"
   },
   {
    "duration": 12,
    "start_time": "2023-07-01T06:03:47.459Z"
   },
   {
    "duration": 9,
    "start_time": "2023-07-01T06:03:47.473Z"
   },
   {
    "duration": 54,
    "start_time": "2023-07-01T06:03:47.484Z"
   },
   {
    "duration": 45,
    "start_time": "2023-07-01T06:03:47.540Z"
   },
   {
    "duration": 6,
    "start_time": "2023-07-01T06:03:47.587Z"
   },
   {
    "duration": 17,
    "start_time": "2023-07-01T06:03:47.596Z"
   },
   {
    "duration": 11,
    "start_time": "2023-07-01T06:03:47.615Z"
   },
   {
    "duration": 34,
    "start_time": "2023-07-01T06:03:47.628Z"
   },
   {
    "duration": 15,
    "start_time": "2023-07-01T06:03:47.664Z"
   },
   {
    "duration": 20,
    "start_time": "2023-07-01T06:03:47.680Z"
   },
   {
    "duration": 6,
    "start_time": "2023-07-01T06:03:47.702Z"
   },
   {
    "duration": 16,
    "start_time": "2023-07-01T06:03:47.709Z"
   },
   {
    "duration": 19,
    "start_time": "2023-07-01T06:03:47.727Z"
   },
   {
    "duration": 15,
    "start_time": "2023-07-01T06:03:47.748Z"
   },
   {
    "duration": 8,
    "start_time": "2023-07-01T06:03:47.765Z"
   },
   {
    "duration": 182,
    "start_time": "2023-07-01T06:03:47.774Z"
   },
   {
    "duration": 6,
    "start_time": "2023-07-01T06:03:47.957Z"
   },
   {
    "duration": 172,
    "start_time": "2023-07-01T06:03:47.964Z"
   },
   {
    "duration": 7,
    "start_time": "2023-07-01T06:03:48.138Z"
   },
   {
    "duration": 13,
    "start_time": "2023-07-01T06:03:48.147Z"
   },
   {
    "duration": 296,
    "start_time": "2023-07-01T06:03:48.161Z"
   },
   {
    "duration": 155,
    "start_time": "2023-07-01T06:03:48.459Z"
   },
   {
    "duration": 299,
    "start_time": "2023-07-01T06:03:48.616Z"
   },
   {
    "duration": 166,
    "start_time": "2023-07-01T06:03:48.918Z"
   },
   {
    "duration": 293,
    "start_time": "2023-07-01T06:03:49.085Z"
   },
   {
    "duration": 181,
    "start_time": "2023-07-01T06:03:49.380Z"
   },
   {
    "duration": 176,
    "start_time": "2023-07-01T06:03:49.563Z"
   },
   {
    "duration": 25,
    "start_time": "2023-07-01T06:03:49.741Z"
   },
   {
    "duration": 18,
    "start_time": "2023-07-01T06:03:49.767Z"
   },
   {
    "duration": 26,
    "start_time": "2023-07-01T06:03:49.787Z"
   },
   {
    "duration": 21,
    "start_time": "2023-07-01T06:03:49.814Z"
   },
   {
    "duration": 464,
    "start_time": "2023-07-01T06:03:49.853Z"
   },
   {
    "duration": 406,
    "start_time": "2023-07-01T06:03:50.319Z"
   },
   {
    "duration": 104,
    "start_time": "2023-07-01T06:03:50.727Z"
   },
   {
    "duration": 277,
    "start_time": "2023-07-01T06:03:50.833Z"
   },
   {
    "duration": 242,
    "start_time": "2023-07-01T06:03:51.112Z"
   },
   {
    "duration": 146,
    "start_time": "2023-07-01T06:03:51.356Z"
   },
   {
    "duration": 538,
    "start_time": "2023-07-01T06:03:51.505Z"
   },
   {
    "duration": 171,
    "start_time": "2023-07-01T06:03:52.044Z"
   },
   {
    "duration": 7,
    "start_time": "2023-07-01T06:03:52.216Z"
   },
   {
    "duration": 62,
    "start_time": "2023-07-01T06:03:52.224Z"
   },
   {
    "duration": 15,
    "start_time": "2023-07-01T06:04:51.372Z"
   },
   {
    "duration": 11,
    "start_time": "2023-07-01T06:09:28.904Z"
   },
   {
    "duration": 18,
    "start_time": "2023-07-01T06:13:05.791Z"
   },
   {
    "duration": 19,
    "start_time": "2023-07-01T06:19:17.587Z"
   },
   {
    "duration": 36,
    "start_time": "2023-07-01T06:44:38.695Z"
   },
   {
    "duration": 21,
    "start_time": "2023-07-01T06:44:59.058Z"
   },
   {
    "duration": 3,
    "start_time": "2023-07-01T07:12:45.380Z"
   },
   {
    "duration": 77,
    "start_time": "2023-07-01T07:12:45.388Z"
   },
   {
    "duration": 9,
    "start_time": "2023-07-01T07:12:45.466Z"
   },
   {
    "duration": 22,
    "start_time": "2023-07-01T07:12:45.477Z"
   },
   {
    "duration": 25,
    "start_time": "2023-07-01T07:12:45.501Z"
   },
   {
    "duration": 9,
    "start_time": "2023-07-01T07:12:45.527Z"
   },
   {
    "duration": 50,
    "start_time": "2023-07-01T07:12:45.538Z"
   },
   {
    "duration": 40,
    "start_time": "2023-07-01T07:12:45.590Z"
   },
   {
    "duration": 6,
    "start_time": "2023-07-01T07:12:45.632Z"
   },
   {
    "duration": 15,
    "start_time": "2023-07-01T07:12:45.639Z"
   },
   {
    "duration": 5,
    "start_time": "2023-07-01T07:12:45.657Z"
   },
   {
    "duration": 9,
    "start_time": "2023-07-01T07:12:45.663Z"
   },
   {
    "duration": 20,
    "start_time": "2023-07-01T07:12:45.674Z"
   },
   {
    "duration": 21,
    "start_time": "2023-07-01T07:12:45.696Z"
   },
   {
    "duration": 10,
    "start_time": "2023-07-01T07:12:45.719Z"
   },
   {
    "duration": 23,
    "start_time": "2023-07-01T07:12:45.730Z"
   },
   {
    "duration": 4,
    "start_time": "2023-07-01T07:12:45.755Z"
   },
   {
    "duration": 21,
    "start_time": "2023-07-01T07:12:45.760Z"
   },
   {
    "duration": 7,
    "start_time": "2023-07-01T07:12:45.783Z"
   },
   {
    "duration": 178,
    "start_time": "2023-07-01T07:12:45.792Z"
   },
   {
    "duration": 6,
    "start_time": "2023-07-01T07:12:45.972Z"
   },
   {
    "duration": 160,
    "start_time": "2023-07-01T07:12:45.979Z"
   },
   {
    "duration": 12,
    "start_time": "2023-07-01T07:12:46.141Z"
   },
   {
    "duration": 12,
    "start_time": "2023-07-01T07:12:46.155Z"
   },
   {
    "duration": 277,
    "start_time": "2023-07-01T07:12:46.169Z"
   },
   {
    "duration": 157,
    "start_time": "2023-07-01T07:12:46.448Z"
   },
   {
    "duration": 303,
    "start_time": "2023-07-01T07:12:46.606Z"
   },
   {
    "duration": 164,
    "start_time": "2023-07-01T07:12:46.911Z"
   },
   {
    "duration": 460,
    "start_time": "2023-07-01T07:12:47.079Z"
   },
   {
    "duration": 156,
    "start_time": "2023-07-01T07:12:47.541Z"
   },
   {
    "duration": 164,
    "start_time": "2023-07-01T07:12:47.699Z"
   },
   {
    "duration": 17,
    "start_time": "2023-07-01T07:12:47.865Z"
   },
   {
    "duration": 19,
    "start_time": "2023-07-01T07:12:47.884Z"
   },
   {
    "duration": 16,
    "start_time": "2023-07-01T07:12:47.905Z"
   },
   {
    "duration": 16,
    "start_time": "2023-07-01T07:12:47.953Z"
   },
   {
    "duration": 453,
    "start_time": "2023-07-01T07:12:47.971Z"
   },
   {
    "duration": 172,
    "start_time": "2023-07-01T07:12:48.427Z"
   },
   {
    "duration": 90,
    "start_time": "2023-07-01T07:12:48.600Z"
   },
   {
    "duration": 250,
    "start_time": "2023-07-01T07:12:48.692Z"
   },
   {
    "duration": 241,
    "start_time": "2023-07-01T07:12:48.943Z"
   },
   {
    "duration": 124,
    "start_time": "2023-07-01T07:12:49.186Z"
   },
   {
    "duration": 754,
    "start_time": "2023-07-01T07:12:49.312Z"
   },
   {
    "duration": 165,
    "start_time": "2023-07-01T07:12:50.067Z"
   },
   {
    "duration": 7,
    "start_time": "2023-07-01T07:12:50.234Z"
   },
   {
    "duration": 36,
    "start_time": "2023-07-01T07:12:57.607Z"
   },
   {
    "duration": 6,
    "start_time": "2023-07-01T07:13:02.317Z"
   },
   {
    "duration": 4,
    "start_time": "2023-07-01T07:14:57.041Z"
   },
   {
    "duration": 90,
    "start_time": "2023-07-01T07:14:57.047Z"
   },
   {
    "duration": 9,
    "start_time": "2023-07-01T07:14:57.140Z"
   },
   {
    "duration": 46,
    "start_time": "2023-07-01T07:14:57.151Z"
   },
   {
    "duration": 36,
    "start_time": "2023-07-01T07:14:57.200Z"
   },
   {
    "duration": 34,
    "start_time": "2023-07-01T07:14:57.238Z"
   },
   {
    "duration": 55,
    "start_time": "2023-07-01T07:14:57.274Z"
   },
   {
    "duration": 43,
    "start_time": "2023-07-01T07:14:57.332Z"
   },
   {
    "duration": 8,
    "start_time": "2023-07-01T07:14:57.376Z"
   },
   {
    "duration": 18,
    "start_time": "2023-07-01T07:14:57.386Z"
   },
   {
    "duration": 59,
    "start_time": "2023-07-01T07:14:57.407Z"
   },
   {
    "duration": 40,
    "start_time": "2023-07-01T07:14:57.468Z"
   },
   {
    "duration": 20,
    "start_time": "2023-07-01T07:14:57.510Z"
   },
   {
    "duration": 37,
    "start_time": "2023-07-01T07:14:57.531Z"
   },
   {
    "duration": 31,
    "start_time": "2023-07-01T07:14:57.570Z"
   },
   {
    "duration": 36,
    "start_time": "2023-07-01T07:14:57.603Z"
   },
   {
    "duration": 20,
    "start_time": "2023-07-01T07:14:57.641Z"
   },
   {
    "duration": 34,
    "start_time": "2023-07-01T07:14:57.663Z"
   },
   {
    "duration": 6,
    "start_time": "2023-07-01T07:14:57.699Z"
   },
   {
    "duration": 199,
    "start_time": "2023-07-01T07:14:57.707Z"
   },
   {
    "duration": 6,
    "start_time": "2023-07-01T07:14:57.908Z"
   },
   {
    "duration": 168,
    "start_time": "2023-07-01T07:14:57.915Z"
   },
   {
    "duration": 7,
    "start_time": "2023-07-01T07:14:58.085Z"
   },
   {
    "duration": 11,
    "start_time": "2023-07-01T07:14:58.093Z"
   },
   {
    "duration": 292,
    "start_time": "2023-07-01T07:14:58.106Z"
   },
   {
    "duration": 149,
    "start_time": "2023-07-01T07:14:58.399Z"
   },
   {
    "duration": 299,
    "start_time": "2023-07-01T07:14:58.554Z"
   },
   {
    "duration": 156,
    "start_time": "2023-07-01T07:14:58.856Z"
   },
   {
    "duration": 282,
    "start_time": "2023-07-01T07:14:59.017Z"
   },
   {
    "duration": 165,
    "start_time": "2023-07-01T07:14:59.301Z"
   },
   {
    "duration": 156,
    "start_time": "2023-07-01T07:14:59.468Z"
   },
   {
    "duration": 29,
    "start_time": "2023-07-01T07:14:59.626Z"
   },
   {
    "duration": 19,
    "start_time": "2023-07-01T07:14:59.657Z"
   },
   {
    "duration": 25,
    "start_time": "2023-07-01T07:14:59.678Z"
   },
   {
    "duration": 15,
    "start_time": "2023-07-01T07:14:59.705Z"
   },
   {
    "duration": 461,
    "start_time": "2023-07-01T07:14:59.722Z"
   },
   {
    "duration": 172,
    "start_time": "2023-07-01T07:15:00.185Z"
   },
   {
    "duration": 79,
    "start_time": "2023-07-01T07:15:00.359Z"
   },
   {
    "duration": 499,
    "start_time": "2023-07-01T07:15:00.440Z"
   },
   {
    "duration": 240,
    "start_time": "2023-07-01T07:15:00.941Z"
   },
   {
    "duration": 125,
    "start_time": "2023-07-01T07:15:01.184Z"
   },
   {
    "duration": 589,
    "start_time": "2023-07-01T07:15:01.311Z"
   },
   {
    "duration": 179,
    "start_time": "2023-07-01T07:15:01.902Z"
   },
   {
    "duration": 7,
    "start_time": "2023-07-01T07:15:02.082Z"
   },
   {
    "duration": 69,
    "start_time": "2023-07-01T07:15:02.090Z"
   },
   {
    "duration": 15,
    "start_time": "2023-07-01T07:15:02.161Z"
   },
   {
    "duration": 47,
    "start_time": "2023-07-01T07:15:02.177Z"
   },
   {
    "duration": 20,
    "start_time": "2023-07-01T07:20:19.599Z"
   },
   {
    "duration": 52,
    "start_time": "2023-07-01T07:20:55.947Z"
   },
   {
    "duration": 25,
    "start_time": "2023-07-01T07:22:16.796Z"
   },
   {
    "duration": 4,
    "start_time": "2023-07-01T10:18:19.702Z"
   },
   {
    "duration": 78,
    "start_time": "2023-07-01T10:18:19.708Z"
   },
   {
    "duration": 9,
    "start_time": "2023-07-01T10:18:19.788Z"
   },
   {
    "duration": 27,
    "start_time": "2023-07-01T10:18:19.799Z"
   },
   {
    "duration": 17,
    "start_time": "2023-07-01T10:18:19.829Z"
   },
   {
    "duration": 22,
    "start_time": "2023-07-01T10:18:19.848Z"
   },
   {
    "duration": 41,
    "start_time": "2023-07-01T10:18:19.872Z"
   },
   {
    "duration": 42,
    "start_time": "2023-07-01T10:18:19.915Z"
   },
   {
    "duration": 8,
    "start_time": "2023-07-01T10:18:19.958Z"
   },
   {
    "duration": 10,
    "start_time": "2023-07-01T10:18:19.967Z"
   },
   {
    "duration": 14,
    "start_time": "2023-07-01T10:18:19.980Z"
   },
   {
    "duration": 15,
    "start_time": "2023-07-01T10:18:19.996Z"
   },
   {
    "duration": 22,
    "start_time": "2023-07-01T10:18:20.013Z"
   },
   {
    "duration": 28,
    "start_time": "2023-07-01T10:18:20.038Z"
   },
   {
    "duration": 17,
    "start_time": "2023-07-01T10:18:20.068Z"
   },
   {
    "duration": 26,
    "start_time": "2023-07-01T10:18:20.087Z"
   },
   {
    "duration": 11,
    "start_time": "2023-07-01T10:18:20.115Z"
   },
   {
    "duration": 15,
    "start_time": "2023-07-01T10:18:20.128Z"
   },
   {
    "duration": 17,
    "start_time": "2023-07-01T10:18:20.144Z"
   },
   {
    "duration": 181,
    "start_time": "2023-07-01T10:18:20.163Z"
   },
   {
    "duration": 12,
    "start_time": "2023-07-01T10:18:20.346Z"
   },
   {
    "duration": 167,
    "start_time": "2023-07-01T10:18:20.359Z"
   },
   {
    "duration": 7,
    "start_time": "2023-07-01T10:18:20.528Z"
   },
   {
    "duration": 21,
    "start_time": "2023-07-01T10:18:20.536Z"
   },
   {
    "duration": 283,
    "start_time": "2023-07-01T10:18:20.558Z"
   },
   {
    "duration": 153,
    "start_time": "2023-07-01T10:18:20.842Z"
   },
   {
    "duration": 305,
    "start_time": "2023-07-01T10:18:20.997Z"
   },
   {
    "duration": 166,
    "start_time": "2023-07-01T10:18:21.303Z"
   },
   {
    "duration": 277,
    "start_time": "2023-07-01T10:18:21.473Z"
   },
   {
    "duration": 167,
    "start_time": "2023-07-01T10:18:21.753Z"
   },
   {
    "duration": 161,
    "start_time": "2023-07-01T10:18:21.922Z"
   },
   {
    "duration": 18,
    "start_time": "2023-07-01T10:18:22.084Z"
   },
   {
    "duration": 36,
    "start_time": "2023-07-01T10:18:22.104Z"
   },
   {
    "duration": 17,
    "start_time": "2023-07-01T10:18:22.153Z"
   },
   {
    "duration": 27,
    "start_time": "2023-07-01T10:18:22.172Z"
   },
   {
    "duration": 667,
    "start_time": "2023-07-01T10:18:22.201Z"
   },
   {
    "duration": 175,
    "start_time": "2023-07-01T10:18:22.869Z"
   },
   {
    "duration": 89,
    "start_time": "2023-07-01T10:18:23.046Z"
   },
   {
    "duration": 296,
    "start_time": "2023-07-01T10:18:23.137Z"
   },
   {
    "duration": 241,
    "start_time": "2023-07-01T10:18:23.435Z"
   },
   {
    "duration": 125,
    "start_time": "2023-07-01T10:18:23.678Z"
   },
   {
    "duration": 545,
    "start_time": "2023-07-01T10:18:23.805Z"
   },
   {
    "duration": 162,
    "start_time": "2023-07-01T10:18:24.353Z"
   },
   {
    "duration": 6,
    "start_time": "2023-07-01T10:18:24.516Z"
   },
   {
    "duration": 69,
    "start_time": "2023-07-01T10:18:24.524Z"
   },
   {
    "duration": 15,
    "start_time": "2023-07-01T10:18:24.595Z"
   },
   {
    "duration": 18,
    "start_time": "2023-07-01T10:18:24.611Z"
   },
   {
    "duration": 29,
    "start_time": "2023-07-01T10:18:38.201Z"
   },
   {
    "duration": 29,
    "start_time": "2023-07-01T10:27:09.976Z"
   },
   {
    "duration": 29,
    "start_time": "2023-07-01T10:27:15.795Z"
   },
   {
    "duration": 31,
    "start_time": "2023-07-01T10:27:57.324Z"
   },
   {
    "duration": 14,
    "start_time": "2023-07-01T10:27:57.357Z"
   },
   {
    "duration": 0,
    "start_time": "2023-07-01T10:27:57.372Z"
   },
   {
    "duration": 3,
    "start_time": "2023-07-01T10:28:22.554Z"
   },
   {
    "duration": 70,
    "start_time": "2023-07-01T10:28:22.559Z"
   },
   {
    "duration": 7,
    "start_time": "2023-07-01T10:28:22.631Z"
   },
   {
    "duration": 11,
    "start_time": "2023-07-01T10:28:22.640Z"
   },
   {
    "duration": 11,
    "start_time": "2023-07-01T10:28:22.653Z"
   },
   {
    "duration": 17,
    "start_time": "2023-07-01T10:28:22.666Z"
   },
   {
    "duration": 36,
    "start_time": "2023-07-01T10:28:22.685Z"
   },
   {
    "duration": 53,
    "start_time": "2023-07-01T10:28:22.723Z"
   },
   {
    "duration": 7,
    "start_time": "2023-07-01T10:28:22.777Z"
   },
   {
    "duration": 13,
    "start_time": "2023-07-01T10:28:22.786Z"
   },
   {
    "duration": 17,
    "start_time": "2023-07-01T10:28:22.802Z"
   },
   {
    "duration": 21,
    "start_time": "2023-07-01T10:28:22.820Z"
   },
   {
    "duration": 33,
    "start_time": "2023-07-01T10:28:22.842Z"
   },
   {
    "duration": 18,
    "start_time": "2023-07-01T10:28:22.876Z"
   },
   {
    "duration": 4,
    "start_time": "2023-07-01T10:28:22.896Z"
   },
   {
    "duration": 8,
    "start_time": "2023-07-01T10:28:22.901Z"
   },
   {
    "duration": 4,
    "start_time": "2023-07-01T10:28:22.910Z"
   },
   {
    "duration": 9,
    "start_time": "2023-07-01T10:28:22.916Z"
   },
   {
    "duration": 7,
    "start_time": "2023-07-01T10:28:22.927Z"
   },
   {
    "duration": 185,
    "start_time": "2023-07-01T10:28:22.935Z"
   },
   {
    "duration": 5,
    "start_time": "2023-07-01T10:28:23.122Z"
   },
   {
    "duration": 170,
    "start_time": "2023-07-01T10:28:23.129Z"
   },
   {
    "duration": 6,
    "start_time": "2023-07-01T10:28:23.300Z"
   },
   {
    "duration": 10,
    "start_time": "2023-07-01T10:28:23.308Z"
   },
   {
    "duration": 296,
    "start_time": "2023-07-01T10:28:23.320Z"
   },
   {
    "duration": 355,
    "start_time": "2023-07-01T10:28:23.618Z"
   },
   {
    "duration": 318,
    "start_time": "2023-07-01T10:28:23.975Z"
   },
   {
    "duration": 158,
    "start_time": "2023-07-01T10:28:24.295Z"
   },
   {
    "duration": 280,
    "start_time": "2023-07-01T10:28:24.457Z"
   },
   {
    "duration": 159,
    "start_time": "2023-07-01T10:28:24.739Z"
   },
   {
    "duration": 156,
    "start_time": "2023-07-01T10:28:24.900Z"
   },
   {
    "duration": 17,
    "start_time": "2023-07-01T10:28:25.057Z"
   },
   {
    "duration": 17,
    "start_time": "2023-07-01T10:28:25.077Z"
   },
   {
    "duration": 17,
    "start_time": "2023-07-01T10:28:25.096Z"
   },
   {
    "duration": 17,
    "start_time": "2023-07-01T10:28:25.153Z"
   },
   {
    "duration": 445,
    "start_time": "2023-07-01T10:28:25.172Z"
   },
   {
    "duration": 173,
    "start_time": "2023-07-01T10:28:25.619Z"
   },
   {
    "duration": 95,
    "start_time": "2023-07-01T10:28:25.795Z"
   },
   {
    "duration": 270,
    "start_time": "2023-07-01T10:28:25.892Z"
   },
   {
    "duration": 429,
    "start_time": "2023-07-01T10:28:26.164Z"
   },
   {
    "duration": 121,
    "start_time": "2023-07-01T10:28:26.596Z"
   },
   {
    "duration": 502,
    "start_time": "2023-07-01T10:28:26.755Z"
   },
   {
    "duration": 166,
    "start_time": "2023-07-01T10:28:27.259Z"
   },
   {
    "duration": 6,
    "start_time": "2023-07-01T10:28:27.427Z"
   },
   {
    "duration": 49,
    "start_time": "2023-07-01T10:28:27.435Z"
   },
   {
    "duration": 15,
    "start_time": "2023-07-01T10:28:27.485Z"
   },
   {
    "duration": 20,
    "start_time": "2023-07-01T10:28:27.502Z"
   },
   {
    "duration": 27,
    "start_time": "2023-07-01T10:28:37.024Z"
   },
   {
    "duration": 58,
    "start_time": "2023-07-01T10:30:03.083Z"
   },
   {
    "duration": 28,
    "start_time": "2023-07-01T10:30:12.367Z"
   },
   {
    "duration": 32,
    "start_time": "2023-07-01T10:30:18.751Z"
   },
   {
    "duration": 30,
    "start_time": "2023-07-01T10:30:24.504Z"
   },
   {
    "duration": 1232,
    "start_time": "2023-07-01T10:32:51.623Z"
   },
   {
    "duration": 70,
    "start_time": "2023-07-01T10:32:52.857Z"
   },
   {
    "duration": 12,
    "start_time": "2023-07-01T10:32:52.929Z"
   },
   {
    "duration": 14,
    "start_time": "2023-07-01T10:32:52.943Z"
   },
   {
    "duration": 7,
    "start_time": "2023-07-01T10:32:52.959Z"
   },
   {
    "duration": 12,
    "start_time": "2023-07-01T10:32:52.968Z"
   },
   {
    "duration": 50,
    "start_time": "2023-07-01T10:32:52.981Z"
   },
   {
    "duration": 56,
    "start_time": "2023-07-01T10:32:53.033Z"
   },
   {
    "duration": 7,
    "start_time": "2023-07-01T10:32:53.091Z"
   },
   {
    "duration": 8,
    "start_time": "2023-07-01T10:32:53.100Z"
   },
   {
    "duration": 14,
    "start_time": "2023-07-01T10:32:53.110Z"
   },
   {
    "duration": 29,
    "start_time": "2023-07-01T10:32:53.125Z"
   },
   {
    "duration": 7,
    "start_time": "2023-07-01T10:32:53.156Z"
   },
   {
    "duration": 18,
    "start_time": "2023-07-01T10:32:53.166Z"
   },
   {
    "duration": 5,
    "start_time": "2023-07-01T10:32:53.186Z"
   },
   {
    "duration": 18,
    "start_time": "2023-07-01T10:32:53.193Z"
   },
   {
    "duration": 11,
    "start_time": "2023-07-01T10:32:53.212Z"
   },
   {
    "duration": 33,
    "start_time": "2023-07-01T10:32:53.225Z"
   },
   {
    "duration": 6,
    "start_time": "2023-07-01T10:32:53.260Z"
   },
   {
    "duration": 174,
    "start_time": "2023-07-01T10:32:53.267Z"
   },
   {
    "duration": 11,
    "start_time": "2023-07-01T10:32:53.443Z"
   },
   {
    "duration": 142,
    "start_time": "2023-07-01T10:32:53.456Z"
   },
   {
    "duration": 6,
    "start_time": "2023-07-01T10:32:53.600Z"
   },
   {
    "duration": 7,
    "start_time": "2023-07-01T10:32:53.608Z"
   },
   {
    "duration": 273,
    "start_time": "2023-07-01T10:32:53.616Z"
   },
   {
    "duration": 135,
    "start_time": "2023-07-01T10:32:53.891Z"
   },
   {
    "duration": 295,
    "start_time": "2023-07-01T10:32:54.027Z"
   },
   {
    "duration": 139,
    "start_time": "2023-07-01T10:32:54.323Z"
   },
   {
    "duration": 320,
    "start_time": "2023-07-01T10:32:54.464Z"
   },
   {
    "duration": 140,
    "start_time": "2023-07-01T10:32:54.785Z"
   },
   {
    "duration": 142,
    "start_time": "2023-07-01T10:32:54.927Z"
   },
   {
    "duration": 18,
    "start_time": "2023-07-01T10:32:55.070Z"
   },
   {
    "duration": 19,
    "start_time": "2023-07-01T10:32:55.090Z"
   },
   {
    "duration": 46,
    "start_time": "2023-07-01T10:32:55.111Z"
   },
   {
    "duration": 16,
    "start_time": "2023-07-01T10:32:55.159Z"
   },
   {
    "duration": 428,
    "start_time": "2023-07-01T10:32:55.177Z"
   },
   {
    "duration": 139,
    "start_time": "2023-07-01T10:32:55.607Z"
   },
   {
    "duration": 233,
    "start_time": "2023-07-01T10:32:55.748Z"
   },
   {
    "duration": 695,
    "start_time": "2023-07-01T10:32:55.984Z"
   },
   {
    "duration": 319,
    "start_time": "2023-07-01T10:32:56.681Z"
   },
   {
    "duration": 199,
    "start_time": "2023-07-01T10:32:57.005Z"
   },
   {
    "duration": 536,
    "start_time": "2023-07-01T10:32:57.207Z"
   },
   {
    "duration": 168,
    "start_time": "2023-07-01T10:32:57.745Z"
   },
   {
    "duration": 6,
    "start_time": "2023-07-01T10:32:57.915Z"
   },
   {
    "duration": 55,
    "start_time": "2023-07-01T10:32:57.923Z"
   },
   {
    "duration": 15,
    "start_time": "2023-07-01T10:32:57.979Z"
   },
   {
    "duration": 26,
    "start_time": "2023-07-01T10:32:57.995Z"
   },
   {
    "duration": 34,
    "start_time": "2023-07-01T10:33:51.998Z"
   },
   {
    "duration": 62,
    "start_time": "2023-07-01T10:35:39.268Z"
   },
   {
    "duration": 28,
    "start_time": "2023-07-01T10:36:04.239Z"
   },
   {
    "duration": 15,
    "start_time": "2023-07-01T10:36:25.512Z"
   },
   {
    "duration": 14,
    "start_time": "2023-07-01T10:36:39.515Z"
   },
   {
    "duration": 20,
    "start_time": "2023-07-01T10:37:04.241Z"
   },
   {
    "duration": 43,
    "start_time": "2023-07-01T10:38:33.930Z"
   },
   {
    "duration": 143,
    "start_time": "2023-07-01T10:47:53.135Z"
   },
   {
    "duration": 163,
    "start_time": "2023-07-01T10:48:34.058Z"
   },
   {
    "duration": 29,
    "start_time": "2023-07-01T10:48:59.592Z"
   },
   {
    "duration": 16,
    "start_time": "2023-07-01T10:49:53.837Z"
   },
   {
    "duration": 15,
    "start_time": "2023-07-01T10:51:20.000Z"
   },
   {
    "duration": 605,
    "start_time": "2023-07-01T10:51:38.160Z"
   },
   {
    "duration": 16,
    "start_time": "2023-07-01T10:51:53.596Z"
   },
   {
    "duration": 16,
    "start_time": "2023-07-01T10:52:06.803Z"
   },
   {
    "duration": 3,
    "start_time": "2023-07-01T10:52:22.604Z"
   },
   {
    "duration": 85,
    "start_time": "2023-07-01T10:52:22.609Z"
   },
   {
    "duration": 9,
    "start_time": "2023-07-01T10:52:22.696Z"
   },
   {
    "duration": 38,
    "start_time": "2023-07-01T10:52:22.706Z"
   },
   {
    "duration": 24,
    "start_time": "2023-07-01T10:52:22.746Z"
   },
   {
    "duration": 24,
    "start_time": "2023-07-01T10:52:22.772Z"
   },
   {
    "duration": 53,
    "start_time": "2023-07-01T10:52:22.798Z"
   },
   {
    "duration": 46,
    "start_time": "2023-07-01T10:52:22.853Z"
   },
   {
    "duration": 7,
    "start_time": "2023-07-01T10:52:22.901Z"
   },
   {
    "duration": 22,
    "start_time": "2023-07-01T10:52:22.909Z"
   },
   {
    "duration": 32,
    "start_time": "2023-07-01T10:52:22.934Z"
   },
   {
    "duration": 29,
    "start_time": "2023-07-01T10:52:22.967Z"
   },
   {
    "duration": 22,
    "start_time": "2023-07-01T10:52:22.998Z"
   },
   {
    "duration": 26,
    "start_time": "2023-07-01T10:52:23.022Z"
   },
   {
    "duration": 5,
    "start_time": "2023-07-01T10:52:23.050Z"
   },
   {
    "duration": 30,
    "start_time": "2023-07-01T10:52:23.056Z"
   },
   {
    "duration": 13,
    "start_time": "2023-07-01T10:52:23.088Z"
   },
   {
    "duration": 17,
    "start_time": "2023-07-01T10:52:23.103Z"
   },
   {
    "duration": 28,
    "start_time": "2023-07-01T10:52:23.121Z"
   },
   {
    "duration": 183,
    "start_time": "2023-07-01T10:52:23.150Z"
   },
   {
    "duration": 7,
    "start_time": "2023-07-01T10:52:23.335Z"
   },
   {
    "duration": 161,
    "start_time": "2023-07-01T10:52:23.354Z"
   },
   {
    "duration": 7,
    "start_time": "2023-07-01T10:52:23.517Z"
   },
   {
    "duration": 17,
    "start_time": "2023-07-01T10:52:23.526Z"
   },
   {
    "duration": 297,
    "start_time": "2023-07-01T10:52:23.545Z"
   },
   {
    "duration": 168,
    "start_time": "2023-07-01T10:52:23.844Z"
   },
   {
    "duration": 319,
    "start_time": "2023-07-01T10:52:24.014Z"
   },
   {
    "duration": 283,
    "start_time": "2023-07-01T10:52:24.334Z"
   },
   {
    "duration": 281,
    "start_time": "2023-07-01T10:52:24.620Z"
   },
   {
    "duration": 169,
    "start_time": "2023-07-01T10:52:24.903Z"
   },
   {
    "duration": 166,
    "start_time": "2023-07-01T10:52:25.074Z"
   },
   {
    "duration": 28,
    "start_time": "2023-07-01T10:52:25.241Z"
   },
   {
    "duration": 36,
    "start_time": "2023-07-01T10:52:25.271Z"
   },
   {
    "duration": 17,
    "start_time": "2023-07-01T10:52:25.309Z"
   },
   {
    "duration": 29,
    "start_time": "2023-07-01T10:52:25.328Z"
   },
   {
    "duration": 457,
    "start_time": "2023-07-01T10:52:25.359Z"
   },
   {
    "duration": 174,
    "start_time": "2023-07-01T10:52:25.818Z"
   },
   {
    "duration": 95,
    "start_time": "2023-07-01T10:52:25.994Z"
   },
   {
    "duration": 371,
    "start_time": "2023-07-01T10:52:26.091Z"
   },
   {
    "duration": 237,
    "start_time": "2023-07-01T10:52:26.464Z"
   },
   {
    "duration": 112,
    "start_time": "2023-07-01T10:52:26.702Z"
   },
   {
    "duration": 541,
    "start_time": "2023-07-01T10:52:26.815Z"
   },
   {
    "duration": 174,
    "start_time": "2023-07-01T10:52:27.358Z"
   },
   {
    "duration": 6,
    "start_time": "2023-07-01T10:52:27.534Z"
   },
   {
    "duration": 62,
    "start_time": "2023-07-01T10:52:27.541Z"
   },
   {
    "duration": 16,
    "start_time": "2023-07-01T10:52:27.604Z"
   },
   {
    "duration": 19,
    "start_time": "2023-07-01T10:52:27.622Z"
   },
   {
    "duration": 10,
    "start_time": "2023-07-01T10:52:31.859Z"
   },
   {
    "duration": 26,
    "start_time": "2023-07-01T10:52:42.398Z"
   },
   {
    "duration": 25,
    "start_time": "2023-07-01T10:54:25.827Z"
   },
   {
    "duration": 14,
    "start_time": "2023-07-01T10:58:55.514Z"
   },
   {
    "duration": 15,
    "start_time": "2023-07-01T11:04:05.424Z"
   },
   {
    "duration": 5,
    "start_time": "2023-07-01T11:05:47.261Z"
   },
   {
    "duration": 3,
    "start_time": "2023-07-01T11:06:20.275Z"
   },
   {
    "duration": 104,
    "start_time": "2023-07-01T11:06:20.281Z"
   },
   {
    "duration": 9,
    "start_time": "2023-07-01T11:06:20.388Z"
   },
   {
    "duration": 29,
    "start_time": "2023-07-01T11:06:20.399Z"
   },
   {
    "duration": 30,
    "start_time": "2023-07-01T11:06:20.431Z"
   },
   {
    "duration": 112,
    "start_time": "2023-07-01T11:06:20.464Z"
   },
   {
    "duration": 37,
    "start_time": "2023-07-01T11:06:20.579Z"
   },
   {
    "duration": 59,
    "start_time": "2023-07-01T11:06:20.618Z"
   },
   {
    "duration": 9,
    "start_time": "2023-07-01T11:06:20.679Z"
   },
   {
    "duration": 25,
    "start_time": "2023-07-01T11:06:20.690Z"
   },
   {
    "duration": 6,
    "start_time": "2023-07-01T11:06:20.718Z"
   },
   {
    "duration": 36,
    "start_time": "2023-07-01T11:06:20.726Z"
   },
   {
    "duration": 39,
    "start_time": "2023-07-01T11:06:20.763Z"
   },
   {
    "duration": 44,
    "start_time": "2023-07-01T11:06:20.804Z"
   },
   {
    "duration": 41,
    "start_time": "2023-07-01T11:06:20.850Z"
   },
   {
    "duration": 16,
    "start_time": "2023-07-01T11:06:20.893Z"
   },
   {
    "duration": 40,
    "start_time": "2023-07-01T11:06:20.911Z"
   },
   {
    "duration": 8,
    "start_time": "2023-07-01T11:06:20.953Z"
   },
   {
    "duration": 15,
    "start_time": "2023-07-01T11:06:20.963Z"
   },
   {
    "duration": 11,
    "start_time": "2023-07-01T11:06:20.980Z"
   },
   {
    "duration": 189,
    "start_time": "2023-07-01T11:06:20.993Z"
   },
   {
    "duration": 7,
    "start_time": "2023-07-01T11:06:21.184Z"
   },
   {
    "duration": 179,
    "start_time": "2023-07-01T11:06:21.194Z"
   },
   {
    "duration": 8,
    "start_time": "2023-07-01T11:06:21.375Z"
   },
   {
    "duration": 18,
    "start_time": "2023-07-01T11:06:21.385Z"
   },
   {
    "duration": 288,
    "start_time": "2023-07-01T11:06:21.405Z"
   },
   {
    "duration": 154,
    "start_time": "2023-07-01T11:06:21.695Z"
   },
   {
    "duration": 295,
    "start_time": "2023-07-01T11:06:21.853Z"
   },
   {
    "duration": 163,
    "start_time": "2023-07-01T11:06:22.157Z"
   },
   {
    "duration": 297,
    "start_time": "2023-07-01T11:06:22.322Z"
   },
   {
    "duration": 172,
    "start_time": "2023-07-01T11:06:22.622Z"
   },
   {
    "duration": 160,
    "start_time": "2023-07-01T11:06:22.796Z"
   },
   {
    "duration": 19,
    "start_time": "2023-07-01T11:06:22.958Z"
   },
   {
    "duration": 41,
    "start_time": "2023-07-01T11:06:22.979Z"
   },
   {
    "duration": 19,
    "start_time": "2023-07-01T11:06:23.022Z"
   },
   {
    "duration": 42,
    "start_time": "2023-07-01T11:06:23.053Z"
   },
   {
    "duration": 540,
    "start_time": "2023-07-01T11:06:23.097Z"
   },
   {
    "duration": 165,
    "start_time": "2023-07-01T11:06:23.639Z"
   },
   {
    "duration": 95,
    "start_time": "2023-07-01T11:06:23.806Z"
   },
   {
    "duration": 258,
    "start_time": "2023-07-01T11:06:23.903Z"
   },
   {
    "duration": 356,
    "start_time": "2023-07-01T11:06:24.163Z"
   },
   {
    "duration": 147,
    "start_time": "2023-07-01T11:06:24.520Z"
   },
   {
    "duration": 504,
    "start_time": "2023-07-01T11:06:24.669Z"
   },
   {
    "duration": 172,
    "start_time": "2023-07-01T11:06:25.174Z"
   },
   {
    "duration": 6,
    "start_time": "2023-07-01T11:06:25.354Z"
   },
   {
    "duration": 80,
    "start_time": "2023-07-01T11:06:25.361Z"
   },
   {
    "duration": 14,
    "start_time": "2023-07-01T11:06:25.443Z"
   },
   {
    "duration": 33,
    "start_time": "2023-07-01T11:06:25.459Z"
   },
   {
    "duration": 5,
    "start_time": "2023-07-01T19:21:39.691Z"
   },
   {
    "duration": 5,
    "start_time": "2023-07-01T19:21:51.908Z"
   },
   {
    "duration": 324,
    "start_time": "2023-07-01T19:23:16.218Z"
   },
   {
    "duration": 324,
    "start_time": "2023-07-01T19:24:05.788Z"
   },
   {
    "duration": 414,
    "start_time": "2023-07-01T19:24:32.728Z"
   },
   {
    "duration": 145,
    "start_time": "2023-07-01T19:25:44.017Z"
   },
   {
    "duration": 309,
    "start_time": "2023-07-01T19:26:15.446Z"
   },
   {
    "duration": 163,
    "start_time": "2023-07-01T19:27:35.955Z"
   },
   {
    "duration": 449,
    "start_time": "2023-07-01T19:29:52.147Z"
   },
   {
    "duration": 23,
    "start_time": "2023-07-01T19:42:48.969Z"
   },
   {
    "duration": 3,
    "start_time": "2023-07-01T19:42:58.560Z"
   },
   {
    "duration": 67,
    "start_time": "2023-07-01T19:42:58.573Z"
   },
   {
    "duration": 8,
    "start_time": "2023-07-01T19:42:58.642Z"
   },
   {
    "duration": 13,
    "start_time": "2023-07-01T19:42:58.651Z"
   },
   {
    "duration": 15,
    "start_time": "2023-07-01T19:42:58.665Z"
   },
   {
    "duration": 8,
    "start_time": "2023-07-01T19:42:58.682Z"
   },
   {
    "duration": 42,
    "start_time": "2023-07-01T19:42:58.692Z"
   },
   {
    "duration": 55,
    "start_time": "2023-07-01T19:42:58.736Z"
   },
   {
    "duration": 7,
    "start_time": "2023-07-01T19:42:58.794Z"
   },
   {
    "duration": 16,
    "start_time": "2023-07-01T19:42:58.803Z"
   },
   {
    "duration": 33,
    "start_time": "2023-07-01T19:42:58.821Z"
   },
   {
    "duration": 5,
    "start_time": "2023-07-01T19:42:58.856Z"
   },
   {
    "duration": 16,
    "start_time": "2023-07-01T19:42:58.863Z"
   },
   {
    "duration": 25,
    "start_time": "2023-07-01T19:42:58.880Z"
   },
   {
    "duration": 18,
    "start_time": "2023-07-01T19:42:58.908Z"
   },
   {
    "duration": 5,
    "start_time": "2023-07-01T19:42:58.928Z"
   },
   {
    "duration": 29,
    "start_time": "2023-07-01T19:42:58.935Z"
   },
   {
    "duration": 8,
    "start_time": "2023-07-01T19:42:58.966Z"
   },
   {
    "duration": 11,
    "start_time": "2023-07-01T19:42:58.976Z"
   },
   {
    "duration": 7,
    "start_time": "2023-07-01T19:42:58.989Z"
   },
   {
    "duration": 186,
    "start_time": "2023-07-01T19:42:58.997Z"
   },
   {
    "duration": 6,
    "start_time": "2023-07-01T19:42:59.185Z"
   },
   {
    "duration": 160,
    "start_time": "2023-07-01T19:42:59.193Z"
   },
   {
    "duration": 7,
    "start_time": "2023-07-01T19:42:59.355Z"
   },
   {
    "duration": 313,
    "start_time": "2023-07-01T19:42:59.364Z"
   },
   {
    "duration": 447,
    "start_time": "2023-07-01T19:42:59.679Z"
   },
   {
    "duration": 294,
    "start_time": "2023-07-01T19:43:00.128Z"
   },
   {
    "duration": 154,
    "start_time": "2023-07-01T19:43:00.424Z"
   },
   {
    "duration": 271,
    "start_time": "2023-07-01T19:43:00.580Z"
   },
   {
    "duration": 153,
    "start_time": "2023-07-01T19:43:00.853Z"
   },
   {
    "duration": 148,
    "start_time": "2023-07-01T19:43:01.008Z"
   },
   {
    "duration": 17,
    "start_time": "2023-07-01T19:43:01.158Z"
   },
   {
    "duration": 52,
    "start_time": "2023-07-01T19:43:01.177Z"
   },
   {
    "duration": 48,
    "start_time": "2023-07-01T19:43:01.231Z"
   },
   {
    "duration": 49,
    "start_time": "2023-07-01T19:43:01.280Z"
   },
   {
    "duration": 486,
    "start_time": "2023-07-01T19:43:01.331Z"
   },
   {
    "duration": 435,
    "start_time": "2023-07-01T19:43:01.819Z"
   },
   {
    "duration": 140,
    "start_time": "2023-07-01T19:43:02.256Z"
   },
   {
    "duration": 300,
    "start_time": "2023-07-01T19:43:02.398Z"
   },
   {
    "duration": 157,
    "start_time": "2023-07-01T19:43:02.699Z"
   },
   {
    "duration": 126,
    "start_time": "2023-07-01T19:43:02.858Z"
   },
   {
    "duration": 858,
    "start_time": "2023-07-01T19:43:02.988Z"
   },
   {
    "duration": 161,
    "start_time": "2023-07-01T19:43:03.848Z"
   },
   {
    "duration": 6,
    "start_time": "2023-07-01T19:43:04.011Z"
   },
   {
    "duration": 58,
    "start_time": "2023-07-01T19:43:04.019Z"
   },
   {
    "duration": 21,
    "start_time": "2023-07-01T19:43:04.079Z"
   },
   {
    "duration": 54,
    "start_time": "2023-07-01T19:43:04.101Z"
   },
   {
    "duration": 21,
    "start_time": "2023-07-01T19:43:15.774Z"
   },
   {
    "duration": 11,
    "start_time": "2023-07-01T19:44:00.089Z"
   },
   {
    "duration": 5,
    "start_time": "2023-07-01T19:57:13.002Z"
   },
   {
    "duration": 16,
    "start_time": "2023-07-01T19:57:24.430Z"
   },
   {
    "duration": 16,
    "start_time": "2023-07-01T19:57:51.624Z"
   },
   {
    "duration": 5,
    "start_time": "2023-07-01T19:58:28.579Z"
   },
   {
    "duration": 5,
    "start_time": "2023-07-01T19:58:44.617Z"
   },
   {
    "duration": 3,
    "start_time": "2023-07-01T19:59:06.364Z"
   },
   {
    "duration": 93,
    "start_time": "2023-07-01T19:59:06.369Z"
   },
   {
    "duration": 8,
    "start_time": "2023-07-01T19:59:06.464Z"
   },
   {
    "duration": 22,
    "start_time": "2023-07-01T19:59:06.474Z"
   },
   {
    "duration": 24,
    "start_time": "2023-07-01T19:59:06.498Z"
   },
   {
    "duration": 13,
    "start_time": "2023-07-01T19:59:06.524Z"
   },
   {
    "duration": 48,
    "start_time": "2023-07-01T19:59:06.538Z"
   },
   {
    "duration": 44,
    "start_time": "2023-07-01T19:59:06.588Z"
   },
   {
    "duration": 20,
    "start_time": "2023-07-01T19:59:06.634Z"
   },
   {
    "duration": 22,
    "start_time": "2023-07-01T19:59:06.657Z"
   },
   {
    "duration": 9,
    "start_time": "2023-07-01T19:59:06.680Z"
   },
   {
    "duration": 27,
    "start_time": "2023-07-01T19:59:06.690Z"
   },
   {
    "duration": 17,
    "start_time": "2023-07-01T19:59:06.719Z"
   },
   {
    "duration": 20,
    "start_time": "2023-07-01T19:59:06.738Z"
   },
   {
    "duration": 33,
    "start_time": "2023-07-01T19:59:06.759Z"
   },
   {
    "duration": 5,
    "start_time": "2023-07-01T19:59:06.793Z"
   },
   {
    "duration": 20,
    "start_time": "2023-07-01T19:59:06.800Z"
   },
   {
    "duration": 23,
    "start_time": "2023-07-01T19:59:06.822Z"
   },
   {
    "duration": 12,
    "start_time": "2023-07-01T19:59:06.846Z"
   },
   {
    "duration": 25,
    "start_time": "2023-07-01T19:59:06.860Z"
   },
   {
    "duration": 172,
    "start_time": "2023-07-01T19:59:06.887Z"
   },
   {
    "duration": 6,
    "start_time": "2023-07-01T19:59:07.061Z"
   },
   {
    "duration": 169,
    "start_time": "2023-07-01T19:59:07.068Z"
   },
   {
    "duration": 14,
    "start_time": "2023-07-01T19:59:07.239Z"
   },
   {
    "duration": 304,
    "start_time": "2023-07-01T19:59:07.255Z"
   },
   {
    "duration": 158,
    "start_time": "2023-07-01T19:59:07.560Z"
   },
   {
    "duration": 300,
    "start_time": "2023-07-01T19:59:07.720Z"
   },
   {
    "duration": 160,
    "start_time": "2023-07-01T19:59:08.024Z"
   },
   {
    "duration": 408,
    "start_time": "2023-07-01T19:59:08.186Z"
   },
   {
    "duration": 167,
    "start_time": "2023-07-01T19:59:08.595Z"
   },
   {
    "duration": 163,
    "start_time": "2023-07-01T19:59:08.764Z"
   },
   {
    "duration": 29,
    "start_time": "2023-07-01T19:59:08.929Z"
   },
   {
    "duration": 18,
    "start_time": "2023-07-01T19:59:08.960Z"
   },
   {
    "duration": 17,
    "start_time": "2023-07-01T19:59:08.980Z"
   },
   {
    "duration": 29,
    "start_time": "2023-07-01T19:59:08.999Z"
   },
   {
    "duration": 482,
    "start_time": "2023-07-01T19:59:09.030Z"
   },
   {
    "duration": 180,
    "start_time": "2023-07-01T19:59:09.514Z"
   },
   {
    "duration": 94,
    "start_time": "2023-07-01T19:59:09.696Z"
   },
   {
    "duration": 363,
    "start_time": "2023-07-01T19:59:09.792Z"
   },
   {
    "duration": 236,
    "start_time": "2023-07-01T19:59:10.156Z"
   },
   {
    "duration": 120,
    "start_time": "2023-07-01T19:59:10.394Z"
   },
   {
    "duration": 528,
    "start_time": "2023-07-01T19:59:10.516Z"
   },
   {
    "duration": 174,
    "start_time": "2023-07-01T19:59:11.046Z"
   },
   {
    "duration": 6,
    "start_time": "2023-07-01T19:59:11.222Z"
   },
   {
    "duration": 49,
    "start_time": "2023-07-01T19:59:11.230Z"
   },
   {
    "duration": 14,
    "start_time": "2023-07-01T19:59:11.281Z"
   },
   {
    "duration": 21,
    "start_time": "2023-07-01T19:59:11.296Z"
   },
   {
    "duration": 6,
    "start_time": "2023-07-01T19:59:33.721Z"
   },
   {
    "duration": 13,
    "start_time": "2023-07-01T19:59:38.538Z"
   },
   {
    "duration": 15,
    "start_time": "2023-07-01T20:31:29.710Z"
   },
   {
    "duration": 17,
    "start_time": "2023-07-01T20:31:43.414Z"
   },
   {
    "duration": 3,
    "start_time": "2023-07-01T20:31:51.714Z"
   },
   {
    "duration": 73,
    "start_time": "2023-07-01T20:31:51.719Z"
   },
   {
    "duration": 8,
    "start_time": "2023-07-01T20:31:51.794Z"
   },
   {
    "duration": 23,
    "start_time": "2023-07-01T20:31:51.804Z"
   },
   {
    "duration": 25,
    "start_time": "2023-07-01T20:31:51.828Z"
   },
   {
    "duration": 9,
    "start_time": "2023-07-01T20:31:51.855Z"
   },
   {
    "duration": 49,
    "start_time": "2023-07-01T20:31:51.866Z"
   },
   {
    "duration": 49,
    "start_time": "2023-07-01T20:31:51.917Z"
   },
   {
    "duration": 6,
    "start_time": "2023-07-01T20:31:51.968Z"
   },
   {
    "duration": 16,
    "start_time": "2023-07-01T20:31:51.976Z"
   },
   {
    "duration": 4,
    "start_time": "2023-07-01T20:31:51.994Z"
   },
   {
    "duration": 18,
    "start_time": "2023-07-01T20:31:52.000Z"
   },
   {
    "duration": 9,
    "start_time": "2023-07-01T20:31:52.020Z"
   },
   {
    "duration": 9,
    "start_time": "2023-07-01T20:31:52.054Z"
   },
   {
    "duration": 39,
    "start_time": "2023-07-01T20:31:52.064Z"
   },
   {
    "duration": 9,
    "start_time": "2023-07-01T20:31:52.105Z"
   },
   {
    "duration": 11,
    "start_time": "2023-07-01T20:31:52.116Z"
   },
   {
    "duration": 32,
    "start_time": "2023-07-01T20:31:52.129Z"
   },
   {
    "duration": 27,
    "start_time": "2023-07-01T20:31:52.163Z"
   },
   {
    "duration": 14,
    "start_time": "2023-07-01T20:31:52.192Z"
   },
   {
    "duration": 187,
    "start_time": "2023-07-01T20:31:52.208Z"
   },
   {
    "duration": 7,
    "start_time": "2023-07-01T20:31:52.397Z"
   },
   {
    "duration": 175,
    "start_time": "2023-07-01T20:31:52.406Z"
   },
   {
    "duration": 7,
    "start_time": "2023-07-01T20:31:52.584Z"
   },
   {
    "duration": 428,
    "start_time": "2023-07-01T20:31:52.593Z"
   },
   {
    "duration": 156,
    "start_time": "2023-07-01T20:31:53.022Z"
   },
   {
    "duration": 304,
    "start_time": "2023-07-01T20:31:53.180Z"
   },
   {
    "duration": 161,
    "start_time": "2023-07-01T20:31:53.486Z"
   },
   {
    "duration": 284,
    "start_time": "2023-07-01T20:31:53.653Z"
   },
   {
    "duration": 155,
    "start_time": "2023-07-01T20:31:53.938Z"
   },
   {
    "duration": 164,
    "start_time": "2023-07-01T20:31:54.095Z"
   },
   {
    "duration": 21,
    "start_time": "2023-07-01T20:31:54.261Z"
   },
   {
    "duration": 18,
    "start_time": "2023-07-01T20:31:54.283Z"
   },
   {
    "duration": 18,
    "start_time": "2023-07-01T20:31:54.303Z"
   },
   {
    "duration": 45,
    "start_time": "2023-07-01T20:31:54.322Z"
   },
   {
    "duration": 553,
    "start_time": "2023-07-01T20:31:54.369Z"
   },
   {
    "duration": 166,
    "start_time": "2023-07-01T20:31:54.924Z"
   },
   {
    "duration": 101,
    "start_time": "2023-07-01T20:31:55.092Z"
   },
   {
    "duration": 247,
    "start_time": "2023-07-01T20:31:55.195Z"
   },
   {
    "duration": 218,
    "start_time": "2023-07-01T20:31:55.444Z"
   },
   {
    "duration": 127,
    "start_time": "2023-07-01T20:31:55.664Z"
   },
   {
    "duration": 603,
    "start_time": "2023-07-01T20:31:55.793Z"
   },
   {
    "duration": 169,
    "start_time": "2023-07-01T20:31:56.397Z"
   },
   {
    "duration": 6,
    "start_time": "2023-07-01T20:31:56.567Z"
   },
   {
    "duration": 62,
    "start_time": "2023-07-01T20:31:56.575Z"
   },
   {
    "duration": 18,
    "start_time": "2023-07-01T20:31:56.639Z"
   },
   {
    "duration": 25,
    "start_time": "2023-07-01T20:31:56.659Z"
   },
   {
    "duration": 14,
    "start_time": "2023-07-01T20:32:00.749Z"
   },
   {
    "duration": 3,
    "start_time": "2023-07-01T21:56:46.071Z"
   },
   {
    "duration": 86,
    "start_time": "2023-07-01T21:56:46.076Z"
   },
   {
    "duration": 8,
    "start_time": "2023-07-01T21:56:46.164Z"
   },
   {
    "duration": 16,
    "start_time": "2023-07-01T21:56:46.174Z"
   },
   {
    "duration": 19,
    "start_time": "2023-07-01T21:56:46.192Z"
   },
   {
    "duration": 9,
    "start_time": "2023-07-01T21:56:46.213Z"
   },
   {
    "duration": 41,
    "start_time": "2023-07-01T21:56:46.223Z"
   },
   {
    "duration": 41,
    "start_time": "2023-07-01T21:56:46.265Z"
   },
   {
    "duration": 7,
    "start_time": "2023-07-01T21:56:46.308Z"
   },
   {
    "duration": 39,
    "start_time": "2023-07-01T21:56:46.317Z"
   },
   {
    "duration": 5,
    "start_time": "2023-07-01T21:56:46.358Z"
   },
   {
    "duration": 10,
    "start_time": "2023-07-01T21:56:46.365Z"
   },
   {
    "duration": 15,
    "start_time": "2023-07-01T21:56:46.378Z"
   },
   {
    "duration": 9,
    "start_time": "2023-07-01T21:56:46.395Z"
   },
   {
    "duration": 23,
    "start_time": "2023-07-01T21:56:46.406Z"
   },
   {
    "duration": 6,
    "start_time": "2023-07-01T21:56:46.453Z"
   },
   {
    "duration": 7,
    "start_time": "2023-07-01T21:56:46.461Z"
   },
   {
    "duration": 13,
    "start_time": "2023-07-01T21:56:46.470Z"
   },
   {
    "duration": 27,
    "start_time": "2023-07-01T21:56:46.485Z"
   },
   {
    "duration": 13,
    "start_time": "2023-07-01T21:56:46.514Z"
   },
   {
    "duration": 190,
    "start_time": "2023-07-01T21:56:46.529Z"
   },
   {
    "duration": 6,
    "start_time": "2023-07-01T21:56:46.721Z"
   },
   {
    "duration": 194,
    "start_time": "2023-07-01T21:56:46.728Z"
   },
   {
    "duration": 6,
    "start_time": "2023-07-01T21:56:46.924Z"
   },
   {
    "duration": 301,
    "start_time": "2023-07-01T21:56:46.932Z"
   },
   {
    "duration": 159,
    "start_time": "2023-07-01T21:56:47.235Z"
   },
   {
    "duration": 306,
    "start_time": "2023-07-01T21:56:47.395Z"
   },
   {
    "duration": 162,
    "start_time": "2023-07-01T21:56:47.703Z"
   },
   {
    "duration": 465,
    "start_time": "2023-07-01T21:56:47.867Z"
   },
   {
    "duration": 160,
    "start_time": "2023-07-01T21:56:48.333Z"
   },
   {
    "duration": 175,
    "start_time": "2023-07-01T21:56:48.495Z"
   },
   {
    "duration": 18,
    "start_time": "2023-07-01T21:56:48.672Z"
   },
   {
    "duration": 17,
    "start_time": "2023-07-01T21:56:48.692Z"
   },
   {
    "duration": 16,
    "start_time": "2023-07-01T21:56:48.711Z"
   },
   {
    "duration": 25,
    "start_time": "2023-07-01T21:56:48.728Z"
   },
   {
    "duration": 629,
    "start_time": "2023-07-01T21:56:48.756Z"
   },
   {
    "duration": 180,
    "start_time": "2023-07-01T21:56:49.389Z"
   },
   {
    "duration": 91,
    "start_time": "2023-07-01T21:56:49.571Z"
   },
   {
    "duration": 370,
    "start_time": "2023-07-01T21:56:49.664Z"
   },
   {
    "duration": 238,
    "start_time": "2023-07-01T21:56:50.036Z"
   },
   {
    "duration": 123,
    "start_time": "2023-07-01T21:56:50.276Z"
   },
   {
    "duration": 542,
    "start_time": "2023-07-01T21:56:50.401Z"
   },
   {
    "duration": 168,
    "start_time": "2023-07-01T21:56:50.945Z"
   },
   {
    "duration": 6,
    "start_time": "2023-07-01T21:56:51.115Z"
   },
   {
    "duration": 67,
    "start_time": "2023-07-01T21:56:51.123Z"
   },
   {
    "duration": 40,
    "start_time": "2023-07-01T21:56:51.191Z"
   },
   {
    "duration": 22,
    "start_time": "2023-07-01T21:56:51.233Z"
   },
   {
    "duration": 13,
    "start_time": "2023-07-01T21:56:51.257Z"
   },
   {
    "duration": 6,
    "start_time": "2023-07-01T21:56:58.392Z"
   },
   {
    "duration": 12,
    "start_time": "2023-07-01T21:56:59.954Z"
   },
   {
    "duration": 5,
    "start_time": "2023-07-01T21:58:10.806Z"
   },
   {
    "duration": 53,
    "start_time": "2023-07-01T21:58:26.377Z"
   },
   {
    "duration": 19,
    "start_time": "2023-07-01T21:59:41.475Z"
   },
   {
    "duration": 3,
    "start_time": "2023-07-01T22:00:28.411Z"
   },
   {
    "duration": 6,
    "start_time": "2023-07-01T22:00:37.847Z"
   },
   {
    "duration": 6,
    "start_time": "2023-07-01T22:03:42.374Z"
   },
   {
    "duration": 5,
    "start_time": "2023-07-01T22:03:56.453Z"
   },
   {
    "duration": 3,
    "start_time": "2023-07-02T05:37:55.284Z"
   },
   {
    "duration": 77,
    "start_time": "2023-07-02T05:37:55.289Z"
   },
   {
    "duration": 9,
    "start_time": "2023-07-02T05:37:55.367Z"
   },
   {
    "duration": 12,
    "start_time": "2023-07-02T05:37:55.379Z"
   },
   {
    "duration": 10,
    "start_time": "2023-07-02T05:37:55.393Z"
   },
   {
    "duration": 11,
    "start_time": "2023-07-02T05:37:55.405Z"
   },
   {
    "duration": 60,
    "start_time": "2023-07-02T05:37:55.417Z"
   },
   {
    "duration": 47,
    "start_time": "2023-07-02T05:37:55.479Z"
   },
   {
    "duration": 27,
    "start_time": "2023-07-02T05:37:55.528Z"
   },
   {
    "duration": 23,
    "start_time": "2023-07-02T05:37:55.557Z"
   },
   {
    "duration": 5,
    "start_time": "2023-07-02T05:37:55.582Z"
   },
   {
    "duration": 11,
    "start_time": "2023-07-02T05:37:55.588Z"
   },
   {
    "duration": 12,
    "start_time": "2023-07-02T05:37:55.600Z"
   },
   {
    "duration": 11,
    "start_time": "2023-07-02T05:37:55.614Z"
   },
   {
    "duration": 15,
    "start_time": "2023-07-02T05:37:55.653Z"
   },
   {
    "duration": 5,
    "start_time": "2023-07-02T05:37:55.670Z"
   },
   {
    "duration": 12,
    "start_time": "2023-07-02T05:37:55.676Z"
   },
   {
    "duration": 12,
    "start_time": "2023-07-02T05:37:55.690Z"
   },
   {
    "duration": 11,
    "start_time": "2023-07-02T05:37:55.704Z"
   },
   {
    "duration": 6,
    "start_time": "2023-07-02T05:37:55.717Z"
   },
   {
    "duration": 185,
    "start_time": "2023-07-02T05:37:55.755Z"
   },
   {
    "duration": 12,
    "start_time": "2023-07-02T05:37:55.941Z"
   },
   {
    "duration": 168,
    "start_time": "2023-07-02T05:37:55.955Z"
   },
   {
    "duration": 7,
    "start_time": "2023-07-02T05:37:56.129Z"
   },
   {
    "duration": 399,
    "start_time": "2023-07-02T05:37:56.137Z"
   },
   {
    "duration": 156,
    "start_time": "2023-07-02T05:37:56.538Z"
   },
   {
    "duration": 309,
    "start_time": "2023-07-02T05:37:56.696Z"
   },
   {
    "duration": 166,
    "start_time": "2023-07-02T05:37:57.006Z"
   },
   {
    "duration": 294,
    "start_time": "2023-07-02T05:37:57.174Z"
   },
   {
    "duration": 169,
    "start_time": "2023-07-02T05:37:57.469Z"
   },
   {
    "duration": 171,
    "start_time": "2023-07-02T05:37:57.639Z"
   },
   {
    "duration": 18,
    "start_time": "2023-07-02T05:37:57.812Z"
   },
   {
    "duration": 39,
    "start_time": "2023-07-02T05:37:57.832Z"
   },
   {
    "duration": 18,
    "start_time": "2023-07-02T05:37:57.873Z"
   },
   {
    "duration": 15,
    "start_time": "2023-07-02T05:37:57.893Z"
   },
   {
    "duration": 568,
    "start_time": "2023-07-02T05:37:57.910Z"
   },
   {
    "duration": 164,
    "start_time": "2023-07-02T05:37:58.479Z"
   },
   {
    "duration": 87,
    "start_time": "2023-07-02T05:37:58.645Z"
   },
   {
    "duration": 280,
    "start_time": "2023-07-02T05:37:58.734Z"
   },
   {
    "duration": 211,
    "start_time": "2023-07-02T05:37:59.016Z"
   },
   {
    "duration": 142,
    "start_time": "2023-07-02T05:37:59.228Z"
   },
   {
    "duration": 569,
    "start_time": "2023-07-02T05:37:59.372Z"
   },
   {
    "duration": 161,
    "start_time": "2023-07-02T05:37:59.942Z"
   },
   {
    "duration": 6,
    "start_time": "2023-07-02T05:38:00.104Z"
   },
   {
    "duration": 51,
    "start_time": "2023-07-02T05:38:00.111Z"
   },
   {
    "duration": 17,
    "start_time": "2023-07-02T05:38:00.164Z"
   },
   {
    "duration": 34,
    "start_time": "2023-07-02T05:38:00.182Z"
   },
   {
    "duration": 28,
    "start_time": "2023-07-02T05:38:00.218Z"
   },
   {
    "duration": 8,
    "start_time": "2023-07-02T05:38:00.248Z"
   },
   {
    "duration": 8,
    "start_time": "2023-07-02T05:38:03.885Z"
   },
   {
    "duration": 9,
    "start_time": "2023-07-02T05:38:13.580Z"
   },
   {
    "duration": 8,
    "start_time": "2023-07-02T05:38:21.388Z"
   },
   {
    "duration": 8,
    "start_time": "2023-07-02T05:38:39.261Z"
   },
   {
    "duration": 6,
    "start_time": "2023-07-02T05:38:41.876Z"
   },
   {
    "duration": 6,
    "start_time": "2023-07-02T05:38:44.757Z"
   },
   {
    "duration": 8,
    "start_time": "2023-07-02T05:38:57.801Z"
   },
   {
    "duration": 8,
    "start_time": "2023-07-02T05:39:00.569Z"
   },
   {
    "duration": 7,
    "start_time": "2023-07-02T05:39:02.788Z"
   },
   {
    "duration": 8,
    "start_time": "2023-07-02T05:39:07.221Z"
   },
   {
    "duration": 6,
    "start_time": "2023-07-02T05:40:24.685Z"
   },
   {
    "duration": 7,
    "start_time": "2023-07-02T05:51:20.906Z"
   },
   {
    "duration": 9,
    "start_time": "2023-07-02T05:51:31.515Z"
   },
   {
    "duration": 9,
    "start_time": "2023-07-02T05:51:32.978Z"
   },
   {
    "duration": 7,
    "start_time": "2023-07-02T05:51:38.065Z"
   },
   {
    "duration": 12,
    "start_time": "2023-07-02T06:39:55.965Z"
   },
   {
    "duration": 14,
    "start_time": "2023-07-02T07:03:57.731Z"
   },
   {
    "duration": 6,
    "start_time": "2023-07-02T07:04:03.180Z"
   },
   {
    "duration": 7,
    "start_time": "2023-07-02T07:04:08.115Z"
   },
   {
    "duration": 8,
    "start_time": "2023-07-02T07:04:09.976Z"
   },
   {
    "duration": 8,
    "start_time": "2023-07-02T07:04:12.098Z"
   },
   {
    "duration": 8,
    "start_time": "2023-07-02T07:04:13.732Z"
   },
   {
    "duration": 8,
    "start_time": "2023-07-02T07:04:15.602Z"
   },
   {
    "duration": 8,
    "start_time": "2023-07-02T07:04:21.597Z"
   },
   {
    "duration": 7,
    "start_time": "2023-07-02T07:04:23.917Z"
   },
   {
    "duration": 8,
    "start_time": "2023-07-02T07:04:25.663Z"
   },
   {
    "duration": 8,
    "start_time": "2023-07-02T07:04:27.481Z"
   },
   {
    "duration": 9,
    "start_time": "2023-07-02T07:04:44.105Z"
   },
   {
    "duration": 8,
    "start_time": "2023-07-02T07:04:53.766Z"
   },
   {
    "duration": 9,
    "start_time": "2023-07-02T07:04:57.429Z"
   },
   {
    "duration": 8,
    "start_time": "2023-07-02T07:05:00.181Z"
   },
   {
    "duration": 8,
    "start_time": "2023-07-02T07:05:21.699Z"
   },
   {
    "duration": 8,
    "start_time": "2023-07-02T07:05:29.233Z"
   },
   {
    "duration": 8,
    "start_time": "2023-07-02T07:05:39.573Z"
   },
   {
    "duration": 8,
    "start_time": "2023-07-02T07:05:52.812Z"
   },
   {
    "duration": 7,
    "start_time": "2023-07-02T07:06:08.071Z"
   },
   {
    "duration": 7,
    "start_time": "2023-07-02T07:06:33.345Z"
   },
   {
    "duration": 5,
    "start_time": "2023-07-02T07:07:34.713Z"
   },
   {
    "duration": 8,
    "start_time": "2023-07-02T07:07:38.495Z"
   },
   {
    "duration": 6,
    "start_time": "2023-07-02T07:07:54.195Z"
   },
   {
    "duration": 5,
    "start_time": "2023-07-02T07:08:01.625Z"
   },
   {
    "duration": 8,
    "start_time": "2023-07-02T07:08:06.965Z"
   },
   {
    "duration": 5,
    "start_time": "2023-07-02T07:08:14.777Z"
   },
   {
    "duration": 7,
    "start_time": "2023-07-02T07:08:17.568Z"
   },
   {
    "duration": 5,
    "start_time": "2023-07-02T08:02:49.061Z"
   },
   {
    "duration": 6,
    "start_time": "2023-07-02T08:07:18.547Z"
   },
   {
    "duration": 3,
    "start_time": "2023-07-02T17:16:30.295Z"
   },
   {
    "duration": 94,
    "start_time": "2023-07-02T17:16:30.300Z"
   },
   {
    "duration": 9,
    "start_time": "2023-07-02T17:16:30.396Z"
   },
   {
    "duration": 36,
    "start_time": "2023-07-02T17:16:30.407Z"
   },
   {
    "duration": 34,
    "start_time": "2023-07-02T17:16:30.445Z"
   },
   {
    "duration": 25,
    "start_time": "2023-07-02T17:16:30.481Z"
   },
   {
    "duration": 71,
    "start_time": "2023-07-02T17:16:30.508Z"
   },
   {
    "duration": 44,
    "start_time": "2023-07-02T17:16:30.581Z"
   },
   {
    "duration": 30,
    "start_time": "2023-07-02T17:16:30.628Z"
   },
   {
    "duration": 48,
    "start_time": "2023-07-02T17:16:30.660Z"
   },
   {
    "duration": 27,
    "start_time": "2023-07-02T17:16:30.710Z"
   },
   {
    "duration": 22,
    "start_time": "2023-07-02T17:16:30.739Z"
   },
   {
    "duration": 49,
    "start_time": "2023-07-02T17:16:30.763Z"
   },
   {
    "duration": 37,
    "start_time": "2023-07-02T17:16:30.814Z"
   },
   {
    "duration": 43,
    "start_time": "2023-07-02T17:16:30.853Z"
   },
   {
    "duration": 24,
    "start_time": "2023-07-02T17:16:30.898Z"
   },
   {
    "duration": 39,
    "start_time": "2023-07-02T17:16:30.924Z"
   },
   {
    "duration": 39,
    "start_time": "2023-07-02T17:16:30.965Z"
   },
   {
    "duration": 72,
    "start_time": "2023-07-02T17:16:31.006Z"
   },
   {
    "duration": 49,
    "start_time": "2023-07-02T17:16:31.079Z"
   },
   {
    "duration": 248,
    "start_time": "2023-07-02T17:16:31.130Z"
   },
   {
    "duration": 6,
    "start_time": "2023-07-02T17:16:31.380Z"
   },
   {
    "duration": 213,
    "start_time": "2023-07-02T17:16:31.388Z"
   },
   {
    "duration": 8,
    "start_time": "2023-07-02T17:16:31.605Z"
   },
   {
    "duration": 318,
    "start_time": "2023-07-02T17:16:31.614Z"
   },
   {
    "duration": 151,
    "start_time": "2023-07-02T17:16:31.934Z"
   },
   {
    "duration": 346,
    "start_time": "2023-07-02T17:16:32.088Z"
   },
   {
    "duration": 201,
    "start_time": "2023-07-02T17:16:32.436Z"
   },
   {
    "duration": 411,
    "start_time": "2023-07-02T17:16:32.639Z"
   },
   {
    "duration": 163,
    "start_time": "2023-07-02T17:16:33.054Z"
   },
   {
    "duration": 156,
    "start_time": "2023-07-02T17:16:33.219Z"
   },
   {
    "duration": 18,
    "start_time": "2023-07-02T17:16:33.377Z"
   },
   {
    "duration": 18,
    "start_time": "2023-07-02T17:16:33.396Z"
   },
   {
    "duration": 44,
    "start_time": "2023-07-02T17:16:33.416Z"
   },
   {
    "duration": 16,
    "start_time": "2023-07-02T17:16:33.461Z"
   },
   {
    "duration": 471,
    "start_time": "2023-07-02T17:16:33.479Z"
   },
   {
    "duration": 158,
    "start_time": "2023-07-02T17:16:33.953Z"
   },
   {
    "duration": 95,
    "start_time": "2023-07-02T17:16:34.113Z"
   },
   {
    "duration": 393,
    "start_time": "2023-07-02T17:16:34.210Z"
   },
   {
    "duration": 229,
    "start_time": "2023-07-02T17:16:34.604Z"
   },
   {
    "duration": 151,
    "start_time": "2023-07-02T17:16:34.835Z"
   },
   {
    "duration": 508,
    "start_time": "2023-07-02T17:16:34.988Z"
   },
   {
    "duration": 184,
    "start_time": "2023-07-02T17:16:35.498Z"
   },
   {
    "duration": 9,
    "start_time": "2023-07-02T17:16:35.684Z"
   },
   {
    "duration": 63,
    "start_time": "2023-07-02T17:16:35.695Z"
   },
   {
    "duration": 18,
    "start_time": "2023-07-02T17:16:35.760Z"
   },
   {
    "duration": 37,
    "start_time": "2023-07-02T17:16:35.780Z"
   },
   {
    "duration": 37,
    "start_time": "2023-07-02T17:16:35.819Z"
   },
   {
    "duration": 6,
    "start_time": "2023-07-02T17:16:35.858Z"
   },
   {
    "duration": 36,
    "start_time": "2023-07-02T17:16:35.865Z"
   },
   {
    "duration": 14,
    "start_time": "2023-07-02T17:16:35.903Z"
   },
   {
    "duration": 7,
    "start_time": "2023-07-02T17:16:43.210Z"
   },
   {
    "duration": 7,
    "start_time": "2023-07-02T17:48:41.345Z"
   },
   {
    "duration": 28,
    "start_time": "2023-07-02T18:22:05.040Z"
   },
   {
    "duration": 3,
    "start_time": "2023-07-02T18:22:09.900Z"
   },
   {
    "duration": 73,
    "start_time": "2023-07-02T18:22:09.906Z"
   },
   {
    "duration": 8,
    "start_time": "2023-07-02T18:22:09.981Z"
   },
   {
    "duration": 10,
    "start_time": "2023-07-02T18:22:09.991Z"
   },
   {
    "duration": 16,
    "start_time": "2023-07-02T18:22:10.003Z"
   },
   {
    "duration": 9,
    "start_time": "2023-07-02T18:22:10.020Z"
   },
   {
    "duration": 55,
    "start_time": "2023-07-02T18:22:10.031Z"
   },
   {
    "duration": 41,
    "start_time": "2023-07-02T18:22:10.088Z"
   },
   {
    "duration": 27,
    "start_time": "2023-07-02T18:22:10.130Z"
   },
   {
    "duration": 22,
    "start_time": "2023-07-02T18:22:10.159Z"
   },
   {
    "duration": 6,
    "start_time": "2023-07-02T18:22:10.185Z"
   },
   {
    "duration": 12,
    "start_time": "2023-07-02T18:22:10.192Z"
   },
   {
    "duration": 12,
    "start_time": "2023-07-02T18:22:10.206Z"
   },
   {
    "duration": 39,
    "start_time": "2023-07-02T18:22:10.220Z"
   },
   {
    "duration": 17,
    "start_time": "2023-07-02T18:22:10.262Z"
   },
   {
    "duration": 5,
    "start_time": "2023-07-02T18:22:10.281Z"
   },
   {
    "duration": 9,
    "start_time": "2023-07-02T18:22:10.288Z"
   },
   {
    "duration": 5,
    "start_time": "2023-07-02T18:22:10.298Z"
   },
   {
    "duration": 54,
    "start_time": "2023-07-02T18:22:10.304Z"
   },
   {
    "duration": 7,
    "start_time": "2023-07-02T18:22:10.359Z"
   },
   {
    "duration": 199,
    "start_time": "2023-07-02T18:22:10.368Z"
   },
   {
    "duration": 7,
    "start_time": "2023-07-02T18:22:10.568Z"
   },
   {
    "duration": 177,
    "start_time": "2023-07-02T18:22:10.577Z"
   },
   {
    "duration": 7,
    "start_time": "2023-07-02T18:22:10.756Z"
   },
   {
    "duration": 438,
    "start_time": "2023-07-02T18:22:10.767Z"
   },
   {
    "duration": 159,
    "start_time": "2023-07-02T18:22:11.206Z"
   },
   {
    "duration": 322,
    "start_time": "2023-07-02T18:22:11.367Z"
   },
   {
    "duration": 177,
    "start_time": "2023-07-02T18:22:11.690Z"
   },
   {
    "duration": 303,
    "start_time": "2023-07-02T18:22:11.869Z"
   },
   {
    "duration": 186,
    "start_time": "2023-07-02T18:22:12.174Z"
   },
   {
    "duration": 234,
    "start_time": "2023-07-02T18:22:12.362Z"
   },
   {
    "duration": 21,
    "start_time": "2023-07-02T18:22:12.598Z"
   },
   {
    "duration": 48,
    "start_time": "2023-07-02T18:22:12.621Z"
   },
   {
    "duration": 23,
    "start_time": "2023-07-02T18:22:12.671Z"
   },
   {
    "duration": 19,
    "start_time": "2023-07-02T18:22:12.696Z"
   },
   {
    "duration": 653,
    "start_time": "2023-07-02T18:22:12.717Z"
   },
   {
    "duration": 199,
    "start_time": "2023-07-02T18:22:13.372Z"
   },
   {
    "duration": 112,
    "start_time": "2023-07-02T18:22:13.572Z"
   },
   {
    "duration": 296,
    "start_time": "2023-07-02T18:22:13.686Z"
   },
   {
    "duration": 326,
    "start_time": "2023-07-02T18:22:13.985Z"
   },
   {
    "duration": 174,
    "start_time": "2023-07-02T18:22:14.313Z"
   },
   {
    "duration": 675,
    "start_time": "2023-07-02T18:22:14.489Z"
   },
   {
    "duration": 190,
    "start_time": "2023-07-02T18:22:15.166Z"
   },
   {
    "duration": 7,
    "start_time": "2023-07-02T18:22:15.358Z"
   },
   {
    "duration": 85,
    "start_time": "2023-07-02T18:22:15.367Z"
   },
   {
    "duration": 18,
    "start_time": "2023-07-02T18:22:15.454Z"
   },
   {
    "duration": 45,
    "start_time": "2023-07-02T18:22:15.474Z"
   },
   {
    "duration": 1656,
    "start_time": "2023-07-02T18:22:19.786Z"
   },
   {
    "duration": 26,
    "start_time": "2023-07-02T18:25:08.719Z"
   },
   {
    "duration": 3,
    "start_time": "2023-07-02T18:27:10.701Z"
   },
   {
    "duration": 75,
    "start_time": "2023-07-02T18:27:10.706Z"
   },
   {
    "duration": 9,
    "start_time": "2023-07-02T18:27:10.784Z"
   },
   {
    "duration": 16,
    "start_time": "2023-07-02T18:27:10.794Z"
   },
   {
    "duration": 11,
    "start_time": "2023-07-02T18:27:10.813Z"
   },
   {
    "duration": 28,
    "start_time": "2023-07-02T18:27:10.826Z"
   },
   {
    "duration": 39,
    "start_time": "2023-07-02T18:27:10.856Z"
   },
   {
    "duration": 63,
    "start_time": "2023-07-02T18:27:10.897Z"
   },
   {
    "duration": 8,
    "start_time": "2023-07-02T18:27:10.962Z"
   },
   {
    "duration": 16,
    "start_time": "2023-07-02T18:27:10.971Z"
   },
   {
    "duration": 5,
    "start_time": "2023-07-02T18:27:10.989Z"
   },
   {
    "duration": 12,
    "start_time": "2023-07-02T18:27:10.996Z"
   },
   {
    "duration": 9,
    "start_time": "2023-07-02T18:27:11.010Z"
   },
   {
    "duration": 7,
    "start_time": "2023-07-02T18:27:11.058Z"
   },
   {
    "duration": 19,
    "start_time": "2023-07-02T18:27:11.066Z"
   },
   {
    "duration": 5,
    "start_time": "2023-07-02T18:27:11.087Z"
   },
   {
    "duration": 9,
    "start_time": "2023-07-02T18:27:11.093Z"
   },
   {
    "duration": 7,
    "start_time": "2023-07-02T18:27:11.104Z"
   },
   {
    "duration": 42,
    "start_time": "2023-07-02T18:27:11.113Z"
   },
   {
    "duration": 8,
    "start_time": "2023-07-02T18:27:11.157Z"
   },
   {
    "duration": 222,
    "start_time": "2023-07-02T18:27:11.167Z"
   },
   {
    "duration": 7,
    "start_time": "2023-07-02T18:27:11.390Z"
   },
   {
    "duration": 193,
    "start_time": "2023-07-02T18:27:11.399Z"
   },
   {
    "duration": 7,
    "start_time": "2023-07-02T18:27:11.594Z"
   },
   {
    "duration": 310,
    "start_time": "2023-07-02T18:27:11.602Z"
   },
   {
    "duration": 157,
    "start_time": "2023-07-02T18:27:11.914Z"
   },
   {
    "duration": 333,
    "start_time": "2023-07-02T18:27:12.073Z"
   },
   {
    "duration": 218,
    "start_time": "2023-07-02T18:27:12.408Z"
   },
   {
    "duration": 434,
    "start_time": "2023-07-02T18:27:12.632Z"
   },
   {
    "duration": 189,
    "start_time": "2023-07-02T18:27:13.067Z"
   },
   {
    "duration": 173,
    "start_time": "2023-07-02T18:27:13.258Z"
   },
   {
    "duration": 39,
    "start_time": "2023-07-02T18:27:13.433Z"
   },
   {
    "duration": 25,
    "start_time": "2023-07-02T18:27:13.474Z"
   },
   {
    "duration": 21,
    "start_time": "2023-07-02T18:27:13.501Z"
   },
   {
    "duration": 28,
    "start_time": "2023-07-02T18:27:13.555Z"
   },
   {
    "duration": 497,
    "start_time": "2023-07-02T18:27:13.585Z"
   },
   {
    "duration": 208,
    "start_time": "2023-07-02T18:27:14.084Z"
   },
   {
    "duration": 113,
    "start_time": "2023-07-02T18:27:14.293Z"
   },
   {
    "duration": 385,
    "start_time": "2023-07-02T18:27:14.408Z"
   },
   {
    "duration": 236,
    "start_time": "2023-07-02T18:27:14.795Z"
   },
   {
    "duration": 151,
    "start_time": "2023-07-02T18:27:15.033Z"
   },
   {
    "duration": 501,
    "start_time": "2023-07-02T18:27:15.186Z"
   },
   {
    "duration": 171,
    "start_time": "2023-07-02T18:27:15.689Z"
   },
   {
    "duration": 6,
    "start_time": "2023-07-02T18:27:15.862Z"
   },
   {
    "duration": 44,
    "start_time": "2023-07-02T18:27:15.870Z"
   },
   {
    "duration": 15,
    "start_time": "2023-07-02T18:27:15.915Z"
   },
   {
    "duration": 4,
    "start_time": "2023-07-02T18:29:27.313Z"
   },
   {
    "duration": 72,
    "start_time": "2023-07-02T18:29:27.320Z"
   },
   {
    "duration": 12,
    "start_time": "2023-07-02T18:29:27.394Z"
   },
   {
    "duration": 12,
    "start_time": "2023-07-02T18:29:27.407Z"
   },
   {
    "duration": 11,
    "start_time": "2023-07-02T18:29:27.422Z"
   },
   {
    "duration": 28,
    "start_time": "2023-07-02T18:29:27.435Z"
   },
   {
    "duration": 57,
    "start_time": "2023-07-02T18:29:27.466Z"
   },
   {
    "duration": 56,
    "start_time": "2023-07-02T18:29:27.525Z"
   },
   {
    "duration": 8,
    "start_time": "2023-07-02T18:29:27.583Z"
   },
   {
    "duration": 38,
    "start_time": "2023-07-02T18:29:27.592Z"
   },
   {
    "duration": 9,
    "start_time": "2023-07-02T18:29:27.632Z"
   },
   {
    "duration": 27,
    "start_time": "2023-07-02T18:29:27.643Z"
   },
   {
    "duration": 26,
    "start_time": "2023-07-02T18:29:27.674Z"
   },
   {
    "duration": 16,
    "start_time": "2023-07-02T18:29:27.702Z"
   },
   {
    "duration": 36,
    "start_time": "2023-07-02T18:29:27.720Z"
   },
   {
    "duration": 5,
    "start_time": "2023-07-02T18:29:27.759Z"
   },
   {
    "duration": 29,
    "start_time": "2023-07-02T18:29:27.765Z"
   },
   {
    "duration": 23,
    "start_time": "2023-07-02T18:29:27.796Z"
   },
   {
    "duration": 34,
    "start_time": "2023-07-02T18:29:27.821Z"
   },
   {
    "duration": 14,
    "start_time": "2023-07-02T18:29:27.857Z"
   },
   {
    "duration": 174,
    "start_time": "2023-07-02T18:29:27.873Z"
   },
   {
    "duration": 6,
    "start_time": "2023-07-02T18:29:28.049Z"
   },
   {
    "duration": 173,
    "start_time": "2023-07-02T18:29:28.056Z"
   },
   {
    "duration": 7,
    "start_time": "2023-07-02T18:29:28.230Z"
   },
   {
    "duration": 402,
    "start_time": "2023-07-02T18:29:28.238Z"
   },
   {
    "duration": 158,
    "start_time": "2023-07-02T18:29:28.641Z"
   },
   {
    "duration": 298,
    "start_time": "2023-07-02T18:29:28.801Z"
   },
   {
    "duration": 162,
    "start_time": "2023-07-02T18:29:29.101Z"
   },
   {
    "duration": 288,
    "start_time": "2023-07-02T18:29:29.265Z"
   },
   {
    "duration": 161,
    "start_time": "2023-07-02T18:29:29.555Z"
   },
   {
    "duration": 178,
    "start_time": "2023-07-02T18:29:29.718Z"
   },
   {
    "duration": 26,
    "start_time": "2023-07-02T18:29:29.897Z"
   },
   {
    "duration": 28,
    "start_time": "2023-07-02T18:29:29.925Z"
   },
   {
    "duration": 17,
    "start_time": "2023-07-02T18:29:29.955Z"
   },
   {
    "duration": 14,
    "start_time": "2023-07-02T18:29:29.974Z"
   },
   {
    "duration": 720,
    "start_time": "2023-07-02T18:29:29.989Z"
   },
   {
    "duration": 173,
    "start_time": "2023-07-02T18:29:30.713Z"
   },
   {
    "duration": 90,
    "start_time": "2023-07-02T18:29:30.888Z"
   },
   {
    "duration": 257,
    "start_time": "2023-07-02T18:29:30.980Z"
   },
   {
    "duration": 298,
    "start_time": "2023-07-02T18:29:31.240Z"
   },
   {
    "duration": 228,
    "start_time": "2023-07-02T18:29:31.541Z"
   },
   {
    "duration": 686,
    "start_time": "2023-07-02T18:29:31.771Z"
   },
   {
    "duration": 242,
    "start_time": "2023-07-02T18:29:32.460Z"
   },
   {
    "duration": 6,
    "start_time": "2023-07-02T18:29:32.704Z"
   },
   {
    "duration": 55,
    "start_time": "2023-07-02T18:29:32.712Z"
   },
   {
    "duration": 14,
    "start_time": "2023-07-02T18:29:32.769Z"
   },
   {
    "duration": 18,
    "start_time": "2023-07-02T18:29:35.837Z"
   },
   {
    "duration": 25,
    "start_time": "2023-07-02T18:29:47.404Z"
   },
   {
    "duration": 4,
    "start_time": "2023-07-02T18:29:57.404Z"
   },
   {
    "duration": 75,
    "start_time": "2023-07-02T18:29:57.409Z"
   },
   {
    "duration": 8,
    "start_time": "2023-07-02T18:29:57.486Z"
   },
   {
    "duration": 13,
    "start_time": "2023-07-02T18:29:57.496Z"
   },
   {
    "duration": 12,
    "start_time": "2023-07-02T18:29:57.511Z"
   },
   {
    "duration": 30,
    "start_time": "2023-07-02T18:29:57.526Z"
   },
   {
    "duration": 53,
    "start_time": "2023-07-02T18:29:57.559Z"
   },
   {
    "duration": 45,
    "start_time": "2023-07-02T18:29:57.614Z"
   },
   {
    "duration": 7,
    "start_time": "2023-07-02T18:29:57.661Z"
   },
   {
    "duration": 21,
    "start_time": "2023-07-02T18:29:57.669Z"
   },
   {
    "duration": 5,
    "start_time": "2023-07-02T18:29:57.692Z"
   },
   {
    "duration": 25,
    "start_time": "2023-07-02T18:29:57.699Z"
   },
   {
    "duration": 23,
    "start_time": "2023-07-02T18:29:57.725Z"
   },
   {
    "duration": 33,
    "start_time": "2023-07-02T18:29:57.754Z"
   },
   {
    "duration": 24,
    "start_time": "2023-07-02T18:29:57.788Z"
   },
   {
    "duration": 10,
    "start_time": "2023-07-02T18:29:57.814Z"
   },
   {
    "duration": 24,
    "start_time": "2023-07-02T18:29:57.826Z"
   },
   {
    "duration": 22,
    "start_time": "2023-07-02T18:29:57.852Z"
   },
   {
    "duration": 29,
    "start_time": "2023-07-02T18:29:57.875Z"
   },
   {
    "duration": 17,
    "start_time": "2023-07-02T18:29:57.906Z"
   },
   {
    "duration": 212,
    "start_time": "2023-07-02T18:29:57.924Z"
   },
   {
    "duration": 18,
    "start_time": "2023-07-02T18:29:58.137Z"
   },
   {
    "duration": 164,
    "start_time": "2023-07-02T18:29:58.156Z"
   },
   {
    "duration": 6,
    "start_time": "2023-07-02T18:29:58.322Z"
   },
   {
    "duration": 289,
    "start_time": "2023-07-02T18:29:58.329Z"
   },
   {
    "duration": 158,
    "start_time": "2023-07-02T18:29:58.620Z"
   },
   {
    "duration": 294,
    "start_time": "2023-07-02T18:29:58.779Z"
   },
   {
    "duration": 164,
    "start_time": "2023-07-02T18:29:59.074Z"
   },
   {
    "duration": 430,
    "start_time": "2023-07-02T18:29:59.241Z"
   },
   {
    "duration": 175,
    "start_time": "2023-07-02T18:29:59.673Z"
   },
   {
    "duration": 171,
    "start_time": "2023-07-02T18:29:59.853Z"
   },
   {
    "duration": 31,
    "start_time": "2023-07-02T18:30:00.026Z"
   },
   {
    "duration": 58,
    "start_time": "2023-07-02T18:30:00.059Z"
   },
   {
    "duration": 55,
    "start_time": "2023-07-02T18:30:00.119Z"
   },
   {
    "duration": 24,
    "start_time": "2023-07-02T18:30:00.176Z"
   },
   {
    "duration": 509,
    "start_time": "2023-07-02T18:30:00.202Z"
   },
   {
    "duration": 177,
    "start_time": "2023-07-02T18:30:00.713Z"
   },
   {
    "duration": 97,
    "start_time": "2023-07-02T18:30:00.892Z"
   },
   {
    "duration": 389,
    "start_time": "2023-07-02T18:30:00.991Z"
   },
   {
    "duration": 251,
    "start_time": "2023-07-02T18:30:01.382Z"
   },
   {
    "duration": 150,
    "start_time": "2023-07-02T18:30:01.635Z"
   },
   {
    "duration": 557,
    "start_time": "2023-07-02T18:30:01.788Z"
   },
   {
    "duration": 276,
    "start_time": "2023-07-02T18:30:02.347Z"
   },
   {
    "duration": 8,
    "start_time": "2023-07-02T18:30:02.625Z"
   },
   {
    "duration": 127,
    "start_time": "2023-07-02T18:30:02.635Z"
   },
   {
    "duration": 45,
    "start_time": "2023-07-02T18:30:02.764Z"
   },
   {
    "duration": 28,
    "start_time": "2023-07-02T18:30:05.709Z"
   },
   {
    "duration": 5,
    "start_time": "2023-07-02T18:30:14.269Z"
   },
   {
    "duration": 75,
    "start_time": "2023-07-02T18:30:14.289Z"
   },
   {
    "duration": 9,
    "start_time": "2023-07-02T18:30:14.366Z"
   },
   {
    "duration": 13,
    "start_time": "2023-07-02T18:30:14.378Z"
   },
   {
    "duration": 10,
    "start_time": "2023-07-02T18:30:14.393Z"
   },
   {
    "duration": 14,
    "start_time": "2023-07-02T18:30:14.407Z"
   },
   {
    "duration": 68,
    "start_time": "2023-07-02T18:30:14.423Z"
   },
   {
    "duration": 43,
    "start_time": "2023-07-02T18:30:14.494Z"
   },
   {
    "duration": 21,
    "start_time": "2023-07-02T18:30:14.538Z"
   },
   {
    "duration": 22,
    "start_time": "2023-07-02T18:30:14.562Z"
   },
   {
    "duration": 5,
    "start_time": "2023-07-02T18:30:14.586Z"
   },
   {
    "duration": 14,
    "start_time": "2023-07-02T18:30:14.592Z"
   },
   {
    "duration": 11,
    "start_time": "2023-07-02T18:30:14.607Z"
   },
   {
    "duration": 36,
    "start_time": "2023-07-02T18:30:14.619Z"
   },
   {
    "duration": 29,
    "start_time": "2023-07-02T18:30:14.658Z"
   },
   {
    "duration": 157,
    "start_time": "2023-07-02T18:30:14.689Z"
   },
   {
    "duration": 16,
    "start_time": "2023-07-02T18:30:14.848Z"
   },
   {
    "duration": 9,
    "start_time": "2023-07-02T18:30:14.867Z"
   },
   {
    "duration": 13,
    "start_time": "2023-07-02T18:30:14.877Z"
   },
   {
    "duration": 7,
    "start_time": "2023-07-02T18:30:14.892Z"
   },
   {
    "duration": 193,
    "start_time": "2023-07-02T18:30:14.901Z"
   },
   {
    "duration": 7,
    "start_time": "2023-07-02T18:30:15.096Z"
   },
   {
    "duration": 165,
    "start_time": "2023-07-02T18:30:15.105Z"
   },
   {
    "duration": 7,
    "start_time": "2023-07-02T18:30:15.272Z"
   },
   {
    "duration": 393,
    "start_time": "2023-07-02T18:30:15.281Z"
   },
   {
    "duration": 161,
    "start_time": "2023-07-02T18:30:15.677Z"
   },
   {
    "duration": 310,
    "start_time": "2023-07-02T18:30:15.840Z"
   },
   {
    "duration": 174,
    "start_time": "2023-07-02T18:30:16.154Z"
   },
   {
    "duration": 291,
    "start_time": "2023-07-02T18:30:16.330Z"
   },
   {
    "duration": 179,
    "start_time": "2023-07-02T18:30:16.623Z"
   },
   {
    "duration": 176,
    "start_time": "2023-07-02T18:30:16.804Z"
   },
   {
    "duration": 18,
    "start_time": "2023-07-02T18:30:16.982Z"
   },
   {
    "duration": 18,
    "start_time": "2023-07-02T18:30:17.001Z"
   },
   {
    "duration": 46,
    "start_time": "2023-07-02T18:30:17.021Z"
   },
   {
    "duration": 15,
    "start_time": "2023-07-02T18:30:17.068Z"
   },
   {
    "duration": 598,
    "start_time": "2023-07-02T18:30:17.085Z"
   },
   {
    "duration": 175,
    "start_time": "2023-07-02T18:30:17.685Z"
   },
   {
    "duration": 92,
    "start_time": "2023-07-02T18:30:17.861Z"
   },
   {
    "duration": 268,
    "start_time": "2023-07-02T18:30:17.955Z"
   },
   {
    "duration": 236,
    "start_time": "2023-07-02T18:30:18.225Z"
   },
   {
    "duration": 135,
    "start_time": "2023-07-02T18:30:18.463Z"
   },
   {
    "duration": 671,
    "start_time": "2023-07-02T18:30:18.602Z"
   },
   {
    "duration": 182,
    "start_time": "2023-07-02T18:30:19.275Z"
   },
   {
    "duration": 7,
    "start_time": "2023-07-02T18:30:19.459Z"
   },
   {
    "duration": 71,
    "start_time": "2023-07-02T18:30:19.467Z"
   },
   {
    "duration": 15,
    "start_time": "2023-07-02T18:30:19.540Z"
   },
   {
    "duration": 24,
    "start_time": "2023-07-02T18:30:22.074Z"
   },
   {
    "duration": 4,
    "start_time": "2023-07-02T18:32:04.898Z"
   },
   {
    "duration": 90,
    "start_time": "2023-07-02T18:32:04.905Z"
   },
   {
    "duration": 12,
    "start_time": "2023-07-02T18:32:04.997Z"
   },
   {
    "duration": 20,
    "start_time": "2023-07-02T18:32:05.013Z"
   },
   {
    "duration": 12,
    "start_time": "2023-07-02T18:32:05.035Z"
   },
   {
    "duration": 11,
    "start_time": "2023-07-02T18:32:05.049Z"
   },
   {
    "duration": 34,
    "start_time": "2023-07-02T18:32:05.062Z"
   },
   {
    "duration": 58,
    "start_time": "2023-07-02T18:32:05.098Z"
   },
   {
    "duration": 10,
    "start_time": "2023-07-02T18:32:05.159Z"
   },
   {
    "duration": 19,
    "start_time": "2023-07-02T18:32:05.173Z"
   },
   {
    "duration": 6,
    "start_time": "2023-07-02T18:32:05.194Z"
   },
   {
    "duration": 41,
    "start_time": "2023-07-02T18:32:05.202Z"
   },
   {
    "duration": 20,
    "start_time": "2023-07-02T18:32:05.245Z"
   },
   {
    "duration": 17,
    "start_time": "2023-07-02T18:32:05.267Z"
   },
   {
    "duration": 21,
    "start_time": "2023-07-02T18:32:05.286Z"
   },
   {
    "duration": 9,
    "start_time": "2023-07-02T18:32:05.309Z"
   },
   {
    "duration": 14,
    "start_time": "2023-07-02T18:32:05.320Z"
   },
   {
    "duration": 24,
    "start_time": "2023-07-02T18:32:05.336Z"
   },
   {
    "duration": 24,
    "start_time": "2023-07-02T18:32:05.361Z"
   },
   {
    "duration": 10,
    "start_time": "2023-07-02T18:32:05.388Z"
   },
   {
    "duration": 209,
    "start_time": "2023-07-02T18:32:05.400Z"
   },
   {
    "duration": 7,
    "start_time": "2023-07-02T18:32:05.612Z"
   },
   {
    "duration": 184,
    "start_time": "2023-07-02T18:32:05.621Z"
   },
   {
    "duration": 7,
    "start_time": "2023-07-02T18:32:05.807Z"
   },
   {
    "duration": 332,
    "start_time": "2023-07-02T18:32:05.816Z"
   },
   {
    "duration": 161,
    "start_time": "2023-07-02T18:32:06.150Z"
   },
   {
    "duration": 319,
    "start_time": "2023-07-02T18:32:06.312Z"
   },
   {
    "duration": 173,
    "start_time": "2023-07-02T18:32:06.635Z"
   },
   {
    "duration": 435,
    "start_time": "2023-07-02T18:32:06.810Z"
   },
   {
    "duration": 173,
    "start_time": "2023-07-02T18:32:07.253Z"
   },
   {
    "duration": 176,
    "start_time": "2023-07-02T18:32:07.428Z"
   },
   {
    "duration": 18,
    "start_time": "2023-07-02T18:32:07.606Z"
   },
   {
    "duration": 38,
    "start_time": "2023-07-02T18:32:07.626Z"
   },
   {
    "duration": 18,
    "start_time": "2023-07-02T18:32:07.666Z"
   },
   {
    "duration": 15,
    "start_time": "2023-07-02T18:32:07.686Z"
   },
   {
    "duration": 506,
    "start_time": "2023-07-02T18:32:07.703Z"
   },
   {
    "duration": 181,
    "start_time": "2023-07-02T18:32:08.210Z"
   },
   {
    "duration": 95,
    "start_time": "2023-07-02T18:32:08.392Z"
   },
   {
    "duration": 459,
    "start_time": "2023-07-02T18:32:08.490Z"
   },
   {
    "duration": 249,
    "start_time": "2023-07-02T18:32:08.954Z"
   },
   {
    "duration": 153,
    "start_time": "2023-07-02T18:32:09.205Z"
   },
   {
    "duration": 530,
    "start_time": "2023-07-02T18:32:09.360Z"
   },
   {
    "duration": 175,
    "start_time": "2023-07-02T18:32:09.892Z"
   },
   {
    "duration": 7,
    "start_time": "2023-07-02T18:32:10.069Z"
   },
   {
    "duration": 77,
    "start_time": "2023-07-02T18:32:10.078Z"
   },
   {
    "duration": 22,
    "start_time": "2023-07-02T18:32:10.157Z"
   },
   {
    "duration": 36,
    "start_time": "2023-07-02T18:32:10.182Z"
   },
   {
    "duration": 37,
    "start_time": "2023-07-02T18:32:10.220Z"
   },
   {
    "duration": 55,
    "start_time": "2023-07-02T18:32:10.260Z"
   },
   {
    "duration": 40,
    "start_time": "2023-07-02T18:32:10.317Z"
   },
   {
    "duration": 40,
    "start_time": "2023-07-02T18:32:10.359Z"
   },
   {
    "duration": 12,
    "start_time": "2023-07-02T18:38:35.133Z"
   },
   {
    "duration": 1456,
    "start_time": "2023-07-02T18:42:04.915Z"
   },
   {
    "duration": 8,
    "start_time": "2023-07-02T18:42:28.192Z"
   },
   {
    "duration": 9,
    "start_time": "2023-07-02T18:43:54.461Z"
   },
   {
    "duration": 10,
    "start_time": "2023-07-02T18:44:26.601Z"
   },
   {
    "duration": 10,
    "start_time": "2023-07-02T18:44:34.536Z"
   },
   {
    "duration": 6,
    "start_time": "2023-07-02T19:14:43.381Z"
   },
   {
    "duration": 6,
    "start_time": "2023-07-02T19:14:59.306Z"
   },
   {
    "duration": 6,
    "start_time": "2023-07-02T19:15:06.837Z"
   },
   {
    "duration": 13,
    "start_time": "2023-07-02T19:16:34.874Z"
   },
   {
    "duration": 13,
    "start_time": "2023-07-02T19:17:26.998Z"
   },
   {
    "duration": 10,
    "start_time": "2023-07-02T19:22:28.130Z"
   },
   {
    "duration": 4,
    "start_time": "2023-07-02T19:23:44.787Z"
   },
   {
    "duration": 4,
    "start_time": "2023-07-02T19:25:44.366Z"
   },
   {
    "duration": 4,
    "start_time": "2023-07-02T19:26:01.917Z"
   },
   {
    "duration": 12,
    "start_time": "2023-07-02T19:37:44.272Z"
   },
   {
    "duration": 281,
    "start_time": "2023-07-03T11:35:52.793Z"
   },
   {
    "duration": 241,
    "start_time": "2023-07-03T11:54:03.726Z"
   },
   {
    "duration": 291,
    "start_time": "2023-07-03T11:54:19.127Z"
   },
   {
    "duration": 440,
    "start_time": "2023-07-03T11:54:36.667Z"
   },
   {
    "duration": 329,
    "start_time": "2023-07-03T11:57:34.832Z"
   },
   {
    "duration": 342,
    "start_time": "2023-07-03T11:58:15.812Z"
   },
   {
    "duration": 381,
    "start_time": "2023-07-03T12:00:09.972Z"
   },
   {
    "duration": 208,
    "start_time": "2023-07-03T12:01:22.466Z"
   },
   {
    "duration": 1641,
    "start_time": "2023-07-03T16:43:25.930Z"
   },
   {
    "duration": 314,
    "start_time": "2023-07-03T16:51:01.996Z"
   },
   {
    "duration": 2049,
    "start_time": "2023-07-03T16:51:22.266Z"
   },
   {
    "duration": 317,
    "start_time": "2023-07-03T16:52:21.853Z"
   },
   {
    "duration": 1828,
    "start_time": "2023-07-03T16:52:39.948Z"
   },
   {
    "duration": 259,
    "start_time": "2023-07-03T16:54:46.191Z"
   },
   {
    "duration": 757,
    "start_time": "2023-07-03T16:55:08.149Z"
   },
   {
    "duration": 1394,
    "start_time": "2023-07-03T16:56:58.978Z"
   },
   {
    "duration": 1605,
    "start_time": "2023-07-03T16:57:11.095Z"
   },
   {
    "duration": 1336,
    "start_time": "2023-07-03T16:57:25.642Z"
   },
   {
    "duration": 1869,
    "start_time": "2023-07-03T16:57:38.325Z"
   },
   {
    "duration": 100,
    "start_time": "2023-07-03T17:46:40.828Z"
   },
   {
    "duration": 5,
    "start_time": "2023-07-03T17:48:23.944Z"
   },
   {
    "duration": 7,
    "start_time": "2023-07-03T18:06:02.325Z"
   },
   {
    "duration": 5,
    "start_time": "2023-07-03T18:06:21.252Z"
   },
   {
    "duration": 92,
    "start_time": "2023-07-03T18:06:31.035Z"
   },
   {
    "duration": 1919,
    "start_time": "2023-07-03T18:06:55.023Z"
   },
   {
    "duration": 278,
    "start_time": "2023-07-03T18:07:07.130Z"
   },
   {
    "duration": 304,
    "start_time": "2023-07-03T18:07:43.746Z"
   },
   {
    "duration": 992,
    "start_time": "2023-07-03T18:08:12.232Z"
   },
   {
    "duration": 1293,
    "start_time": "2023-07-03T18:08:48.252Z"
   },
   {
    "duration": 2014,
    "start_time": "2023-07-03T18:08:58.240Z"
   },
   {
    "duration": 56,
    "start_time": "2023-07-03T18:09:05.428Z"
   },
   {
    "duration": 50,
    "start_time": "2023-07-03T18:09:17.126Z"
   },
   {
    "duration": 53,
    "start_time": "2023-07-03T18:09:40.811Z"
   },
   {
    "duration": 1461,
    "start_time": "2023-07-03T18:09:46.398Z"
   },
   {
    "duration": 47,
    "start_time": "2023-07-03T18:18:20.687Z"
   },
   {
    "duration": 80,
    "start_time": "2023-07-03T18:18:26.672Z"
   },
   {
    "duration": 48,
    "start_time": "2023-07-03T18:18:38.296Z"
   },
   {
    "duration": 82,
    "start_time": "2023-07-03T18:18:46.266Z"
   },
   {
    "duration": 59,
    "start_time": "2023-07-03T18:18:56.973Z"
   },
   {
    "duration": 51,
    "start_time": "2023-07-03T18:21:20.051Z"
   },
   {
    "duration": 64,
    "start_time": "2023-07-03T18:22:00.334Z"
   },
   {
    "duration": 53,
    "start_time": "2023-07-03T18:22:12.991Z"
   },
   {
    "duration": 1428,
    "start_time": "2023-07-03T18:27:57.639Z"
   },
   {
    "duration": 256,
    "start_time": "2023-07-03T18:28:17.572Z"
   },
   {
    "duration": 1699,
    "start_time": "2023-07-03T18:28:51.560Z"
   },
   {
    "duration": 524,
    "start_time": "2023-07-03T18:29:02.287Z"
   },
   {
    "duration": 300,
    "start_time": "2023-07-03T18:29:15.583Z"
   },
   {
    "duration": 323,
    "start_time": "2023-07-03T18:29:30.507Z"
   },
   {
    "duration": 338,
    "start_time": "2023-07-03T18:29:38.415Z"
   },
   {
    "duration": 51,
    "start_time": "2023-07-03T18:29:49.321Z"
   },
   {
    "duration": 2442,
    "start_time": "2023-07-03T18:29:55.236Z"
   },
   {
    "duration": 1768,
    "start_time": "2023-07-03T18:30:01.967Z"
   },
   {
    "duration": 1480,
    "start_time": "2023-07-03T18:30:09.522Z"
   },
   {
    "duration": 2400,
    "start_time": "2023-07-03T18:30:15.339Z"
   },
   {
    "duration": 1557,
    "start_time": "2023-07-03T18:30:23.700Z"
   },
   {
    "duration": 1549,
    "start_time": "2023-07-03T18:30:30.580Z"
   },
   {
    "duration": 53,
    "start_time": "2023-07-03T18:30:36.437Z"
   },
   {
    "duration": 1647,
    "start_time": "2023-07-03T18:30:41.772Z"
   },
   {
    "duration": 2620,
    "start_time": "2023-07-03T18:30:46.048Z"
   },
   {
    "duration": 1580,
    "start_time": "2023-07-03T18:30:53.022Z"
   },
   {
    "duration": 58,
    "start_time": "2023-07-03T18:31:02.182Z"
   },
   {
    "duration": 62,
    "start_time": "2023-07-03T18:31:56.964Z"
   },
   {
    "duration": 63,
    "start_time": "2023-07-03T18:32:22.238Z"
   },
   {
    "duration": 460,
    "start_time": "2023-07-03T18:43:17.569Z"
   },
   {
    "duration": 471,
    "start_time": "2023-07-03T18:43:30.213Z"
   },
   {
    "duration": 474,
    "start_time": "2023-07-03T18:44:15.632Z"
   },
   {
    "duration": 556,
    "start_time": "2023-07-03T18:44:24.124Z"
   },
   {
    "duration": 549,
    "start_time": "2023-07-03T18:45:15.323Z"
   },
   {
    "duration": 554,
    "start_time": "2023-07-03T18:45:22.993Z"
   },
   {
    "duration": 564,
    "start_time": "2023-07-03T18:45:35.308Z"
   },
   {
    "duration": 506,
    "start_time": "2023-07-03T18:45:48.470Z"
   },
   {
    "duration": 505,
    "start_time": "2023-07-03T18:45:56.772Z"
   },
   {
    "duration": 501,
    "start_time": "2023-07-03T18:46:03.538Z"
   },
   {
    "duration": 627,
    "start_time": "2023-07-03T18:46:12.472Z"
   },
   {
    "duration": 2187,
    "start_time": "2023-07-03T18:46:17.629Z"
   },
   {
    "duration": 529,
    "start_time": "2023-07-03T18:46:25.682Z"
   },
   {
    "duration": 526,
    "start_time": "2023-07-03T18:46:34.482Z"
   },
   {
    "duration": 596,
    "start_time": "2023-07-03T18:46:39.020Z"
   },
   {
    "duration": 1667,
    "start_time": "2023-07-03T18:47:45.680Z"
   },
   {
    "duration": 14,
    "start_time": "2023-07-03T19:35:23.685Z"
   },
   {
    "duration": 4,
    "start_time": "2023-07-03T19:35:41.405Z"
   },
   {
    "duration": 1660,
    "start_time": "2023-07-03T19:35:46.330Z"
   },
   {
    "duration": 401,
    "start_time": "2023-07-03T19:36:16.631Z"
   },
   {
    "duration": 1641,
    "start_time": "2023-07-03T19:36:35.741Z"
   },
   {
    "duration": 2115,
    "start_time": "2023-07-03T19:37:56.300Z"
   },
   {
    "duration": 3656,
    "start_time": "2023-07-03T19:38:12.876Z"
   },
   {
    "duration": 1689,
    "start_time": "2023-07-03T19:46:18.543Z"
   },
   {
    "duration": 1901,
    "start_time": "2023-07-03T19:48:14.149Z"
   },
   {
    "duration": 180,
    "start_time": "2023-07-03T19:52:46.041Z"
   },
   {
    "duration": 2078,
    "start_time": "2023-07-03T19:54:07.930Z"
   },
   {
    "duration": 474,
    "start_time": "2023-07-03T19:56:04.832Z"
   },
   {
    "duration": 600,
    "start_time": "2023-07-03T19:58:45.431Z"
   },
   {
    "duration": 477,
    "start_time": "2023-07-03T19:58:52.759Z"
   },
   {
    "duration": 5,
    "start_time": "2023-07-03T20:43:21.544Z"
   },
   {
    "duration": 1684,
    "start_time": "2023-07-03T20:44:15.684Z"
   },
   {
    "duration": 453,
    "start_time": "2023-07-03T20:44:32.987Z"
   },
   {
    "duration": 486,
    "start_time": "2023-07-03T20:44:45.829Z"
   },
   {
    "duration": 7,
    "start_time": "2023-07-03T20:45:52.497Z"
   },
   {
    "duration": 19,
    "start_time": "2023-07-03T20:53:09.881Z"
   },
   {
    "duration": 149,
    "start_time": "2023-07-03T20:53:40.074Z"
   },
   {
    "duration": 5,
    "start_time": "2023-07-03T20:54:34.240Z"
   },
   {
    "duration": 4,
    "start_time": "2023-07-03T20:54:45.804Z"
   },
   {
    "duration": 43812,
    "start_time": "2023-07-03T20:54:54.100Z"
   },
   {
    "duration": 273,
    "start_time": "2023-07-03T20:56:37.925Z"
   },
   {
    "duration": 255,
    "start_time": "2023-07-03T20:59:21.670Z"
   },
   {
    "duration": 286,
    "start_time": "2023-07-03T21:37:24.296Z"
   },
   {
    "duration": 285,
    "start_time": "2023-07-03T21:37:34.221Z"
   },
   {
    "duration": 246,
    "start_time": "2023-07-03T21:37:58.490Z"
   },
   {
    "duration": 264,
    "start_time": "2023-07-03T21:38:10.229Z"
   },
   {
    "duration": 263,
    "start_time": "2023-07-03T21:38:17.098Z"
   },
   {
    "duration": 237,
    "start_time": "2023-07-03T22:29:17.044Z"
   },
   {
    "duration": 231,
    "start_time": "2023-07-03T22:29:30.451Z"
   },
   {
    "duration": 225,
    "start_time": "2023-07-03T22:31:12.465Z"
   },
   {
    "duration": 30,
    "start_time": "2023-07-03T22:31:33.045Z"
   },
   {
    "duration": 17,
    "start_time": "2023-07-03T22:31:46.919Z"
   },
   {
    "duration": 214,
    "start_time": "2023-07-03T22:34:15.880Z"
   },
   {
    "duration": 226,
    "start_time": "2023-07-03T22:36:21.115Z"
   },
   {
    "duration": 245,
    "start_time": "2023-07-03T22:37:01.467Z"
   },
   {
    "duration": 229,
    "start_time": "2023-07-03T22:37:36.808Z"
   },
   {
    "duration": 561,
    "start_time": "2023-07-03T22:39:15.773Z"
   },
   {
    "duration": 451,
    "start_time": "2023-07-03T22:40:15.653Z"
   },
   {
    "duration": 1632,
    "start_time": "2023-07-03T22:40:44.058Z"
   },
   {
    "duration": 1732,
    "start_time": "2023-07-03T22:41:00.923Z"
   },
   {
    "duration": 261,
    "start_time": "2023-07-04T06:41:06.417Z"
   },
   {
    "duration": 298,
    "start_time": "2023-07-04T06:42:47.503Z"
   },
   {
    "duration": 361,
    "start_time": "2023-07-04T06:52:12.851Z"
   },
   {
    "duration": 8,
    "start_time": "2023-07-04T08:29:14.877Z"
   },
   {
    "duration": 17,
    "start_time": "2023-07-04T15:42:06.554Z"
   },
   {
    "duration": 17,
    "start_time": "2023-07-04T15:42:12.720Z"
   },
   {
    "duration": 14,
    "start_time": "2023-07-04T15:42:48.292Z"
   },
   {
    "duration": 457,
    "start_time": "2023-07-04T15:44:58.516Z"
   },
   {
    "duration": 317,
    "start_time": "2023-07-04T15:45:18.907Z"
   },
   {
    "duration": 92,
    "start_time": "2023-07-04T15:53:08.153Z"
   },
   {
    "duration": 150,
    "start_time": "2023-07-04T17:48:54.709Z"
   },
   {
    "duration": 14,
    "start_time": "2023-07-04T17:50:25.130Z"
   },
   {
    "duration": 140,
    "start_time": "2023-07-04T17:50:36.722Z"
   },
   {
    "duration": 17,
    "start_time": "2023-07-04T18:02:04.003Z"
   },
   {
    "duration": 174,
    "start_time": "2023-07-04T18:02:15.910Z"
   },
   {
    "duration": 182,
    "start_time": "2023-07-04T18:09:31.623Z"
   },
   {
    "duration": 236,
    "start_time": "2023-07-04T18:17:22.477Z"
   },
   {
    "duration": 311,
    "start_time": "2023-07-04T18:18:01.435Z"
   },
   {
    "duration": 275,
    "start_time": "2023-07-04T18:23:18.307Z"
   },
   {
    "duration": 303,
    "start_time": "2023-07-04T18:24:39.477Z"
   },
   {
    "duration": 261,
    "start_time": "2023-07-04T18:29:06.677Z"
   },
   {
    "duration": 320,
    "start_time": "2023-07-04T18:30:06.329Z"
   },
   {
    "duration": 224,
    "start_time": "2023-07-04T18:36:21.915Z"
   },
   {
    "duration": 229,
    "start_time": "2023-07-04T18:38:39.613Z"
   },
   {
    "duration": 210,
    "start_time": "2023-07-04T18:44:29.408Z"
   },
   {
    "duration": 203,
    "start_time": "2023-07-04T18:46:42.969Z"
   },
   {
    "duration": 657,
    "start_time": "2023-07-04T18:52:55.655Z"
   },
   {
    "duration": 714,
    "start_time": "2023-07-04T18:53:12.716Z"
   },
   {
    "duration": 461,
    "start_time": "2023-07-04T18:53:40.508Z"
   },
   {
    "duration": 405,
    "start_time": "2023-07-04T18:53:46.395Z"
   },
   {
    "duration": 464,
    "start_time": "2023-07-04T18:53:58.717Z"
   },
   {
    "duration": 515,
    "start_time": "2023-07-04T18:54:46.642Z"
   },
   {
    "duration": 6,
    "start_time": "2023-07-04T19:07:33.605Z"
   },
   {
    "duration": 476,
    "start_time": "2023-07-04T19:08:08.140Z"
   },
   {
    "duration": 9,
    "start_time": "2023-07-04T19:18:19.705Z"
   },
   {
    "duration": 24,
    "start_time": "2023-07-04T19:18:22.645Z"
   },
   {
    "duration": 19,
    "start_time": "2023-07-04T19:19:17.206Z"
   },
   {
    "duration": 4,
    "start_time": "2023-07-04T19:19:27.904Z"
   },
   {
    "duration": 220,
    "start_time": "2023-07-04T19:19:27.910Z"
   },
   {
    "duration": 12,
    "start_time": "2023-07-04T19:19:28.133Z"
   },
   {
    "duration": 66,
    "start_time": "2023-07-04T19:19:28.147Z"
   },
   {
    "duration": 38,
    "start_time": "2023-07-04T19:19:28.215Z"
   },
   {
    "duration": 10,
    "start_time": "2023-07-04T19:20:24.500Z"
   },
   {
    "duration": 14,
    "start_time": "2023-07-04T19:20:32.724Z"
   },
   {
    "duration": 45,
    "start_time": "2023-07-04T19:20:36.288Z"
   },
   {
    "duration": 9,
    "start_time": "2023-07-04T19:22:58.300Z"
   },
   {
    "duration": 20,
    "start_time": "2023-07-04T19:23:00.616Z"
   },
   {
    "duration": 14,
    "start_time": "2023-07-04T19:23:27.859Z"
   },
   {
    "duration": 10,
    "start_time": "2023-07-04T19:23:36.447Z"
   },
   {
    "duration": 35,
    "start_time": "2023-07-04T19:23:38.529Z"
   },
   {
    "duration": 63,
    "start_time": "2023-07-04T19:23:55.317Z"
   },
   {
    "duration": 1438,
    "start_time": "2023-07-04T19:28:59.500Z"
   },
   {
    "duration": 16,
    "start_time": "2023-07-04T19:29:12.231Z"
   },
   {
    "duration": 66,
    "start_time": "2023-07-04T19:29:18.799Z"
   },
   {
    "duration": 4,
    "start_time": "2023-07-04T19:29:25.721Z"
   },
   {
    "duration": 80,
    "start_time": "2023-07-04T19:29:25.727Z"
   },
   {
    "duration": 9,
    "start_time": "2023-07-04T19:29:25.809Z"
   },
   {
    "duration": 20,
    "start_time": "2023-07-04T19:29:25.821Z"
   },
   {
    "duration": 29,
    "start_time": "2023-07-04T19:29:25.844Z"
   },
   {
    "duration": 22,
    "start_time": "2023-07-04T19:29:25.875Z"
   },
   {
    "duration": 60,
    "start_time": "2023-07-04T19:29:25.899Z"
   },
   {
    "duration": 65,
    "start_time": "2023-07-04T19:29:25.960Z"
   },
   {
    "duration": 7,
    "start_time": "2023-07-04T19:29:26.027Z"
   },
   {
    "duration": 17,
    "start_time": "2023-07-04T19:29:26.054Z"
   },
   {
    "duration": 7,
    "start_time": "2023-07-04T19:29:26.075Z"
   },
   {
    "duration": 12,
    "start_time": "2023-07-04T19:29:26.084Z"
   },
   {
    "duration": 25,
    "start_time": "2023-07-04T19:29:26.097Z"
   },
   {
    "duration": 31,
    "start_time": "2023-07-04T19:29:26.124Z"
   },
   {
    "duration": 14,
    "start_time": "2023-07-04T19:29:26.157Z"
   },
   {
    "duration": 18,
    "start_time": "2023-07-04T19:29:26.173Z"
   },
   {
    "duration": 22,
    "start_time": "2023-07-04T19:29:26.193Z"
   },
   {
    "duration": 23,
    "start_time": "2023-07-04T19:29:26.216Z"
   },
   {
    "duration": 19,
    "start_time": "2023-07-04T19:29:26.240Z"
   },
   {
    "duration": 10,
    "start_time": "2023-07-04T19:29:26.261Z"
   },
   {
    "duration": 182,
    "start_time": "2023-07-04T19:29:26.273Z"
   },
   {
    "duration": 9,
    "start_time": "2023-07-04T19:29:26.457Z"
   },
   {
    "duration": 171,
    "start_time": "2023-07-04T19:29:26.468Z"
   },
   {
    "duration": 17,
    "start_time": "2023-07-04T19:29:26.641Z"
   },
   {
    "duration": 297,
    "start_time": "2023-07-04T19:29:26.660Z"
   },
   {
    "duration": 170,
    "start_time": "2023-07-04T19:29:26.959Z"
   },
   {
    "duration": 283,
    "start_time": "2023-07-04T19:29:27.131Z"
   },
   {
    "duration": 177,
    "start_time": "2023-07-04T19:29:27.417Z"
   },
   {
    "duration": 350,
    "start_time": "2023-07-04T19:29:27.599Z"
   },
   {
    "duration": 105,
    "start_time": "2023-07-04T19:29:31.059Z"
   },
   {
    "duration": 10,
    "start_time": "2023-07-04T19:33:28.957Z"
   },
   {
    "duration": 32,
    "start_time": "2023-07-04T19:33:32.151Z"
   },
   {
    "duration": 52,
    "start_time": "2023-07-04T19:34:15.834Z"
   },
   {
    "duration": 11,
    "start_time": "2023-07-04T19:35:24.299Z"
   },
   {
    "duration": 32,
    "start_time": "2023-07-04T19:35:27.546Z"
   },
   {
    "duration": 55,
    "start_time": "2023-07-04T19:35:30.490Z"
   },
   {
    "duration": 4,
    "start_time": "2023-07-04T19:35:45.847Z"
   },
   {
    "duration": 74,
    "start_time": "2023-07-04T19:35:45.853Z"
   },
   {
    "duration": 9,
    "start_time": "2023-07-04T19:35:45.930Z"
   },
   {
    "duration": 17,
    "start_time": "2023-07-04T19:35:45.940Z"
   },
   {
    "duration": 13,
    "start_time": "2023-07-04T19:35:45.959Z"
   },
   {
    "duration": 11,
    "start_time": "2023-07-04T19:35:45.973Z"
   },
   {
    "duration": 46,
    "start_time": "2023-07-04T19:35:45.986Z"
   },
   {
    "duration": 58,
    "start_time": "2023-07-04T19:35:48.960Z"
   },
   {
    "duration": 466,
    "start_time": "2023-07-04T19:39:16.798Z"
   },
   {
    "duration": 1544,
    "start_time": "2023-07-04T21:42:48.510Z"
   },
   {
    "duration": 1565,
    "start_time": "2023-07-04T21:42:55.665Z"
   },
   {
    "duration": 476,
    "start_time": "2023-07-04T21:44:40.729Z"
   },
   {
    "duration": 1556,
    "start_time": "2023-07-04T21:50:19.004Z"
   },
   {
    "duration": 468,
    "start_time": "2023-07-04T22:47:32.535Z"
   },
   {
    "duration": 4,
    "start_time": "2023-07-04T22:48:16.424Z"
   },
   {
    "duration": 87,
    "start_time": "2023-07-04T22:48:16.430Z"
   },
   {
    "duration": 8,
    "start_time": "2023-07-04T22:48:16.519Z"
   },
   {
    "duration": 16,
    "start_time": "2023-07-04T22:48:16.529Z"
   },
   {
    "duration": 16,
    "start_time": "2023-07-04T22:48:16.547Z"
   },
   {
    "duration": 20,
    "start_time": "2023-07-04T22:48:16.564Z"
   },
   {
    "duration": 43,
    "start_time": "2023-07-04T22:48:16.585Z"
   },
   {
    "duration": 60,
    "start_time": "2023-07-04T22:48:16.630Z"
   },
   {
    "duration": 7,
    "start_time": "2023-07-04T22:48:16.692Z"
   },
   {
    "duration": 28,
    "start_time": "2023-07-04T22:48:16.701Z"
   },
   {
    "duration": 27,
    "start_time": "2023-07-04T22:48:16.731Z"
   },
   {
    "duration": 27,
    "start_time": "2023-07-04T22:48:16.760Z"
   },
   {
    "duration": 12,
    "start_time": "2023-07-04T22:48:16.789Z"
   },
   {
    "duration": 27,
    "start_time": "2023-07-04T22:48:16.803Z"
   },
   {
    "duration": 20,
    "start_time": "2023-07-04T22:48:16.832Z"
   },
   {
    "duration": 16,
    "start_time": "2023-07-04T22:48:16.854Z"
   },
   {
    "duration": 9,
    "start_time": "2023-07-04T22:48:16.872Z"
   },
   {
    "duration": 6,
    "start_time": "2023-07-04T22:48:16.883Z"
   },
   {
    "duration": 10,
    "start_time": "2023-07-04T22:48:16.891Z"
   },
   {
    "duration": 26,
    "start_time": "2023-07-04T22:48:16.902Z"
   },
   {
    "duration": 188,
    "start_time": "2023-07-04T22:48:16.930Z"
   },
   {
    "duration": 7,
    "start_time": "2023-07-04T22:48:17.119Z"
   },
   {
    "duration": 184,
    "start_time": "2023-07-04T22:48:17.128Z"
   },
   {
    "duration": 7,
    "start_time": "2023-07-04T22:48:17.314Z"
   },
   {
    "duration": 303,
    "start_time": "2023-07-04T22:48:17.323Z"
   },
   {
    "duration": 152,
    "start_time": "2023-07-04T22:48:17.628Z"
   },
   {
    "duration": 259,
    "start_time": "2023-07-04T22:48:17.781Z"
   },
   {
    "duration": 156,
    "start_time": "2023-07-04T22:48:18.053Z"
   },
   {
    "duration": 342,
    "start_time": "2023-07-04T22:48:18.211Z"
   },
   {
    "duration": 167,
    "start_time": "2023-07-04T22:48:18.555Z"
   },
   {
    "duration": 31,
    "start_time": "2023-07-04T22:48:18.724Z"
   },
   {
    "duration": 20,
    "start_time": "2023-07-04T22:48:18.756Z"
   },
   {
    "duration": 19,
    "start_time": "2023-07-04T22:48:18.777Z"
   },
   {
    "duration": 16,
    "start_time": "2023-07-04T22:48:18.798Z"
   },
   {
    "duration": 2541,
    "start_time": "2023-07-04T22:48:18.816Z"
   },
   {
    "duration": 181,
    "start_time": "2023-07-04T22:48:21.359Z"
   },
   {
    "duration": 96,
    "start_time": "2023-07-04T22:48:21.542Z"
   },
   {
    "duration": 279,
    "start_time": "2023-07-04T22:48:21.640Z"
   },
   {
    "duration": 264,
    "start_time": "2023-07-04T22:48:21.921Z"
   },
   {
    "duration": 125,
    "start_time": "2023-07-04T22:48:22.187Z"
   },
   {
    "duration": 571,
    "start_time": "2023-07-04T22:48:22.314Z"
   },
   {
    "duration": 178,
    "start_time": "2023-07-04T22:48:22.887Z"
   },
   {
    "duration": 9,
    "start_time": "2023-07-04T22:48:23.067Z"
   },
   {
    "duration": 41,
    "start_time": "2023-07-04T22:48:23.078Z"
   },
   {
    "duration": 45,
    "start_time": "2023-07-04T22:48:23.121Z"
   },
   {
    "duration": 32,
    "start_time": "2023-07-04T22:48:23.168Z"
   },
   {
    "duration": 6,
    "start_time": "2023-07-04T22:48:23.201Z"
   },
   {
    "duration": 16,
    "start_time": "2023-07-04T22:48:23.209Z"
   },
   {
    "duration": 12,
    "start_time": "2023-07-04T22:48:23.226Z"
   },
   {
    "duration": 9,
    "start_time": "2023-07-04T22:48:23.253Z"
   },
   {
    "duration": 16,
    "start_time": "2023-07-04T22:48:23.264Z"
   },
   {
    "duration": 30,
    "start_time": "2023-07-04T22:48:23.282Z"
   },
   {
    "duration": 26,
    "start_time": "2023-07-04T22:48:23.314Z"
   },
   {
    "duration": 14,
    "start_time": "2023-07-04T22:48:23.341Z"
   },
   {
    "duration": 20,
    "start_time": "2023-07-04T22:48:23.357Z"
   },
   {
    "duration": 1552,
    "start_time": "2023-07-04T22:48:23.379Z"
   },
   {
    "duration": 483,
    "start_time": "2023-07-04T22:48:24.933Z"
   },
   {
    "duration": 450,
    "start_time": "2023-07-04T22:48:25.418Z"
   },
   {
    "duration": 481,
    "start_time": "2023-07-04T22:48:38.809Z"
   },
   {
    "duration": 480,
    "start_time": "2023-07-04T22:49:01.531Z"
   },
   {
    "duration": 465,
    "start_time": "2023-07-04T22:49:20.130Z"
   },
   {
    "duration": 443,
    "start_time": "2023-07-04T22:49:31.563Z"
   },
   {
    "duration": 455,
    "start_time": "2023-07-04T22:49:55.400Z"
   },
   {
    "duration": 462,
    "start_time": "2023-07-04T22:51:07.549Z"
   },
   {
    "duration": 176,
    "start_time": "2023-07-04T22:56:17.901Z"
   },
   {
    "duration": 3169,
    "start_time": "2023-07-04T22:57:42.836Z"
   },
   {
    "duration": 438,
    "start_time": "2023-07-04T22:59:12.990Z"
   },
   {
    "duration": 435,
    "start_time": "2023-07-04T23:02:19.987Z"
   },
   {
    "duration": 269,
    "start_time": "2023-07-04T23:03:31.045Z"
   },
   {
    "duration": 316,
    "start_time": "2023-07-04T23:03:57.129Z"
   },
   {
    "duration": 202,
    "start_time": "2023-07-04T23:04:36.184Z"
   },
   {
    "duration": 178,
    "start_time": "2023-07-04T23:05:04.415Z"
   },
   {
    "duration": 290,
    "start_time": "2023-07-04T23:05:35.895Z"
   },
   {
    "duration": 18,
    "start_time": "2023-07-04T23:07:43.122Z"
   },
   {
    "duration": 86,
    "start_time": "2023-07-04T23:07:46.523Z"
   },
   {
    "duration": 87,
    "start_time": "2023-07-04T23:09:11.027Z"
   },
   {
    "duration": 87,
    "start_time": "2023-07-04T23:09:47.468Z"
   },
   {
    "duration": 360,
    "start_time": "2023-07-05T05:00:42.188Z"
   },
   {
    "duration": 274,
    "start_time": "2023-07-05T05:01:04.409Z"
   },
   {
    "duration": 276,
    "start_time": "2023-07-05T05:01:19.704Z"
   },
   {
    "duration": 978,
    "start_time": "2023-07-05T05:01:26.646Z"
   },
   {
    "duration": 996,
    "start_time": "2023-07-05T05:02:04.423Z"
   },
   {
    "duration": 246,
    "start_time": "2023-07-05T05:02:34.707Z"
   },
   {
    "duration": 767,
    "start_time": "2023-07-05T05:02:39.155Z"
   },
   {
    "duration": 679,
    "start_time": "2023-07-05T05:02:51.654Z"
   },
   {
    "duration": 730,
    "start_time": "2023-07-05T05:03:06.574Z"
   },
   {
    "duration": 706,
    "start_time": "2023-07-05T05:03:15.442Z"
   },
   {
    "duration": 749,
    "start_time": "2023-07-05T05:03:23.676Z"
   },
   {
    "duration": 710,
    "start_time": "2023-07-05T05:03:35.728Z"
   },
   {
    "duration": 652,
    "start_time": "2023-07-05T05:03:58.880Z"
   },
   {
    "duration": 722,
    "start_time": "2023-07-05T05:04:06.091Z"
   },
   {
    "duration": 4,
    "start_time": "2023-07-05T05:04:53.834Z"
   },
   {
    "duration": 72,
    "start_time": "2023-07-05T05:04:53.840Z"
   },
   {
    "duration": 10,
    "start_time": "2023-07-05T05:04:53.914Z"
   },
   {
    "duration": 35,
    "start_time": "2023-07-05T05:04:53.925Z"
   },
   {
    "duration": 26,
    "start_time": "2023-07-05T05:04:53.961Z"
   },
   {
    "duration": 31,
    "start_time": "2023-07-05T05:04:53.989Z"
   },
   {
    "duration": 80,
    "start_time": "2023-07-05T05:04:54.022Z"
   },
   {
    "duration": 84,
    "start_time": "2023-07-05T05:04:54.103Z"
   },
   {
    "duration": 293,
    "start_time": "2023-07-05T05:04:54.189Z"
   },
   {
    "duration": 2291,
    "start_time": "2023-07-05T05:04:57.494Z"
   },
   {
    "duration": 1266,
    "start_time": "2023-07-05T16:25:40.594Z"
   },
   {
    "duration": 216,
    "start_time": "2023-07-05T16:25:41.862Z"
   },
   {
    "duration": 10,
    "start_time": "2023-07-05T16:25:42.080Z"
   },
   {
    "duration": 7,
    "start_time": "2023-07-05T16:25:42.092Z"
   },
   {
    "duration": 10,
    "start_time": "2023-07-05T16:25:42.110Z"
   },
   {
    "duration": 20,
    "start_time": "2023-07-05T16:25:42.121Z"
   },
   {
    "duration": 33,
    "start_time": "2023-07-05T16:25:42.143Z"
   },
   {
    "duration": 51,
    "start_time": "2023-07-05T16:25:42.177Z"
   },
   {
    "duration": 208,
    "start_time": "2023-07-05T16:25:42.230Z"
   },
   {
    "duration": 371,
    "start_time": "2023-07-05T16:25:48.145Z"
   },
   {
    "duration": 4,
    "start_time": "2023-07-05T17:30:11.629Z"
   },
   {
    "duration": 83,
    "start_time": "2023-07-05T17:30:11.634Z"
   },
   {
    "duration": 7,
    "start_time": "2023-07-05T17:30:11.719Z"
   },
   {
    "duration": 11,
    "start_time": "2023-07-05T17:30:11.727Z"
   },
   {
    "duration": 10,
    "start_time": "2023-07-05T17:30:11.740Z"
   },
   {
    "duration": 8,
    "start_time": "2023-07-05T17:30:11.752Z"
   },
   {
    "duration": 30,
    "start_time": "2023-07-05T17:30:11.761Z"
   },
   {
    "duration": 50,
    "start_time": "2023-07-05T17:30:11.793Z"
   },
   {
    "duration": 204,
    "start_time": "2023-07-05T17:30:11.844Z"
   },
   {
    "duration": 307,
    "start_time": "2023-07-05T17:30:12.049Z"
   },
   {
    "duration": 8,
    "start_time": "2023-07-05T17:30:12.360Z"
   },
   {
    "duration": 15,
    "start_time": "2023-07-05T17:30:12.370Z"
   },
   {
    "duration": 4,
    "start_time": "2023-07-05T17:30:12.400Z"
   },
   {
    "duration": 9,
    "start_time": "2023-07-05T17:30:12.405Z"
   },
   {
    "duration": 9,
    "start_time": "2023-07-05T17:30:12.416Z"
   },
   {
    "duration": 79,
    "start_time": "2023-07-05T17:30:12.426Z"
   },
   {
    "duration": 14,
    "start_time": "2023-07-05T17:30:12.506Z"
   },
   {
    "duration": 4,
    "start_time": "2023-07-05T17:30:12.521Z"
   },
   {
    "duration": 14,
    "start_time": "2023-07-05T17:30:12.526Z"
   },
   {
    "duration": 13,
    "start_time": "2023-07-05T17:30:12.542Z"
   },
   {
    "duration": 9,
    "start_time": "2023-07-05T17:30:12.557Z"
   },
   {
    "duration": 98,
    "start_time": "2023-07-05T17:33:54.320Z"
   },
   {
    "duration": 5,
    "start_time": "2023-07-05T17:34:08.866Z"
   },
   {
    "duration": 136,
    "start_time": "2023-07-05T17:34:22.955Z"
   },
   {
    "duration": 139,
    "start_time": "2023-07-05T17:34:51.951Z"
   },
   {
    "duration": 1106,
    "start_time": "2023-07-05T17:43:56.578Z"
   },
   {
    "duration": 66,
    "start_time": "2023-07-05T17:43:57.685Z"
   },
   {
    "duration": 10,
    "start_time": "2023-07-05T17:43:57.753Z"
   },
   {
    "duration": 9,
    "start_time": "2023-07-05T17:43:57.765Z"
   },
   {
    "duration": 7,
    "start_time": "2023-07-05T17:43:57.775Z"
   },
   {
    "duration": 9,
    "start_time": "2023-07-05T17:43:57.783Z"
   },
   {
    "duration": 51,
    "start_time": "2023-07-05T17:43:57.793Z"
   },
   {
    "duration": 44,
    "start_time": "2023-07-05T17:43:57.845Z"
   },
   {
    "duration": 216,
    "start_time": "2023-07-05T17:43:57.890Z"
   },
   {
    "duration": 338,
    "start_time": "2023-07-05T17:43:58.109Z"
   },
   {
    "duration": 6,
    "start_time": "2023-07-05T17:43:58.449Z"
   },
   {
    "duration": 15,
    "start_time": "2023-07-05T17:43:58.456Z"
   },
   {
    "duration": 4,
    "start_time": "2023-07-05T17:43:58.472Z"
   },
   {
    "duration": 6,
    "start_time": "2023-07-05T17:43:58.477Z"
   },
   {
    "duration": 10,
    "start_time": "2023-07-05T17:43:58.499Z"
   },
   {
    "duration": 13,
    "start_time": "2023-07-05T17:43:58.510Z"
   },
   {
    "duration": 23,
    "start_time": "2023-07-05T17:43:58.524Z"
   },
   {
    "duration": 6,
    "start_time": "2023-07-05T17:43:58.548Z"
   },
   {
    "duration": 5,
    "start_time": "2023-07-05T17:43:58.556Z"
   },
   {
    "duration": 4,
    "start_time": "2023-07-05T17:43:58.563Z"
   },
   {
    "duration": 9,
    "start_time": "2023-07-05T17:43:58.568Z"
   },
   {
    "duration": 26,
    "start_time": "2023-07-05T17:43:58.578Z"
   },
   {
    "duration": 149,
    "start_time": "2023-07-05T17:43:58.607Z"
   },
   {
    "duration": 5,
    "start_time": "2023-07-05T17:43:58.757Z"
   },
   {
    "duration": 125,
    "start_time": "2023-07-05T17:43:58.763Z"
   },
   {
    "duration": 5,
    "start_time": "2023-07-05T17:43:58.890Z"
   },
   {
    "duration": 245,
    "start_time": "2023-07-05T17:43:58.900Z"
   },
   {
    "duration": 173,
    "start_time": "2023-07-05T17:43:59.148Z"
   },
   {
    "duration": 205,
    "start_time": "2023-07-05T17:43:59.323Z"
   },
   {
    "duration": 118,
    "start_time": "2023-07-05T17:43:59.530Z"
   },
   {
    "duration": 259,
    "start_time": "2023-07-05T17:43:59.650Z"
   },
   {
    "duration": 119,
    "start_time": "2023-07-05T17:43:59.911Z"
   },
   {
    "duration": 16,
    "start_time": "2023-07-05T17:44:00.031Z"
   },
   {
    "duration": 15,
    "start_time": "2023-07-05T17:44:00.049Z"
   },
   {
    "duration": 35,
    "start_time": "2023-07-05T17:44:00.066Z"
   },
   {
    "duration": 17,
    "start_time": "2023-07-05T17:44:00.103Z"
   },
   {
    "duration": 411,
    "start_time": "2023-07-05T17:44:00.122Z"
   },
   {
    "duration": 137,
    "start_time": "2023-07-05T17:44:00.539Z"
   },
   {
    "duration": 466,
    "start_time": "2023-07-05T17:44:00.678Z"
   },
   {
    "duration": 161,
    "start_time": "2023-07-05T17:44:01.146Z"
   },
   {
    "duration": 8,
    "start_time": "2023-07-05T17:44:01.310Z"
   },
   {
    "duration": 60,
    "start_time": "2023-07-05T17:44:01.320Z"
   },
   {
    "duration": 41,
    "start_time": "2023-07-05T17:44:01.381Z"
   },
   {
    "duration": 48,
    "start_time": "2023-07-05T17:44:01.424Z"
   },
   {
    "duration": 21,
    "start_time": "2023-07-05T17:44:01.473Z"
   },
   {
    "duration": 49,
    "start_time": "2023-07-05T17:44:01.495Z"
   },
   {
    "duration": 31,
    "start_time": "2023-07-05T17:44:01.546Z"
   },
   {
    "duration": 42,
    "start_time": "2023-07-05T17:44:01.578Z"
   },
   {
    "duration": 40,
    "start_time": "2023-07-05T17:44:01.622Z"
   },
   {
    "duration": 43,
    "start_time": "2023-07-05T17:44:01.663Z"
   },
   {
    "duration": 42,
    "start_time": "2023-07-05T17:44:01.708Z"
   },
   {
    "duration": 18,
    "start_time": "2023-07-05T17:44:01.752Z"
   },
   {
    "duration": 31,
    "start_time": "2023-07-05T17:44:01.772Z"
   },
   {
    "duration": 1340,
    "start_time": "2023-07-05T17:44:01.805Z"
   },
   {
    "duration": 386,
    "start_time": "2023-07-05T17:44:03.147Z"
   },
   {
    "duration": 397,
    "start_time": "2023-07-05T17:44:03.535Z"
   },
   {
    "duration": 638,
    "start_time": "2023-07-05T17:44:03.936Z"
   },
   {
    "duration": 166,
    "start_time": "2023-07-05T17:56:53.426Z"
   },
   {
    "duration": 209,
    "start_time": "2023-07-05T17:58:11.176Z"
   },
   {
    "duration": 32,
    "start_time": "2023-07-05T18:03:56.236Z"
   },
   {
    "duration": 29,
    "start_time": "2023-07-05T18:04:39.154Z"
   },
   {
    "duration": 493,
    "start_time": "2023-07-05T18:07:57.127Z"
   },
   {
    "duration": 9,
    "start_time": "2023-07-05T18:10:06.475Z"
   },
   {
    "duration": 392,
    "start_time": "2023-07-05T18:11:28.786Z"
   },
   {
    "duration": 22,
    "start_time": "2023-07-05T18:11:57.295Z"
   },
   {
    "duration": 10,
    "start_time": "2023-07-05T18:12:05.952Z"
   },
   {
    "duration": 13,
    "start_time": "2023-07-05T18:12:25.337Z"
   },
   {
    "duration": 16,
    "start_time": "2023-07-05T18:12:42.852Z"
   },
   {
    "duration": 22,
    "start_time": "2023-07-05T18:14:12.557Z"
   },
   {
    "duration": 29,
    "start_time": "2023-07-05T18:14:39.474Z"
   },
   {
    "duration": 9,
    "start_time": "2023-07-05T18:18:53.886Z"
   },
   {
    "duration": 13,
    "start_time": "2023-07-05T18:21:21.126Z"
   },
   {
    "duration": 12,
    "start_time": "2023-07-05T18:23:04.153Z"
   },
   {
    "duration": 608,
    "start_time": "2023-07-05T18:24:32.822Z"
   },
   {
    "duration": 205,
    "start_time": "2023-07-05T18:24:51.128Z"
   },
   {
    "duration": 13,
    "start_time": "2023-07-05T18:28:09.826Z"
   },
   {
    "duration": 204,
    "start_time": "2023-07-05T18:28:25.455Z"
   },
   {
    "duration": 223,
    "start_time": "2023-07-05T18:28:35.483Z"
   },
   {
    "duration": 603,
    "start_time": "2023-07-05T18:32:58.232Z"
   },
   {
    "duration": 163,
    "start_time": "2023-07-05T18:33:33.992Z"
   },
   {
    "duration": 4,
    "start_time": "2023-07-05T18:38:35.797Z"
   },
   {
    "duration": 212,
    "start_time": "2023-07-05T18:40:11.904Z"
   },
   {
    "duration": 216,
    "start_time": "2023-07-05T18:40:37.892Z"
   },
   {
    "duration": 217,
    "start_time": "2023-07-05T18:42:29.263Z"
   },
   {
    "duration": 16,
    "start_time": "2023-07-05T18:44:12.652Z"
   },
   {
    "duration": 16,
    "start_time": "2023-07-05T18:45:35.429Z"
   },
   {
    "duration": 73,
    "start_time": "2023-07-05T18:45:43.147Z"
   },
   {
    "duration": 252,
    "start_time": "2023-07-05T18:45:46.617Z"
   },
   {
    "duration": 24,
    "start_time": "2023-07-05T18:46:00.552Z"
   },
   {
    "duration": 15,
    "start_time": "2023-07-05T18:48:09.441Z"
   },
   {
    "duration": 262,
    "start_time": "2023-07-05T18:48:18.652Z"
   },
   {
    "duration": 2698,
    "start_time": "2023-07-05T19:03:42.060Z"
   },
   {
    "duration": 62,
    "start_time": "2023-07-05T19:03:44.760Z"
   },
   {
    "duration": 13,
    "start_time": "2023-07-05T19:03:44.823Z"
   },
   {
    "duration": 7,
    "start_time": "2023-07-05T19:03:44.839Z"
   },
   {
    "duration": 7,
    "start_time": "2023-07-05T19:03:44.848Z"
   },
   {
    "duration": 8,
    "start_time": "2023-07-05T19:03:44.857Z"
   },
   {
    "duration": 38,
    "start_time": "2023-07-05T19:03:44.866Z"
   },
   {
    "duration": 44,
    "start_time": "2023-07-05T19:03:44.906Z"
   },
   {
    "duration": 213,
    "start_time": "2023-07-05T19:03:44.951Z"
   },
   {
    "duration": 312,
    "start_time": "2023-07-05T19:03:45.167Z"
   },
   {
    "duration": 7,
    "start_time": "2023-07-05T19:03:45.481Z"
   },
   {
    "duration": 21,
    "start_time": "2023-07-05T19:03:45.490Z"
   },
   {
    "duration": 5,
    "start_time": "2023-07-05T19:03:45.512Z"
   },
   {
    "duration": 11,
    "start_time": "2023-07-05T19:03:45.518Z"
   },
   {
    "duration": 7,
    "start_time": "2023-07-05T19:03:45.531Z"
   },
   {
    "duration": 152,
    "start_time": "2023-07-05T19:03:45.540Z"
   },
   {
    "duration": 10,
    "start_time": "2023-07-05T19:03:45.693Z"
   },
   {
    "duration": 19,
    "start_time": "2023-07-05T19:03:45.704Z"
   },
   {
    "duration": 4,
    "start_time": "2023-07-05T19:03:45.724Z"
   },
   {
    "duration": 7,
    "start_time": "2023-07-05T19:03:45.729Z"
   },
   {
    "duration": 14,
    "start_time": "2023-07-05T19:03:45.737Z"
   },
   {
    "duration": 7,
    "start_time": "2023-07-05T19:03:45.752Z"
   },
   {
    "duration": 17,
    "start_time": "2023-07-05T19:03:45.760Z"
   },
   {
    "duration": 123,
    "start_time": "2023-07-05T19:03:45.778Z"
   },
   {
    "duration": 101,
    "start_time": "2023-07-05T19:03:45.902Z"
   },
   {
    "duration": 0,
    "start_time": "2023-07-05T19:03:46.006Z"
   },
   {
    "duration": 0,
    "start_time": "2023-07-05T19:03:46.007Z"
   },
   {
    "duration": 0,
    "start_time": "2023-07-05T19:03:46.008Z"
   },
   {
    "duration": 0,
    "start_time": "2023-07-05T19:03:46.009Z"
   },
   {
    "duration": 0,
    "start_time": "2023-07-05T19:03:46.010Z"
   },
   {
    "duration": 0,
    "start_time": "2023-07-05T19:03:46.011Z"
   },
   {
    "duration": 0,
    "start_time": "2023-07-05T19:03:46.012Z"
   },
   {
    "duration": 0,
    "start_time": "2023-07-05T19:03:46.013Z"
   },
   {
    "duration": 0,
    "start_time": "2023-07-05T19:03:46.014Z"
   },
   {
    "duration": 0,
    "start_time": "2023-07-05T19:03:46.014Z"
   },
   {
    "duration": 1,
    "start_time": "2023-07-05T19:03:46.015Z"
   },
   {
    "duration": 0,
    "start_time": "2023-07-05T19:03:46.016Z"
   },
   {
    "duration": 0,
    "start_time": "2023-07-05T19:03:46.018Z"
   },
   {
    "duration": 0,
    "start_time": "2023-07-05T19:03:46.019Z"
   },
   {
    "duration": 0,
    "start_time": "2023-07-05T19:03:46.019Z"
   },
   {
    "duration": 0,
    "start_time": "2023-07-05T19:03:46.020Z"
   },
   {
    "duration": 0,
    "start_time": "2023-07-05T19:03:46.022Z"
   },
   {
    "duration": 0,
    "start_time": "2023-07-05T19:03:46.023Z"
   },
   {
    "duration": 0,
    "start_time": "2023-07-05T19:03:46.024Z"
   },
   {
    "duration": 0,
    "start_time": "2023-07-05T19:03:46.025Z"
   },
   {
    "duration": 0,
    "start_time": "2023-07-05T19:03:46.026Z"
   },
   {
    "duration": 0,
    "start_time": "2023-07-05T19:03:46.027Z"
   },
   {
    "duration": 0,
    "start_time": "2023-07-05T19:03:46.027Z"
   },
   {
    "duration": 0,
    "start_time": "2023-07-05T19:03:46.028Z"
   },
   {
    "duration": 0,
    "start_time": "2023-07-05T19:03:46.029Z"
   },
   {
    "duration": 0,
    "start_time": "2023-07-05T19:03:46.030Z"
   },
   {
    "duration": 0,
    "start_time": "2023-07-05T19:03:46.031Z"
   },
   {
    "duration": 0,
    "start_time": "2023-07-05T19:03:46.032Z"
   },
   {
    "duration": 0,
    "start_time": "2023-07-05T19:03:46.033Z"
   },
   {
    "duration": 0,
    "start_time": "2023-07-05T19:03:46.034Z"
   },
   {
    "duration": 0,
    "start_time": "2023-07-05T19:03:46.035Z"
   },
   {
    "duration": 0,
    "start_time": "2023-07-05T19:03:46.036Z"
   },
   {
    "duration": 0,
    "start_time": "2023-07-05T19:03:46.036Z"
   },
   {
    "duration": 0,
    "start_time": "2023-07-05T19:03:46.037Z"
   },
   {
    "duration": 9,
    "start_time": "2023-07-05T19:06:45.724Z"
   },
   {
    "duration": 1326,
    "start_time": "2023-07-05T19:07:54.016Z"
   },
   {
    "duration": 151,
    "start_time": "2023-07-05T19:07:55.344Z"
   },
   {
    "duration": 12,
    "start_time": "2023-07-05T19:07:55.496Z"
   },
   {
    "duration": 21,
    "start_time": "2023-07-05T19:07:55.510Z"
   },
   {
    "duration": 14,
    "start_time": "2023-07-05T19:07:55.533Z"
   },
   {
    "duration": 10,
    "start_time": "2023-07-05T19:07:55.549Z"
   },
   {
    "duration": 37,
    "start_time": "2023-07-05T19:07:55.561Z"
   },
   {
    "duration": 44,
    "start_time": "2023-07-05T19:07:55.600Z"
   },
   {
    "duration": 209,
    "start_time": "2023-07-05T19:07:55.645Z"
   },
   {
    "duration": 343,
    "start_time": "2023-07-05T19:07:55.856Z"
   },
   {
    "duration": 10,
    "start_time": "2023-07-05T19:07:56.201Z"
   },
   {
    "duration": 26,
    "start_time": "2023-07-05T19:07:56.213Z"
   },
   {
    "duration": 13,
    "start_time": "2023-07-05T19:07:56.241Z"
   },
   {
    "duration": 22,
    "start_time": "2023-07-05T19:07:56.256Z"
   },
   {
    "duration": 13,
    "start_time": "2023-07-05T19:07:56.280Z"
   },
   {
    "duration": 189,
    "start_time": "2023-07-05T19:07:56.295Z"
   },
   {
    "duration": 6,
    "start_time": "2023-07-05T19:07:56.485Z"
   },
   {
    "duration": 14,
    "start_time": "2023-07-05T19:07:56.499Z"
   },
   {
    "duration": 4,
    "start_time": "2023-07-05T19:07:56.515Z"
   },
   {
    "duration": 8,
    "start_time": "2023-07-05T19:07:56.520Z"
   },
   {
    "duration": 9,
    "start_time": "2023-07-05T19:07:56.529Z"
   },
   {
    "duration": 11,
    "start_time": "2023-07-05T19:07:56.539Z"
   },
   {
    "duration": 7,
    "start_time": "2023-07-05T19:07:56.551Z"
   },
   {
    "duration": 143,
    "start_time": "2023-07-05T19:07:56.559Z"
   },
   {
    "duration": 4,
    "start_time": "2023-07-05T19:07:56.704Z"
   },
   {
    "duration": 126,
    "start_time": "2023-07-05T19:07:56.710Z"
   },
   {
    "duration": 6,
    "start_time": "2023-07-05T19:07:56.837Z"
   },
   {
    "duration": 231,
    "start_time": "2023-07-05T19:07:56.848Z"
   },
   {
    "duration": 181,
    "start_time": "2023-07-05T19:07:57.080Z"
   },
   {
    "duration": 197,
    "start_time": "2023-07-05T19:07:57.262Z"
   },
   {
    "duration": 122,
    "start_time": "2023-07-05T19:07:57.461Z"
   },
   {
    "duration": 256,
    "start_time": "2023-07-05T19:07:57.584Z"
   },
   {
    "duration": 125,
    "start_time": "2023-07-05T19:07:57.842Z"
   },
   {
    "duration": 18,
    "start_time": "2023-07-05T19:07:57.968Z"
   },
   {
    "duration": 28,
    "start_time": "2023-07-05T19:07:57.988Z"
   },
   {
    "duration": 31,
    "start_time": "2023-07-05T19:07:58.018Z"
   },
   {
    "duration": 20,
    "start_time": "2023-07-05T19:07:58.050Z"
   },
   {
    "duration": 374,
    "start_time": "2023-07-05T19:07:58.072Z"
   },
   {
    "duration": 122,
    "start_time": "2023-07-05T19:07:58.447Z"
   },
   {
    "duration": 402,
    "start_time": "2023-07-05T19:07:58.571Z"
   },
   {
    "duration": 158,
    "start_time": "2023-07-05T19:07:58.975Z"
   },
   {
    "duration": 107,
    "start_time": "2023-07-05T19:07:59.134Z"
   },
   {
    "duration": 0,
    "start_time": "2023-07-05T19:07:59.243Z"
   },
   {
    "duration": 0,
    "start_time": "2023-07-05T19:07:59.244Z"
   },
   {
    "duration": 0,
    "start_time": "2023-07-05T19:07:59.245Z"
   },
   {
    "duration": 0,
    "start_time": "2023-07-05T19:07:59.246Z"
   },
   {
    "duration": 0,
    "start_time": "2023-07-05T19:07:59.247Z"
   },
   {
    "duration": 0,
    "start_time": "2023-07-05T19:07:59.247Z"
   },
   {
    "duration": 0,
    "start_time": "2023-07-05T19:07:59.248Z"
   },
   {
    "duration": 0,
    "start_time": "2023-07-05T19:07:59.249Z"
   },
   {
    "duration": 0,
    "start_time": "2023-07-05T19:07:59.250Z"
   },
   {
    "duration": 0,
    "start_time": "2023-07-05T19:07:59.251Z"
   },
   {
    "duration": 0,
    "start_time": "2023-07-05T19:07:59.252Z"
   },
   {
    "duration": 0,
    "start_time": "2023-07-05T19:07:59.253Z"
   },
   {
    "duration": 0,
    "start_time": "2023-07-05T19:07:59.253Z"
   },
   {
    "duration": 0,
    "start_time": "2023-07-05T19:07:59.254Z"
   },
   {
    "duration": 0,
    "start_time": "2023-07-05T19:07:59.255Z"
   },
   {
    "duration": 0,
    "start_time": "2023-07-05T19:07:59.255Z"
   },
   {
    "duration": 0,
    "start_time": "2023-07-05T19:07:59.256Z"
   },
   {
    "duration": 1139,
    "start_time": "2023-07-05T19:14:29.903Z"
   },
   {
    "duration": 182,
    "start_time": "2023-07-05T19:14:31.045Z"
   },
   {
    "duration": 12,
    "start_time": "2023-07-05T19:14:31.230Z"
   },
   {
    "duration": 39,
    "start_time": "2023-07-05T19:14:31.244Z"
   },
   {
    "duration": 49,
    "start_time": "2023-07-05T19:14:31.285Z"
   },
   {
    "duration": 30,
    "start_time": "2023-07-05T19:14:31.336Z"
   },
   {
    "duration": 55,
    "start_time": "2023-07-05T19:14:31.368Z"
   },
   {
    "duration": 59,
    "start_time": "2023-07-05T19:14:31.424Z"
   },
   {
    "duration": 296,
    "start_time": "2023-07-05T19:14:31.485Z"
   },
   {
    "duration": 424,
    "start_time": "2023-07-05T19:14:31.783Z"
   },
   {
    "duration": 8,
    "start_time": "2023-07-05T19:14:32.209Z"
   },
   {
    "duration": 41,
    "start_time": "2023-07-05T19:14:32.218Z"
   },
   {
    "duration": 9,
    "start_time": "2023-07-05T19:14:32.261Z"
   },
   {
    "duration": 23,
    "start_time": "2023-07-05T19:14:32.271Z"
   },
   {
    "duration": 25,
    "start_time": "2023-07-05T19:14:32.295Z"
   },
   {
    "duration": 207,
    "start_time": "2023-07-05T19:14:32.321Z"
   },
   {
    "duration": 11,
    "start_time": "2023-07-05T19:14:32.538Z"
   },
   {
    "duration": 58,
    "start_time": "2023-07-05T19:14:32.551Z"
   },
   {
    "duration": 9,
    "start_time": "2023-07-05T19:14:32.612Z"
   },
   {
    "duration": 20,
    "start_time": "2023-07-05T19:14:32.624Z"
   },
   {
    "duration": 25,
    "start_time": "2023-07-05T19:14:32.646Z"
   },
   {
    "duration": 32,
    "start_time": "2023-07-05T19:14:32.672Z"
   },
   {
    "duration": 16,
    "start_time": "2023-07-05T19:14:32.706Z"
   },
   {
    "duration": 176,
    "start_time": "2023-07-05T19:14:32.724Z"
   },
   {
    "duration": 9,
    "start_time": "2023-07-05T19:14:32.902Z"
   },
   {
    "duration": 157,
    "start_time": "2023-07-05T19:14:32.912Z"
   },
   {
    "duration": 8,
    "start_time": "2023-07-05T19:14:33.071Z"
   },
   {
    "duration": 353,
    "start_time": "2023-07-05T19:14:33.084Z"
   },
   {
    "duration": 221,
    "start_time": "2023-07-05T19:14:33.439Z"
   },
   {
    "duration": 223,
    "start_time": "2023-07-05T19:14:33.662Z"
   },
   {
    "duration": 149,
    "start_time": "2023-07-05T19:14:33.887Z"
   },
   {
    "duration": 305,
    "start_time": "2023-07-05T19:14:34.038Z"
   },
   {
    "duration": 196,
    "start_time": "2023-07-05T19:14:34.345Z"
   },
   {
    "duration": 23,
    "start_time": "2023-07-05T19:14:34.543Z"
   },
   {
    "duration": 49,
    "start_time": "2023-07-05T19:14:34.568Z"
   },
   {
    "duration": 38,
    "start_time": "2023-07-05T19:14:34.619Z"
   },
   {
    "duration": 15,
    "start_time": "2023-07-05T19:14:34.659Z"
   },
   {
    "duration": 421,
    "start_time": "2023-07-05T19:14:34.676Z"
   },
   {
    "duration": 147,
    "start_time": "2023-07-05T19:14:35.100Z"
   },
   {
    "duration": 487,
    "start_time": "2023-07-05T19:14:35.249Z"
   },
   {
    "duration": 371,
    "start_time": "2023-07-05T19:14:35.738Z"
   },
   {
    "duration": 229,
    "start_time": "2023-07-05T19:14:36.111Z"
   },
   {
    "duration": 0,
    "start_time": "2023-07-05T19:14:36.342Z"
   },
   {
    "duration": 0,
    "start_time": "2023-07-05T19:14:36.343Z"
   },
   {
    "duration": 0,
    "start_time": "2023-07-05T19:14:36.344Z"
   },
   {
    "duration": 0,
    "start_time": "2023-07-05T19:14:36.345Z"
   },
   {
    "duration": 0,
    "start_time": "2023-07-05T19:14:36.399Z"
   },
   {
    "duration": 0,
    "start_time": "2023-07-05T19:14:36.400Z"
   },
   {
    "duration": 0,
    "start_time": "2023-07-05T19:14:36.402Z"
   },
   {
    "duration": 0,
    "start_time": "2023-07-05T19:14:36.403Z"
   },
   {
    "duration": 0,
    "start_time": "2023-07-05T19:14:36.404Z"
   },
   {
    "duration": 0,
    "start_time": "2023-07-05T19:14:36.405Z"
   },
   {
    "duration": 0,
    "start_time": "2023-07-05T19:14:36.407Z"
   },
   {
    "duration": 0,
    "start_time": "2023-07-05T19:14:36.408Z"
   },
   {
    "duration": 0,
    "start_time": "2023-07-05T19:14:36.409Z"
   },
   {
    "duration": 0,
    "start_time": "2023-07-05T19:14:36.410Z"
   },
   {
    "duration": 0,
    "start_time": "2023-07-05T19:14:36.412Z"
   },
   {
    "duration": 0,
    "start_time": "2023-07-05T19:14:36.412Z"
   },
   {
    "duration": 0,
    "start_time": "2023-07-05T19:14:36.414Z"
   },
   {
    "duration": 258,
    "start_time": "2023-07-05T19:15:05.937Z"
   },
   {
    "duration": 209,
    "start_time": "2023-07-05T19:15:19.178Z"
   },
   {
    "duration": 236,
    "start_time": "2023-07-05T19:15:30.295Z"
   },
   {
    "duration": 209,
    "start_time": "2023-07-05T19:15:35.366Z"
   },
   {
    "duration": 278,
    "start_time": "2023-07-05T19:15:44.619Z"
   },
   {
    "duration": 192,
    "start_time": "2023-07-05T19:17:50.823Z"
   },
   {
    "duration": 264,
    "start_time": "2023-07-05T19:18:05.896Z"
   },
   {
    "duration": 307,
    "start_time": "2023-07-05T19:18:10.431Z"
   },
   {
    "duration": 224,
    "start_time": "2023-07-05T19:18:22.378Z"
   },
   {
    "duration": 137,
    "start_time": "2023-07-05T19:18:31.325Z"
   },
   {
    "duration": 327,
    "start_time": "2023-07-05T19:18:38.210Z"
   },
   {
    "duration": 363,
    "start_time": "2023-07-05T19:18:57.193Z"
   },
   {
    "duration": 233,
    "start_time": "2023-07-05T19:19:49.053Z"
   },
   {
    "duration": 1010,
    "start_time": "2023-07-05T19:37:29.157Z"
   },
   {
    "duration": 173,
    "start_time": "2023-07-05T19:37:30.169Z"
   },
   {
    "duration": 10,
    "start_time": "2023-07-05T19:37:30.344Z"
   },
   {
    "duration": 43,
    "start_time": "2023-07-05T19:37:30.355Z"
   },
   {
    "duration": 35,
    "start_time": "2023-07-05T19:37:30.412Z"
   },
   {
    "duration": 36,
    "start_time": "2023-07-05T19:37:30.448Z"
   },
   {
    "duration": 60,
    "start_time": "2023-07-05T19:37:30.486Z"
   },
   {
    "duration": 48,
    "start_time": "2023-07-05T19:37:30.547Z"
   },
   {
    "duration": 245,
    "start_time": "2023-07-05T19:37:30.597Z"
   },
   {
    "duration": 315,
    "start_time": "2023-07-05T19:37:30.843Z"
   },
   {
    "duration": 7,
    "start_time": "2023-07-05T19:37:31.159Z"
   },
   {
    "duration": 95,
    "start_time": "2023-07-05T19:37:31.167Z"
   },
   {
    "duration": 34,
    "start_time": "2023-07-05T19:37:31.264Z"
   },
   {
    "duration": 38,
    "start_time": "2023-07-05T19:37:31.301Z"
   },
   {
    "duration": 41,
    "start_time": "2023-07-05T19:37:31.341Z"
   },
   {
    "duration": 196,
    "start_time": "2023-07-05T19:37:31.383Z"
   },
   {
    "duration": 5,
    "start_time": "2023-07-05T19:37:31.580Z"
   },
   {
    "duration": 57,
    "start_time": "2023-07-05T19:37:31.587Z"
   },
   {
    "duration": 16,
    "start_time": "2023-07-05T19:37:31.646Z"
   },
   {
    "duration": 32,
    "start_time": "2023-07-05T19:37:31.664Z"
   },
   {
    "duration": 25,
    "start_time": "2023-07-05T19:37:31.697Z"
   },
   {
    "duration": 31,
    "start_time": "2023-07-05T19:37:31.723Z"
   },
   {
    "duration": 60,
    "start_time": "2023-07-05T19:37:31.755Z"
   },
   {
    "duration": 194,
    "start_time": "2023-07-05T19:37:31.817Z"
   },
   {
    "duration": 5,
    "start_time": "2023-07-05T19:37:32.014Z"
   },
   {
    "duration": 149,
    "start_time": "2023-07-05T19:37:32.021Z"
   },
   {
    "duration": 7,
    "start_time": "2023-07-05T19:37:32.172Z"
   },
   {
    "duration": 282,
    "start_time": "2023-07-05T19:37:32.180Z"
   },
   {
    "duration": 199,
    "start_time": "2023-07-05T19:37:32.464Z"
   },
   {
    "duration": 211,
    "start_time": "2023-07-05T19:37:32.665Z"
   },
   {
    "duration": 142,
    "start_time": "2023-07-05T19:37:32.877Z"
   },
   {
    "duration": 271,
    "start_time": "2023-07-05T19:37:33.020Z"
   },
   {
    "duration": 136,
    "start_time": "2023-07-05T19:37:33.292Z"
   },
   {
    "duration": 16,
    "start_time": "2023-07-05T19:37:33.430Z"
   },
   {
    "duration": 107,
    "start_time": "2023-07-05T19:37:33.447Z"
   },
   {
    "duration": 56,
    "start_time": "2023-07-05T19:37:33.556Z"
   },
   {
    "duration": 59,
    "start_time": "2023-07-05T19:37:33.614Z"
   },
   {
    "duration": 365,
    "start_time": "2023-07-05T19:37:33.675Z"
   },
   {
    "duration": 141,
    "start_time": "2023-07-05T19:37:34.042Z"
   },
   {
    "duration": 442,
    "start_time": "2023-07-05T19:37:34.184Z"
   },
   {
    "duration": 148,
    "start_time": "2023-07-05T19:37:34.631Z"
   },
   {
    "duration": 236,
    "start_time": "2023-07-05T19:37:34.781Z"
   },
   {
    "duration": 5,
    "start_time": "2023-07-05T19:37:35.019Z"
   },
   {
    "duration": 43,
    "start_time": "2023-07-05T19:37:35.026Z"
   },
   {
    "duration": 12,
    "start_time": "2023-07-05T19:37:35.070Z"
   },
   {
    "duration": 40,
    "start_time": "2023-07-05T19:37:35.083Z"
   },
   {
    "duration": 10,
    "start_time": "2023-07-05T19:37:35.125Z"
   },
   {
    "duration": 28,
    "start_time": "2023-07-05T19:37:35.136Z"
   },
   {
    "duration": 12,
    "start_time": "2023-07-05T19:37:35.166Z"
   },
   {
    "duration": 11,
    "start_time": "2023-07-05T19:37:35.179Z"
   },
   {
    "duration": 32,
    "start_time": "2023-07-05T19:37:35.192Z"
   },
   {
    "duration": 17,
    "start_time": "2023-07-05T19:37:35.226Z"
   },
   {
    "duration": 13,
    "start_time": "2023-07-05T19:37:35.245Z"
   },
   {
    "duration": 25,
    "start_time": "2023-07-05T19:37:35.260Z"
   },
   {
    "duration": 25,
    "start_time": "2023-07-05T19:37:35.286Z"
   },
   {
    "duration": 1328,
    "start_time": "2023-07-05T19:37:35.314Z"
   },
   {
    "duration": 419,
    "start_time": "2023-07-05T19:37:36.644Z"
   },
   {
    "duration": 512,
    "start_time": "2023-07-05T19:37:37.064Z"
   },
   {
    "duration": 503,
    "start_time": "2023-07-05T19:37:37.579Z"
   },
   {
    "duration": 372,
    "start_time": "2023-07-05T19:39:18.415Z"
   },
   {
    "duration": 289,
    "start_time": "2023-07-05T19:40:16.581Z"
   },
   {
    "duration": 402,
    "start_time": "2023-07-05T19:40:31.373Z"
   },
   {
    "duration": 439,
    "start_time": "2023-07-05T19:42:05.277Z"
   },
   {
    "duration": 507,
    "start_time": "2023-07-05T19:43:02.072Z"
   },
   {
    "duration": 601,
    "start_time": "2023-07-05T19:43:13.526Z"
   },
   {
    "duration": 481,
    "start_time": "2023-07-05T19:43:26.713Z"
   },
   {
    "duration": 1449,
    "start_time": "2023-07-05T19:44:04.881Z"
   },
   {
    "duration": 528,
    "start_time": "2023-07-05T19:44:17.881Z"
   },
   {
    "duration": 1029,
    "start_time": "2023-07-05T19:44:47.852Z"
   },
   {
    "duration": 69,
    "start_time": "2023-07-05T19:44:48.883Z"
   },
   {
    "duration": 10,
    "start_time": "2023-07-05T19:44:48.954Z"
   },
   {
    "duration": 8,
    "start_time": "2023-07-05T19:44:48.966Z"
   },
   {
    "duration": 12,
    "start_time": "2023-07-05T19:44:48.976Z"
   },
   {
    "duration": 12,
    "start_time": "2023-07-05T19:44:48.989Z"
   },
   {
    "duration": 44,
    "start_time": "2023-07-05T19:44:49.002Z"
   },
   {
    "duration": 47,
    "start_time": "2023-07-05T19:44:49.047Z"
   },
   {
    "duration": 236,
    "start_time": "2023-07-05T19:44:49.095Z"
   },
   {
    "duration": 316,
    "start_time": "2023-07-05T19:44:49.333Z"
   },
   {
    "duration": 6,
    "start_time": "2023-07-05T19:44:49.651Z"
   },
   {
    "duration": 16,
    "start_time": "2023-07-05T19:44:49.658Z"
   },
   {
    "duration": 4,
    "start_time": "2023-07-05T19:44:49.675Z"
   },
   {
    "duration": 25,
    "start_time": "2023-07-05T19:44:49.680Z"
   },
   {
    "duration": 7,
    "start_time": "2023-07-05T19:44:49.715Z"
   },
   {
    "duration": 158,
    "start_time": "2023-07-05T19:44:49.723Z"
   },
   {
    "duration": 5,
    "start_time": "2023-07-05T19:44:49.882Z"
   },
   {
    "duration": 29,
    "start_time": "2023-07-05T19:44:49.889Z"
   },
   {
    "duration": 5,
    "start_time": "2023-07-05T19:44:49.919Z"
   },
   {
    "duration": 6,
    "start_time": "2023-07-05T19:44:49.925Z"
   },
   {
    "duration": 4,
    "start_time": "2023-07-05T19:44:49.932Z"
   },
   {
    "duration": 7,
    "start_time": "2023-07-05T19:44:49.937Z"
   },
   {
    "duration": 5,
    "start_time": "2023-07-05T19:44:49.946Z"
   },
   {
    "duration": 170,
    "start_time": "2023-07-05T19:44:49.952Z"
   },
   {
    "duration": 5,
    "start_time": "2023-07-05T19:44:50.123Z"
   },
   {
    "duration": 135,
    "start_time": "2023-07-05T19:44:50.130Z"
   },
   {
    "duration": 5,
    "start_time": "2023-07-05T19:44:50.267Z"
   },
   {
    "duration": 242,
    "start_time": "2023-07-05T19:44:50.275Z"
   },
   {
    "duration": 194,
    "start_time": "2023-07-05T19:44:50.519Z"
   },
   {
    "duration": 200,
    "start_time": "2023-07-05T19:44:50.715Z"
   },
   {
    "duration": 131,
    "start_time": "2023-07-05T19:44:50.917Z"
   },
   {
    "duration": 276,
    "start_time": "2023-07-05T19:44:51.049Z"
   },
   {
    "duration": 144,
    "start_time": "2023-07-05T19:44:51.326Z"
   },
   {
    "duration": 33,
    "start_time": "2023-07-05T19:44:51.471Z"
   },
   {
    "duration": 22,
    "start_time": "2023-07-05T19:44:51.506Z"
   },
   {
    "duration": 18,
    "start_time": "2023-07-05T19:44:51.530Z"
   },
   {
    "duration": 12,
    "start_time": "2023-07-05T19:44:51.549Z"
   },
   {
    "duration": 380,
    "start_time": "2023-07-05T19:44:51.563Z"
   },
   {
    "duration": 139,
    "start_time": "2023-07-05T19:44:51.944Z"
   },
   {
    "duration": 437,
    "start_time": "2023-07-05T19:44:52.085Z"
   },
   {
    "duration": 177,
    "start_time": "2023-07-05T19:44:52.523Z"
   },
   {
    "duration": 237,
    "start_time": "2023-07-05T19:44:52.703Z"
   },
   {
    "duration": 5,
    "start_time": "2023-07-05T19:44:52.941Z"
   },
   {
    "duration": 33,
    "start_time": "2023-07-05T19:44:52.947Z"
   },
   {
    "duration": 37,
    "start_time": "2023-07-05T19:44:52.982Z"
   },
   {
    "duration": 20,
    "start_time": "2023-07-05T19:44:53.020Z"
   },
   {
    "duration": 5,
    "start_time": "2023-07-05T19:44:53.041Z"
   },
   {
    "duration": 14,
    "start_time": "2023-07-05T19:44:53.048Z"
   },
   {
    "duration": 15,
    "start_time": "2023-07-05T19:44:53.063Z"
   },
   {
    "duration": 9,
    "start_time": "2023-07-05T19:44:53.079Z"
   },
   {
    "duration": 8,
    "start_time": "2023-07-05T19:44:53.089Z"
   },
   {
    "duration": 31,
    "start_time": "2023-07-05T19:44:53.099Z"
   },
   {
    "duration": 23,
    "start_time": "2023-07-05T19:44:53.132Z"
   },
   {
    "duration": 16,
    "start_time": "2023-07-05T19:44:53.157Z"
   },
   {
    "duration": 16,
    "start_time": "2023-07-05T19:44:53.175Z"
   },
   {
    "duration": 1400,
    "start_time": "2023-07-05T19:44:53.192Z"
   },
   {
    "duration": 510,
    "start_time": "2023-07-05T19:44:54.605Z"
   },
   {
    "duration": 623,
    "start_time": "2023-07-05T19:44:55.116Z"
   },
   {
    "duration": 509,
    "start_time": "2023-07-05T19:44:55.741Z"
   },
   {
    "duration": 1194,
    "start_time": "2023-07-05T19:46:46.133Z"
   },
   {
    "duration": 64,
    "start_time": "2023-07-05T19:46:47.331Z"
   },
   {
    "duration": 18,
    "start_time": "2023-07-05T19:46:47.397Z"
   },
   {
    "duration": 8,
    "start_time": "2023-07-05T19:46:47.416Z"
   },
   {
    "duration": 5,
    "start_time": "2023-07-05T19:46:47.426Z"
   },
   {
    "duration": 8,
    "start_time": "2023-07-05T19:46:47.433Z"
   },
   {
    "duration": 32,
    "start_time": "2023-07-05T19:46:47.443Z"
   },
   {
    "duration": 71,
    "start_time": "2023-07-05T19:46:47.477Z"
   },
   {
    "duration": 277,
    "start_time": "2023-07-05T19:46:47.549Z"
   },
   {
    "duration": 339,
    "start_time": "2023-07-05T19:46:47.828Z"
   },
   {
    "duration": 9,
    "start_time": "2023-07-05T19:46:48.169Z"
   },
   {
    "duration": 51,
    "start_time": "2023-07-05T19:46:48.183Z"
   },
   {
    "duration": 19,
    "start_time": "2023-07-05T19:46:48.236Z"
   },
   {
    "duration": 5,
    "start_time": "2023-07-05T19:46:48.259Z"
   },
   {
    "duration": 15,
    "start_time": "2023-07-05T19:46:48.266Z"
   },
   {
    "duration": 213,
    "start_time": "2023-07-05T19:46:48.283Z"
   },
   {
    "duration": 14,
    "start_time": "2023-07-05T19:46:48.498Z"
   },
   {
    "duration": 41,
    "start_time": "2023-07-05T19:46:48.514Z"
   },
   {
    "duration": 5,
    "start_time": "2023-07-05T19:46:48.557Z"
   },
   {
    "duration": 9,
    "start_time": "2023-07-05T19:46:48.563Z"
   },
   {
    "duration": 11,
    "start_time": "2023-07-05T19:46:48.573Z"
   },
   {
    "duration": 9,
    "start_time": "2023-07-05T19:46:48.585Z"
   },
   {
    "duration": 42,
    "start_time": "2023-07-05T19:46:48.595Z"
   },
   {
    "duration": 155,
    "start_time": "2023-07-05T19:46:48.639Z"
   },
   {
    "duration": 30,
    "start_time": "2023-07-05T19:46:48.795Z"
   },
   {
    "duration": 167,
    "start_time": "2023-07-05T19:46:48.828Z"
   },
   {
    "duration": 30,
    "start_time": "2023-07-05T19:46:48.997Z"
   },
   {
    "duration": 256,
    "start_time": "2023-07-05T19:46:49.028Z"
   },
   {
    "duration": 203,
    "start_time": "2023-07-05T19:46:49.286Z"
   },
   {
    "duration": 248,
    "start_time": "2023-07-05T19:46:49.490Z"
   },
   {
    "duration": 137,
    "start_time": "2023-07-05T19:46:49.739Z"
   },
   {
    "duration": 274,
    "start_time": "2023-07-05T19:46:49.878Z"
   },
   {
    "duration": 138,
    "start_time": "2023-07-05T19:46:50.154Z"
   },
   {
    "duration": 31,
    "start_time": "2023-07-05T19:46:50.299Z"
   },
   {
    "duration": 22,
    "start_time": "2023-07-05T19:46:50.332Z"
   },
   {
    "duration": 15,
    "start_time": "2023-07-05T19:46:50.356Z"
   },
   {
    "duration": 13,
    "start_time": "2023-07-05T19:46:50.372Z"
   },
   {
    "duration": 431,
    "start_time": "2023-07-05T19:46:50.387Z"
   },
   {
    "duration": 156,
    "start_time": "2023-07-05T19:46:50.827Z"
   },
   {
    "duration": 450,
    "start_time": "2023-07-05T19:46:50.984Z"
   },
   {
    "duration": 159,
    "start_time": "2023-07-05T19:46:51.438Z"
   },
   {
    "duration": 249,
    "start_time": "2023-07-05T19:46:51.598Z"
   },
   {
    "duration": 4,
    "start_time": "2023-07-05T19:46:51.849Z"
   },
   {
    "duration": 30,
    "start_time": "2023-07-05T19:46:51.855Z"
   },
   {
    "duration": 14,
    "start_time": "2023-07-05T19:46:51.914Z"
   },
   {
    "duration": 25,
    "start_time": "2023-07-05T19:46:51.930Z"
   },
   {
    "duration": 5,
    "start_time": "2023-07-05T19:46:51.957Z"
   },
   {
    "duration": 7,
    "start_time": "2023-07-05T19:46:51.964Z"
   },
   {
    "duration": 5,
    "start_time": "2023-07-05T19:46:51.972Z"
   },
   {
    "duration": 12,
    "start_time": "2023-07-05T19:46:51.979Z"
   },
   {
    "duration": 5,
    "start_time": "2023-07-05T19:46:51.992Z"
   },
   {
    "duration": 40,
    "start_time": "2023-07-05T19:46:51.998Z"
   },
   {
    "duration": 16,
    "start_time": "2023-07-05T19:46:52.039Z"
   },
   {
    "duration": 5,
    "start_time": "2023-07-05T19:46:52.057Z"
   },
   {
    "duration": 7,
    "start_time": "2023-07-05T19:46:52.064Z"
   },
   {
    "duration": 1466,
    "start_time": "2023-07-05T19:46:52.073Z"
   },
   {
    "duration": 489,
    "start_time": "2023-07-05T19:46:53.540Z"
   },
   {
    "duration": 903,
    "start_time": "2023-07-05T19:46:54.038Z"
   },
   {
    "duration": 965,
    "start_time": "2023-07-05T19:46:54.944Z"
   },
   {
    "duration": 1055,
    "start_time": "2023-07-05T20:13:27.020Z"
   },
   {
    "duration": 63,
    "start_time": "2023-07-05T20:13:28.077Z"
   },
   {
    "duration": 11,
    "start_time": "2023-07-05T20:13:28.141Z"
   },
   {
    "duration": 15,
    "start_time": "2023-07-05T20:13:28.153Z"
   },
   {
    "duration": 6,
    "start_time": "2023-07-05T20:13:28.170Z"
   },
   {
    "duration": 10,
    "start_time": "2023-07-05T20:13:28.178Z"
   },
   {
    "duration": 32,
    "start_time": "2023-07-05T20:13:28.189Z"
   },
   {
    "duration": 42,
    "start_time": "2023-07-05T20:13:28.223Z"
   },
   {
    "duration": 232,
    "start_time": "2023-07-05T20:13:28.266Z"
   },
   {
    "duration": 303,
    "start_time": "2023-07-05T20:13:28.499Z"
   },
   {
    "duration": 5,
    "start_time": "2023-07-05T20:13:28.804Z"
   },
   {
    "duration": 14,
    "start_time": "2023-07-05T20:13:28.810Z"
   },
   {
    "duration": 4,
    "start_time": "2023-07-05T20:13:28.826Z"
   },
   {
    "duration": 7,
    "start_time": "2023-07-05T20:13:28.834Z"
   },
   {
    "duration": 8,
    "start_time": "2023-07-05T20:13:28.842Z"
   },
   {
    "duration": 178,
    "start_time": "2023-07-05T20:13:28.852Z"
   },
   {
    "duration": 5,
    "start_time": "2023-07-05T20:13:29.032Z"
   },
   {
    "duration": 14,
    "start_time": "2023-07-05T20:13:29.038Z"
   },
   {
    "duration": 4,
    "start_time": "2023-07-05T20:13:29.053Z"
   },
   {
    "duration": 5,
    "start_time": "2023-07-05T20:13:29.058Z"
   },
   {
    "duration": 4,
    "start_time": "2023-07-05T20:13:29.064Z"
   },
   {
    "duration": 35,
    "start_time": "2023-07-05T20:13:29.069Z"
   },
   {
    "duration": 4,
    "start_time": "2023-07-05T20:13:29.105Z"
   },
   {
    "duration": 143,
    "start_time": "2023-07-05T20:13:29.111Z"
   },
   {
    "duration": 5,
    "start_time": "2023-07-05T20:13:29.255Z"
   },
   {
    "duration": 124,
    "start_time": "2023-07-05T20:13:29.261Z"
   },
   {
    "duration": 5,
    "start_time": "2023-07-05T20:13:29.387Z"
   },
   {
    "duration": 227,
    "start_time": "2023-07-05T20:13:29.399Z"
   },
   {
    "duration": 181,
    "start_time": "2023-07-05T20:13:29.628Z"
   },
   {
    "duration": 201,
    "start_time": "2023-07-05T20:13:29.810Z"
   },
   {
    "duration": 131,
    "start_time": "2023-07-05T20:13:30.013Z"
   },
   {
    "duration": 269,
    "start_time": "2023-07-05T20:13:30.146Z"
   },
   {
    "duration": 136,
    "start_time": "2023-07-05T20:13:30.416Z"
   },
   {
    "duration": 15,
    "start_time": "2023-07-05T20:13:30.554Z"
   },
   {
    "duration": 38,
    "start_time": "2023-07-05T20:13:30.570Z"
   },
   {
    "duration": 42,
    "start_time": "2023-07-05T20:13:30.609Z"
   },
   {
    "duration": 62,
    "start_time": "2023-07-05T20:13:30.653Z"
   },
   {
    "duration": 429,
    "start_time": "2023-07-05T20:13:30.716Z"
   },
   {
    "duration": 146,
    "start_time": "2023-07-05T20:13:31.147Z"
   },
   {
    "duration": 414,
    "start_time": "2023-07-05T20:13:31.294Z"
   },
   {
    "duration": 148,
    "start_time": "2023-07-05T20:13:31.711Z"
   },
   {
    "duration": 224,
    "start_time": "2023-07-05T20:13:31.861Z"
   },
   {
    "duration": 13,
    "start_time": "2023-07-05T20:13:32.087Z"
   },
   {
    "duration": 32,
    "start_time": "2023-07-05T20:13:32.102Z"
   },
   {
    "duration": 13,
    "start_time": "2023-07-05T20:13:32.136Z"
   },
   {
    "duration": 26,
    "start_time": "2023-07-05T20:13:32.151Z"
   },
   {
    "duration": 24,
    "start_time": "2023-07-05T20:13:32.179Z"
   },
   {
    "duration": 15,
    "start_time": "2023-07-05T20:13:32.205Z"
   },
   {
    "duration": 24,
    "start_time": "2023-07-05T20:13:32.221Z"
   },
   {
    "duration": 29,
    "start_time": "2023-07-05T20:13:32.247Z"
   },
   {
    "duration": 12,
    "start_time": "2023-07-05T20:13:32.277Z"
   },
   {
    "duration": 31,
    "start_time": "2023-07-05T20:13:32.291Z"
   },
   {
    "duration": 44,
    "start_time": "2023-07-05T20:13:32.323Z"
   },
   {
    "duration": 58,
    "start_time": "2023-07-05T20:13:32.369Z"
   },
   {
    "duration": 20,
    "start_time": "2023-07-05T20:13:32.429Z"
   },
   {
    "duration": 1480,
    "start_time": "2023-07-05T20:13:32.451Z"
   },
   {
    "duration": 493,
    "start_time": "2023-07-05T20:13:33.932Z"
   },
   {
    "duration": 597,
    "start_time": "2023-07-05T20:13:34.426Z"
   },
   {
    "duration": 408,
    "start_time": "2023-07-05T20:13:35.025Z"
   },
   {
    "duration": 95,
    "start_time": "2023-07-05T20:17:27.777Z"
   },
   {
    "duration": 100,
    "start_time": "2023-07-05T20:17:32.131Z"
   },
   {
    "duration": 123,
    "start_time": "2023-07-05T20:17:45.282Z"
   },
   {
    "duration": 7,
    "start_time": "2023-07-05T20:17:50.968Z"
   },
   {
    "duration": 57,
    "start_time": "2023-07-06T16:45:41.030Z"
   },
   {
    "duration": 1446,
    "start_time": "2023-07-06T16:45:46.433Z"
   },
   {
    "duration": 317,
    "start_time": "2023-07-06T16:45:47.882Z"
   },
   {
    "duration": 14,
    "start_time": "2023-07-06T16:45:48.201Z"
   },
   {
    "duration": 17,
    "start_time": "2023-07-06T16:45:48.217Z"
   },
   {
    "duration": 9,
    "start_time": "2023-07-06T16:45:48.237Z"
   },
   {
    "duration": 12,
    "start_time": "2023-07-06T16:45:48.248Z"
   },
   {
    "duration": 68,
    "start_time": "2023-07-06T16:45:48.261Z"
   },
   {
    "duration": 78,
    "start_time": "2023-07-06T16:45:48.331Z"
   },
   {
    "duration": 297,
    "start_time": "2023-07-06T16:45:48.412Z"
   },
   {
    "duration": 400,
    "start_time": "2023-07-06T16:45:48.710Z"
   },
   {
    "duration": 10,
    "start_time": "2023-07-06T16:45:49.112Z"
   },
   {
    "duration": 17,
    "start_time": "2023-07-06T16:45:49.124Z"
   },
   {
    "duration": 11,
    "start_time": "2023-07-06T16:45:49.143Z"
   },
   {
    "duration": 7,
    "start_time": "2023-07-06T16:45:52.735Z"
   },
   {
    "duration": 1954,
    "start_time": "2023-07-06T16:48:12.644Z"
   },
   {
    "duration": 4,
    "start_time": "2023-07-06T16:48:26.952Z"
   },
   {
    "duration": 75,
    "start_time": "2023-07-06T16:48:26.958Z"
   },
   {
    "duration": 9,
    "start_time": "2023-07-06T16:48:27.035Z"
   },
   {
    "duration": 14,
    "start_time": "2023-07-06T16:48:27.047Z"
   },
   {
    "duration": 8,
    "start_time": "2023-07-06T16:48:27.063Z"
   },
   {
    "duration": 11,
    "start_time": "2023-07-06T16:48:27.073Z"
   },
   {
    "duration": 59,
    "start_time": "2023-07-06T16:48:27.086Z"
   },
   {
    "duration": 77,
    "start_time": "2023-07-06T16:48:27.147Z"
   },
   {
    "duration": 316,
    "start_time": "2023-07-06T16:48:27.234Z"
   },
   {
    "duration": 417,
    "start_time": "2023-07-06T16:48:27.552Z"
   },
   {
    "duration": 8,
    "start_time": "2023-07-06T16:48:27.971Z"
   },
   {
    "duration": 17,
    "start_time": "2023-07-06T16:48:27.981Z"
   },
   {
    "duration": 22,
    "start_time": "2023-07-06T16:48:28.000Z"
   },
   {
    "duration": 9,
    "start_time": "2023-07-06T16:48:28.029Z"
   },
   {
    "duration": 5,
    "start_time": "2023-07-06T16:48:28.040Z"
   },
   {
    "duration": 9,
    "start_time": "2023-07-06T16:48:28.047Z"
   },
   {
    "duration": 297,
    "start_time": "2023-07-06T16:48:53.356Z"
   },
   {
    "duration": 207,
    "start_time": "2023-07-06T16:49:03.452Z"
   },
   {
    "duration": 240,
    "start_time": "2023-07-06T16:52:15.769Z"
   },
   {
    "duration": 189,
    "start_time": "2023-07-06T16:52:37.828Z"
   },
   {
    "duration": 11,
    "start_time": "2023-07-06T18:02:02.840Z"
   },
   {
    "duration": 6,
    "start_time": "2023-07-06T18:02:06.710Z"
   },
   {
    "duration": 10,
    "start_time": "2023-07-06T18:02:30.661Z"
   },
   {
    "duration": 5,
    "start_time": "2023-07-06T18:02:35.170Z"
   },
   {
    "duration": 5,
    "start_time": "2023-07-06T19:10:05.687Z"
   },
   {
    "duration": 5,
    "start_time": "2023-07-06T19:10:33.802Z"
   },
   {
    "duration": 142,
    "start_time": "2023-07-06T19:10:33.811Z"
   },
   {
    "duration": 11,
    "start_time": "2023-07-06T19:10:33.956Z"
   },
   {
    "duration": 65,
    "start_time": "2023-07-06T19:10:33.969Z"
   },
   {
    "duration": 15,
    "start_time": "2023-07-06T19:10:34.037Z"
   },
   {
    "duration": 12,
    "start_time": "2023-07-06T19:10:34.054Z"
   },
   {
    "duration": 80,
    "start_time": "2023-07-06T19:10:34.067Z"
   },
   {
    "duration": 92,
    "start_time": "2023-07-06T19:10:34.149Z"
   },
   {
    "duration": 303,
    "start_time": "2023-07-06T19:10:34.243Z"
   },
   {
    "duration": 429,
    "start_time": "2023-07-06T19:10:34.548Z"
   },
   {
    "duration": 8,
    "start_time": "2023-07-06T19:10:34.981Z"
   },
   {
    "duration": 52,
    "start_time": "2023-07-06T19:10:34.991Z"
   },
   {
    "duration": 38,
    "start_time": "2023-07-06T19:10:35.045Z"
   },
   {
    "duration": 50,
    "start_time": "2023-07-06T19:10:35.085Z"
   },
   {
    "duration": 20,
    "start_time": "2023-07-06T19:10:35.138Z"
   },
   {
    "duration": 17,
    "start_time": "2023-07-06T19:10:35.160Z"
   },
   {
    "duration": 202,
    "start_time": "2023-07-06T19:10:35.178Z"
   },
   {
    "duration": 6,
    "start_time": "2023-07-06T19:10:35.382Z"
   },
   {
    "duration": 36,
    "start_time": "2023-07-06T19:10:35.390Z"
   },
   {
    "duration": 8,
    "start_time": "2023-07-06T19:10:35.428Z"
   },
   {
    "duration": 47,
    "start_time": "2023-07-06T19:10:35.439Z"
   },
   {
    "duration": 16,
    "start_time": "2023-07-06T19:10:35.488Z"
   },
   {
    "duration": 42,
    "start_time": "2023-07-06T19:10:35.507Z"
   },
   {
    "duration": 23,
    "start_time": "2023-07-06T19:10:35.552Z"
   },
   {
    "duration": 211,
    "start_time": "2023-07-06T19:10:35.577Z"
   },
   {
    "duration": 8,
    "start_time": "2023-07-06T19:10:35.790Z"
   },
   {
    "duration": 182,
    "start_time": "2023-07-06T19:10:35.800Z"
   },
   {
    "duration": 7,
    "start_time": "2023-07-06T19:10:35.984Z"
   },
   {
    "duration": 398,
    "start_time": "2023-07-06T19:10:35.994Z"
   },
   {
    "duration": 164,
    "start_time": "2023-07-06T19:10:36.394Z"
   },
   {
    "duration": 275,
    "start_time": "2023-07-06T19:10:36.560Z"
   },
   {
    "duration": 163,
    "start_time": "2023-07-06T19:10:36.837Z"
   },
   {
    "duration": 358,
    "start_time": "2023-07-06T19:10:37.002Z"
   },
   {
    "duration": 179,
    "start_time": "2023-07-06T19:10:37.362Z"
   },
   {
    "duration": 4,
    "start_time": "2023-07-06T19:10:37.543Z"
   },
   {
    "duration": 29,
    "start_time": "2023-07-06T19:10:37.548Z"
   },
   {
    "duration": 63,
    "start_time": "2023-07-06T19:10:37.579Z"
   },
   {
    "duration": 33,
    "start_time": "2023-07-06T19:10:37.645Z"
   },
   {
    "duration": 7,
    "start_time": "2023-07-06T19:11:24.489Z"
   },
   {
    "duration": 8,
    "start_time": "2023-07-06T19:33:40.049Z"
   },
   {
    "duration": 7,
    "start_time": "2023-07-06T19:33:53.466Z"
   },
   {
    "duration": 5,
    "start_time": "2023-07-06T19:34:20.181Z"
   },
   {
    "duration": 7,
    "start_time": "2023-07-06T19:34:26.042Z"
   },
   {
    "duration": 5,
    "start_time": "2023-07-06T19:37:21.751Z"
   },
   {
    "duration": 5,
    "start_time": "2023-07-06T19:38:12.757Z"
   },
   {
    "duration": 142,
    "start_time": "2023-07-06T19:38:12.765Z"
   },
   {
    "duration": 12,
    "start_time": "2023-07-06T19:38:12.908Z"
   },
   {
    "duration": 19,
    "start_time": "2023-07-06T19:38:12.923Z"
   },
   {
    "duration": 15,
    "start_time": "2023-07-06T19:38:12.944Z"
   },
   {
    "duration": 20,
    "start_time": "2023-07-06T19:38:12.962Z"
   },
   {
    "duration": 76,
    "start_time": "2023-07-06T19:38:12.984Z"
   },
   {
    "duration": 84,
    "start_time": "2023-07-06T19:38:13.062Z"
   },
   {
    "duration": 309,
    "start_time": "2023-07-06T19:38:13.149Z"
   },
   {
    "duration": 537,
    "start_time": "2023-07-06T19:38:13.460Z"
   },
   {
    "duration": 23,
    "start_time": "2023-07-06T19:38:14.000Z"
   },
   {
    "duration": 22,
    "start_time": "2023-07-06T19:38:14.037Z"
   },
   {
    "duration": 10,
    "start_time": "2023-07-06T19:38:14.062Z"
   },
   {
    "duration": 59,
    "start_time": "2023-07-06T19:38:14.074Z"
   },
   {
    "duration": 28,
    "start_time": "2023-07-06T19:38:14.135Z"
   },
   {
    "duration": 14,
    "start_time": "2023-07-06T19:38:14.165Z"
   },
   {
    "duration": 215,
    "start_time": "2023-07-06T19:38:14.181Z"
   },
   {
    "duration": 22,
    "start_time": "2023-07-06T19:38:14.398Z"
   },
   {
    "duration": 32,
    "start_time": "2023-07-06T19:38:14.422Z"
   },
   {
    "duration": 5,
    "start_time": "2023-07-06T19:38:14.455Z"
   },
   {
    "duration": 11,
    "start_time": "2023-07-06T19:38:14.462Z"
   },
   {
    "duration": 26,
    "start_time": "2023-07-06T19:38:14.474Z"
   },
   {
    "duration": 10,
    "start_time": "2023-07-06T19:38:14.502Z"
   },
   {
    "duration": 17,
    "start_time": "2023-07-06T19:38:14.520Z"
   },
   {
    "duration": 191,
    "start_time": "2023-07-06T19:38:14.539Z"
   },
   {
    "duration": 8,
    "start_time": "2023-07-06T19:38:14.737Z"
   },
   {
    "duration": 179,
    "start_time": "2023-07-06T19:38:14.749Z"
   },
   {
    "duration": 8,
    "start_time": "2023-07-06T19:38:14.930Z"
   },
   {
    "duration": 327,
    "start_time": "2023-07-06T19:38:14.940Z"
   },
   {
    "duration": 180,
    "start_time": "2023-07-06T19:38:15.269Z"
   },
   {
    "duration": 295,
    "start_time": "2023-07-06T19:38:15.451Z"
   },
   {
    "duration": 187,
    "start_time": "2023-07-06T19:38:15.749Z"
   },
   {
    "duration": 465,
    "start_time": "2023-07-06T19:38:15.938Z"
   },
   {
    "duration": 179,
    "start_time": "2023-07-06T19:38:16.405Z"
   },
   {
    "duration": 4,
    "start_time": "2023-07-06T19:38:16.586Z"
   },
   {
    "duration": 40,
    "start_time": "2023-07-06T19:38:16.592Z"
   },
   {
    "duration": 39,
    "start_time": "2023-07-06T19:38:16.634Z"
   },
   {
    "duration": 23,
    "start_time": "2023-07-06T19:38:16.675Z"
   },
   {
    "duration": 7,
    "start_time": "2023-07-06T19:38:16.700Z"
   },
   {
    "duration": 7,
    "start_time": "2023-07-06T19:38:26.139Z"
   },
   {
    "duration": 5,
    "start_time": "2023-07-06T19:39:02.286Z"
   },
   {
    "duration": 7,
    "start_time": "2023-07-06T19:46:28.914Z"
   },
   {
    "duration": 7,
    "start_time": "2023-07-06T19:46:44.134Z"
   },
   {
    "duration": 4,
    "start_time": "2023-07-06T19:47:12.506Z"
   },
   {
    "duration": 5,
    "start_time": "2023-07-06T19:47:58.678Z"
   },
   {
    "duration": 5,
    "start_time": "2023-07-06T19:49:52.835Z"
   },
   {
    "duration": 9,
    "start_time": "2023-07-06T19:50:00.629Z"
   },
   {
    "duration": 152,
    "start_time": "2023-07-06T19:50:00.641Z"
   },
   {
    "duration": 11,
    "start_time": "2023-07-06T19:50:00.795Z"
   },
   {
    "duration": 56,
    "start_time": "2023-07-06T19:50:00.809Z"
   },
   {
    "duration": 40,
    "start_time": "2023-07-06T19:50:00.868Z"
   },
   {
    "duration": 50,
    "start_time": "2023-07-06T19:50:00.910Z"
   },
   {
    "duration": 98,
    "start_time": "2023-07-06T19:50:00.962Z"
   },
   {
    "duration": 89,
    "start_time": "2023-07-06T19:50:01.062Z"
   },
   {
    "duration": 395,
    "start_time": "2023-07-06T19:50:01.153Z"
   },
   {
    "duration": 462,
    "start_time": "2023-07-06T19:50:01.551Z"
   },
   {
    "duration": 18,
    "start_time": "2023-07-06T19:50:02.024Z"
   },
   {
    "duration": 47,
    "start_time": "2023-07-06T19:50:02.046Z"
   },
   {
    "duration": 10,
    "start_time": "2023-07-06T19:50:02.096Z"
   },
   {
    "duration": 27,
    "start_time": "2023-07-06T19:50:02.110Z"
   },
   {
    "duration": 14,
    "start_time": "2023-07-06T19:50:02.140Z"
   },
   {
    "duration": 41,
    "start_time": "2023-07-06T19:50:02.156Z"
   },
   {
    "duration": 316,
    "start_time": "2023-07-06T19:50:02.199Z"
   },
   {
    "duration": 10,
    "start_time": "2023-07-06T19:50:02.523Z"
   },
   {
    "duration": 28,
    "start_time": "2023-07-06T19:50:02.535Z"
   },
   {
    "duration": 29,
    "start_time": "2023-07-06T19:50:02.565Z"
   },
   {
    "duration": 10,
    "start_time": "2023-07-06T19:50:02.597Z"
   },
   {
    "duration": 35,
    "start_time": "2023-07-06T19:50:02.610Z"
   },
   {
    "duration": 80,
    "start_time": "2023-07-06T19:50:02.647Z"
   },
   {
    "duration": 15,
    "start_time": "2023-07-06T19:50:02.729Z"
   },
   {
    "duration": 287,
    "start_time": "2023-07-06T19:50:02.746Z"
   },
   {
    "duration": 9,
    "start_time": "2023-07-06T19:50:03.034Z"
   },
   {
    "duration": 199,
    "start_time": "2023-07-06T19:50:03.045Z"
   },
   {
    "duration": 10,
    "start_time": "2023-07-06T19:50:03.247Z"
   },
   {
    "duration": 315,
    "start_time": "2023-07-06T19:50:03.259Z"
   },
   {
    "duration": 201,
    "start_time": "2023-07-06T19:50:03.577Z"
   },
   {
    "duration": 398,
    "start_time": "2023-07-06T19:50:03.781Z"
   },
   {
    "duration": 174,
    "start_time": "2023-07-06T19:50:04.180Z"
   },
   {
    "duration": 384,
    "start_time": "2023-07-06T19:50:04.356Z"
   },
   {
    "duration": 185,
    "start_time": "2023-07-06T19:50:04.747Z"
   },
   {
    "duration": 4,
    "start_time": "2023-07-06T19:50:04.935Z"
   },
   {
    "duration": 33,
    "start_time": "2023-07-06T19:50:04.942Z"
   },
   {
    "duration": 4,
    "start_time": "2023-07-06T19:50:04.978Z"
   },
   {
    "duration": 29,
    "start_time": "2023-07-06T19:50:04.984Z"
   },
   {
    "duration": 38,
    "start_time": "2023-07-06T19:50:05.018Z"
   },
   {
    "duration": 7,
    "start_time": "2023-07-06T19:50:05.058Z"
   },
   {
    "duration": 31,
    "start_time": "2023-07-06T19:50:05.070Z"
   },
   {
    "duration": 6,
    "start_time": "2023-07-06T19:50:05.107Z"
   },
   {
    "duration": 15,
    "start_time": "2023-07-06T19:50:05.114Z"
   },
   {
    "duration": 6,
    "start_time": "2023-07-06T19:50:13.843Z"
   },
   {
    "duration": 27,
    "start_time": "2023-07-06T20:22:13.843Z"
   },
   {
    "duration": 14,
    "start_time": "2023-07-06T20:22:19.978Z"
   },
   {
    "duration": 0,
    "start_time": "2023-07-06T20:22:19.994Z"
   },
   {
    "duration": 0,
    "start_time": "2023-07-06T20:22:19.996Z"
   },
   {
    "duration": 0,
    "start_time": "2023-07-06T20:22:19.998Z"
   },
   {
    "duration": 0,
    "start_time": "2023-07-06T20:22:19.999Z"
   },
   {
    "duration": 0,
    "start_time": "2023-07-06T20:22:20.001Z"
   },
   {
    "duration": 28,
    "start_time": "2023-07-06T20:22:20.009Z"
   },
   {
    "duration": 0,
    "start_time": "2023-07-06T20:22:20.040Z"
   },
   {
    "duration": 0,
    "start_time": "2023-07-06T20:22:20.046Z"
   },
   {
    "duration": 0,
    "start_time": "2023-07-06T20:22:20.047Z"
   },
   {
    "duration": 0,
    "start_time": "2023-07-06T20:22:20.049Z"
   },
   {
    "duration": 10,
    "start_time": "2023-07-06T20:22:50.007Z"
   },
   {
    "duration": 642,
    "start_time": "2023-07-06T20:22:50.027Z"
   },
   {
    "duration": 10,
    "start_time": "2023-07-06T20:22:50.672Z"
   },
   {
    "duration": 24,
    "start_time": "2023-07-06T20:22:50.685Z"
   },
   {
    "duration": 52,
    "start_time": "2023-07-06T20:22:50.712Z"
   },
   {
    "duration": 22,
    "start_time": "2023-07-06T20:22:50.771Z"
   },
   {
    "duration": 80,
    "start_time": "2023-07-06T20:22:50.795Z"
   },
   {
    "duration": 92,
    "start_time": "2023-07-06T20:22:50.877Z"
   },
   {
    "duration": 474,
    "start_time": "2023-07-06T20:22:50.971Z"
   },
   {
    "duration": 656,
    "start_time": "2023-07-06T20:22:51.453Z"
   },
   {
    "duration": 10,
    "start_time": "2023-07-06T20:22:52.113Z"
   },
   {
    "duration": 57,
    "start_time": "2023-07-06T20:22:52.126Z"
   },
   {
    "duration": 7,
    "start_time": "2023-07-06T20:22:52.190Z"
   },
   {
    "duration": 26,
    "start_time": "2023-07-06T20:22:52.207Z"
   },
   {
    "duration": 16,
    "start_time": "2023-07-06T20:22:52.236Z"
   },
   {
    "duration": 28,
    "start_time": "2023-07-06T20:22:52.255Z"
   },
   {
    "duration": 306,
    "start_time": "2023-07-06T20:22:52.286Z"
   },
   {
    "duration": 28,
    "start_time": "2023-07-06T20:22:52.598Z"
   },
   {
    "duration": 32,
    "start_time": "2023-07-06T20:22:52.633Z"
   },
   {
    "duration": 18,
    "start_time": "2023-07-06T20:22:52.672Z"
   },
   {
    "duration": 15,
    "start_time": "2023-07-06T20:22:52.692Z"
   },
   {
    "duration": 6,
    "start_time": "2023-07-06T20:22:52.710Z"
   },
   {
    "duration": 15,
    "start_time": "2023-07-06T20:22:52.719Z"
   },
   {
    "duration": 28,
    "start_time": "2023-07-06T20:22:52.737Z"
   },
   {
    "duration": 394,
    "start_time": "2023-07-06T20:22:52.769Z"
   },
   {
    "duration": 11,
    "start_time": "2023-07-06T20:22:53.177Z"
   },
   {
    "duration": 236,
    "start_time": "2023-07-06T20:22:53.197Z"
   },
   {
    "duration": 12,
    "start_time": "2023-07-06T20:22:53.439Z"
   },
   {
    "duration": 394,
    "start_time": "2023-07-06T20:22:53.457Z"
   },
   {
    "duration": 235,
    "start_time": "2023-07-06T20:22:53.856Z"
   },
   {
    "duration": 374,
    "start_time": "2023-07-06T20:22:54.095Z"
   },
   {
    "duration": 258,
    "start_time": "2023-07-06T20:22:54.480Z"
   },
   {
    "duration": 581,
    "start_time": "2023-07-06T20:22:54.745Z"
   },
   {
    "duration": 223,
    "start_time": "2023-07-06T20:22:55.337Z"
   },
   {
    "duration": 9,
    "start_time": "2023-07-06T20:22:55.569Z"
   },
   {
    "duration": 6,
    "start_time": "2023-07-06T20:22:55.581Z"
   },
   {
    "duration": 6,
    "start_time": "2023-07-06T20:22:55.589Z"
   },
   {
    "duration": 60,
    "start_time": "2023-07-06T20:22:55.598Z"
   },
   {
    "duration": 51,
    "start_time": "2023-07-06T20:22:55.660Z"
   },
   {
    "duration": 8,
    "start_time": "2023-07-06T20:22:55.717Z"
   },
   {
    "duration": 30,
    "start_time": "2023-07-06T20:22:55.736Z"
   },
   {
    "duration": 13,
    "start_time": "2023-07-06T20:22:55.775Z"
   },
   {
    "duration": 12,
    "start_time": "2023-07-06T20:22:55.796Z"
   },
   {
    "duration": 13,
    "start_time": "2023-07-06T20:22:55.810Z"
   },
   {
    "duration": 40,
    "start_time": "2023-07-06T20:22:55.827Z"
   },
   {
    "duration": 144,
    "start_time": "2023-07-06T20:22:55.869Z"
   },
   {
    "duration": 580,
    "start_time": "2023-07-06T20:22:56.016Z"
   },
   {
    "duration": 241,
    "start_time": "2023-07-06T20:22:56.598Z"
   },
   {
    "duration": 727,
    "start_time": "2023-07-06T20:22:56.841Z"
   },
   {
    "duration": 313,
    "start_time": "2023-07-06T20:22:57.575Z"
   },
   {
    "duration": 498,
    "start_time": "2023-07-06T20:22:57.891Z"
   },
   {
    "duration": 9,
    "start_time": "2023-07-06T20:22:58.395Z"
   },
   {
    "duration": 168,
    "start_time": "2023-07-06T20:22:58.410Z"
   },
   {
    "duration": 44,
    "start_time": "2023-07-06T20:22:58.587Z"
   },
   {
    "duration": 57,
    "start_time": "2023-07-06T20:22:58.633Z"
   },
   {
    "duration": 9,
    "start_time": "2023-07-06T20:22:58.697Z"
   },
   {
    "duration": 47,
    "start_time": "2023-07-06T20:22:58.715Z"
   },
   {
    "duration": 16,
    "start_time": "2023-07-06T20:22:58.771Z"
   },
   {
    "duration": 28,
    "start_time": "2023-07-06T20:23:01.736Z"
   },
   {
    "duration": 32,
    "start_time": "2023-07-06T20:24:38.045Z"
   },
   {
    "duration": 9,
    "start_time": "2023-07-06T20:24:54.900Z"
   },
   {
    "duration": 8,
    "start_time": "2023-07-06T20:25:57.577Z"
   },
   {
    "duration": 8,
    "start_time": "2023-07-06T20:26:06.292Z"
   },
   {
    "duration": 6,
    "start_time": "2023-07-06T21:16:39.592Z"
   },
   {
    "duration": 504,
    "start_time": "2023-07-06T21:16:39.603Z"
   },
   {
    "duration": 16,
    "start_time": "2023-07-06T21:16:40.110Z"
   },
   {
    "duration": 12,
    "start_time": "2023-07-06T21:16:40.128Z"
   },
   {
    "duration": 17,
    "start_time": "2023-07-06T21:16:40.142Z"
   },
   {
    "duration": 20,
    "start_time": "2023-07-06T21:16:40.166Z"
   },
   {
    "duration": 73,
    "start_time": "2023-07-06T21:16:40.188Z"
   },
   {
    "duration": 87,
    "start_time": "2023-07-06T21:16:40.263Z"
   },
   {
    "duration": 423,
    "start_time": "2023-07-06T21:16:40.352Z"
   },
   {
    "duration": 673,
    "start_time": "2023-07-06T21:16:40.778Z"
   },
   {
    "duration": 21,
    "start_time": "2023-07-06T21:16:41.453Z"
   },
   {
    "duration": 24,
    "start_time": "2023-07-06T21:16:41.476Z"
   },
   {
    "duration": 7,
    "start_time": "2023-07-06T21:16:41.503Z"
   },
   {
    "duration": 16,
    "start_time": "2023-07-06T21:16:41.520Z"
   },
   {
    "duration": 28,
    "start_time": "2023-07-06T21:16:41.544Z"
   },
   {
    "duration": 12,
    "start_time": "2023-07-06T21:16:41.574Z"
   },
   {
    "duration": 250,
    "start_time": "2023-07-06T21:16:41.588Z"
   },
   {
    "duration": 6,
    "start_time": "2023-07-06T21:16:41.839Z"
   },
   {
    "duration": 23,
    "start_time": "2023-07-06T21:16:41.847Z"
   },
   {
    "duration": 7,
    "start_time": "2023-07-06T21:16:41.873Z"
   },
   {
    "duration": 9,
    "start_time": "2023-07-06T21:16:41.882Z"
   },
   {
    "duration": 22,
    "start_time": "2023-07-06T21:16:41.913Z"
   },
   {
    "duration": 49,
    "start_time": "2023-07-06T21:16:41.937Z"
   },
   {
    "duration": 7,
    "start_time": "2023-07-06T21:16:41.989Z"
   },
   {
    "duration": 218,
    "start_time": "2023-07-06T21:16:41.998Z"
   },
   {
    "duration": 11,
    "start_time": "2023-07-06T21:16:42.218Z"
   },
   {
    "duration": 180,
    "start_time": "2023-07-06T21:16:42.231Z"
   },
   {
    "duration": 14,
    "start_time": "2023-07-06T21:16:42.413Z"
   },
   {
    "duration": 371,
    "start_time": "2023-07-06T21:16:42.433Z"
   },
   {
    "duration": 171,
    "start_time": "2023-07-06T21:16:42.818Z"
   },
   {
    "duration": 384,
    "start_time": "2023-07-06T21:16:42.991Z"
   },
   {
    "duration": 225,
    "start_time": "2023-07-06T21:16:43.377Z"
   },
   {
    "duration": 638,
    "start_time": "2023-07-06T21:16:43.605Z"
   },
   {
    "duration": 228,
    "start_time": "2023-07-06T21:16:44.250Z"
   },
   {
    "duration": 6,
    "start_time": "2023-07-06T21:16:44.481Z"
   },
   {
    "duration": 11,
    "start_time": "2023-07-06T21:16:44.489Z"
   },
   {
    "duration": 11,
    "start_time": "2023-07-06T21:16:44.514Z"
   },
   {
    "duration": 49,
    "start_time": "2023-07-06T21:16:44.529Z"
   },
   {
    "duration": 23,
    "start_time": "2023-07-06T21:16:44.580Z"
   },
   {
    "duration": 6,
    "start_time": "2023-07-06T21:16:44.604Z"
   },
   {
    "duration": 15,
    "start_time": "2023-07-06T21:16:44.625Z"
   },
   {
    "duration": 17,
    "start_time": "2023-07-06T21:16:44.646Z"
   },
   {
    "duration": 7,
    "start_time": "2023-07-06T21:16:44.666Z"
   },
   {
    "duration": 17,
    "start_time": "2023-07-06T21:16:44.675Z"
   },
   {
    "duration": 53,
    "start_time": "2023-07-06T21:16:44.695Z"
   },
   {
    "duration": 21,
    "start_time": "2023-07-06T21:16:44.751Z"
   },
   {
    "duration": 590,
    "start_time": "2023-07-06T21:16:44.775Z"
   },
   {
    "duration": 201,
    "start_time": "2023-07-06T21:16:45.368Z"
   },
   {
    "duration": 555,
    "start_time": "2023-07-06T21:16:45.571Z"
   },
   {
    "duration": 219,
    "start_time": "2023-07-06T21:16:46.128Z"
   },
   {
    "duration": 551,
    "start_time": "2023-07-06T21:16:46.350Z"
   },
   {
    "duration": 16,
    "start_time": "2023-07-06T21:16:46.904Z"
   },
   {
    "duration": 63,
    "start_time": "2023-07-06T21:16:46.925Z"
   },
   {
    "duration": 18,
    "start_time": "2023-07-06T21:16:46.990Z"
   },
   {
    "duration": 30,
    "start_time": "2023-07-06T21:16:47.018Z"
   },
   {
    "duration": 12,
    "start_time": "2023-07-06T21:16:47.050Z"
   },
   {
    "duration": 14,
    "start_time": "2023-07-06T21:16:47.065Z"
   },
   {
    "duration": 6,
    "start_time": "2023-07-06T21:16:47.082Z"
   },
   {
    "duration": 30,
    "start_time": "2023-07-06T21:16:47.090Z"
   },
   {
    "duration": 26,
    "start_time": "2023-07-06T21:16:47.122Z"
   },
   {
    "duration": 250,
    "start_time": "2023-07-06T21:17:10.799Z"
   },
   {
    "duration": 9,
    "start_time": "2023-07-06T21:17:21.782Z"
   },
   {
    "duration": 9,
    "start_time": "2023-07-06T21:17:30.126Z"
   },
   {
    "duration": 7,
    "start_time": "2023-07-06T21:17:36.940Z"
   },
   {
    "duration": 9,
    "start_time": "2023-07-06T22:00:07.859Z"
   },
   {
    "duration": 1117,
    "start_time": "2023-07-06T22:01:18.255Z"
   },
   {
    "duration": 154,
    "start_time": "2023-07-06T22:01:35.161Z"
   },
   {
    "duration": 256,
    "start_time": "2023-07-06T22:11:04.779Z"
   },
   {
    "duration": 219,
    "start_time": "2023-07-06T22:11:26.563Z"
   },
   {
    "duration": 327,
    "start_time": "2023-07-06T22:11:40.482Z"
   },
   {
    "duration": 167,
    "start_time": "2023-07-06T22:12:13.298Z"
   },
   {
    "duration": 165,
    "start_time": "2023-07-06T22:13:26.367Z"
   },
   {
    "duration": 186,
    "start_time": "2023-07-06T22:15:36.310Z"
   },
   {
    "duration": 9,
    "start_time": "2023-07-06T22:16:37.944Z"
   },
   {
    "duration": 196,
    "start_time": "2023-07-06T22:19:59.769Z"
   },
   {
    "duration": 171,
    "start_time": "2023-07-06T22:21:00.933Z"
   },
   {
    "duration": 215,
    "start_time": "2023-07-06T22:24:32.346Z"
   },
   {
    "duration": 213,
    "start_time": "2023-07-06T22:24:46.284Z"
   },
   {
    "duration": 6,
    "start_time": "2023-07-06T22:47:26.538Z"
   },
   {
    "duration": 8,
    "start_time": "2023-07-06T22:48:15.690Z"
   },
   {
    "duration": 22,
    "start_time": "2023-07-06T22:48:38.149Z"
   },
   {
    "duration": 13,
    "start_time": "2023-07-06T22:54:17.699Z"
   },
   {
    "duration": 12,
    "start_time": "2023-07-06T22:55:52.609Z"
   },
   {
    "duration": 15,
    "start_time": "2023-07-06T22:56:31.054Z"
   },
   {
    "duration": 7,
    "start_time": "2023-07-06T22:56:33.132Z"
   },
   {
    "duration": 4,
    "start_time": "2023-07-06T23:10:15.603Z"
   },
   {
    "duration": 86,
    "start_time": "2023-07-06T23:10:15.611Z"
   },
   {
    "duration": 9,
    "start_time": "2023-07-06T23:10:15.699Z"
   },
   {
    "duration": 23,
    "start_time": "2023-07-06T23:10:15.710Z"
   },
   {
    "duration": 30,
    "start_time": "2023-07-06T23:10:15.735Z"
   },
   {
    "duration": 29,
    "start_time": "2023-07-06T23:10:15.766Z"
   },
   {
    "duration": 67,
    "start_time": "2023-07-06T23:10:15.797Z"
   },
   {
    "duration": 65,
    "start_time": "2023-07-06T23:10:15.866Z"
   },
   {
    "duration": 306,
    "start_time": "2023-07-06T23:10:15.933Z"
   },
   {
    "duration": 412,
    "start_time": "2023-07-06T23:10:16.241Z"
   },
   {
    "duration": 7,
    "start_time": "2023-07-06T23:10:16.656Z"
   },
   {
    "duration": 38,
    "start_time": "2023-07-06T23:10:16.665Z"
   },
   {
    "duration": 24,
    "start_time": "2023-07-06T23:10:16.705Z"
   },
   {
    "duration": 25,
    "start_time": "2023-07-06T23:10:16.731Z"
   },
   {
    "duration": 25,
    "start_time": "2023-07-06T23:10:16.758Z"
   },
   {
    "duration": 27,
    "start_time": "2023-07-06T23:10:16.785Z"
   },
   {
    "duration": 322,
    "start_time": "2023-07-06T23:10:16.818Z"
   },
   {
    "duration": 6,
    "start_time": "2023-07-06T23:10:17.142Z"
   },
   {
    "duration": 24,
    "start_time": "2023-07-06T23:10:17.150Z"
   },
   {
    "duration": 15,
    "start_time": "2023-07-06T23:10:17.176Z"
   },
   {
    "duration": 33,
    "start_time": "2023-07-06T23:10:17.193Z"
   },
   {
    "duration": 17,
    "start_time": "2023-07-06T23:10:17.228Z"
   },
   {
    "duration": 30,
    "start_time": "2023-07-06T23:10:17.247Z"
   },
   {
    "duration": 32,
    "start_time": "2023-07-06T23:10:17.279Z"
   },
   {
    "duration": 211,
    "start_time": "2023-07-06T23:10:17.313Z"
   },
   {
    "duration": 8,
    "start_time": "2023-07-06T23:10:17.532Z"
   },
   {
    "duration": 164,
    "start_time": "2023-07-06T23:10:17.542Z"
   },
   {
    "duration": 22,
    "start_time": "2023-07-06T23:10:17.708Z"
   },
   {
    "duration": 324,
    "start_time": "2023-07-06T23:10:17.734Z"
   },
   {
    "duration": 171,
    "start_time": "2023-07-06T23:10:18.061Z"
   },
   {
    "duration": 261,
    "start_time": "2023-07-06T23:10:18.235Z"
   },
   {
    "duration": 165,
    "start_time": "2023-07-06T23:10:18.498Z"
   },
   {
    "duration": 346,
    "start_time": "2023-07-06T23:10:18.664Z"
   },
   {
    "duration": 285,
    "start_time": "2023-07-06T23:10:19.014Z"
   },
   {
    "duration": 4,
    "start_time": "2023-07-06T23:10:19.301Z"
   },
   {
    "duration": 11,
    "start_time": "2023-07-06T23:10:19.319Z"
   },
   {
    "duration": 4,
    "start_time": "2023-07-06T23:10:19.332Z"
   },
   {
    "duration": 25,
    "start_time": "2023-07-06T23:10:19.338Z"
   },
   {
    "duration": 19,
    "start_time": "2023-07-06T23:10:19.365Z"
   },
   {
    "duration": 9,
    "start_time": "2023-07-06T23:10:19.413Z"
   },
   {
    "duration": 9,
    "start_time": "2023-07-06T23:10:19.431Z"
   },
   {
    "duration": 10,
    "start_time": "2023-07-06T23:10:19.442Z"
   },
   {
    "duration": 8,
    "start_time": "2023-07-06T23:10:19.454Z"
   },
   {
    "duration": 12,
    "start_time": "2023-07-06T23:10:19.465Z"
   },
   {
    "duration": 36,
    "start_time": "2023-07-06T23:10:19.479Z"
   },
   {
    "duration": 22,
    "start_time": "2023-07-06T23:10:19.521Z"
   },
   {
    "duration": 549,
    "start_time": "2023-07-06T23:10:19.545Z"
   },
   {
    "duration": 173,
    "start_time": "2023-07-06T23:10:20.096Z"
   },
   {
    "duration": 472,
    "start_time": "2023-07-06T23:10:20.271Z"
   },
   {
    "duration": 188,
    "start_time": "2023-07-06T23:10:20.745Z"
   },
   {
    "duration": 290,
    "start_time": "2023-07-06T23:10:20.935Z"
   },
   {
    "duration": 7,
    "start_time": "2023-07-06T23:10:21.229Z"
   },
   {
    "duration": 41,
    "start_time": "2023-07-06T23:10:21.237Z"
   },
   {
    "duration": 16,
    "start_time": "2023-07-06T23:10:21.279Z"
   },
   {
    "duration": 54,
    "start_time": "2023-07-06T23:10:21.297Z"
   },
   {
    "duration": 7,
    "start_time": "2023-07-06T23:10:21.354Z"
   },
   {
    "duration": 25,
    "start_time": "2023-07-06T23:10:21.363Z"
   },
   {
    "duration": 16,
    "start_time": "2023-07-06T23:10:21.390Z"
   },
   {
    "duration": 13,
    "start_time": "2023-07-06T23:10:21.409Z"
   },
   {
    "duration": 178,
    "start_time": "2023-07-06T23:10:21.425Z"
   },
   {
    "duration": 354,
    "start_time": "2023-07-06T23:10:21.604Z"
   },
   {
    "duration": 5,
    "start_time": "2023-07-06T23:10:21.960Z"
   },
   {
    "duration": 54,
    "start_time": "2023-07-06T23:10:21.967Z"
   },
   {
    "duration": 16,
    "start_time": "2023-07-06T23:10:22.023Z"
   },
   {
    "duration": 18,
    "start_time": "2023-07-06T23:10:22.041Z"
   },
   {
    "duration": 16,
    "start_time": "2023-07-06T23:10:22.060Z"
   },
   {
    "duration": 11,
    "start_time": "2023-07-06T23:10:22.078Z"
   },
   {
    "duration": 11,
    "start_time": "2023-07-06T23:10:22.091Z"
   },
   {
    "duration": 174,
    "start_time": "2023-07-06T23:10:25.461Z"
   },
   {
    "duration": 170,
    "start_time": "2023-07-06T23:10:59.166Z"
   },
   {
    "duration": 210,
    "start_time": "2023-07-06T23:12:22.954Z"
   },
   {
    "duration": 211,
    "start_time": "2023-07-06T23:13:44.968Z"
   },
   {
    "duration": 21,
    "start_time": "2023-07-06T23:17:34.529Z"
   },
   {
    "duration": 12,
    "start_time": "2023-07-06T23:19:14.925Z"
   },
   {
    "duration": 1191,
    "start_time": "2023-07-06T23:33:08.067Z"
   },
   {
    "duration": 76,
    "start_time": "2023-07-06T23:33:09.261Z"
   },
   {
    "duration": 13,
    "start_time": "2023-07-06T23:33:09.339Z"
   },
   {
    "duration": 15,
    "start_time": "2023-07-06T23:33:09.355Z"
   },
   {
    "duration": 20,
    "start_time": "2023-07-06T23:33:09.371Z"
   },
   {
    "duration": 21,
    "start_time": "2023-07-06T23:33:09.393Z"
   },
   {
    "duration": 58,
    "start_time": "2023-07-06T23:33:09.420Z"
   },
   {
    "duration": 57,
    "start_time": "2023-07-06T23:33:09.480Z"
   },
   {
    "duration": 333,
    "start_time": "2023-07-06T23:33:09.539Z"
   },
   {
    "duration": 399,
    "start_time": "2023-07-06T23:33:09.875Z"
   },
   {
    "duration": 9,
    "start_time": "2023-07-06T23:33:10.276Z"
   },
   {
    "duration": 54,
    "start_time": "2023-07-06T23:33:10.287Z"
   },
   {
    "duration": 21,
    "start_time": "2023-07-06T23:33:10.343Z"
   },
   {
    "duration": 27,
    "start_time": "2023-07-06T23:33:10.366Z"
   },
   {
    "duration": 5,
    "start_time": "2023-07-06T23:33:10.395Z"
   },
   {
    "duration": 39,
    "start_time": "2023-07-06T23:33:10.401Z"
   },
   {
    "duration": 202,
    "start_time": "2023-07-06T23:33:10.442Z"
   },
   {
    "duration": 6,
    "start_time": "2023-07-06T23:33:10.645Z"
   },
   {
    "duration": 25,
    "start_time": "2023-07-06T23:33:10.653Z"
   },
   {
    "duration": 11,
    "start_time": "2023-07-06T23:33:10.680Z"
   },
   {
    "duration": 38,
    "start_time": "2023-07-06T23:33:10.693Z"
   },
   {
    "duration": 10,
    "start_time": "2023-07-06T23:33:10.733Z"
   },
   {
    "duration": 27,
    "start_time": "2023-07-06T23:33:10.744Z"
   },
   {
    "duration": 5,
    "start_time": "2023-07-06T23:33:10.773Z"
   },
   {
    "duration": 172,
    "start_time": "2023-07-06T23:33:10.780Z"
   },
   {
    "duration": 6,
    "start_time": "2023-07-06T23:33:10.954Z"
   },
   {
    "duration": 168,
    "start_time": "2023-07-06T23:33:10.961Z"
   },
   {
    "duration": 6,
    "start_time": "2023-07-06T23:33:11.133Z"
   },
   {
    "duration": 292,
    "start_time": "2023-07-06T23:33:11.141Z"
   },
   {
    "duration": 234,
    "start_time": "2023-07-06T23:33:11.435Z"
   },
   {
    "duration": 259,
    "start_time": "2023-07-06T23:33:11.671Z"
   },
   {
    "duration": 155,
    "start_time": "2023-07-06T23:33:11.932Z"
   },
   {
    "duration": 351,
    "start_time": "2023-07-06T23:33:12.088Z"
   },
   {
    "duration": 155,
    "start_time": "2023-07-06T23:33:12.441Z"
   },
   {
    "duration": 44,
    "start_time": "2023-07-06T23:33:12.598Z"
   },
   {
    "duration": 34,
    "start_time": "2023-07-06T23:33:12.644Z"
   },
   {
    "duration": 4,
    "start_time": "2023-07-06T23:33:12.680Z"
   },
   {
    "duration": 24,
    "start_time": "2023-07-06T23:33:12.685Z"
   },
   {
    "duration": 27,
    "start_time": "2023-07-06T23:33:12.710Z"
   },
   {
    "duration": 31,
    "start_time": "2023-07-06T23:33:12.739Z"
   },
   {
    "duration": 15,
    "start_time": "2023-07-06T23:33:12.772Z"
   },
   {
    "duration": 47,
    "start_time": "2023-07-06T23:33:12.789Z"
   },
   {
    "duration": 21,
    "start_time": "2023-07-06T23:33:12.839Z"
   },
   {
    "duration": 468,
    "start_time": "2023-07-06T23:33:12.862Z"
   },
   {
    "duration": 162,
    "start_time": "2023-07-06T23:33:13.332Z"
   },
   {
    "duration": 589,
    "start_time": "2023-07-06T23:33:13.496Z"
   },
   {
    "duration": 172,
    "start_time": "2023-07-06T23:33:14.087Z"
   },
   {
    "duration": 279,
    "start_time": "2023-07-06T23:33:14.260Z"
   },
   {
    "duration": 6,
    "start_time": "2023-07-06T23:33:14.541Z"
   },
   {
    "duration": 47,
    "start_time": "2023-07-06T23:33:14.549Z"
   },
   {
    "duration": 36,
    "start_time": "2023-07-06T23:33:14.597Z"
   },
   {
    "duration": 31,
    "start_time": "2023-07-06T23:33:14.635Z"
   },
   {
    "duration": 21,
    "start_time": "2023-07-06T23:33:14.668Z"
   },
   {
    "duration": 32,
    "start_time": "2023-07-06T23:33:14.690Z"
   },
   {
    "duration": 24,
    "start_time": "2023-07-06T23:33:14.724Z"
   },
   {
    "duration": 31,
    "start_time": "2023-07-06T23:33:14.750Z"
   },
   {
    "duration": 394,
    "start_time": "2023-07-06T23:33:14.782Z"
   },
   {
    "duration": 299,
    "start_time": "2023-07-06T23:33:15.178Z"
   },
   {
    "duration": 6,
    "start_time": "2023-07-06T23:33:15.478Z"
   },
   {
    "duration": 39,
    "start_time": "2023-07-06T23:33:15.485Z"
   },
   {
    "duration": 8,
    "start_time": "2023-07-06T23:33:15.526Z"
   },
   {
    "duration": 22,
    "start_time": "2023-07-06T23:33:15.536Z"
   },
   {
    "duration": 24,
    "start_time": "2023-07-06T23:33:15.560Z"
   },
   {
    "duration": 15,
    "start_time": "2023-07-06T23:33:15.586Z"
   },
   {
    "duration": 10,
    "start_time": "2023-07-06T23:33:15.603Z"
   },
   {
    "duration": 163,
    "start_time": "2023-07-06T23:33:15.617Z"
   },
   {
    "duration": 198,
    "start_time": "2023-07-06T23:33:15.782Z"
   },
   {
    "duration": 11,
    "start_time": "2023-07-06T23:33:15.982Z"
   },
   {
    "duration": 1908,
    "start_time": "2023-07-06T23:33:15.995Z"
   },
   {
    "duration": 591,
    "start_time": "2023-07-06T23:33:17.904Z"
   },
   {
    "duration": 632,
    "start_time": "2023-07-06T23:33:18.497Z"
   },
   {
    "duration": 454,
    "start_time": "2023-07-06T23:33:19.131Z"
   },
   {
    "duration": 8,
    "start_time": "2023-07-07T08:18:12.459Z"
   },
   {
    "duration": 86,
    "start_time": "2023-07-07T08:18:12.470Z"
   },
   {
    "duration": 17,
    "start_time": "2023-07-07T08:18:12.558Z"
   },
   {
    "duration": 17,
    "start_time": "2023-07-07T08:18:12.577Z"
   },
   {
    "duration": 35,
    "start_time": "2023-07-07T08:18:12.596Z"
   },
   {
    "duration": 31,
    "start_time": "2023-07-07T08:18:12.633Z"
   },
   {
    "duration": 47,
    "start_time": "2023-07-07T08:18:12.669Z"
   },
   {
    "duration": 71,
    "start_time": "2023-07-07T08:18:12.718Z"
   },
   {
    "duration": 315,
    "start_time": "2023-07-07T08:18:12.791Z"
   },
   {
    "duration": 475,
    "start_time": "2023-07-07T08:18:13.113Z"
   },
   {
    "duration": 11,
    "start_time": "2023-07-07T08:18:13.590Z"
   },
   {
    "duration": 37,
    "start_time": "2023-07-07T08:18:13.602Z"
   },
   {
    "duration": 6,
    "start_time": "2023-07-07T08:18:13.641Z"
   },
   {
    "duration": 11,
    "start_time": "2023-07-07T08:18:13.649Z"
   },
   {
    "duration": 13,
    "start_time": "2023-07-07T08:18:13.663Z"
   },
   {
    "duration": 23,
    "start_time": "2023-07-07T08:18:13.678Z"
   },
   {
    "duration": 212,
    "start_time": "2023-07-07T08:18:13.702Z"
   },
   {
    "duration": 7,
    "start_time": "2023-07-07T08:18:13.915Z"
   },
   {
    "duration": 43,
    "start_time": "2023-07-07T08:18:13.924Z"
   },
   {
    "duration": 11,
    "start_time": "2023-07-07T08:18:13.969Z"
   },
   {
    "duration": 18,
    "start_time": "2023-07-07T08:18:13.982Z"
   },
   {
    "duration": 5,
    "start_time": "2023-07-07T08:18:14.002Z"
   },
   {
    "duration": 32,
    "start_time": "2023-07-07T08:18:14.008Z"
   },
   {
    "duration": 23,
    "start_time": "2023-07-07T08:18:14.041Z"
   },
   {
    "duration": 248,
    "start_time": "2023-07-07T08:18:14.066Z"
   },
   {
    "duration": 10,
    "start_time": "2023-07-07T08:18:14.316Z"
   },
   {
    "duration": 211,
    "start_time": "2023-07-07T08:18:14.328Z"
   },
   {
    "duration": 10,
    "start_time": "2023-07-07T08:18:14.541Z"
   },
   {
    "duration": 392,
    "start_time": "2023-07-07T08:18:14.562Z"
   },
   {
    "duration": 171,
    "start_time": "2023-07-07T08:18:14.956Z"
   },
   {
    "duration": 459,
    "start_time": "2023-07-07T08:18:15.129Z"
   },
   {
    "duration": 177,
    "start_time": "2023-07-07T08:18:15.590Z"
   },
   {
    "duration": 372,
    "start_time": "2023-07-07T08:18:15.769Z"
   },
   {
    "duration": 257,
    "start_time": "2023-07-07T08:18:16.144Z"
   },
   {
    "duration": 31,
    "start_time": "2023-07-07T08:18:16.403Z"
   },
   {
    "duration": 53,
    "start_time": "2023-07-07T08:18:16.436Z"
   },
   {
    "duration": 5,
    "start_time": "2023-07-07T08:18:16.495Z"
   },
   {
    "duration": 17,
    "start_time": "2023-07-07T08:18:16.502Z"
   },
   {
    "duration": 11,
    "start_time": "2023-07-07T08:18:16.521Z"
   },
   {
    "duration": 12,
    "start_time": "2023-07-07T08:18:16.534Z"
   },
   {
    "duration": 18,
    "start_time": "2023-07-07T08:18:16.548Z"
   },
   {
    "duration": 27,
    "start_time": "2023-07-07T08:18:16.569Z"
   },
   {
    "duration": 22,
    "start_time": "2023-07-07T08:18:16.605Z"
   },
   {
    "duration": 550,
    "start_time": "2023-07-07T08:18:16.629Z"
   },
   {
    "duration": 203,
    "start_time": "2023-07-07T08:18:17.183Z"
   },
   {
    "duration": 719,
    "start_time": "2023-07-07T08:18:17.389Z"
   },
   {
    "duration": 200,
    "start_time": "2023-07-07T08:18:18.110Z"
   },
   {
    "duration": 324,
    "start_time": "2023-07-07T08:18:18.311Z"
   },
   {
    "duration": 6,
    "start_time": "2023-07-07T08:18:18.637Z"
   },
   {
    "duration": 48,
    "start_time": "2023-07-07T08:18:18.660Z"
   },
   {
    "duration": 17,
    "start_time": "2023-07-07T08:18:18.711Z"
   },
   {
    "duration": 62,
    "start_time": "2023-07-07T08:18:18.731Z"
   },
   {
    "duration": 6,
    "start_time": "2023-07-07T08:18:18.794Z"
   },
   {
    "duration": 21,
    "start_time": "2023-07-07T08:18:18.802Z"
   },
   {
    "duration": 6,
    "start_time": "2023-07-07T08:18:18.825Z"
   },
   {
    "duration": 22,
    "start_time": "2023-07-07T08:18:18.832Z"
   },
   {
    "duration": 205,
    "start_time": "2023-07-07T08:18:18.856Z"
   },
   {
    "duration": 273,
    "start_time": "2023-07-07T08:18:19.063Z"
   },
   {
    "duration": 5,
    "start_time": "2023-07-07T08:18:19.338Z"
   },
   {
    "duration": 28,
    "start_time": "2023-07-07T08:18:19.345Z"
   },
   {
    "duration": 26,
    "start_time": "2023-07-07T08:18:19.376Z"
   },
   {
    "duration": 25,
    "start_time": "2023-07-07T08:18:19.405Z"
   },
   {
    "duration": 20,
    "start_time": "2023-07-07T08:18:19.432Z"
   },
   {
    "duration": 18,
    "start_time": "2023-07-07T08:18:19.454Z"
   },
   {
    "duration": 26,
    "start_time": "2023-07-07T08:18:19.474Z"
   },
   {
    "duration": 189,
    "start_time": "2023-07-07T08:18:19.502Z"
   },
   {
    "duration": 222,
    "start_time": "2023-07-07T08:18:19.692Z"
   },
   {
    "duration": 13,
    "start_time": "2023-07-07T08:18:19.916Z"
   },
   {
    "duration": 2069,
    "start_time": "2023-07-07T08:18:19.931Z"
   },
   {
    "duration": 816,
    "start_time": "2023-07-07T08:18:22.003Z"
   },
   {
    "duration": 660,
    "start_time": "2023-07-07T08:18:22.821Z"
   },
   {
    "duration": 547,
    "start_time": "2023-07-07T08:18:23.487Z"
   },
   {
    "duration": 5,
    "start_time": "2023-07-07T08:24:53.592Z"
   },
   {
    "duration": 9,
    "start_time": "2023-07-07T08:24:56.673Z"
   },
   {
    "duration": 6,
    "start_time": "2023-07-07T08:25:04.749Z"
   },
   {
    "duration": 8,
    "start_time": "2023-07-07T08:25:07.855Z"
   },
   {
    "duration": 11,
    "start_time": "2023-07-07T08:25:29.577Z"
   },
   {
    "duration": 8,
    "start_time": "2023-07-07T08:25:48.613Z"
   },
   {
    "duration": 13,
    "start_time": "2023-07-07T08:25:51.339Z"
   },
   {
    "duration": 71,
    "start_time": "2023-07-07T11:27:44.027Z"
   },
   {
    "duration": 1405,
    "start_time": "2023-07-07T11:27:50.491Z"
   },
   {
    "duration": 307,
    "start_time": "2023-07-07T11:27:51.898Z"
   },
   {
    "duration": 15,
    "start_time": "2023-07-07T11:27:52.207Z"
   },
   {
    "duration": 26,
    "start_time": "2023-07-07T11:27:52.224Z"
   },
   {
    "duration": 40,
    "start_time": "2023-07-07T11:27:52.253Z"
   },
   {
    "duration": 27,
    "start_time": "2023-07-07T11:27:52.295Z"
   },
   {
    "duration": 89,
    "start_time": "2023-07-07T11:27:52.323Z"
   },
   {
    "duration": 61,
    "start_time": "2023-07-07T11:27:52.414Z"
   },
   {
    "duration": 322,
    "start_time": "2023-07-07T11:27:52.477Z"
   },
   {
    "duration": 439,
    "start_time": "2023-07-07T11:27:52.801Z"
   },
   {
    "duration": 10,
    "start_time": "2023-07-07T11:27:53.242Z"
   },
   {
    "duration": 30,
    "start_time": "2023-07-07T11:27:53.254Z"
   },
   {
    "duration": 9,
    "start_time": "2023-07-07T11:27:53.286Z"
   },
   {
    "duration": 25,
    "start_time": "2023-07-07T11:27:53.298Z"
   },
   {
    "duration": 8,
    "start_time": "2023-07-07T11:27:53.325Z"
   },
   {
    "duration": 24,
    "start_time": "2023-07-07T11:27:53.335Z"
   },
   {
    "duration": 180,
    "start_time": "2023-07-07T11:27:53.361Z"
   },
   {
    "duration": 6,
    "start_time": "2023-07-07T11:27:53.543Z"
   },
   {
    "duration": 42,
    "start_time": "2023-07-07T11:27:53.551Z"
   },
   {
    "duration": 5,
    "start_time": "2023-07-07T11:27:53.595Z"
   },
   {
    "duration": 16,
    "start_time": "2023-07-07T11:27:53.601Z"
   },
   {
    "duration": 8,
    "start_time": "2023-07-07T11:27:53.618Z"
   },
   {
    "duration": 22,
    "start_time": "2023-07-07T11:27:53.628Z"
   },
   {
    "duration": 18,
    "start_time": "2023-07-07T11:27:53.652Z"
   },
   {
    "duration": 191,
    "start_time": "2023-07-07T11:27:53.671Z"
   },
   {
    "duration": 6,
    "start_time": "2023-07-07T11:27:53.864Z"
   },
   {
    "duration": 198,
    "start_time": "2023-07-07T11:27:53.872Z"
   },
   {
    "duration": 8,
    "start_time": "2023-07-07T11:27:54.072Z"
   },
   {
    "duration": 296,
    "start_time": "2023-07-07T11:27:54.082Z"
   },
   {
    "duration": 230,
    "start_time": "2023-07-07T11:27:54.379Z"
   },
   {
    "duration": 265,
    "start_time": "2023-07-07T11:27:54.610Z"
   },
   {
    "duration": 154,
    "start_time": "2023-07-07T11:27:54.877Z"
   },
   {
    "duration": 335,
    "start_time": "2023-07-07T11:27:55.033Z"
   },
   {
    "duration": 156,
    "start_time": "2023-07-07T11:27:55.371Z"
   },
   {
    "duration": 20,
    "start_time": "2023-07-07T11:27:55.530Z"
   },
   {
    "duration": 19,
    "start_time": "2023-07-07T11:27:55.566Z"
   },
   {
    "duration": 4,
    "start_time": "2023-07-07T11:27:55.587Z"
   },
   {
    "duration": 7,
    "start_time": "2023-07-07T11:27:55.593Z"
   },
   {
    "duration": 6,
    "start_time": "2023-07-07T11:27:55.602Z"
   },
   {
    "duration": 8,
    "start_time": "2023-07-07T11:27:55.609Z"
   },
   {
    "duration": 6,
    "start_time": "2023-07-07T11:27:55.620Z"
   },
   {
    "duration": 51,
    "start_time": "2023-07-07T11:27:55.627Z"
   },
   {
    "duration": 16,
    "start_time": "2023-07-07T11:27:55.680Z"
   },
   {
    "duration": 466,
    "start_time": "2023-07-07T11:27:55.698Z"
   },
   {
    "duration": 160,
    "start_time": "2023-07-07T11:27:56.166Z"
   },
   {
    "duration": 583,
    "start_time": "2023-07-07T11:27:56.328Z"
   },
   {
    "duration": 191,
    "start_time": "2023-07-07T11:27:56.913Z"
   },
   {
    "duration": 294,
    "start_time": "2023-07-07T11:27:57.106Z"
   },
   {
    "duration": 8,
    "start_time": "2023-07-07T11:27:57.401Z"
   },
   {
    "duration": 40,
    "start_time": "2023-07-07T11:27:57.410Z"
   },
   {
    "duration": 28,
    "start_time": "2023-07-07T11:27:57.452Z"
   },
   {
    "duration": 36,
    "start_time": "2023-07-07T11:27:57.482Z"
   },
   {
    "duration": 6,
    "start_time": "2023-07-07T11:27:57.520Z"
   },
   {
    "duration": 27,
    "start_time": "2023-07-07T11:27:57.528Z"
   },
   {
    "duration": 9,
    "start_time": "2023-07-07T11:27:57.557Z"
   },
   {
    "duration": 15,
    "start_time": "2023-07-07T11:27:57.568Z"
   },
   {
    "duration": 7,
    "start_time": "2023-07-07T11:28:00.772Z"
   },
   {
    "duration": 10,
    "start_time": "2023-07-07T11:59:37.960Z"
   },
   {
    "duration": 1214,
    "start_time": "2023-07-07T12:03:36.779Z"
   },
   {
    "duration": 67,
    "start_time": "2023-07-07T12:03:37.995Z"
   },
   {
    "duration": 12,
    "start_time": "2023-07-07T12:03:38.064Z"
   },
   {
    "duration": 10,
    "start_time": "2023-07-07T12:03:38.078Z"
   },
   {
    "duration": 13,
    "start_time": "2023-07-07T12:03:38.090Z"
   },
   {
    "duration": 10,
    "start_time": "2023-07-07T12:03:38.104Z"
   },
   {
    "duration": 57,
    "start_time": "2023-07-07T12:03:38.115Z"
   },
   {
    "duration": 54,
    "start_time": "2023-07-07T12:03:38.174Z"
   },
   {
    "duration": 293,
    "start_time": "2023-07-07T12:03:38.230Z"
   },
   {
    "duration": 406,
    "start_time": "2023-07-07T12:03:38.526Z"
   },
   {
    "duration": 8,
    "start_time": "2023-07-07T12:03:38.934Z"
   },
   {
    "duration": 24,
    "start_time": "2023-07-07T12:03:38.944Z"
   },
   {
    "duration": 6,
    "start_time": "2023-07-07T12:03:38.970Z"
   },
   {
    "duration": 7,
    "start_time": "2023-07-07T12:03:38.978Z"
   },
   {
    "duration": 6,
    "start_time": "2023-07-07T12:03:38.987Z"
   },
   {
    "duration": 12,
    "start_time": "2023-07-07T12:03:38.994Z"
   },
   {
    "duration": 211,
    "start_time": "2023-07-07T12:03:39.008Z"
   },
   {
    "duration": 6,
    "start_time": "2023-07-07T12:03:39.221Z"
   },
   {
    "duration": 14,
    "start_time": "2023-07-07T12:03:39.229Z"
   },
   {
    "duration": 23,
    "start_time": "2023-07-07T12:03:39.244Z"
   },
   {
    "duration": 6,
    "start_time": "2023-07-07T12:03:39.269Z"
   },
   {
    "duration": 4,
    "start_time": "2023-07-07T12:03:39.277Z"
   },
   {
    "duration": 16,
    "start_time": "2023-07-07T12:03:39.282Z"
   },
   {
    "duration": 8,
    "start_time": "2023-07-07T12:03:39.300Z"
   },
   {
    "duration": 179,
    "start_time": "2023-07-07T12:03:39.310Z"
   },
   {
    "duration": 6,
    "start_time": "2023-07-07T12:03:39.491Z"
   },
   {
    "duration": 155,
    "start_time": "2023-07-07T12:03:39.499Z"
   },
   {
    "duration": 8,
    "start_time": "2023-07-07T12:03:39.666Z"
   },
   {
    "duration": 277,
    "start_time": "2023-07-07T12:03:39.675Z"
   },
   {
    "duration": 232,
    "start_time": "2023-07-07T12:03:39.953Z"
   },
   {
    "duration": 242,
    "start_time": "2023-07-07T12:03:40.187Z"
   },
   {
    "duration": 142,
    "start_time": "2023-07-07T12:03:40.431Z"
   },
   {
    "duration": 319,
    "start_time": "2023-07-07T12:03:40.575Z"
   },
   {
    "duration": 153,
    "start_time": "2023-07-07T12:03:40.896Z"
   },
   {
    "duration": 24,
    "start_time": "2023-07-07T12:03:41.051Z"
   },
   {
    "duration": 17,
    "start_time": "2023-07-07T12:03:41.077Z"
   },
   {
    "duration": 25,
    "start_time": "2023-07-07T12:03:41.096Z"
   },
   {
    "duration": 11,
    "start_time": "2023-07-07T12:03:41.123Z"
   },
   {
    "duration": 9,
    "start_time": "2023-07-07T12:03:41.136Z"
   },
   {
    "duration": 13,
    "start_time": "2023-07-07T12:03:41.147Z"
   },
   {
    "duration": 4,
    "start_time": "2023-07-07T12:03:41.162Z"
   },
   {
    "duration": 38,
    "start_time": "2023-07-07T12:03:41.168Z"
   },
   {
    "duration": 15,
    "start_time": "2023-07-07T12:03:41.208Z"
   },
   {
    "duration": 442,
    "start_time": "2023-07-07T12:03:41.224Z"
   },
   {
    "duration": 163,
    "start_time": "2023-07-07T12:03:41.668Z"
   },
   {
    "duration": 537,
    "start_time": "2023-07-07T12:03:41.833Z"
   },
   {
    "duration": 164,
    "start_time": "2023-07-07T12:03:42.372Z"
   },
   {
    "duration": 270,
    "start_time": "2023-07-07T12:03:42.538Z"
   },
   {
    "duration": 6,
    "start_time": "2023-07-07T12:03:42.809Z"
   },
   {
    "duration": 52,
    "start_time": "2023-07-07T12:03:42.816Z"
   },
   {
    "duration": 17,
    "start_time": "2023-07-07T12:03:42.870Z"
   },
   {
    "duration": 22,
    "start_time": "2023-07-07T12:03:42.889Z"
   },
   {
    "duration": 5,
    "start_time": "2023-07-07T12:03:42.913Z"
   },
   {
    "duration": 17,
    "start_time": "2023-07-07T12:03:42.919Z"
   },
   {
    "duration": 12,
    "start_time": "2023-07-07T12:03:42.938Z"
   },
   {
    "duration": 21,
    "start_time": "2023-07-07T12:03:42.951Z"
   },
   {
    "duration": 7,
    "start_time": "2023-07-07T12:03:42.973Z"
   },
   {
    "duration": 754,
    "start_time": "2023-07-07T12:03:42.981Z"
   },
   {
    "duration": 344,
    "start_time": "2023-07-07T12:03:43.737Z"
   },
   {
    "duration": 8,
    "start_time": "2023-07-07T12:03:44.083Z"
   },
   {
    "duration": 23,
    "start_time": "2023-07-07T12:03:44.093Z"
   },
   {
    "duration": 7,
    "start_time": "2023-07-07T12:03:44.118Z"
   },
   {
    "duration": 22,
    "start_time": "2023-07-07T12:03:44.127Z"
   },
   {
    "duration": 17,
    "start_time": "2023-07-07T12:03:44.151Z"
   },
   {
    "duration": 8,
    "start_time": "2023-07-07T12:03:44.170Z"
   },
   {
    "duration": 10,
    "start_time": "2023-07-07T12:03:44.181Z"
   },
   {
    "duration": 182,
    "start_time": "2023-07-07T12:03:44.195Z"
   },
   {
    "duration": 197,
    "start_time": "2023-07-07T12:03:44.379Z"
   },
   {
    "duration": 10,
    "start_time": "2023-07-07T12:03:44.578Z"
   },
   {
    "duration": 10,
    "start_time": "2023-07-07T12:03:44.590Z"
   },
   {
    "duration": 1827,
    "start_time": "2023-07-07T12:03:44.601Z"
   },
   {
    "duration": 599,
    "start_time": "2023-07-07T12:03:46.430Z"
   },
   {
    "duration": 600,
    "start_time": "2023-07-07T12:03:47.030Z"
   },
   {
    "duration": 489,
    "start_time": "2023-07-07T12:03:47.632Z"
   },
   {
    "duration": 1236,
    "start_time": "2023-07-07T12:05:23.099Z"
   },
   {
    "duration": 67,
    "start_time": "2023-07-07T12:05:24.336Z"
   },
   {
    "duration": 13,
    "start_time": "2023-07-07T12:05:24.405Z"
   },
   {
    "duration": 13,
    "start_time": "2023-07-07T12:05:24.420Z"
   },
   {
    "duration": 15,
    "start_time": "2023-07-07T12:05:24.435Z"
   },
   {
    "duration": 12,
    "start_time": "2023-07-07T12:05:24.452Z"
   },
   {
    "duration": 48,
    "start_time": "2023-07-07T12:05:24.466Z"
   },
   {
    "duration": 54,
    "start_time": "2023-07-07T12:05:24.516Z"
   },
   {
    "duration": 279,
    "start_time": "2023-07-07T12:05:24.572Z"
   },
   {
    "duration": 389,
    "start_time": "2023-07-07T12:05:24.855Z"
   },
   {
    "duration": 8,
    "start_time": "2023-07-07T12:05:25.246Z"
   },
   {
    "duration": 16,
    "start_time": "2023-07-07T12:05:25.266Z"
   },
   {
    "duration": 21,
    "start_time": "2023-07-07T12:05:25.284Z"
   },
   {
    "duration": 26,
    "start_time": "2023-07-07T12:05:25.307Z"
   },
   {
    "duration": 6,
    "start_time": "2023-07-07T12:05:25.335Z"
   },
   {
    "duration": 18,
    "start_time": "2023-07-07T12:05:25.342Z"
   },
   {
    "duration": 194,
    "start_time": "2023-07-07T12:05:25.362Z"
   },
   {
    "duration": 6,
    "start_time": "2023-07-07T12:05:25.558Z"
   },
   {
    "duration": 18,
    "start_time": "2023-07-07T12:05:25.567Z"
   },
   {
    "duration": 5,
    "start_time": "2023-07-07T12:05:25.587Z"
   },
   {
    "duration": 7,
    "start_time": "2023-07-07T12:05:25.593Z"
   },
   {
    "duration": 5,
    "start_time": "2023-07-07T12:05:25.602Z"
   },
   {
    "duration": 11,
    "start_time": "2023-07-07T12:05:25.609Z"
   },
   {
    "duration": 7,
    "start_time": "2023-07-07T12:05:25.621Z"
   },
   {
    "duration": 205,
    "start_time": "2023-07-07T12:05:25.629Z"
   },
   {
    "duration": 6,
    "start_time": "2023-07-07T12:05:25.836Z"
   },
   {
    "duration": 167,
    "start_time": "2023-07-07T12:05:25.844Z"
   },
   {
    "duration": 7,
    "start_time": "2023-07-07T12:05:26.015Z"
   },
   {
    "duration": 292,
    "start_time": "2023-07-07T12:05:26.024Z"
   },
   {
    "duration": 240,
    "start_time": "2023-07-07T12:05:26.318Z"
   },
   {
    "duration": 263,
    "start_time": "2023-07-07T12:05:26.560Z"
   },
   {
    "duration": 168,
    "start_time": "2023-07-07T12:05:26.824Z"
   },
   {
    "duration": 353,
    "start_time": "2023-07-07T12:05:26.993Z"
   },
   {
    "duration": 172,
    "start_time": "2023-07-07T12:05:27.348Z"
   },
   {
    "duration": 21,
    "start_time": "2023-07-07T12:05:27.522Z"
   },
   {
    "duration": 37,
    "start_time": "2023-07-07T12:05:27.545Z"
   },
   {
    "duration": 9,
    "start_time": "2023-07-07T12:05:27.585Z"
   },
   {
    "duration": 8,
    "start_time": "2023-07-07T12:05:27.596Z"
   },
   {
    "duration": 11,
    "start_time": "2023-07-07T12:05:27.606Z"
   },
   {
    "duration": 9,
    "start_time": "2023-07-07T12:05:27.619Z"
   },
   {
    "duration": 5,
    "start_time": "2023-07-07T12:05:27.629Z"
   },
   {
    "duration": 38,
    "start_time": "2023-07-07T12:05:27.636Z"
   },
   {
    "duration": 17,
    "start_time": "2023-07-07T12:05:27.676Z"
   },
   {
    "duration": 475,
    "start_time": "2023-07-07T12:05:27.695Z"
   },
   {
    "duration": 165,
    "start_time": "2023-07-07T12:05:28.172Z"
   },
   {
    "duration": 551,
    "start_time": "2023-07-07T12:05:28.339Z"
   },
   {
    "duration": 177,
    "start_time": "2023-07-07T12:05:28.892Z"
   },
   {
    "duration": 269,
    "start_time": "2023-07-07T12:05:29.071Z"
   },
   {
    "duration": 6,
    "start_time": "2023-07-07T12:05:29.342Z"
   },
   {
    "duration": 48,
    "start_time": "2023-07-07T12:05:29.350Z"
   },
   {
    "duration": 15,
    "start_time": "2023-07-07T12:05:29.400Z"
   },
   {
    "duration": 23,
    "start_time": "2023-07-07T12:05:29.417Z"
   },
   {
    "duration": 27,
    "start_time": "2023-07-07T12:05:29.442Z"
   },
   {
    "duration": 29,
    "start_time": "2023-07-07T12:05:29.470Z"
   },
   {
    "duration": 21,
    "start_time": "2023-07-07T12:05:29.501Z"
   },
   {
    "duration": 20,
    "start_time": "2023-07-07T12:05:29.524Z"
   },
   {
    "duration": 7,
    "start_time": "2023-07-07T12:05:29.546Z"
   },
   {
    "duration": 376,
    "start_time": "2023-07-07T12:05:29.555Z"
   },
   {
    "duration": 314,
    "start_time": "2023-07-07T12:05:29.933Z"
   },
   {
    "duration": 5,
    "start_time": "2023-07-07T12:05:30.249Z"
   },
   {
    "duration": 47,
    "start_time": "2023-07-07T12:05:30.255Z"
   },
   {
    "duration": 26,
    "start_time": "2023-07-07T12:05:30.304Z"
   },
   {
    "duration": 94,
    "start_time": "2023-07-07T12:05:30.331Z"
   },
   {
    "duration": 50,
    "start_time": "2023-07-07T12:05:30.426Z"
   },
   {
    "duration": 23,
    "start_time": "2023-07-07T12:05:30.478Z"
   },
   {
    "duration": 17,
    "start_time": "2023-07-07T12:05:30.503Z"
   },
   {
    "duration": 167,
    "start_time": "2023-07-07T12:05:30.521Z"
   },
   {
    "duration": 208,
    "start_time": "2023-07-07T12:05:30.690Z"
   },
   {
    "duration": 12,
    "start_time": "2023-07-07T12:05:30.900Z"
   },
   {
    "duration": 61,
    "start_time": "2023-07-07T12:05:30.914Z"
   },
   {
    "duration": 1974,
    "start_time": "2023-07-07T12:05:30.977Z"
   },
   {
    "duration": 581,
    "start_time": "2023-07-07T12:05:32.953Z"
   },
   {
    "duration": 676,
    "start_time": "2023-07-07T12:05:33.536Z"
   },
   {
    "duration": 488,
    "start_time": "2023-07-07T12:05:34.214Z"
   },
   {
    "duration": 1278,
    "start_time": "2023-07-07T12:40:09.663Z"
   },
   {
    "duration": 78,
    "start_time": "2023-07-07T12:40:10.943Z"
   },
   {
    "duration": 17,
    "start_time": "2023-07-07T12:40:11.023Z"
   },
   {
    "duration": 14,
    "start_time": "2023-07-07T12:40:11.043Z"
   },
   {
    "duration": 17,
    "start_time": "2023-07-07T12:40:11.059Z"
   },
   {
    "duration": 13,
    "start_time": "2023-07-07T12:40:11.079Z"
   },
   {
    "duration": 35,
    "start_time": "2023-07-07T12:40:11.102Z"
   },
   {
    "duration": 78,
    "start_time": "2023-07-07T12:40:11.139Z"
   },
   {
    "duration": 294,
    "start_time": "2023-07-07T12:40:11.218Z"
   },
   {
    "duration": 392,
    "start_time": "2023-07-07T12:40:11.515Z"
   },
   {
    "duration": 9,
    "start_time": "2023-07-07T12:40:11.909Z"
   },
   {
    "duration": 22,
    "start_time": "2023-07-07T12:40:11.920Z"
   },
   {
    "duration": 9,
    "start_time": "2023-07-07T12:40:11.944Z"
   },
   {
    "duration": 16,
    "start_time": "2023-07-07T12:40:11.955Z"
   },
   {
    "duration": 9,
    "start_time": "2023-07-07T12:40:11.973Z"
   },
   {
    "duration": 23,
    "start_time": "2023-07-07T12:40:11.983Z"
   },
   {
    "duration": 218,
    "start_time": "2023-07-07T12:40:12.008Z"
   },
   {
    "duration": 6,
    "start_time": "2023-07-07T12:40:12.228Z"
   },
   {
    "duration": 27,
    "start_time": "2023-07-07T12:40:12.235Z"
   },
   {
    "duration": 5,
    "start_time": "2023-07-07T12:40:12.264Z"
   },
   {
    "duration": 6,
    "start_time": "2023-07-07T12:40:12.271Z"
   },
   {
    "duration": 24,
    "start_time": "2023-07-07T12:40:12.279Z"
   },
   {
    "duration": 8,
    "start_time": "2023-07-07T12:40:12.305Z"
   },
   {
    "duration": 15,
    "start_time": "2023-07-07T12:40:12.314Z"
   },
   {
    "duration": 183,
    "start_time": "2023-07-07T12:40:12.332Z"
   },
   {
    "duration": 8,
    "start_time": "2023-07-07T12:40:12.518Z"
   },
   {
    "duration": 176,
    "start_time": "2023-07-07T12:40:12.527Z"
   },
   {
    "duration": 7,
    "start_time": "2023-07-07T12:40:12.707Z"
   },
   {
    "duration": 290,
    "start_time": "2023-07-07T12:40:12.716Z"
   },
   {
    "duration": 248,
    "start_time": "2023-07-07T12:40:13.008Z"
   },
   {
    "duration": 257,
    "start_time": "2023-07-07T12:40:13.257Z"
   },
   {
    "duration": 159,
    "start_time": "2023-07-07T12:40:13.515Z"
   },
   {
    "duration": 390,
    "start_time": "2023-07-07T12:40:13.676Z"
   },
   {
    "duration": 182,
    "start_time": "2023-07-07T12:40:14.068Z"
   },
   {
    "duration": 21,
    "start_time": "2023-07-07T12:40:14.252Z"
   },
   {
    "duration": 42,
    "start_time": "2023-07-07T12:40:14.274Z"
   },
   {
    "duration": 5,
    "start_time": "2023-07-07T12:40:14.318Z"
   },
   {
    "duration": 25,
    "start_time": "2023-07-07T12:40:14.324Z"
   },
   {
    "duration": 7,
    "start_time": "2023-07-07T12:40:14.351Z"
   },
   {
    "duration": 12,
    "start_time": "2023-07-07T12:40:14.360Z"
   },
   {
    "duration": 17,
    "start_time": "2023-07-07T12:40:14.375Z"
   },
   {
    "duration": 23,
    "start_time": "2023-07-07T12:40:14.394Z"
   },
   {
    "duration": 16,
    "start_time": "2023-07-07T12:40:14.419Z"
   },
   {
    "duration": 471,
    "start_time": "2023-07-07T12:40:14.437Z"
   },
   {
    "duration": 170,
    "start_time": "2023-07-07T12:40:14.910Z"
   },
   {
    "duration": 569,
    "start_time": "2023-07-07T12:40:15.082Z"
   },
   {
    "duration": 181,
    "start_time": "2023-07-07T12:40:15.653Z"
   },
   {
    "duration": 283,
    "start_time": "2023-07-07T12:40:15.836Z"
   },
   {
    "duration": 10,
    "start_time": "2023-07-07T12:40:16.121Z"
   },
   {
    "duration": 54,
    "start_time": "2023-07-07T12:40:16.134Z"
   },
   {
    "duration": 26,
    "start_time": "2023-07-07T12:40:16.190Z"
   },
   {
    "duration": 25,
    "start_time": "2023-07-07T12:40:16.218Z"
   },
   {
    "duration": 6,
    "start_time": "2023-07-07T12:40:16.244Z"
   },
   {
    "duration": 15,
    "start_time": "2023-07-07T12:40:16.252Z"
   },
   {
    "duration": 7,
    "start_time": "2023-07-07T12:40:16.268Z"
   },
   {
    "duration": 32,
    "start_time": "2023-07-07T12:40:16.276Z"
   },
   {
    "duration": 9,
    "start_time": "2023-07-07T12:40:16.310Z"
   },
   {
    "duration": 1492,
    "start_time": "2023-07-07T12:40:16.320Z"
   },
   {
    "duration": 294,
    "start_time": "2023-07-07T12:40:17.813Z"
   },
   {
    "duration": 5,
    "start_time": "2023-07-07T12:40:18.109Z"
   },
   {
    "duration": 14,
    "start_time": "2023-07-07T12:40:18.116Z"
   },
   {
    "duration": 12,
    "start_time": "2023-07-07T12:40:18.132Z"
   },
   {
    "duration": 14,
    "start_time": "2023-07-07T12:40:18.146Z"
   },
   {
    "duration": 11,
    "start_time": "2023-07-07T12:40:18.162Z"
   },
   {
    "duration": 9,
    "start_time": "2023-07-07T12:40:18.175Z"
   },
   {
    "duration": 27,
    "start_time": "2023-07-07T12:40:18.185Z"
   },
   {
    "duration": 172,
    "start_time": "2023-07-07T12:40:18.214Z"
   },
   {
    "duration": 221,
    "start_time": "2023-07-07T12:40:18.388Z"
   },
   {
    "duration": 16,
    "start_time": "2023-07-07T12:40:18.611Z"
   },
   {
    "duration": 15,
    "start_time": "2023-07-07T12:40:18.629Z"
   },
   {
    "duration": 1882,
    "start_time": "2023-07-07T12:40:18.646Z"
   },
   {
    "duration": 704,
    "start_time": "2023-07-07T12:40:20.531Z"
   },
   {
    "duration": 635,
    "start_time": "2023-07-07T12:40:21.238Z"
   },
   {
    "duration": 481,
    "start_time": "2023-07-07T12:40:21.875Z"
   },
   {
    "duration": 6,
    "start_time": "2023-07-07T12:40:48.538Z"
   },
   {
    "duration": 7,
    "start_time": "2023-07-07T12:41:01.754Z"
   },
   {
    "duration": 8,
    "start_time": "2023-07-07T12:41:19.981Z"
   },
   {
    "duration": 7,
    "start_time": "2023-07-07T12:41:38.913Z"
   },
   {
    "duration": 8,
    "start_time": "2023-07-07T12:43:04.729Z"
   },
   {
    "duration": 1284,
    "start_time": "2023-07-25T21:09:35.022Z"
   },
   {
    "duration": 295,
    "start_time": "2023-07-25T21:09:36.309Z"
   },
   {
    "duration": 13,
    "start_time": "2023-07-25T21:09:36.606Z"
   },
   {
    "duration": 9,
    "start_time": "2023-07-25T21:09:36.621Z"
   },
   {
    "duration": 25,
    "start_time": "2023-07-25T21:09:36.632Z"
   },
   {
    "duration": 11,
    "start_time": "2023-07-25T21:09:36.659Z"
   },
   {
    "duration": 53,
    "start_time": "2023-07-25T21:09:36.672Z"
   },
   {
    "duration": 59,
    "start_time": "2023-07-25T21:09:36.727Z"
   },
   {
    "duration": 305,
    "start_time": "2023-07-25T21:09:36.788Z"
   },
   {
    "duration": 399,
    "start_time": "2023-07-25T21:09:37.097Z"
   },
   {
    "duration": 7,
    "start_time": "2023-07-25T21:09:37.499Z"
   },
   {
    "duration": 18,
    "start_time": "2023-07-25T21:09:37.508Z"
   },
   {
    "duration": 5,
    "start_time": "2023-07-25T21:09:37.529Z"
   },
   {
    "duration": 30,
    "start_time": "2023-07-25T21:09:37.536Z"
   },
   {
    "duration": 6,
    "start_time": "2023-07-25T21:09:37.568Z"
   },
   {
    "duration": 13,
    "start_time": "2023-07-25T21:09:37.576Z"
   },
   {
    "duration": 217,
    "start_time": "2023-07-25T21:09:37.591Z"
   },
   {
    "duration": 6,
    "start_time": "2023-07-25T21:09:37.810Z"
   },
   {
    "duration": 17,
    "start_time": "2023-07-25T21:09:37.817Z"
   },
   {
    "duration": 5,
    "start_time": "2023-07-25T21:09:37.836Z"
   },
   {
    "duration": 10,
    "start_time": "2023-07-25T21:09:37.858Z"
   },
   {
    "duration": 6,
    "start_time": "2023-07-25T21:09:37.871Z"
   },
   {
    "duration": 16,
    "start_time": "2023-07-25T21:09:37.879Z"
   },
   {
    "duration": 8,
    "start_time": "2023-07-25T21:09:37.897Z"
   },
   {
    "duration": 205,
    "start_time": "2023-07-25T21:09:37.907Z"
   },
   {
    "duration": 6,
    "start_time": "2023-07-25T21:09:38.114Z"
   },
   {
    "duration": 167,
    "start_time": "2023-07-25T21:09:38.121Z"
   },
   {
    "duration": 7,
    "start_time": "2023-07-25T21:09:38.291Z"
   },
   {
    "duration": 293,
    "start_time": "2023-07-25T21:09:38.300Z"
   },
   {
    "duration": 227,
    "start_time": "2023-07-25T21:09:38.595Z"
   },
   {
    "duration": 258,
    "start_time": "2023-07-25T21:09:38.824Z"
   },
   {
    "duration": 161,
    "start_time": "2023-07-25T21:09:39.083Z"
   },
   {
    "duration": 328,
    "start_time": "2023-07-25T21:09:39.246Z"
   },
   {
    "duration": 154,
    "start_time": "2023-07-25T21:09:39.576Z"
   },
   {
    "duration": 39,
    "start_time": "2023-07-25T21:09:39.732Z"
   },
   {
    "duration": 19,
    "start_time": "2023-07-25T21:09:39.773Z"
   },
   {
    "duration": 4,
    "start_time": "2023-07-25T21:09:39.794Z"
   },
   {
    "duration": 4,
    "start_time": "2023-07-25T21:09:39.800Z"
   },
   {
    "duration": 4,
    "start_time": "2023-07-25T21:09:39.806Z"
   },
   {
    "duration": 6,
    "start_time": "2023-07-25T21:09:39.812Z"
   },
   {
    "duration": 41,
    "start_time": "2023-07-25T21:09:39.819Z"
   },
   {
    "duration": 19,
    "start_time": "2023-07-25T21:09:39.862Z"
   },
   {
    "duration": 16,
    "start_time": "2023-07-25T21:09:39.882Z"
   },
   {
    "duration": 485,
    "start_time": "2023-07-25T21:09:39.899Z"
   },
   {
    "duration": 161,
    "start_time": "2023-07-25T21:09:40.386Z"
   },
   {
    "duration": 536,
    "start_time": "2023-07-25T21:09:40.549Z"
   },
   {
    "duration": 165,
    "start_time": "2023-07-25T21:09:41.087Z"
   },
   {
    "duration": 67,
    "start_time": "2023-07-25T21:09:44.786Z"
   },
   {
    "duration": 18,
    "start_time": "2023-07-25T21:10:00.567Z"
   },
   {
    "duration": 8,
    "start_time": "2023-07-25T21:10:10.102Z"
   },
   {
    "duration": 13,
    "start_time": "2023-07-25T21:10:22.355Z"
   },
   {
    "duration": 16,
    "start_time": "2023-07-25T21:10:39.551Z"
   }
  ],
  "kernelspec": {
   "display_name": "Python 3 (ipykernel)",
   "language": "python",
   "name": "python3"
  },
  "language_info": {
   "codemirror_mode": {
    "name": "ipython",
    "version": 3
   },
   "file_extension": ".py",
   "mimetype": "text/x-python",
   "name": "python",
   "nbconvert_exporter": "python",
   "pygments_lexer": "ipython3",
   "version": "3.9.5"
  },
  "toc": {
   "base_numbering": 1,
   "nav_menu": {
    "height": "285px",
    "width": "419px"
   },
   "number_sections": true,
   "sideBar": true,
   "skip_h1_title": true,
   "title_cell": "Содержание",
   "title_sidebar": "Contents",
   "toc_cell": true,
   "toc_position": {
    "height": "calc(100% - 180px)",
    "left": "10px",
    "top": "150px",
    "width": "271px"
   },
   "toc_section_display": true,
   "toc_window_display": true
  }
 },
 "nbformat": 4,
 "nbformat_minor": 5
}
